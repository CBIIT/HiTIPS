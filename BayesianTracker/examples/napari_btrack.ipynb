{
 "cells": [
  {
   "cell_type": "markdown",
   "metadata": {},
   "source": [
    "# Using btrack with napari\n"
   ]
  },
  {
   "cell_type": "code",
   "execution_count": 1,
   "metadata": {},
   "outputs": [],
   "source": [
    "import os\n",
    "import json\n",
    "\n",
    "import btrack\n",
    "import napari\n",
    "\n",
    "import numpy as np\n",
    "import pandas as pd\n",
    "\n",
    "from skimage import io\n",
    "from napari.utils import nbscreenshot"
   ]
  },
  {
   "cell_type": "code",
   "execution_count": 2,
   "metadata": {},
   "outputs": [
    {
     "name": "stdout",
     "output_type": "stream",
     "text": [
      "0.4.0\n"
     ]
    }
   ],
   "source": [
    "print(btrack.__version__)"
   ]
  },
  {
   "cell_type": "code",
   "execution_count": 3,
   "metadata": {},
   "outputs": [],
   "source": [
    "objects = btrack.dataio.import_CSV('napari_example.csv')"
   ]
  },
  {
   "cell_type": "code",
   "execution_count": 4,
   "metadata": {},
   "outputs": [
    {
     "data": {
      "text/html": [
       "<table border=\"1\" class=\"dataframe\">\n",
       "  <thead>\n",
       "    <tr style=\"text-align: right;\">\n",
       "      <th></th>\n",
       "      <th>ID</th>\n",
       "      <th>x</th>\n",
       "      <th>y</th>\n",
       "      <th>z</th>\n",
       "      <th>t</th>\n",
       "      <th>dummy</th>\n",
       "      <th>states</th>\n",
       "      <th>label</th>\n",
       "      <th>prob</th>\n",
       "    </tr>\n",
       "  </thead>\n",
       "  <tbody>\n",
       "    <tr>\n",
       "      <th>0</th>\n",
       "      <td>0</td>\n",
       "      <td>517.559509</td>\n",
       "      <td>9.081633</td>\n",
       "      <td>0.0</td>\n",
       "      <td>0</td>\n",
       "      <td>False</td>\n",
       "      <td>0</td>\n",
       "      <td>0</td>\n",
       "      <td>0.0</td>\n",
       "    </tr>\n",
       "  </tbody>\n",
       "</table>"
      ],
      "text/plain": [
       "{'ID': 0, 'x': 517.5595092773438, 'y': 9.081632614135742, 'z': 0.0, 't': 0, 'dummy': False, 'states': 0, 'label': 0, 'prob': 0.0}"
      ]
     },
     "execution_count": 4,
     "metadata": {},
     "output_type": "execute_result"
    }
   ],
   "source": [
    "objects[0]"
   ]
  },
  {
   "cell_type": "code",
   "execution_count": 5,
   "metadata": {},
   "outputs": [
    {
     "name": "stderr",
     "output_type": "stream",
     "text": [
      "[INFO][2020/11/04 05:50:28 PM] Loaded btrack: /home/quantumjot/Dropbox/Code/py3/BayesianTracker/btrack/libs/libtracker.so\n",
      "[INFO][2020/11/04 05:50:28 PM] btrack (v0.4.0) library imported\n",
      "[INFO][2020/11/04 05:50:28 PM] Setting max XYZ search radius to: 100\n",
      "[INFO][2020/11/04 05:50:28 PM] Starting BayesianTracker session\n",
      "[INFO][2020/11/04 05:50:28 PM] Loading configuration file: ../models/cell_config.json\n",
      "[INFO][2020/11/04 05:50:28 PM] Loading motion model: b'cell_motion'\n",
      "[INFO][2020/11/04 05:50:28 PM] Objects are of type: <class 'list'>\n",
      "[INFO][2020/11/04 05:50:29 PM] Set volume to ((0, 1600), (0, 1200), (-100000.0, 100000.0))\n",
      "[INFO][2020/11/04 05:50:29 PM] Starting tracking... \n",
      "[INFO][2020/11/04 05:50:29 PM] Tracking objects in frames 0 to 99 (of 500)...\n",
      "[INFO][2020/11/04 05:50:29 PM]  - Timing (Bayesian updates: 1.13ms, Linking: 0.21ms)\n",
      "[INFO][2020/11/04 05:50:29 PM]  - Probabilities (Link: 1.00000, Lost: 0.48361)\n",
      "[INFO][2020/11/04 05:50:29 PM]  - Stats (Active: 78, Lost: 191, Conflicts resolved: 113)\n",
      "[INFO][2020/11/04 05:50:29 PM] Tracking objects in frames 100 to 199 (of 500)...\n",
      "[INFO][2020/11/04 05:50:29 PM]  - Timing (Bayesian updates: 1.30ms, Linking: 0.24ms)\n",
      "[INFO][2020/11/04 05:50:29 PM]  - Probabilities (Link: 1.00000, Lost: 0.65664)\n",
      "[INFO][2020/11/04 05:50:29 PM]  - Stats (Active: 83, Lost: 316, Conflicts resolved: 197)\n",
      "[INFO][2020/11/04 05:50:29 PM] Tracking objects in frames 200 to 299 (of 500)...\n",
      "[INFO][2020/11/04 05:50:29 PM]  - Timing (Bayesian updates: 2.67ms, Linking: 0.31ms)\n",
      "[INFO][2020/11/04 05:50:29 PM]  - Probabilities (Link: 1.00000, Lost: 0.26949)\n",
      "[INFO][2020/11/04 05:50:29 PM]  - Stats (Active: 113, Lost: 565, Conflicts resolved: 285)\n",
      "[INFO][2020/11/04 05:50:29 PM] Tracking objects in frames 300 to 399 (of 500)...\n",
      "[INFO][2020/11/04 05:50:29 PM]  - Timing (Bayesian updates: 4.06ms, Linking: 0.40ms)\n",
      "[INFO][2020/11/04 05:50:29 PM]  - Probabilities (Link: 0.99900, Lost: 0.99976)\n",
      "[INFO][2020/11/04 05:50:29 PM]  - Stats (Active: 140, Lost: 995, Conflicts resolved: 408)\n",
      "[INFO][2020/11/04 05:50:29 PM] Tracking objects in frames 400 to 499 (of 500)...\n",
      "[INFO][2020/11/04 05:50:30 PM]  - Timing (Bayesian updates: 7.40ms, Linking: 0.52ms)\n",
      "[INFO][2020/11/04 05:50:30 PM]  - Probabilities (Link: 1.00000, Lost: 1.00000)\n",
      "[INFO][2020/11/04 05:50:30 PM] SUCCESS.\n",
      "[INFO][2020/11/04 05:50:30 PM]  - Found 506 tracks in 500 frames (in 0.0s)\n",
      "[INFO][2020/11/04 05:50:30 PM]  - Inserted 100 dummy objects to fill tracking gaps\n",
      "[INFO][2020/11/04 05:50:30 PM] Loading hypothesis model: cell_hypothesis\n",
      "[INFO][2020/11/04 05:50:30 PM] Calculating hypotheses (relax: True)...\n",
      "[INFO][2020/11/04 05:50:30 PM] Setting up constraints matrix for global optimisation...\n",
      "[INFO][2020/11/04 05:50:30 PM] Optimizing...\n",
      "[INFO][2020/11/04 05:50:30 PM] Optimization complete. (Solution: optimal)\n",
      "[INFO][2020/11/04 05:50:30 PM]  - Fates.FALSE_POSITIVE: 32 (of 506)\n",
      "[INFO][2020/11/04 05:50:30 PM]  - Fates.LINK: 98 (of 348)\n",
      "[INFO][2020/11/04 05:50:30 PM]  - Fates.DIVIDE: 110 (of 121)\n",
      "[INFO][2020/11/04 05:50:30 PM]  - Fates.APOPTOSIS: 1 (of 2)\n",
      "[INFO][2020/11/04 05:50:30 PM]  - Fates.INITIALIZE_BORDER: 52 (of 96)\n",
      "[INFO][2020/11/04 05:50:30 PM]  - Fates.INITIALIZE_FRONT: 70 (of 72)\n",
      "[INFO][2020/11/04 05:50:30 PM]  - Fates.INITIALIZE_LAZY: 34 (of 338)\n",
      "[INFO][2020/11/04 05:50:30 PM]  - Fates.TERMINATE_BORDER: 52 (of 90)\n",
      "[INFO][2020/11/04 05:50:30 PM]  - Fates.TERMINATE_BACK: 182 (of 185)\n",
      "[INFO][2020/11/04 05:50:30 PM]  - Fates.TERMINATE_LAZY: 31 (of 231)\n",
      "[INFO][2020/11/04 05:50:30 PM]  - TOTAL: 1989 hypotheses\n",
      "[INFO][2020/11/04 05:50:30 PM] Completed optimization with 408 tracks\n",
      "[INFO][2020/11/04 05:50:30 PM] Ending BayesianTracker session\n"
     ]
    }
   ],
   "source": [
    "# initialise a tracker session using a context manager\n",
    "with btrack.BayesianTracker() as tracker:\n",
    "\n",
    "    # configure the tracker using a config file\n",
    "    tracker.configure_from_file('../models/cell_config.json')\n",
    "\n",
    "    # append the objects to be tracked\n",
    "    tracker.append(objects)\n",
    "\n",
    "    # set the volume (Z axis volume is set very large for 2D data)\n",
    "    tracker.volume=((0,1600), (0,1200), (-1e5,1e5))\n",
    "\n",
    "    # track them (in interactive mode)\n",
    "    tracker.track_interactive(step_size=100)\n",
    "\n",
    "    # generate hypotheses and run the global optimizer\n",
    "    tracker.optimize()\n",
    "\n",
    "#     tracker.export('./test3.hdf5', obj_type='obj_type_1')\n",
    "\n",
    "    # get the tracks in a format for napari visualization\n",
    "    data, properties, graph = tracker.to_napari(ndim=2)"
   ]
  },
  {
   "cell_type": "code",
   "execution_count": 6,
   "metadata": {},
   "outputs": [],
   "source": [
    "with napari.gui_qt():\n",
    "    viewer = napari.Viewer()\n",
    "    viewer.add_tracks(data, properties=properties, graph=graph, name='tracks')"
   ]
  },
  {
   "cell_type": "code",
   "execution_count": null,
   "metadata": {},
   "outputs": [],
   "source": []
  },
  {
   "cell_type": "code",
   "execution_count": null,
   "metadata": {},
   "outputs": [],
   "source": []
  }
 ],
 "metadata": {
  "kernelspec": {
   "display_name": "Python [conda env:napari-dev]",
   "language": "python",
   "name": "conda-env-napari-dev-py"
  },
  "language_info": {
   "codemirror_mode": {
    "name": "ipython",
    "version": 3
   },
   "file_extension": ".py",
   "mimetype": "text/x-python",
   "name": "python",
   "nbconvert_exporter": "python",
   "pygments_lexer": "ipython3",
   "version": "3.7.7"
  }
 },
 "nbformat": 4,
 "nbformat_minor": 1
}
