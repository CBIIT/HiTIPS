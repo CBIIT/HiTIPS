{
 "cells": [
  {
   "cell_type": "code",
   "execution_count": 1,
   "id": "2afeaccc-df58-4f4b-9df7-66ebd7ffc34f",
   "metadata": {
    "tags": []
   },
   "outputs": [
    {
     "name": "stderr",
     "output_type": "stream",
     "text": [
      "2024-08-18 17:21:22.234356: W tensorflow/stream_executor/platform/default/dso_loader.cc:64] Could not load dynamic library 'libcudart.so.11.0'; dlerror: libcudart.so.11.0: cannot open shared object file: No such file or directory; LD_LIBRARY_PATH: /home/nciadmin/anaconda3/envs/hitips_ims_clone/lib/python3.9/site-packages/cv2/../../lib64:\n",
      "2024-08-18 17:21:22.234378: I tensorflow/stream_executor/cuda/cudart_stub.cc:29] Ignore above cudart dlerror if you do not have a GPU set up on your machine.\n"
     ]
    }
   ],
   "source": [
    "import hitips.Analysis as analysis\n",
    "import hitips.BatchAnalyzer as batch_process\n",
    "import hitips.Cell_Spot_Tracker as cell_tracker\n",
    "import hitips.GUI_parameters as params\n",
    "import hitips.HiTIPS\n",
    "import hitips.MetaData_Reader as MDR\n",
    "import pandas as pd\n",
    "from headless_configs import headless_config_loader"
   ]
  },
  {
   "cell_type": "markdown",
   "id": "617b29d7-ce89-4c98-b875-5527a420bd0f",
   "metadata": {},
   "source": [
    "## Read the MetaData"
   ]
  },
  {
   "cell_type": "code",
   "execution_count": 2,
   "id": "52f72530-6556-49c3-9339-e35ce515e03c",
   "metadata": {
    "tags": []
   },
   "outputs": [
    {
     "name": "stdout",
     "output_type": "stream",
     "text": [
      "/data2/varun/HiTIPS_paper_data/fig_5/kpnb1/exp2\n"
     ]
    }
   ],
   "source": [
    "image_reader = MDR.ImageReader()\n",
    "meta_data_df = image_reader.READ_FROM_METADATA(\"/data2/varun/HiTIPS_paper_data/fig_5/kpnb1/exp2/MeasurementData.mlf\")"
   ]
  },
  {
   "cell_type": "markdown",
   "id": "9c1ec33b-2c97-4c79-b4cc-7d9d282efe4e",
   "metadata": {},
   "source": [
    "## Read the Configuratrion file"
   ]
  },
  {
   "cell_type": "code",
   "execution_count": 3,
   "id": "7f8958cc-26d5-4e66-9195-abb1c816b57f",
   "metadata": {
    "tags": []
   },
   "outputs": [],
   "source": [
    "batch_analyzer = batch_process.BatchAnalysis()\n",
    "config_file = \"/data2/test_images/test_headless/live_config.csv\"\n",
    "batch_analyzer.params_dict = headless_config_loader(config_file)"
   ]
  },
  {
   "cell_type": "markdown",
   "id": "e84b5c2b-8885-4843-9537-7a09ab7a894b",
   "metadata": {},
   "source": [
    "## Set output directory"
   ]
  },
  {
   "cell_type": "code",
   "execution_count": 5,
   "id": "54ccfc2d-d0a7-4d2a-82f3-6944b574aac0",
   "metadata": {},
   "outputs": [],
   "source": [
    "output_path = '/data2/test_images/test_headless'\n",
    "batch_analyzer.output_folder = output_path\n",
    "batch_analyzer.params_dict['Output_dir'] = output_path"
   ]
  },
  {
   "cell_type": "markdown",
   "id": "d65fc167-17d9-42f3-84ff-3920377c5c8d",
   "metadata": {},
   "source": [
    "## Run the analysis"
   ]
  },
  {
   "cell_type": "code",
   "execution_count": null,
   "id": "65377ba6-93c9-4994-9dda-d0a421d161b4",
   "metadata": {
    "collapsed": true,
    "jupyter": {
     "outputs_hidden": true
    },
    "tags": []
   },
   "outputs": [
    {
     "name": "stdout",
     "output_type": "stream",
     "text": [
      "/data2/varun/HiTIPS_paper_data/fig_5/kpnb1/exp2/AssayPlate_PerkinElmer_CellCarrier-384 Ultra_F11_T0001F002L01A01Z01C01.tif\n",
      "/data2/varun/HiTIPS_paper_data/fig_5/kpnb1/exp2/AssayPlate_PerkinElmer_CellCarrier-384 Ultra_F11_T0001F001L01A01Z01C01.tif\n",
      "/data2/varun/HiTIPS_paper_data/fig_5/kpnb1/exp2/AssayPlate_PerkinElmer_CellCarrier-384 Ultra_F11_T0001F004L01A01Z01C01.tif\n",
      "/data2/varun/HiTIPS_paper_data/fig_5/kpnb1/exp2/AssayPlate_PerkinElmer_CellCarrier-384 Ultra_F11_T0001F003L01A01Z01C01.tif\n",
      "/data2/varun/HiTIPS_paper_data/fig_5/kpnb1/exp2/AssayPlate_PerkinElmer_CellCarrier-384 Ultra_F11_T0001F006L01A01Z01C01.tif\n",
      "/data2/varun/HiTIPS_paper_data/fig_5/kpnb1/exp2/AssayPlate_PerkinElmer_CellCarrier-384 Ultra_F11_T0001F005L01A01Z01C01.tif\n",
      "/data2/varun/HiTIPS_paper_data/fig_5/kpnb1/exp2/AssayPlate_PerkinElmer_CellCarrier-384 Ultra_F11_T0001F007L01A01Z01C01.tif\n",
      "/data2/varun/HiTIPS_paper_data/fig_5/kpnb1/exp2/AssayPlate_PerkinElmer_CellCarrier-384 Ultra_F11_T0001F008L01A01Z01C01.tif\n",
      "/data2/varun/HiTIPS_paper_data/fig_5/kpnb1/exp2/AssayPlate_PerkinElmer_CellCarrier-384 Ultra_F11_T0002F001L01A01Z01C01.tif\n",
      "/data2/varun/HiTIPS_paper_data/fig_5/kpnb1/exp2/AssayPlate_PerkinElmer_CellCarrier-384 Ultra_F11_T0002F002L01A01Z01C01.tif\n",
      "/data2/varun/HiTIPS_paper_data/fig_5/kpnb1/exp2/AssayPlate_PerkinElmer_CellCarrier-384 Ultra_F11_T0001F009L01A01Z01C01.tif\n",
      "/data2/varun/HiTIPS_paper_data/fig_5/kpnb1/exp2/AssayPlate_PerkinElmer_CellCarrier-384 Ultra_F11_T0002F003L01A01Z01C01.tif\n",
      "/data2/varun/HiTIPS_paper_data/fig_5/kpnb1/exp2/AssayPlate_PerkinElmer_CellCarrier-384 Ultra_F11_T0002F004L01A01Z01C01.tif\n",
      "/data2/varun/HiTIPS_paper_data/fig_5/kpnb1/exp2/AssayPlate_PerkinElmer_CellCarrier-384 Ultra_F11_T0002F007L01A01Z01C01.tif\n",
      "/data2/varun/HiTIPS_paper_data/fig_5/kpnb1/exp2/AssayPlate_PerkinElmer_CellCarrier-384 Ultra_F11_T0002F005L01A01Z01C01.tif\n",
      "/data2/varun/HiTIPS_paper_data/fig_5/kpnb1/exp2/AssayPlate_PerkinElmer_CellCarrier-384 Ultra_F11_T0002F006L01A01Z01C01.tif\n",
      "/data2/varun/HiTIPS_paper_data/fig_5/kpnb1/exp2/AssayPlate_PerkinElmer_CellCarrier-384 Ultra_F11_T0002F009L01A01Z01C01.tif\n",
      "/data2/varun/HiTIPS_paper_data/fig_5/kpnb1/exp2/AssayPlate_PerkinElmer_CellCarrier-384 Ultra_F11_T0003F002L01A01Z01C01.tif\n",
      "/data2/varun/HiTIPS_paper_data/fig_5/kpnb1/exp2/AssayPlate_PerkinElmer_CellCarrier-384 Ultra_F11_T0002F008L01A01Z01C01.tif\n",
      "/data2/varun/HiTIPS_paper_data/fig_5/kpnb1/exp2/AssayPlate_PerkinElmer_CellCarrier-384 Ultra_F11_T0003F001L01A01Z01C01.tif\n",
      "/data2/varun/HiTIPS_paper_data/fig_5/kpnb1/exp2/AssayPlate_PerkinElmer_CellCarrier-384 Ultra_F11_T0003F004L01A01Z01C01.tif\n",
      "/data2/varun/HiTIPS_paper_data/fig_5/kpnb1/exp2/AssayPlate_PerkinElmer_CellCarrier-384 Ultra_F11_T0003F005L01A01Z01C01.tif\n",
      "/data2/varun/HiTIPS_paper_data/fig_5/kpnb1/exp2/AssayPlate_PerkinElmer_CellCarrier-384 Ultra_F11_T0003F006L01A01Z01C01.tif\n",
      "/data2/varun/HiTIPS_paper_data/fig_5/kpnb1/exp2/AssayPlate_PerkinElmer_CellCarrier-384 Ultra_F11_T0003F003L01A01Z01C01.tif\n",
      "/data2/varun/HiTIPS_paper_data/fig_5/kpnb1/exp2/AssayPlate_PerkinElmer_CellCarrier-384 Ultra_F11_T0003F008L01A01Z01C01.tif\n",
      "/data2/varun/HiTIPS_paper_data/fig_5/kpnb1/exp2/AssayPlate_PerkinElmer_CellCarrier-384 Ultra_F11_T0003F009L01A01Z01C01.tif\n",
      "/data2/varun/HiTIPS_paper_data/fig_5/kpnb1/exp2/AssayPlate_PerkinElmer_CellCarrier-384 Ultra_F11_T0003F007L01A01Z01C01.tif\n",
      "/data2/varun/HiTIPS_paper_data/fig_5/kpnb1/exp2/AssayPlate_PerkinElmer_CellCarrier-384 Ultra_F11_T0004F001L01A01Z01C01.tif\n",
      "/data2/varun/HiTIPS_paper_data/fig_5/kpnb1/exp2/AssayPlate_PerkinElmer_CellCarrier-384 Ultra_F11_T0004F002L01A01Z01C01.tif\n",
      "/data2/varun/HiTIPS_paper_data/fig_5/kpnb1/exp2/AssayPlate_PerkinElmer_CellCarrier-384 Ultra_F11_T0004F004L01A01Z01C01.tif\n",
      "/data2/varun/HiTIPS_paper_data/fig_5/kpnb1/exp2/AssayPlate_PerkinElmer_CellCarrier-384 Ultra_F11_T0004F003L01A01Z01C01.tif\n",
      "/data2/varun/HiTIPS_paper_data/fig_5/kpnb1/exp2/AssayPlate_PerkinElmer_CellCarrier-384 Ultra_F11_T0004F005L01A01Z01C01.tif\n",
      "/data2/varun/HiTIPS_paper_data/fig_5/kpnb1/exp2/AssayPlate_PerkinElmer_CellCarrier-384 Ultra_F11_T0004F007L01A01Z01C01.tif\n",
      "/data2/varun/HiTIPS_paper_data/fig_5/kpnb1/exp2/AssayPlate_PerkinElmer_CellCarrier-384 Ultra_F11_T0004F009L01A01Z01C01.tif\n",
      "/data2/varun/HiTIPS_paper_data/fig_5/kpnb1/exp2/AssayPlate_PerkinElmer_CellCarrier-384 Ultra_F11_T0004F008L01A01Z01C01.tif\n",
      "/data2/varun/HiTIPS_paper_data/fig_5/kpnb1/exp2/AssayPlate_PerkinElmer_CellCarrier-384 Ultra_F11_T0004F006L01A01Z01C01.tif\n",
      "/data2/varun/HiTIPS_paper_data/fig_5/kpnb1/exp2/AssayPlate_PerkinElmer_CellCarrier-384 Ultra_F11_T0005F003L01A01Z01C01.tif\n",
      "/data2/varun/HiTIPS_paper_data/fig_5/kpnb1/exp2/AssayPlate_PerkinElmer_CellCarrier-384 Ultra_F11_T0005F001L01A01Z01C01.tif\n",
      "/data2/varun/HiTIPS_paper_data/fig_5/kpnb1/exp2/AssayPlate_PerkinElmer_CellCarrier-384 Ultra_F11_T0005F002L01A01Z01C01.tif\n",
      "/data2/varun/HiTIPS_paper_data/fig_5/kpnb1/exp2/AssayPlate_PerkinElmer_CellCarrier-384 Ultra_F11_T0005F004L01A01Z01C01.tif\n",
      "/data2/varun/HiTIPS_paper_data/fig_5/kpnb1/exp2/AssayPlate_PerkinElmer_CellCarrier-384 Ultra_F11_T0005F007L01A01Z01C01.tif\n",
      "/data2/varun/HiTIPS_paper_data/fig_5/kpnb1/exp2/AssayPlate_PerkinElmer_CellCarrier-384 Ultra_F11_T0005F006L01A01Z01C01.tif\n",
      "/data2/varun/HiTIPS_paper_data/fig_5/kpnb1/exp2/AssayPlate_PerkinElmer_CellCarrier-384 Ultra_F11_T0005F008L01A01Z01C01.tif\n",
      "/data2/varun/HiTIPS_paper_data/fig_5/kpnb1/exp2/AssayPlate_PerkinElmer_CellCarrier-384 Ultra_F11_T0005F005L01A01Z01C01.tif\n",
      "/data2/varun/HiTIPS_paper_data/fig_5/kpnb1/exp2/AssayPlate_PerkinElmer_CellCarrier-384 Ultra_F11_T0006F001L01A01Z01C01.tif\n",
      "/data2/varun/HiTIPS_paper_data/fig_5/kpnb1/exp2/AssayPlate_PerkinElmer_CellCarrier-384 Ultra_F11_T0006F002L01A01Z01C01.tif\n",
      "/data2/varun/HiTIPS_paper_data/fig_5/kpnb1/exp2/AssayPlate_PerkinElmer_CellCarrier-384 Ultra_F11_T0005F009L01A01Z01C01.tif\n",
      "/data2/varun/HiTIPS_paper_data/fig_5/kpnb1/exp2/AssayPlate_PerkinElmer_CellCarrier-384 Ultra_F11_T0006F003L01A01Z01C01.tif\n",
      "/data2/varun/HiTIPS_paper_data/fig_5/kpnb1/exp2/AssayPlate_PerkinElmer_CellCarrier-384 Ultra_F11_T0006F007L01A01Z01C01.tif\n",
      "/data2/varun/HiTIPS_paper_data/fig_5/kpnb1/exp2/AssayPlate_PerkinElmer_CellCarrier-384 Ultra_F11_T0006F004L01A01Z01C01.tif\n",
      "/data2/varun/HiTIPS_paper_data/fig_5/kpnb1/exp2/AssayPlate_PerkinElmer_CellCarrier-384 Ultra_F11_T0006F005L01A01Z01C01.tif\n",
      "/data2/varun/HiTIPS_paper_data/fig_5/kpnb1/exp2/AssayPlate_PerkinElmer_CellCarrier-384 Ultra_F11_T0006F006L01A01Z01C01.tif\n",
      "/data2/varun/HiTIPS_paper_data/fig_5/kpnb1/exp2/AssayPlate_PerkinElmer_CellCarrier-384 Ultra_F11_T0006F009L01A01Z01C01.tif\n",
      "/data2/varun/HiTIPS_paper_data/fig_5/kpnb1/exp2/AssayPlate_PerkinElmer_CellCarrier-384 Ultra_F11_T0007F002L01A01Z01C01.tif\n",
      "/data2/varun/HiTIPS_paper_data/fig_5/kpnb1/exp2/AssayPlate_PerkinElmer_CellCarrier-384 Ultra_F11_T0006F008L01A01Z01C01.tif\n",
      "/data2/varun/HiTIPS_paper_data/fig_5/kpnb1/exp2/AssayPlate_PerkinElmer_CellCarrier-384 Ultra_F11_T0007F001L01A01Z01C01.tif\n",
      "/data2/varun/HiTIPS_paper_data/fig_5/kpnb1/exp2/AssayPlate_PerkinElmer_CellCarrier-384 Ultra_F11_T0007F005L01A01Z01C01.tif\n",
      "/data2/varun/HiTIPS_paper_data/fig_5/kpnb1/exp2/AssayPlate_PerkinElmer_CellCarrier-384 Ultra_F11_T0007F004L01A01Z01C01.tif\n",
      "/data2/varun/HiTIPS_paper_data/fig_5/kpnb1/exp2/AssayPlate_PerkinElmer_CellCarrier-384 Ultra_F11_T0007F006L01A01Z01C01.tif\n",
      "/data2/varun/HiTIPS_paper_data/fig_5/kpnb1/exp2/AssayPlate_PerkinElmer_CellCarrier-384 Ultra_F11_T0007F003L01A01Z01C01.tif\n",
      "/data2/varun/HiTIPS_paper_data/fig_5/kpnb1/exp2/AssayPlate_PerkinElmer_CellCarrier-384 Ultra_F11_T0007F009L01A01Z01C01.tif\n",
      "/data2/varun/HiTIPS_paper_data/fig_5/kpnb1/exp2/AssayPlate_PerkinElmer_CellCarrier-384 Ultra_F11_T0008F001L01A01Z01C01.tif\n",
      "/data2/varun/HiTIPS_paper_data/fig_5/kpnb1/exp2/AssayPlate_PerkinElmer_CellCarrier-384 Ultra_F11_T0007F007L01A01Z01C01.tif\n",
      "/data2/varun/HiTIPS_paper_data/fig_5/kpnb1/exp2/AssayPlate_PerkinElmer_CellCarrier-384 Ultra_F11_T0007F008L01A01Z01C01.tif\n",
      "/data2/varun/HiTIPS_paper_data/fig_5/kpnb1/exp2/AssayPlate_PerkinElmer_CellCarrier-384 Ultra_F11_T0008F002L01A01Z01C01.tif\n",
      "/data2/varun/HiTIPS_paper_data/fig_5/kpnb1/exp2/AssayPlate_PerkinElmer_CellCarrier-384 Ultra_F11_T0008F004L01A01Z01C01.tif\n",
      "/data2/varun/HiTIPS_paper_data/fig_5/kpnb1/exp2/AssayPlate_PerkinElmer_CellCarrier-384 Ultra_F11_T0008F003L01A01Z01C01.tif\n",
      "/data2/varun/HiTIPS_paper_data/fig_5/kpnb1/exp2/AssayPlate_PerkinElmer_CellCarrier-384 Ultra_F11_T0008F005L01A01Z01C01.tif\n",
      "/data2/varun/HiTIPS_paper_data/fig_5/kpnb1/exp2/AssayPlate_PerkinElmer_CellCarrier-384 Ultra_F11_T0008F007L01A01Z01C01.tif\n",
      "/data2/varun/HiTIPS_paper_data/fig_5/kpnb1/exp2/AssayPlate_PerkinElmer_CellCarrier-384 Ultra_F11_T0008F009L01A01Z01C01.tif\n",
      "/data2/varun/HiTIPS_paper_data/fig_5/kpnb1/exp2/AssayPlate_PerkinElmer_CellCarrier-384 Ultra_F11_T0008F008L01A01Z01C01.tif\n",
      "/data2/varun/HiTIPS_paper_data/fig_5/kpnb1/exp2/AssayPlate_PerkinElmer_CellCarrier-384 Ultra_F11_T0008F006L01A01Z01C01.tif\n",
      "/data2/varun/HiTIPS_paper_data/fig_5/kpnb1/exp2/AssayPlate_PerkinElmer_CellCarrier-384 Ultra_F11_T0009F002L01A01Z01C01.tif\n",
      "/data2/varun/HiTIPS_paper_data/fig_5/kpnb1/exp2/AssayPlate_PerkinElmer_CellCarrier-384 Ultra_F11_T0009F001L01A01Z01C01.tif\n",
      "/data2/varun/HiTIPS_paper_data/fig_5/kpnb1/exp2/AssayPlate_PerkinElmer_CellCarrier-384 Ultra_F11_T0009F003L01A01Z01C01.tif\n",
      "/data2/varun/HiTIPS_paper_data/fig_5/kpnb1/exp2/AssayPlate_PerkinElmer_CellCarrier-384 Ultra_F11_T0009F004L01A01Z01C01.tif\n",
      "/data2/varun/HiTIPS_paper_data/fig_5/kpnb1/exp2/AssayPlate_PerkinElmer_CellCarrier-384 Ultra_F11_T0009F006L01A01Z01C01.tif\n",
      "/data2/varun/HiTIPS_paper_data/fig_5/kpnb1/exp2/AssayPlate_PerkinElmer_CellCarrier-384 Ultra_F11_T0009F005L01A01Z01C01.tif\n",
      "/data2/varun/HiTIPS_paper_data/fig_5/kpnb1/exp2/AssayPlate_PerkinElmer_CellCarrier-384 Ultra_F11_T0009F007L01A01Z01C01.tif\n",
      "/data2/varun/HiTIPS_paper_data/fig_5/kpnb1/exp2/AssayPlate_PerkinElmer_CellCarrier-384 Ultra_F11_T0009F008L01A01Z01C01.tif\n",
      "/data2/varun/HiTIPS_paper_data/fig_5/kpnb1/exp2/AssayPlate_PerkinElmer_CellCarrier-384 Ultra_F11_T0010F001L01A01Z01C01.tif\n",
      "/data2/varun/HiTIPS_paper_data/fig_5/kpnb1/exp2/AssayPlate_PerkinElmer_CellCarrier-384 Ultra_F11_T0009F009L01A01Z01C01.tif\n",
      "/data2/varun/HiTIPS_paper_data/fig_5/kpnb1/exp2/AssayPlate_PerkinElmer_CellCarrier-384 Ultra_F11_T0010F002L01A01Z01C01.tif\n",
      "/data2/varun/HiTIPS_paper_data/fig_5/kpnb1/exp2/AssayPlate_PerkinElmer_CellCarrier-384 Ultra_F11_T0010F003L01A01Z01C01.tif\n",
      "/data2/varun/HiTIPS_paper_data/fig_5/kpnb1/exp2/AssayPlate_PerkinElmer_CellCarrier-384 Ultra_F11_T0010F005L01A01Z01C01.tif\n",
      "/data2/varun/HiTIPS_paper_data/fig_5/kpnb1/exp2/AssayPlate_PerkinElmer_CellCarrier-384 Ultra_F11_T0010F007L01A01Z01C01.tif\n",
      "/data2/varun/HiTIPS_paper_data/fig_5/kpnb1/exp2/AssayPlate_PerkinElmer_CellCarrier-384 Ultra_F11_T0010F006L01A01Z01C01.tif\n",
      "/data2/varun/HiTIPS_paper_data/fig_5/kpnb1/exp2/AssayPlate_PerkinElmer_CellCarrier-384 Ultra_F11_T0010F004L01A01Z01C01.tif\n",
      "/data2/varun/HiTIPS_paper_data/fig_5/kpnb1/exp2/AssayPlate_PerkinElmer_CellCarrier-384 Ultra_F11_T0010F009L01A01Z01C01.tif\n",
      "/data2/varun/HiTIPS_paper_data/fig_5/kpnb1/exp2/AssayPlate_PerkinElmer_CellCarrier-384 Ultra_F11_T0011F001L01A01Z01C01.tif\n",
      "/data2/varun/HiTIPS_paper_data/fig_5/kpnb1/exp2/AssayPlate_PerkinElmer_CellCarrier-384 Ultra_F11_T0011F002L01A01Z01C01.tif\n",
      "/data2/varun/HiTIPS_paper_data/fig_5/kpnb1/exp2/AssayPlate_PerkinElmer_CellCarrier-384 Ultra_F11_T0010F008L01A01Z01C01.tif\n",
      "/data2/varun/HiTIPS_paper_data/fig_5/kpnb1/exp2/AssayPlate_PerkinElmer_CellCarrier-384 Ultra_F11_T0011F004L01A01Z01C01.tif\n",
      "/data2/varun/HiTIPS_paper_data/fig_5/kpnb1/exp2/AssayPlate_PerkinElmer_CellCarrier-384 Ultra_F11_T0011F005L01A01Z01C01.tif\n",
      "/data2/varun/HiTIPS_paper_data/fig_5/kpnb1/exp2/AssayPlate_PerkinElmer_CellCarrier-384 Ultra_F11_T0011F003L01A01Z01C01.tif\n",
      "/data2/varun/HiTIPS_paper_data/fig_5/kpnb1/exp2/AssayPlate_PerkinElmer_CellCarrier-384 Ultra_F11_T0011F006L01A01Z01C01.tif\n",
      "/data2/varun/HiTIPS_paper_data/fig_5/kpnb1/exp2/AssayPlate_PerkinElmer_CellCarrier-384 Ultra_F11_T0011F008L01A01Z01C01.tif\n",
      "/data2/varun/HiTIPS_paper_data/fig_5/kpnb1/exp2/AssayPlate_PerkinElmer_CellCarrier-384 Ultra_F11_T0012F001L01A01Z01C01.tif\n",
      "/data2/varun/HiTIPS_paper_data/fig_5/kpnb1/exp2/AssayPlate_PerkinElmer_CellCarrier-384 Ultra_F11_T0011F007L01A01Z01C01.tif\n",
      "/data2/varun/HiTIPS_paper_data/fig_5/kpnb1/exp2/AssayPlate_PerkinElmer_CellCarrier-384 Ultra_F11_T0011F009L01A01Z01C01.tif\n",
      "/data2/varun/HiTIPS_paper_data/fig_5/kpnb1/exp2/AssayPlate_PerkinElmer_CellCarrier-384 Ultra_F11_T0012F002L01A01Z01C01.tif\n",
      "/data2/varun/HiTIPS_paper_data/fig_5/kpnb1/exp2/AssayPlate_PerkinElmer_CellCarrier-384 Ultra_F11_T0012F005L01A01Z01C01.tif\n",
      "/data2/varun/HiTIPS_paper_data/fig_5/kpnb1/exp2/AssayPlate_PerkinElmer_CellCarrier-384 Ultra_F11_T0012F004L01A01Z01C01.tif\n",
      "/data2/varun/HiTIPS_paper_data/fig_5/kpnb1/exp2/AssayPlate_PerkinElmer_CellCarrier-384 Ultra_F11_T0012F003L01A01Z01C01.tif\n",
      "/data2/varun/HiTIPS_paper_data/fig_5/kpnb1/exp2/AssayPlate_PerkinElmer_CellCarrier-384 Ultra_F11_T0012F008L01A01Z01C01.tif\n",
      "/data2/varun/HiTIPS_paper_data/fig_5/kpnb1/exp2/AssayPlate_PerkinElmer_CellCarrier-384 Ultra_F11_T0012F009L01A01Z01C01.tif\n",
      "/data2/varun/HiTIPS_paper_data/fig_5/kpnb1/exp2/AssayPlate_PerkinElmer_CellCarrier-384 Ultra_F11_T0012F007L01A01Z01C01.tif\n",
      "/data2/varun/HiTIPS_paper_data/fig_5/kpnb1/exp2/AssayPlate_PerkinElmer_CellCarrier-384 Ultra_F11_T0012F006L01A01Z01C01.tif\n",
      "/data2/varun/HiTIPS_paper_data/fig_5/kpnb1/exp2/AssayPlate_PerkinElmer_CellCarrier-384 Ultra_F11_T0013F002L01A01Z01C01.tif\n",
      "/data2/varun/HiTIPS_paper_data/fig_5/kpnb1/exp2/AssayPlate_PerkinElmer_CellCarrier-384 Ultra_F11_T0013F001L01A01Z01C01.tif/data2/varun/HiTIPS_paper_data/fig_5/kpnb1/exp2/AssayPlate_PerkinElmer_CellCarrier-384 Ultra_F11_T0013F004L01A01Z01C01.tif\n",
      "\n",
      "/data2/varun/HiTIPS_paper_data/fig_5/kpnb1/exp2/AssayPlate_PerkinElmer_CellCarrier-384 Ultra_F11_T0013F003L01A01Z01C01.tif\n",
      "/data2/varun/HiTIPS_paper_data/fig_5/kpnb1/exp2/AssayPlate_PerkinElmer_CellCarrier-384 Ultra_F11_T0013F008L01A01Z01C01.tif\n",
      "/data2/varun/HiTIPS_paper_data/fig_5/kpnb1/exp2/AssayPlate_PerkinElmer_CellCarrier-384 Ultra_F11_T0013F005L01A01Z01C01.tif\n",
      "/data2/varun/HiTIPS_paper_data/fig_5/kpnb1/exp2/AssayPlate_PerkinElmer_CellCarrier-384 Ultra_F11_T0013F006L01A01Z01C01.tif\n",
      "/data2/varun/HiTIPS_paper_data/fig_5/kpnb1/exp2/AssayPlate_PerkinElmer_CellCarrier-384 Ultra_F11_T0013F007L01A01Z01C01.tif\n",
      "/data2/varun/HiTIPS_paper_data/fig_5/kpnb1/exp2/AssayPlate_PerkinElmer_CellCarrier-384 Ultra_F11_T0014F002L01A01Z01C01.tif\n",
      "/data2/varun/HiTIPS_paper_data/fig_5/kpnb1/exp2/AssayPlate_PerkinElmer_CellCarrier-384 Ultra_F11_T0014F001L01A01Z01C01.tif\n",
      "/data2/varun/HiTIPS_paper_data/fig_5/kpnb1/exp2/AssayPlate_PerkinElmer_CellCarrier-384 Ultra_F11_T0013F009L01A01Z01C01.tif\n",
      "/data2/varun/HiTIPS_paper_data/fig_5/kpnb1/exp2/AssayPlate_PerkinElmer_CellCarrier-384 Ultra_F11_T0014F003L01A01Z01C01.tif\n",
      "/data2/varun/HiTIPS_paper_data/fig_5/kpnb1/exp2/AssayPlate_PerkinElmer_CellCarrier-384 Ultra_F11_T0014F005L01A01Z01C01.tif\n",
      "/data2/varun/HiTIPS_paper_data/fig_5/kpnb1/exp2/AssayPlate_PerkinElmer_CellCarrier-384 Ultra_F11_T0014F006L01A01Z01C01.tif\n",
      "/data2/varun/HiTIPS_paper_data/fig_5/kpnb1/exp2/AssayPlate_PerkinElmer_CellCarrier-384 Ultra_F11_T0014F007L01A01Z01C01.tif\n",
      "/data2/varun/HiTIPS_paper_data/fig_5/kpnb1/exp2/AssayPlate_PerkinElmer_CellCarrier-384 Ultra_F11_T0014F004L01A01Z01C01.tif\n",
      "/data2/varun/HiTIPS_paper_data/fig_5/kpnb1/exp2/AssayPlate_PerkinElmer_CellCarrier-384 Ultra_F11_T0014F008L01A01Z01C01.tif\n",
      "/data2/varun/HiTIPS_paper_data/fig_5/kpnb1/exp2/AssayPlate_PerkinElmer_CellCarrier-384 Ultra_F11_T0014F009L01A01Z01C01.tif\n",
      "/data2/varun/HiTIPS_paper_data/fig_5/kpnb1/exp2/AssayPlate_PerkinElmer_CellCarrier-384 Ultra_F11_T0015F001L01A01Z01C01.tif\n",
      "/data2/varun/HiTIPS_paper_data/fig_5/kpnb1/exp2/AssayPlate_PerkinElmer_CellCarrier-384 Ultra_F11_T0015F002L01A01Z01C01.tif\n",
      "/data2/varun/HiTIPS_paper_data/fig_5/kpnb1/exp2/AssayPlate_PerkinElmer_CellCarrier-384 Ultra_F11_T0015F003L01A01Z01C01.tif\n",
      "/data2/varun/HiTIPS_paper_data/fig_5/kpnb1/exp2/AssayPlate_PerkinElmer_CellCarrier-384 Ultra_F11_T0015F004L01A01Z01C01.tif\n",
      "/data2/varun/HiTIPS_paper_data/fig_5/kpnb1/exp2/AssayPlate_PerkinElmer_CellCarrier-384 Ultra_F11_T0015F005L01A01Z01C01.tif\n",
      "/data2/varun/HiTIPS_paper_data/fig_5/kpnb1/exp2/AssayPlate_PerkinElmer_CellCarrier-384 Ultra_F11_T0015F006L01A01Z01C01.tif\n",
      "/data2/varun/HiTIPS_paper_data/fig_5/kpnb1/exp2/AssayPlate_PerkinElmer_CellCarrier-384 Ultra_F11_T0015F008L01A01Z01C01.tif\n",
      "/data2/varun/HiTIPS_paper_data/fig_5/kpnb1/exp2/AssayPlate_PerkinElmer_CellCarrier-384 Ultra_F11_T0016F001L01A01Z01C01.tif\n",
      "/data2/varun/HiTIPS_paper_data/fig_5/kpnb1/exp2/AssayPlate_PerkinElmer_CellCarrier-384 Ultra_F11_T0015F007L01A01Z01C01.tif\n",
      "/data2/varun/HiTIPS_paper_data/fig_5/kpnb1/exp2/AssayPlate_PerkinElmer_CellCarrier-384 Ultra_F11_T0015F009L01A01Z01C01.tif\n",
      "/data2/varun/HiTIPS_paper_data/fig_5/kpnb1/exp2/AssayPlate_PerkinElmer_CellCarrier-384 Ultra_F11_T0016F002L01A01Z01C01.tif\n",
      "/data2/varun/HiTIPS_paper_data/fig_5/kpnb1/exp2/AssayPlate_PerkinElmer_CellCarrier-384 Ultra_F11_T0016F003L01A01Z01C01.tif\n",
      "/data2/varun/HiTIPS_paper_data/fig_5/kpnb1/exp2/AssayPlate_PerkinElmer_CellCarrier-384 Ultra_F11_T0016F005L01A01Z01C01.tif\n",
      "/data2/varun/HiTIPS_paper_data/fig_5/kpnb1/exp2/AssayPlate_PerkinElmer_CellCarrier-384 Ultra_F11_T0016F004L01A01Z01C01.tif\n",
      "/data2/varun/HiTIPS_paper_data/fig_5/kpnb1/exp2/AssayPlate_PerkinElmer_CellCarrier-384 Ultra_F11_T0016F007L01A01Z01C01.tif\n",
      "/data2/varun/HiTIPS_paper_data/fig_5/kpnb1/exp2/AssayPlate_PerkinElmer_CellCarrier-384 Ultra_F11_T0016F008L01A01Z01C01.tif\n",
      "/data2/varun/HiTIPS_paper_data/fig_5/kpnb1/exp2/AssayPlate_PerkinElmer_CellCarrier-384 Ultra_F11_T0016F009L01A01Z01C01.tif\n",
      "/data2/varun/HiTIPS_paper_data/fig_5/kpnb1/exp2/AssayPlate_PerkinElmer_CellCarrier-384 Ultra_F11_T0016F006L01A01Z01C01.tif\n",
      "/data2/varun/HiTIPS_paper_data/fig_5/kpnb1/exp2/AssayPlate_PerkinElmer_CellCarrier-384 Ultra_F11_T0017F001L01A01Z01C01.tif\n",
      "/data2/varun/HiTIPS_paper_data/fig_5/kpnb1/exp2/AssayPlate_PerkinElmer_CellCarrier-384 Ultra_F11_T0017F002L01A01Z01C01.tif\n",
      "/data2/varun/HiTIPS_paper_data/fig_5/kpnb1/exp2/AssayPlate_PerkinElmer_CellCarrier-384 Ultra_F11_T0017F003L01A01Z01C01.tif\n",
      "/data2/varun/HiTIPS_paper_data/fig_5/kpnb1/exp2/AssayPlate_PerkinElmer_CellCarrier-384 Ultra_F11_T0017F004L01A01Z01C01.tif\n",
      "/data2/varun/HiTIPS_paper_data/fig_5/kpnb1/exp2/AssayPlate_PerkinElmer_CellCarrier-384 Ultra_F11_T0017F006L01A01Z01C01.tif\n",
      "/data2/varun/HiTIPS_paper_data/fig_5/kpnb1/exp2/AssayPlate_PerkinElmer_CellCarrier-384 Ultra_F11_T0017F005L01A01Z01C01.tif\n",
      "/data2/varun/HiTIPS_paper_data/fig_5/kpnb1/exp2/AssayPlate_PerkinElmer_CellCarrier-384 Ultra_F11_T0017F007L01A01Z01C01.tif\n",
      "/data2/varun/HiTIPS_paper_data/fig_5/kpnb1/exp2/AssayPlate_PerkinElmer_CellCarrier-384 Ultra_F11_T0017F008L01A01Z01C01.tif\n",
      "/data2/varun/HiTIPS_paper_data/fig_5/kpnb1/exp2/AssayPlate_PerkinElmer_CellCarrier-384 Ultra_F11_T0018F001L01A01Z01C01.tif\n",
      "/data2/varun/HiTIPS_paper_data/fig_5/kpnb1/exp2/AssayPlate_PerkinElmer_CellCarrier-384 Ultra_F11_T0018F002L01A01Z01C01.tif\n",
      "/data2/varun/HiTIPS_paper_data/fig_5/kpnb1/exp2/AssayPlate_PerkinElmer_CellCarrier-384 Ultra_F11_T0018F003L01A01Z01C01.tif\n",
      "/data2/varun/HiTIPS_paper_data/fig_5/kpnb1/exp2/AssayPlate_PerkinElmer_CellCarrier-384 Ultra_F11_T0017F009L01A01Z01C01.tif\n",
      "/data2/varun/HiTIPS_paper_data/fig_5/kpnb1/exp2/AssayPlate_PerkinElmer_CellCarrier-384 Ultra_F11_T0018F005L01A01Z01C01.tif\n",
      "/data2/varun/HiTIPS_paper_data/fig_5/kpnb1/exp2/AssayPlate_PerkinElmer_CellCarrier-384 Ultra_F11_T0018F004L01A01Z01C01.tif\n",
      "/data2/varun/HiTIPS_paper_data/fig_5/kpnb1/exp2/AssayPlate_PerkinElmer_CellCarrier-384 Ultra_F11_T0018F007L01A01Z01C01.tif\n",
      "/data2/varun/HiTIPS_paper_data/fig_5/kpnb1/exp2/AssayPlate_PerkinElmer_CellCarrier-384 Ultra_F11_T0018F006L01A01Z01C01.tif\n",
      "/data2/varun/HiTIPS_paper_data/fig_5/kpnb1/exp2/AssayPlate_PerkinElmer_CellCarrier-384 Ultra_F11_T0019F002L01A01Z01C01.tif\n",
      "/data2/varun/HiTIPS_paper_data/fig_5/kpnb1/exp2/AssayPlate_PerkinElmer_CellCarrier-384 Ultra_F11_T0018F009L01A01Z01C01.tif\n",
      "/data2/varun/HiTIPS_paper_data/fig_5/kpnb1/exp2/AssayPlate_PerkinElmer_CellCarrier-384 Ultra_F11_T0018F008L01A01Z01C01.tif\n",
      "/data2/varun/HiTIPS_paper_data/fig_5/kpnb1/exp2/AssayPlate_PerkinElmer_CellCarrier-384 Ultra_F11_T0019F001L01A01Z01C01.tif\n",
      "/data2/varun/HiTIPS_paper_data/fig_5/kpnb1/exp2/AssayPlate_PerkinElmer_CellCarrier-384 Ultra_F11_T0019F004L01A01Z01C01.tif\n",
      "/data2/varun/HiTIPS_paper_data/fig_5/kpnb1/exp2/AssayPlate_PerkinElmer_CellCarrier-384 Ultra_F11_T0019F005L01A01Z01C01.tif\n",
      "/data2/varun/HiTIPS_paper_data/fig_5/kpnb1/exp2/AssayPlate_PerkinElmer_CellCarrier-384 Ultra_F11_T0019F003L01A01Z01C01.tif\n",
      "/data2/varun/HiTIPS_paper_data/fig_5/kpnb1/exp2/AssayPlate_PerkinElmer_CellCarrier-384 Ultra_F11_T0019F006L01A01Z01C01.tif\n",
      "/data2/varun/HiTIPS_paper_data/fig_5/kpnb1/exp2/AssayPlate_PerkinElmer_CellCarrier-384 Ultra_F11_T0019F008L01A01Z01C01.tif\n",
      "/data2/varun/HiTIPS_paper_data/fig_5/kpnb1/exp2/AssayPlate_PerkinElmer_CellCarrier-384 Ultra_F11_T0020F001L01A01Z01C01.tif\n",
      "/data2/varun/HiTIPS_paper_data/fig_5/kpnb1/exp2/AssayPlate_PerkinElmer_CellCarrier-384 Ultra_F11_T0019F007L01A01Z01C01.tif\n",
      "/data2/varun/HiTIPS_paper_data/fig_5/kpnb1/exp2/AssayPlate_PerkinElmer_CellCarrier-384 Ultra_F11_T0019F009L01A01Z01C01.tif\n",
      "/data2/varun/HiTIPS_paper_data/fig_5/kpnb1/exp2/AssayPlate_PerkinElmer_CellCarrier-384 Ultra_F11_T0020F004L01A01Z01C01.tif\n",
      "/data2/varun/HiTIPS_paper_data/fig_5/kpnb1/exp2/AssayPlate_PerkinElmer_CellCarrier-384 Ultra_F11_T0020F002L01A01Z01C01.tif\n",
      "/data2/varun/HiTIPS_paper_data/fig_5/kpnb1/exp2/AssayPlate_PerkinElmer_CellCarrier-384 Ultra_F11_T0020F005L01A01Z01C01.tif\n",
      "/data2/varun/HiTIPS_paper_data/fig_5/kpnb1/exp2/AssayPlate_PerkinElmer_CellCarrier-384 Ultra_F11_T0020F003L01A01Z01C01.tif\n",
      "/data2/varun/HiTIPS_paper_data/fig_5/kpnb1/exp2/AssayPlate_PerkinElmer_CellCarrier-384 Ultra_F11_T0020F007L01A01Z01C01.tif\n",
      "/data2/varun/HiTIPS_paper_data/fig_5/kpnb1/exp2/AssayPlate_PerkinElmer_CellCarrier-384 Ultra_F11_T0020F009L01A01Z01C01.tif\n",
      "/data2/varun/HiTIPS_paper_data/fig_5/kpnb1/exp2/AssayPlate_PerkinElmer_CellCarrier-384 Ultra_F11_T0020F006L01A01Z01C01.tif\n",
      "/data2/varun/HiTIPS_paper_data/fig_5/kpnb1/exp2/AssayPlate_PerkinElmer_CellCarrier-384 Ultra_F11_T0020F008L01A01Z01C01.tif\n",
      "/data2/varun/HiTIPS_paper_data/fig_5/kpnb1/exp2/AssayPlate_PerkinElmer_CellCarrier-384 Ultra_F11_T0021F002L01A01Z01C01.tif\n",
      "/data2/varun/HiTIPS_paper_data/fig_5/kpnb1/exp2/AssayPlate_PerkinElmer_CellCarrier-384 Ultra_F11_T0021F001L01A01Z01C01.tif\n",
      "/data2/varun/HiTIPS_paper_data/fig_5/kpnb1/exp2/AssayPlate_PerkinElmer_CellCarrier-384 Ultra_F11_T0021F004L01A01Z01C01.tif\n",
      "/data2/varun/HiTIPS_paper_data/fig_5/kpnb1/exp2/AssayPlate_PerkinElmer_CellCarrier-384 Ultra_F11_T0021F003L01A01Z01C01.tif\n",
      "/data2/varun/HiTIPS_paper_data/fig_5/kpnb1/exp2/AssayPlate_PerkinElmer_CellCarrier-384 Ultra_F11_T0021F006L01A01Z01C01.tif\n",
      "/data2/varun/HiTIPS_paper_data/fig_5/kpnb1/exp2/AssayPlate_PerkinElmer_CellCarrier-384 Ultra_F11_T0021F005L01A01Z01C01.tif\n",
      "/data2/varun/HiTIPS_paper_data/fig_5/kpnb1/exp2/AssayPlate_PerkinElmer_CellCarrier-384 Ultra_F11_T0021F007L01A01Z01C01.tif\n",
      "/data2/varun/HiTIPS_paper_data/fig_5/kpnb1/exp2/AssayPlate_PerkinElmer_CellCarrier-384 Ultra_F11_T0021F008L01A01Z01C01.tif\n",
      "/data2/varun/HiTIPS_paper_data/fig_5/kpnb1/exp2/AssayPlate_PerkinElmer_CellCarrier-384 Ultra_F11_T0022F001L01A01Z01C01.tif\n",
      "/data2/varun/HiTIPS_paper_data/fig_5/kpnb1/exp2/AssayPlate_PerkinElmer_CellCarrier-384 Ultra_F11_T0022F003L01A01Z01C01.tif\n",
      "/data2/varun/HiTIPS_paper_data/fig_5/kpnb1/exp2/AssayPlate_PerkinElmer_CellCarrier-384 Ultra_F11_T0022F002L01A01Z01C01.tif\n",
      "/data2/varun/HiTIPS_paper_data/fig_5/kpnb1/exp2/AssayPlate_PerkinElmer_CellCarrier-384 Ultra_F11_T0021F009L01A01Z01C01.tif\n",
      "/data2/varun/HiTIPS_paper_data/fig_5/kpnb1/exp2/AssayPlate_PerkinElmer_CellCarrier-384 Ultra_F11_T0022F005L01A01Z01C01.tif\n",
      "/data2/varun/HiTIPS_paper_data/fig_5/kpnb1/exp2/AssayPlate_PerkinElmer_CellCarrier-384 Ultra_F11_T0022F006L01A01Z01C01.tif\n",
      "/data2/varun/HiTIPS_paper_data/fig_5/kpnb1/exp2/AssayPlate_PerkinElmer_CellCarrier-384 Ultra_F11_T0022F007L01A01Z01C01.tif\n",
      "/data2/varun/HiTIPS_paper_data/fig_5/kpnb1/exp2/AssayPlate_PerkinElmer_CellCarrier-384 Ultra_F11_T0022F004L01A01Z01C01.tif\n",
      "/data2/varun/HiTIPS_paper_data/fig_5/kpnb1/exp2/AssayPlate_PerkinElmer_CellCarrier-384 Ultra_F11_T0022F009L01A01Z01C01.tif\n",
      "/data2/varun/HiTIPS_paper_data/fig_5/kpnb1/exp2/AssayPlate_PerkinElmer_CellCarrier-384 Ultra_F11_T0023F002L01A01Z01C01.tif\n",
      "/data2/varun/HiTIPS_paper_data/fig_5/kpnb1/exp2/AssayPlate_PerkinElmer_CellCarrier-384 Ultra_F11_T0023F001L01A01Z01C01.tif\n",
      "/data2/varun/HiTIPS_paper_data/fig_5/kpnb1/exp2/AssayPlate_PerkinElmer_CellCarrier-384 Ultra_F11_T0022F008L01A01Z01C01.tif\n",
      "/data2/varun/HiTIPS_paper_data/fig_5/kpnb1/exp2/AssayPlate_PerkinElmer_CellCarrier-384 Ultra_F11_T0023F004L01A01Z01C01.tif\n",
      "/data2/varun/HiTIPS_paper_data/fig_5/kpnb1/exp2/AssayPlate_PerkinElmer_CellCarrier-384 Ultra_F11_T0023F005L01A01Z01C01.tif\n",
      "/data2/varun/HiTIPS_paper_data/fig_5/kpnb1/exp2/AssayPlate_PerkinElmer_CellCarrier-384 Ultra_F11_T0023F006L01A01Z01C01.tif\n",
      "/data2/varun/HiTIPS_paper_data/fig_5/kpnb1/exp2/AssayPlate_PerkinElmer_CellCarrier-384 Ultra_F11_T0023F003L01A01Z01C01.tif\n",
      "/data2/varun/HiTIPS_paper_data/fig_5/kpnb1/exp2/AssayPlate_PerkinElmer_CellCarrier-384 Ultra_F11_T0023F008L01A01Z01C01.tif\n",
      "/data2/varun/HiTIPS_paper_data/fig_5/kpnb1/exp2/AssayPlate_PerkinElmer_CellCarrier-384 Ultra_F11_T0023F007L01A01Z01C01.tif\n",
      "/data2/varun/HiTIPS_paper_data/fig_5/kpnb1/exp2/AssayPlate_PerkinElmer_CellCarrier-384 Ultra_F11_T0023F009L01A01Z01C01.tif\n",
      "/data2/varun/HiTIPS_paper_data/fig_5/kpnb1/exp2/AssayPlate_PerkinElmer_CellCarrier-384 Ultra_F11_T0024F001L01A01Z01C01.tif\n",
      "/data2/varun/HiTIPS_paper_data/fig_5/kpnb1/exp2/AssayPlate_PerkinElmer_CellCarrier-384 Ultra_F11_T0024F003L01A01Z01C01.tif\n",
      "/data2/varun/HiTIPS_paper_data/fig_5/kpnb1/exp2/AssayPlate_PerkinElmer_CellCarrier-384 Ultra_F11_T0024F002L01A01Z01C01.tif\n",
      "/data2/varun/HiTIPS_paper_data/fig_5/kpnb1/exp2/AssayPlate_PerkinElmer_CellCarrier-384 Ultra_F11_T0024F005L01A01Z01C01.tif\n",
      "/data2/varun/HiTIPS_paper_data/fig_5/kpnb1/exp2/AssayPlate_PerkinElmer_CellCarrier-384 Ultra_F11_T0024F004L01A01Z01C01.tif\n",
      "/data2/varun/HiTIPS_paper_data/fig_5/kpnb1/exp2/AssayPlate_PerkinElmer_CellCarrier-384 Ultra_F11_T0024F007L01A01Z01C01.tif\n",
      "/data2/varun/HiTIPS_paper_data/fig_5/kpnb1/exp2/AssayPlate_PerkinElmer_CellCarrier-384 Ultra_F11_T0024F009L01A01Z01C01.tif\n",
      "/data2/varun/HiTIPS_paper_data/fig_5/kpnb1/exp2/AssayPlate_PerkinElmer_CellCarrier-384 Ultra_F11_T0024F008L01A01Z01C01.tif\n",
      "/data2/varun/HiTIPS_paper_data/fig_5/kpnb1/exp2/AssayPlate_PerkinElmer_CellCarrier-384 Ultra_F11_T0024F006L01A01Z01C01.tif\n",
      "/data2/varun/HiTIPS_paper_data/fig_5/kpnb1/exp2/AssayPlate_PerkinElmer_CellCarrier-384 Ultra_F11_T0025F002L01A01Z01C01.tif\n",
      "/data2/varun/HiTIPS_paper_data/fig_5/kpnb1/exp2/AssayPlate_PerkinElmer_CellCarrier-384 Ultra_F11_T0025F001L01A01Z01C01.tif\n",
      "/data2/varun/HiTIPS_paper_data/fig_5/kpnb1/exp2/AssayPlate_PerkinElmer_CellCarrier-384 Ultra_F11_T0025F004L01A01Z01C01.tif\n",
      "/data2/varun/HiTIPS_paper_data/fig_5/kpnb1/exp2/AssayPlate_PerkinElmer_CellCarrier-384 Ultra_F11_T0025F003L01A01Z01C01.tif\n",
      "/data2/varun/HiTIPS_paper_data/fig_5/kpnb1/exp2/AssayPlate_PerkinElmer_CellCarrier-384 Ultra_F11_T0025F005L01A01Z01C01.tif\n",
      "/data2/varun/HiTIPS_paper_data/fig_5/kpnb1/exp2/AssayPlate_PerkinElmer_CellCarrier-384 Ultra_F11_T0025F006L01A01Z01C01.tif\n",
      "/data2/varun/HiTIPS_paper_data/fig_5/kpnb1/exp2/AssayPlate_PerkinElmer_CellCarrier-384 Ultra_F11_T0025F007L01A01Z01C01.tif\n",
      "/data2/varun/HiTIPS_paper_data/fig_5/kpnb1/exp2/AssayPlate_PerkinElmer_CellCarrier-384 Ultra_F11_T0025F008L01A01Z01C01.tif\n",
      "/data2/varun/HiTIPS_paper_data/fig_5/kpnb1/exp2/AssayPlate_PerkinElmer_CellCarrier-384 Ultra_F11_T0026F001L01A01Z01C01.tif\n",
      "/data2/varun/HiTIPS_paper_data/fig_5/kpnb1/exp2/AssayPlate_PerkinElmer_CellCarrier-384 Ultra_F11_T0026F002L01A01Z01C01.tif\n",
      "/data2/varun/HiTIPS_paper_data/fig_5/kpnb1/exp2/AssayPlate_PerkinElmer_CellCarrier-384 Ultra_F11_T0026F003L01A01Z01C01.tif\n",
      "/data2/varun/HiTIPS_paper_data/fig_5/kpnb1/exp2/AssayPlate_PerkinElmer_CellCarrier-384 Ultra_F11_T0025F009L01A01Z01C01.tif\n",
      "/data2/varun/HiTIPS_paper_data/fig_5/kpnb1/exp2/AssayPlate_PerkinElmer_CellCarrier-384 Ultra_F11_T0026F005L01A01Z01C01.tif\n",
      "/data2/varun/HiTIPS_paper_data/fig_5/kpnb1/exp2/AssayPlate_PerkinElmer_CellCarrier-384 Ultra_F11_T0026F006L01A01Z01C01.tif\n",
      "/data2/varun/HiTIPS_paper_data/fig_5/kpnb1/exp2/AssayPlate_PerkinElmer_CellCarrier-384 Ultra_F11_T0026F004L01A01Z01C01.tif\n",
      "/data2/varun/HiTIPS_paper_data/fig_5/kpnb1/exp2/AssayPlate_PerkinElmer_CellCarrier-384 Ultra_F11_T0026F007L01A01Z01C01.tif\n",
      "/data2/varun/HiTIPS_paper_data/fig_5/kpnb1/exp2/AssayPlate_PerkinElmer_CellCarrier-384 Ultra_F11_T0026F009L01A01Z01C01.tif\n",
      "/data2/varun/HiTIPS_paper_data/fig_5/kpnb1/exp2/AssayPlate_PerkinElmer_CellCarrier-384 Ultra_F11_T0027F002L01A01Z01C01.tif\n",
      "/data2/varun/HiTIPS_paper_data/fig_5/kpnb1/exp2/AssayPlate_PerkinElmer_CellCarrier-384 Ultra_F11_T0026F008L01A01Z01C01.tif\n",
      "/data2/varun/HiTIPS_paper_data/fig_5/kpnb1/exp2/AssayPlate_PerkinElmer_CellCarrier-384 Ultra_F11_T0027F001L01A01Z01C01.tif\n",
      "/data2/varun/HiTIPS_paper_data/fig_5/kpnb1/exp2/AssayPlate_PerkinElmer_CellCarrier-384 Ultra_F11_T0027F004L01A01Z01C01.tif\n",
      "/data2/varun/HiTIPS_paper_data/fig_5/kpnb1/exp2/AssayPlate_PerkinElmer_CellCarrier-384 Ultra_F11_T0027F005L01A01Z01C01.tif\n",
      "/data2/varun/HiTIPS_paper_data/fig_5/kpnb1/exp2/AssayPlate_PerkinElmer_CellCarrier-384 Ultra_F11_T0027F003L01A01Z01C01.tif\n",
      "/data2/varun/HiTIPS_paper_data/fig_5/kpnb1/exp2/AssayPlate_PerkinElmer_CellCarrier-384 Ultra_F11_T0027F006L01A01Z01C01.tif\n",
      "/data2/varun/HiTIPS_paper_data/fig_5/kpnb1/exp2/AssayPlate_PerkinElmer_CellCarrier-384 Ultra_F11_T0027F008L01A01Z01C01.tif\n",
      "/data2/varun/HiTIPS_paper_data/fig_5/kpnb1/exp2/AssayPlate_PerkinElmer_CellCarrier-384 Ultra_F11_T0028F001L01A01Z01C01.tif\n",
      "/data2/varun/HiTIPS_paper_data/fig_5/kpnb1/exp2/AssayPlate_PerkinElmer_CellCarrier-384 Ultra_F11_T0027F007L01A01Z01C01.tif\n",
      "/data2/varun/HiTIPS_paper_data/fig_5/kpnb1/exp2/AssayPlate_PerkinElmer_CellCarrier-384 Ultra_F11_T0027F009L01A01Z01C01.tif\n",
      "/data2/varun/HiTIPS_paper_data/fig_5/kpnb1/exp2/AssayPlate_PerkinElmer_CellCarrier-384 Ultra_F11_T0028F003L01A01Z01C01.tif\n",
      "/data2/varun/HiTIPS_paper_data/fig_5/kpnb1/exp2/AssayPlate_PerkinElmer_CellCarrier-384 Ultra_F11_T0028F004L01A01Z01C01.tif\n",
      "/data2/varun/HiTIPS_paper_data/fig_5/kpnb1/exp2/AssayPlate_PerkinElmer_CellCarrier-384 Ultra_F11_T0028F005L01A01Z01C01.tif\n",
      "/data2/varun/HiTIPS_paper_data/fig_5/kpnb1/exp2/AssayPlate_PerkinElmer_CellCarrier-384 Ultra_F11_T0028F002L01A01Z01C01.tif\n",
      "/data2/varun/HiTIPS_paper_data/fig_5/kpnb1/exp2/AssayPlate_PerkinElmer_CellCarrier-384 Ultra_F11_T0028F007L01A01Z01C01.tif\n",
      "/data2/varun/HiTIPS_paper_data/fig_5/kpnb1/exp2/AssayPlate_PerkinElmer_CellCarrier-384 Ultra_F11_T0028F009L01A01Z01C01.tif\n",
      "/data2/varun/HiTIPS_paper_data/fig_5/kpnb1/exp2/AssayPlate_PerkinElmer_CellCarrier-384 Ultra_F11_T0028F006L01A01Z01C01.tif\n",
      "/data2/varun/HiTIPS_paper_data/fig_5/kpnb1/exp2/AssayPlate_PerkinElmer_CellCarrier-384 Ultra_F11_T0028F008L01A01Z01C01.tif\n",
      "/data2/varun/HiTIPS_paper_data/fig_5/kpnb1/exp2/AssayPlate_PerkinElmer_CellCarrier-384 Ultra_F11_T0029F001L01A01Z01C01.tif\n",
      "/data2/varun/HiTIPS_paper_data/fig_5/kpnb1/exp2/AssayPlate_PerkinElmer_CellCarrier-384 Ultra_F11_T0029F002L01A01Z01C01.tif\n",
      "/data2/varun/HiTIPS_paper_data/fig_5/kpnb1/exp2/AssayPlate_PerkinElmer_CellCarrier-384 Ultra_F11_T0029F003L01A01Z01C01.tif\n",
      "/data2/varun/HiTIPS_paper_data/fig_5/kpnb1/exp2/AssayPlate_PerkinElmer_CellCarrier-384 Ultra_F11_T0029F004L01A01Z01C01.tif\n",
      "/data2/varun/HiTIPS_paper_data/fig_5/kpnb1/exp2/AssayPlate_PerkinElmer_CellCarrier-384 Ultra_F11_T0029F006L01A01Z01C01.tif\n",
      "/data2/varun/HiTIPS_paper_data/fig_5/kpnb1/exp2/AssayPlate_PerkinElmer_CellCarrier-384 Ultra_F11_T0029F007L01A01Z01C01.tif\n",
      "/data2/varun/HiTIPS_paper_data/fig_5/kpnb1/exp2/AssayPlate_PerkinElmer_CellCarrier-384 Ultra_F11_T0029F008L01A01Z01C01.tif\n",
      "/data2/varun/HiTIPS_paper_data/fig_5/kpnb1/exp2/AssayPlate_PerkinElmer_CellCarrier-384 Ultra_F11_T0029F005L01A01Z01C01.tif\n",
      "/data2/varun/HiTIPS_paper_data/fig_5/kpnb1/exp2/AssayPlate_PerkinElmer_CellCarrier-384 Ultra_F11_T0030F002L01A01Z01C01.tif\n",
      "/data2/varun/HiTIPS_paper_data/fig_5/kpnb1/exp2/AssayPlate_PerkinElmer_CellCarrier-384 Ultra_F11_T0030F001L01A01Z01C01.tif\n",
      "/data2/varun/HiTIPS_paper_data/fig_5/kpnb1/exp2/AssayPlate_PerkinElmer_CellCarrier-384 Ultra_F11_T0029F009L01A01Z01C01.tif\n",
      "/data2/varun/HiTIPS_paper_data/fig_5/kpnb1/exp2/AssayPlate_PerkinElmer_CellCarrier-384 Ultra_F11_T0030F003L01A01Z01C01.tif\n",
      "/data2/varun/HiTIPS_paper_data/fig_5/kpnb1/exp2/AssayPlate_PerkinElmer_CellCarrier-384 Ultra_F11_T0030F004L01A01Z01C01.tif\n",
      "/data2/varun/HiTIPS_paper_data/fig_5/kpnb1/exp2/AssayPlate_PerkinElmer_CellCarrier-384 Ultra_F11_T0030F005L01A01Z01C01.tif\n",
      "/data2/varun/HiTIPS_paper_data/fig_5/kpnb1/exp2/AssayPlate_PerkinElmer_CellCarrier-384 Ultra_F11_T0030F006L01A01Z01C01.tif\n",
      "/data2/varun/HiTIPS_paper_data/fig_5/kpnb1/exp2/AssayPlate_PerkinElmer_CellCarrier-384 Ultra_F11_T0030F007L01A01Z01C01.tif\n",
      "/data2/varun/HiTIPS_paper_data/fig_5/kpnb1/exp2/AssayPlate_PerkinElmer_CellCarrier-384 Ultra_F11_T0030F009L01A01Z01C01.tif\n",
      "/data2/varun/HiTIPS_paper_data/fig_5/kpnb1/exp2/AssayPlate_PerkinElmer_CellCarrier-384 Ultra_F11_T0031F001L01A01Z01C01.tif\n",
      "/data2/varun/HiTIPS_paper_data/fig_5/kpnb1/exp2/AssayPlate_PerkinElmer_CellCarrier-384 Ultra_F11_T0030F008L01A01Z01C01.tif\n",
      "/data2/varun/HiTIPS_paper_data/fig_5/kpnb1/exp2/AssayPlate_PerkinElmer_CellCarrier-384 Ultra_F11_T0031F002L01A01Z01C01.tif\n",
      "/data2/varun/HiTIPS_paper_data/fig_5/kpnb1/exp2/AssayPlate_PerkinElmer_CellCarrier-384 Ultra_F11_T0031F004L01A01Z01C01.tif\n",
      "/data2/varun/HiTIPS_paper_data/fig_5/kpnb1/exp2/AssayPlate_PerkinElmer_CellCarrier-384 Ultra_F11_T0031F006L01A01Z01C01.tif\n",
      "/data2/varun/HiTIPS_paper_data/fig_5/kpnb1/exp2/AssayPlate_PerkinElmer_CellCarrier-384 Ultra_F11_T0031F003L01A01Z01C01.tif\n",
      "/data2/varun/HiTIPS_paper_data/fig_5/kpnb1/exp2/AssayPlate_PerkinElmer_CellCarrier-384 Ultra_F11_T0031F005L01A01Z01C01.tif\n",
      "/data2/varun/HiTIPS_paper_data/fig_5/kpnb1/exp2/AssayPlate_PerkinElmer_CellCarrier-384 Ultra_F11_T0031F008L01A01Z01C01.tif\n",
      "/data2/varun/HiTIPS_paper_data/fig_5/kpnb1/exp2/AssayPlate_PerkinElmer_CellCarrier-384 Ultra_F11_T0031F009L01A01Z01C01.tif\n",
      "/data2/varun/HiTIPS_paper_data/fig_5/kpnb1/exp2/AssayPlate_PerkinElmer_CellCarrier-384 Ultra_F11_T0032F001L01A01Z01C01.tif\n",
      "/data2/varun/HiTIPS_paper_data/fig_5/kpnb1/exp2/AssayPlate_PerkinElmer_CellCarrier-384 Ultra_F11_T0031F007L01A01Z01C01.tif\n",
      "/data2/varun/HiTIPS_paper_data/fig_5/kpnb1/exp2/AssayPlate_PerkinElmer_CellCarrier-384 Ultra_F11_T0032F002L01A01Z01C01.tif\n",
      "/data2/varun/HiTIPS_paper_data/fig_5/kpnb1/exp2/AssayPlate_PerkinElmer_CellCarrier-384 Ultra_F11_T0032F003L01A01Z01C01.tif\n",
      "/data2/varun/HiTIPS_paper_data/fig_5/kpnb1/exp2/AssayPlate_PerkinElmer_CellCarrier-384 Ultra_F11_T0032F005L01A01Z01C01.tif\n",
      "/data2/varun/HiTIPS_paper_data/fig_5/kpnb1/exp2/AssayPlate_PerkinElmer_CellCarrier-384 Ultra_F11_T0032F004L01A01Z01C01.tif\n",
      "/data2/varun/HiTIPS_paper_data/fig_5/kpnb1/exp2/AssayPlate_PerkinElmer_CellCarrier-384 Ultra_F11_T0032F009L01A01Z01C01.tif\n",
      "/data2/varun/HiTIPS_paper_data/fig_5/kpnb1/exp2/AssayPlate_PerkinElmer_CellCarrier-384 Ultra_F11_T0032F007L01A01Z01C01.tif\n",
      "/data2/varun/HiTIPS_paper_data/fig_5/kpnb1/exp2/AssayPlate_PerkinElmer_CellCarrier-384 Ultra_F11_T0032F006L01A01Z01C01.tif\n",
      "/data2/varun/HiTIPS_paper_data/fig_5/kpnb1/exp2/AssayPlate_PerkinElmer_CellCarrier-384 Ultra_F11_T0032F008L01A01Z01C01.tif\n",
      "/data2/varun/HiTIPS_paper_data/fig_5/kpnb1/exp2/AssayPlate_PerkinElmer_CellCarrier-384 Ultra_F11_T0033F002L01A01Z01C01.tif\n",
      "/data2/varun/HiTIPS_paper_data/fig_5/kpnb1/exp2/AssayPlate_PerkinElmer_CellCarrier-384 Ultra_F11_T0033F001L01A01Z01C01.tif\n",
      "/data2/varun/HiTIPS_paper_data/fig_5/kpnb1/exp2/AssayPlate_PerkinElmer_CellCarrier-384 Ultra_F11_T0033F004L01A01Z01C01.tif\n",
      "/data2/varun/HiTIPS_paper_data/fig_5/kpnb1/exp2/AssayPlate_PerkinElmer_CellCarrier-384 Ultra_F11_T0033F003L01A01Z01C01.tif\n",
      "/data2/varun/HiTIPS_paper_data/fig_5/kpnb1/exp2/AssayPlate_PerkinElmer_CellCarrier-384 Ultra_F11_T0033F008L01A01Z01C01.tif\n",
      "/data2/varun/HiTIPS_paper_data/fig_5/kpnb1/exp2/AssayPlate_PerkinElmer_CellCarrier-384 Ultra_F11_T0033F007L01A01Z01C01.tif\n",
      "/data2/varun/HiTIPS_paper_data/fig_5/kpnb1/exp2/AssayPlate_PerkinElmer_CellCarrier-384 Ultra_F11_T0033F006L01A01Z01C01.tif\n",
      "/data2/varun/HiTIPS_paper_data/fig_5/kpnb1/exp2/AssayPlate_PerkinElmer_CellCarrier-384 Ultra_F11_T0033F005L01A01Z01C01.tif\n",
      "/data2/varun/HiTIPS_paper_data/fig_5/kpnb1/exp2/AssayPlate_PerkinElmer_CellCarrier-384 Ultra_F11_T0033F009L01A01Z01C01.tif\n",
      "/data2/varun/HiTIPS_paper_data/fig_5/kpnb1/exp2/AssayPlate_PerkinElmer_CellCarrier-384 Ultra_F11_T0034F002L01A01Z01C01.tif\n",
      "/data2/varun/HiTIPS_paper_data/fig_5/kpnb1/exp2/AssayPlate_PerkinElmer_CellCarrier-384 Ultra_F11_T0034F003L01A01Z01C01.tif\n",
      "/data2/varun/HiTIPS_paper_data/fig_5/kpnb1/exp2/AssayPlate_PerkinElmer_CellCarrier-384 Ultra_F11_T0034F001L01A01Z01C01.tif\n",
      "/data2/varun/HiTIPS_paper_data/fig_5/kpnb1/exp2/AssayPlate_PerkinElmer_CellCarrier-384 Ultra_F11_T0034F005L01A01Z01C01.tif\n",
      "/data2/varun/HiTIPS_paper_data/fig_5/kpnb1/exp2/AssayPlate_PerkinElmer_CellCarrier-384 Ultra_F11_T0034F004L01A01Z01C01.tif\n",
      "/data2/varun/HiTIPS_paper_data/fig_5/kpnb1/exp2/AssayPlate_PerkinElmer_CellCarrier-384 Ultra_F11_T0034F006L01A01Z01C01.tif\n",
      "/data2/varun/HiTIPS_paper_data/fig_5/kpnb1/exp2/AssayPlate_PerkinElmer_CellCarrier-384 Ultra_F11_T0034F007L01A01Z01C01.tif\n",
      "/data2/varun/HiTIPS_paper_data/fig_5/kpnb1/exp2/AssayPlate_PerkinElmer_CellCarrier-384 Ultra_F11_T0034F008L01A01Z01C01.tif\n",
      "/data2/varun/HiTIPS_paper_data/fig_5/kpnb1/exp2/AssayPlate_PerkinElmer_CellCarrier-384 Ultra_F11_T0035F002L01A01Z01C01.tif\n",
      "/data2/varun/HiTIPS_paper_data/fig_5/kpnb1/exp2/AssayPlate_PerkinElmer_CellCarrier-384 Ultra_F11_T0035F001L01A01Z01C01.tif\n",
      "/data2/varun/HiTIPS_paper_data/fig_5/kpnb1/exp2/AssayPlate_PerkinElmer_CellCarrier-384 Ultra_F11_T0034F009L01A01Z01C01.tif\n",
      "/data2/varun/HiTIPS_paper_data/fig_5/kpnb1/exp2/AssayPlate_PerkinElmer_CellCarrier-384 Ultra_F11_T0035F004L01A01Z01C01.tif\n",
      "/data2/varun/HiTIPS_paper_data/fig_5/kpnb1/exp2/AssayPlate_PerkinElmer_CellCarrier-384 Ultra_F11_T0035F003L01A01Z01C01.tif\n",
      "/data2/varun/HiTIPS_paper_data/fig_5/kpnb1/exp2/AssayPlate_PerkinElmer_CellCarrier-384 Ultra_F11_T0035F005L01A01Z01C01.tif\n",
      "/data2/varun/HiTIPS_paper_data/fig_5/kpnb1/exp2/AssayPlate_PerkinElmer_CellCarrier-384 Ultra_F11_T0035F006L01A01Z01C01.tif\n",
      "/data2/varun/HiTIPS_paper_data/fig_5/kpnb1/exp2/AssayPlate_PerkinElmer_CellCarrier-384 Ultra_F11_T0035F009L01A01Z01C01.tif/data2/varun/HiTIPS_paper_data/fig_5/kpnb1/exp2/AssayPlate_PerkinElmer_CellCarrier-384 Ultra_F11_T0035F008L01A01Z01C01.tif\n",
      "\n",
      "/data2/varun/HiTIPS_paper_data/fig_5/kpnb1/exp2/AssayPlate_PerkinElmer_CellCarrier-384 Ultra_F11_T0036F001L01A01Z01C01.tif\n",
      "/data2/varun/HiTIPS_paper_data/fig_5/kpnb1/exp2/AssayPlate_PerkinElmer_CellCarrier-384 Ultra_F11_T0035F007L01A01Z01C01.tif\n",
      "/data2/varun/HiTIPS_paper_data/fig_5/kpnb1/exp2/AssayPlate_PerkinElmer_CellCarrier-384 Ultra_F11_T0036F002L01A01Z01C01.tif\n",
      "/data2/varun/HiTIPS_paper_data/fig_5/kpnb1/exp2/AssayPlate_PerkinElmer_CellCarrier-384 Ultra_F11_T0036F005L01A01Z01C01.tif\n",
      "/data2/varun/HiTIPS_paper_data/fig_5/kpnb1/exp2/AssayPlate_PerkinElmer_CellCarrier-384 Ultra_F11_T0036F004L01A01Z01C01.tif\n",
      "/data2/varun/HiTIPS_paper_data/fig_5/kpnb1/exp2/AssayPlate_PerkinElmer_CellCarrier-384 Ultra_F11_T0036F003L01A01Z01C01.tif\n",
      "/data2/varun/HiTIPS_paper_data/fig_5/kpnb1/exp2/AssayPlate_PerkinElmer_CellCarrier-384 Ultra_F11_T0036F007L01A01Z01C01.tif\n",
      "/data2/varun/HiTIPS_paper_data/fig_5/kpnb1/exp2/AssayPlate_PerkinElmer_CellCarrier-384 Ultra_F11_T0036F006L01A01Z01C01.tif\n",
      "/data2/varun/HiTIPS_paper_data/fig_5/kpnb1/exp2/AssayPlate_PerkinElmer_CellCarrier-384 Ultra_F11_T0036F008L01A01Z01C01.tif\n",
      "/data2/varun/HiTIPS_paper_data/fig_5/kpnb1/exp2/AssayPlate_PerkinElmer_CellCarrier-384 Ultra_F11_T0036F009L01A01Z01C01.tif\n",
      "/data2/varun/HiTIPS_paper_data/fig_5/kpnb1/exp2/AssayPlate_PerkinElmer_CellCarrier-384 Ultra_F11_T0037F002L01A01Z01C01.tif\n",
      "/data2/varun/HiTIPS_paper_data/fig_5/kpnb1/exp2/AssayPlate_PerkinElmer_CellCarrier-384 Ultra_F11_T0037F001L01A01Z01C01.tif\n",
      "/data2/varun/HiTIPS_paper_data/fig_5/kpnb1/exp2/AssayPlate_PerkinElmer_CellCarrier-384 Ultra_F11_T0037F004L01A01Z01C01.tif\n",
      "/data2/varun/HiTIPS_paper_data/fig_5/kpnb1/exp2/AssayPlate_PerkinElmer_CellCarrier-384 Ultra_F11_T0037F003L01A01Z01C01.tif\n",
      "/data2/varun/HiTIPS_paper_data/fig_5/kpnb1/exp2/AssayPlate_PerkinElmer_CellCarrier-384 Ultra_F11_T0037F006L01A01Z01C01.tif\n",
      "/data2/varun/HiTIPS_paper_data/fig_5/kpnb1/exp2/AssayPlate_PerkinElmer_CellCarrier-384 Ultra_F11_T0037F007L01A01Z01C01.tif\n",
      "/data2/varun/HiTIPS_paper_data/fig_5/kpnb1/exp2/AssayPlate_PerkinElmer_CellCarrier-384 Ultra_F11_T0037F005L01A01Z01C01.tif\n",
      "/data2/varun/HiTIPS_paper_data/fig_5/kpnb1/exp2/AssayPlate_PerkinElmer_CellCarrier-384 Ultra_F11_T0037F008L01A01Z01C01.tif\n",
      "/data2/varun/HiTIPS_paper_data/fig_5/kpnb1/exp2/AssayPlate_PerkinElmer_CellCarrier-384 Ultra_F11_T0038F002L01A01Z01C01.tif\n",
      "/data2/varun/HiTIPS_paper_data/fig_5/kpnb1/exp2/AssayPlate_PerkinElmer_CellCarrier-384 Ultra_F11_T0037F009L01A01Z01C01.tif\n",
      "/data2/varun/HiTIPS_paper_data/fig_5/kpnb1/exp2/AssayPlate_PerkinElmer_CellCarrier-384 Ultra_F11_T0038F001L01A01Z01C01.tif\n",
      "/data2/varun/HiTIPS_paper_data/fig_5/kpnb1/exp2/AssayPlate_PerkinElmer_CellCarrier-384 Ultra_F11_T0038F003L01A01Z01C01.tif\n",
      "/data2/varun/HiTIPS_paper_data/fig_5/kpnb1/exp2/AssayPlate_PerkinElmer_CellCarrier-384 Ultra_F11_T0038F005L01A01Z01C01.tif\n",
      "/data2/varun/HiTIPS_paper_data/fig_5/kpnb1/exp2/AssayPlate_PerkinElmer_CellCarrier-384 Ultra_F11_T0038F007L01A01Z01C01.tif\n",
      "/data2/varun/HiTIPS_paper_data/fig_5/kpnb1/exp2/AssayPlate_PerkinElmer_CellCarrier-384 Ultra_F11_T0038F006L01A01Z01C01.tif\n",
      "/data2/varun/HiTIPS_paper_data/fig_5/kpnb1/exp2/AssayPlate_PerkinElmer_CellCarrier-384 Ultra_F11_T0038F004L01A01Z01C01.tif\n",
      "/data2/varun/HiTIPS_paper_data/fig_5/kpnb1/exp2/AssayPlate_PerkinElmer_CellCarrier-384 Ultra_F11_T0038F009L01A01Z01C01.tif\n",
      "/data2/varun/HiTIPS_paper_data/fig_5/kpnb1/exp2/AssayPlate_PerkinElmer_CellCarrier-384 Ultra_F11_T0038F008L01A01Z01C01.tif\n",
      "/data2/varun/HiTIPS_paper_data/fig_5/kpnb1/exp2/AssayPlate_PerkinElmer_CellCarrier-384 Ultra_F11_T0039F002L01A01Z01C01.tif\n",
      "/data2/varun/HiTIPS_paper_data/fig_5/kpnb1/exp2/AssayPlate_PerkinElmer_CellCarrier-384 Ultra_F11_T0039F001L01A01Z01C01.tif\n",
      "/data2/varun/HiTIPS_paper_data/fig_5/kpnb1/exp2/AssayPlate_PerkinElmer_CellCarrier-384 Ultra_F11_T0039F004L01A01Z01C01.tif\n",
      "/data2/varun/HiTIPS_paper_data/fig_5/kpnb1/exp2/AssayPlate_PerkinElmer_CellCarrier-384 Ultra_F11_T0039F003L01A01Z01C01.tif/data2/varun/HiTIPS_paper_data/fig_5/kpnb1/exp2/AssayPlate_PerkinElmer_CellCarrier-384 Ultra_F11_T0039F006L01A01Z01C01.tif\n",
      "\n",
      "/data2/varun/HiTIPS_paper_data/fig_5/kpnb1/exp2/AssayPlate_PerkinElmer_CellCarrier-384 Ultra_F11_T0039F005L01A01Z01C01.tif\n",
      "/data2/varun/HiTIPS_paper_data/fig_5/kpnb1/exp2/AssayPlate_PerkinElmer_CellCarrier-384 Ultra_F11_T0039F008L01A01Z01C01.tif\n",
      "/data2/varun/HiTIPS_paper_data/fig_5/kpnb1/exp2/AssayPlate_PerkinElmer_CellCarrier-384 Ultra_F11_T0039F009L01A01Z01C01.tif\n",
      "/data2/varun/HiTIPS_paper_data/fig_5/kpnb1/exp2/AssayPlate_PerkinElmer_CellCarrier-384 Ultra_F11_T0040F001L01A01Z01C01.tif\n",
      "/data2/varun/HiTIPS_paper_data/fig_5/kpnb1/exp2/AssayPlate_PerkinElmer_CellCarrier-384 Ultra_F11_T0039F007L01A01Z01C01.tif\n",
      "/data2/varun/HiTIPS_paper_data/fig_5/kpnb1/exp2/AssayPlate_PerkinElmer_CellCarrier-384 Ultra_F11_T0040F002L01A01Z01C01.tif\n",
      "/data2/varun/HiTIPS_paper_data/fig_5/kpnb1/exp2/AssayPlate_PerkinElmer_CellCarrier-384 Ultra_F11_T0040F003L01A01Z01C01.tif\n",
      "/data2/varun/HiTIPS_paper_data/fig_5/kpnb1/exp2/AssayPlate_PerkinElmer_CellCarrier-384 Ultra_F11_T0040F005L01A01Z01C01.tif\n",
      "/data2/varun/HiTIPS_paper_data/fig_5/kpnb1/exp2/AssayPlate_PerkinElmer_CellCarrier-384 Ultra_F11_T0040F004L01A01Z01C01.tif\n",
      "/data2/varun/HiTIPS_paper_data/fig_5/kpnb1/exp2/AssayPlate_PerkinElmer_CellCarrier-384 Ultra_F11_T0040F007L01A01Z01C01.tif/data2/varun/HiTIPS_paper_data/fig_5/kpnb1/exp2/AssayPlate_PerkinElmer_CellCarrier-384 Ultra_F11_T0040F008L01A01Z01C01.tif\n",
      "\n",
      "/data2/varun/HiTIPS_paper_data/fig_5/kpnb1/exp2/AssayPlate_PerkinElmer_CellCarrier-384 Ultra_F11_T0040F006L01A01Z01C01.tif\n",
      "/data2/varun/HiTIPS_paper_data/fig_5/kpnb1/exp2/AssayPlate_PerkinElmer_CellCarrier-384 Ultra_F11_T0040F009L01A01Z01C01.tif\n",
      "/data2/varun/HiTIPS_paper_data/fig_5/kpnb1/exp2/AssayPlate_PerkinElmer_CellCarrier-384 Ultra_F11_T0041F002L01A01Z01C01.tif\n",
      "/data2/varun/HiTIPS_paper_data/fig_5/kpnb1/exp2/AssayPlate_PerkinElmer_CellCarrier-384 Ultra_F11_T0041F001L01A01Z01C01.tif\n",
      "/data2/varun/HiTIPS_paper_data/fig_5/kpnb1/exp2/AssayPlate_PerkinElmer_CellCarrier-384 Ultra_F11_T0041F003L01A01Z01C01.tif\n",
      "/data2/varun/HiTIPS_paper_data/fig_5/kpnb1/exp2/AssayPlate_PerkinElmer_CellCarrier-384 Ultra_F11_T0041F004L01A01Z01C01.tif\n",
      "/data2/varun/HiTIPS_paper_data/fig_5/kpnb1/exp2/AssayPlate_PerkinElmer_CellCarrier-384 Ultra_F11_T0041F006L01A01Z01C01.tif\n",
      "/data2/varun/HiTIPS_paper_data/fig_5/kpnb1/exp2/AssayPlate_PerkinElmer_CellCarrier-384 Ultra_F11_T0041F005L01A01Z01C01.tif\n",
      "/data2/varun/HiTIPS_paper_data/fig_5/kpnb1/exp2/AssayPlate_PerkinElmer_CellCarrier-384 Ultra_F11_T0041F008L01A01Z01C01.tif\n",
      "/data2/varun/HiTIPS_paper_data/fig_5/kpnb1/exp2/AssayPlate_PerkinElmer_CellCarrier-384 Ultra_F11_T0041F007L01A01Z01C01.tif\n",
      "/data2/varun/HiTIPS_paper_data/fig_5/kpnb1/exp2/AssayPlate_PerkinElmer_CellCarrier-384 Ultra_F11_T0042F001L01A01Z01C01.tif\n",
      "/data2/varun/HiTIPS_paper_data/fig_5/kpnb1/exp2/AssayPlate_PerkinElmer_CellCarrier-384 Ultra_F11_T0042F002L01A01Z01C01.tif\n",
      "/data2/varun/HiTIPS_paper_data/fig_5/kpnb1/exp2/AssayPlate_PerkinElmer_CellCarrier-384 Ultra_F11_T0041F009L01A01Z01C01.tif\n",
      "/data2/varun/HiTIPS_paper_data/fig_5/kpnb1/exp2/AssayPlate_PerkinElmer_CellCarrier-384 Ultra_F11_T0042F003L01A01Z01C01.tif\n",
      "/data2/varun/HiTIPS_paper_data/fig_5/kpnb1/exp2/AssayPlate_PerkinElmer_CellCarrier-384 Ultra_F11_T0042F005L01A01Z01C01.tif\n",
      "/data2/varun/HiTIPS_paper_data/fig_5/kpnb1/exp2/AssayPlate_PerkinElmer_CellCarrier-384 Ultra_F11_T0042F006L01A01Z01C01.tif\n",
      "/data2/varun/HiTIPS_paper_data/fig_5/kpnb1/exp2/AssayPlate_PerkinElmer_CellCarrier-384 Ultra_F11_T0042F007L01A01Z01C01.tif\n",
      "/data2/varun/HiTIPS_paper_data/fig_5/kpnb1/exp2/AssayPlate_PerkinElmer_CellCarrier-384 Ultra_F11_T0042F004L01A01Z01C01.tif\n",
      "/data2/varun/HiTIPS_paper_data/fig_5/kpnb1/exp2/AssayPlate_PerkinElmer_CellCarrier-384 Ultra_F11_T0042F009L01A01Z01C01.tif\n",
      "/data2/varun/HiTIPS_paper_data/fig_5/kpnb1/exp2/AssayPlate_PerkinElmer_CellCarrier-384 Ultra_F11_T0043F002L01A01Z01C01.tif\n",
      "/data2/varun/HiTIPS_paper_data/fig_5/kpnb1/exp2/AssayPlate_PerkinElmer_CellCarrier-384 Ultra_F11_T0042F008L01A01Z01C01.tif\n",
      "/data2/varun/HiTIPS_paper_data/fig_5/kpnb1/exp2/AssayPlate_PerkinElmer_CellCarrier-384 Ultra_F11_T0043F001L01A01Z01C01.tif\n",
      "/data2/varun/HiTIPS_paper_data/fig_5/kpnb1/exp2/AssayPlate_PerkinElmer_CellCarrier-384 Ultra_F11_T0043F003L01A01Z01C01.tif\n",
      "/data2/varun/HiTIPS_paper_data/fig_5/kpnb1/exp2/AssayPlate_PerkinElmer_CellCarrier-384 Ultra_F11_T0043F005L01A01Z01C01.tif\n",
      "/data2/varun/HiTIPS_paper_data/fig_5/kpnb1/exp2/AssayPlate_PerkinElmer_CellCarrier-384 Ultra_F11_T0043F004L01A01Z01C01.tif\n",
      "/data2/varun/HiTIPS_paper_data/fig_5/kpnb1/exp2/AssayPlate_PerkinElmer_CellCarrier-384 Ultra_F11_T0043F006L01A01Z01C01.tif\n",
      "/data2/varun/HiTIPS_paper_data/fig_5/kpnb1/exp2/AssayPlate_PerkinElmer_CellCarrier-384 Ultra_F11_T0043F008L01A01Z01C01.tif\n",
      "/data2/varun/HiTIPS_paper_data/fig_5/kpnb1/exp2/AssayPlate_PerkinElmer_CellCarrier-384 Ultra_F11_T0043F007L01A01Z01C01.tif\n",
      "/data2/varun/HiTIPS_paper_data/fig_5/kpnb1/exp2/AssayPlate_PerkinElmer_CellCarrier-384 Ultra_F11_T0044F001L01A01Z01C01.tif\n",
      "/data2/varun/HiTIPS_paper_data/fig_5/kpnb1/exp2/AssayPlate_PerkinElmer_CellCarrier-384 Ultra_F11_T0043F009L01A01Z01C01.tif\n",
      "/data2/varun/HiTIPS_paper_data/fig_5/kpnb1/exp2/AssayPlate_PerkinElmer_CellCarrier-384 Ultra_F11_T0044F002L01A01Z01C01.tif\n",
      "/data2/varun/HiTIPS_paper_data/fig_5/kpnb1/exp2/AssayPlate_PerkinElmer_CellCarrier-384 Ultra_F11_T0044F003L01A01Z01C01.tif\n",
      "/data2/varun/HiTIPS_paper_data/fig_5/kpnb1/exp2/AssayPlate_PerkinElmer_CellCarrier-384 Ultra_F11_T0044F005L01A01Z01C01.tif\n",
      "/data2/varun/HiTIPS_paper_data/fig_5/kpnb1/exp2/AssayPlate_PerkinElmer_CellCarrier-384 Ultra_F11_T0044F004L01A01Z01C01.tif\n",
      "/data2/varun/HiTIPS_paper_data/fig_5/kpnb1/exp2/AssayPlate_PerkinElmer_CellCarrier-384 Ultra_F11_T0044F006L01A01Z01C01.tif\n",
      "/data2/varun/HiTIPS_paper_data/fig_5/kpnb1/exp2/AssayPlate_PerkinElmer_CellCarrier-384 Ultra_F11_T0044F007L01A01Z01C01.tif\n",
      "/data2/varun/HiTIPS_paper_data/fig_5/kpnb1/exp2/AssayPlate_PerkinElmer_CellCarrier-384 Ultra_F11_T0044F008L01A01Z01C01.tif\n",
      "/data2/varun/HiTIPS_paper_data/fig_5/kpnb1/exp2/AssayPlate_PerkinElmer_CellCarrier-384 Ultra_F11_T0044F009L01A01Z01C01.tif\n",
      "/data2/varun/HiTIPS_paper_data/fig_5/kpnb1/exp2/AssayPlate_PerkinElmer_CellCarrier-384 Ultra_F11_T0045F002L01A01Z01C01.tif\n",
      "/data2/varun/HiTIPS_paper_data/fig_5/kpnb1/exp2/AssayPlate_PerkinElmer_CellCarrier-384 Ultra_F11_T0045F003L01A01Z01C01.tif\n",
      "/data2/varun/HiTIPS_paper_data/fig_5/kpnb1/exp2/AssayPlate_PerkinElmer_CellCarrier-384 Ultra_F11_T0045F001L01A01Z01C01.tif\n",
      "/data2/varun/HiTIPS_paper_data/fig_5/kpnb1/exp2/AssayPlate_PerkinElmer_CellCarrier-384 Ultra_F11_T0045F004L01A01Z01C01.tif\n",
      "/data2/varun/HiTIPS_paper_data/fig_5/kpnb1/exp2/AssayPlate_PerkinElmer_CellCarrier-384 Ultra_F11_T0045F005L01A01Z01C01.tif\n",
      "/data2/varun/HiTIPS_paper_data/fig_5/kpnb1/exp2/AssayPlate_PerkinElmer_CellCarrier-384 Ultra_F11_T0045F006L01A01Z01C01.tif\n",
      "/data2/varun/HiTIPS_paper_data/fig_5/kpnb1/exp2/AssayPlate_PerkinElmer_CellCarrier-384 Ultra_F11_T0045F008L01A01Z01C01.tif\n",
      "/data2/varun/HiTIPS_paper_data/fig_5/kpnb1/exp2/AssayPlate_PerkinElmer_CellCarrier-384 Ultra_F11_T0045F007L01A01Z01C01.tif\n",
      "/data2/varun/HiTIPS_paper_data/fig_5/kpnb1/exp2/AssayPlate_PerkinElmer_CellCarrier-384 Ultra_F11_T0046F001L01A01Z01C01.tif\n",
      "/data2/varun/HiTIPS_paper_data/fig_5/kpnb1/exp2/AssayPlate_PerkinElmer_CellCarrier-384 Ultra_F11_T0046F002L01A01Z01C01.tif\n",
      "/data2/varun/HiTIPS_paper_data/fig_5/kpnb1/exp2/AssayPlate_PerkinElmer_CellCarrier-384 Ultra_F11_T0045F009L01A01Z01C01.tif\n",
      "/data2/varun/HiTIPS_paper_data/fig_5/kpnb1/exp2/AssayPlate_PerkinElmer_CellCarrier-384 Ultra_F11_T0046F003L01A01Z01C01.tif\n",
      "/data2/varun/HiTIPS_paper_data/fig_5/kpnb1/exp2/AssayPlate_PerkinElmer_CellCarrier-384 Ultra_F11_T0046F005L01A01Z01C01.tif\n",
      "/data2/varun/HiTIPS_paper_data/fig_5/kpnb1/exp2/AssayPlate_PerkinElmer_CellCarrier-384 Ultra_F11_T0046F007L01A01Z01C01.tif\n",
      "/data2/varun/HiTIPS_paper_data/fig_5/kpnb1/exp2/AssayPlate_PerkinElmer_CellCarrier-384 Ultra_F11_T0046F006L01A01Z01C01.tif\n",
      "/data2/varun/HiTIPS_paper_data/fig_5/kpnb1/exp2/AssayPlate_PerkinElmer_CellCarrier-384 Ultra_F11_T0046F004L01A01Z01C01.tif\n",
      "/data2/varun/HiTIPS_paper_data/fig_5/kpnb1/exp2/AssayPlate_PerkinElmer_CellCarrier-384 Ultra_F11_T0046F009L01A01Z01C01.tif\n",
      "/data2/varun/HiTIPS_paper_data/fig_5/kpnb1/exp2/AssayPlate_PerkinElmer_CellCarrier-384 Ultra_F11_T0046F008L01A01Z01C01.tif\n",
      "/data2/varun/HiTIPS_paper_data/fig_5/kpnb1/exp2/AssayPlate_PerkinElmer_CellCarrier-384 Ultra_F11_T0047F002L01A01Z01C01.tif\n",
      "/data2/varun/HiTIPS_paper_data/fig_5/kpnb1/exp2/AssayPlate_PerkinElmer_CellCarrier-384 Ultra_F11_T0047F001L01A01Z01C01.tif\n",
      "/data2/varun/HiTIPS_paper_data/fig_5/kpnb1/exp2/AssayPlate_PerkinElmer_CellCarrier-384 Ultra_F11_T0047F004L01A01Z01C01.tif\n",
      "/data2/varun/HiTIPS_paper_data/fig_5/kpnb1/exp2/AssayPlate_PerkinElmer_CellCarrier-384 Ultra_F11_T0047F005L01A01Z01C01.tif\n",
      "/data2/varun/HiTIPS_paper_data/fig_5/kpnb1/exp2/AssayPlate_PerkinElmer_CellCarrier-384 Ultra_F11_T0047F003L01A01Z01C01.tif\n",
      "/data2/varun/HiTIPS_paper_data/fig_5/kpnb1/exp2/AssayPlate_PerkinElmer_CellCarrier-384 Ultra_F11_T0047F006L01A01Z01C01.tif\n",
      "/data2/varun/HiTIPS_paper_data/fig_5/kpnb1/exp2/AssayPlate_PerkinElmer_CellCarrier-384 Ultra_F11_T0047F008L01A01Z01C01.tif\n",
      "/data2/varun/HiTIPS_paper_data/fig_5/kpnb1/exp2/AssayPlate_PerkinElmer_CellCarrier-384 Ultra_F11_T0048F001L01A01Z01C01.tif\n",
      "/data2/varun/HiTIPS_paper_data/fig_5/kpnb1/exp2/AssayPlate_PerkinElmer_CellCarrier-384 Ultra_F11_T0047F007L01A01Z01C01.tif\n",
      "/data2/varun/HiTIPS_paper_data/fig_5/kpnb1/exp2/AssayPlate_PerkinElmer_CellCarrier-384 Ultra_F11_T0047F009L01A01Z01C01.tif\n",
      "/data2/varun/HiTIPS_paper_data/fig_5/kpnb1/exp2/AssayPlate_PerkinElmer_CellCarrier-384 Ultra_F11_T0048F002L01A01Z01C01.tif\n",
      "/data2/varun/HiTIPS_paper_data/fig_5/kpnb1/exp2/AssayPlate_PerkinElmer_CellCarrier-384 Ultra_F11_T0048F003L01A01Z01C01.tif\n",
      "/data2/varun/HiTIPS_paper_data/fig_5/kpnb1/exp2/AssayPlate_PerkinElmer_CellCarrier-384 Ultra_F11_T0048F004L01A01Z01C01.tif\n",
      "/data2/varun/HiTIPS_paper_data/fig_5/kpnb1/exp2/AssayPlate_PerkinElmer_CellCarrier-384 Ultra_F11_T0048F005L01A01Z01C01.tif\n",
      "/data2/varun/HiTIPS_paper_data/fig_5/kpnb1/exp2/AssayPlate_PerkinElmer_CellCarrier-384 Ultra_F11_T0048F007L01A01Z01C01.tif\n",
      "/data2/varun/HiTIPS_paper_data/fig_5/kpnb1/exp2/AssayPlate_PerkinElmer_CellCarrier-384 Ultra_F11_T0048F006L01A01Z01C01.tif\n",
      "/data2/varun/HiTIPS_paper_data/fig_5/kpnb1/exp2/AssayPlate_PerkinElmer_CellCarrier-384 Ultra_F11_T0048F008L01A01Z01C01.tif\n",
      "/data2/varun/HiTIPS_paper_data/fig_5/kpnb1/exp2/AssayPlate_PerkinElmer_CellCarrier-384 Ultra_F11_T0048F009L01A01Z01C01.tif\n",
      "/data2/varun/HiTIPS_paper_data/fig_5/kpnb1/exp2/AssayPlate_PerkinElmer_CellCarrier-384 Ultra_F11_T0049F002L01A01Z01C01.tif\n",
      "/data2/varun/HiTIPS_paper_data/fig_5/kpnb1/exp2/AssayPlate_PerkinElmer_CellCarrier-384 Ultra_F11_T0049F001L01A01Z01C01.tif\n",
      "/data2/varun/HiTIPS_paper_data/fig_5/kpnb1/exp2/AssayPlate_PerkinElmer_CellCarrier-384 Ultra_F11_T0049F004L01A01Z01C01.tif\n",
      "/data2/varun/HiTIPS_paper_data/fig_5/kpnb1/exp2/AssayPlate_PerkinElmer_CellCarrier-384 Ultra_F11_T0049F003L01A01Z01C01.tif\n",
      "/data2/varun/HiTIPS_paper_data/fig_5/kpnb1/exp2/AssayPlate_PerkinElmer_CellCarrier-384 Ultra_F11_T0049F005L01A01Z01C01.tif\n",
      "/data2/varun/HiTIPS_paper_data/fig_5/kpnb1/exp2/AssayPlate_PerkinElmer_CellCarrier-384 Ultra_F11_T0049F007L01A01Z01C01.tif\n",
      "/data2/varun/HiTIPS_paper_data/fig_5/kpnb1/exp2/AssayPlate_PerkinElmer_CellCarrier-384 Ultra_F11_T0049F006L01A01Z01C01.tif\n",
      "/data2/varun/HiTIPS_paper_data/fig_5/kpnb1/exp2/AssayPlate_PerkinElmer_CellCarrier-384 Ultra_F11_T0049F008L01A01Z01C01.tif\n",
      "/data2/varun/HiTIPS_paper_data/fig_5/kpnb1/exp2/AssayPlate_PerkinElmer_CellCarrier-384 Ultra_F11_T0050F001L01A01Z01C01.tif\n",
      "/data2/varun/HiTIPS_paper_data/fig_5/kpnb1/exp2/AssayPlate_PerkinElmer_CellCarrier-384 Ultra_F11_T0050F003L01A01Z01C01.tif\n",
      "/data2/varun/HiTIPS_paper_data/fig_5/kpnb1/exp2/AssayPlate_PerkinElmer_CellCarrier-384 Ultra_F11_T0049F009L01A01Z01C01.tif\n",
      "/data2/varun/HiTIPS_paper_data/fig_5/kpnb1/exp2/AssayPlate_PerkinElmer_CellCarrier-384 Ultra_F11_T0050F002L01A01Z01C01.tif\n",
      "/data2/varun/HiTIPS_paper_data/fig_5/kpnb1/exp2/AssayPlate_PerkinElmer_CellCarrier-384 Ultra_F11_T0050F005L01A01Z01C01.tif\n",
      "/data2/varun/HiTIPS_paper_data/fig_5/kpnb1/exp2/AssayPlate_PerkinElmer_CellCarrier-384 Ultra_F11_T0050F007L01A01Z01C01.tif\n",
      "/data2/varun/HiTIPS_paper_data/fig_5/kpnb1/exp2/AssayPlate_PerkinElmer_CellCarrier-384 Ultra_F11_T0050F004L01A01Z01C01.tif\n",
      "/data2/varun/HiTIPS_paper_data/fig_5/kpnb1/exp2/AssayPlate_PerkinElmer_CellCarrier-384 Ultra_F11_T0050F006L01A01Z01C01.tif\n",
      "/data2/varun/HiTIPS_paper_data/fig_5/kpnb1/exp2/AssayPlate_PerkinElmer_CellCarrier-384 Ultra_F11_T0050F009L01A01Z01C01.tif/data2/varun/HiTIPS_paper_data/fig_5/kpnb1/exp2/AssayPlate_PerkinElmer_CellCarrier-384 Ultra_F11_T0051F001L01A01Z01C01.tif\n",
      "\n",
      "/data2/varun/HiTIPS_paper_data/fig_5/kpnb1/exp2/AssayPlate_PerkinElmer_CellCarrier-384 Ultra_F11_T0050F008L01A01Z01C01.tif\n",
      "/data2/varun/HiTIPS_paper_data/fig_5/kpnb1/exp2/AssayPlate_PerkinElmer_CellCarrier-384 Ultra_F11_T0051F002L01A01Z01C01.tif\n",
      "/data2/varun/HiTIPS_paper_data/fig_5/kpnb1/exp2/AssayPlate_PerkinElmer_CellCarrier-384 Ultra_F11_T0051F004L01A01Z01C01.tif\n",
      "/data2/varun/HiTIPS_paper_data/fig_5/kpnb1/exp2/AssayPlate_PerkinElmer_CellCarrier-384 Ultra_F11_T0051F005L01A01Z01C01.tif\n",
      "/data2/varun/HiTIPS_paper_data/fig_5/kpnb1/exp2/AssayPlate_PerkinElmer_CellCarrier-384 Ultra_F11_T0051F006L01A01Z01C01.tif\n",
      "/data2/varun/HiTIPS_paper_data/fig_5/kpnb1/exp2/AssayPlate_PerkinElmer_CellCarrier-384 Ultra_F11_T0051F003L01A01Z01C01.tif\n",
      "/data2/varun/HiTIPS_paper_data/fig_5/kpnb1/exp2/AssayPlate_PerkinElmer_CellCarrier-384 Ultra_F11_T0051F008L01A01Z01C01.tif\n",
      "/data2/varun/HiTIPS_paper_data/fig_5/kpnb1/exp2/AssayPlate_PerkinElmer_CellCarrier-384 Ultra_F11_T0052F001L01A01Z01C01.tif\n",
      "/data2/varun/HiTIPS_paper_data/fig_5/kpnb1/exp2/AssayPlate_PerkinElmer_CellCarrier-384 Ultra_F11_T0051F007L01A01Z01C01.tif\n",
      "/data2/varun/HiTIPS_paper_data/fig_5/kpnb1/exp2/AssayPlate_PerkinElmer_CellCarrier-384 Ultra_F11_T0051F009L01A01Z01C01.tif\n",
      "/data2/varun/HiTIPS_paper_data/fig_5/kpnb1/exp2/AssayPlate_PerkinElmer_CellCarrier-384 Ultra_F11_T0052F003L01A01Z01C01.tif\n",
      "/data2/varun/HiTIPS_paper_data/fig_5/kpnb1/exp2/AssayPlate_PerkinElmer_CellCarrier-384 Ultra_F11_T0052F002L01A01Z01C01.tif\n",
      "/data2/varun/HiTIPS_paper_data/fig_5/kpnb1/exp2/AssayPlate_PerkinElmer_CellCarrier-384 Ultra_F11_T0052F005L01A01Z01C01.tif\n",
      "/data2/varun/HiTIPS_paper_data/fig_5/kpnb1/exp2/AssayPlate_PerkinElmer_CellCarrier-384 Ultra_F11_T0052F004L01A01Z01C01.tif\n",
      "/data2/varun/HiTIPS_paper_data/fig_5/kpnb1/exp2/AssayPlate_PerkinElmer_CellCarrier-384 Ultra_F11_T0052F007L01A01Z01C01.tif\n",
      "/data2/varun/HiTIPS_paper_data/fig_5/kpnb1/exp2/AssayPlate_PerkinElmer_CellCarrier-384 Ultra_F11_T0052F008L01A01Z01C01.tif\n",
      "/data2/varun/HiTIPS_paper_data/fig_5/kpnb1/exp2/AssayPlate_PerkinElmer_CellCarrier-384 Ultra_F11_T0052F009L01A01Z01C01.tif\n",
      "/data2/varun/HiTIPS_paper_data/fig_5/kpnb1/exp2/AssayPlate_PerkinElmer_CellCarrier-384 Ultra_F11_T0052F006L01A01Z01C01.tif\n",
      "/data2/varun/HiTIPS_paper_data/fig_5/kpnb1/exp2/AssayPlate_PerkinElmer_CellCarrier-384 Ultra_F11_T0053F002L01A01Z01C01.tif\n",
      "/data2/varun/HiTIPS_paper_data/fig_5/kpnb1/exp2/AssayPlate_PerkinElmer_CellCarrier-384 Ultra_F11_T0053F001L01A01Z01C01.tif\n",
      "/data2/varun/HiTIPS_paper_data/fig_5/kpnb1/exp2/AssayPlate_PerkinElmer_CellCarrier-384 Ultra_F11_T0053F003L01A01Z01C01.tif\n",
      "/data2/varun/HiTIPS_paper_data/fig_5/kpnb1/exp2/AssayPlate_PerkinElmer_CellCarrier-384 Ultra_F11_T0053F004L01A01Z01C01.tif\n",
      "/data2/varun/HiTIPS_paper_data/fig_5/kpnb1/exp2/AssayPlate_PerkinElmer_CellCarrier-384 Ultra_F11_T0053F006L01A01Z01C01.tif\n",
      "/data2/varun/HiTIPS_paper_data/fig_5/kpnb1/exp2/AssayPlate_PerkinElmer_CellCarrier-384 Ultra_F11_T0053F007L01A01Z01C01.tif\n",
      "/data2/varun/HiTIPS_paper_data/fig_5/kpnb1/exp2/AssayPlate_PerkinElmer_CellCarrier-384 Ultra_F11_T0053F005L01A01Z01C01.tif\n",
      "/data2/varun/HiTIPS_paper_data/fig_5/kpnb1/exp2/AssayPlate_PerkinElmer_CellCarrier-384 Ultra_F11_T0053F008L01A01Z01C01.tif\n",
      "/data2/varun/HiTIPS_paper_data/fig_5/kpnb1/exp2/AssayPlate_PerkinElmer_CellCarrier-384 Ultra_F11_T0054F001L01A01Z01C01.tif\n",
      "/data2/varun/HiTIPS_paper_data/fig_5/kpnb1/exp2/AssayPlate_PerkinElmer_CellCarrier-384 Ultra_F11_T0054F002L01A01Z01C01.tif\n",
      "/data2/varun/HiTIPS_paper_data/fig_5/kpnb1/exp2/AssayPlate_PerkinElmer_CellCarrier-384 Ultra_F11_T0054F003L01A01Z01C01.tif\n",
      "/data2/varun/HiTIPS_paper_data/fig_5/kpnb1/exp2/AssayPlate_PerkinElmer_CellCarrier-384 Ultra_F11_T0053F009L01A01Z01C01.tif\n",
      "/data2/varun/HiTIPS_paper_data/fig_5/kpnb1/exp2/AssayPlate_PerkinElmer_CellCarrier-384 Ultra_F11_T0054F005L01A01Z01C01.tif\n",
      "/data2/varun/HiTIPS_paper_data/fig_5/kpnb1/exp2/AssayPlate_PerkinElmer_CellCarrier-384 Ultra_F11_T0054F004L01A01Z01C01.tif\n",
      "/data2/varun/HiTIPS_paper_data/fig_5/kpnb1/exp2/AssayPlate_PerkinElmer_CellCarrier-384 Ultra_F11_T0054F007L01A01Z01C01.tif\n",
      "/data2/varun/HiTIPS_paper_data/fig_5/kpnb1/exp2/AssayPlate_PerkinElmer_CellCarrier-384 Ultra_F11_T0054F006L01A01Z01C01.tif\n",
      "/data2/varun/HiTIPS_paper_data/fig_5/kpnb1/exp2/AssayPlate_PerkinElmer_CellCarrier-384 Ultra_F11_T0055F002L01A01Z01C01.tif\n",
      "/data2/varun/HiTIPS_paper_data/fig_5/kpnb1/exp2/AssayPlate_PerkinElmer_CellCarrier-384 Ultra_F11_T0054F009L01A01Z01C01.tif\n",
      "/data2/varun/HiTIPS_paper_data/fig_5/kpnb1/exp2/AssayPlate_PerkinElmer_CellCarrier-384 Ultra_F11_T0054F008L01A01Z01C01.tif\n",
      "/data2/varun/HiTIPS_paper_data/fig_5/kpnb1/exp2/AssayPlate_PerkinElmer_CellCarrier-384 Ultra_F11_T0055F001L01A01Z01C01.tif\n",
      "/data2/varun/HiTIPS_paper_data/fig_5/kpnb1/exp2/AssayPlate_PerkinElmer_CellCarrier-384 Ultra_F11_T0055F004L01A01Z01C01.tif\n",
      "/data2/varun/HiTIPS_paper_data/fig_5/kpnb1/exp2/AssayPlate_PerkinElmer_CellCarrier-384 Ultra_F11_T0055F006L01A01Z01C01.tif\n",
      "/data2/varun/HiTIPS_paper_data/fig_5/kpnb1/exp2/AssayPlate_PerkinElmer_CellCarrier-384 Ultra_F11_T0055F005L01A01Z01C01.tif\n",
      "/data2/varun/HiTIPS_paper_data/fig_5/kpnb1/exp2/AssayPlate_PerkinElmer_CellCarrier-384 Ultra_F11_T0055F003L01A01Z01C01.tif\n",
      "/data2/varun/HiTIPS_paper_data/fig_5/kpnb1/exp2/AssayPlate_PerkinElmer_CellCarrier-384 Ultra_F11_T0056F001L01A01Z01C01.tif\n",
      "/data2/varun/HiTIPS_paper_data/fig_5/kpnb1/exp2/AssayPlate_PerkinElmer_CellCarrier-384 Ultra_F11_T0055F008L01A01Z01C01.tif\n",
      "/data2/varun/HiTIPS_paper_data/fig_5/kpnb1/exp2/AssayPlate_PerkinElmer_CellCarrier-384 Ultra_F11_T0055F007L01A01Z01C01.tif\n",
      "/data2/varun/HiTIPS_paper_data/fig_5/kpnb1/exp2/AssayPlate_PerkinElmer_CellCarrier-384 Ultra_F11_T0055F009L01A01Z01C01.tif\n",
      "/data2/varun/HiTIPS_paper_data/fig_5/kpnb1/exp2/AssayPlate_PerkinElmer_CellCarrier-384 Ultra_F11_T0056F003L01A01Z01C01.tif\n",
      "/data2/varun/HiTIPS_paper_data/fig_5/kpnb1/exp2/AssayPlate_PerkinElmer_CellCarrier-384 Ultra_F11_T0056F002L01A01Z01C01.tif\n",
      "/data2/varun/HiTIPS_paper_data/fig_5/kpnb1/exp2/AssayPlate_PerkinElmer_CellCarrier-384 Ultra_F11_T0056F005L01A01Z01C01.tif\n",
      "/data2/varun/HiTIPS_paper_data/fig_5/kpnb1/exp2/AssayPlate_PerkinElmer_CellCarrier-384 Ultra_F11_T0056F004L01A01Z01C01.tif\n",
      "/data2/varun/HiTIPS_paper_data/fig_5/kpnb1/exp2/AssayPlate_PerkinElmer_CellCarrier-384 Ultra_F11_T0056F008L01A01Z01C01.tif\n",
      "/data2/varun/HiTIPS_paper_data/fig_5/kpnb1/exp2/AssayPlate_PerkinElmer_CellCarrier-384 Ultra_F11_T0056F007L01A01Z01C01.tif\n",
      "/data2/varun/HiTIPS_paper_data/fig_5/kpnb1/exp2/AssayPlate_PerkinElmer_CellCarrier-384 Ultra_F11_T0056F006L01A01Z01C01.tif\n",
      "/data2/varun/HiTIPS_paper_data/fig_5/kpnb1/exp2/AssayPlate_PerkinElmer_CellCarrier-384 Ultra_F11_T0056F009L01A01Z01C01.tif\n",
      "/data2/varun/HiTIPS_paper_data/fig_5/kpnb1/exp2/AssayPlate_PerkinElmer_CellCarrier-384 Ultra_F11_T0057F002L01A01Z01C01.tif\n",
      "/data2/varun/HiTIPS_paper_data/fig_5/kpnb1/exp2/AssayPlate_PerkinElmer_CellCarrier-384 Ultra_F11_T0057F003L01A01Z01C01.tif\n",
      "/data2/varun/HiTIPS_paper_data/fig_5/kpnb1/exp2/AssayPlate_PerkinElmer_CellCarrier-384 Ultra_F11_T0057F001L01A01Z01C01.tif\n",
      "/data2/varun/HiTIPS_paper_data/fig_5/kpnb1/exp2/AssayPlate_PerkinElmer_CellCarrier-384 Ultra_F11_T0057F004L01A01Z01C01.tif\n",
      "/data2/varun/HiTIPS_paper_data/fig_5/kpnb1/exp2/AssayPlate_PerkinElmer_CellCarrier-384 Ultra_F11_T0057F006L01A01Z01C01.tif\n",
      "/data2/varun/HiTIPS_paper_data/fig_5/kpnb1/exp2/AssayPlate_PerkinElmer_CellCarrier-384 Ultra_F11_T0057F008L01A01Z01C01.tif\n",
      "/data2/varun/HiTIPS_paper_data/fig_5/kpnb1/exp2/AssayPlate_PerkinElmer_CellCarrier-384 Ultra_F11_T0057F005L01A01Z01C01.tif\n",
      "/data2/varun/HiTIPS_paper_data/fig_5/kpnb1/exp2/AssayPlate_PerkinElmer_CellCarrier-384 Ultra_F11_T0057F007L01A01Z01C01.tif\n",
      "/data2/varun/HiTIPS_paper_data/fig_5/kpnb1/exp2/AssayPlate_PerkinElmer_CellCarrier-384 Ultra_F11_T0058F001L01A01Z01C01.tif\n",
      "/data2/varun/HiTIPS_paper_data/fig_5/kpnb1/exp2/AssayPlate_PerkinElmer_CellCarrier-384 Ultra_F11_T0057F009L01A01Z01C01.tif\n",
      "/data2/varun/HiTIPS_paper_data/fig_5/kpnb1/exp2/AssayPlate_PerkinElmer_CellCarrier-384 Ultra_F11_T0058F002L01A01Z01C01.tif\n",
      "/data2/varun/HiTIPS_paper_data/fig_5/kpnb1/exp2/AssayPlate_PerkinElmer_CellCarrier-384 Ultra_F11_T0058F003L01A01Z01C01.tif\n",
      "/data2/varun/HiTIPS_paper_data/fig_5/kpnb1/exp2/AssayPlate_PerkinElmer_CellCarrier-384 Ultra_F11_T0058F005L01A01Z01C01.tif\n",
      "/data2/varun/HiTIPS_paper_data/fig_5/kpnb1/exp2/AssayPlate_PerkinElmer_CellCarrier-384 Ultra_F11_T0058F004L01A01Z01C01.tif\n",
      "/data2/varun/HiTIPS_paper_data/fig_5/kpnb1/exp2/AssayPlate_PerkinElmer_CellCarrier-384 Ultra_F11_T0058F006L01A01Z01C01.tif\n",
      "/data2/varun/HiTIPS_paper_data/fig_5/kpnb1/exp2/AssayPlate_PerkinElmer_CellCarrier-384 Ultra_F11_T0058F007L01A01Z01C01.tif\n",
      "/data2/varun/HiTIPS_paper_data/fig_5/kpnb1/exp2/AssayPlate_PerkinElmer_CellCarrier-384 Ultra_F11_T0058F009L01A01Z01C01.tif\n",
      "/data2/varun/HiTIPS_paper_data/fig_5/kpnb1/exp2/AssayPlate_PerkinElmer_CellCarrier-384 Ultra_F11_T0058F008L01A01Z01C01.tif\n",
      "/data2/varun/HiTIPS_paper_data/fig_5/kpnb1/exp2/AssayPlate_PerkinElmer_CellCarrier-384 Ultra_F11_T0059F002L01A01Z01C01.tif\n",
      "/data2/varun/HiTIPS_paper_data/fig_5/kpnb1/exp2/AssayPlate_PerkinElmer_CellCarrier-384 Ultra_F11_T0059F001L01A01Z01C01.tif\n",
      "/data2/varun/HiTIPS_paper_data/fig_5/kpnb1/exp2/AssayPlate_PerkinElmer_CellCarrier-384 Ultra_F11_T0059F003L01A01Z01C01.tif\n",
      "/data2/varun/HiTIPS_paper_data/fig_5/kpnb1/exp2/AssayPlate_PerkinElmer_CellCarrier-384 Ultra_F11_T0059F004L01A01Z01C01.tif\n",
      "/data2/varun/HiTIPS_paper_data/fig_5/kpnb1/exp2/AssayPlate_PerkinElmer_CellCarrier-384 Ultra_F11_T0059F005L01A01Z01C01.tif\n",
      "/data2/varun/HiTIPS_paper_data/fig_5/kpnb1/exp2/AssayPlate_PerkinElmer_CellCarrier-384 Ultra_F11_T0059F006L01A01Z01C01.tif\n",
      "/data2/varun/HiTIPS_paper_data/fig_5/kpnb1/exp2/AssayPlate_PerkinElmer_CellCarrier-384 Ultra_F11_T0059F008L01A01Z01C01.tif\n",
      "/data2/varun/HiTIPS_paper_data/fig_5/kpnb1/exp2/AssayPlate_PerkinElmer_CellCarrier-384 Ultra_F11_T0059F007L01A01Z01C01.tif\n",
      "/data2/varun/HiTIPS_paper_data/fig_5/kpnb1/exp2/AssayPlate_PerkinElmer_CellCarrier-384 Ultra_F11_T0059F009L01A01Z01C01.tif\n",
      "/data2/varun/HiTIPS_paper_data/fig_5/kpnb1/exp2/AssayPlate_PerkinElmer_CellCarrier-384 Ultra_F11_T0060F001L01A01Z01C01.tif\n",
      "/data2/varun/HiTIPS_paper_data/fig_5/kpnb1/exp2/AssayPlate_PerkinElmer_CellCarrier-384 Ultra_F11_T0060F002L01A01Z01C01.tif\n",
      "/data2/varun/HiTIPS_paper_data/fig_5/kpnb1/exp2/AssayPlate_PerkinElmer_CellCarrier-384 Ultra_F11_T0060F004L01A01Z01C01.tif\n",
      "/data2/varun/HiTIPS_paper_data/fig_5/kpnb1/exp2/AssayPlate_PerkinElmer_CellCarrier-384 Ultra_F11_T0060F003L01A01Z01C01.tif\n",
      "/data2/varun/HiTIPS_paper_data/fig_5/kpnb1/exp2/AssayPlate_PerkinElmer_CellCarrier-384 Ultra_F11_T0060F005L01A01Z01C01.tif\n",
      "/data2/varun/HiTIPS_paper_data/fig_5/kpnb1/exp2/AssayPlate_PerkinElmer_CellCarrier-384 Ultra_F11_T0060F007L01A01Z01C01.tif\n",
      "/data2/varun/HiTIPS_paper_data/fig_5/kpnb1/exp2/AssayPlate_PerkinElmer_CellCarrier-384 Ultra_F11_T0060F008L01A01Z01C01.tif\n",
      "/data2/varun/HiTIPS_paper_data/fig_5/kpnb1/exp2/AssayPlate_PerkinElmer_CellCarrier-384 Ultra_F11_T0060F009L01A01Z01C01.tif\n",
      "/data2/varun/HiTIPS_paper_data/fig_5/kpnb1/exp2/AssayPlate_PerkinElmer_CellCarrier-384 Ultra_F11_T0060F006L01A01Z01C01.tif\n",
      "/data2/varun/HiTIPS_paper_data/fig_5/kpnb1/exp2/AssayPlate_PerkinElmer_CellCarrier-384 Ultra_F11_T0061F002L01A01Z01C01.tif\n",
      "/data2/varun/HiTIPS_paper_data/fig_5/kpnb1/exp2/AssayPlate_PerkinElmer_CellCarrier-384 Ultra_F11_T0061F004L01A01Z01C01.tif\n",
      "/data2/varun/HiTIPS_paper_data/fig_5/kpnb1/exp2/AssayPlate_PerkinElmer_CellCarrier-384 Ultra_F11_T0061F001L01A01Z01C01.tif\n",
      "/data2/varun/HiTIPS_paper_data/fig_5/kpnb1/exp2/AssayPlate_PerkinElmer_CellCarrier-384 Ultra_F11_T0061F003L01A01Z01C01.tif\n",
      "/data2/varun/HiTIPS_paper_data/fig_5/kpnb1/exp2/AssayPlate_PerkinElmer_CellCarrier-384 Ultra_F11_T0061F007L01A01Z01C01.tif\n",
      "/data2/varun/HiTIPS_paper_data/fig_5/kpnb1/exp2/AssayPlate_PerkinElmer_CellCarrier-384 Ultra_F11_T0061F006L01A01Z01C01.tif\n",
      "/data2/varun/HiTIPS_paper_data/fig_5/kpnb1/exp2/AssayPlate_PerkinElmer_CellCarrier-384 Ultra_F11_T0061F008L01A01Z01C01.tif\n",
      "/data2/varun/HiTIPS_paper_data/fig_5/kpnb1/exp2/AssayPlate_PerkinElmer_CellCarrier-384 Ultra_F11_T0061F005L01A01Z01C01.tif\n",
      "/data2/varun/HiTIPS_paper_data/fig_5/kpnb1/exp2/AssayPlate_PerkinElmer_CellCarrier-384 Ultra_F11_T0062F002L01A01Z01C01.tif\n",
      "/data2/varun/HiTIPS_paper_data/fig_5/kpnb1/exp2/AssayPlate_PerkinElmer_CellCarrier-384 Ultra_F11_T0062F001L01A01Z01C01.tif\n",
      "/data2/varun/HiTIPS_paper_data/fig_5/kpnb1/exp2/AssayPlate_PerkinElmer_CellCarrier-384 Ultra_F11_T0061F009L01A01Z01C01.tif\n",
      "/data2/varun/HiTIPS_paper_data/fig_5/kpnb1/exp2/AssayPlate_PerkinElmer_CellCarrier-384 Ultra_F11_T0062F003L01A01Z01C01.tif\n",
      "/data2/varun/HiTIPS_paper_data/fig_5/kpnb1/exp2/AssayPlate_PerkinElmer_CellCarrier-384 Ultra_F11_T0062F005L01A01Z01C01.tif\n",
      "/data2/varun/HiTIPS_paper_data/fig_5/kpnb1/exp2/AssayPlate_PerkinElmer_CellCarrier-384 Ultra_F11_T0062F006L01A01Z01C01.tif\n",
      "/data2/varun/HiTIPS_paper_data/fig_5/kpnb1/exp2/AssayPlate_PerkinElmer_CellCarrier-384 Ultra_F11_T0062F004L01A01Z01C01.tif\n",
      "/data2/varun/HiTIPS_paper_data/fig_5/kpnb1/exp2/AssayPlate_PerkinElmer_CellCarrier-384 Ultra_F11_T0062F007L01A01Z01C01.tif\n",
      "/data2/varun/HiTIPS_paper_data/fig_5/kpnb1/exp2/AssayPlate_PerkinElmer_CellCarrier-384 Ultra_F11_T0063F001L01A01Z01C01.tif\n",
      "/data2/varun/HiTIPS_paper_data/fig_5/kpnb1/exp2/AssayPlate_PerkinElmer_CellCarrier-384 Ultra_F11_T0063F002L01A01Z01C01.tif\n",
      "/data2/varun/HiTIPS_paper_data/fig_5/kpnb1/exp2/AssayPlate_PerkinElmer_CellCarrier-384 Ultra_F11_T0062F009L01A01Z01C01.tif\n",
      "/data2/varun/HiTIPS_paper_data/fig_5/kpnb1/exp2/AssayPlate_PerkinElmer_CellCarrier-384 Ultra_F11_T0062F008L01A01Z01C01.tif\n",
      "/data2/varun/HiTIPS_paper_data/fig_5/kpnb1/exp2/AssayPlate_PerkinElmer_CellCarrier-384 Ultra_F11_T0063F004L01A01Z01C01.tif\n",
      "/data2/varun/HiTIPS_paper_data/fig_5/kpnb1/exp2/AssayPlate_PerkinElmer_CellCarrier-384 Ultra_F11_T0063F003L01A01Z01C01.tif\n",
      "/data2/varun/HiTIPS_paper_data/fig_5/kpnb1/exp2/AssayPlate_PerkinElmer_CellCarrier-384 Ultra_F11_T0063F005L01A01Z01C01.tif\n",
      "/data2/varun/HiTIPS_paper_data/fig_5/kpnb1/exp2/AssayPlate_PerkinElmer_CellCarrier-384 Ultra_F11_T0063F006L01A01Z01C01.tif\n",
      "/data2/varun/HiTIPS_paper_data/fig_5/kpnb1/exp2/AssayPlate_PerkinElmer_CellCarrier-384 Ultra_F11_T0063F007L01A01Z01C01.tif\n",
      "/data2/varun/HiTIPS_paper_data/fig_5/kpnb1/exp2/AssayPlate_PerkinElmer_CellCarrier-384 Ultra_F11_T0063F008L01A01Z01C01.tif\n",
      "/data2/varun/HiTIPS_paper_data/fig_5/kpnb1/exp2/AssayPlate_PerkinElmer_CellCarrier-384 Ultra_F11_T0063F009L01A01Z01C01.tif\n",
      "/data2/varun/HiTIPS_paper_data/fig_5/kpnb1/exp2/AssayPlate_PerkinElmer_CellCarrier-384 Ultra_F11_T0064F001L01A01Z01C01.tif\n",
      "/data2/varun/HiTIPS_paper_data/fig_5/kpnb1/exp2/AssayPlate_PerkinElmer_CellCarrier-384 Ultra_F11_T0064F003L01A01Z01C01.tif\n",
      "/data2/varun/HiTIPS_paper_data/fig_5/kpnb1/exp2/AssayPlate_PerkinElmer_CellCarrier-384 Ultra_F11_T0064F004L01A01Z01C01.tif/data2/varun/HiTIPS_paper_data/fig_5/kpnb1/exp2/AssayPlate_PerkinElmer_CellCarrier-384 Ultra_F11_T0064F005L01A01Z01C01.tif\n",
      "\n",
      "/data2/varun/HiTIPS_paper_data/fig_5/kpnb1/exp2/AssayPlate_PerkinElmer_CellCarrier-384 Ultra_F11_T0064F002L01A01Z01C01.tif\n",
      "/data2/varun/HiTIPS_paper_data/fig_5/kpnb1/exp2/AssayPlate_PerkinElmer_CellCarrier-384 Ultra_F11_T0064F007L01A01Z01C01.tif\n",
      "/data2/varun/HiTIPS_paper_data/fig_5/kpnb1/exp2/AssayPlate_PerkinElmer_CellCarrier-384 Ultra_F11_T0064F008L01A01Z01C01.tif\n",
      "/data2/varun/HiTIPS_paper_data/fig_5/kpnb1/exp2/AssayPlate_PerkinElmer_CellCarrier-384 Ultra_F11_T0064F006L01A01Z01C01.tif\n",
      "/data2/varun/HiTIPS_paper_data/fig_5/kpnb1/exp2/AssayPlate_PerkinElmer_CellCarrier-384 Ultra_F11_T0064F009L01A01Z01C01.tif\n",
      "/data2/varun/HiTIPS_paper_data/fig_5/kpnb1/exp2/AssayPlate_PerkinElmer_CellCarrier-384 Ultra_F11_T0065F001L01A01Z01C01.tif\n",
      "/data2/varun/HiTIPS_paper_data/fig_5/kpnb1/exp2/AssayPlate_PerkinElmer_CellCarrier-384 Ultra_F11_T0065F002L01A01Z01C01.tif\n",
      "/data2/varun/HiTIPS_paper_data/fig_5/kpnb1/exp2/AssayPlate_PerkinElmer_CellCarrier-384 Ultra_F11_T0065F003L01A01Z01C01.tif\n",
      "/data2/varun/HiTIPS_paper_data/fig_5/kpnb1/exp2/AssayPlate_PerkinElmer_CellCarrier-384 Ultra_F11_T0065F004L01A01Z01C01.tif\n",
      "/data2/varun/HiTIPS_paper_data/fig_5/kpnb1/exp2/AssayPlate_PerkinElmer_CellCarrier-384 Ultra_F11_T0065F008L01A01Z01C01.tif\n",
      "/data2/varun/HiTIPS_paper_data/fig_5/kpnb1/exp2/AssayPlate_PerkinElmer_CellCarrier-384 Ultra_F11_T0065F006L01A01Z01C01.tif\n",
      "/data2/varun/HiTIPS_paper_data/fig_5/kpnb1/exp2/AssayPlate_PerkinElmer_CellCarrier-384 Ultra_F11_T0065F005L01A01Z01C01.tif\n",
      "/data2/varun/HiTIPS_paper_data/fig_5/kpnb1/exp2/AssayPlate_PerkinElmer_CellCarrier-384 Ultra_F11_T0065F007L01A01Z01C01.tif\n",
      "/data2/varun/HiTIPS_paper_data/fig_5/kpnb1/exp2/AssayPlate_PerkinElmer_CellCarrier-384 Ultra_F11_T0066F001L01A01Z01C01.tif\n",
      "/data2/varun/HiTIPS_paper_data/fig_5/kpnb1/exp2/AssayPlate_PerkinElmer_CellCarrier-384 Ultra_F11_T0065F009L01A01Z01C01.tif\n",
      "/data2/varun/HiTIPS_paper_data/fig_5/kpnb1/exp2/AssayPlate_PerkinElmer_CellCarrier-384 Ultra_F11_T0066F002L01A01Z01C01.tif\n",
      "/data2/varun/HiTIPS_paper_data/fig_5/kpnb1/exp2/AssayPlate_PerkinElmer_CellCarrier-384 Ultra_F11_T0066F003L01A01Z01C01.tif\n",
      "/data2/varun/HiTIPS_paper_data/fig_5/kpnb1/exp2/AssayPlate_PerkinElmer_CellCarrier-384 Ultra_F11_T0066F005L01A01Z01C01.tif\n",
      "/data2/varun/HiTIPS_paper_data/fig_5/kpnb1/exp2/AssayPlate_PerkinElmer_CellCarrier-384 Ultra_F11_T0066F006L01A01Z01C01.tif\n",
      "/data2/varun/HiTIPS_paper_data/fig_5/kpnb1/exp2/AssayPlate_PerkinElmer_CellCarrier-384 Ultra_F11_T0066F004L01A01Z01C01.tif\n",
      "/data2/varun/HiTIPS_paper_data/fig_5/kpnb1/exp2/AssayPlate_PerkinElmer_CellCarrier-384 Ultra_F11_T0066F007L01A01Z01C01.tif\n",
      "/data2/varun/HiTIPS_paper_data/fig_5/kpnb1/exp2/AssayPlate_PerkinElmer_CellCarrier-384 Ultra_F11_T0066F009L01A01Z01C01.tif\n",
      "/data2/varun/HiTIPS_paper_data/fig_5/kpnb1/exp2/AssayPlate_PerkinElmer_CellCarrier-384 Ultra_F11_T0066F008L01A01Z01C01.tif\n",
      "/data2/varun/HiTIPS_paper_data/fig_5/kpnb1/exp2/AssayPlate_PerkinElmer_CellCarrier-384 Ultra_F11_T0067F001L01A01Z01C01.tif\n",
      "/data2/varun/HiTIPS_paper_data/fig_5/kpnb1/exp2/AssayPlate_PerkinElmer_CellCarrier-384 Ultra_F11_T0067F002L01A01Z01C01.tif\n",
      "/data2/varun/HiTIPS_paper_data/fig_5/kpnb1/exp2/AssayPlate_PerkinElmer_CellCarrier-384 Ultra_F11_T0067F003L01A01Z01C01.tif\n",
      "/data2/varun/HiTIPS_paper_data/fig_5/kpnb1/exp2/AssayPlate_PerkinElmer_CellCarrier-384 Ultra_F11_T0067F005L01A01Z01C01.tif\n",
      "/data2/varun/HiTIPS_paper_data/fig_5/kpnb1/exp2/AssayPlate_PerkinElmer_CellCarrier-384 Ultra_F11_T0067F004L01A01Z01C01.tif\n",
      "/data2/varun/HiTIPS_paper_data/fig_5/kpnb1/exp2/AssayPlate_PerkinElmer_CellCarrier-384 Ultra_F11_T0067F006L01A01Z01C01.tif\n",
      "/data2/varun/HiTIPS_paper_data/fig_5/kpnb1/exp2/AssayPlate_PerkinElmer_CellCarrier-384 Ultra_F11_T0068F001L01A01Z01C01.tif\n",
      "/data2/varun/HiTIPS_paper_data/fig_5/kpnb1/exp2/AssayPlate_PerkinElmer_CellCarrier-384 Ultra_F11_T0067F009L01A01Z01C01.tif\n",
      "/data2/varun/HiTIPS_paper_data/fig_5/kpnb1/exp2/AssayPlate_PerkinElmer_CellCarrier-384 Ultra_F11_T0067F008L01A01Z01C01.tif\n",
      "/data2/varun/HiTIPS_paper_data/fig_5/kpnb1/exp2/AssayPlate_PerkinElmer_CellCarrier-384 Ultra_F11_T0067F007L01A01Z01C01.tif\n",
      "/data2/varun/HiTIPS_paper_data/fig_5/kpnb1/exp2/AssayPlate_PerkinElmer_CellCarrier-384 Ultra_F11_T0068F003L01A01Z01C01.tif\n",
      "/data2/varun/HiTIPS_paper_data/fig_5/kpnb1/exp2/AssayPlate_PerkinElmer_CellCarrier-384 Ultra_F11_T0068F005L01A01Z01C01.tif\n",
      "/data2/varun/HiTIPS_paper_data/fig_5/kpnb1/exp2/AssayPlate_PerkinElmer_CellCarrier-384 Ultra_F11_T0068F002L01A01Z01C01.tif\n",
      "/data2/varun/HiTIPS_paper_data/fig_5/kpnb1/exp2/AssayPlate_PerkinElmer_CellCarrier-384 Ultra_F11_T0068F004L01A01Z01C01.tif\n",
      "/data2/varun/HiTIPS_paper_data/fig_5/kpnb1/exp2/AssayPlate_PerkinElmer_CellCarrier-384 Ultra_F11_T0068F007L01A01Z01C01.tif\n",
      "/data2/varun/HiTIPS_paper_data/fig_5/kpnb1/exp2/AssayPlate_PerkinElmer_CellCarrier-384 Ultra_F11_T0068F008L01A01Z01C01.tif\n",
      "/data2/varun/HiTIPS_paper_data/fig_5/kpnb1/exp2/AssayPlate_PerkinElmer_CellCarrier-384 Ultra_F11_T0068F009L01A01Z01C01.tif\n",
      "/data2/varun/HiTIPS_paper_data/fig_5/kpnb1/exp2/AssayPlate_PerkinElmer_CellCarrier-384 Ultra_F11_T0068F006L01A01Z01C01.tif\n",
      "/data2/varun/HiTIPS_paper_data/fig_5/kpnb1/exp2/AssayPlate_PerkinElmer_CellCarrier-384 Ultra_F11_T0069F002L01A01Z01C01.tif\n",
      "/data2/varun/HiTIPS_paper_data/fig_5/kpnb1/exp2/AssayPlate_PerkinElmer_CellCarrier-384 Ultra_F11_T0069F001L01A01Z01C01.tif\n",
      "/data2/varun/HiTIPS_paper_data/fig_5/kpnb1/exp2/AssayPlate_PerkinElmer_CellCarrier-384 Ultra_F11_T0069F004L01A01Z01C01.tif\n",
      "/data2/varun/HiTIPS_paper_data/fig_5/kpnb1/exp2/AssayPlate_PerkinElmer_CellCarrier-384 Ultra_F11_T0069F003L01A01Z01C01.tif\n",
      "/data2/varun/HiTIPS_paper_data/fig_5/kpnb1/exp2/AssayPlate_PerkinElmer_CellCarrier-384 Ultra_F11_T0069F005L01A01Z01C01.tif\n",
      "/data2/varun/HiTIPS_paper_data/fig_5/kpnb1/exp2/AssayPlate_PerkinElmer_CellCarrier-384 Ultra_F11_T0069F007L01A01Z01C01.tif\n",
      "/data2/varun/HiTIPS_paper_data/fig_5/kpnb1/exp2/AssayPlate_PerkinElmer_CellCarrier-384 Ultra_F11_T0069F006L01A01Z01C01.tif\n",
      "/data2/varun/HiTIPS_paper_data/fig_5/kpnb1/exp2/AssayPlate_PerkinElmer_CellCarrier-384 Ultra_F11_T0069F008L01A01Z01C01.tif\n",
      "/data2/varun/HiTIPS_paper_data/fig_5/kpnb1/exp2/AssayPlate_PerkinElmer_CellCarrier-384 Ultra_F11_T0070F001L01A01Z01C01.tif\n",
      "/data2/varun/HiTIPS_paper_data/fig_5/kpnb1/exp2/AssayPlate_PerkinElmer_CellCarrier-384 Ultra_F11_T0069F009L01A01Z01C01.tif\n",
      "/data2/varun/HiTIPS_paper_data/fig_5/kpnb1/exp2/AssayPlate_PerkinElmer_CellCarrier-384 Ultra_F11_T0070F002L01A01Z01C01.tif\n",
      "/data2/varun/HiTIPS_paper_data/fig_5/kpnb1/exp2/AssayPlate_PerkinElmer_CellCarrier-384 Ultra_F11_T0070F003L01A01Z01C01.tif\n",
      "/data2/varun/HiTIPS_paper_data/fig_5/kpnb1/exp2/AssayPlate_PerkinElmer_CellCarrier-384 Ultra_F11_T0070F005L01A01Z01C01.tif\n",
      "/data2/varun/HiTIPS_paper_data/fig_5/kpnb1/exp2/AssayPlate_PerkinElmer_CellCarrier-384 Ultra_F11_T0070F004L01A01Z01C01.tif\n",
      "/data2/varun/HiTIPS_paper_data/fig_5/kpnb1/exp2/AssayPlate_PerkinElmer_CellCarrier-384 Ultra_F11_T0070F006L01A01Z01C01.tif\n",
      "/data2/varun/HiTIPS_paper_data/fig_5/kpnb1/exp2/AssayPlate_PerkinElmer_CellCarrier-384 Ultra_F11_T0070F007L01A01Z01C01.tif\n",
      "/data2/varun/HiTIPS_paper_data/fig_5/kpnb1/exp2/AssayPlate_PerkinElmer_CellCarrier-384 Ultra_F11_T0070F009L01A01Z01C01.tif\n",
      "/data2/varun/HiTIPS_paper_data/fig_5/kpnb1/exp2/AssayPlate_PerkinElmer_CellCarrier-384 Ultra_F11_T0070F008L01A01Z01C01.tif\n",
      "/data2/varun/HiTIPS_paper_data/fig_5/kpnb1/exp2/AssayPlate_PerkinElmer_CellCarrier-384 Ultra_F11_T0071F002L01A01Z01C01.tif\n",
      "/data2/varun/HiTIPS_paper_data/fig_5/kpnb1/exp2/AssayPlate_PerkinElmer_CellCarrier-384 Ultra_F11_T0071F001L01A01Z01C01.tif\n",
      "/data2/varun/HiTIPS_paper_data/fig_5/kpnb1/exp2/AssayPlate_PerkinElmer_CellCarrier-384 Ultra_F11_T0071F005L01A01Z01C01.tif\n",
      "/data2/varun/HiTIPS_paper_data/fig_5/kpnb1/exp2/AssayPlate_PerkinElmer_CellCarrier-384 Ultra_F11_T0071F004L01A01Z01C01.tif\n",
      "/data2/varun/HiTIPS_paper_data/fig_5/kpnb1/exp2/AssayPlate_PerkinElmer_CellCarrier-384 Ultra_F11_T0071F003L01A01Z01C01.tif\n",
      "/data2/varun/HiTIPS_paper_data/fig_5/kpnb1/exp2/AssayPlate_PerkinElmer_CellCarrier-384 Ultra_F11_T0071F006L01A01Z01C01.tif\n",
      "/data2/varun/HiTIPS_paper_data/fig_5/kpnb1/exp2/AssayPlate_PerkinElmer_CellCarrier-384 Ultra_F11_T0071F008L01A01Z01C01.tif\n",
      "/data2/varun/HiTIPS_paper_data/fig_5/kpnb1/exp2/AssayPlate_PerkinElmer_CellCarrier-384 Ultra_F11_T0072F001L01A01Z01C01.tif\n",
      "/data2/varun/HiTIPS_paper_data/fig_5/kpnb1/exp2/AssayPlate_PerkinElmer_CellCarrier-384 Ultra_F11_T0071F007L01A01Z01C01.tif\n",
      "/data2/varun/HiTIPS_paper_data/fig_5/kpnb1/exp2/AssayPlate_PerkinElmer_CellCarrier-384 Ultra_F11_T0071F009L01A01Z01C01.tif\n",
      "/data2/varun/HiTIPS_paper_data/fig_5/kpnb1/exp2/AssayPlate_PerkinElmer_CellCarrier-384 Ultra_F11_T0072F005L01A01Z01C01.tif\n",
      "/data2/varun/HiTIPS_paper_data/fig_5/kpnb1/exp2/AssayPlate_PerkinElmer_CellCarrier-384 Ultra_F11_T0072F004L01A01Z01C01.tif\n",
      "/data2/varun/HiTIPS_paper_data/fig_5/kpnb1/exp2/AssayPlate_PerkinElmer_CellCarrier-384 Ultra_F11_T0072F002L01A01Z01C01.tif\n",
      "/data2/varun/HiTIPS_paper_data/fig_5/kpnb1/exp2/AssayPlate_PerkinElmer_CellCarrier-384 Ultra_F11_T0072F003L01A01Z01C01.tif\n",
      "/data2/varun/HiTIPS_paper_data/fig_5/kpnb1/exp2/AssayPlate_PerkinElmer_CellCarrier-384 Ultra_F11_T0072F006L01A01Z01C01.tif\n",
      "/data2/varun/HiTIPS_paper_data/fig_5/kpnb1/exp2/AssayPlate_PerkinElmer_CellCarrier-384 Ultra_F11_T0072F008L01A01Z01C01.tif\n",
      "/data2/varun/HiTIPS_paper_data/fig_5/kpnb1/exp2/AssayPlate_PerkinElmer_CellCarrier-384 Ultra_F11_T0072F009L01A01Z01C01.tif\n",
      "/data2/varun/HiTIPS_paper_data/fig_5/kpnb1/exp2/AssayPlate_PerkinElmer_CellCarrier-384 Ultra_F11_T0072F007L01A01Z01C01.tif\n",
      "/data2/varun/HiTIPS_paper_data/fig_5/kpnb1/exp2/AssayPlate_PerkinElmer_CellCarrier-384 Ultra_F11_T0073F004L01A01Z01C01.tif\n",
      "/data2/varun/HiTIPS_paper_data/fig_5/kpnb1/exp2/AssayPlate_PerkinElmer_CellCarrier-384 Ultra_F11_T0073F003L01A01Z01C01.tif\n",
      "/data2/varun/HiTIPS_paper_data/fig_5/kpnb1/exp2/AssayPlate_PerkinElmer_CellCarrier-384 Ultra_F11_T0073F002L01A01Z01C01.tif\n",
      "/data2/varun/HiTIPS_paper_data/fig_5/kpnb1/exp2/AssayPlate_PerkinElmer_CellCarrier-384 Ultra_F11_T0073F001L01A01Z01C01.tif\n",
      "/data2/varun/HiTIPS_paper_data/fig_5/kpnb1/exp2/AssayPlate_PerkinElmer_CellCarrier-384 Ultra_F11_T0073F006L01A01Z01C01.tif\n",
      "/data2/varun/HiTIPS_paper_data/fig_5/kpnb1/exp2/AssayPlate_PerkinElmer_CellCarrier-384 Ultra_F11_T0073F005L01A01Z01C01.tif\n",
      "/data2/varun/HiTIPS_paper_data/fig_5/kpnb1/exp2/AssayPlate_PerkinElmer_CellCarrier-384 Ultra_F11_T0073F008L01A01Z01C01.tif\n",
      "/data2/varun/HiTIPS_paper_data/fig_5/kpnb1/exp2/AssayPlate_PerkinElmer_CellCarrier-384 Ultra_F11_T0073F007L01A01Z01C01.tif\n",
      "/data2/varun/HiTIPS_paper_data/fig_5/kpnb1/exp2/AssayPlate_PerkinElmer_CellCarrier-384 Ultra_F11_T0074F001L01A01Z01C01.tif\n",
      "/data2/varun/HiTIPS_paper_data/fig_5/kpnb1/exp2/AssayPlate_PerkinElmer_CellCarrier-384 Ultra_F11_T0074F002L01A01Z01C01.tif\n",
      "/data2/varun/HiTIPS_paper_data/fig_5/kpnb1/exp2/AssayPlate_PerkinElmer_CellCarrier-384 Ultra_F11_T0073F009L01A01Z01C01.tif\n",
      "/data2/varun/HiTIPS_paper_data/fig_5/kpnb1/exp2/AssayPlate_PerkinElmer_CellCarrier-384 Ultra_F11_T0074F003L01A01Z01C01.tif\n",
      "/data2/varun/HiTIPS_paper_data/fig_5/kpnb1/exp2/AssayPlate_PerkinElmer_CellCarrier-384 Ultra_F11_T0074F005L01A01Z01C01.tif\n",
      "/data2/varun/HiTIPS_paper_data/fig_5/kpnb1/exp2/AssayPlate_PerkinElmer_CellCarrier-384 Ultra_F11_T0074F006L01A01Z01C01.tif\n",
      "/data2/varun/HiTIPS_paper_data/fig_5/kpnb1/exp2/AssayPlate_PerkinElmer_CellCarrier-384 Ultra_F11_T0074F007L01A01Z01C01.tif\n",
      "/data2/varun/HiTIPS_paper_data/fig_5/kpnb1/exp2/AssayPlate_PerkinElmer_CellCarrier-384 Ultra_F11_T0074F004L01A01Z01C01.tif\n",
      "/data2/varun/HiTIPS_paper_data/fig_5/kpnb1/exp2/AssayPlate_PerkinElmer_CellCarrier-384 Ultra_F11_T0074F009L01A01Z01C01.tif\n",
      "/data2/varun/HiTIPS_paper_data/fig_5/kpnb1/exp2/AssayPlate_PerkinElmer_CellCarrier-384 Ultra_F11_T0075F002L01A01Z01C01.tif\n",
      "/data2/varun/HiTIPS_paper_data/fig_5/kpnb1/exp2/AssayPlate_PerkinElmer_CellCarrier-384 Ultra_F11_T0075F001L01A01Z01C01.tif\n",
      "/data2/varun/HiTIPS_paper_data/fig_5/kpnb1/exp2/AssayPlate_PerkinElmer_CellCarrier-384 Ultra_F11_T0074F008L01A01Z01C01.tif\n",
      "/data2/varun/HiTIPS_paper_data/fig_5/kpnb1/exp2/AssayPlate_PerkinElmer_CellCarrier-384 Ultra_F11_T0075F004L01A01Z01C01.tif\n",
      "/data2/varun/HiTIPS_paper_data/fig_5/kpnb1/exp2/AssayPlate_PerkinElmer_CellCarrier-384 Ultra_F11_T0075F005L01A01Z01C01.tif\n",
      "/data2/varun/HiTIPS_paper_data/fig_5/kpnb1/exp2/AssayPlate_PerkinElmer_CellCarrier-384 Ultra_F11_T0075F003L01A01Z01C01.tif\n",
      "/data2/varun/HiTIPS_paper_data/fig_5/kpnb1/exp2/AssayPlate_PerkinElmer_CellCarrier-384 Ultra_F11_T0075F006L01A01Z01C01.tif\n",
      "/data2/varun/HiTIPS_paper_data/fig_5/kpnb1/exp2/AssayPlate_PerkinElmer_CellCarrier-384 Ultra_F11_T0075F008L01A01Z01C01.tif\n",
      "/data2/varun/HiTIPS_paper_data/fig_5/kpnb1/exp2/AssayPlate_PerkinElmer_CellCarrier-384 Ultra_F11_T0075F007L01A01Z01C01.tif\n",
      "/data2/varun/HiTIPS_paper_data/fig_5/kpnb1/exp2/AssayPlate_PerkinElmer_CellCarrier-384 Ultra_F11_T0076F001L01A01Z01C01.tif\n",
      "/data2/varun/HiTIPS_paper_data/fig_5/kpnb1/exp2/AssayPlate_PerkinElmer_CellCarrier-384 Ultra_F11_T0075F009L01A01Z01C01.tif\n",
      "/data2/varun/HiTIPS_paper_data/fig_5/kpnb1/exp2/AssayPlate_PerkinElmer_CellCarrier-384 Ultra_F11_T0076F002L01A01Z01C01.tif\n",
      "/data2/varun/HiTIPS_paper_data/fig_5/kpnb1/exp2/AssayPlate_PerkinElmer_CellCarrier-384 Ultra_F11_T0076F005L01A01Z01C01.tif\n",
      "/data2/varun/HiTIPS_paper_data/fig_5/kpnb1/exp2/AssayPlate_PerkinElmer_CellCarrier-384 Ultra_F11_T0076F003L01A01Z01C01.tif\n",
      "/data2/varun/HiTIPS_paper_data/fig_5/kpnb1/exp2/AssayPlate_PerkinElmer_CellCarrier-384 Ultra_F11_T0076F004L01A01Z01C01.tif\n",
      "/data2/varun/HiTIPS_paper_data/fig_5/kpnb1/exp2/AssayPlate_PerkinElmer_CellCarrier-384 Ultra_F11_T0076F007L01A01Z01C01.tif\n",
      "/data2/varun/HiTIPS_paper_data/fig_5/kpnb1/exp2/AssayPlate_PerkinElmer_CellCarrier-384 Ultra_F11_T0076F006L01A01Z01C01.tif\n",
      "/data2/varun/HiTIPS_paper_data/fig_5/kpnb1/exp2/AssayPlate_PerkinElmer_CellCarrier-384 Ultra_F11_T0076F009L01A01Z01C01.tif\n",
      "/data2/varun/HiTIPS_paper_data/fig_5/kpnb1/exp2/AssayPlate_PerkinElmer_CellCarrier-384 Ultra_F11_T0076F008L01A01Z01C01.tif\n",
      "/data2/varun/HiTIPS_paper_data/fig_5/kpnb1/exp2/AssayPlate_PerkinElmer_CellCarrier-384 Ultra_F11_T0077F002L01A01Z01C01.tif\n",
      "/data2/varun/HiTIPS_paper_data/fig_5/kpnb1/exp2/AssayPlate_PerkinElmer_CellCarrier-384 Ultra_F11_T0077F003L01A01Z01C01.tif\n",
      "/data2/varun/HiTIPS_paper_data/fig_5/kpnb1/exp2/AssayPlate_PerkinElmer_CellCarrier-384 Ultra_F11_T0077F004L01A01Z01C01.tif\n",
      "/data2/varun/HiTIPS_paper_data/fig_5/kpnb1/exp2/AssayPlate_PerkinElmer_CellCarrier-384 Ultra_F11_T0077F001L01A01Z01C01.tif\n",
      "/data2/varun/HiTIPS_paper_data/fig_5/kpnb1/exp2/AssayPlate_PerkinElmer_CellCarrier-384 Ultra_F11_T0077F007L01A01Z01C01.tif\n",
      "/data2/varun/HiTIPS_paper_data/fig_5/kpnb1/exp2/AssayPlate_PerkinElmer_CellCarrier-384 Ultra_F11_T0077F005L01A01Z01C01.tif\n",
      "/data2/varun/HiTIPS_paper_data/fig_5/kpnb1/exp2/AssayPlate_PerkinElmer_CellCarrier-384 Ultra_F11_T0077F008L01A01Z01C01.tif\n",
      "/data2/varun/HiTIPS_paper_data/fig_5/kpnb1/exp2/AssayPlate_PerkinElmer_CellCarrier-384 Ultra_F11_T0077F006L01A01Z01C01.tif\n",
      "/data2/varun/HiTIPS_paper_data/fig_5/kpnb1/exp2/AssayPlate_PerkinElmer_CellCarrier-384 Ultra_F11_T0078F003L01A01Z01C01.tif\n",
      "/data2/varun/HiTIPS_paper_data/fig_5/kpnb1/exp2/AssayPlate_PerkinElmer_CellCarrier-384 Ultra_F11_T0078F001L01A01Z01C01.tif\n",
      "/data2/varun/HiTIPS_paper_data/fig_5/kpnb1/exp2/AssayPlate_PerkinElmer_CellCarrier-384 Ultra_F11_T0078F002L01A01Z01C01.tif\n",
      "/data2/varun/HiTIPS_paper_data/fig_5/kpnb1/exp2/AssayPlate_PerkinElmer_CellCarrier-384 Ultra_F11_T0077F009L01A01Z01C01.tif\n",
      "/data2/varun/HiTIPS_paper_data/fig_5/kpnb1/exp2/AssayPlate_PerkinElmer_CellCarrier-384 Ultra_F11_T0078F005L01A01Z01C01.tif\n",
      "/data2/varun/HiTIPS_paper_data/fig_5/kpnb1/exp2/AssayPlate_PerkinElmer_CellCarrier-384 Ultra_F11_T0078F004L01A01Z01C01.tif\n",
      "/data2/varun/HiTIPS_paper_data/fig_5/kpnb1/exp2/AssayPlate_PerkinElmer_CellCarrier-384 Ultra_F11_T0078F007L01A01Z01C01.tif\n",
      "/data2/varun/HiTIPS_paper_data/fig_5/kpnb1/exp2/AssayPlate_PerkinElmer_CellCarrier-384 Ultra_F11_T0078F006L01A01Z01C01.tif\n",
      "/data2/varun/HiTIPS_paper_data/fig_5/kpnb1/exp2/AssayPlate_PerkinElmer_CellCarrier-384 Ultra_F11_T0078F009L01A01Z01C01.tif\n",
      "/data2/varun/HiTIPS_paper_data/fig_5/kpnb1/exp2/AssayPlate_PerkinElmer_CellCarrier-384 Ultra_F11_T0079F002L01A01Z01C01.tif\n",
      "/data2/varun/HiTIPS_paper_data/fig_5/kpnb1/exp2/AssayPlate_PerkinElmer_CellCarrier-384 Ultra_F11_T0079F001L01A01Z01C01.tif\n",
      "/data2/varun/HiTIPS_paper_data/fig_5/kpnb1/exp2/AssayPlate_PerkinElmer_CellCarrier-384 Ultra_F11_T0078F008L01A01Z01C01.tif\n",
      "/data2/varun/HiTIPS_paper_data/fig_5/kpnb1/exp2/AssayPlate_PerkinElmer_CellCarrier-384 Ultra_F11_T0079F004L01A01Z01C01.tif\n",
      "/data2/varun/HiTIPS_paper_data/fig_5/kpnb1/exp2/AssayPlate_PerkinElmer_CellCarrier-384 Ultra_F11_T0079F003L01A01Z01C01.tif\n",
      "/data2/varun/HiTIPS_paper_data/fig_5/kpnb1/exp2/AssayPlate_PerkinElmer_CellCarrier-384 Ultra_F11_T0079F005L01A01Z01C01.tif\n",
      "/data2/varun/HiTIPS_paper_data/fig_5/kpnb1/exp2/AssayPlate_PerkinElmer_CellCarrier-384 Ultra_F11_T0079F006L01A01Z01C01.tif\n",
      "/data2/varun/HiTIPS_paper_data/fig_5/kpnb1/exp2/AssayPlate_PerkinElmer_CellCarrier-384 Ultra_F11_T0079F009L01A01Z01C01.tif\n",
      "/data2/varun/HiTIPS_paper_data/fig_5/kpnb1/exp2/AssayPlate_PerkinElmer_CellCarrier-384 Ultra_F11_T0079F008L01A01Z01C01.tif\n",
      "/data2/varun/HiTIPS_paper_data/fig_5/kpnb1/exp2/AssayPlate_PerkinElmer_CellCarrier-384 Ultra_F11_T0080F001L01A01Z01C01.tif\n",
      "/data2/varun/HiTIPS_paper_data/fig_5/kpnb1/exp2/AssayPlate_PerkinElmer_CellCarrier-384 Ultra_F11_T0079F007L01A01Z01C01.tif\n",
      "/data2/varun/HiTIPS_paper_data/fig_5/kpnb1/exp2/AssayPlate_PerkinElmer_CellCarrier-384 Ultra_F11_T0080F003L01A01Z01C01.tif\n",
      "/data2/varun/HiTIPS_paper_data/fig_5/kpnb1/exp2/AssayPlate_PerkinElmer_CellCarrier-384 Ultra_F11_T0080F004L01A01Z01C01.tif\n",
      "/data2/varun/HiTIPS_paper_data/fig_5/kpnb1/exp2/AssayPlate_PerkinElmer_CellCarrier-384 Ultra_F11_T0080F005L01A01Z01C01.tif\n",
      "/data2/varun/HiTIPS_paper_data/fig_5/kpnb1/exp2/AssayPlate_PerkinElmer_CellCarrier-384 Ultra_F11_T0080F002L01A01Z01C01.tif\n",
      "/data2/varun/HiTIPS_paper_data/fig_5/kpnb1/exp2/AssayPlate_PerkinElmer_CellCarrier-384 Ultra_F11_T0080F009L01A01Z01C01.tif\n",
      "/data2/varun/HiTIPS_paper_data/fig_5/kpnb1/exp2/AssayPlate_PerkinElmer_CellCarrier-384 Ultra_F11_T0080F008L01A01Z01C01.tif\n",
      "/data2/varun/HiTIPS_paper_data/fig_5/kpnb1/exp2/AssayPlate_PerkinElmer_CellCarrier-384 Ultra_F11_T0080F007L01A01Z01C01.tif\n",
      "/data2/varun/HiTIPS_paper_data/fig_5/kpnb1/exp2/AssayPlate_PerkinElmer_CellCarrier-384 Ultra_F11_T0080F006L01A01Z01C01.tif\n",
      "/data2/varun/HiTIPS_paper_data/fig_5/kpnb1/exp2/AssayPlate_PerkinElmer_CellCarrier-384 Ultra_F11_T0081F002L01A01Z01C01.tif\n",
      "/data2/varun/HiTIPS_paper_data/fig_5/kpnb1/exp2/AssayPlate_PerkinElmer_CellCarrier-384 Ultra_F11_T0081F003L01A01Z01C01.tif\n",
      "/data2/varun/HiTIPS_paper_data/fig_5/kpnb1/exp2/AssayPlate_PerkinElmer_CellCarrier-384 Ultra_F11_T0081F001L01A01Z01C01.tif\n",
      "/data2/varun/HiTIPS_paper_data/fig_5/kpnb1/exp2/AssayPlate_PerkinElmer_CellCarrier-384 Ultra_F11_T0081F004L01A01Z01C01.tif\n",
      "/data2/varun/HiTIPS_paper_data/fig_5/kpnb1/exp2/AssayPlate_PerkinElmer_CellCarrier-384 Ultra_F11_T0081F006L01A01Z01C01.tif\n",
      "/data2/varun/HiTIPS_paper_data/fig_5/kpnb1/exp2/AssayPlate_PerkinElmer_CellCarrier-384 Ultra_F11_T0081F005L01A01Z01C01.tif\n",
      "/data2/varun/HiTIPS_paper_data/fig_5/kpnb1/exp2/AssayPlate_PerkinElmer_CellCarrier-384 Ultra_F11_T0081F008L01A01Z01C01.tif\n",
      "/data2/varun/HiTIPS_paper_data/fig_5/kpnb1/exp2/AssayPlate_PerkinElmer_CellCarrier-384 Ultra_F11_T0081F007L01A01Z01C01.tif\n",
      "/data2/varun/HiTIPS_paper_data/fig_5/kpnb1/exp2/AssayPlate_PerkinElmer_CellCarrier-384 Ultra_F11_T0082F002L01A01Z01C01.tif\n",
      "/data2/varun/HiTIPS_paper_data/fig_5/kpnb1/exp2/AssayPlate_PerkinElmer_CellCarrier-384 Ultra_F11_T0082F001L01A01Z01C01.tif\n",
      "/data2/varun/HiTIPS_paper_data/fig_5/kpnb1/exp2/AssayPlate_PerkinElmer_CellCarrier-384 Ultra_F11_T0082F003L01A01Z01C01.tif\n",
      "/data2/varun/HiTIPS_paper_data/fig_5/kpnb1/exp2/AssayPlate_PerkinElmer_CellCarrier-384 Ultra_F11_T0081F009L01A01Z01C01.tif\n",
      "/data2/varun/HiTIPS_paper_data/fig_5/kpnb1/exp2/AssayPlate_PerkinElmer_CellCarrier-384 Ultra_F11_T0082F005L01A01Z01C01.tif\n",
      "/data2/varun/HiTIPS_paper_data/fig_5/kpnb1/exp2/AssayPlate_PerkinElmer_CellCarrier-384 Ultra_F11_T0082F004L01A01Z01C01.tif\n",
      "/data2/varun/HiTIPS_paper_data/fig_5/kpnb1/exp2/AssayPlate_PerkinElmer_CellCarrier-384 Ultra_F11_T0082F007L01A01Z01C01.tif\n",
      "/data2/varun/HiTIPS_paper_data/fig_5/kpnb1/exp2/AssayPlate_PerkinElmer_CellCarrier-384 Ultra_F11_T0082F006L01A01Z01C01.tif\n",
      "/data2/varun/HiTIPS_paper_data/fig_5/kpnb1/exp2/AssayPlate_PerkinElmer_CellCarrier-384 Ultra_F11_T0083F001L01A01Z01C01.tif\n",
      "/data2/varun/HiTIPS_paper_data/fig_5/kpnb1/exp2/AssayPlate_PerkinElmer_CellCarrier-384 Ultra_F11_T0082F009L01A01Z01C01.tif\n",
      "/data2/varun/HiTIPS_paper_data/fig_5/kpnb1/exp2/AssayPlate_PerkinElmer_CellCarrier-384 Ultra_F11_T0083F002L01A01Z01C01.tif\n",
      "/data2/varun/HiTIPS_paper_data/fig_5/kpnb1/exp2/AssayPlate_PerkinElmer_CellCarrier-384 Ultra_F11_T0082F008L01A01Z01C01.tif\n",
      "/data2/varun/HiTIPS_paper_data/fig_5/kpnb1/exp2/AssayPlate_PerkinElmer_CellCarrier-384 Ultra_F11_T0083F004L01A01Z01C01.tif\n",
      "/data2/varun/HiTIPS_paper_data/fig_5/kpnb1/exp2/AssayPlate_PerkinElmer_CellCarrier-384 Ultra_F11_T0083F003L01A01Z01C01.tif\n",
      "/data2/varun/HiTIPS_paper_data/fig_5/kpnb1/exp2/AssayPlate_PerkinElmer_CellCarrier-384 Ultra_F11_T0083F006L01A01Z01C01.tif\n",
      "/data2/varun/HiTIPS_paper_data/fig_5/kpnb1/exp2/AssayPlate_PerkinElmer_CellCarrier-384 Ultra_F11_T0083F005L01A01Z01C01.tif\n",
      "/data2/varun/HiTIPS_paper_data/fig_5/kpnb1/exp2/AssayPlate_PerkinElmer_CellCarrier-384 Ultra_F11_T0084F001L01A01Z01C01.tif\n",
      "/data2/varun/HiTIPS_paper_data/fig_5/kpnb1/exp2/AssayPlate_PerkinElmer_CellCarrier-384 Ultra_F11_T0083F008L01A01Z01C01.tif\n",
      "/data2/varun/HiTIPS_paper_data/fig_5/kpnb1/exp2/AssayPlate_PerkinElmer_CellCarrier-384 Ultra_F11_T0083F007L01A01Z01C01.tif\n",
      "/data2/varun/HiTIPS_paper_data/fig_5/kpnb1/exp2/AssayPlate_PerkinElmer_CellCarrier-384 Ultra_F11_T0083F009L01A01Z01C01.tif\n",
      "/data2/varun/HiTIPS_paper_data/fig_5/kpnb1/exp2/AssayPlate_PerkinElmer_CellCarrier-384 Ultra_F11_T0084F003L01A01Z01C01.tif\n",
      "/data2/varun/HiTIPS_paper_data/fig_5/kpnb1/exp2/AssayPlate_PerkinElmer_CellCarrier-384 Ultra_F11_T0084F004L01A01Z01C01.tif\n",
      "/data2/varun/HiTIPS_paper_data/fig_5/kpnb1/exp2/AssayPlate_PerkinElmer_CellCarrier-384 Ultra_F11_T0084F005L01A01Z01C01.tif\n",
      "/data2/varun/HiTIPS_paper_data/fig_5/kpnb1/exp2/AssayPlate_PerkinElmer_CellCarrier-384 Ultra_F11_T0084F002L01A01Z01C01.tif\n",
      "/data2/varun/HiTIPS_paper_data/fig_5/kpnb1/exp2/AssayPlate_PerkinElmer_CellCarrier-384 Ultra_F11_T0084F008L01A01Z01C01.tif\n",
      "/data2/varun/HiTIPS_paper_data/fig_5/kpnb1/exp2/AssayPlate_PerkinElmer_CellCarrier-384 Ultra_F11_T0084F007L01A01Z01C01.tif\n",
      "/data2/varun/HiTIPS_paper_data/fig_5/kpnb1/exp2/AssayPlate_PerkinElmer_CellCarrier-384 Ultra_F11_T0084F009L01A01Z01C01.tif\n",
      "/data2/varun/HiTIPS_paper_data/fig_5/kpnb1/exp2/AssayPlate_PerkinElmer_CellCarrier-384 Ultra_F11_T0084F006L01A01Z01C01.tif\n",
      "/data2/varun/HiTIPS_paper_data/fig_5/kpnb1/exp2/AssayPlate_PerkinElmer_CellCarrier-384 Ultra_F11_T0085F002L01A01Z01C01.tif\n",
      "/data2/varun/HiTIPS_paper_data/fig_5/kpnb1/exp2/AssayPlate_PerkinElmer_CellCarrier-384 Ultra_F11_T0085F003L01A01Z01C01.tif\n",
      "/data2/varun/HiTIPS_paper_data/fig_5/kpnb1/exp2/AssayPlate_PerkinElmer_CellCarrier-384 Ultra_F11_T0085F004L01A01Z01C01.tif\n",
      "/data2/varun/HiTIPS_paper_data/fig_5/kpnb1/exp2/AssayPlate_PerkinElmer_CellCarrier-384 Ultra_F11_T0085F001L01A01Z01C01.tif\n",
      "/data2/varun/HiTIPS_paper_data/fig_5/kpnb1/exp2/AssayPlate_PerkinElmer_CellCarrier-384 Ultra_F11_T0085F006L01A01Z01C01.tif\n",
      "/data2/varun/HiTIPS_paper_data/fig_5/kpnb1/exp2/AssayPlate_PerkinElmer_CellCarrier-384 Ultra_F11_T0085F005L01A01Z01C01.tif\n",
      "/data2/varun/HiTIPS_paper_data/fig_5/kpnb1/exp2/AssayPlate_PerkinElmer_CellCarrier-384 Ultra_F11_T0085F007L01A01Z01C01.tif\n",
      "/data2/varun/HiTIPS_paper_data/fig_5/kpnb1/exp2/AssayPlate_PerkinElmer_CellCarrier-384 Ultra_F11_T0085F008L01A01Z01C01.tif\n",
      "/data2/varun/HiTIPS_paper_data/fig_5/kpnb1/exp2/AssayPlate_PerkinElmer_CellCarrier-384 Ultra_F11_T0086F001L01A01Z01C01.tif\n",
      "/data2/varun/HiTIPS_paper_data/fig_5/kpnb1/exp2/AssayPlate_PerkinElmer_CellCarrier-384 Ultra_F11_T0086F002L01A01Z01C01.tif\n",
      "/data2/varun/HiTIPS_paper_data/fig_5/kpnb1/exp2/AssayPlate_PerkinElmer_CellCarrier-384 Ultra_F11_T0085F009L01A01Z01C01.tif\n",
      "/data2/varun/HiTIPS_paper_data/fig_5/kpnb1/exp2/AssayPlate_PerkinElmer_CellCarrier-384 Ultra_F11_T0086F003L01A01Z01C01.tif\n",
      "/data2/varun/HiTIPS_paper_data/fig_5/kpnb1/exp2/AssayPlate_PerkinElmer_CellCarrier-384 Ultra_F11_T0086F005L01A01Z01C01.tif\n",
      "/data2/varun/HiTIPS_paper_data/fig_5/kpnb1/exp2/AssayPlate_PerkinElmer_CellCarrier-384 Ultra_F11_T0086F006L01A01Z01C01.tif\n",
      "/data2/varun/HiTIPS_paper_data/fig_5/kpnb1/exp2/AssayPlate_PerkinElmer_CellCarrier-384 Ultra_F11_T0086F007L01A01Z01C01.tif\n",
      "/data2/varun/HiTIPS_paper_data/fig_5/kpnb1/exp2/AssayPlate_PerkinElmer_CellCarrier-384 Ultra_F11_T0086F004L01A01Z01C01.tif\n",
      "/data2/varun/HiTIPS_paper_data/fig_5/kpnb1/exp2/AssayPlate_PerkinElmer_CellCarrier-384 Ultra_F11_T0086F008L01A01Z01C01.tif\n",
      "/data2/varun/HiTIPS_paper_data/fig_5/kpnb1/exp2/AssayPlate_PerkinElmer_CellCarrier-384 Ultra_F11_T0087F001L01A01Z01C01.tif\n",
      "/data2/varun/HiTIPS_paper_data/fig_5/kpnb1/exp2/AssayPlate_PerkinElmer_CellCarrier-384 Ultra_F11_T0086F009L01A01Z01C01.tif\n",
      "/data2/varun/HiTIPS_paper_data/fig_5/kpnb1/exp2/AssayPlate_PerkinElmer_CellCarrier-384 Ultra_F11_T0087F002L01A01Z01C01.tif\n",
      "/data2/varun/HiTIPS_paper_data/fig_5/kpnb1/exp2/AssayPlate_PerkinElmer_CellCarrier-384 Ultra_F11_T0087F005L01A01Z01C01.tif\n",
      "/data2/varun/HiTIPS_paper_data/fig_5/kpnb1/exp2/AssayPlate_PerkinElmer_CellCarrier-384 Ultra_F11_T0087F003L01A01Z01C01.tif\n",
      "/data2/varun/HiTIPS_paper_data/fig_5/kpnb1/exp2/AssayPlate_PerkinElmer_CellCarrier-384 Ultra_F11_T0087F006L01A01Z01C01.tif\n",
      "/data2/varun/HiTIPS_paper_data/fig_5/kpnb1/exp2/AssayPlate_PerkinElmer_CellCarrier-384 Ultra_F11_T0087F004L01A01Z01C01.tif\n",
      "/data2/varun/HiTIPS_paper_data/fig_5/kpnb1/exp2/AssayPlate_PerkinElmer_CellCarrier-384 Ultra_F11_T0087F008L01A01Z01C01.tif\n",
      "/data2/varun/HiTIPS_paper_data/fig_5/kpnb1/exp2/AssayPlate_PerkinElmer_CellCarrier-384 Ultra_F11_T0088F001L01A01Z01C01.tif\n",
      "/data2/varun/HiTIPS_paper_data/fig_5/kpnb1/exp2/AssayPlate_PerkinElmer_CellCarrier-384 Ultra_F11_T0087F009L01A01Z01C01.tif\n",
      "/data2/varun/HiTIPS_paper_data/fig_5/kpnb1/exp2/AssayPlate_PerkinElmer_CellCarrier-384 Ultra_F11_T0087F007L01A01Z01C01.tif\n",
      "/data2/varun/HiTIPS_paper_data/fig_5/kpnb1/exp2/AssayPlate_PerkinElmer_CellCarrier-384 Ultra_F11_T0088F003L01A01Z01C01.tif\n",
      "/data2/varun/HiTIPS_paper_data/fig_5/kpnb1/exp2/AssayPlate_PerkinElmer_CellCarrier-384 Ultra_F11_T0088F005L01A01Z01C01.tif\n",
      "/data2/varun/HiTIPS_paper_data/fig_5/kpnb1/exp2/AssayPlate_PerkinElmer_CellCarrier-384 Ultra_F11_T0088F002L01A01Z01C01.tif\n",
      "/data2/varun/HiTIPS_paper_data/fig_5/kpnb1/exp2/AssayPlate_PerkinElmer_CellCarrier-384 Ultra_F11_T0088F004L01A01Z01C01.tif\n",
      "/data2/varun/HiTIPS_paper_data/fig_5/kpnb1/exp2/AssayPlate_PerkinElmer_CellCarrier-384 Ultra_F11_T0088F006L01A01Z01C01.tif\n",
      "/data2/varun/HiTIPS_paper_data/fig_5/kpnb1/exp2/AssayPlate_PerkinElmer_CellCarrier-384 Ultra_F11_T0088F009L01A01Z01C01.tif\n",
      "/data2/varun/HiTIPS_paper_data/fig_5/kpnb1/exp2/AssayPlate_PerkinElmer_CellCarrier-384 Ultra_F11_T0088F007L01A01Z01C01.tif\n",
      "/data2/varun/HiTIPS_paper_data/fig_5/kpnb1/exp2/AssayPlate_PerkinElmer_CellCarrier-384 Ultra_F11_T0088F008L01A01Z01C01.tif\n",
      "/data2/varun/HiTIPS_paper_data/fig_5/kpnb1/exp2/AssayPlate_PerkinElmer_CellCarrier-384 Ultra_F11_T0089F003L01A01Z01C01.tif\n",
      "/data2/varun/HiTIPS_paper_data/fig_5/kpnb1/exp2/AssayPlate_PerkinElmer_CellCarrier-384 Ultra_F11_T0089F002L01A01Z01C01.tif\n",
      "/data2/varun/HiTIPS_paper_data/fig_5/kpnb1/exp2/AssayPlate_PerkinElmer_CellCarrier-384 Ultra_F11_T0089F001L01A01Z01C01.tif\n",
      "/data2/varun/HiTIPS_paper_data/fig_5/kpnb1/exp2/AssayPlate_PerkinElmer_CellCarrier-384 Ultra_F11_T0089F004L01A01Z01C01.tif\n",
      "/data2/varun/HiTIPS_paper_data/fig_5/kpnb1/exp2/AssayPlate_PerkinElmer_CellCarrier-384 Ultra_F11_T0089F005L01A01Z01C01.tif\n",
      "/data2/varun/HiTIPS_paper_data/fig_5/kpnb1/exp2/AssayPlate_PerkinElmer_CellCarrier-384 Ultra_F11_T0089F006L01A01Z01C01.tif\n",
      "/data2/varun/HiTIPS_paper_data/fig_5/kpnb1/exp2/AssayPlate_PerkinElmer_CellCarrier-384 Ultra_F11_T0089F008L01A01Z01C01.tif\n",
      "/data2/varun/HiTIPS_paper_data/fig_5/kpnb1/exp2/AssayPlate_PerkinElmer_CellCarrier-384 Ultra_F11_T0089F007L01A01Z01C01.tif\n",
      "/data2/varun/HiTIPS_paper_data/fig_5/kpnb1/exp2/AssayPlate_PerkinElmer_CellCarrier-384 Ultra_F11_T0090F001L01A01Z01C01.tif\n",
      "/data2/varun/HiTIPS_paper_data/fig_5/kpnb1/exp2/AssayPlate_PerkinElmer_CellCarrier-384 Ultra_F11_T0089F009L01A01Z01C01.tif\n",
      "/data2/varun/HiTIPS_paper_data/fig_5/kpnb1/exp2/AssayPlate_PerkinElmer_CellCarrier-384 Ultra_F11_T0090F002L01A01Z01C01.tif\n",
      "/data2/varun/HiTIPS_paper_data/fig_5/kpnb1/exp2/AssayPlate_PerkinElmer_CellCarrier-384 Ultra_F11_T0090F003L01A01Z01C01.tif\n",
      "/data2/varun/HiTIPS_paper_data/fig_5/kpnb1/exp2/AssayPlate_PerkinElmer_CellCarrier-384 Ultra_F11_T0090F004L01A01Z01C01.tif\n",
      "/data2/varun/HiTIPS_paper_data/fig_5/kpnb1/exp2/AssayPlate_PerkinElmer_CellCarrier-384 Ultra_F11_T0090F005L01A01Z01C01.tif\n",
      "/data2/varun/HiTIPS_paper_data/fig_5/kpnb1/exp2/AssayPlate_PerkinElmer_CellCarrier-384 Ultra_F11_T0090F007L01A01Z01C01.tif\n",
      "/data2/varun/HiTIPS_paper_data/fig_5/kpnb1/exp2/AssayPlate_PerkinElmer_CellCarrier-384 Ultra_F11_T0090F006L01A01Z01C01.tif\n",
      "/data2/varun/HiTIPS_paper_data/fig_5/kpnb1/exp2/AssayPlate_PerkinElmer_CellCarrier-384 Ultra_F11_T0091F002L01A01Z01C01.tif\n",
      "/data2/varun/HiTIPS_paper_data/fig_5/kpnb1/exp2/AssayPlate_PerkinElmer_CellCarrier-384 Ultra_F11_T0090F009L01A01Z01C01.tif\n",
      "/data2/varun/HiTIPS_paper_data/fig_5/kpnb1/exp2/AssayPlate_PerkinElmer_CellCarrier-384 Ultra_F11_T0091F001L01A01Z01C01.tif\n",
      "/data2/varun/HiTIPS_paper_data/fig_5/kpnb1/exp2/AssayPlate_PerkinElmer_CellCarrier-384 Ultra_F11_T0090F008L01A01Z01C01.tif\n",
      "/data2/varun/HiTIPS_paper_data/fig_5/kpnb1/exp2/AssayPlate_PerkinElmer_CellCarrier-384 Ultra_F11_T0091F004L01A01Z01C01.tif\n",
      "/data2/varun/HiTIPS_paper_data/fig_5/kpnb1/exp2/AssayPlate_PerkinElmer_CellCarrier-384 Ultra_F11_T0091F003L01A01Z01C01.tif\n",
      "/data2/varun/HiTIPS_paper_data/fig_5/kpnb1/exp2/AssayPlate_PerkinElmer_CellCarrier-384 Ultra_F11_T0091F005L01A01Z01C01.tif\n",
      "/data2/varun/HiTIPS_paper_data/fig_5/kpnb1/exp2/AssayPlate_PerkinElmer_CellCarrier-384 Ultra_F11_T0091F006L01A01Z01C01.tif\n",
      "/data2/varun/HiTIPS_paper_data/fig_5/kpnb1/exp2/AssayPlate_PerkinElmer_CellCarrier-384 Ultra_F11_T0091F008L01A01Z01C01.tif\n",
      "/data2/varun/HiTIPS_paper_data/fig_5/kpnb1/exp2/AssayPlate_PerkinElmer_CellCarrier-384 Ultra_F11_T0091F007L01A01Z01C01.tif\n",
      "/data2/varun/HiTIPS_paper_data/fig_5/kpnb1/exp2/AssayPlate_PerkinElmer_CellCarrier-384 Ultra_F11_T0092F001L01A01Z01C01.tif\n",
      "/data2/varun/HiTIPS_paper_data/fig_5/kpnb1/exp2/AssayPlate_PerkinElmer_CellCarrier-384 Ultra_F11_T0091F009L01A01Z01C01.tif\n",
      "/data2/varun/HiTIPS_paper_data/fig_5/kpnb1/exp2/AssayPlate_PerkinElmer_CellCarrier-384 Ultra_F11_T0092F003L01A01Z01C01.tif\n",
      "/data2/varun/HiTIPS_paper_data/fig_5/kpnb1/exp2/AssayPlate_PerkinElmer_CellCarrier-384 Ultra_F11_T0092F004L01A01Z01C01.tif\n",
      "/data2/varun/HiTIPS_paper_data/fig_5/kpnb1/exp2/AssayPlate_PerkinElmer_CellCarrier-384 Ultra_F11_T0092F002L01A01Z01C01.tif\n",
      "/data2/varun/HiTIPS_paper_data/fig_5/kpnb1/exp2/AssayPlate_PerkinElmer_CellCarrier-384 Ultra_F11_T0092F005L01A01Z01C01.tif\n",
      "/data2/varun/HiTIPS_paper_data/fig_5/kpnb1/exp2/AssayPlate_PerkinElmer_CellCarrier-384 Ultra_F11_T0092F007L01A01Z01C01.tif\n",
      "/data2/varun/HiTIPS_paper_data/fig_5/kpnb1/exp2/AssayPlate_PerkinElmer_CellCarrier-384 Ultra_F11_T0092F006L01A01Z01C01.tif\n",
      "/data2/varun/HiTIPS_paper_data/fig_5/kpnb1/exp2/AssayPlate_PerkinElmer_CellCarrier-384 Ultra_F11_T0092F009L01A01Z01C01.tif\n",
      "/data2/varun/HiTIPS_paper_data/fig_5/kpnb1/exp2/AssayPlate_PerkinElmer_CellCarrier-384 Ultra_F11_T0092F008L01A01Z01C01.tif\n",
      "/data2/varun/HiTIPS_paper_data/fig_5/kpnb1/exp2/AssayPlate_PerkinElmer_CellCarrier-384 Ultra_F11_T0093F004L01A01Z01C01.tif\n",
      "/data2/varun/HiTIPS_paper_data/fig_5/kpnb1/exp2/AssayPlate_PerkinElmer_CellCarrier-384 Ultra_F11_T0093F002L01A01Z01C01.tif\n",
      "/data2/varun/HiTIPS_paper_data/fig_5/kpnb1/exp2/AssayPlate_PerkinElmer_CellCarrier-384 Ultra_F11_T0093F003L01A01Z01C01.tif\n",
      "/data2/varun/HiTIPS_paper_data/fig_5/kpnb1/exp2/AssayPlate_PerkinElmer_CellCarrier-384 Ultra_F11_T0093F001L01A01Z01C01.tif\n",
      "/data2/varun/HiTIPS_paper_data/fig_5/kpnb1/exp2/AssayPlate_PerkinElmer_CellCarrier-384 Ultra_F11_T0093F006L01A01Z01C01.tif\n",
      "/data2/varun/HiTIPS_paper_data/fig_5/kpnb1/exp2/AssayPlate_PerkinElmer_CellCarrier-384 Ultra_F11_T0093F007L01A01Z01C01.tif\n",
      "/data2/varun/HiTIPS_paper_data/fig_5/kpnb1/exp2/AssayPlate_PerkinElmer_CellCarrier-384 Ultra_F11_T0093F008L01A01Z01C01.tif\n",
      "/data2/varun/HiTIPS_paper_data/fig_5/kpnb1/exp2/AssayPlate_PerkinElmer_CellCarrier-384 Ultra_F11_T0093F005L01A01Z01C01.tif\n",
      "/data2/varun/HiTIPS_paper_data/fig_5/kpnb1/exp2/AssayPlate_PerkinElmer_CellCarrier-384 Ultra_F11_T0093F009L01A01Z01C01.tif\n",
      "/data2/varun/HiTIPS_paper_data/fig_5/kpnb1/exp2/AssayPlate_PerkinElmer_CellCarrier-384 Ultra_F11_T0094F002L01A01Z01C01.tif\n",
      "/data2/varun/HiTIPS_paper_data/fig_5/kpnb1/exp2/AssayPlate_PerkinElmer_CellCarrier-384 Ultra_F11_T0094F001L01A01Z01C01.tif\n",
      "/data2/varun/HiTIPS_paper_data/fig_5/kpnb1/exp2/AssayPlate_PerkinElmer_CellCarrier-384 Ultra_F11_T0094F003L01A01Z01C01.tif\n",
      "/data2/varun/HiTIPS_paper_data/fig_5/kpnb1/exp2/AssayPlate_PerkinElmer_CellCarrier-384 Ultra_F11_T0094F005L01A01Z01C01.tif\n",
      "/data2/varun/HiTIPS_paper_data/fig_5/kpnb1/exp2/AssayPlate_PerkinElmer_CellCarrier-384 Ultra_F11_T0094F004L01A01Z01C01.tif\n",
      "/data2/varun/HiTIPS_paper_data/fig_5/kpnb1/exp2/AssayPlate_PerkinElmer_CellCarrier-384 Ultra_F11_T0094F007L01A01Z01C01.tif\n",
      "/data2/varun/HiTIPS_paper_data/fig_5/kpnb1/exp2/AssayPlate_PerkinElmer_CellCarrier-384 Ultra_F11_T0094F006L01A01Z01C01.tif\n",
      "/data2/varun/HiTIPS_paper_data/fig_5/kpnb1/exp2/AssayPlate_PerkinElmer_CellCarrier-384 Ultra_F11_T0094F009L01A01Z01C01.tif\n",
      "/data2/varun/HiTIPS_paper_data/fig_5/kpnb1/exp2/AssayPlate_PerkinElmer_CellCarrier-384 Ultra_F11_T0095F001L01A01Z01C01.tif\n",
      "/data2/varun/HiTIPS_paper_data/fig_5/kpnb1/exp2/AssayPlate_PerkinElmer_CellCarrier-384 Ultra_F11_T0095F002L01A01Z01C01.tif\n",
      "/data2/varun/HiTIPS_paper_data/fig_5/kpnb1/exp2/AssayPlate_PerkinElmer_CellCarrier-384 Ultra_F11_T0094F008L01A01Z01C01.tif\n",
      "/data2/varun/HiTIPS_paper_data/fig_5/kpnb1/exp2/AssayPlate_PerkinElmer_CellCarrier-384 Ultra_F11_T0095F004L01A01Z01C01.tif\n",
      "/data2/varun/HiTIPS_paper_data/fig_5/kpnb1/exp2/AssayPlate_PerkinElmer_CellCarrier-384 Ultra_F11_T0095F003L01A01Z01C01.tif\n",
      "/data2/varun/HiTIPS_paper_data/fig_5/kpnb1/exp2/AssayPlate_PerkinElmer_CellCarrier-384 Ultra_F11_T0095F006L01A01Z01C01.tif\n",
      "/data2/varun/HiTIPS_paper_data/fig_5/kpnb1/exp2/AssayPlate_PerkinElmer_CellCarrier-384 Ultra_F11_T0095F005L01A01Z01C01.tif\n",
      "/data2/varun/HiTIPS_paper_data/fig_5/kpnb1/exp2/AssayPlate_PerkinElmer_CellCarrier-384 Ultra_F11_T0095F009L01A01Z01C01.tif\n",
      "/data2/varun/HiTIPS_paper_data/fig_5/kpnb1/exp2/AssayPlate_PerkinElmer_CellCarrier-384 Ultra_F11_T0095F008L01A01Z01C01.tif\n",
      "/data2/varun/HiTIPS_paper_data/fig_5/kpnb1/exp2/AssayPlate_PerkinElmer_CellCarrier-384 Ultra_F11_T0096F001L01A01Z01C01.tif\n",
      "/data2/varun/HiTIPS_paper_data/fig_5/kpnb1/exp2/AssayPlate_PerkinElmer_CellCarrier-384 Ultra_F11_T0095F007L01A01Z01C01.tif\n",
      "/data2/varun/HiTIPS_paper_data/fig_5/kpnb1/exp2/AssayPlate_PerkinElmer_CellCarrier-384 Ultra_F11_T0096F003L01A01Z01C01.tif\n",
      "/data2/varun/HiTIPS_paper_data/fig_5/kpnb1/exp2/AssayPlate_PerkinElmer_CellCarrier-384 Ultra_F11_T0096F002L01A01Z01C01.tif\n",
      "/data2/varun/HiTIPS_paper_data/fig_5/kpnb1/exp2/AssayPlate_PerkinElmer_CellCarrier-384 Ultra_F11_T0096F004L01A01Z01C01.tif\n",
      "/data2/varun/HiTIPS_paper_data/fig_5/kpnb1/exp2/AssayPlate_PerkinElmer_CellCarrier-384 Ultra_F11_T0096F005L01A01Z01C01.tif\n",
      "/data2/varun/HiTIPS_paper_data/fig_5/kpnb1/exp2/AssayPlate_PerkinElmer_CellCarrier-384 Ultra_F11_T0096F009L01A01Z01C01.tif\n",
      "/data2/varun/HiTIPS_paper_data/fig_5/kpnb1/exp2/AssayPlate_PerkinElmer_CellCarrier-384 Ultra_F11_T0096F006L01A01Z01C01.tif\n",
      "/data2/varun/HiTIPS_paper_data/fig_5/kpnb1/exp2/AssayPlate_PerkinElmer_CellCarrier-384 Ultra_F11_T0096F008L01A01Z01C01.tif\n",
      "/data2/varun/HiTIPS_paper_data/fig_5/kpnb1/exp2/AssayPlate_PerkinElmer_CellCarrier-384 Ultra_F11_T0096F007L01A01Z01C01.tif\n",
      "/data2/varun/HiTIPS_paper_data/fig_5/kpnb1/exp2/AssayPlate_PerkinElmer_CellCarrier-384 Ultra_F11_T0097F002L01A01Z01C01.tif\n",
      "/data2/varun/HiTIPS_paper_data/fig_5/kpnb1/exp2/AssayPlate_PerkinElmer_CellCarrier-384 Ultra_F11_T0097F003L01A01Z01C01.tif\n",
      "/data2/varun/HiTIPS_paper_data/fig_5/kpnb1/exp2/AssayPlate_PerkinElmer_CellCarrier-384 Ultra_F11_T0097F001L01A01Z01C01.tif\n",
      "/data2/varun/HiTIPS_paper_data/fig_5/kpnb1/exp2/AssayPlate_PerkinElmer_CellCarrier-384 Ultra_F11_T0097F004L01A01Z01C01.tif\n",
      "/data2/varun/HiTIPS_paper_data/fig_5/kpnb1/exp2/AssayPlate_PerkinElmer_CellCarrier-384 Ultra_F11_T0097F007L01A01Z01C01.tif\n",
      "/data2/varun/HiTIPS_paper_data/fig_5/kpnb1/exp2/AssayPlate_PerkinElmer_CellCarrier-384 Ultra_F11_T0097F006L01A01Z01C01.tif\n",
      "/data2/varun/HiTIPS_paper_data/fig_5/kpnb1/exp2/AssayPlate_PerkinElmer_CellCarrier-384 Ultra_F11_T0097F005L01A01Z01C01.tif\n",
      "/data2/varun/HiTIPS_paper_data/fig_5/kpnb1/exp2/AssayPlate_PerkinElmer_CellCarrier-384 Ultra_F11_T0097F008L01A01Z01C01.tif\n",
      "/data2/varun/HiTIPS_paper_data/fig_5/kpnb1/exp2/AssayPlate_PerkinElmer_CellCarrier-384 Ultra_F11_T0098F001L01A01Z01C01.tif\n",
      "/data2/varun/HiTIPS_paper_data/fig_5/kpnb1/exp2/AssayPlate_PerkinElmer_CellCarrier-384 Ultra_F11_T0097F009L01A01Z01C01.tif\n",
      "/data2/varun/HiTIPS_paper_data/fig_5/kpnb1/exp2/AssayPlate_PerkinElmer_CellCarrier-384 Ultra_F11_T0098F002L01A01Z01C01.tif\n",
      "/data2/varun/HiTIPS_paper_data/fig_5/kpnb1/exp2/AssayPlate_PerkinElmer_CellCarrier-384 Ultra_F11_T0098F003L01A01Z01C01.tif\n",
      "/data2/varun/HiTIPS_paper_data/fig_5/kpnb1/exp2/AssayPlate_PerkinElmer_CellCarrier-384 Ultra_F11_T0098F005L01A01Z01C01.tif\n",
      "/data2/varun/HiTIPS_paper_data/fig_5/kpnb1/exp2/AssayPlate_PerkinElmer_CellCarrier-384 Ultra_F11_T0098F006L01A01Z01C01.tif\n",
      "/data2/varun/HiTIPS_paper_data/fig_5/kpnb1/exp2/AssayPlate_PerkinElmer_CellCarrier-384 Ultra_F11_T0098F004L01A01Z01C01.tif\n",
      "/data2/varun/HiTIPS_paper_data/fig_5/kpnb1/exp2/AssayPlate_PerkinElmer_CellCarrier-384 Ultra_F11_T0098F007L01A01Z01C01.tif\n",
      "/data2/varun/HiTIPS_paper_data/fig_5/kpnb1/exp2/AssayPlate_PerkinElmer_CellCarrier-384 Ultra_F11_T0098F009L01A01Z01C01.tif\n",
      "/data2/varun/HiTIPS_paper_data/fig_5/kpnb1/exp2/AssayPlate_PerkinElmer_CellCarrier-384 Ultra_F11_T0099F001L01A01Z01C01.tif\n",
      "/data2/varun/HiTIPS_paper_data/fig_5/kpnb1/exp2/AssayPlate_PerkinElmer_CellCarrier-384 Ultra_F11_T0099F002L01A01Z01C01.tif\n",
      "/data2/varun/HiTIPS_paper_data/fig_5/kpnb1/exp2/AssayPlate_PerkinElmer_CellCarrier-384 Ultra_F11_T0098F008L01A01Z01C01.tif\n",
      "/data2/varun/HiTIPS_paper_data/fig_5/kpnb1/exp2/AssayPlate_PerkinElmer_CellCarrier-384 Ultra_F11_T0099F004L01A01Z01C01.tif\n",
      "/data2/varun/HiTIPS_paper_data/fig_5/kpnb1/exp2/AssayPlate_PerkinElmer_CellCarrier-384 Ultra_F11_T0099F005L01A01Z01C01.tif\n",
      "/data2/varun/HiTIPS_paper_data/fig_5/kpnb1/exp2/AssayPlate_PerkinElmer_CellCarrier-384 Ultra_F11_T0099F003L01A01Z01C01.tif\n",
      "/data2/varun/HiTIPS_paper_data/fig_5/kpnb1/exp2/AssayPlate_PerkinElmer_CellCarrier-384 Ultra_F11_T0099F006L01A01Z01C01.tif\n",
      "/data2/varun/HiTIPS_paper_data/fig_5/kpnb1/exp2/AssayPlate_PerkinElmer_CellCarrier-384 Ultra_F11_T0099F008L01A01Z01C01.tif\n",
      "/data2/varun/HiTIPS_paper_data/fig_5/kpnb1/exp2/AssayPlate_PerkinElmer_CellCarrier-384 Ultra_F11_T0099F009L01A01Z01C01.tif\n",
      "/data2/varun/HiTIPS_paper_data/fig_5/kpnb1/exp2/AssayPlate_PerkinElmer_CellCarrier-384 Ultra_F11_T0100F001L01A01Z01C01.tif\n",
      "/data2/varun/HiTIPS_paper_data/fig_5/kpnb1/exp2/AssayPlate_PerkinElmer_CellCarrier-384 Ultra_F11_T0099F007L01A01Z01C01.tif\n",
      "/data2/varun/HiTIPS_paper_data/fig_5/kpnb1/exp2/AssayPlate_PerkinElmer_CellCarrier-384 Ultra_F11_T0100F003L01A01Z01C01.tif\n",
      "/data2/varun/HiTIPS_paper_data/fig_5/kpnb1/exp2/AssayPlate_PerkinElmer_CellCarrier-384 Ultra_F11_T0100F005L01A01Z01C01.tif\n",
      "/data2/varun/HiTIPS_paper_data/fig_5/kpnb1/exp2/AssayPlate_PerkinElmer_CellCarrier-384 Ultra_F11_T0100F002L01A01Z01C01.tif\n",
      "/data2/varun/HiTIPS_paper_data/fig_5/kpnb1/exp2/AssayPlate_PerkinElmer_CellCarrier-384 Ultra_F11_T0100F004L01A01Z01C01.tif\n",
      "/data2/varun/HiTIPS_paper_data/fig_5/kpnb1/exp2/AssayPlate_PerkinElmer_CellCarrier-384 Ultra_F11_T0100F009L01A01Z01C01.tif\n",
      "/data2/varun/HiTIPS_paper_data/fig_5/kpnb1/exp2/AssayPlate_PerkinElmer_CellCarrier-384 Ultra_F11_T0100F008L01A01Z01C01.tif\n",
      "/data2/varun/HiTIPS_paper_data/fig_5/kpnb1/exp2/AssayPlate_PerkinElmer_CellCarrier-384 Ultra_F11_T0100F007L01A01Z01C01.tif\n",
      "/data2/varun/HiTIPS_paper_data/fig_5/kpnb1/exp2/AssayPlate_PerkinElmer_CellCarrier-384 Ultra_F11_T0100F006L01A01Z01C01.tif\n",
      "/data2/varun/HiTIPS_paper_data/fig_5/kpnb1/exp2/AssayPlate_PerkinElmer_CellCarrier-384 Ultra_F11_T0101F002L01A01Z01C01.tif\n",
      "/data2/varun/HiTIPS_paper_data/fig_5/kpnb1/exp2/AssayPlate_PerkinElmer_CellCarrier-384 Ultra_F11_T0101F003L01A01Z01C01.tif\n",
      "/data2/varun/HiTIPS_paper_data/fig_5/kpnb1/exp2/AssayPlate_PerkinElmer_CellCarrier-384 Ultra_F11_T0101F001L01A01Z01C01.tif\n",
      "/data2/varun/HiTIPS_paper_data/fig_5/kpnb1/exp2/AssayPlate_PerkinElmer_CellCarrier-384 Ultra_F11_T0101F004L01A01Z01C01.tif\n",
      "/data2/varun/HiTIPS_paper_data/fig_5/kpnb1/exp2/AssayPlate_PerkinElmer_CellCarrier-384 Ultra_F11_T0101F006L01A01Z01C01.tif\n",
      "/data2/varun/HiTIPS_paper_data/fig_5/kpnb1/exp2/AssayPlate_PerkinElmer_CellCarrier-384 Ultra_F11_T0101F007L01A01Z01C01.tif\n",
      "/data2/varun/HiTIPS_paper_data/fig_5/kpnb1/exp2/AssayPlate_PerkinElmer_CellCarrier-384 Ultra_F11_T0101F008L01A01Z01C01.tif\n",
      "/data2/varun/HiTIPS_paper_data/fig_5/kpnb1/exp2/AssayPlate_PerkinElmer_CellCarrier-384 Ultra_F11_T0101F005L01A01Z01C01.tif\n",
      "/data2/varun/HiTIPS_paper_data/fig_5/kpnb1/exp2/AssayPlate_PerkinElmer_CellCarrier-384 Ultra_F11_T0102F001L01A01Z01C01.tif\n",
      "/data2/varun/HiTIPS_paper_data/fig_5/kpnb1/exp2/AssayPlate_PerkinElmer_CellCarrier-384 Ultra_F11_T0101F009L01A01Z01C01.tif\n",
      "/data2/varun/HiTIPS_paper_data/fig_5/kpnb1/exp2/AssayPlate_PerkinElmer_CellCarrier-384 Ultra_F11_T0102F002L01A01Z01C01.tif\n",
      "/data2/varun/HiTIPS_paper_data/fig_5/kpnb1/exp2/AssayPlate_PerkinElmer_CellCarrier-384 Ultra_F11_T0102F003L01A01Z01C01.tif\n",
      "/data2/varun/HiTIPS_paper_data/fig_5/kpnb1/exp2/AssayPlate_PerkinElmer_CellCarrier-384 Ultra_F11_T0102F004L01A01Z01C01.tif\n",
      "/data2/varun/HiTIPS_paper_data/fig_5/kpnb1/exp2/AssayPlate_PerkinElmer_CellCarrier-384 Ultra_F11_T0102F005L01A01Z01C01.tif\n",
      "/data2/varun/HiTIPS_paper_data/fig_5/kpnb1/exp2/AssayPlate_PerkinElmer_CellCarrier-384 Ultra_F11_T0102F006L01A01Z01C01.tif\n",
      "/data2/varun/HiTIPS_paper_data/fig_5/kpnb1/exp2/AssayPlate_PerkinElmer_CellCarrier-384 Ultra_F11_T0102F007L01A01Z01C01.tif\n",
      "/data2/varun/HiTIPS_paper_data/fig_5/kpnb1/exp2/AssayPlate_PerkinElmer_CellCarrier-384 Ultra_F11_T0103F001L01A01Z01C01.tif\n",
      "/data2/varun/HiTIPS_paper_data/fig_5/kpnb1/exp2/AssayPlate_PerkinElmer_CellCarrier-384 Ultra_F11_T0102F009L01A01Z01C01.tif\n",
      "/data2/varun/HiTIPS_paper_data/fig_5/kpnb1/exp2/AssayPlate_PerkinElmer_CellCarrier-384 Ultra_F11_T0103F002L01A01Z01C01.tif\n",
      "/data2/varun/HiTIPS_paper_data/fig_5/kpnb1/exp2/AssayPlate_PerkinElmer_CellCarrier-384 Ultra_F11_T0102F008L01A01Z01C01.tif\n",
      "/data2/varun/HiTIPS_paper_data/fig_5/kpnb1/exp2/AssayPlate_PerkinElmer_CellCarrier-384 Ultra_F11_T0103F004L01A01Z01C01.tif\n",
      "/data2/varun/HiTIPS_paper_data/fig_5/kpnb1/exp2/AssayPlate_PerkinElmer_CellCarrier-384 Ultra_F11_T0103F005L01A01Z01C01.tif\n",
      "/data2/varun/HiTIPS_paper_data/fig_5/kpnb1/exp2/AssayPlate_PerkinElmer_CellCarrier-384 Ultra_F11_T0103F006L01A01Z01C01.tif\n",
      "/data2/varun/HiTIPS_paper_data/fig_5/kpnb1/exp2/AssayPlate_PerkinElmer_CellCarrier-384 Ultra_F11_T0103F003L01A01Z01C01.tif\n",
      "/data2/varun/HiTIPS_paper_data/fig_5/kpnb1/exp2/AssayPlate_PerkinElmer_CellCarrier-384 Ultra_F11_T0103F009L01A01Z01C01.tif\n",
      "/data2/varun/HiTIPS_paper_data/fig_5/kpnb1/exp2/AssayPlate_PerkinElmer_CellCarrier-384 Ultra_F11_T0103F008L01A01Z01C01.tif\n",
      "/data2/varun/HiTIPS_paper_data/fig_5/kpnb1/exp2/AssayPlate_PerkinElmer_CellCarrier-384 Ultra_F11_T0104F001L01A01Z01C01.tif\n",
      "/data2/varun/HiTIPS_paper_data/fig_5/kpnb1/exp2/AssayPlate_PerkinElmer_CellCarrier-384 Ultra_F11_T0103F007L01A01Z01C01.tif\n",
      "/data2/varun/HiTIPS_paper_data/fig_5/kpnb1/exp2/AssayPlate_PerkinElmer_CellCarrier-384 Ultra_F11_T0104F003L01A01Z01C01.tif\n",
      "/data2/varun/HiTIPS_paper_data/fig_5/kpnb1/exp2/AssayPlate_PerkinElmer_CellCarrier-384 Ultra_F11_T0104F004L01A01Z01C01.tif\n",
      "/data2/varun/HiTIPS_paper_data/fig_5/kpnb1/exp2/AssayPlate_PerkinElmer_CellCarrier-384 Ultra_F11_T0104F002L01A01Z01C01.tif\n",
      "/data2/varun/HiTIPS_paper_data/fig_5/kpnb1/exp2/AssayPlate_PerkinElmer_CellCarrier-384 Ultra_F11_T0104F005L01A01Z01C01.tif\n",
      "/data2/varun/HiTIPS_paper_data/fig_5/kpnb1/exp2/AssayPlate_PerkinElmer_CellCarrier-384 Ultra_F11_T0104F007L01A01Z01C01.tif\n",
      "/data2/varun/HiTIPS_paper_data/fig_5/kpnb1/exp2/AssayPlate_PerkinElmer_CellCarrier-384 Ultra_F11_T0104F009L01A01Z01C01.tif\n",
      "/data2/varun/HiTIPS_paper_data/fig_5/kpnb1/exp2/AssayPlate_PerkinElmer_CellCarrier-384 Ultra_F11_T0104F008L01A01Z01C01.tif\n",
      "/data2/varun/HiTIPS_paper_data/fig_5/kpnb1/exp2/AssayPlate_PerkinElmer_CellCarrier-384 Ultra_F11_T0104F006L01A01Z01C01.tif\n",
      "/data2/varun/HiTIPS_paper_data/fig_5/kpnb1/exp2/AssayPlate_PerkinElmer_CellCarrier-384 Ultra_F11_T0105F001L01A01Z01C01.tif\n",
      "/data2/varun/HiTIPS_paper_data/fig_5/kpnb1/exp2/AssayPlate_PerkinElmer_CellCarrier-384 Ultra_F11_T0105F002L01A01Z01C01.tif\n",
      "/data2/varun/HiTIPS_paper_data/fig_5/kpnb1/exp2/AssayPlate_PerkinElmer_CellCarrier-384 Ultra_F11_T0105F003L01A01Z01C01.tif\n",
      "/data2/varun/HiTIPS_paper_data/fig_5/kpnb1/exp2/AssayPlate_PerkinElmer_CellCarrier-384 Ultra_F11_T0105F004L01A01Z01C01.tif\n",
      "/data2/varun/HiTIPS_paper_data/fig_5/kpnb1/exp2/AssayPlate_PerkinElmer_CellCarrier-384 Ultra_F11_T0105F006L01A01Z01C01.tif\n",
      "/data2/varun/HiTIPS_paper_data/fig_5/kpnb1/exp2/AssayPlate_PerkinElmer_CellCarrier-384 Ultra_F11_T0105F007L01A01Z01C01.tif\n",
      "/data2/varun/HiTIPS_paper_data/fig_5/kpnb1/exp2/AssayPlate_PerkinElmer_CellCarrier-384 Ultra_F11_T0105F008L01A01Z01C01.tif\n",
      "/data2/varun/HiTIPS_paper_data/fig_5/kpnb1/exp2/AssayPlate_PerkinElmer_CellCarrier-384 Ultra_F11_T0105F005L01A01Z01C01.tif\n",
      "/data2/varun/HiTIPS_paper_data/fig_5/kpnb1/exp2/AssayPlate_PerkinElmer_CellCarrier-384 Ultra_F11_T0106F002L01A01Z01C01.tif\n",
      "/data2/varun/HiTIPS_paper_data/fig_5/kpnb1/exp2/AssayPlate_PerkinElmer_CellCarrier-384 Ultra_F11_T0106F001L01A01Z01C01.tif\n",
      "/data2/varun/HiTIPS_paper_data/fig_5/kpnb1/exp2/AssayPlate_PerkinElmer_CellCarrier-384 Ultra_F11_T0106F003L01A01Z01C01.tif\n",
      "/data2/varun/HiTIPS_paper_data/fig_5/kpnb1/exp2/AssayPlate_PerkinElmer_CellCarrier-384 Ultra_F11_T0105F009L01A01Z01C01.tif\n",
      "/data2/varun/HiTIPS_paper_data/fig_5/kpnb1/exp2/AssayPlate_PerkinElmer_CellCarrier-384 Ultra_F11_T0106F005L01A01Z01C01.tif\n",
      "/data2/varun/HiTIPS_paper_data/fig_5/kpnb1/exp2/AssayPlate_PerkinElmer_CellCarrier-384 Ultra_F11_T0106F007L01A01Z01C01.tif\n",
      "/data2/varun/HiTIPS_paper_data/fig_5/kpnb1/exp2/AssayPlate_PerkinElmer_CellCarrier-384 Ultra_F11_T0106F004L01A01Z01C01.tif\n",
      "/data2/varun/HiTIPS_paper_data/fig_5/kpnb1/exp2/AssayPlate_PerkinElmer_CellCarrier-384 Ultra_F11_T0106F006L01A01Z01C01.tif\n",
      "/data2/varun/HiTIPS_paper_data/fig_5/kpnb1/exp2/AssayPlate_PerkinElmer_CellCarrier-384 Ultra_F11_T0106F009L01A01Z01C01.tif\n",
      "/data2/varun/HiTIPS_paper_data/fig_5/kpnb1/exp2/AssayPlate_PerkinElmer_CellCarrier-384 Ultra_F11_T0107F001L01A01Z01C01.tif\n",
      "/data2/varun/HiTIPS_paper_data/fig_5/kpnb1/exp2/AssayPlate_PerkinElmer_CellCarrier-384 Ultra_F11_T0106F008L01A01Z01C01.tif\n",
      "/data2/varun/HiTIPS_paper_data/fig_5/kpnb1/exp2/AssayPlate_PerkinElmer_CellCarrier-384 Ultra_F11_T0107F002L01A01Z01C01.tif\n",
      "/data2/varun/HiTIPS_paper_data/fig_5/kpnb1/exp2/AssayPlate_PerkinElmer_CellCarrier-384 Ultra_F11_T0107F004L01A01Z01C01.tif\n",
      "/data2/varun/HiTIPS_paper_data/fig_5/kpnb1/exp2/AssayPlate_PerkinElmer_CellCarrier-384 Ultra_F11_T0107F006L01A01Z01C01.tif\n",
      "/data2/varun/HiTIPS_paper_data/fig_5/kpnb1/exp2/AssayPlate_PerkinElmer_CellCarrier-384 Ultra_F11_T0107F005L01A01Z01C01.tif\n",
      "/data2/varun/HiTIPS_paper_data/fig_5/kpnb1/exp2/AssayPlate_PerkinElmer_CellCarrier-384 Ultra_F11_T0107F003L01A01Z01C01.tif\n",
      "/data2/varun/HiTIPS_paper_data/fig_5/kpnb1/exp2/AssayPlate_PerkinElmer_CellCarrier-384 Ultra_F11_T0107F008L01A01Z01C01.tif\n",
      "/data2/varun/HiTIPS_paper_data/fig_5/kpnb1/exp2/AssayPlate_PerkinElmer_CellCarrier-384 Ultra_F11_T0107F007L01A01Z01C01.tif\n",
      "/data2/varun/HiTIPS_paper_data/fig_5/kpnb1/exp2/AssayPlate_PerkinElmer_CellCarrier-384 Ultra_F11_T0108F001L01A01Z01C01.tif\n",
      "/data2/varun/HiTIPS_paper_data/fig_5/kpnb1/exp2/AssayPlate_PerkinElmer_CellCarrier-384 Ultra_F11_T0107F009L01A01Z01C01.tif\n",
      "/data2/varun/HiTIPS_paper_data/fig_5/kpnb1/exp2/AssayPlate_PerkinElmer_CellCarrier-384 Ultra_F11_T0108F002L01A01Z01C01.tif\n",
      "/data2/varun/HiTIPS_paper_data/fig_5/kpnb1/exp2/AssayPlate_PerkinElmer_CellCarrier-384 Ultra_F11_T0108F003L01A01Z01C01.tif\n",
      "/data2/varun/HiTIPS_paper_data/fig_5/kpnb1/exp2/AssayPlate_PerkinElmer_CellCarrier-384 Ultra_F11_T0108F004L01A01Z01C01.tif\n",
      "/data2/varun/HiTIPS_paper_data/fig_5/kpnb1/exp2/AssayPlate_PerkinElmer_CellCarrier-384 Ultra_F11_T0108F005L01A01Z01C01.tif\n",
      "/data2/varun/HiTIPS_paper_data/fig_5/kpnb1/exp2/AssayPlate_PerkinElmer_CellCarrier-384 Ultra_F11_T0108F007L01A01Z01C01.tif\n",
      "/data2/varun/HiTIPS_paper_data/fig_5/kpnb1/exp2/AssayPlate_PerkinElmer_CellCarrier-384 Ultra_F11_T0108F009L01A01Z01C01.tif\n",
      "/data2/varun/HiTIPS_paper_data/fig_5/kpnb1/exp2/AssayPlate_PerkinElmer_CellCarrier-384 Ultra_F11_T0108F006L01A01Z01C01.tif\n",
      "/data2/varun/HiTIPS_paper_data/fig_5/kpnb1/exp2/AssayPlate_PerkinElmer_CellCarrier-384 Ultra_F11_T0108F008L01A01Z01C01.tif\n",
      "/data2/varun/HiTIPS_paper_data/fig_5/kpnb1/exp2/AssayPlate_PerkinElmer_CellCarrier-384 Ultra_F11_T0109F003L01A01Z01C01.tif\n",
      "/data2/varun/HiTIPS_paper_data/fig_5/kpnb1/exp2/AssayPlate_PerkinElmer_CellCarrier-384 Ultra_F11_T0109F001L01A01Z01C01.tif\n",
      "/data2/varun/HiTIPS_paper_data/fig_5/kpnb1/exp2/AssayPlate_PerkinElmer_CellCarrier-384 Ultra_F11_T0109F002L01A01Z01C01.tif\n",
      "/data2/varun/HiTIPS_paper_data/fig_5/kpnb1/exp2/AssayPlate_PerkinElmer_CellCarrier-384 Ultra_F11_T0109F004L01A01Z01C01.tif\n",
      "/data2/varun/HiTIPS_paper_data/fig_5/kpnb1/exp2/AssayPlate_PerkinElmer_CellCarrier-384 Ultra_F11_T0109F006L01A01Z01C01.tif\n",
      "/data2/varun/HiTIPS_paper_data/fig_5/kpnb1/exp2/AssayPlate_PerkinElmer_CellCarrier-384 Ultra_F11_T0109F007L01A01Z01C01.tif\n",
      "/data2/varun/HiTIPS_paper_data/fig_5/kpnb1/exp2/AssayPlate_PerkinElmer_CellCarrier-384 Ultra_F11_T0109F005L01A01Z01C01.tif\n",
      "/data2/varun/HiTIPS_paper_data/fig_5/kpnb1/exp2/AssayPlate_PerkinElmer_CellCarrier-384 Ultra_F11_T0109F008L01A01Z01C01.tif\n",
      "/data2/varun/HiTIPS_paper_data/fig_5/kpnb1/exp2/AssayPlate_PerkinElmer_CellCarrier-384 Ultra_F11_T0110F001L01A01Z01C01.tif\n",
      "/data2/varun/HiTIPS_paper_data/fig_5/kpnb1/exp2/AssayPlate_PerkinElmer_CellCarrier-384 Ultra_F11_T0110F002L01A01Z01C01.tif\n",
      "/data2/varun/HiTIPS_paper_data/fig_5/kpnb1/exp2/AssayPlate_PerkinElmer_CellCarrier-384 Ultra_F11_T0110F003L01A01Z01C01.tif\n",
      "/data2/varun/HiTIPS_paper_data/fig_5/kpnb1/exp2/AssayPlate_PerkinElmer_CellCarrier-384 Ultra_F11_T0109F009L01A01Z01C01.tif\n",
      "/data2/varun/HiTIPS_paper_data/fig_5/kpnb1/exp2/AssayPlate_PerkinElmer_CellCarrier-384 Ultra_F11_T0110F005L01A01Z01C01.tif\n",
      "/data2/varun/HiTIPS_paper_data/fig_5/kpnb1/exp2/AssayPlate_PerkinElmer_CellCarrier-384 Ultra_F11_T0110F006L01A01Z01C01.tif\n",
      "/data2/varun/HiTIPS_paper_data/fig_5/kpnb1/exp2/AssayPlate_PerkinElmer_CellCarrier-384 Ultra_F11_T0110F007L01A01Z01C01.tif\n",
      "/data2/varun/HiTIPS_paper_data/fig_5/kpnb1/exp2/AssayPlate_PerkinElmer_CellCarrier-384 Ultra_F11_T0110F004L01A01Z01C01.tif\n",
      "/data2/varun/HiTIPS_paper_data/fig_5/kpnb1/exp2/AssayPlate_PerkinElmer_CellCarrier-384 Ultra_F11_T0110F009L01A01Z01C01.tif\n",
      "/data2/varun/HiTIPS_paper_data/fig_5/kpnb1/exp2/AssayPlate_PerkinElmer_CellCarrier-384 Ultra_F11_T0110F008L01A01Z01C01.tif\n",
      "/data2/varun/HiTIPS_paper_data/fig_5/kpnb1/exp2/AssayPlate_PerkinElmer_CellCarrier-384 Ultra_F11_T0111F001L01A01Z01C01.tif\n",
      "/data2/varun/HiTIPS_paper_data/fig_5/kpnb1/exp2/AssayPlate_PerkinElmer_CellCarrier-384 Ultra_F11_T0111F002L01A01Z01C01.tif\n",
      "/data2/varun/HiTIPS_paper_data/fig_5/kpnb1/exp2/AssayPlate_PerkinElmer_CellCarrier-384 Ultra_F11_T0111F004L01A01Z01C01.tif\n",
      "/data2/varun/HiTIPS_paper_data/fig_5/kpnb1/exp2/AssayPlate_PerkinElmer_CellCarrier-384 Ultra_F11_T0111F003L01A01Z01C01.tif\n",
      "/data2/varun/HiTIPS_paper_data/fig_5/kpnb1/exp2/AssayPlate_PerkinElmer_CellCarrier-384 Ultra_F11_T0111F005L01A01Z01C01.tif\n",
      "/data2/varun/HiTIPS_paper_data/fig_5/kpnb1/exp2/AssayPlate_PerkinElmer_CellCarrier-384 Ultra_F11_T0111F006L01A01Z01C01.tif\n",
      "/data2/varun/HiTIPS_paper_data/fig_5/kpnb1/exp2/AssayPlate_PerkinElmer_CellCarrier-384 Ultra_F11_T0111F007L01A01Z01C01.tif\n",
      "/data2/varun/HiTIPS_paper_data/fig_5/kpnb1/exp2/AssayPlate_PerkinElmer_CellCarrier-384 Ultra_F11_T0111F008L01A01Z01C01.tif\n",
      "/data2/varun/HiTIPS_paper_data/fig_5/kpnb1/exp2/AssayPlate_PerkinElmer_CellCarrier-384 Ultra_F11_T0112F001L01A01Z01C01.tif\n",
      "/data2/varun/HiTIPS_paper_data/fig_5/kpnb1/exp2/AssayPlate_PerkinElmer_CellCarrier-384 Ultra_F11_T0111F009L01A01Z01C01.tif\n",
      "/data2/varun/HiTIPS_paper_data/fig_5/kpnb1/exp2/AssayPlate_PerkinElmer_CellCarrier-384 Ultra_F11_T0112F002L01A01Z01C01.tif\n",
      "/data2/varun/HiTIPS_paper_data/fig_5/kpnb1/exp2/AssayPlate_PerkinElmer_CellCarrier-384 Ultra_F11_T0112F004L01A01Z01C01.tif\n",
      "/data2/varun/HiTIPS_paper_data/fig_5/kpnb1/exp2/AssayPlate_PerkinElmer_CellCarrier-384 Ultra_F11_T0112F005L01A01Z01C01.tif\n",
      "/data2/varun/HiTIPS_paper_data/fig_5/kpnb1/exp2/AssayPlate_PerkinElmer_CellCarrier-384 Ultra_F11_T0112F003L01A01Z01C01.tif\n",
      "/data2/varun/HiTIPS_paper_data/fig_5/kpnb1/exp2/AssayPlate_PerkinElmer_CellCarrier-384 Ultra_F11_T0112F007L01A01Z01C01.tif\n",
      "/data2/varun/HiTIPS_paper_data/fig_5/kpnb1/exp2/AssayPlate_PerkinElmer_CellCarrier-384 Ultra_F11_T0112F009L01A01Z01C01.tif\n",
      "/data2/varun/HiTIPS_paper_data/fig_5/kpnb1/exp2/AssayPlate_PerkinElmer_CellCarrier-384 Ultra_F11_T0112F008L01A01Z01C01.tif\n",
      "/data2/varun/HiTIPS_paper_data/fig_5/kpnb1/exp2/AssayPlate_PerkinElmer_CellCarrier-384 Ultra_F11_T0112F006L01A01Z01C01.tif\n",
      "/data2/varun/HiTIPS_paper_data/fig_5/kpnb1/exp2/AssayPlate_PerkinElmer_CellCarrier-384 Ultra_F11_T0113F002L01A01Z01C01.tif\n",
      "/data2/varun/HiTIPS_paper_data/fig_5/kpnb1/exp2/AssayPlate_PerkinElmer_CellCarrier-384 Ultra_F11_T0113F003L01A01Z01C01.tif\n",
      "/data2/varun/HiTIPS_paper_data/fig_5/kpnb1/exp2/AssayPlate_PerkinElmer_CellCarrier-384 Ultra_F11_T0113F001L01A01Z01C01.tif\n",
      "/data2/varun/HiTIPS_paper_data/fig_5/kpnb1/exp2/AssayPlate_PerkinElmer_CellCarrier-384 Ultra_F11_T0113F004L01A01Z01C01.tif\n",
      "/data2/varun/HiTIPS_paper_data/fig_5/kpnb1/exp2/AssayPlate_PerkinElmer_CellCarrier-384 Ultra_F11_T0113F006L01A01Z01C01.tif\n",
      "/data2/varun/HiTIPS_paper_data/fig_5/kpnb1/exp2/AssayPlate_PerkinElmer_CellCarrier-384 Ultra_F11_T0113F007L01A01Z01C01.tif\n",
      "/data2/varun/HiTIPS_paper_data/fig_5/kpnb1/exp2/AssayPlate_PerkinElmer_CellCarrier-384 Ultra_F11_T0113F008L01A01Z01C01.tif\n",
      "/data2/varun/HiTIPS_paper_data/fig_5/kpnb1/exp2/AssayPlate_PerkinElmer_CellCarrier-384 Ultra_F11_T0113F005L01A01Z01C01.tif\n",
      "/data2/varun/HiTIPS_paper_data/fig_5/kpnb1/exp2/AssayPlate_PerkinElmer_CellCarrier-384 Ultra_F11_T0114F001L01A01Z01C01.tif\n",
      "/data2/varun/HiTIPS_paper_data/fig_5/kpnb1/exp2/AssayPlate_PerkinElmer_CellCarrier-384 Ultra_F11_T0114F003L01A01Z01C01.tif\n",
      "/data2/varun/HiTIPS_paper_data/fig_5/kpnb1/exp2/AssayPlate_PerkinElmer_CellCarrier-384 Ultra_F11_T0114F002L01A01Z01C01.tif\n",
      "/data2/varun/HiTIPS_paper_data/fig_5/kpnb1/exp2/AssayPlate_PerkinElmer_CellCarrier-384 Ultra_F11_T0113F009L01A01Z01C01.tif\n",
      "/data2/varun/HiTIPS_paper_data/fig_5/kpnb1/exp2/AssayPlate_PerkinElmer_CellCarrier-384 Ultra_F11_T0114F005L01A01Z01C01.tif\n",
      "/data2/varun/HiTIPS_paper_data/fig_5/kpnb1/exp2/AssayPlate_PerkinElmer_CellCarrier-384 Ultra_F11_T0114F004L01A01Z01C01.tif\n",
      "/data2/varun/HiTIPS_paper_data/fig_5/kpnb1/exp2/AssayPlate_PerkinElmer_CellCarrier-384 Ultra_F11_T0114F007L01A01Z01C01.tif\n",
      "/data2/varun/HiTIPS_paper_data/fig_5/kpnb1/exp2/AssayPlate_PerkinElmer_CellCarrier-384 Ultra_F11_T0114F006L01A01Z01C01.tif\n",
      "/data2/varun/HiTIPS_paper_data/fig_5/kpnb1/exp2/AssayPlate_PerkinElmer_CellCarrier-384 Ultra_F11_T0114F009L01A01Z01C01.tif\n",
      "/data2/varun/HiTIPS_paper_data/fig_5/kpnb1/exp2/AssayPlate_PerkinElmer_CellCarrier-384 Ultra_F11_T0115F002L01A01Z01C01.tif\n",
      "/data2/varun/HiTIPS_paper_data/fig_5/kpnb1/exp2/AssayPlate_PerkinElmer_CellCarrier-384 Ultra_F11_T0115F001L01A01Z01C01.tif\n",
      "/data2/varun/HiTIPS_paper_data/fig_5/kpnb1/exp2/AssayPlate_PerkinElmer_CellCarrier-384 Ultra_F11_T0114F008L01A01Z01C01.tif\n",
      "/data2/varun/HiTIPS_paper_data/fig_5/kpnb1/exp2/AssayPlate_PerkinElmer_CellCarrier-384 Ultra_F11_T0115F004L01A01Z01C01.tif\n",
      "/data2/varun/HiTIPS_paper_data/fig_5/kpnb1/exp2/AssayPlate_PerkinElmer_CellCarrier-384 Ultra_F11_T0115F005L01A01Z01C01.tif\n",
      "/data2/varun/HiTIPS_paper_data/fig_5/kpnb1/exp2/AssayPlate_PerkinElmer_CellCarrier-384 Ultra_F11_T0115F003L01A01Z01C01.tif\n",
      "/data2/varun/HiTIPS_paper_data/fig_5/kpnb1/exp2/AssayPlate_PerkinElmer_CellCarrier-384 Ultra_F11_T0115F006L01A01Z01C01.tif\n",
      "/data2/varun/HiTIPS_paper_data/fig_5/kpnb1/exp2/AssayPlate_PerkinElmer_CellCarrier-384 Ultra_F11_T0116F001L01A01Z01C01.tif\n",
      "/data2/varun/HiTIPS_paper_data/fig_5/kpnb1/exp2/AssayPlate_PerkinElmer_CellCarrier-384 Ultra_F11_T0115F008L01A01Z01C01.tif\n",
      "/data2/varun/HiTIPS_paper_data/fig_5/kpnb1/exp2/AssayPlate_PerkinElmer_CellCarrier-384 Ultra_F11_T0115F009L01A01Z01C01.tif\n",
      "/data2/varun/HiTIPS_paper_data/fig_5/kpnb1/exp2/AssayPlate_PerkinElmer_CellCarrier-384 Ultra_F11_T0115F007L01A01Z01C01.tif\n",
      "/data2/varun/HiTIPS_paper_data/fig_5/kpnb1/exp2/AssayPlate_PerkinElmer_CellCarrier-384 Ultra_F11_T0116F003L01A01Z01C01.tif\n",
      "/data2/varun/HiTIPS_paper_data/fig_5/kpnb1/exp2/AssayPlate_PerkinElmer_CellCarrier-384 Ultra_F11_T0116F004L01A01Z01C01.tif\n",
      "/data2/varun/HiTIPS_paper_data/fig_5/kpnb1/exp2/AssayPlate_PerkinElmer_CellCarrier-384 Ultra_F11_T0116F002L01A01Z01C01.tif\n",
      "/data2/varun/HiTIPS_paper_data/fig_5/kpnb1/exp2/AssayPlate_PerkinElmer_CellCarrier-384 Ultra_F11_T0116F005L01A01Z01C01.tif\n",
      "/data2/varun/HiTIPS_paper_data/fig_5/kpnb1/exp2/AssayPlate_PerkinElmer_CellCarrier-384 Ultra_F11_T0116F007L01A01Z01C01.tif\n",
      "/data2/varun/HiTIPS_paper_data/fig_5/kpnb1/exp2/AssayPlate_PerkinElmer_CellCarrier-384 Ultra_F11_T0116F009L01A01Z01C01.tif\n",
      "/data2/varun/HiTIPS_paper_data/fig_5/kpnb1/exp2/AssayPlate_PerkinElmer_CellCarrier-384 Ultra_F11_T0116F008L01A01Z01C01.tif\n",
      "/data2/varun/HiTIPS_paper_data/fig_5/kpnb1/exp2/AssayPlate_PerkinElmer_CellCarrier-384 Ultra_F11_T0116F006L01A01Z01C01.tif\n",
      "/data2/varun/HiTIPS_paper_data/fig_5/kpnb1/exp2/AssayPlate_PerkinElmer_CellCarrier-384 Ultra_F11_T0117F002L01A01Z01C01.tif\n",
      "/data2/varun/HiTIPS_paper_data/fig_5/kpnb1/exp2/AssayPlate_PerkinElmer_CellCarrier-384 Ultra_F11_T0117F001L01A01Z01C01.tif\n",
      "/data2/varun/HiTIPS_paper_data/fig_5/kpnb1/exp2/AssayPlate_PerkinElmer_CellCarrier-384 Ultra_F11_T0117F004L01A01Z01C01.tif\n",
      "/data2/varun/HiTIPS_paper_data/fig_5/kpnb1/exp2/AssayPlate_PerkinElmer_CellCarrier-384 Ultra_F11_T0117F003L01A01Z01C01.tif\n",
      "/data2/varun/HiTIPS_paper_data/fig_5/kpnb1/exp2/AssayPlate_PerkinElmer_CellCarrier-384 Ultra_F11_T0117F006L01A01Z01C01.tif\n",
      "/data2/varun/HiTIPS_paper_data/fig_5/kpnb1/exp2/AssayPlate_PerkinElmer_CellCarrier-384 Ultra_F11_T0117F005L01A01Z01C01.tif\n",
      "/data2/varun/HiTIPS_paper_data/fig_5/kpnb1/exp2/AssayPlate_PerkinElmer_CellCarrier-384 Ultra_F11_T0117F008L01A01Z01C01.tif\n",
      "/data2/varun/HiTIPS_paper_data/fig_5/kpnb1/exp2/AssayPlate_PerkinElmer_CellCarrier-384 Ultra_F11_T0117F007L01A01Z01C01.tif\n",
      "/data2/varun/HiTIPS_paper_data/fig_5/kpnb1/exp2/AssayPlate_PerkinElmer_CellCarrier-384 Ultra_F11_T0118F002L01A01Z01C01.tif\n",
      "/data2/varun/HiTIPS_paper_data/fig_5/kpnb1/exp2/AssayPlate_PerkinElmer_CellCarrier-384 Ultra_F11_T0118F001L01A01Z01C01.tif\n",
      "/data2/varun/HiTIPS_paper_data/fig_5/kpnb1/exp2/AssayPlate_PerkinElmer_CellCarrier-384 Ultra_F11_T0118F003L01A01Z01C01.tif\n",
      "/data2/varun/HiTIPS_paper_data/fig_5/kpnb1/exp2/AssayPlate_PerkinElmer_CellCarrier-384 Ultra_F11_T0117F009L01A01Z01C01.tif\n",
      "/data2/varun/HiTIPS_paper_data/fig_5/kpnb1/exp2/AssayPlate_PerkinElmer_CellCarrier-384 Ultra_F11_T0118F004L01A01Z01C01.tif\n",
      "/data2/varun/HiTIPS_paper_data/fig_5/kpnb1/exp2/AssayPlate_PerkinElmer_CellCarrier-384 Ultra_F11_T0118F005L01A01Z01C01.tif\n",
      "/data2/varun/HiTIPS_paper_data/fig_5/kpnb1/exp2/AssayPlate_PerkinElmer_CellCarrier-384 Ultra_F11_T0118F007L01A01Z01C01.tif\n",
      "/data2/varun/HiTIPS_paper_data/fig_5/kpnb1/exp2/AssayPlate_PerkinElmer_CellCarrier-384 Ultra_F11_T0118F006L01A01Z01C01.tif\n",
      "/data2/varun/HiTIPS_paper_data/fig_5/kpnb1/exp2/AssayPlate_PerkinElmer_CellCarrier-384 Ultra_F11_T0118F009L01A01Z01C01.tif\n",
      "/data2/varun/HiTIPS_paper_data/fig_5/kpnb1/exp2/AssayPlate_PerkinElmer_CellCarrier-384 Ultra_F11_T0119F002L01A01Z01C01.tif\n",
      "/data2/varun/HiTIPS_paper_data/fig_5/kpnb1/exp2/AssayPlate_PerkinElmer_CellCarrier-384 Ultra_F11_T0119F001L01A01Z01C01.tif\n",
      "/data2/varun/HiTIPS_paper_data/fig_5/kpnb1/exp2/AssayPlate_PerkinElmer_CellCarrier-384 Ultra_F11_T0118F008L01A01Z01C01.tif\n",
      "/data2/varun/HiTIPS_paper_data/fig_5/kpnb1/exp2/AssayPlate_PerkinElmer_CellCarrier-384 Ultra_F11_T0119F004L01A01Z01C01.tif\n",
      "/data2/varun/HiTIPS_paper_data/fig_5/kpnb1/exp2/AssayPlate_PerkinElmer_CellCarrier-384 Ultra_F11_T0119F006L01A01Z01C01.tif\n",
      "/data2/varun/HiTIPS_paper_data/fig_5/kpnb1/exp2/AssayPlate_PerkinElmer_CellCarrier-384 Ultra_F11_T0119F003L01A01Z01C01.tif\n",
      "/data2/varun/HiTIPS_paper_data/fig_5/kpnb1/exp2/AssayPlate_PerkinElmer_CellCarrier-384 Ultra_F11_T0119F005L01A01Z01C01.tif\n",
      "/data2/varun/HiTIPS_paper_data/fig_5/kpnb1/exp2/AssayPlate_PerkinElmer_CellCarrier-384 Ultra_F11_T0119F008L01A01Z01C01.tif\n",
      "/data2/varun/HiTIPS_paper_data/fig_5/kpnb1/exp2/AssayPlate_PerkinElmer_CellCarrier-384 Ultra_F11_T0120F001L01A01Z01C01.tif\n",
      "/data2/varun/HiTIPS_paper_data/fig_5/kpnb1/exp2/AssayPlate_PerkinElmer_CellCarrier-384 Ultra_F11_T0119F009L01A01Z01C01.tif\n",
      "/data2/varun/HiTIPS_paper_data/fig_5/kpnb1/exp2/AssayPlate_PerkinElmer_CellCarrier-384 Ultra_F11_T0119F007L01A01Z01C01.tif\n",
      "/data2/varun/HiTIPS_paper_data/fig_5/kpnb1/exp2/AssayPlate_PerkinElmer_CellCarrier-384 Ultra_F11_T0120F003L01A01Z01C01.tif\n",
      "/data2/varun/HiTIPS_paper_data/fig_5/kpnb1/exp2/AssayPlate_PerkinElmer_CellCarrier-384 Ultra_F11_T0120F002L01A01Z01C01.tif\n",
      "/data2/varun/HiTIPS_paper_data/fig_5/kpnb1/exp2/AssayPlate_PerkinElmer_CellCarrier-384 Ultra_F11_T0120F004L01A01Z01C01.tif\n",
      "/data2/varun/HiTIPS_paper_data/fig_5/kpnb1/exp2/AssayPlate_PerkinElmer_CellCarrier-384 Ultra_F11_T0120F005L01A01Z01C01.tif\n",
      "/data2/varun/HiTIPS_paper_data/fig_5/kpnb1/exp2/AssayPlate_PerkinElmer_CellCarrier-384 Ultra_F11_T0120F009L01A01Z01C01.tif\n",
      "/data2/varun/HiTIPS_paper_data/fig_5/kpnb1/exp2/AssayPlate_PerkinElmer_CellCarrier-384 Ultra_F11_T0120F008L01A01Z01C01.tif\n",
      "/data2/varun/HiTIPS_paper_data/fig_5/kpnb1/exp2/AssayPlate_PerkinElmer_CellCarrier-384 Ultra_F11_T0120F006L01A01Z01C01.tif\n",
      "/data2/varun/HiTIPS_paper_data/fig_5/kpnb1/exp2/AssayPlate_PerkinElmer_CellCarrier-384 Ultra_F11_T0120F007L01A01Z01C01.tif\n",
      "/data2/varun/HiTIPS_paper_data/fig_5/kpnb1/exp2/AssayPlate_PerkinElmer_CellCarrier-384 Ultra_F11_T0121F001L01A01Z01C01.tif\n",
      "/data2/varun/HiTIPS_paper_data/fig_5/kpnb1/exp2/AssayPlate_PerkinElmer_CellCarrier-384 Ultra_F11_T0121F002L01A01Z01C01.tif\n",
      "/data2/varun/HiTIPS_paper_data/fig_5/kpnb1/exp2/AssayPlate_PerkinElmer_CellCarrier-384 Ultra_F11_T0121F003L01A01Z01C01.tif\n",
      "/data2/varun/HiTIPS_paper_data/fig_5/kpnb1/exp2/AssayPlate_PerkinElmer_CellCarrier-384 Ultra_F11_T0121F004L01A01Z01C01.tif\n",
      "/data2/varun/HiTIPS_paper_data/fig_5/kpnb1/exp2/AssayPlate_PerkinElmer_CellCarrier-384 Ultra_F11_T0121F006L01A01Z01C01.tif\n",
      "/data2/varun/HiTIPS_paper_data/fig_5/kpnb1/exp2/AssayPlate_PerkinElmer_CellCarrier-384 Ultra_F11_T0121F005L01A01Z01C01.tif\n",
      "/data2/varun/HiTIPS_paper_data/fig_5/kpnb1/exp2/AssayPlate_PerkinElmer_CellCarrier-384 Ultra_F11_T0121F007L01A01Z01C01.tif\n",
      "/data2/varun/HiTIPS_paper_data/fig_5/kpnb1/exp2/AssayPlate_PerkinElmer_CellCarrier-384 Ultra_F11_T0121F008L01A01Z01C01.tif\n",
      "/data2/varun/HiTIPS_paper_data/fig_5/kpnb1/exp2/AssayPlate_PerkinElmer_CellCarrier-384 Ultra_F11_T0122F001L01A01Z01C01.tif\n",
      "/data2/varun/HiTIPS_paper_data/fig_5/kpnb1/exp2/AssayPlate_PerkinElmer_CellCarrier-384 Ultra_F11_T0122F003L01A01Z01C01.tif\n",
      "/data2/varun/HiTIPS_paper_data/fig_5/kpnb1/exp2/AssayPlate_PerkinElmer_CellCarrier-384 Ultra_F11_T0122F002L01A01Z01C01.tif\n",
      "/data2/varun/HiTIPS_paper_data/fig_5/kpnb1/exp2/AssayPlate_PerkinElmer_CellCarrier-384 Ultra_F11_T0121F009L01A01Z01C01.tif\n",
      "/data2/varun/HiTIPS_paper_data/fig_5/kpnb1/exp2/AssayPlate_PerkinElmer_CellCarrier-384 Ultra_F11_T0122F005L01A01Z01C01.tif\n",
      "/data2/varun/HiTIPS_paper_data/fig_5/kpnb1/exp2/AssayPlate_PerkinElmer_CellCarrier-384 Ultra_F11_T0122F004L01A01Z01C01.tif\n",
      "/data2/varun/HiTIPS_paper_data/fig_5/kpnb1/exp2/AssayPlate_PerkinElmer_CellCarrier-384 Ultra_F11_T0122F006L01A01Z01C01.tif\n",
      "/data2/varun/HiTIPS_paper_data/fig_5/kpnb1/exp2/AssayPlate_PerkinElmer_CellCarrier-384 Ultra_F11_T0122F007L01A01Z01C01.tif\n",
      "/data2/varun/HiTIPS_paper_data/fig_5/kpnb1/exp2/AssayPlate_PerkinElmer_CellCarrier-384 Ultra_F11_T0122F009L01A01Z01C01.tif\n",
      "/data2/varun/HiTIPS_paper_data/fig_5/kpnb1/exp2/AssayPlate_PerkinElmer_CellCarrier-384 Ultra_F11_T0123F001L01A01Z01C01.tif\n",
      "/data2/varun/HiTIPS_paper_data/fig_5/kpnb1/exp2/AssayPlate_PerkinElmer_CellCarrier-384 Ultra_F11_T0123F002L01A01Z01C01.tif\n",
      "/data2/varun/HiTIPS_paper_data/fig_5/kpnb1/exp2/AssayPlate_PerkinElmer_CellCarrier-384 Ultra_F11_T0122F008L01A01Z01C01.tif\n",
      "/data2/varun/HiTIPS_paper_data/fig_5/kpnb1/exp2/AssayPlate_PerkinElmer_CellCarrier-384 Ultra_F11_T0123F004L01A01Z01C01.tif\n",
      "/data2/varun/HiTIPS_paper_data/fig_5/kpnb1/exp2/AssayPlate_PerkinElmer_CellCarrier-384 Ultra_F11_T0123F003L01A01Z01C01.tif\n",
      "/data2/varun/HiTIPS_paper_data/fig_5/kpnb1/exp2/AssayPlate_PerkinElmer_CellCarrier-384 Ultra_F11_T0123F005L01A01Z01C01.tif\n",
      "/data2/varun/HiTIPS_paper_data/fig_5/kpnb1/exp2/AssayPlate_PerkinElmer_CellCarrier-384 Ultra_F11_T0123F006L01A01Z01C01.tif\n",
      "/data2/varun/HiTIPS_paper_data/fig_5/kpnb1/exp2/AssayPlate_PerkinElmer_CellCarrier-384 Ultra_F11_T0123F008L01A01Z01C01.tif\n",
      "/data2/varun/HiTIPS_paper_data/fig_5/kpnb1/exp2/AssayPlate_PerkinElmer_CellCarrier-384 Ultra_F11_T0123F007L01A01Z01C01.tif\n",
      "/data2/varun/HiTIPS_paper_data/fig_5/kpnb1/exp2/AssayPlate_PerkinElmer_CellCarrier-384 Ultra_F11_T0124F001L01A01Z01C01.tif\n",
      "/data2/varun/HiTIPS_paper_data/fig_5/kpnb1/exp2/AssayPlate_PerkinElmer_CellCarrier-384 Ultra_F11_T0123F009L01A01Z01C01.tif\n",
      "/data2/varun/HiTIPS_paper_data/fig_5/kpnb1/exp2/AssayPlate_PerkinElmer_CellCarrier-384 Ultra_F11_T0124F003L01A01Z01C01.tif\n",
      "/data2/varun/HiTIPS_paper_data/fig_5/kpnb1/exp2/AssayPlate_PerkinElmer_CellCarrier-384 Ultra_F11_T0124F002L01A01Z01C01.tif\n",
      "/data2/varun/HiTIPS_paper_data/fig_5/kpnb1/exp2/AssayPlate_PerkinElmer_CellCarrier-384 Ultra_F11_T0124F005L01A01Z01C01.tif\n",
      "/data2/varun/HiTIPS_paper_data/fig_5/kpnb1/exp2/AssayPlate_PerkinElmer_CellCarrier-384 Ultra_F11_T0124F004L01A01Z01C01.tif\n",
      "/data2/varun/HiTIPS_paper_data/fig_5/kpnb1/exp2/AssayPlate_PerkinElmer_CellCarrier-384 Ultra_F11_T0124F007L01A01Z01C01.tif\n",
      "/data2/varun/HiTIPS_paper_data/fig_5/kpnb1/exp2/AssayPlate_PerkinElmer_CellCarrier-384 Ultra_F11_T0124F006L01A01Z01C01.tif\n",
      "/data2/varun/HiTIPS_paper_data/fig_5/kpnb1/exp2/AssayPlate_PerkinElmer_CellCarrier-384 Ultra_F11_T0124F009L01A01Z01C01.tif\n",
      "/data2/varun/HiTIPS_paper_data/fig_5/kpnb1/exp2/AssayPlate_PerkinElmer_CellCarrier-384 Ultra_F11_T0124F008L01A01Z01C01.tif\n",
      "/data2/varun/HiTIPS_paper_data/fig_5/kpnb1/exp2/AssayPlate_PerkinElmer_CellCarrier-384 Ultra_F11_T0125F002L01A01Z01C01.tif\n",
      "/data2/varun/HiTIPS_paper_data/fig_5/kpnb1/exp2/AssayPlate_PerkinElmer_CellCarrier-384 Ultra_F11_T0125F001L01A01Z01C01.tif\n",
      "/data2/varun/HiTIPS_paper_data/fig_5/kpnb1/exp2/AssayPlate_PerkinElmer_CellCarrier-384 Ultra_F11_T0125F003L01A01Z01C01.tif\n",
      "/data2/varun/HiTIPS_paper_data/fig_5/kpnb1/exp2/AssayPlate_PerkinElmer_CellCarrier-384 Ultra_F11_T0125F004L01A01Z01C01.tif\n",
      "/data2/varun/HiTIPS_paper_data/fig_5/kpnb1/exp2/AssayPlate_PerkinElmer_CellCarrier-384 Ultra_F11_T0125F007L01A01Z01C01.tif\n",
      "/data2/varun/HiTIPS_paper_data/fig_5/kpnb1/exp2/AssayPlate_PerkinElmer_CellCarrier-384 Ultra_F11_T0125F005L01A01Z01C01.tif\n",
      "/data2/varun/HiTIPS_paper_data/fig_5/kpnb1/exp2/AssayPlate_PerkinElmer_CellCarrier-384 Ultra_F11_T0125F006L01A01Z01C01.tif\n",
      "/data2/varun/HiTIPS_paper_data/fig_5/kpnb1/exp2/AssayPlate_PerkinElmer_CellCarrier-384 Ultra_F11_T0125F008L01A01Z01C01.tif\n",
      "/data2/varun/HiTIPS_paper_data/fig_5/kpnb1/exp2/AssayPlate_PerkinElmer_CellCarrier-384 Ultra_F11_T0126F001L01A01Z01C01.tif\n",
      "/data2/varun/HiTIPS_paper_data/fig_5/kpnb1/exp2/AssayPlate_PerkinElmer_CellCarrier-384 Ultra_F11_T0126F003L01A01Z01C01.tif\n",
      "/data2/varun/HiTIPS_paper_data/fig_5/kpnb1/exp2/AssayPlate_PerkinElmer_CellCarrier-384 Ultra_F11_T0126F002L01A01Z01C01.tif\n",
      "/data2/varun/HiTIPS_paper_data/fig_5/kpnb1/exp2/AssayPlate_PerkinElmer_CellCarrier-384 Ultra_F11_T0125F009L01A01Z01C01.tif\n",
      "/data2/varun/HiTIPS_paper_data/fig_5/kpnb1/exp2/AssayPlate_PerkinElmer_CellCarrier-384 Ultra_F11_T0126F005L01A01Z01C01.tif\n",
      "/data2/varun/HiTIPS_paper_data/fig_5/kpnb1/exp2/AssayPlate_PerkinElmer_CellCarrier-384 Ultra_F11_T0126F006L01A01Z01C01.tif\n",
      "/data2/varun/HiTIPS_paper_data/fig_5/kpnb1/exp2/AssayPlate_PerkinElmer_CellCarrier-384 Ultra_F11_T0126F004L01A01Z01C01.tif\n",
      "/data2/varun/HiTIPS_paper_data/fig_5/kpnb1/exp2/AssayPlate_PerkinElmer_CellCarrier-384 Ultra_F11_T0126F007L01A01Z01C01.tif\n",
      "/data2/varun/HiTIPS_paper_data/fig_5/kpnb1/exp2/AssayPlate_PerkinElmer_CellCarrier-384 Ultra_F11_T0127F001L01A01Z01C01.tif\n",
      "/data2/varun/HiTIPS_paper_data/fig_5/kpnb1/exp2/AssayPlate_PerkinElmer_CellCarrier-384 Ultra_F11_T0126F009L01A01Z01C01.tif\n",
      "/data2/varun/HiTIPS_paper_data/fig_5/kpnb1/exp2/AssayPlate_PerkinElmer_CellCarrier-384 Ultra_F11_T0127F002L01A01Z01C01.tif\n",
      "/data2/varun/HiTIPS_paper_data/fig_5/kpnb1/exp2/AssayPlate_PerkinElmer_CellCarrier-384 Ultra_F11_T0126F008L01A01Z01C01.tif\n",
      "/data2/varun/HiTIPS_paper_data/fig_5/kpnb1/exp2/AssayPlate_PerkinElmer_CellCarrier-384 Ultra_F11_T0127F004L01A01Z01C01.tif\n",
      "/data2/varun/HiTIPS_paper_data/fig_5/kpnb1/exp2/AssayPlate_PerkinElmer_CellCarrier-384 Ultra_F11_T0127F003L01A01Z01C01.tif\n",
      "/data2/varun/HiTIPS_paper_data/fig_5/kpnb1/exp2/AssayPlate_PerkinElmer_CellCarrier-384 Ultra_F11_T0127F005L01A01Z01C01.tif\n",
      "/data2/varun/HiTIPS_paper_data/fig_5/kpnb1/exp2/AssayPlate_PerkinElmer_CellCarrier-384 Ultra_F11_T0127F006L01A01Z01C01.tif\n",
      "/data2/varun/HiTIPS_paper_data/fig_5/kpnb1/exp2/AssayPlate_PerkinElmer_CellCarrier-384 Ultra_F11_T0127F007L01A01Z01C01.tif\n",
      "/data2/varun/HiTIPS_paper_data/fig_5/kpnb1/exp2/AssayPlate_PerkinElmer_CellCarrier-384 Ultra_F11_T0127F008L01A01Z01C01.tif\n",
      "/data2/varun/HiTIPS_paper_data/fig_5/kpnb1/exp2/AssayPlate_PerkinElmer_CellCarrier-384 Ultra_F11_T0127F009L01A01Z01C01.tif\n",
      "/data2/varun/HiTIPS_paper_data/fig_5/kpnb1/exp2/AssayPlate_PerkinElmer_CellCarrier-384 Ultra_F11_T0128F001L01A01Z01C01.tif\n",
      "/data2/varun/HiTIPS_paper_data/fig_5/kpnb1/exp2/AssayPlate_PerkinElmer_CellCarrier-384 Ultra_F11_T0128F003L01A01Z01C01.tif\n",
      "/data2/varun/HiTIPS_paper_data/fig_5/kpnb1/exp2/AssayPlate_PerkinElmer_CellCarrier-384 Ultra_F11_T0128F002L01A01Z01C01.tif\n",
      "/data2/varun/HiTIPS_paper_data/fig_5/kpnb1/exp2/AssayPlate_PerkinElmer_CellCarrier-384 Ultra_F11_T0128F004L01A01Z01C01.tif\n",
      "/data2/varun/HiTIPS_paper_data/fig_5/kpnb1/exp2/AssayPlate_PerkinElmer_CellCarrier-384 Ultra_F11_T0128F005L01A01Z01C01.tif\n",
      "/data2/varun/HiTIPS_paper_data/fig_5/kpnb1/exp2/AssayPlate_PerkinElmer_CellCarrier-384 Ultra_F11_T0128F007L01A01Z01C01.tif\n",
      "/data2/varun/HiTIPS_paper_data/fig_5/kpnb1/exp2/AssayPlate_PerkinElmer_CellCarrier-384 Ultra_F11_T0128F006L01A01Z01C01.tif\n",
      "/data2/varun/HiTIPS_paper_data/fig_5/kpnb1/exp2/AssayPlate_PerkinElmer_CellCarrier-384 Ultra_F11_T0128F008L01A01Z01C01.tif\n",
      "/data2/varun/HiTIPS_paper_data/fig_5/kpnb1/exp2/AssayPlate_PerkinElmer_CellCarrier-384 Ultra_F11_T0128F009L01A01Z01C01.tif\n",
      "/data2/varun/HiTIPS_paper_data/fig_5/kpnb1/exp2/AssayPlate_PerkinElmer_CellCarrier-384 Ultra_F11_T0129F002L01A01Z01C01.tif\n",
      "/data2/varun/HiTIPS_paper_data/fig_5/kpnb1/exp2/AssayPlate_PerkinElmer_CellCarrier-384 Ultra_F11_T0129F001L01A01Z01C01.tif\n",
      "/data2/varun/HiTIPS_paper_data/fig_5/kpnb1/exp2/AssayPlate_PerkinElmer_CellCarrier-384 Ultra_F11_T0129F003L01A01Z01C01.tif\n",
      "/data2/varun/HiTIPS_paper_data/fig_5/kpnb1/exp2/AssayPlate_PerkinElmer_CellCarrier-384 Ultra_F11_T0129F004L01A01Z01C01.tif\n",
      "/data2/varun/HiTIPS_paper_data/fig_5/kpnb1/exp2/AssayPlate_PerkinElmer_CellCarrier-384 Ultra_F11_T0129F005L01A01Z01C01.tif\n",
      "/data2/varun/HiTIPS_paper_data/fig_5/kpnb1/exp2/AssayPlate_PerkinElmer_CellCarrier-384 Ultra_F11_T0129F008L01A01Z01C01.tif\n",
      "/data2/varun/HiTIPS_paper_data/fig_5/kpnb1/exp2/AssayPlate_PerkinElmer_CellCarrier-384 Ultra_F11_T0129F006L01A01Z01C01.tif\n",
      "/data2/varun/HiTIPS_paper_data/fig_5/kpnb1/exp2/AssayPlate_PerkinElmer_CellCarrier-384 Ultra_F11_T0129F007L01A01Z01C01.tif\n",
      "/data2/varun/HiTIPS_paper_data/fig_5/kpnb1/exp2/AssayPlate_PerkinElmer_CellCarrier-384 Ultra_F11_T0130F001L01A01Z01C01.tif\n",
      "/data2/varun/HiTIPS_paper_data/fig_5/kpnb1/exp2/AssayPlate_PerkinElmer_CellCarrier-384 Ultra_F11_T0130F002L01A01Z01C01.tif\n",
      "/data2/varun/HiTIPS_paper_data/fig_5/kpnb1/exp2/AssayPlate_PerkinElmer_CellCarrier-384 Ultra_F11_T0130F003L01A01Z01C01.tif\n",
      "/data2/varun/HiTIPS_paper_data/fig_5/kpnb1/exp2/AssayPlate_PerkinElmer_CellCarrier-384 Ultra_F11_T0129F009L01A01Z01C01.tif\n",
      "/data2/varun/HiTIPS_paper_data/fig_5/kpnb1/exp2/AssayPlate_PerkinElmer_CellCarrier-384 Ultra_F11_T0130F005L01A01Z01C01.tif\n",
      "/data2/varun/HiTIPS_paper_data/fig_5/kpnb1/exp2/AssayPlate_PerkinElmer_CellCarrier-384 Ultra_F11_T0130F007L01A01Z01C01.tif\n",
      "/data2/varun/HiTIPS_paper_data/fig_5/kpnb1/exp2/AssayPlate_PerkinElmer_CellCarrier-384 Ultra_F11_T0130F004L01A01Z01C01.tif\n",
      "/data2/varun/HiTIPS_paper_data/fig_5/kpnb1/exp2/AssayPlate_PerkinElmer_CellCarrier-384 Ultra_F11_T0130F006L01A01Z01C01.tif\n",
      "/data2/varun/HiTIPS_paper_data/fig_5/kpnb1/exp2/AssayPlate_PerkinElmer_CellCarrier-384 Ultra_F11_T0130F009L01A01Z01C01.tif\n",
      "/data2/varun/HiTIPS_paper_data/fig_5/kpnb1/exp2/AssayPlate_PerkinElmer_CellCarrier-384 Ultra_F11_T0130F008L01A01Z01C01.tif\n",
      "/data2/varun/HiTIPS_paper_data/fig_5/kpnb1/exp2/AssayPlate_PerkinElmer_CellCarrier-384 Ultra_F11_T0131F001L01A01Z01C01.tif\n",
      "/data2/varun/HiTIPS_paper_data/fig_5/kpnb1/exp2/AssayPlate_PerkinElmer_CellCarrier-384 Ultra_F11_T0131F002L01A01Z01C01.tif\n",
      "/data2/varun/HiTIPS_paper_data/fig_5/kpnb1/exp2/AssayPlate_PerkinElmer_CellCarrier-384 Ultra_F11_T0131F004L01A01Z01C01.tif\n",
      "/data2/varun/HiTIPS_paper_data/fig_5/kpnb1/exp2/AssayPlate_PerkinElmer_CellCarrier-384 Ultra_F11_T0131F003L01A01Z01C01.tif\n",
      "/data2/varun/HiTIPS_paper_data/fig_5/kpnb1/exp2/AssayPlate_PerkinElmer_CellCarrier-384 Ultra_F11_T0131F006L01A01Z01C01.tif\n",
      "/data2/varun/HiTIPS_paper_data/fig_5/kpnb1/exp2/AssayPlate_PerkinElmer_CellCarrier-384 Ultra_F11_T0131F005L01A01Z01C01.tif\n",
      "/data2/varun/HiTIPS_paper_data/fig_5/kpnb1/exp2/AssayPlate_PerkinElmer_CellCarrier-384 Ultra_F11_T0131F008L01A01Z01C01.tif\n",
      "/data2/varun/HiTIPS_paper_data/fig_5/kpnb1/exp2/AssayPlate_PerkinElmer_CellCarrier-384 Ultra_F11_T0131F009L01A01Z01C01.tif\n",
      "/data2/varun/HiTIPS_paper_data/fig_5/kpnb1/exp2/AssayPlate_PerkinElmer_CellCarrier-384 Ultra_F11_T0131F007L01A01Z01C01.tif\n",
      "/data2/varun/HiTIPS_paper_data/fig_5/kpnb1/exp2/AssayPlate_PerkinElmer_CellCarrier-384 Ultra_F11_T0132F001L01A01Z01C01.tif\n",
      "/data2/varun/HiTIPS_paper_data/fig_5/kpnb1/exp2/AssayPlate_PerkinElmer_CellCarrier-384 Ultra_F11_T0132F003L01A01Z01C01.tif\n",
      "/data2/varun/HiTIPS_paper_data/fig_5/kpnb1/exp2/AssayPlate_PerkinElmer_CellCarrier-384 Ultra_F11_T0132F002L01A01Z01C01.tif\n",
      "/data2/varun/HiTIPS_paper_data/fig_5/kpnb1/exp2/AssayPlate_PerkinElmer_CellCarrier-384 Ultra_F11_T0132F005L01A01Z01C01.tif\n",
      "/data2/varun/HiTIPS_paper_data/fig_5/kpnb1/exp2/AssayPlate_PerkinElmer_CellCarrier-384 Ultra_F11_T0132F004L01A01Z01C01.tif\n",
      "/data2/varun/HiTIPS_paper_data/fig_5/kpnb1/exp2/AssayPlate_PerkinElmer_CellCarrier-384 Ultra_F11_T0132F007L01A01Z01C01.tif\n",
      "/data2/varun/HiTIPS_paper_data/fig_5/kpnb1/exp2/AssayPlate_PerkinElmer_CellCarrier-384 Ultra_F11_T0132F006L01A01Z01C01.tif\n",
      "/data2/varun/HiTIPS_paper_data/fig_5/kpnb1/exp2/AssayPlate_PerkinElmer_CellCarrier-384 Ultra_F11_T0132F008L01A01Z01C01.tif\n",
      "/data2/varun/HiTIPS_paper_data/fig_5/kpnb1/exp2/AssayPlate_PerkinElmer_CellCarrier-384 Ultra_F11_T0132F009L01A01Z01C01.tif\n",
      "/data2/varun/HiTIPS_paper_data/fig_5/kpnb1/exp2/AssayPlate_PerkinElmer_CellCarrier-384 Ultra_F11_T0133F001L01A01Z01C01.tif\n",
      "/data2/varun/HiTIPS_paper_data/fig_5/kpnb1/exp2/AssayPlate_PerkinElmer_CellCarrier-384 Ultra_F11_T0133F003L01A01Z01C01.tif\n",
      "/data2/varun/HiTIPS_paper_data/fig_5/kpnb1/exp2/AssayPlate_PerkinElmer_CellCarrier-384 Ultra_F11_T0133F004L01A01Z01C01.tif\n",
      "/data2/varun/HiTIPS_paper_data/fig_5/kpnb1/exp2/AssayPlate_PerkinElmer_CellCarrier-384 Ultra_F11_T0133F002L01A01Z01C01.tif\n",
      "/data2/varun/HiTIPS_paper_data/fig_5/kpnb1/exp2/AssayPlate_PerkinElmer_CellCarrier-384 Ultra_F11_T0133F005L01A01Z01C01.tif\n",
      "/data2/varun/HiTIPS_paper_data/fig_5/kpnb1/exp2/AssayPlate_PerkinElmer_CellCarrier-384 Ultra_F11_T0133F006L01A01Z01C01.tif\n",
      "/data2/varun/HiTIPS_paper_data/fig_5/kpnb1/exp2/AssayPlate_PerkinElmer_CellCarrier-384 Ultra_F11_T0133F008L01A01Z01C01.tif\n",
      "/data2/varun/HiTIPS_paper_data/fig_5/kpnb1/exp2/AssayPlate_PerkinElmer_CellCarrier-384 Ultra_F11_T0133F007L01A01Z01C01.tif\n",
      "/data2/varun/HiTIPS_paper_data/fig_5/kpnb1/exp2/AssayPlate_PerkinElmer_CellCarrier-384 Ultra_F11_T0134F001L01A01Z01C01.tif\n",
      "/data2/varun/HiTIPS_paper_data/fig_5/kpnb1/exp2/AssayPlate_PerkinElmer_CellCarrier-384 Ultra_F11_T0134F002L01A01Z01C01.tif\n",
      "/data2/varun/HiTIPS_paper_data/fig_5/kpnb1/exp2/AssayPlate_PerkinElmer_CellCarrier-384 Ultra_F11_T0133F009L01A01Z01C01.tif\n",
      "/data2/varun/HiTIPS_paper_data/fig_5/kpnb1/exp2/AssayPlate_PerkinElmer_CellCarrier-384 Ultra_F11_T0134F003L01A01Z01C01.tif\n",
      "/data2/varun/HiTIPS_paper_data/fig_5/kpnb1/exp2/AssayPlate_PerkinElmer_CellCarrier-384 Ultra_F11_T0134F005L01A01Z01C01.tif\n",
      "/data2/varun/HiTIPS_paper_data/fig_5/kpnb1/exp2/AssayPlate_PerkinElmer_CellCarrier-384 Ultra_F11_T0134F006L01A01Z01C01.tif\n",
      "/data2/varun/HiTIPS_paper_data/fig_5/kpnb1/exp2/AssayPlate_PerkinElmer_CellCarrier-384 Ultra_F11_T0134F004L01A01Z01C01.tif\n",
      "/data2/varun/HiTIPS_paper_data/fig_5/kpnb1/exp2/AssayPlate_PerkinElmer_CellCarrier-384 Ultra_F11_T0134F007L01A01Z01C01.tif\n",
      "/data2/varun/HiTIPS_paper_data/fig_5/kpnb1/exp2/AssayPlate_PerkinElmer_CellCarrier-384 Ultra_F11_T0134F009L01A01Z01C01.tif\n",
      "/data2/varun/HiTIPS_paper_data/fig_5/kpnb1/exp2/AssayPlate_PerkinElmer_CellCarrier-384 Ultra_F11_T0135F002L01A01Z01C01.tif/data2/varun/HiTIPS_paper_data/fig_5/kpnb1/exp2/AssayPlate_PerkinElmer_CellCarrier-384 Ultra_F11_T0135F001L01A01Z01C01.tif\n",
      "\n",
      "/data2/varun/HiTIPS_paper_data/fig_5/kpnb1/exp2/AssayPlate_PerkinElmer_CellCarrier-384 Ultra_F11_T0134F008L01A01Z01C01.tif\n",
      "/data2/varun/HiTIPS_paper_data/fig_5/kpnb1/exp2/AssayPlate_PerkinElmer_CellCarrier-384 Ultra_F11_T0135F004L01A01Z01C01.tif\n",
      "/data2/varun/HiTIPS_paper_data/fig_5/kpnb1/exp2/AssayPlate_PerkinElmer_CellCarrier-384 Ultra_F11_T0135F005L01A01Z01C01.tif\n",
      "/data2/varun/HiTIPS_paper_data/fig_5/kpnb1/exp2/AssayPlate_PerkinElmer_CellCarrier-384 Ultra_F11_T0135F003L01A01Z01C01.tif\n",
      "/data2/varun/HiTIPS_paper_data/fig_5/kpnb1/exp2/AssayPlate_PerkinElmer_CellCarrier-384 Ultra_F11_T0135F006L01A01Z01C01.tif\n",
      "/data2/varun/HiTIPS_paper_data/fig_5/kpnb1/exp2/AssayPlate_PerkinElmer_CellCarrier-384 Ultra_F11_T0135F008L01A01Z01C01.tif\n",
      "/data2/varun/HiTIPS_paper_data/fig_5/kpnb1/exp2/AssayPlate_PerkinElmer_CellCarrier-384 Ultra_F11_T0136F001L01A01Z01C01.tif\n",
      "/data2/varun/HiTIPS_paper_data/fig_5/kpnb1/exp2/AssayPlate_PerkinElmer_CellCarrier-384 Ultra_F11_T0135F009L01A01Z01C01.tif\n",
      "/data2/varun/HiTIPS_paper_data/fig_5/kpnb1/exp2/AssayPlate_PerkinElmer_CellCarrier-384 Ultra_F11_T0135F007L01A01Z01C01.tif\n",
      "/data2/varun/HiTIPS_paper_data/fig_5/kpnb1/exp2/AssayPlate_PerkinElmer_CellCarrier-384 Ultra_F11_T0136F003L01A01Z01C01.tif\n",
      "/data2/varun/HiTIPS_paper_data/fig_5/kpnb1/exp2/AssayPlate_PerkinElmer_CellCarrier-384 Ultra_F11_T0136F004L01A01Z01C01.tif\n",
      "/data2/varun/HiTIPS_paper_data/fig_5/kpnb1/exp2/AssayPlate_PerkinElmer_CellCarrier-384 Ultra_F11_T0136F002L01A01Z01C01.tif\n",
      "/data2/varun/HiTIPS_paper_data/fig_5/kpnb1/exp2/AssayPlate_PerkinElmer_CellCarrier-384 Ultra_F11_T0136F005L01A01Z01C01.tif\n",
      "/data2/varun/HiTIPS_paper_data/fig_5/kpnb1/exp2/AssayPlate_PerkinElmer_CellCarrier-384 Ultra_F11_T0136F007L01A01Z01C01.tif\n",
      "/data2/varun/HiTIPS_paper_data/fig_5/kpnb1/exp2/AssayPlate_PerkinElmer_CellCarrier-384 Ultra_F11_T0136F008L01A01Z01C01.tif\n",
      "/data2/varun/HiTIPS_paper_data/fig_5/kpnb1/exp2/AssayPlate_PerkinElmer_CellCarrier-384 Ultra_F11_T0136F009L01A01Z01C01.tif\n",
      "/data2/varun/HiTIPS_paper_data/fig_5/kpnb1/exp2/AssayPlate_PerkinElmer_CellCarrier-384 Ultra_F11_T0136F006L01A01Z01C01.tif\n",
      "/data2/varun/HiTIPS_paper_data/fig_5/kpnb1/exp2/AssayPlate_PerkinElmer_CellCarrier-384 Ultra_F11_T0137F002L01A01Z01C01.tif\n",
      "/data2/varun/HiTIPS_paper_data/fig_5/kpnb1/exp2/AssayPlate_PerkinElmer_CellCarrier-384 Ultra_F11_T0137F001L01A01Z01C01.tif\n",
      "/data2/varun/HiTIPS_paper_data/fig_5/kpnb1/exp2/AssayPlate_PerkinElmer_CellCarrier-384 Ultra_F11_T0137F004L01A01Z01C01.tif\n",
      "/data2/varun/HiTIPS_paper_data/fig_5/kpnb1/exp2/AssayPlate_PerkinElmer_CellCarrier-384 Ultra_F11_T0137F003L01A01Z01C01.tif\n",
      "/data2/varun/HiTIPS_paper_data/fig_5/kpnb1/exp2/AssayPlate_PerkinElmer_CellCarrier-384 Ultra_F11_T0137F006L01A01Z01C01.tif\n",
      "/data2/varun/HiTIPS_paper_data/fig_5/kpnb1/exp2/AssayPlate_PerkinElmer_CellCarrier-384 Ultra_F11_T0137F007L01A01Z01C01.tif\n",
      "/data2/varun/HiTIPS_paper_data/fig_5/kpnb1/exp2/AssayPlate_PerkinElmer_CellCarrier-384 Ultra_F11_T0137F008L01A01Z01C01.tif\n",
      "/data2/varun/HiTIPS_paper_data/fig_5/kpnb1/exp2/AssayPlate_PerkinElmer_CellCarrier-384 Ultra_F11_T0137F005L01A01Z01C01.tif\n",
      "/data2/varun/HiTIPS_paper_data/fig_5/kpnb1/exp2/AssayPlate_PerkinElmer_CellCarrier-384 Ultra_F11_T0138F001L01A01Z01C01.tif\n",
      "/data2/varun/HiTIPS_paper_data/fig_5/kpnb1/exp2/AssayPlate_PerkinElmer_CellCarrier-384 Ultra_F11_T0138F002L01A01Z01C01.tif\n",
      "/data2/varun/HiTIPS_paper_data/fig_5/kpnb1/exp2/AssayPlate_PerkinElmer_CellCarrier-384 Ultra_F11_T0138F003L01A01Z01C01.tif\n",
      "/data2/varun/HiTIPS_paper_data/fig_5/kpnb1/exp2/AssayPlate_PerkinElmer_CellCarrier-384 Ultra_F11_T0137F009L01A01Z01C01.tif\n",
      "/data2/varun/HiTIPS_paper_data/fig_5/kpnb1/exp2/AssayPlate_PerkinElmer_CellCarrier-384 Ultra_F11_T0138F005L01A01Z01C01.tif\n",
      "/data2/varun/HiTIPS_paper_data/fig_5/kpnb1/exp2/AssayPlate_PerkinElmer_CellCarrier-384 Ultra_F11_T0138F006L01A01Z01C01.tif\n",
      "/data2/varun/HiTIPS_paper_data/fig_5/kpnb1/exp2/AssayPlate_PerkinElmer_CellCarrier-384 Ultra_F11_T0138F007L01A01Z01C01.tif\n",
      "/data2/varun/HiTIPS_paper_data/fig_5/kpnb1/exp2/AssayPlate_PerkinElmer_CellCarrier-384 Ultra_F11_T0138F004L01A01Z01C01.tif\n",
      "/data2/varun/HiTIPS_paper_data/fig_5/kpnb1/exp2/AssayPlate_PerkinElmer_CellCarrier-384 Ultra_F11_T0138F009L01A01Z01C01.tif\n",
      "/data2/varun/HiTIPS_paper_data/fig_5/kpnb1/exp2/AssayPlate_PerkinElmer_CellCarrier-384 Ultra_F11_T0139F001L01A01Z01C01.tif\n",
      "/data2/varun/HiTIPS_paper_data/fig_5/kpnb1/exp2/AssayPlate_PerkinElmer_CellCarrier-384 Ultra_F11_T0138F008L01A01Z01C01.tif\n",
      "/data2/varun/HiTIPS_paper_data/fig_5/kpnb1/exp2/AssayPlate_PerkinElmer_CellCarrier-384 Ultra_F11_T0139F002L01A01Z01C01.tif\n",
      "/data2/varun/HiTIPS_paper_data/fig_5/kpnb1/exp2/AssayPlate_PerkinElmer_CellCarrier-384 Ultra_F11_T0139F004L01A01Z01C01.tif\n",
      "/data2/varun/HiTIPS_paper_data/fig_5/kpnb1/exp2/AssayPlate_PerkinElmer_CellCarrier-384 Ultra_F11_T0139F003L01A01Z01C01.tif\n",
      "/data2/varun/HiTIPS_paper_data/fig_5/kpnb1/exp2/AssayPlate_PerkinElmer_CellCarrier-384 Ultra_F11_T0139F006L01A01Z01C01.tif\n",
      "/data2/varun/HiTIPS_paper_data/fig_5/kpnb1/exp2/AssayPlate_PerkinElmer_CellCarrier-384 Ultra_F11_T0139F005L01A01Z01C01.tif\n",
      "/data2/varun/HiTIPS_paper_data/fig_5/kpnb1/exp2/AssayPlate_PerkinElmer_CellCarrier-384 Ultra_F11_T0139F008L01A01Z01C01.tif\n",
      "/data2/varun/HiTIPS_paper_data/fig_5/kpnb1/exp2/AssayPlate_PerkinElmer_CellCarrier-384 Ultra_F11_T0139F009L01A01Z01C01.tif\n",
      "/data2/varun/HiTIPS_paper_data/fig_5/kpnb1/exp2/AssayPlate_PerkinElmer_CellCarrier-384 Ultra_F11_T0140F001L01A01Z01C01.tif\n",
      "/data2/varun/HiTIPS_paper_data/fig_5/kpnb1/exp2/AssayPlate_PerkinElmer_CellCarrier-384 Ultra_F11_T0139F007L01A01Z01C01.tif\n",
      "/data2/varun/HiTIPS_paper_data/fig_5/kpnb1/exp2/AssayPlate_PerkinElmer_CellCarrier-384 Ultra_F11_T0140F003L01A01Z01C01.tif\n",
      "/data2/varun/HiTIPS_paper_data/fig_5/kpnb1/exp2/AssayPlate_PerkinElmer_CellCarrier-384 Ultra_F11_T0140F005L01A01Z01C01.tif\n",
      "/data2/varun/HiTIPS_paper_data/fig_5/kpnb1/exp2/AssayPlate_PerkinElmer_CellCarrier-384 Ultra_F11_T0140F004L01A01Z01C01.tif\n",
      "/data2/varun/HiTIPS_paper_data/fig_5/kpnb1/exp2/AssayPlate_PerkinElmer_CellCarrier-384 Ultra_F11_T0140F002L01A01Z01C01.tif\n",
      "/data2/varun/HiTIPS_paper_data/fig_5/kpnb1/exp2/AssayPlate_PerkinElmer_CellCarrier-384 Ultra_F11_T0140F007L01A01Z01C01.tif\n",
      "/data2/varun/HiTIPS_paper_data/fig_5/kpnb1/exp2/AssayPlate_PerkinElmer_CellCarrier-384 Ultra_F11_T0140F009L01A01Z01C01.tif\n",
      "/data2/varun/HiTIPS_paper_data/fig_5/kpnb1/exp2/AssayPlate_PerkinElmer_CellCarrier-384 Ultra_F11_T0140F008L01A01Z01C01.tif\n",
      "/data2/varun/HiTIPS_paper_data/fig_5/kpnb1/exp2/AssayPlate_PerkinElmer_CellCarrier-384 Ultra_F11_T0140F006L01A01Z01C01.tif\n",
      "/data2/varun/HiTIPS_paper_data/fig_5/kpnb1/exp2/AssayPlate_PerkinElmer_CellCarrier-384 Ultra_F11_T0141F002L01A01Z01C01.tif\n",
      "/data2/varun/HiTIPS_paper_data/fig_5/kpnb1/exp2/AssayPlate_PerkinElmer_CellCarrier-384 Ultra_F11_T0141F003L01A01Z01C01.tif\n",
      "/data2/varun/HiTIPS_paper_data/fig_5/kpnb1/exp2/AssayPlate_PerkinElmer_CellCarrier-384 Ultra_F11_T0141F001L01A01Z01C01.tif\n",
      "/data2/varun/HiTIPS_paper_data/fig_5/kpnb1/exp2/AssayPlate_PerkinElmer_CellCarrier-384 Ultra_F11_T0141F004L01A01Z01C01.tif\n",
      "/data2/varun/HiTIPS_paper_data/fig_5/kpnb1/exp2/AssayPlate_PerkinElmer_CellCarrier-384 Ultra_F11_T0141F008L01A01Z01C01.tif\n",
      "/data2/varun/HiTIPS_paper_data/fig_5/kpnb1/exp2/AssayPlate_PerkinElmer_CellCarrier-384 Ultra_F11_T0141F006L01A01Z01C01.tif\n",
      "/data2/varun/HiTIPS_paper_data/fig_5/kpnb1/exp2/AssayPlate_PerkinElmer_CellCarrier-384 Ultra_F11_T0141F005L01A01Z01C01.tif\n",
      "/data2/varun/HiTIPS_paper_data/fig_5/kpnb1/exp2/AssayPlate_PerkinElmer_CellCarrier-384 Ultra_F11_T0141F007L01A01Z01C01.tif\n",
      "/data2/varun/HiTIPS_paper_data/fig_5/kpnb1/exp2/AssayPlate_PerkinElmer_CellCarrier-384 Ultra_F11_T0142F001L01A01Z01C01.tif\n",
      "/data2/varun/HiTIPS_paper_data/fig_5/kpnb1/exp2/AssayPlate_PerkinElmer_CellCarrier-384 Ultra_F11_T0142F002L01A01Z01C01.tif\n",
      "/data2/varun/HiTIPS_paper_data/fig_5/kpnb1/exp2/AssayPlate_PerkinElmer_CellCarrier-384 Ultra_F11_T0142F003L01A01Z01C01.tif\n",
      "/data2/varun/HiTIPS_paper_data/fig_5/kpnb1/exp2/AssayPlate_PerkinElmer_CellCarrier-384 Ultra_F11_T0141F009L01A01Z01C01.tif\n",
      "/data2/varun/HiTIPS_paper_data/fig_5/kpnb1/exp2/AssayPlate_PerkinElmer_CellCarrier-384 Ultra_F11_T0142F005L01A01Z01C01.tif\n",
      "/data2/varun/HiTIPS_paper_data/fig_5/kpnb1/exp2/AssayPlate_PerkinElmer_CellCarrier-384 Ultra_F11_T0142F004L01A01Z01C01.tif\n",
      "/data2/varun/HiTIPS_paper_data/fig_5/kpnb1/exp2/AssayPlate_PerkinElmer_CellCarrier-384 Ultra_F11_T0142F007L01A01Z01C01.tif\n",
      "/data2/varun/HiTIPS_paper_data/fig_5/kpnb1/exp2/AssayPlate_PerkinElmer_CellCarrier-384 Ultra_F11_T0142F006L01A01Z01C01.tif\n",
      "/data2/varun/HiTIPS_paper_data/fig_5/kpnb1/exp2/AssayPlate_PerkinElmer_CellCarrier-384 Ultra_F11_T0142F009L01A01Z01C01.tif\n",
      "/data2/varun/HiTIPS_paper_data/fig_5/kpnb1/exp2/AssayPlate_PerkinElmer_CellCarrier-384 Ultra_F11_T0143F001L01A01Z01C01.tif\n",
      "/data2/varun/HiTIPS_paper_data/fig_5/kpnb1/exp2/AssayPlate_PerkinElmer_CellCarrier-384 Ultra_F11_T0143F002L01A01Z01C01.tif\n",
      "/data2/varun/HiTIPS_paper_data/fig_5/kpnb1/exp2/AssayPlate_PerkinElmer_CellCarrier-384 Ultra_F11_T0142F008L01A01Z01C01.tif\n",
      "/data2/varun/HiTIPS_paper_data/fig_5/kpnb1/exp2/AssayPlate_PerkinElmer_CellCarrier-384 Ultra_F11_T0143F004L01A01Z01C01.tif\n",
      "/data2/varun/HiTIPS_paper_data/fig_5/kpnb1/exp2/AssayPlate_PerkinElmer_CellCarrier-384 Ultra_F11_T0143F005L01A01Z01C01.tif\n",
      "/data2/varun/HiTIPS_paper_data/fig_5/kpnb1/exp2/AssayPlate_PerkinElmer_CellCarrier-384 Ultra_F11_T0143F006L01A01Z01C01.tif/data2/varun/HiTIPS_paper_data/fig_5/kpnb1/exp2/AssayPlate_PerkinElmer_CellCarrier-384 Ultra_F11_T0143F003L01A01Z01C01.tif\n",
      "\n",
      "/data2/varun/HiTIPS_paper_data/fig_5/kpnb1/exp2/AssayPlate_PerkinElmer_CellCarrier-384 Ultra_F11_T0144F001L01A01Z01C01.tif\n",
      "/data2/varun/HiTIPS_paper_data/fig_5/kpnb1/exp2/AssayPlate_PerkinElmer_CellCarrier-384 Ultra_F11_T0143F008L01A01Z01C01.tif\n",
      "/data2/varun/HiTIPS_paper_data/fig_5/kpnb1/exp2/AssayPlate_PerkinElmer_CellCarrier-384 Ultra_F11_T0143F009L01A01Z01C01.tif\n",
      "/data2/varun/HiTIPS_paper_data/fig_5/kpnb1/exp2/AssayPlate_PerkinElmer_CellCarrier-384 Ultra_F11_T0143F007L01A01Z01C01.tif\n",
      "/data2/varun/HiTIPS_paper_data/fig_5/kpnb1/exp2/AssayPlate_PerkinElmer_CellCarrier-384 Ultra_F11_T0144F003L01A01Z01C01.tif\n",
      "/data2/varun/HiTIPS_paper_data/fig_5/kpnb1/exp2/AssayPlate_PerkinElmer_CellCarrier-384 Ultra_F11_T0144F002L01A01Z01C01.tif\n",
      "/data2/varun/HiTIPS_paper_data/fig_5/kpnb1/exp2/AssayPlate_PerkinElmer_CellCarrier-384 Ultra_F11_T0144F005L01A01Z01C01.tif\n",
      "/data2/varun/HiTIPS_paper_data/fig_5/kpnb1/exp2/AssayPlate_PerkinElmer_CellCarrier-384 Ultra_F11_T0144F004L01A01Z01C01.tif\n",
      "/data2/varun/HiTIPS_paper_data/fig_5/kpnb1/exp2/AssayPlate_PerkinElmer_CellCarrier-384 Ultra_F11_T0144F007L01A01Z01C01.tif\n",
      "/data2/varun/HiTIPS_paper_data/fig_5/kpnb1/exp2/AssayPlate_PerkinElmer_CellCarrier-384 Ultra_F11_T0144F006L01A01Z01C01.tif\n",
      "/data2/varun/HiTIPS_paper_data/fig_5/kpnb1/exp2/AssayPlate_PerkinElmer_CellCarrier-384 Ultra_F11_T0144F009L01A01Z01C01.tif\n",
      "/data2/varun/HiTIPS_paper_data/fig_5/kpnb1/exp2/AssayPlate_PerkinElmer_CellCarrier-384 Ultra_F11_T0144F008L01A01Z01C01.tif\n",
      "/data2/varun/HiTIPS_paper_data/fig_5/kpnb1/exp2/AssayPlate_PerkinElmer_CellCarrier-384 Ultra_F11_T0145F002L01A01Z01C01.tif\n",
      "/data2/varun/HiTIPS_paper_data/fig_5/kpnb1/exp2/AssayPlate_PerkinElmer_CellCarrier-384 Ultra_F11_T0145F003L01A01Z01C01.tif\n",
      "/data2/varun/HiTIPS_paper_data/fig_5/kpnb1/exp2/AssayPlate_PerkinElmer_CellCarrier-384 Ultra_F11_T0145F001L01A01Z01C01.tif\n",
      "/data2/varun/HiTIPS_paper_data/fig_5/kpnb1/exp2/AssayPlate_PerkinElmer_CellCarrier-384 Ultra_F11_T0145F004L01A01Z01C01.tif\n",
      "/data2/varun/HiTIPS_paper_data/fig_5/kpnb1/exp2/AssayPlate_PerkinElmer_CellCarrier-384 Ultra_F11_T0145F006L01A01Z01C01.tif\n",
      "/data2/varun/HiTIPS_paper_data/fig_5/kpnb1/exp2/AssayPlate_PerkinElmer_CellCarrier-384 Ultra_F11_T0145F005L01A01Z01C01.tif\n",
      "/data2/varun/HiTIPS_paper_data/fig_5/kpnb1/exp2/AssayPlate_PerkinElmer_CellCarrier-384 Ultra_F11_T0145F007L01A01Z01C01.tif\n",
      "/data2/varun/HiTIPS_paper_data/fig_5/kpnb1/exp2/AssayPlate_PerkinElmer_CellCarrier-384 Ultra_F11_T0145F008L01A01Z01C01.tif\n",
      "/data2/varun/HiTIPS_paper_data/fig_5/kpnb1/exp2/AssayPlate_PerkinElmer_CellCarrier-384 Ultra_F11_T0146F001L01A01Z01C01.tif\n",
      "/data2/varun/HiTIPS_paper_data/fig_5/kpnb1/exp2/AssayPlate_PerkinElmer_CellCarrier-384 Ultra_F11_T0146F003L01A01Z01C01.tif\n",
      "/data2/varun/HiTIPS_paper_data/fig_5/kpnb1/exp2/AssayPlate_PerkinElmer_CellCarrier-384 Ultra_F11_T0146F002L01A01Z01C01.tif\n",
      "/data2/varun/HiTIPS_paper_data/fig_5/kpnb1/exp2/AssayPlate_PerkinElmer_CellCarrier-384 Ultra_F11_T0145F009L01A01Z01C01.tif\n",
      "/data2/varun/HiTIPS_paper_data/fig_5/kpnb1/exp2/AssayPlate_PerkinElmer_CellCarrier-384 Ultra_F11_T0146F005L01A01Z01C01.tif\n",
      "/data2/varun/HiTIPS_paper_data/fig_5/kpnb1/exp2/AssayPlate_PerkinElmer_CellCarrier-384 Ultra_F11_T0146F004L01A01Z01C01.tif\n",
      "/data2/varun/HiTIPS_paper_data/fig_5/kpnb1/exp2/AssayPlate_PerkinElmer_CellCarrier-384 Ultra_F11_T0146F007L01A01Z01C01.tif/data2/varun/HiTIPS_paper_data/fig_5/kpnb1/exp2/AssayPlate_PerkinElmer_CellCarrier-384 Ultra_F11_T0146F006L01A01Z01C01.tif\n",
      "\n",
      "/data2/varun/HiTIPS_paper_data/fig_5/kpnb1/exp2/AssayPlate_PerkinElmer_CellCarrier-384 Ultra_F11_T0146F009L01A01Z01C01.tif\n",
      "/data2/varun/HiTIPS_paper_data/fig_5/kpnb1/exp2/AssayPlate_PerkinElmer_CellCarrier-384 Ultra_F11_T0147F001L01A01Z01C01.tif\n",
      "/data2/varun/HiTIPS_paper_data/fig_5/kpnb1/exp2/AssayPlate_PerkinElmer_CellCarrier-384 Ultra_F11_T0146F008L01A01Z01C01.tif\n",
      "/data2/varun/HiTIPS_paper_data/fig_5/kpnb1/exp2/AssayPlate_PerkinElmer_CellCarrier-384 Ultra_F11_T0147F002L01A01Z01C01.tif\n",
      "/data2/varun/HiTIPS_paper_data/fig_5/kpnb1/exp2/AssayPlate_PerkinElmer_CellCarrier-384 Ultra_F11_T0147F004L01A01Z01C01.tif\n",
      "/data2/varun/HiTIPS_paper_data/fig_5/kpnb1/exp2/AssayPlate_PerkinElmer_CellCarrier-384 Ultra_F11_T0147F006L01A01Z01C01.tif\n",
      "/data2/varun/HiTIPS_paper_data/fig_5/kpnb1/exp2/AssayPlate_PerkinElmer_CellCarrier-384 Ultra_F11_T0147F003L01A01Z01C01.tif\n",
      "/data2/varun/HiTIPS_paper_data/fig_5/kpnb1/exp2/AssayPlate_PerkinElmer_CellCarrier-384 Ultra_F11_T0147F005L01A01Z01C01.tif\n",
      "/data2/varun/HiTIPS_paper_data/fig_5/kpnb1/exp2/AssayPlate_PerkinElmer_CellCarrier-384 Ultra_F11_T0147F008L01A01Z01C01.tif\n",
      "/data2/varun/HiTIPS_paper_data/fig_5/kpnb1/exp2/AssayPlate_PerkinElmer_CellCarrier-384 Ultra_F11_T0148F001L01A01Z01C01.tif/data2/varun/HiTIPS_paper_data/fig_5/kpnb1/exp2/AssayPlate_PerkinElmer_CellCarrier-384 Ultra_F11_T0147F007L01A01Z01C01.tif\n",
      "\n",
      "/data2/varun/HiTIPS_paper_data/fig_5/kpnb1/exp2/AssayPlate_PerkinElmer_CellCarrier-384 Ultra_F11_T0147F009L01A01Z01C01.tif\n",
      "/data2/varun/HiTIPS_paper_data/fig_5/kpnb1/exp2/AssayPlate_PerkinElmer_CellCarrier-384 Ultra_F11_T0148F003L01A01Z01C01.tif\n",
      "/data2/varun/HiTIPS_paper_data/fig_5/kpnb1/exp2/AssayPlate_PerkinElmer_CellCarrier-384 Ultra_F11_T0148F004L01A01Z01C01.tif\n",
      "/data2/varun/HiTIPS_paper_data/fig_5/kpnb1/exp2/AssayPlate_PerkinElmer_CellCarrier-384 Ultra_F11_T0148F005L01A01Z01C01.tif\n",
      "/data2/varun/HiTIPS_paper_data/fig_5/kpnb1/exp2/AssayPlate_PerkinElmer_CellCarrier-384 Ultra_F11_T0148F002L01A01Z01C01.tif\n",
      "/data2/varun/HiTIPS_paper_data/fig_5/kpnb1/exp2/AssayPlate_PerkinElmer_CellCarrier-384 Ultra_F11_T0148F007L01A01Z01C01.tif\n",
      "/data2/varun/HiTIPS_paper_data/fig_5/kpnb1/exp2/AssayPlate_PerkinElmer_CellCarrier-384 Ultra_F11_T0148F006L01A01Z01C01.tif\n",
      "/data2/varun/HiTIPS_paper_data/fig_5/kpnb1/exp2/AssayPlate_PerkinElmer_CellCarrier-384 Ultra_F11_T0148F008L01A01Z01C01.tif\n",
      "/data2/varun/HiTIPS_paper_data/fig_5/kpnb1/exp2/AssayPlate_PerkinElmer_CellCarrier-384 Ultra_F11_T0148F009L01A01Z01C01.tif\n",
      "/data2/varun/HiTIPS_paper_data/fig_5/kpnb1/exp2/AssayPlate_PerkinElmer_CellCarrier-384 Ultra_F11_T0149F002L01A01Z01C01.tif\n",
      "/data2/varun/HiTIPS_paper_data/fig_5/kpnb1/exp2/AssayPlate_PerkinElmer_CellCarrier-384 Ultra_F11_T0149F004L01A01Z01C01.tif\n",
      "/data2/varun/HiTIPS_paper_data/fig_5/kpnb1/exp2/AssayPlate_PerkinElmer_CellCarrier-384 Ultra_F11_T0149F001L01A01Z01C01.tif\n",
      "/data2/varun/HiTIPS_paper_data/fig_5/kpnb1/exp2/AssayPlate_PerkinElmer_CellCarrier-384 Ultra_F11_T0149F003L01A01Z01C01.tif\n",
      "/data2/varun/HiTIPS_paper_data/fig_5/kpnb1/exp2/AssayPlate_PerkinElmer_CellCarrier-384 Ultra_F11_T0149F006L01A01Z01C01.tif\n",
      "/data2/varun/HiTIPS_paper_data/fig_5/kpnb1/exp2/AssayPlate_PerkinElmer_CellCarrier-384 Ultra_F11_T0149F007L01A01Z01C01.tif\n",
      "/data2/varun/HiTIPS_paper_data/fig_5/kpnb1/exp2/AssayPlate_PerkinElmer_CellCarrier-384 Ultra_F11_T0149F005L01A01Z01C01.tif\n",
      "/data2/varun/HiTIPS_paper_data/fig_5/kpnb1/exp2/AssayPlate_PerkinElmer_CellCarrier-384 Ultra_F11_T0149F008L01A01Z01C01.tif\n",
      "/data2/varun/HiTIPS_paper_data/fig_5/kpnb1/exp2/AssayPlate_PerkinElmer_CellCarrier-384 Ultra_F11_T0150F001L01A01Z01C01.tif\n",
      "/data2/varun/HiTIPS_paper_data/fig_5/kpnb1/exp2/AssayPlate_PerkinElmer_CellCarrier-384 Ultra_F11_T0150F003L01A01Z01C01.tif\n",
      "/data2/varun/HiTIPS_paper_data/fig_5/kpnb1/exp2/AssayPlate_PerkinElmer_CellCarrier-384 Ultra_F11_T0150F002L01A01Z01C01.tif\n",
      "/data2/varun/HiTIPS_paper_data/fig_5/kpnb1/exp2/AssayPlate_PerkinElmer_CellCarrier-384 Ultra_F11_T0149F009L01A01Z01C01.tif\n",
      "/data2/varun/HiTIPS_paper_data/fig_5/kpnb1/exp2/AssayPlate_PerkinElmer_CellCarrier-384 Ultra_F11_T0150F005L01A01Z01C01.tif\n",
      "/data2/varun/HiTIPS_paper_data/fig_5/kpnb1/exp2/AssayPlate_PerkinElmer_CellCarrier-384 Ultra_F11_T0150F007L01A01Z01C01.tif\n",
      "/data2/varun/HiTIPS_paper_data/fig_5/kpnb1/exp2/AssayPlate_PerkinElmer_CellCarrier-384 Ultra_F11_T0150F004L01A01Z01C01.tif\n",
      "/data2/varun/HiTIPS_paper_data/fig_5/kpnb1/exp2/AssayPlate_PerkinElmer_CellCarrier-384 Ultra_F11_T0150F006L01A01Z01C01.tif\n",
      "/data2/varun/HiTIPS_paper_data/fig_5/kpnb1/exp2/AssayPlate_PerkinElmer_CellCarrier-384 Ultra_F11_T0150F009L01A01Z01C01.tif\n",
      "/data2/varun/HiTIPS_paper_data/fig_5/kpnb1/exp2/AssayPlate_PerkinElmer_CellCarrier-384 Ultra_F11_T0151F001L01A01Z01C01.tif\n",
      "/data2/varun/HiTIPS_paper_data/fig_5/kpnb1/exp2/AssayPlate_PerkinElmer_CellCarrier-384 Ultra_F11_T0151F002L01A01Z01C01.tif\n",
      "/data2/varun/HiTIPS_paper_data/fig_5/kpnb1/exp2/AssayPlate_PerkinElmer_CellCarrier-384 Ultra_F11_T0150F008L01A01Z01C01.tif\n",
      "/data2/varun/HiTIPS_paper_data/fig_5/kpnb1/exp2/AssayPlate_PerkinElmer_CellCarrier-384 Ultra_F11_T0151F004L01A01Z01C01.tif\n",
      "/data2/varun/HiTIPS_paper_data/fig_5/kpnb1/exp2/AssayPlate_PerkinElmer_CellCarrier-384 Ultra_F11_T0151F005L01A01Z01C01.tif\n",
      "/data2/varun/HiTIPS_paper_data/fig_5/kpnb1/exp2/AssayPlate_PerkinElmer_CellCarrier-384 Ultra_F11_T0151F003L01A01Z01C01.tif\n",
      "/data2/varun/HiTIPS_paper_data/fig_5/kpnb1/exp2/AssayPlate_PerkinElmer_CellCarrier-384 Ultra_F11_T0151F006L01A01Z01C01.tif\n",
      "/data2/varun/HiTIPS_paper_data/fig_5/kpnb1/exp2/AssayPlate_PerkinElmer_CellCarrier-384 Ultra_F11_T0151F007L01A01Z01C01.tif\n",
      "/data2/varun/HiTIPS_paper_data/fig_5/kpnb1/exp2/AssayPlate_PerkinElmer_CellCarrier-384 Ultra_F11_T0151F008L01A01Z01C01.tif\n",
      "/data2/varun/HiTIPS_paper_data/fig_5/kpnb1/exp2/AssayPlate_PerkinElmer_CellCarrier-384 Ultra_F11_T0152F001L01A01Z01C01.tif\n",
      "/data2/varun/HiTIPS_paper_data/fig_5/kpnb1/exp2/AssayPlate_PerkinElmer_CellCarrier-384 Ultra_F11_T0151F009L01A01Z01C01.tif\n",
      "/data2/varun/HiTIPS_paper_data/fig_5/kpnb1/exp2/AssayPlate_PerkinElmer_CellCarrier-384 Ultra_F11_T0152F002L01A01Z01C01.tif\n",
      "/data2/varun/HiTIPS_paper_data/fig_5/kpnb1/exp2/AssayPlate_PerkinElmer_CellCarrier-384 Ultra_F11_T0152F003L01A01Z01C01.tif\n",
      "/data2/varun/HiTIPS_paper_data/fig_5/kpnb1/exp2/AssayPlate_PerkinElmer_CellCarrier-384 Ultra_F11_T0152F004L01A01Z01C01.tif\n",
      "/data2/varun/HiTIPS_paper_data/fig_5/kpnb1/exp2/AssayPlate_PerkinElmer_CellCarrier-384 Ultra_F11_T0152F005L01A01Z01C01.tif\n",
      "/data2/varun/HiTIPS_paper_data/fig_5/kpnb1/exp2/AssayPlate_PerkinElmer_CellCarrier-384 Ultra_F11_T0152F007L01A01Z01C01.tif\n",
      "/data2/varun/HiTIPS_paper_data/fig_5/kpnb1/exp2/AssayPlate_PerkinElmer_CellCarrier-384 Ultra_F11_T0152F008L01A01Z01C01.tif\n",
      "/data2/varun/HiTIPS_paper_data/fig_5/kpnb1/exp2/AssayPlate_PerkinElmer_CellCarrier-384 Ultra_F11_T0152F009L01A01Z01C01.tif\n",
      "/data2/varun/HiTIPS_paper_data/fig_5/kpnb1/exp2/AssayPlate_PerkinElmer_CellCarrier-384 Ultra_F11_T0152F006L01A01Z01C01.tif\n",
      "/data2/varun/HiTIPS_paper_data/fig_5/kpnb1/exp2/AssayPlate_PerkinElmer_CellCarrier-384 Ultra_F11_T0153F002L01A01Z01C01.tif\n",
      "/data2/varun/HiTIPS_paper_data/fig_5/kpnb1/exp2/AssayPlate_PerkinElmer_CellCarrier-384 Ultra_F11_T0153F001L01A01Z01C01.tif\n",
      "/data2/varun/HiTIPS_paper_data/fig_5/kpnb1/exp2/AssayPlate_PerkinElmer_CellCarrier-384 Ultra_F11_T0153F003L01A01Z01C01.tif\n",
      "/data2/varun/HiTIPS_paper_data/fig_5/kpnb1/exp2/AssayPlate_PerkinElmer_CellCarrier-384 Ultra_F11_T0153F004L01A01Z01C01.tif\n",
      "/data2/varun/HiTIPS_paper_data/fig_5/kpnb1/exp2/AssayPlate_PerkinElmer_CellCarrier-384 Ultra_F11_T0153F008L01A01Z01C01.tif\n",
      "/data2/varun/HiTIPS_paper_data/fig_5/kpnb1/exp2/AssayPlate_PerkinElmer_CellCarrier-384 Ultra_F11_T0153F006L01A01Z01C01.tif\n",
      "/data2/varun/HiTIPS_paper_data/fig_5/kpnb1/exp2/AssayPlate_PerkinElmer_CellCarrier-384 Ultra_F11_T0153F005L01A01Z01C01.tif\n",
      "/data2/varun/HiTIPS_paper_data/fig_5/kpnb1/exp2/AssayPlate_PerkinElmer_CellCarrier-384 Ultra_F11_T0153F007L01A01Z01C01.tif\n",
      "/data2/varun/HiTIPS_paper_data/fig_5/kpnb1/exp2/AssayPlate_PerkinElmer_CellCarrier-384 Ultra_F11_T0154F001L01A01Z01C01.tif\n",
      "/data2/varun/HiTIPS_paper_data/fig_5/kpnb1/exp2/AssayPlate_PerkinElmer_CellCarrier-384 Ultra_F11_T0153F009L01A01Z01C01.tif\n",
      "/data2/varun/HiTIPS_paper_data/fig_5/kpnb1/exp2/AssayPlate_PerkinElmer_CellCarrier-384 Ultra_F11_T0154F003L01A01Z01C01.tif\n",
      "/data2/varun/HiTIPS_paper_data/fig_5/kpnb1/exp2/AssayPlate_PerkinElmer_CellCarrier-384 Ultra_F11_T0154F002L01A01Z01C01.tif\n",
      "/data2/varun/HiTIPS_paper_data/fig_5/kpnb1/exp2/AssayPlate_PerkinElmer_CellCarrier-384 Ultra_F11_T0154F005L01A01Z01C01.tif\n",
      "/data2/varun/HiTIPS_paper_data/fig_5/kpnb1/exp2/AssayPlate_PerkinElmer_CellCarrier-384 Ultra_F11_T0154F004L01A01Z01C01.tif\n",
      "/data2/varun/HiTIPS_paper_data/fig_5/kpnb1/exp2/AssayPlate_PerkinElmer_CellCarrier-384 Ultra_F11_T0154F006L01A01Z01C01.tif\n",
      "/data2/varun/HiTIPS_paper_data/fig_5/kpnb1/exp2/AssayPlate_PerkinElmer_CellCarrier-384 Ultra_F11_T0154F007L01A01Z01C01.tif\n",
      "/data2/varun/HiTIPS_paper_data/fig_5/kpnb1/exp2/AssayPlate_PerkinElmer_CellCarrier-384 Ultra_F11_T0154F009L01A01Z01C01.tif\n",
      "/data2/varun/HiTIPS_paper_data/fig_5/kpnb1/exp2/AssayPlate_PerkinElmer_CellCarrier-384 Ultra_F11_T0154F008L01A01Z01C01.tif\n",
      "/data2/varun/HiTIPS_paper_data/fig_5/kpnb1/exp2/AssayPlate_PerkinElmer_CellCarrier-384 Ultra_F11_T0155F002L01A01Z01C01.tif\n",
      "/data2/varun/HiTIPS_paper_data/fig_5/kpnb1/exp2/AssayPlate_PerkinElmer_CellCarrier-384 Ultra_F11_T0155F001L01A01Z01C01.tif\n",
      "/data2/varun/HiTIPS_paper_data/fig_5/kpnb1/exp2/AssayPlate_PerkinElmer_CellCarrier-384 Ultra_F11_T0155F004L01A01Z01C01.tif\n",
      "/data2/varun/HiTIPS_paper_data/fig_5/kpnb1/exp2/AssayPlate_PerkinElmer_CellCarrier-384 Ultra_F11_T0155F006L01A01Z01C01.tif\n",
      "/data2/varun/HiTIPS_paper_data/fig_5/kpnb1/exp2/AssayPlate_PerkinElmer_CellCarrier-384 Ultra_F11_T0155F005L01A01Z01C01.tif\n",
      "/data2/varun/HiTIPS_paper_data/fig_5/kpnb1/exp2/AssayPlate_PerkinElmer_CellCarrier-384 Ultra_F11_T0155F003L01A01Z01C01.tif\n",
      "/data2/varun/HiTIPS_paper_data/fig_5/kpnb1/exp2/AssayPlate_PerkinElmer_CellCarrier-384 Ultra_F11_T0155F008L01A01Z01C01.tif\n",
      "/data2/varun/HiTIPS_paper_data/fig_5/kpnb1/exp2/AssayPlate_PerkinElmer_CellCarrier-384 Ultra_F11_T0155F009L01A01Z01C01.tif\n",
      "/data2/varun/HiTIPS_paper_data/fig_5/kpnb1/exp2/AssayPlate_PerkinElmer_CellCarrier-384 Ultra_F11_T0156F001L01A01Z01C01.tif\n",
      "/data2/varun/HiTIPS_paper_data/fig_5/kpnb1/exp2/AssayPlate_PerkinElmer_CellCarrier-384 Ultra_F11_T0155F007L01A01Z01C01.tif\n",
      "/data2/varun/HiTIPS_paper_data/fig_5/kpnb1/exp2/AssayPlate_PerkinElmer_CellCarrier-384 Ultra_F11_T0156F003L01A01Z01C01.tif\n",
      "/data2/varun/HiTIPS_paper_data/fig_5/kpnb1/exp2/AssayPlate_PerkinElmer_CellCarrier-384 Ultra_F11_T0156F002L01A01Z01C01.tif\n",
      "/data2/varun/HiTIPS_paper_data/fig_5/kpnb1/exp2/AssayPlate_PerkinElmer_CellCarrier-384 Ultra_F11_T0156F004L01A01Z01C01.tif\n",
      "/data2/varun/HiTIPS_paper_data/fig_5/kpnb1/exp2/AssayPlate_PerkinElmer_CellCarrier-384 Ultra_F11_T0156F005L01A01Z01C01.tif\n",
      "/data2/varun/HiTIPS_paper_data/fig_5/kpnb1/exp2/AssayPlate_PerkinElmer_CellCarrier-384 Ultra_F11_T0156F007L01A01Z01C01.tif\n",
      "/data2/varun/HiTIPS_paper_data/fig_5/kpnb1/exp2/AssayPlate_PerkinElmer_CellCarrier-384 Ultra_F11_T0156F008L01A01Z01C01.tif\n",
      "/data2/varun/HiTIPS_paper_data/fig_5/kpnb1/exp2/AssayPlate_PerkinElmer_CellCarrier-384 Ultra_F11_T0156F006L01A01Z01C01.tif\n",
      "/data2/varun/HiTIPS_paper_data/fig_5/kpnb1/exp2/AssayPlate_PerkinElmer_CellCarrier-384 Ultra_F11_T0156F009L01A01Z01C01.tif\n",
      "/data2/varun/HiTIPS_paper_data/fig_5/kpnb1/exp2/AssayPlate_PerkinElmer_CellCarrier-384 Ultra_F11_T0157F004L01A01Z01C01.tif\n",
      "/data2/varun/HiTIPS_paper_data/fig_5/kpnb1/exp2/AssayPlate_PerkinElmer_CellCarrier-384 Ultra_F11_T0157F002L01A01Z01C01.tif\n",
      "/data2/varun/HiTIPS_paper_data/fig_5/kpnb1/exp2/AssayPlate_PerkinElmer_CellCarrier-384 Ultra_F11_T0157F001L01A01Z01C01.tif\n",
      "/data2/varun/HiTIPS_paper_data/fig_5/kpnb1/exp2/AssayPlate_PerkinElmer_CellCarrier-384 Ultra_F11_T0157F003L01A01Z01C01.tif\n",
      "/data2/varun/HiTIPS_paper_data/fig_5/kpnb1/exp2/AssayPlate_PerkinElmer_CellCarrier-384 Ultra_F11_T0157F006L01A01Z01C01.tif\n",
      "/data2/varun/HiTIPS_paper_data/fig_5/kpnb1/exp2/AssayPlate_PerkinElmer_CellCarrier-384 Ultra_F11_T0157F007L01A01Z01C01.tif\n",
      "/data2/varun/HiTIPS_paper_data/fig_5/kpnb1/exp2/AssayPlate_PerkinElmer_CellCarrier-384 Ultra_F11_T0157F005L01A01Z01C01.tif\n",
      "/data2/varun/HiTIPS_paper_data/fig_5/kpnb1/exp2/AssayPlate_PerkinElmer_CellCarrier-384 Ultra_F11_T0157F008L01A01Z01C01.tif\n",
      "/data2/varun/HiTIPS_paper_data/fig_5/kpnb1/exp2/AssayPlate_PerkinElmer_CellCarrier-384 Ultra_F11_T0158F001L01A01Z01C01.tif\n",
      "/data2/varun/HiTIPS_paper_data/fig_5/kpnb1/exp2/AssayPlate_PerkinElmer_CellCarrier-384 Ultra_F11_T0158F002L01A01Z01C01.tif\n",
      "/data2/varun/HiTIPS_paper_data/fig_5/kpnb1/exp2/AssayPlate_PerkinElmer_CellCarrier-384 Ultra_F11_T0158F003L01A01Z01C01.tif\n",
      "/data2/varun/HiTIPS_paper_data/fig_5/kpnb1/exp2/AssayPlate_PerkinElmer_CellCarrier-384 Ultra_F11_T0157F009L01A01Z01C01.tif\n",
      "/data2/varun/HiTIPS_paper_data/fig_5/kpnb1/exp2/AssayPlate_PerkinElmer_CellCarrier-384 Ultra_F11_T0158F005L01A01Z01C01.tif\n",
      "/data2/varun/HiTIPS_paper_data/fig_5/kpnb1/exp2/AssayPlate_PerkinElmer_CellCarrier-384 Ultra_F11_T0158F004L01A01Z01C01.tif\n",
      "/data2/varun/HiTIPS_paper_data/fig_5/kpnb1/exp2/AssayPlate_PerkinElmer_CellCarrier-384 Ultra_F11_T0158F007L01A01Z01C01.tif\n",
      "/data2/varun/HiTIPS_paper_data/fig_5/kpnb1/exp2/AssayPlate_PerkinElmer_CellCarrier-384 Ultra_F11_T0158F006L01A01Z01C01.tif\n",
      "/data2/varun/HiTIPS_paper_data/fig_5/kpnb1/exp2/AssayPlate_PerkinElmer_CellCarrier-384 Ultra_F11_T0158F009L01A01Z01C01.tif\n",
      "/data2/varun/HiTIPS_paper_data/fig_5/kpnb1/exp2/AssayPlate_PerkinElmer_CellCarrier-384 Ultra_F11_T0158F008L01A01Z01C01.tif\n",
      "/data2/varun/HiTIPS_paper_data/fig_5/kpnb1/exp2/AssayPlate_PerkinElmer_CellCarrier-384 Ultra_F11_T0159F002L01A01Z01C01.tif\n",
      "/data2/varun/HiTIPS_paper_data/fig_5/kpnb1/exp2/AssayPlate_PerkinElmer_CellCarrier-384 Ultra_F11_T0159F001L01A01Z01C01.tif\n",
      "/data2/varun/HiTIPS_paper_data/fig_5/kpnb1/exp2/AssayPlate_PerkinElmer_CellCarrier-384 Ultra_F11_T0159F005L01A01Z01C01.tif\n",
      "/data2/varun/HiTIPS_paper_data/fig_5/kpnb1/exp2/AssayPlate_PerkinElmer_CellCarrier-384 Ultra_F11_T0159F004L01A01Z01C01.tif\n",
      "/data2/varun/HiTIPS_paper_data/fig_5/kpnb1/exp2/AssayPlate_PerkinElmer_CellCarrier-384 Ultra_F11_T0159F003L01A01Z01C01.tif\n",
      "/data2/varun/HiTIPS_paper_data/fig_5/kpnb1/exp2/AssayPlate_PerkinElmer_CellCarrier-384 Ultra_F11_T0159F006L01A01Z01C01.tif\n",
      "/data2/varun/HiTIPS_paper_data/fig_5/kpnb1/exp2/AssayPlate_PerkinElmer_CellCarrier-384 Ultra_F11_T0159F007L01A01Z01C01.tif\n",
      "/data2/varun/HiTIPS_paper_data/fig_5/kpnb1/exp2/AssayPlate_PerkinElmer_CellCarrier-384 Ultra_F11_T0160F001L01A01Z01C01.tif\n",
      "/data2/varun/HiTIPS_paper_data/fig_5/kpnb1/exp2/AssayPlate_PerkinElmer_CellCarrier-384 Ultra_F11_T0159F008L01A01Z01C01.tif\n",
      "/data2/varun/HiTIPS_paper_data/fig_5/kpnb1/exp2/AssayPlate_PerkinElmer_CellCarrier-384 Ultra_F11_T0159F009L01A01Z01C01.tif\n",
      "/data2/varun/HiTIPS_paper_data/fig_5/kpnb1/exp2/AssayPlate_PerkinElmer_CellCarrier-384 Ultra_F11_T0160F003L01A01Z01C01.tif\n",
      "/data2/varun/HiTIPS_paper_data/fig_5/kpnb1/exp2/AssayPlate_PerkinElmer_CellCarrier-384 Ultra_F11_T0160F002L01A01Z01C01.tif\n",
      "/data2/varun/HiTIPS_paper_data/fig_5/kpnb1/exp2/AssayPlate_PerkinElmer_CellCarrier-384 Ultra_F11_T0160F004L01A01Z01C01.tif\n",
      "/data2/varun/HiTIPS_paper_data/fig_5/kpnb1/exp2/AssayPlate_PerkinElmer_CellCarrier-384 Ultra_F11_T0160F005L01A01Z01C01.tif\n",
      "/data2/varun/HiTIPS_paper_data/fig_5/kpnb1/exp2/AssayPlate_PerkinElmer_CellCarrier-384 Ultra_F11_T0160F008L01A01Z01C01.tif\n",
      "/data2/varun/HiTIPS_paper_data/fig_5/kpnb1/exp2/AssayPlate_PerkinElmer_CellCarrier-384 Ultra_F11_T0160F006L01A01Z01C01.tif\n",
      "/data2/varun/HiTIPS_paper_data/fig_5/kpnb1/exp2/AssayPlate_PerkinElmer_CellCarrier-384 Ultra_F11_T0160F007L01A01Z01C01.tif\n",
      "/data2/varun/HiTIPS_paper_data/fig_5/kpnb1/exp2/AssayPlate_PerkinElmer_CellCarrier-384 Ultra_F11_T0160F009L01A01Z01C01.tif\n",
      "/data2/varun/HiTIPS_paper_data/fig_5/kpnb1/exp2/AssayPlate_PerkinElmer_CellCarrier-384 Ultra_F11_T0161F002L01A01Z01C01.tif\n",
      "/data2/varun/HiTIPS_paper_data/fig_5/kpnb1/exp2/AssayPlate_PerkinElmer_CellCarrier-384 Ultra_F11_T0161F003L01A01Z01C01.tif\n",
      "/data2/varun/HiTIPS_paper_data/fig_5/kpnb1/exp2/AssayPlate_PerkinElmer_CellCarrier-384 Ultra_F11_T0161F004L01A01Z01C01.tif\n",
      "/data2/varun/HiTIPS_paper_data/fig_5/kpnb1/exp2/AssayPlate_PerkinElmer_CellCarrier-384 Ultra_F11_T0161F001L01A01Z01C01.tif\n",
      "/data2/varun/HiTIPS_paper_data/fig_5/kpnb1/exp2/AssayPlate_PerkinElmer_CellCarrier-384 Ultra_F11_T0161F006L01A01Z01C01.tif\n",
      "/data2/varun/HiTIPS_paper_data/fig_5/kpnb1/exp2/AssayPlate_PerkinElmer_CellCarrier-384 Ultra_F11_T0161F007L01A01Z01C01.tif\n",
      "/data2/varun/HiTIPS_paper_data/fig_5/kpnb1/exp2/AssayPlate_PerkinElmer_CellCarrier-384 Ultra_F11_T0161F008L01A01Z01C01.tif\n",
      "/data2/varun/HiTIPS_paper_data/fig_5/kpnb1/exp2/AssayPlate_PerkinElmer_CellCarrier-384 Ultra_F11_T0161F005L01A01Z01C01.tif\n",
      "/data2/varun/HiTIPS_paper_data/fig_5/kpnb1/exp2/AssayPlate_PerkinElmer_CellCarrier-384 Ultra_F11_T0162F001L01A01Z01C01.tif\n",
      "/data2/varun/HiTIPS_paper_data/fig_5/kpnb1/exp2/AssayPlate_PerkinElmer_CellCarrier-384 Ultra_F11_T0162F002L01A01Z01C01.tif\n",
      "/data2/varun/HiTIPS_paper_data/fig_5/kpnb1/exp2/AssayPlate_PerkinElmer_CellCarrier-384 Ultra_F11_T0162F003L01A01Z01C01.tif\n",
      "/data2/varun/HiTIPS_paper_data/fig_5/kpnb1/exp2/AssayPlate_PerkinElmer_CellCarrier-384 Ultra_F11_T0161F009L01A01Z01C01.tif\n",
      "/data2/varun/HiTIPS_paper_data/fig_5/kpnb1/exp2/AssayPlate_PerkinElmer_CellCarrier-384 Ultra_F11_T0162F005L01A01Z01C01.tif\n",
      "/data2/varun/HiTIPS_paper_data/fig_5/kpnb1/exp2/AssayPlate_PerkinElmer_CellCarrier-384 Ultra_F11_T0162F006L01A01Z01C01.tif\n",
      "/data2/varun/HiTIPS_paper_data/fig_5/kpnb1/exp2/AssayPlate_PerkinElmer_CellCarrier-384 Ultra_F11_T0162F007L01A01Z01C01.tif\n",
      "/data2/varun/HiTIPS_paper_data/fig_5/kpnb1/exp2/AssayPlate_PerkinElmer_CellCarrier-384 Ultra_F11_T0162F004L01A01Z01C01.tif\n",
      "/data2/varun/HiTIPS_paper_data/fig_5/kpnb1/exp2/AssayPlate_PerkinElmer_CellCarrier-384 Ultra_F11_T0162F009L01A01Z01C01.tif\n",
      "/data2/varun/HiTIPS_paper_data/fig_5/kpnb1/exp2/AssayPlate_PerkinElmer_CellCarrier-384 Ultra_F11_T0163F002L01A01Z01C01.tif\n",
      "/data2/varun/HiTIPS_paper_data/fig_5/kpnb1/exp2/AssayPlate_PerkinElmer_CellCarrier-384 Ultra_F11_T0163F001L01A01Z01C01.tif\n",
      "/data2/varun/HiTIPS_paper_data/fig_5/kpnb1/exp2/AssayPlate_PerkinElmer_CellCarrier-384 Ultra_F11_T0162F008L01A01Z01C01.tif\n",
      "/data2/varun/HiTIPS_paper_data/fig_5/kpnb1/exp2/AssayPlate_PerkinElmer_CellCarrier-384 Ultra_F11_T0163F004L01A01Z01C01.tif\n",
      "/data2/varun/HiTIPS_paper_data/fig_5/kpnb1/exp2/AssayPlate_PerkinElmer_CellCarrier-384 Ultra_F11_T0163F003L01A01Z01C01.tif\n",
      "/data2/varun/HiTIPS_paper_data/fig_5/kpnb1/exp2/AssayPlate_PerkinElmer_CellCarrier-384 Ultra_F11_T0163F006L01A01Z01C01.tif\n",
      "/data2/varun/HiTIPS_paper_data/fig_5/kpnb1/exp2/AssayPlate_PerkinElmer_CellCarrier-384 Ultra_F11_T0163F005L01A01Z01C01.tif\n",
      "/data2/varun/HiTIPS_paper_data/fig_5/kpnb1/exp2/AssayPlate_PerkinElmer_CellCarrier-384 Ultra_F11_T0163F008L01A01Z01C01.tif\n",
      "/data2/varun/HiTIPS_paper_data/fig_5/kpnb1/exp2/AssayPlate_PerkinElmer_CellCarrier-384 Ultra_F11_T0164F001L01A01Z01C01.tif\n",
      "/data2/varun/HiTIPS_paper_data/fig_5/kpnb1/exp2/AssayPlate_PerkinElmer_CellCarrier-384 Ultra_F11_T0163F007L01A01Z01C01.tif\n",
      "/data2/varun/HiTIPS_paper_data/fig_5/kpnb1/exp2/AssayPlate_PerkinElmer_CellCarrier-384 Ultra_F11_T0163F009L01A01Z01C01.tif\n",
      "/data2/varun/HiTIPS_paper_data/fig_5/kpnb1/exp2/AssayPlate_PerkinElmer_CellCarrier-384 Ultra_F11_T0164F003L01A01Z01C01.tif\n",
      "/data2/varun/HiTIPS_paper_data/fig_5/kpnb1/exp2/AssayPlate_PerkinElmer_CellCarrier-384 Ultra_F11_T0164F002L01A01Z01C01.tif\n",
      "/data2/varun/HiTIPS_paper_data/fig_5/kpnb1/exp2/AssayPlate_PerkinElmer_CellCarrier-384 Ultra_F11_T0164F005L01A01Z01C01.tif\n",
      "/data2/varun/HiTIPS_paper_data/fig_5/kpnb1/exp2/AssayPlate_PerkinElmer_CellCarrier-384 Ultra_F11_T0164F004L01A01Z01C01.tif\n",
      "/data2/varun/HiTIPS_paper_data/fig_5/kpnb1/exp2/AssayPlate_PerkinElmer_CellCarrier-384 Ultra_F11_T0164F007L01A01Z01C01.tif\n",
      "/data2/varun/HiTIPS_paper_data/fig_5/kpnb1/exp2/AssayPlate_PerkinElmer_CellCarrier-384 Ultra_F11_T0164F009L01A01Z01C01.tif\n",
      "/data2/varun/HiTIPS_paper_data/fig_5/kpnb1/exp2/AssayPlate_PerkinElmer_CellCarrier-384 Ultra_F11_T0164F008L01A01Z01C01.tif\n",
      "/data2/varun/HiTIPS_paper_data/fig_5/kpnb1/exp2/AssayPlate_PerkinElmer_CellCarrier-384 Ultra_F11_T0164F006L01A01Z01C01.tif\n",
      "/data2/varun/HiTIPS_paper_data/fig_5/kpnb1/exp2/AssayPlate_PerkinElmer_CellCarrier-384 Ultra_F11_T0165F002L01A01Z01C01.tif\n",
      "/data2/varun/HiTIPS_paper_data/fig_5/kpnb1/exp2/AssayPlate_PerkinElmer_CellCarrier-384 Ultra_F11_T0165F003L01A01Z01C01.tif\n",
      "/data2/varun/HiTIPS_paper_data/fig_5/kpnb1/exp2/AssayPlate_PerkinElmer_CellCarrier-384 Ultra_F11_T0165F001L01A01Z01C01.tif\n",
      "/data2/varun/HiTIPS_paper_data/fig_5/kpnb1/exp2/AssayPlate_PerkinElmer_CellCarrier-384 Ultra_F11_T0165F004L01A01Z01C01.tif\n",
      "/data2/varun/HiTIPS_paper_data/fig_5/kpnb1/exp2/AssayPlate_PerkinElmer_CellCarrier-384 Ultra_F11_T0165F006L01A01Z01C01.tif\n",
      "/data2/varun/HiTIPS_paper_data/fig_5/kpnb1/exp2/AssayPlate_PerkinElmer_CellCarrier-384 Ultra_F11_T0165F007L01A01Z01C01.tif\n",
      "/data2/varun/HiTIPS_paper_data/fig_5/kpnb1/exp2/AssayPlate_PerkinElmer_CellCarrier-384 Ultra_F11_T0165F008L01A01Z01C01.tif\n",
      "/data2/varun/HiTIPS_paper_data/fig_5/kpnb1/exp2/AssayPlate_PerkinElmer_CellCarrier-384 Ultra_F11_T0165F005L01A01Z01C01.tif\n",
      "/data2/varun/HiTIPS_paper_data/fig_5/kpnb1/exp2/AssayPlate_PerkinElmer_CellCarrier-384 Ultra_F11_T0166F001L01A01Z01C01.tif\n",
      "/data2/varun/HiTIPS_paper_data/fig_5/kpnb1/exp2/AssayPlate_PerkinElmer_CellCarrier-384 Ultra_F11_T0166F003L01A01Z01C01.tif\n",
      "/data2/varun/HiTIPS_paper_data/fig_5/kpnb1/exp2/AssayPlate_PerkinElmer_CellCarrier-384 Ultra_F11_T0166F002L01A01Z01C01.tif\n",
      "/data2/varun/HiTIPS_paper_data/fig_5/kpnb1/exp2/AssayPlate_PerkinElmer_CellCarrier-384 Ultra_F11_T0165F009L01A01Z01C01.tif\n",
      "/data2/varun/HiTIPS_paper_data/fig_5/kpnb1/exp2/AssayPlate_PerkinElmer_CellCarrier-384 Ultra_F11_T0166F005L01A01Z01C01.tif\n",
      "/data2/varun/HiTIPS_paper_data/fig_5/kpnb1/exp2/AssayPlate_PerkinElmer_CellCarrier-384 Ultra_F11_T0166F007L01A01Z01C01.tif\n",
      "/data2/varun/HiTIPS_paper_data/fig_5/kpnb1/exp2/AssayPlate_PerkinElmer_CellCarrier-384 Ultra_F11_T0166F006L01A01Z01C01.tif/data2/varun/HiTIPS_paper_data/fig_5/kpnb1/exp2/AssayPlate_PerkinElmer_CellCarrier-384 Ultra_F11_T0166F004L01A01Z01C01.tif\n",
      "\n",
      "/data2/varun/HiTIPS_paper_data/fig_5/kpnb1/exp2/AssayPlate_PerkinElmer_CellCarrier-384 Ultra_F11_T0167F002L01A01Z01C01.tif\n",
      "/data2/varun/HiTIPS_paper_data/fig_5/kpnb1/exp2/AssayPlate_PerkinElmer_CellCarrier-384 Ultra_F11_T0166F009L01A01Z01C01.tif\n",
      "/data2/varun/HiTIPS_paper_data/fig_5/kpnb1/exp2/AssayPlate_PerkinElmer_CellCarrier-384 Ultra_F11_T0166F008L01A01Z01C01.tif\n",
      "/data2/varun/HiTIPS_paper_data/fig_5/kpnb1/exp2/AssayPlate_PerkinElmer_CellCarrier-384 Ultra_F11_T0167F001L01A01Z01C01.tif\n",
      "/data2/varun/HiTIPS_paper_data/fig_5/kpnb1/exp2/AssayPlate_PerkinElmer_CellCarrier-384 Ultra_F11_T0167F003L01A01Z01C01.tif\n",
      "/data2/varun/HiTIPS_paper_data/fig_5/kpnb1/exp2/AssayPlate_PerkinElmer_CellCarrier-384 Ultra_F11_T0167F004L01A01Z01C01.tif\n",
      "/data2/varun/HiTIPS_paper_data/fig_5/kpnb1/exp2/AssayPlate_PerkinElmer_CellCarrier-384 Ultra_F11_T0167F006L01A01Z01C01.tif\n",
      "/data2/varun/HiTIPS_paper_data/fig_5/kpnb1/exp2/AssayPlate_PerkinElmer_CellCarrier-384 Ultra_F11_T0167F005L01A01Z01C01.tif\n",
      "/data2/varun/HiTIPS_paper_data/fig_5/kpnb1/exp2/AssayPlate_PerkinElmer_CellCarrier-384 Ultra_F11_T0167F008L01A01Z01C01.tif\n",
      "/data2/varun/HiTIPS_paper_data/fig_5/kpnb1/exp2/AssayPlate_PerkinElmer_CellCarrier-384 Ultra_F11_T0167F007L01A01Z01C01.tif\n",
      "/data2/varun/HiTIPS_paper_data/fig_5/kpnb1/exp2/AssayPlate_PerkinElmer_CellCarrier-384 Ultra_F11_T0168F001L01A01Z01C01.tif\n",
      "/data2/varun/HiTIPS_paper_data/fig_5/kpnb1/exp2/AssayPlate_PerkinElmer_CellCarrier-384 Ultra_F11_T0167F009L01A01Z01C01.tif\n",
      "/data2/varun/HiTIPS_paper_data/fig_5/kpnb1/exp2/AssayPlate_PerkinElmer_CellCarrier-384 Ultra_F11_T0168F003L01A01Z01C01.tif\n",
      "/data2/varun/HiTIPS_paper_data/fig_5/kpnb1/exp2/AssayPlate_PerkinElmer_CellCarrier-384 Ultra_F11_T0168F004L01A01Z01C01.tif\n",
      "/data2/varun/HiTIPS_paper_data/fig_5/kpnb1/exp2/AssayPlate_PerkinElmer_CellCarrier-384 Ultra_F11_T0168F002L01A01Z01C01.tif\n",
      "/data2/varun/HiTIPS_paper_data/fig_5/kpnb1/exp2/AssayPlate_PerkinElmer_CellCarrier-384 Ultra_F11_T0168F005L01A01Z01C01.tif\n",
      "/data2/varun/HiTIPS_paper_data/fig_5/kpnb1/exp2/AssayPlate_PerkinElmer_CellCarrier-384 Ultra_F11_T0168F007L01A01Z01C01.tif\n",
      "/data2/varun/HiTIPS_paper_data/fig_5/kpnb1/exp2/AssayPlate_PerkinElmer_CellCarrier-384 Ultra_F11_T0168F009L01A01Z01C01.tif\n",
      "/data2/varun/HiTIPS_paper_data/fig_5/kpnb1/exp2/AssayPlate_PerkinElmer_CellCarrier-384 Ultra_F11_T0168F008L01A01Z01C01.tif\n",
      "/data2/varun/HiTIPS_paper_data/fig_5/kpnb1/exp2/AssayPlate_PerkinElmer_CellCarrier-384 Ultra_F11_T0168F006L01A01Z01C01.tif\n",
      "/data2/varun/HiTIPS_paper_data/fig_5/kpnb1/exp2/AssayPlate_PerkinElmer_CellCarrier-384 Ultra_F11_T0169F002L01A01Z01C01.tif\n",
      "/data2/varun/HiTIPS_paper_data/fig_5/kpnb1/exp2/AssayPlate_PerkinElmer_CellCarrier-384 Ultra_F11_T0169F001L01A01Z01C01.tif\n",
      "/data2/varun/HiTIPS_paper_data/fig_5/kpnb1/exp2/AssayPlate_PerkinElmer_CellCarrier-384 Ultra_F11_T0169F004L01A01Z01C01.tif\n",
      "/data2/varun/HiTIPS_paper_data/fig_5/kpnb1/exp2/AssayPlate_PerkinElmer_CellCarrier-384 Ultra_F11_T0169F003L01A01Z01C01.tif\n",
      "/data2/varun/HiTIPS_paper_data/fig_5/kpnb1/exp2/AssayPlate_PerkinElmer_CellCarrier-384 Ultra_F11_T0169F006L01A01Z01C01.tif\n",
      "/data2/varun/HiTIPS_paper_data/fig_5/kpnb1/exp2/AssayPlate_PerkinElmer_CellCarrier-384 Ultra_F11_T0169F005L01A01Z01C01.tif\n",
      "/data2/varun/HiTIPS_paper_data/fig_5/kpnb1/exp2/AssayPlate_PerkinElmer_CellCarrier-384 Ultra_F11_T0169F008L01A01Z01C01.tif\n",
      "/data2/varun/HiTIPS_paper_data/fig_5/kpnb1/exp2/AssayPlate_PerkinElmer_CellCarrier-384 Ultra_F11_T0169F007L01A01Z01C01.tif\n",
      "/data2/varun/HiTIPS_paper_data/fig_5/kpnb1/exp2/AssayPlate_PerkinElmer_CellCarrier-384 Ultra_F11_T0170F001L01A01Z01C01.tif\n",
      "/data2/varun/HiTIPS_paper_data/fig_5/kpnb1/exp2/AssayPlate_PerkinElmer_CellCarrier-384 Ultra_F11_T0170F003L01A01Z01C01.tif\n",
      "/data2/varun/HiTIPS_paper_data/fig_5/kpnb1/exp2/AssayPlate_PerkinElmer_CellCarrier-384 Ultra_F11_T0170F002L01A01Z01C01.tif\n",
      "/data2/varun/HiTIPS_paper_data/fig_5/kpnb1/exp2/AssayPlate_PerkinElmer_CellCarrier-384 Ultra_F11_T0169F009L01A01Z01C01.tif\n",
      "/data2/varun/HiTIPS_paper_data/fig_5/kpnb1/exp2/AssayPlate_PerkinElmer_CellCarrier-384 Ultra_F11_T0170F005L01A01Z01C01.tif\n",
      "/data2/varun/HiTIPS_paper_data/fig_5/kpnb1/exp2/AssayPlate_PerkinElmer_CellCarrier-384 Ultra_F11_T0170F007L01A01Z01C01.tif\n",
      "/data2/varun/HiTIPS_paper_data/fig_5/kpnb1/exp2/AssayPlate_PerkinElmer_CellCarrier-384 Ultra_F11_T0170F004L01A01Z01C01.tif\n",
      "/data2/varun/HiTIPS_paper_data/fig_5/kpnb1/exp2/AssayPlate_PerkinElmer_CellCarrier-384 Ultra_F11_T0170F006L01A01Z01C01.tif\n",
      "/data2/varun/HiTIPS_paper_data/fig_5/kpnb1/exp2/AssayPlate_PerkinElmer_CellCarrier-384 Ultra_F11_T0170F009L01A01Z01C01.tif\n",
      "/data2/varun/HiTIPS_paper_data/fig_5/kpnb1/exp2/AssayPlate_PerkinElmer_CellCarrier-384 Ultra_F11_T0170F008L01A01Z01C01.tif\n",
      "/data2/varun/HiTIPS_paper_data/fig_5/kpnb1/exp2/AssayPlate_PerkinElmer_CellCarrier-384 Ultra_F11_T0171F001L01A01Z01C01.tif\n",
      "/data2/varun/HiTIPS_paper_data/fig_5/kpnb1/exp2/AssayPlate_PerkinElmer_CellCarrier-384 Ultra_F11_T0171F002L01A01Z01C01.tif\n",
      "/data2/varun/HiTIPS_paper_data/fig_5/kpnb1/exp2/AssayPlate_PerkinElmer_CellCarrier-384 Ultra_F11_T0171F003L01A01Z01C01.tif\n",
      "/data2/varun/HiTIPS_paper_data/fig_5/kpnb1/exp2/AssayPlate_PerkinElmer_CellCarrier-384 Ultra_F11_T0171F004L01A01Z01C01.tif\n",
      "/data2/varun/HiTIPS_paper_data/fig_5/kpnb1/exp2/AssayPlate_PerkinElmer_CellCarrier-384 Ultra_F11_T0171F006L01A01Z01C01.tif\n",
      "/data2/varun/HiTIPS_paper_data/fig_5/kpnb1/exp2/AssayPlate_PerkinElmer_CellCarrier-384 Ultra_F11_T0171F005L01A01Z01C01.tif\n",
      "/data2/varun/HiTIPS_paper_data/fig_5/kpnb1/exp2/AssayPlate_PerkinElmer_CellCarrier-384 Ultra_F11_T0172F001L01A01Z01C01.tif\n",
      "/data2/varun/HiTIPS_paper_data/fig_5/kpnb1/exp2/AssayPlate_PerkinElmer_CellCarrier-384 Ultra_F11_T0171F008L01A01Z01C01.tif\n",
      "/data2/varun/HiTIPS_paper_data/fig_5/kpnb1/exp2/AssayPlate_PerkinElmer_CellCarrier-384 Ultra_F11_T0171F007L01A01Z01C01.tif\n",
      "/data2/varun/HiTIPS_paper_data/fig_5/kpnb1/exp2/AssayPlate_PerkinElmer_CellCarrier-384 Ultra_F11_T0171F009L01A01Z01C01.tif\n",
      "/data2/varun/HiTIPS_paper_data/fig_5/kpnb1/exp2/AssayPlate_PerkinElmer_CellCarrier-384 Ultra_F11_T0172F002L01A01Z01C01.tif\n",
      "/data2/varun/HiTIPS_paper_data/fig_5/kpnb1/exp2/AssayPlate_PerkinElmer_CellCarrier-384 Ultra_F11_T0172F003L01A01Z01C01.tif\n",
      "/data2/varun/HiTIPS_paper_data/fig_5/kpnb1/exp2/AssayPlate_PerkinElmer_CellCarrier-384 Ultra_F11_T0172F004L01A01Z01C01.tif\n",
      "/data2/varun/HiTIPS_paper_data/fig_5/kpnb1/exp2/AssayPlate_PerkinElmer_CellCarrier-384 Ultra_F11_T0172F005L01A01Z01C01.tif\n",
      "/data2/varun/HiTIPS_paper_data/fig_5/kpnb1/exp2/AssayPlate_PerkinElmer_CellCarrier-384 Ultra_F11_T0172F007L01A01Z01C01.tif\n",
      "/data2/varun/HiTIPS_paper_data/fig_5/kpnb1/exp2/AssayPlate_PerkinElmer_CellCarrier-384 Ultra_F11_T0172F009L01A01Z01C01.tif\n",
      "/data2/varun/HiTIPS_paper_data/fig_5/kpnb1/exp2/AssayPlate_PerkinElmer_CellCarrier-384 Ultra_F11_T0172F008L01A01Z01C01.tif\n",
      "/data2/varun/HiTIPS_paper_data/fig_5/kpnb1/exp2/AssayPlate_PerkinElmer_CellCarrier-384 Ultra_F11_T0172F006L01A01Z01C01.tif\n",
      "/data2/varun/HiTIPS_paper_data/fig_5/kpnb1/exp2/AssayPlate_PerkinElmer_CellCarrier-384 Ultra_F11_T0173F002L01A01Z01C01.tif\n",
      "/data2/varun/HiTIPS_paper_data/fig_5/kpnb1/exp2/AssayPlate_PerkinElmer_CellCarrier-384 Ultra_F11_T0173F004L01A01Z01C01.tif\n",
      "/data2/varun/HiTIPS_paper_data/fig_5/kpnb1/exp2/AssayPlate_PerkinElmer_CellCarrier-384 Ultra_F11_T0173F003L01A01Z01C01.tif\n",
      "/data2/varun/HiTIPS_paper_data/fig_5/kpnb1/exp2/AssayPlate_PerkinElmer_CellCarrier-384 Ultra_F11_T0173F001L01A01Z01C01.tif\n",
      "/data2/varun/HiTIPS_paper_data/fig_5/kpnb1/exp2/AssayPlate_PerkinElmer_CellCarrier-384 Ultra_F11_T0173F006L01A01Z01C01.tif\n",
      "/data2/varun/HiTIPS_paper_data/fig_5/kpnb1/exp2/AssayPlate_PerkinElmer_CellCarrier-384 Ultra_F11_T0173F008L01A01Z01C01.tif\n",
      "/data2/varun/HiTIPS_paper_data/fig_5/kpnb1/exp2/AssayPlate_PerkinElmer_CellCarrier-384 Ultra_F11_T0173F005L01A01Z01C01.tif\n",
      "/data2/varun/HiTIPS_paper_data/fig_5/kpnb1/exp2/AssayPlate_PerkinElmer_CellCarrier-384 Ultra_F11_T0173F007L01A01Z01C01.tif\n",
      "/data2/varun/HiTIPS_paper_data/fig_5/kpnb1/exp2/AssayPlate_PerkinElmer_CellCarrier-384 Ultra_F11_T0173F009L01A01Z01C01.tif\n",
      "/data2/varun/HiTIPS_paper_data/fig_5/kpnb1/exp2/AssayPlate_PerkinElmer_CellCarrier-384 Ultra_F11_T0174F001L01A01Z01C01.tif/data2/varun/HiTIPS_paper_data/fig_5/kpnb1/exp2/AssayPlate_PerkinElmer_CellCarrier-384 Ultra_F11_T0174F002L01A01Z01C01.tif\n",
      "\n",
      "/data2/varun/HiTIPS_paper_data/fig_5/kpnb1/exp2/AssayPlate_PerkinElmer_CellCarrier-384 Ultra_F11_T0174F003L01A01Z01C01.tif\n",
      "/data2/varun/HiTIPS_paper_data/fig_5/kpnb1/exp2/AssayPlate_PerkinElmer_CellCarrier-384 Ultra_F11_T0174F005L01A01Z01C01.tif\n",
      "/data2/varun/HiTIPS_paper_data/fig_5/kpnb1/exp2/AssayPlate_PerkinElmer_CellCarrier-384 Ultra_F11_T0174F004L01A01Z01C01.tif\n",
      "/data2/varun/HiTIPS_paper_data/fig_5/kpnb1/exp2/AssayPlate_PerkinElmer_CellCarrier-384 Ultra_F11_T0174F007L01A01Z01C01.tif\n",
      "/data2/varun/HiTIPS_paper_data/fig_5/kpnb1/exp2/AssayPlate_PerkinElmer_CellCarrier-384 Ultra_F11_T0174F006L01A01Z01C01.tif\n",
      "/data2/varun/HiTIPS_paper_data/fig_5/kpnb1/exp2/AssayPlate_PerkinElmer_CellCarrier-384 Ultra_F11_T0174F009L01A01Z01C01.tif\n",
      "/data2/varun/HiTIPS_paper_data/fig_5/kpnb1/exp2/AssayPlate_PerkinElmer_CellCarrier-384 Ultra_F11_T0175F002L01A01Z01C01.tif\n",
      "/data2/varun/HiTIPS_paper_data/fig_5/kpnb1/exp2/AssayPlate_PerkinElmer_CellCarrier-384 Ultra_F11_T0174F008L01A01Z01C01.tif\n",
      "/data2/varun/HiTIPS_paper_data/fig_5/kpnb1/exp2/AssayPlate_PerkinElmer_CellCarrier-384 Ultra_F11_T0175F001L01A01Z01C01.tif\n",
      "/data2/varun/HiTIPS_paper_data/fig_5/kpnb1/exp2/AssayPlate_PerkinElmer_CellCarrier-384 Ultra_F11_T0175F004L01A01Z01C01.tif\n",
      "/data2/varun/HiTIPS_paper_data/fig_5/kpnb1/exp2/AssayPlate_PerkinElmer_CellCarrier-384 Ultra_F11_T0175F006L01A01Z01C01.tif\n",
      "/data2/varun/HiTIPS_paper_data/fig_5/kpnb1/exp2/AssayPlate_PerkinElmer_CellCarrier-384 Ultra_F11_T0175F005L01A01Z01C01.tif\n",
      "/data2/varun/HiTIPS_paper_data/fig_5/kpnb1/exp2/AssayPlate_PerkinElmer_CellCarrier-384 Ultra_F11_T0175F003L01A01Z01C01.tif\n",
      "/data2/varun/HiTIPS_paper_data/fig_5/kpnb1/exp2/AssayPlate_PerkinElmer_CellCarrier-384 Ultra_F11_T0175F008L01A01Z01C01.tif\n",
      "/data2/varun/HiTIPS_paper_data/fig_5/kpnb1/exp2/AssayPlate_PerkinElmer_CellCarrier-384 Ultra_F11_T0175F007L01A01Z01C01.tif\n",
      "/data2/varun/HiTIPS_paper_data/fig_5/kpnb1/exp2/AssayPlate_PerkinElmer_CellCarrier-384 Ultra_F11_T0176F001L01A01Z01C01.tif\n",
      "/data2/varun/HiTIPS_paper_data/fig_5/kpnb1/exp2/AssayPlate_PerkinElmer_CellCarrier-384 Ultra_F11_T0175F009L01A01Z01C01.tif\n",
      "/data2/varun/HiTIPS_paper_data/fig_5/kpnb1/exp2/AssayPlate_PerkinElmer_CellCarrier-384 Ultra_F11_T0176F003L01A01Z01C01.tif\n",
      "/data2/varun/HiTIPS_paper_data/fig_5/kpnb1/exp2/AssayPlate_PerkinElmer_CellCarrier-384 Ultra_F11_T0176F002L01A01Z01C01.tif\n",
      "/data2/varun/HiTIPS_paper_data/fig_5/kpnb1/exp2/AssayPlate_PerkinElmer_CellCarrier-384 Ultra_F11_T0176F004L01A01Z01C01.tif\n",
      "/data2/varun/HiTIPS_paper_data/fig_5/kpnb1/exp2/AssayPlate_PerkinElmer_CellCarrier-384 Ultra_F11_T0176F005L01A01Z01C01.tif\n",
      "/data2/varun/HiTIPS_paper_data/fig_5/kpnb1/exp2/AssayPlate_PerkinElmer_CellCarrier-384 Ultra_F11_T0176F007L01A01Z01C01.tif\n",
      "/data2/varun/HiTIPS_paper_data/fig_5/kpnb1/exp2/AssayPlate_PerkinElmer_CellCarrier-384 Ultra_F11_T0176F009L01A01Z01C01.tif\n",
      "/data2/varun/HiTIPS_paper_data/fig_5/kpnb1/exp2/AssayPlate_PerkinElmer_CellCarrier-384 Ultra_F11_T0176F008L01A01Z01C01.tif\n",
      "/data2/varun/HiTIPS_paper_data/fig_5/kpnb1/exp2/AssayPlate_PerkinElmer_CellCarrier-384 Ultra_F11_T0176F006L01A01Z01C01.tif\n",
      "/data2/varun/HiTIPS_paper_data/fig_5/kpnb1/exp2/AssayPlate_PerkinElmer_CellCarrier-384 Ultra_F11_T0177F002L01A01Z01C01.tif\n",
      "/data2/varun/HiTIPS_paper_data/fig_5/kpnb1/exp2/AssayPlate_PerkinElmer_CellCarrier-384 Ultra_F11_T0177F003L01A01Z01C01.tif\n",
      "/data2/varun/HiTIPS_paper_data/fig_5/kpnb1/exp2/AssayPlate_PerkinElmer_CellCarrier-384 Ultra_F11_T0177F004L01A01Z01C01.tif\n",
      "/data2/varun/HiTIPS_paper_data/fig_5/kpnb1/exp2/AssayPlate_PerkinElmer_CellCarrier-384 Ultra_F11_T0177F001L01A01Z01C01.tif\n",
      "/data2/varun/HiTIPS_paper_data/fig_5/kpnb1/exp2/AssayPlate_PerkinElmer_CellCarrier-384 Ultra_F11_T0177F008L01A01Z01C01.tif\n",
      "/data2/varun/HiTIPS_paper_data/fig_5/kpnb1/exp2/AssayPlate_PerkinElmer_CellCarrier-384 Ultra_F11_T0177F006L01A01Z01C01.tif\n",
      "/data2/varun/HiTIPS_paper_data/fig_5/kpnb1/exp2/AssayPlate_PerkinElmer_CellCarrier-384 Ultra_F11_T0177F007L01A01Z01C01.tif\n",
      "/data2/varun/HiTIPS_paper_data/fig_5/kpnb1/exp2/AssayPlate_PerkinElmer_CellCarrier-384 Ultra_F11_T0177F005L01A01Z01C01.tif\n",
      "/data2/varun/HiTIPS_paper_data/fig_5/kpnb1/exp2/AssayPlate_PerkinElmer_CellCarrier-384 Ultra_F11_T0178F001L01A01Z01C01.tif\n",
      "/data2/varun/HiTIPS_paper_data/fig_5/kpnb1/exp2/AssayPlate_PerkinElmer_CellCarrier-384 Ultra_F11_T0178F003L01A01Z01C01.tif\n",
      "/data2/varun/HiTIPS_paper_data/fig_5/kpnb1/exp2/AssayPlate_PerkinElmer_CellCarrier-384 Ultra_F11_T0177F009L01A01Z01C01.tif\n",
      "/data2/varun/HiTIPS_paper_data/fig_5/kpnb1/exp2/AssayPlate_PerkinElmer_CellCarrier-384 Ultra_F11_T0178F002L01A01Z01C01.tif\n",
      "/data2/varun/HiTIPS_paper_data/fig_5/kpnb1/exp2/AssayPlate_PerkinElmer_CellCarrier-384 Ultra_F11_T0178F005L01A01Z01C01.tif\n",
      "/data2/varun/HiTIPS_paper_data/fig_5/kpnb1/exp2/AssayPlate_PerkinElmer_CellCarrier-384 Ultra_F11_T0178F004L01A01Z01C01.tif\n",
      "/data2/varun/HiTIPS_paper_data/fig_5/kpnb1/exp2/AssayPlate_PerkinElmer_CellCarrier-384 Ultra_F11_T0178F007L01A01Z01C01.tif\n",
      "/data2/varun/HiTIPS_paper_data/fig_5/kpnb1/exp2/AssayPlate_PerkinElmer_CellCarrier-384 Ultra_F11_T0178F006L01A01Z01C01.tif\n",
      "/data2/varun/HiTIPS_paper_data/fig_5/kpnb1/exp2/AssayPlate_PerkinElmer_CellCarrier-384 Ultra_F11_T0179F002L01A01Z01C01.tif\n",
      "/data2/varun/HiTIPS_paper_data/fig_5/kpnb1/exp2/AssayPlate_PerkinElmer_CellCarrier-384 Ultra_F11_T0178F009L01A01Z01C01.tif\n",
      "/data2/varun/HiTIPS_paper_data/fig_5/kpnb1/exp2/AssayPlate_PerkinElmer_CellCarrier-384 Ultra_F11_T0178F008L01A01Z01C01.tif\n",
      "/data2/varun/HiTIPS_paper_data/fig_5/kpnb1/exp2/AssayPlate_PerkinElmer_CellCarrier-384 Ultra_F11_T0179F001L01A01Z01C01.tif\n",
      "/data2/varun/HiTIPS_paper_data/fig_5/kpnb1/exp2/AssayPlate_PerkinElmer_CellCarrier-384 Ultra_F11_T0179F003L01A01Z01C01.tif\n",
      "/data2/varun/HiTIPS_paper_data/fig_5/kpnb1/exp2/AssayPlate_PerkinElmer_CellCarrier-384 Ultra_F11_T0179F005L01A01Z01C01.tif\n",
      "/data2/varun/HiTIPS_paper_data/fig_5/kpnb1/exp2/AssayPlate_PerkinElmer_CellCarrier-384 Ultra_F11_T0179F004L01A01Z01C01.tif\n",
      "/data2/varun/HiTIPS_paper_data/fig_5/kpnb1/exp2/AssayPlate_PerkinElmer_CellCarrier-384 Ultra_F11_T0179F006L01A01Z01C01.tif\n",
      "/data2/varun/HiTIPS_paper_data/fig_5/kpnb1/exp2/AssayPlate_PerkinElmer_CellCarrier-384 Ultra_F11_T0179F008L01A01Z01C01.tif\n",
      "/data2/varun/HiTIPS_paper_data/fig_5/kpnb1/exp2/AssayPlate_PerkinElmer_CellCarrier-384 Ultra_F11_T0179F007L01A01Z01C01.tif\n",
      "/data2/varun/HiTIPS_paper_data/fig_5/kpnb1/exp2/AssayPlate_PerkinElmer_CellCarrier-384 Ultra_F11_T0180F001L01A01Z01C01.tif\n",
      "/data2/varun/HiTIPS_paper_data/fig_5/kpnb1/exp2/AssayPlate_PerkinElmer_CellCarrier-384 Ultra_F11_T0179F009L01A01Z01C01.tif\n",
      "/data2/varun/HiTIPS_paper_data/fig_5/kpnb1/exp2/AssayPlate_PerkinElmer_CellCarrier-384 Ultra_F11_T0180F003L01A01Z01C01.tif\n",
      "/data2/varun/HiTIPS_paper_data/fig_5/kpnb1/exp2/AssayPlate_PerkinElmer_CellCarrier-384 Ultra_F11_T0180F005L01A01Z01C01.tif\n",
      "/data2/varun/HiTIPS_paper_data/fig_5/kpnb1/exp2/AssayPlate_PerkinElmer_CellCarrier-384 Ultra_F11_T0180F004L01A01Z01C01.tif\n",
      "/data2/varun/HiTIPS_paper_data/fig_5/kpnb1/exp2/AssayPlate_PerkinElmer_CellCarrier-384 Ultra_F11_T0180F002L01A01Z01C01.tif\n",
      "/data2/varun/HiTIPS_paper_data/fig_5/kpnb1/exp2/AssayPlate_PerkinElmer_CellCarrier-384 Ultra_F11_T0180F007L01A01Z01C01.tif\n",
      "/data2/varun/HiTIPS_paper_data/fig_5/kpnb1/exp2/AssayPlate_PerkinElmer_CellCarrier-384 Ultra_F11_T0180F008L01A01Z01C01.tif\n",
      "/data2/varun/HiTIPS_paper_data/fig_5/kpnb1/exp2/AssayPlate_PerkinElmer_CellCarrier-384 Ultra_F11_T0180F009L01A01Z01C01.tif\n",
      "/data2/varun/HiTIPS_paper_data/fig_5/kpnb1/exp2/AssayPlate_PerkinElmer_CellCarrier-384 Ultra_F11_T0180F006L01A01Z01C01.tif\n",
      "/data2/varun/HiTIPS_paper_data/fig_5/kpnb1/exp2/AssayPlate_PerkinElmer_CellCarrier-384 Ultra_F11_T0181F002L01A01Z01C01.tif\n",
      "/data2/varun/HiTIPS_paper_data/fig_5/kpnb1/exp2/AssayPlate_PerkinElmer_CellCarrier-384 Ultra_F11_T0181F003L01A01Z01C01.tif\n",
      "/data2/varun/HiTIPS_paper_data/fig_5/kpnb1/exp2/AssayPlate_PerkinElmer_CellCarrier-384 Ultra_F11_T0181F004L01A01Z01C01.tif\n",
      "/data2/varun/HiTIPS_paper_data/fig_5/kpnb1/exp2/AssayPlate_PerkinElmer_CellCarrier-384 Ultra_F11_T0181F001L01A01Z01C01.tif\n",
      "/data2/varun/HiTIPS_paper_data/fig_5/kpnb1/exp2/AssayPlate_PerkinElmer_CellCarrier-384 Ultra_F11_T0181F006L01A01Z01C01.tif\n",
      "/data2/varun/HiTIPS_paper_data/fig_5/kpnb1/exp2/AssayPlate_PerkinElmer_CellCarrier-384 Ultra_F11_T0181F008L01A01Z01C01.tif\n",
      "/data2/varun/HiTIPS_paper_data/fig_5/kpnb1/exp2/AssayPlate_PerkinElmer_CellCarrier-384 Ultra_F11_T0181F007L01A01Z01C01.tif\n",
      "/data2/varun/HiTIPS_paper_data/fig_5/kpnb1/exp2/AssayPlate_PerkinElmer_CellCarrier-384 Ultra_F11_T0181F005L01A01Z01C01.tif\n",
      "/data2/varun/HiTIPS_paper_data/fig_5/kpnb1/exp2/AssayPlate_PerkinElmer_CellCarrier-384 Ultra_F11_T0182F001L01A01Z01C01.tif\n",
      "/data2/varun/HiTIPS_paper_data/fig_5/kpnb1/exp2/AssayPlate_PerkinElmer_CellCarrier-384 Ultra_F11_T0182F003L01A01Z01C01.tif\n",
      "/data2/varun/HiTIPS_paper_data/fig_5/kpnb1/exp2/AssayPlate_PerkinElmer_CellCarrier-384 Ultra_F11_T0181F009L01A01Z01C01.tif\n",
      "/data2/varun/HiTIPS_paper_data/fig_5/kpnb1/exp2/AssayPlate_PerkinElmer_CellCarrier-384 Ultra_F11_T0182F002L01A01Z01C01.tif\n",
      "/data2/varun/HiTIPS_paper_data/fig_5/kpnb1/exp2/AssayPlate_PerkinElmer_CellCarrier-384 Ultra_F11_T0182F005L01A01Z01C01.tif\n",
      "/data2/varun/HiTIPS_paper_data/fig_5/kpnb1/exp2/AssayPlate_PerkinElmer_CellCarrier-384 Ultra_F11_T0182F007L01A01Z01C01.tif\n",
      "/data2/varun/HiTIPS_paper_data/fig_5/kpnb1/exp2/AssayPlate_PerkinElmer_CellCarrier-384 Ultra_F11_T0182F004L01A01Z01C01.tif\n",
      "/data2/varun/HiTIPS_paper_data/fig_5/kpnb1/exp2/AssayPlate_PerkinElmer_CellCarrier-384 Ultra_F11_T0182F006L01A01Z01C01.tif\n",
      "/data2/varun/HiTIPS_paper_data/fig_5/kpnb1/exp2/AssayPlate_PerkinElmer_CellCarrier-384 Ultra_F11_T0182F009L01A01Z01C01.tif\n",
      "/data2/varun/HiTIPS_paper_data/fig_5/kpnb1/exp2/AssayPlate_PerkinElmer_CellCarrier-384 Ultra_F11_T0182F008L01A01Z01C01.tif\n",
      "/data2/varun/HiTIPS_paper_data/fig_5/kpnb1/exp2/AssayPlate_PerkinElmer_CellCarrier-384 Ultra_F11_T0183F002L01A01Z01C01.tif\n",
      "/data2/varun/HiTIPS_paper_data/fig_5/kpnb1/exp2/AssayPlate_PerkinElmer_CellCarrier-384 Ultra_F11_T0183F001L01A01Z01C01.tif\n",
      "/data2/varun/HiTIPS_paper_data/fig_5/kpnb1/exp2/AssayPlate_PerkinElmer_CellCarrier-384 Ultra_F11_T0183F004L01A01Z01C01.tif\n",
      "/data2/varun/HiTIPS_paper_data/fig_5/kpnb1/exp2/AssayPlate_PerkinElmer_CellCarrier-384 Ultra_F11_T0183F003L01A01Z01C01.tif\n",
      "/data2/varun/HiTIPS_paper_data/fig_5/kpnb1/exp2/AssayPlate_PerkinElmer_CellCarrier-384 Ultra_F11_T0183F005L01A01Z01C01.tif\n",
      "/data2/varun/HiTIPS_paper_data/fig_5/kpnb1/exp2/AssayPlate_PerkinElmer_CellCarrier-384 Ultra_F11_T0183F006L01A01Z01C01.tif\n",
      "/data2/varun/HiTIPS_paper_data/fig_5/kpnb1/exp2/AssayPlate_PerkinElmer_CellCarrier-384 Ultra_F11_T0183F008L01A01Z01C01.tif\n",
      "/data2/varun/HiTIPS_paper_data/fig_5/kpnb1/exp2/AssayPlate_PerkinElmer_CellCarrier-384 Ultra_F11_T0183F007L01A01Z01C01.tif\n",
      "/data2/varun/HiTIPS_paper_data/fig_5/kpnb1/exp2/AssayPlate_PerkinElmer_CellCarrier-384 Ultra_F11_T0184F001L01A01Z01C01.tif\n",
      "/data2/varun/HiTIPS_paper_data/fig_5/kpnb1/exp2/AssayPlate_PerkinElmer_CellCarrier-384 Ultra_F11_T0183F009L01A01Z01C01.tif\n",
      "/data2/varun/HiTIPS_paper_data/fig_5/kpnb1/exp2/AssayPlate_PerkinElmer_CellCarrier-384 Ultra_F11_T0184F003L01A01Z01C01.tif\n",
      "/data2/varun/HiTIPS_paper_data/fig_5/kpnb1/exp2/AssayPlate_PerkinElmer_CellCarrier-384 Ultra_F11_T0184F005L01A01Z01C01.tif\n",
      "/data2/varun/HiTIPS_paper_data/fig_5/kpnb1/exp2/AssayPlate_PerkinElmer_CellCarrier-384 Ultra_F11_T0184F002L01A01Z01C01.tif\n",
      "/data2/varun/HiTIPS_paper_data/fig_5/kpnb1/exp2/AssayPlate_PerkinElmer_CellCarrier-384 Ultra_F11_T0184F004L01A01Z01C01.tif\n",
      "/data2/varun/HiTIPS_paper_data/fig_5/kpnb1/exp2/AssayPlate_PerkinElmer_CellCarrier-384 Ultra_F11_T0184F007L01A01Z01C01.tif\n",
      "/data2/varun/HiTIPS_paper_data/fig_5/kpnb1/exp2/AssayPlate_PerkinElmer_CellCarrier-384 Ultra_F11_T0184F008L01A01Z01C01.tif\n",
      "/data2/varun/HiTIPS_paper_data/fig_5/kpnb1/exp2/AssayPlate_PerkinElmer_CellCarrier-384 Ultra_F11_T0184F006L01A01Z01C01.tif\n",
      "/data2/varun/HiTIPS_paper_data/fig_5/kpnb1/exp2/AssayPlate_PerkinElmer_CellCarrier-384 Ultra_F11_T0184F009L01A01Z01C01.tif\n",
      "/data2/varun/HiTIPS_paper_data/fig_5/kpnb1/exp2/AssayPlate_PerkinElmer_CellCarrier-384 Ultra_F11_T0185F003L01A01Z01C01.tif\n",
      "/data2/varun/HiTIPS_paper_data/fig_5/kpnb1/exp2/AssayPlate_PerkinElmer_CellCarrier-384 Ultra_F11_T0185F001L01A01Z01C01.tif\n",
      "/data2/varun/HiTIPS_paper_data/fig_5/kpnb1/exp2/AssayPlate_PerkinElmer_CellCarrier-384 Ultra_F11_T0185F004L01A01Z01C01.tif\n",
      "/data2/varun/HiTIPS_paper_data/fig_5/kpnb1/exp2/AssayPlate_PerkinElmer_CellCarrier-384 Ultra_F11_T0185F002L01A01Z01C01.tif\n",
      "/data2/varun/HiTIPS_paper_data/fig_5/kpnb1/exp2/AssayPlate_PerkinElmer_CellCarrier-384 Ultra_F11_T0185F008L01A01Z01C01.tif\n",
      "/data2/varun/HiTIPS_paper_data/fig_5/kpnb1/exp2/AssayPlate_PerkinElmer_CellCarrier-384 Ultra_F11_T0185F006L01A01Z01C01.tif\n",
      "/data2/varun/HiTIPS_paper_data/fig_5/kpnb1/exp2/AssayPlate_PerkinElmer_CellCarrier-384 Ultra_F11_T0185F005L01A01Z01C01.tif\n",
      "/data2/varun/HiTIPS_paper_data/fig_5/kpnb1/exp2/AssayPlate_PerkinElmer_CellCarrier-384 Ultra_F11_T0185F007L01A01Z01C01.tif\n",
      "/data2/varun/HiTIPS_paper_data/fig_5/kpnb1/exp2/AssayPlate_PerkinElmer_CellCarrier-384 Ultra_F11_T0186F001L01A01Z01C01.tif\n",
      "/data2/varun/HiTIPS_paper_data/fig_5/kpnb1/exp2/AssayPlate_PerkinElmer_CellCarrier-384 Ultra_F11_T0186F003L01A01Z01C01.tif\n",
      "/data2/varun/HiTIPS_paper_data/fig_5/kpnb1/exp2/AssayPlate_PerkinElmer_CellCarrier-384 Ultra_F11_T0186F002L01A01Z01C01.tif\n",
      "/data2/varun/HiTIPS_paper_data/fig_5/kpnb1/exp2/AssayPlate_PerkinElmer_CellCarrier-384 Ultra_F11_T0185F009L01A01Z01C01.tif\n",
      "/data2/varun/HiTIPS_paper_data/fig_5/kpnb1/exp2/AssayPlate_PerkinElmer_CellCarrier-384 Ultra_F11_T0186F005L01A01Z01C01.tif\n",
      "/data2/varun/HiTIPS_paper_data/fig_5/kpnb1/exp2/AssayPlate_PerkinElmer_CellCarrier-384 Ultra_F11_T0186F006L01A01Z01C01.tif\n",
      "/data2/varun/HiTIPS_paper_data/fig_5/kpnb1/exp2/AssayPlate_PerkinElmer_CellCarrier-384 Ultra_F11_T0186F004L01A01Z01C01.tif\n",
      "/data2/varun/HiTIPS_paper_data/fig_5/kpnb1/exp2/AssayPlate_PerkinElmer_CellCarrier-384 Ultra_F11_T0186F007L01A01Z01C01.tif\n",
      "/data2/varun/HiTIPS_paper_data/fig_5/kpnb1/exp2/AssayPlate_PerkinElmer_CellCarrier-384 Ultra_F11_T0186F009L01A01Z01C01.tif\n",
      "/data2/varun/HiTIPS_paper_data/fig_5/kpnb1/exp2/AssayPlate_PerkinElmer_CellCarrier-384 Ultra_F11_T0187F002L01A01Z01C01.tif\n",
      "/data2/varun/HiTIPS_paper_data/fig_5/kpnb1/exp2/AssayPlate_PerkinElmer_CellCarrier-384 Ultra_F11_T0187F001L01A01Z01C01.tif\n",
      "/data2/varun/HiTIPS_paper_data/fig_5/kpnb1/exp2/AssayPlate_PerkinElmer_CellCarrier-384 Ultra_F11_T0186F008L01A01Z01C01.tif\n",
      "/data2/varun/HiTIPS_paper_data/fig_5/kpnb1/exp2/AssayPlate_PerkinElmer_CellCarrier-384 Ultra_F11_T0187F004L01A01Z01C01.tif\n",
      "/data2/varun/HiTIPS_paper_data/fig_5/kpnb1/exp2/AssayPlate_PerkinElmer_CellCarrier-384 Ultra_F11_T0187F006L01A01Z01C01.tif\n",
      "/data2/varun/HiTIPS_paper_data/fig_5/kpnb1/exp2/AssayPlate_PerkinElmer_CellCarrier-384 Ultra_F11_T0187F003L01A01Z01C01.tif\n",
      "/data2/varun/HiTIPS_paper_data/fig_5/kpnb1/exp2/AssayPlate_PerkinElmer_CellCarrier-384 Ultra_F11_T0187F005L01A01Z01C01.tif\n",
      "/data2/varun/HiTIPS_paper_data/fig_5/kpnb1/exp2/AssayPlate_PerkinElmer_CellCarrier-384 Ultra_F11_T0187F008L01A01Z01C01.tif\n",
      "/data2/varun/HiTIPS_paper_data/fig_5/kpnb1/exp2/AssayPlate_PerkinElmer_CellCarrier-384 Ultra_F11_T0187F009L01A01Z01C01.tif\n",
      "/data2/varun/HiTIPS_paper_data/fig_5/kpnb1/exp2/AssayPlate_PerkinElmer_CellCarrier-384 Ultra_F11_T0188F001L01A01Z01C01.tif\n",
      "/data2/varun/HiTIPS_paper_data/fig_5/kpnb1/exp2/AssayPlate_PerkinElmer_CellCarrier-384 Ultra_F11_T0187F007L01A01Z01C01.tif\n",
      "/data2/varun/HiTIPS_paper_data/fig_5/kpnb1/exp2/AssayPlate_PerkinElmer_CellCarrier-384 Ultra_F11_T0188F003L01A01Z01C01.tif\n",
      "/data2/varun/HiTIPS_paper_data/fig_5/kpnb1/exp2/AssayPlate_PerkinElmer_CellCarrier-384 Ultra_F11_T0188F004L01A01Z01C01.tif\n",
      "/data2/varun/HiTIPS_paper_data/fig_5/kpnb1/exp2/AssayPlate_PerkinElmer_CellCarrier-384 Ultra_F11_T0188F005L01A01Z01C01.tif\n",
      "/data2/varun/HiTIPS_paper_data/fig_5/kpnb1/exp2/AssayPlate_PerkinElmer_CellCarrier-384 Ultra_F11_T0188F002L01A01Z01C01.tif\n",
      "/data2/varun/HiTIPS_paper_data/fig_5/kpnb1/exp2/AssayPlate_PerkinElmer_CellCarrier-384 Ultra_F11_T0188F007L01A01Z01C01.tif\n",
      "/data2/varun/HiTIPS_paper_data/fig_5/kpnb1/exp2/AssayPlate_PerkinElmer_CellCarrier-384 Ultra_F11_T0188F006L01A01Z01C01.tif\n",
      "/data2/varun/HiTIPS_paper_data/fig_5/kpnb1/exp2/AssayPlate_PerkinElmer_CellCarrier-384 Ultra_F11_T0188F009L01A01Z01C01.tif\n",
      "/data2/varun/HiTIPS_paper_data/fig_5/kpnb1/exp2/AssayPlate_PerkinElmer_CellCarrier-384 Ultra_F11_T0188F008L01A01Z01C01.tif\n",
      "/data2/varun/HiTIPS_paper_data/fig_5/kpnb1/exp2/AssayPlate_PerkinElmer_CellCarrier-384 Ultra_F11_T0189F003L01A01Z01C01.tif\n",
      "/data2/varun/HiTIPS_paper_data/fig_5/kpnb1/exp2/AssayPlate_PerkinElmer_CellCarrier-384 Ultra_F11_T0189F002L01A01Z01C01.tif\n",
      "/data2/varun/HiTIPS_paper_data/fig_5/kpnb1/exp2/AssayPlate_PerkinElmer_CellCarrier-384 Ultra_F11_T0189F004L01A01Z01C01.tif\n",
      "/data2/varun/HiTIPS_paper_data/fig_5/kpnb1/exp2/AssayPlate_PerkinElmer_CellCarrier-384 Ultra_F11_T0189F001L01A01Z01C01.tif\n",
      "/data2/varun/HiTIPS_paper_data/fig_5/kpnb1/exp2/AssayPlate_PerkinElmer_CellCarrier-384 Ultra_F11_T0189F008L01A01Z01C01.tif\n",
      "/data2/varun/HiTIPS_paper_data/fig_5/kpnb1/exp2/AssayPlate_PerkinElmer_CellCarrier-384 Ultra_F11_T0189F005L01A01Z01C01.tif\n",
      "/data2/varun/HiTIPS_paper_data/fig_5/kpnb1/exp2/AssayPlate_PerkinElmer_CellCarrier-384 Ultra_F11_T0189F006L01A01Z01C01.tif\n",
      "/data2/varun/HiTIPS_paper_data/fig_5/kpnb1/exp2/AssayPlate_PerkinElmer_CellCarrier-384 Ultra_F11_T0189F007L01A01Z01C01.tif\n",
      "/data2/varun/HiTIPS_paper_data/fig_5/kpnb1/exp2/AssayPlate_PerkinElmer_CellCarrier-384 Ultra_F11_T0190F003L01A01Z01C01.tif\n",
      "/data2/varun/HiTIPS_paper_data/fig_5/kpnb1/exp2/AssayPlate_PerkinElmer_CellCarrier-384 Ultra_F11_T0190F001L01A01Z01C01.tif\n",
      "/data2/varun/HiTIPS_paper_data/fig_5/kpnb1/exp2/AssayPlate_PerkinElmer_CellCarrier-384 Ultra_F11_T0190F002L01A01Z01C01.tif\n",
      "/data2/varun/HiTIPS_paper_data/fig_5/kpnb1/exp2/AssayPlate_PerkinElmer_CellCarrier-384 Ultra_F11_T0189F009L01A01Z01C01.tif\n",
      "/data2/varun/HiTIPS_paper_data/fig_5/kpnb1/exp2/AssayPlate_PerkinElmer_CellCarrier-384 Ultra_F11_T0190F005L01A01Z01C01.tif\n",
      "/data2/varun/HiTIPS_paper_data/fig_5/kpnb1/exp2/AssayPlate_PerkinElmer_CellCarrier-384 Ultra_F11_T0190F007L01A01Z01C01.tif\n",
      "/data2/varun/HiTIPS_paper_data/fig_5/kpnb1/exp2/AssayPlate_PerkinElmer_CellCarrier-384 Ultra_F11_T0190F006L01A01Z01C01.tif\n",
      "/data2/varun/HiTIPS_paper_data/fig_5/kpnb1/exp2/AssayPlate_PerkinElmer_CellCarrier-384 Ultra_F11_T0190F004L01A01Z01C01.tif\n",
      "/data2/varun/HiTIPS_paper_data/fig_5/kpnb1/exp2/AssayPlate_PerkinElmer_CellCarrier-384 Ultra_F11_T0191F002L01A01Z01C01.tif\n",
      "/data2/varun/HiTIPS_paper_data/fig_5/kpnb1/exp2/AssayPlate_PerkinElmer_CellCarrier-384 Ultra_F11_T0190F009L01A01Z01C01.tif\n",
      "/data2/varun/HiTIPS_paper_data/fig_5/kpnb1/exp2/AssayPlate_PerkinElmer_CellCarrier-384 Ultra_F11_T0190F008L01A01Z01C01.tif\n",
      "/data2/varun/HiTIPS_paper_data/fig_5/kpnb1/exp2/AssayPlate_PerkinElmer_CellCarrier-384 Ultra_F11_T0191F001L01A01Z01C01.tif\n",
      "/data2/varun/HiTIPS_paper_data/fig_5/kpnb1/exp2/AssayPlate_PerkinElmer_CellCarrier-384 Ultra_F11_T0191F003L01A01Z01C01.tif\n",
      "/data2/varun/HiTIPS_paper_data/fig_5/kpnb1/exp2/AssayPlate_PerkinElmer_CellCarrier-384 Ultra_F11_T0191F004L01A01Z01C01.tif\n",
      "/data2/varun/HiTIPS_paper_data/fig_5/kpnb1/exp2/AssayPlate_PerkinElmer_CellCarrier-384 Ultra_F11_T0191F006L01A01Z01C01.tif\n",
      "/data2/varun/HiTIPS_paper_data/fig_5/kpnb1/exp2/AssayPlate_PerkinElmer_CellCarrier-384 Ultra_F11_T0191F005L01A01Z01C01.tif\n",
      "/data2/varun/HiTIPS_paper_data/fig_5/kpnb1/exp2/AssayPlate_PerkinElmer_CellCarrier-384 Ultra_F11_T0191F008L01A01Z01C01.tif\n",
      "/data2/varun/HiTIPS_paper_data/fig_5/kpnb1/exp2/AssayPlate_PerkinElmer_CellCarrier-384 Ultra_F11_T0192F001L01A01Z01C01.tif\n",
      "/data2/varun/HiTIPS_paper_data/fig_5/kpnb1/exp2/AssayPlate_PerkinElmer_CellCarrier-384 Ultra_F11_T0191F007L01A01Z01C01.tif\n",
      "/data2/varun/HiTIPS_paper_data/fig_5/kpnb1/exp2/AssayPlate_PerkinElmer_CellCarrier-384 Ultra_F11_T0191F009L01A01Z01C01.tif\n",
      "/data2/varun/HiTIPS_paper_data/fig_5/kpnb1/exp2/AssayPlate_PerkinElmer_CellCarrier-384 Ultra_F11_T0192F003L01A01Z01C01.tif\n",
      "/data2/varun/HiTIPS_paper_data/fig_5/kpnb1/exp2/AssayPlate_PerkinElmer_CellCarrier-384 Ultra_F11_T0192F002L01A01Z01C01.tif\n",
      "/data2/varun/HiTIPS_paper_data/fig_5/kpnb1/exp2/AssayPlate_PerkinElmer_CellCarrier-384 Ultra_F11_T0192F004L01A01Z01C01.tif\n",
      "/data2/varun/HiTIPS_paper_data/fig_5/kpnb1/exp2/AssayPlate_PerkinElmer_CellCarrier-384 Ultra_F11_T0192F005L01A01Z01C01.tif\n",
      "/data2/varun/HiTIPS_paper_data/fig_5/kpnb1/exp2/AssayPlate_PerkinElmer_CellCarrier-384 Ultra_F11_T0192F007L01A01Z01C01.tif\n",
      "/data2/varun/HiTIPS_paper_data/fig_5/kpnb1/exp2/AssayPlate_PerkinElmer_CellCarrier-384 Ultra_F11_T0192F008L01A01Z01C01.tif\n",
      "/data2/varun/HiTIPS_paper_data/fig_5/kpnb1/exp2/AssayPlate_PerkinElmer_CellCarrier-384 Ultra_F11_T0192F006L01A01Z01C01.tif\n",
      "/data2/varun/HiTIPS_paper_data/fig_5/kpnb1/exp2/AssayPlate_PerkinElmer_CellCarrier-384 Ultra_F11_T0192F009L01A01Z01C01.tif\n",
      "/data2/varun/HiTIPS_paper_data/fig_5/kpnb1/exp2/AssayPlate_PerkinElmer_CellCarrier-384 Ultra_F11_T0193F002L01A01Z01C01.tif\n",
      "/data2/varun/HiTIPS_paper_data/fig_5/kpnb1/exp2/AssayPlate_PerkinElmer_CellCarrier-384 Ultra_F11_T0193F001L01A01Z01C01.tif\n",
      "/data2/varun/HiTIPS_paper_data/fig_5/kpnb1/exp2/AssayPlate_PerkinElmer_CellCarrier-384 Ultra_F11_T0193F003L01A01Z01C01.tif\n",
      "/data2/varun/HiTIPS_paper_data/fig_5/kpnb1/exp2/AssayPlate_PerkinElmer_CellCarrier-384 Ultra_F11_T0193F004L01A01Z01C01.tif\n",
      "/data2/varun/HiTIPS_paper_data/fig_5/kpnb1/exp2/AssayPlate_PerkinElmer_CellCarrier-384 Ultra_F11_T0193F008L01A01Z01C01.tif\n",
      "/data2/varun/HiTIPS_paper_data/fig_5/kpnb1/exp2/AssayPlate_PerkinElmer_CellCarrier-384 Ultra_F11_T0193F005L01A01Z01C01.tif\n",
      "/data2/varun/HiTIPS_paper_data/fig_5/kpnb1/exp2/AssayPlate_PerkinElmer_CellCarrier-384 Ultra_F11_T0193F007L01A01Z01C01.tif\n",
      "/data2/varun/HiTIPS_paper_data/fig_5/kpnb1/exp2/AssayPlate_PerkinElmer_CellCarrier-384 Ultra_F11_T0193F006L01A01Z01C01.tif\n",
      "/data2/varun/HiTIPS_paper_data/fig_5/kpnb1/exp2/AssayPlate_PerkinElmer_CellCarrier-384 Ultra_F11_T0194F001L01A01Z01C01.tif\n",
      "/data2/varun/HiTIPS_paper_data/fig_5/kpnb1/exp2/AssayPlate_PerkinElmer_CellCarrier-384 Ultra_F11_T0194F003L01A01Z01C01.tif\n",
      "/data2/varun/HiTIPS_paper_data/fig_5/kpnb1/exp2/AssayPlate_PerkinElmer_CellCarrier-384 Ultra_F11_T0193F009L01A01Z01C01.tif\n",
      "/data2/varun/HiTIPS_paper_data/fig_5/kpnb1/exp2/AssayPlate_PerkinElmer_CellCarrier-384 Ultra_F11_T0194F002L01A01Z01C01.tif\n",
      "/data2/varun/HiTIPS_paper_data/fig_5/kpnb1/exp2/AssayPlate_PerkinElmer_CellCarrier-384 Ultra_F11_T0194F005L01A01Z01C01.tif\n",
      "/data2/varun/HiTIPS_paper_data/fig_5/kpnb1/exp2/AssayPlate_PerkinElmer_CellCarrier-384 Ultra_F11_T0194F007L01A01Z01C01.tif\n",
      "/data2/varun/HiTIPS_paper_data/fig_5/kpnb1/exp2/AssayPlate_PerkinElmer_CellCarrier-384 Ultra_F11_T0194F004L01A01Z01C01.tif\n",
      "/data2/varun/HiTIPS_paper_data/fig_5/kpnb1/exp2/AssayPlate_PerkinElmer_CellCarrier-384 Ultra_F11_T0194F006L01A01Z01C01.tif\n",
      "/data2/varun/HiTIPS_paper_data/fig_5/kpnb1/exp2/AssayPlate_PerkinElmer_CellCarrier-384 Ultra_F11_T0194F009L01A01Z01C01.tif\n",
      "/data2/varun/HiTIPS_paper_data/fig_5/kpnb1/exp2/AssayPlate_PerkinElmer_CellCarrier-384 Ultra_F11_T0194F008L01A01Z01C01.tif\n",
      "/data2/varun/HiTIPS_paper_data/fig_5/kpnb1/exp2/AssayPlate_PerkinElmer_CellCarrier-384 Ultra_F11_T0195F001L01A01Z01C01.tif\n",
      "/data2/varun/HiTIPS_paper_data/fig_5/kpnb1/exp2/AssayPlate_PerkinElmer_CellCarrier-384 Ultra_F11_T0195F002L01A01Z01C01.tif\n",
      "/data2/varun/HiTIPS_paper_data/fig_5/kpnb1/exp2/AssayPlate_PerkinElmer_CellCarrier-384 Ultra_F11_T0195F003L01A01Z01C01.tif\n",
      "/data2/varun/HiTIPS_paper_data/fig_5/kpnb1/exp2/AssayPlate_PerkinElmer_CellCarrier-384 Ultra_F11_T0195F004L01A01Z01C01.tif\n",
      "/data2/varun/HiTIPS_paper_data/fig_5/kpnb1/exp2/AssayPlate_PerkinElmer_CellCarrier-384 Ultra_F11_T0195F005L01A01Z01C01.tif\n",
      "/data2/varun/HiTIPS_paper_data/fig_5/kpnb1/exp2/AssayPlate_PerkinElmer_CellCarrier-384 Ultra_F11_T0195F006L01A01Z01C01.tif\n",
      "/data2/varun/HiTIPS_paper_data/fig_5/kpnb1/exp2/AssayPlate_PerkinElmer_CellCarrier-384 Ultra_F11_T0195F008L01A01Z01C01.tif\n",
      "/data2/varun/HiTIPS_paper_data/fig_5/kpnb1/exp2/AssayPlate_PerkinElmer_CellCarrier-384 Ultra_F11_T0195F009L01A01Z01C01.tif\n",
      "/data2/varun/HiTIPS_paper_data/fig_5/kpnb1/exp2/AssayPlate_PerkinElmer_CellCarrier-384 Ultra_F11_T0195F007L01A01Z01C01.tif\n",
      "/data2/varun/HiTIPS_paper_data/fig_5/kpnb1/exp2/AssayPlate_PerkinElmer_CellCarrier-384 Ultra_F11_T0196F001L01A01Z01C01.tif\n",
      "/data2/varun/HiTIPS_paper_data/fig_5/kpnb1/exp2/AssayPlate_PerkinElmer_CellCarrier-384 Ultra_F11_T0196F003L01A01Z01C01.tif\n",
      "/data2/varun/HiTIPS_paper_data/fig_5/kpnb1/exp2/AssayPlate_PerkinElmer_CellCarrier-384 Ultra_F11_T0196F002L01A01Z01C01.tif\n",
      "/data2/varun/HiTIPS_paper_data/fig_5/kpnb1/exp2/AssayPlate_PerkinElmer_CellCarrier-384 Ultra_F11_T0196F004L01A01Z01C01.tif\n",
      "/data2/varun/HiTIPS_paper_data/fig_5/kpnb1/exp2/AssayPlate_PerkinElmer_CellCarrier-384 Ultra_F11_T0196F005L01A01Z01C01.tif\n",
      "/data2/varun/HiTIPS_paper_data/fig_5/kpnb1/exp2/AssayPlate_PerkinElmer_CellCarrier-384 Ultra_F11_T0196F006L01A01Z01C01.tif\n",
      "/data2/varun/HiTIPS_paper_data/fig_5/kpnb1/exp2/AssayPlate_PerkinElmer_CellCarrier-384 Ultra_F11_T0196F007L01A01Z01C01.tif\n",
      "/data2/varun/HiTIPS_paper_data/fig_5/kpnb1/exp2/AssayPlate_PerkinElmer_CellCarrier-384 Ultra_F11_T0196F008L01A01Z01C01.tif\n",
      "/data2/varun/HiTIPS_paper_data/fig_5/kpnb1/exp2/AssayPlate_PerkinElmer_CellCarrier-384 Ultra_F11_T0196F009L01A01Z01C01.tif\n",
      "/data2/varun/HiTIPS_paper_data/fig_5/kpnb1/exp2/AssayPlate_PerkinElmer_CellCarrier-384 Ultra_F11_T0197F003L01A01Z01C01.tif\n",
      "/data2/varun/HiTIPS_paper_data/fig_5/kpnb1/exp2/AssayPlate_PerkinElmer_CellCarrier-384 Ultra_F11_T0197F002L01A01Z01C01.tif\n",
      "/data2/varun/HiTIPS_paper_data/fig_5/kpnb1/exp2/AssayPlate_PerkinElmer_CellCarrier-384 Ultra_F11_T0197F001L01A01Z01C01.tif\n",
      "/data2/varun/HiTIPS_paper_data/fig_5/kpnb1/exp2/AssayPlate_PerkinElmer_CellCarrier-384 Ultra_F11_T0197F004L01A01Z01C01.tif\n",
      "/data2/varun/HiTIPS_paper_data/fig_5/kpnb1/exp2/AssayPlate_PerkinElmer_CellCarrier-384 Ultra_F11_T0197F006L01A01Z01C01.tif\n",
      "/data2/varun/HiTIPS_paper_data/fig_5/kpnb1/exp2/AssayPlate_PerkinElmer_CellCarrier-384 Ultra_F11_T0197F008L01A01Z01C01.tif\n",
      "/data2/varun/HiTIPS_paper_data/fig_5/kpnb1/exp2/AssayPlate_PerkinElmer_CellCarrier-384 Ultra_F11_T0197F007L01A01Z01C01.tif\n",
      "/data2/varun/HiTIPS_paper_data/fig_5/kpnb1/exp2/AssayPlate_PerkinElmer_CellCarrier-384 Ultra_F11_T0197F005L01A01Z01C01.tif\n",
      "/data2/varun/HiTIPS_paper_data/fig_5/kpnb1/exp2/AssayPlate_PerkinElmer_CellCarrier-384 Ultra_F11_T0198F001L01A01Z01C01.tif\n",
      "/data2/varun/HiTIPS_paper_data/fig_5/kpnb1/exp2/AssayPlate_PerkinElmer_CellCarrier-384 Ultra_F11_T0198F002L01A01Z01C01.tif\n",
      "/data2/varun/HiTIPS_paper_data/fig_5/kpnb1/exp2/AssayPlate_PerkinElmer_CellCarrier-384 Ultra_F11_T0197F009L01A01Z01C01.tif\n",
      "/data2/varun/HiTIPS_paper_data/fig_5/kpnb1/exp2/AssayPlate_PerkinElmer_CellCarrier-384 Ultra_F11_T0198F003L01A01Z01C01.tif\n",
      "/data2/varun/HiTIPS_paper_data/fig_5/kpnb1/exp2/AssayPlate_PerkinElmer_CellCarrier-384 Ultra_F11_T0198F005L01A01Z01C01.tif\n",
      "/data2/varun/HiTIPS_paper_data/fig_5/kpnb1/exp2/AssayPlate_PerkinElmer_CellCarrier-384 Ultra_F11_T0198F006L01A01Z01C01.tif\n",
      "/data2/varun/HiTIPS_paper_data/fig_5/kpnb1/exp2/AssayPlate_PerkinElmer_CellCarrier-384 Ultra_F11_T0198F007L01A01Z01C01.tif\n",
      "/data2/varun/HiTIPS_paper_data/fig_5/kpnb1/exp2/AssayPlate_PerkinElmer_CellCarrier-384 Ultra_F11_T0198F004L01A01Z01C01.tif\n",
      "/data2/varun/HiTIPS_paper_data/fig_5/kpnb1/exp2/AssayPlate_PerkinElmer_CellCarrier-384 Ultra_F11_T0198F009L01A01Z01C01.tif\n",
      "/data2/varun/HiTIPS_paper_data/fig_5/kpnb1/exp2/AssayPlate_PerkinElmer_CellCarrier-384 Ultra_F11_T0199F002L01A01Z01C01.tif\n",
      "/data2/varun/HiTIPS_paper_data/fig_5/kpnb1/exp2/AssayPlate_PerkinElmer_CellCarrier-384 Ultra_F11_T0199F001L01A01Z01C01.tif\n",
      "/data2/varun/HiTIPS_paper_data/fig_5/kpnb1/exp2/AssayPlate_PerkinElmer_CellCarrier-384 Ultra_F11_T0198F008L01A01Z01C01.tif\n",
      "/data2/varun/HiTIPS_paper_data/fig_5/kpnb1/exp2/AssayPlate_PerkinElmer_CellCarrier-384 Ultra_F11_T0199F004L01A01Z01C01.tif\n",
      "/data2/varun/HiTIPS_paper_data/fig_5/kpnb1/exp2/AssayPlate_PerkinElmer_CellCarrier-384 Ultra_F11_T0199F003L01A01Z01C01.tif\n",
      "/data2/varun/HiTIPS_paper_data/fig_5/kpnb1/exp2/AssayPlate_PerkinElmer_CellCarrier-384 Ultra_F11_T0199F005L01A01Z01C01.tif\n",
      "/data2/varun/HiTIPS_paper_data/fig_5/kpnb1/exp2/AssayPlate_PerkinElmer_CellCarrier-384 Ultra_F11_T0199F006L01A01Z01C01.tif\n",
      "/data2/varun/HiTIPS_paper_data/fig_5/kpnb1/exp2/AssayPlate_PerkinElmer_CellCarrier-384 Ultra_F11_T0199F008L01A01Z01C01.tif\n",
      "/data2/varun/HiTIPS_paper_data/fig_5/kpnb1/exp2/AssayPlate_PerkinElmer_CellCarrier-384 Ultra_F11_T0200F001L01A01Z01C01.tif/data2/varun/HiTIPS_paper_data/fig_5/kpnb1/exp2/AssayPlate_PerkinElmer_CellCarrier-384 Ultra_F11_T0199F007L01A01Z01C01.tif\n",
      "\n",
      "/data2/varun/HiTIPS_paper_data/fig_5/kpnb1/exp2/AssayPlate_PerkinElmer_CellCarrier-384 Ultra_F11_T0199F009L01A01Z01C01.tif\n",
      "/data2/varun/HiTIPS_paper_data/fig_5/kpnb1/exp2/AssayPlate_PerkinElmer_CellCarrier-384 Ultra_F11_T0200F003L01A01Z01C01.tif\n",
      "/data2/varun/HiTIPS_paper_data/fig_5/kpnb1/exp2/AssayPlate_PerkinElmer_CellCarrier-384 Ultra_F11_T0200F002L01A01Z01C01.tif\n",
      "/data2/varun/HiTIPS_paper_data/fig_5/kpnb1/exp2/AssayPlate_PerkinElmer_CellCarrier-384 Ultra_F11_T0200F004L01A01Z01C01.tif\n",
      "/data2/varun/HiTIPS_paper_data/fig_5/kpnb1/exp2/AssayPlate_PerkinElmer_CellCarrier-384 Ultra_F11_T0200F005L01A01Z01C01.tif\n",
      "/data2/varun/HiTIPS_paper_data/fig_5/kpnb1/exp2/AssayPlate_PerkinElmer_CellCarrier-384 Ultra_F11_T0200F007L01A01Z01C01.tif\n",
      "/data2/varun/HiTIPS_paper_data/fig_5/kpnb1/exp2/AssayPlate_PerkinElmer_CellCarrier-384 Ultra_F11_T0200F009L01A01Z01C01.tif\n",
      "/data2/varun/HiTIPS_paper_data/fig_5/kpnb1/exp2/AssayPlate_PerkinElmer_CellCarrier-384 Ultra_F11_T0200F008L01A01Z01C01.tif\n",
      "/data2/varun/HiTIPS_paper_data/fig_5/kpnb1/exp2/AssayPlate_PerkinElmer_CellCarrier-384 Ultra_F11_T0200F006L01A01Z01C01.tif\n",
      "/data2/varun/HiTIPS_paper_data/fig_5/kpnb1/exp2/AssayPlate_PerkinElmer_CellCarrier-384 Ultra_F11_T0201F002L01A01Z01C01.tif\n",
      "/data2/varun/HiTIPS_paper_data/fig_5/kpnb1/exp2/AssayPlate_PerkinElmer_CellCarrier-384 Ultra_F11_T0201F001L01A01Z01C01.tif\n",
      "/data2/varun/HiTIPS_paper_data/fig_5/kpnb1/exp2/AssayPlate_PerkinElmer_CellCarrier-384 Ultra_F11_T0201F003L01A01Z01C01.tif\n",
      "/data2/varun/HiTIPS_paper_data/fig_5/kpnb1/exp2/AssayPlate_PerkinElmer_CellCarrier-384 Ultra_F11_T0201F004L01A01Z01C01.tif\n",
      "/data2/varun/HiTIPS_paper_data/fig_5/kpnb1/exp2/AssayPlate_PerkinElmer_CellCarrier-384 Ultra_F11_T0201F006L01A01Z01C01.tif\n",
      "/data2/varun/HiTIPS_paper_data/fig_5/kpnb1/exp2/AssayPlate_PerkinElmer_CellCarrier-384 Ultra_F11_T0201F008L01A01Z01C01.tif\n",
      "/data2/varun/HiTIPS_paper_data/fig_5/kpnb1/exp2/AssayPlate_PerkinElmer_CellCarrier-384 Ultra_F11_T0201F007L01A01Z01C01.tif\n",
      "/data2/varun/HiTIPS_paper_data/fig_5/kpnb1/exp2/AssayPlate_PerkinElmer_CellCarrier-384 Ultra_F11_T0201F005L01A01Z01C01.tif\n",
      "/data2/varun/HiTIPS_paper_data/fig_5/kpnb1/exp2/AssayPlate_PerkinElmer_CellCarrier-384 Ultra_F11_T0202F003L01A01Z01C01.tif\n",
      "/data2/varun/HiTIPS_paper_data/fig_5/kpnb1/exp2/AssayPlate_PerkinElmer_CellCarrier-384 Ultra_F11_T0202F002L01A01Z01C01.tif\n",
      "/data2/varun/HiTIPS_paper_data/fig_5/kpnb1/exp2/AssayPlate_PerkinElmer_CellCarrier-384 Ultra_F11_T0202F001L01A01Z01C01.tif\n",
      "/data2/varun/HiTIPS_paper_data/fig_5/kpnb1/exp2/AssayPlate_PerkinElmer_CellCarrier-384 Ultra_F11_T0201F009L01A01Z01C01.tif\n",
      "/data2/varun/HiTIPS_paper_data/fig_5/kpnb1/exp2/AssayPlate_PerkinElmer_CellCarrier-384 Ultra_F11_T0202F005L01A01Z01C01.tif\n",
      "/data2/varun/HiTIPS_paper_data/fig_5/kpnb1/exp2/AssayPlate_PerkinElmer_CellCarrier-384 Ultra_F11_T0202F007L01A01Z01C01.tif\n",
      "/data2/varun/HiTIPS_paper_data/fig_5/kpnb1/exp2/AssayPlate_PerkinElmer_CellCarrier-384 Ultra_F11_T0202F006L01A01Z01C01.tif\n",
      "/data2/varun/HiTIPS_paper_data/fig_5/kpnb1/exp2/AssayPlate_PerkinElmer_CellCarrier-384 Ultra_F11_T0202F004L01A01Z01C01.tif\n",
      "/data2/varun/HiTIPS_paper_data/fig_5/kpnb1/exp2/AssayPlate_PerkinElmer_CellCarrier-384 Ultra_F11_T0202F009L01A01Z01C01.tif\n",
      "/data2/varun/HiTIPS_paper_data/fig_5/kpnb1/exp2/AssayPlate_PerkinElmer_CellCarrier-384 Ultra_F11_T0203F001L01A01Z01C01.tif\n",
      "/data2/varun/HiTIPS_paper_data/fig_5/kpnb1/exp2/AssayPlate_PerkinElmer_CellCarrier-384 Ultra_F11_T0203F002L01A01Z01C01.tif\n",
      "/data2/varun/HiTIPS_paper_data/fig_5/kpnb1/exp2/AssayPlate_PerkinElmer_CellCarrier-384 Ultra_F11_T0202F008L01A01Z01C01.tif\n",
      "/data2/varun/HiTIPS_paper_data/fig_5/kpnb1/exp2/AssayPlate_PerkinElmer_CellCarrier-384 Ultra_F11_T0203F004L01A01Z01C01.tif\n",
      "/data2/varun/HiTIPS_paper_data/fig_5/kpnb1/exp2/AssayPlate_PerkinElmer_CellCarrier-384 Ultra_F11_T0203F003L01A01Z01C01.tif\n",
      "/data2/varun/HiTIPS_paper_data/fig_5/kpnb1/exp2/AssayPlate_PerkinElmer_CellCarrier-384 Ultra_F11_T0203F006L01A01Z01C01.tif\n",
      "/data2/varun/HiTIPS_paper_data/fig_5/kpnb1/exp2/AssayPlate_PerkinElmer_CellCarrier-384 Ultra_F11_T0203F005L01A01Z01C01.tif\n",
      "/data2/varun/HiTIPS_paper_data/fig_5/kpnb1/exp2/AssayPlate_PerkinElmer_CellCarrier-384 Ultra_F11_T0203F008L01A01Z01C01.tif\n",
      "/data2/varun/HiTIPS_paper_data/fig_5/kpnb1/exp2/AssayPlate_PerkinElmer_CellCarrier-384 Ultra_F11_T0203F007L01A01Z01C01.tif\n",
      "/data2/varun/HiTIPS_paper_data/fig_5/kpnb1/exp2/AssayPlate_PerkinElmer_CellCarrier-384 Ultra_F11_T0204F001L01A01Z01C01.tif\n",
      "/data2/varun/HiTIPS_paper_data/fig_5/kpnb1/exp2/AssayPlate_PerkinElmer_CellCarrier-384 Ultra_F11_T0203F009L01A01Z01C01.tif\n",
      "/data2/varun/HiTIPS_paper_data/fig_5/kpnb1/exp2/AssayPlate_PerkinElmer_CellCarrier-384 Ultra_F11_T0204F003L01A01Z01C01.tif\n",
      "/data2/varun/HiTIPS_paper_data/fig_5/kpnb1/exp2/AssayPlate_PerkinElmer_CellCarrier-384 Ultra_F11_T0204F002L01A01Z01C01.tif\n",
      "/data2/varun/HiTIPS_paper_data/fig_5/kpnb1/exp2/AssayPlate_PerkinElmer_CellCarrier-384 Ultra_F11_T0204F005L01A01Z01C01.tif\n",
      "/data2/varun/HiTIPS_paper_data/fig_5/kpnb1/exp2/AssayPlate_PerkinElmer_CellCarrier-384 Ultra_F11_T0204F004L01A01Z01C01.tif\n",
      "/data2/varun/HiTIPS_paper_data/fig_5/kpnb1/exp2/AssayPlate_PerkinElmer_CellCarrier-384 Ultra_F11_T0204F007L01A01Z01C01.tif\n",
      "/data2/varun/HiTIPS_paper_data/fig_5/kpnb1/exp2/AssayPlate_PerkinElmer_CellCarrier-384 Ultra_F11_T0204F006L01A01Z01C01.tif\n",
      "/data2/varun/HiTIPS_paper_data/fig_5/kpnb1/exp2/AssayPlate_PerkinElmer_CellCarrier-384 Ultra_F11_T0204F008L01A01Z01C01.tif\n",
      "/data2/varun/HiTIPS_paper_data/fig_5/kpnb1/exp2/AssayPlate_PerkinElmer_CellCarrier-384 Ultra_F11_T0204F009L01A01Z01C01.tif\n",
      "/data2/varun/HiTIPS_paper_data/fig_5/kpnb1/exp2/AssayPlate_PerkinElmer_CellCarrier-384 Ultra_F11_T0205F002L01A01Z01C01.tif\n",
      "/data2/varun/HiTIPS_paper_data/fig_5/kpnb1/exp2/AssayPlate_PerkinElmer_CellCarrier-384 Ultra_F11_T0205F003L01A01Z01C01.tif\n",
      "/data2/varun/HiTIPS_paper_data/fig_5/kpnb1/exp2/AssayPlate_PerkinElmer_CellCarrier-384 Ultra_F11_T0205F001L01A01Z01C01.tif\n",
      "/data2/varun/HiTIPS_paper_data/fig_5/kpnb1/exp2/AssayPlate_PerkinElmer_CellCarrier-384 Ultra_F11_T0205F004L01A01Z01C01.tif\n",
      "/data2/varun/HiTIPS_paper_data/fig_5/kpnb1/exp2/AssayPlate_PerkinElmer_CellCarrier-384 Ultra_F11_T0205F006L01A01Z01C01.tif\n",
      "/data2/varun/HiTIPS_paper_data/fig_5/kpnb1/exp2/AssayPlate_PerkinElmer_CellCarrier-384 Ultra_F11_T0205F007L01A01Z01C01.tif\n",
      "/data2/varun/HiTIPS_paper_data/fig_5/kpnb1/exp2/AssayPlate_PerkinElmer_CellCarrier-384 Ultra_F11_T0205F008L01A01Z01C01.tif\n",
      "/data2/varun/HiTIPS_paper_data/fig_5/kpnb1/exp2/AssayPlate_PerkinElmer_CellCarrier-384 Ultra_F11_T0205F005L01A01Z01C01.tif\n",
      "/data2/varun/HiTIPS_paper_data/fig_5/kpnb1/exp2/AssayPlate_PerkinElmer_CellCarrier-384 Ultra_F11_T0206F001L01A01Z01C01.tif\n",
      "/data2/varun/HiTIPS_paper_data/fig_5/kpnb1/exp2/AssayPlate_PerkinElmer_CellCarrier-384 Ultra_F11_T0206F002L01A01Z01C01.tif\n",
      "/data2/varun/HiTIPS_paper_data/fig_5/kpnb1/exp2/AssayPlate_PerkinElmer_CellCarrier-384 Ultra_F11_T0206F003L01A01Z01C01.tif\n",
      "/data2/varun/HiTIPS_paper_data/fig_5/kpnb1/exp2/AssayPlate_PerkinElmer_CellCarrier-384 Ultra_F11_T0205F009L01A01Z01C01.tif\n",
      "/data2/varun/HiTIPS_paper_data/fig_5/kpnb1/exp2/AssayPlate_PerkinElmer_CellCarrier-384 Ultra_F11_T0206F005L01A01Z01C01.tif\n",
      "/data2/varun/HiTIPS_paper_data/fig_5/kpnb1/exp2/AssayPlate_PerkinElmer_CellCarrier-384 Ultra_F11_T0206F006L01A01Z01C01.tif\n",
      "/data2/varun/HiTIPS_paper_data/fig_5/kpnb1/exp2/AssayPlate_PerkinElmer_CellCarrier-384 Ultra_F11_T0206F004L01A01Z01C01.tif\n",
      "/data2/varun/HiTIPS_paper_data/fig_5/kpnb1/exp2/AssayPlate_PerkinElmer_CellCarrier-384 Ultra_F11_T0206F007L01A01Z01C01.tif\n",
      "/data2/varun/HiTIPS_paper_data/fig_5/kpnb1/exp2/AssayPlate_PerkinElmer_CellCarrier-384 Ultra_F11_T0206F009L01A01Z01C01.tif\n",
      "/data2/varun/HiTIPS_paper_data/fig_5/kpnb1/exp2/AssayPlate_PerkinElmer_CellCarrier-384 Ultra_F11_T0206F008L01A01Z01C01.tif\n",
      "/data2/varun/HiTIPS_paper_data/fig_5/kpnb1/exp2/AssayPlate_PerkinElmer_CellCarrier-384 Ultra_F11_T0207F002L01A01Z01C01.tif\n",
      "/data2/varun/HiTIPS_paper_data/fig_5/kpnb1/exp2/AssayPlate_PerkinElmer_CellCarrier-384 Ultra_F11_T0207F001L01A01Z01C01.tif\n",
      "/data2/varun/HiTIPS_paper_data/fig_5/kpnb1/exp2/AssayPlate_PerkinElmer_CellCarrier-384 Ultra_F11_T0207F004L01A01Z01C01.tif\n",
      "/data2/varun/HiTIPS_paper_data/fig_5/kpnb1/exp2/AssayPlate_PerkinElmer_CellCarrier-384 Ultra_F11_T0207F003L01A01Z01C01.tif\n",
      "/data2/varun/HiTIPS_paper_data/fig_5/kpnb1/exp2/AssayPlate_PerkinElmer_CellCarrier-384 Ultra_F11_T0207F005L01A01Z01C01.tif\n",
      "/data2/varun/HiTIPS_paper_data/fig_5/kpnb1/exp2/AssayPlate_PerkinElmer_CellCarrier-384 Ultra_F11_T0207F006L01A01Z01C01.tif\n",
      "/data2/varun/HiTIPS_paper_data/fig_5/kpnb1/exp2/AssayPlate_PerkinElmer_CellCarrier-384 Ultra_F11_T0207F008L01A01Z01C01.tif\n",
      "/data2/varun/HiTIPS_paper_data/fig_5/kpnb1/exp2/AssayPlate_PerkinElmer_CellCarrier-384 Ultra_F11_T0207F007L01A01Z01C01.tif\n",
      "/data2/varun/HiTIPS_paper_data/fig_5/kpnb1/exp2/AssayPlate_PerkinElmer_CellCarrier-384 Ultra_F11_T0208F001L01A01Z01C01.tif\n",
      "/data2/varun/HiTIPS_paper_data/fig_5/kpnb1/exp2/AssayPlate_PerkinElmer_CellCarrier-384 Ultra_F11_T0207F009L01A01Z01C01.tif\n",
      "/data2/varun/HiTIPS_paper_data/fig_5/kpnb1/exp2/AssayPlate_PerkinElmer_CellCarrier-384 Ultra_F11_T0208F003L01A01Z01C01.tif\n",
      "/data2/varun/HiTIPS_paper_data/fig_5/kpnb1/exp2/AssayPlate_PerkinElmer_CellCarrier-384 Ultra_F11_T0208F005L01A01Z01C01.tif\n",
      "/data2/varun/HiTIPS_paper_data/fig_5/kpnb1/exp2/AssayPlate_PerkinElmer_CellCarrier-384 Ultra_F11_T0208F002L01A01Z01C01.tif\n",
      "/data2/varun/HiTIPS_paper_data/fig_5/kpnb1/exp2/AssayPlate_PerkinElmer_CellCarrier-384 Ultra_F11_T0208F004L01A01Z01C01.tif\n",
      "/data2/varun/HiTIPS_paper_data/fig_5/kpnb1/exp2/AssayPlate_PerkinElmer_CellCarrier-384 Ultra_F11_T0208F007L01A01Z01C01.tif\n",
      "/data2/varun/HiTIPS_paper_data/fig_5/kpnb1/exp2/AssayPlate_PerkinElmer_CellCarrier-384 Ultra_F11_T0208F006L01A01Z01C01.tif\n",
      "/data2/varun/HiTIPS_paper_data/fig_5/kpnb1/exp2/AssayPlate_PerkinElmer_CellCarrier-384 Ultra_F11_T0208F009L01A01Z01C01.tif\n",
      "/data2/varun/HiTIPS_paper_data/fig_5/kpnb1/exp2/AssayPlate_PerkinElmer_CellCarrier-384 Ultra_F11_T0208F008L01A01Z01C01.tif\n",
      "/data2/varun/HiTIPS_paper_data/fig_5/kpnb1/exp2/AssayPlate_PerkinElmer_CellCarrier-384 Ultra_F11_T0209F002L01A01Z01C01.tif\n",
      "/data2/varun/HiTIPS_paper_data/fig_5/kpnb1/exp2/AssayPlate_PerkinElmer_CellCarrier-384 Ultra_F11_T0209F001L01A01Z01C01.tif\n",
      "/data2/varun/HiTIPS_paper_data/fig_5/kpnb1/exp2/AssayPlate_PerkinElmer_CellCarrier-384 Ultra_F11_T0209F004L01A01Z01C01.tif\n",
      "/data2/varun/HiTIPS_paper_data/fig_5/kpnb1/exp2/AssayPlate_PerkinElmer_CellCarrier-384 Ultra_F11_T0209F003L01A01Z01C01.tif\n",
      "/data2/varun/HiTIPS_paper_data/fig_5/kpnb1/exp2/AssayPlate_PerkinElmer_CellCarrier-384 Ultra_F11_T0209F006L01A01Z01C01.tif\n",
      "/data2/varun/HiTIPS_paper_data/fig_5/kpnb1/exp2/AssayPlate_PerkinElmer_CellCarrier-384 Ultra_F11_T0209F007L01A01Z01C01.tif\n",
      "/data2/varun/HiTIPS_paper_data/fig_5/kpnb1/exp2/AssayPlate_PerkinElmer_CellCarrier-384 Ultra_F11_T0209F008L01A01Z01C01.tif\n",
      "/data2/varun/HiTIPS_paper_data/fig_5/kpnb1/exp2/AssayPlate_PerkinElmer_CellCarrier-384 Ultra_F11_T0209F005L01A01Z01C01.tif\n",
      "/data2/varun/HiTIPS_paper_data/fig_5/kpnb1/exp2/AssayPlate_PerkinElmer_CellCarrier-384 Ultra_F11_T0210F001L01A01Z01C01.tif\n",
      "/data2/varun/HiTIPS_paper_data/fig_5/kpnb1/exp2/AssayPlate_PerkinElmer_CellCarrier-384 Ultra_F11_T0210F002L01A01Z01C01.tif\n",
      "/data2/varun/HiTIPS_paper_data/fig_5/kpnb1/exp2/AssayPlate_PerkinElmer_CellCarrier-384 Ultra_F11_T0209F009L01A01Z01C01.tif\n",
      "/data2/varun/HiTIPS_paper_data/fig_5/kpnb1/exp2/AssayPlate_PerkinElmer_CellCarrier-384 Ultra_F11_T0210F003L01A01Z01C01.tif\n",
      "/data2/varun/HiTIPS_paper_data/fig_5/kpnb1/exp2/AssayPlate_PerkinElmer_CellCarrier-384 Ultra_F11_T0210F005L01A01Z01C01.tif\n",
      "/data2/varun/HiTIPS_paper_data/fig_5/kpnb1/exp2/AssayPlate_PerkinElmer_CellCarrier-384 Ultra_F11_T0210F004L01A01Z01C01.tif\n",
      "/data2/varun/HiTIPS_paper_data/fig_5/kpnb1/exp2/AssayPlate_PerkinElmer_CellCarrier-384 Ultra_F11_T0210F006L01A01Z01C01.tif\n",
      "/data2/varun/HiTIPS_paper_data/fig_5/kpnb1/exp2/AssayPlate_PerkinElmer_CellCarrier-384 Ultra_F11_T0210F007L01A01Z01C01.tif\n",
      "/data2/varun/HiTIPS_paper_data/fig_5/kpnb1/exp2/AssayPlate_PerkinElmer_CellCarrier-384 Ultra_F11_T0210F009L01A01Z01C01.tif\n",
      "/data2/varun/HiTIPS_paper_data/fig_5/kpnb1/exp2/AssayPlate_PerkinElmer_CellCarrier-384 Ultra_F11_T0210F008L01A01Z01C01.tif\n",
      "/data2/varun/HiTIPS_paper_data/fig_5/kpnb1/exp2/AssayPlate_PerkinElmer_CellCarrier-384 Ultra_F11_T0211F002L01A01Z01C01.tif\n",
      "/data2/varun/HiTIPS_paper_data/fig_5/kpnb1/exp2/AssayPlate_PerkinElmer_CellCarrier-384 Ultra_F11_T0211F001L01A01Z01C01.tif\n",
      "/data2/varun/HiTIPS_paper_data/fig_5/kpnb1/exp2/AssayPlate_PerkinElmer_CellCarrier-384 Ultra_F11_T0211F004L01A01Z01C01.tif\n",
      "/data2/varun/HiTIPS_paper_data/fig_5/kpnb1/exp2/AssayPlate_PerkinElmer_CellCarrier-384 Ultra_F11_T0211F005L01A01Z01C01.tif\n",
      "/data2/varun/HiTIPS_paper_data/fig_5/kpnb1/exp2/AssayPlate_PerkinElmer_CellCarrier-384 Ultra_F11_T0211F003L01A01Z01C01.tif\n",
      "/data2/varun/HiTIPS_paper_data/fig_5/kpnb1/exp2/AssayPlate_PerkinElmer_CellCarrier-384 Ultra_F11_T0211F006L01A01Z01C01.tif\n",
      "/data2/varun/HiTIPS_paper_data/fig_5/kpnb1/exp2/AssayPlate_PerkinElmer_CellCarrier-384 Ultra_F11_T0211F008L01A01Z01C01.tif\n",
      "/data2/varun/HiTIPS_paper_data/fig_5/kpnb1/exp2/AssayPlate_PerkinElmer_CellCarrier-384 Ultra_F11_T0211F007L01A01Z01C01.tif\n",
      "/data2/varun/HiTIPS_paper_data/fig_5/kpnb1/exp2/AssayPlate_PerkinElmer_CellCarrier-384 Ultra_F11_T0211F009L01A01Z01C01.tif\n",
      "/data2/varun/HiTIPS_paper_data/fig_5/kpnb1/exp2/AssayPlate_PerkinElmer_CellCarrier-384 Ultra_F11_T0212F001L01A01Z01C01.tif\n",
      "/data2/varun/HiTIPS_paper_data/fig_5/kpnb1/exp2/AssayPlate_PerkinElmer_CellCarrier-384 Ultra_F11_T0212F004L01A01Z01C01.tif\n",
      "/data2/varun/HiTIPS_paper_data/fig_5/kpnb1/exp2/AssayPlate_PerkinElmer_CellCarrier-384 Ultra_F11_T0212F002L01A01Z01C01.tif\n",
      "/data2/varun/HiTIPS_paper_data/fig_5/kpnb1/exp2/AssayPlate_PerkinElmer_CellCarrier-384 Ultra_F11_T0212F005L01A01Z01C01.tif\n",
      "/data2/varun/HiTIPS_paper_data/fig_5/kpnb1/exp2/AssayPlate_PerkinElmer_CellCarrier-384 Ultra_F11_T0212F003L01A01Z01C01.tif\n",
      "/data2/varun/HiTIPS_paper_data/fig_5/kpnb1/exp2/AssayPlate_PerkinElmer_CellCarrier-384 Ultra_F11_T0212F007L01A01Z01C01.tif\n",
      "/data2/varun/HiTIPS_paper_data/fig_5/kpnb1/exp2/AssayPlate_PerkinElmer_CellCarrier-384 Ultra_F11_T0212F006L01A01Z01C01.tif\n",
      "/data2/varun/HiTIPS_paper_data/fig_5/kpnb1/exp2/AssayPlate_PerkinElmer_CellCarrier-384 Ultra_F11_T0212F008L01A01Z01C01.tif\n",
      "/data2/varun/HiTIPS_paper_data/fig_5/kpnb1/exp2/AssayPlate_PerkinElmer_CellCarrier-384 Ultra_F11_T0212F009L01A01Z01C01.tif\n",
      "/data2/varun/HiTIPS_paper_data/fig_5/kpnb1/exp2/AssayPlate_PerkinElmer_CellCarrier-384 Ultra_F11_T0213F004L01A01Z01C01.tif\n",
      "/data2/varun/HiTIPS_paper_data/fig_5/kpnb1/exp2/AssayPlate_PerkinElmer_CellCarrier-384 Ultra_F11_T0213F002L01A01Z01C01.tif\n",
      "/data2/varun/HiTIPS_paper_data/fig_5/kpnb1/exp2/AssayPlate_PerkinElmer_CellCarrier-384 Ultra_F11_T0213F001L01A01Z01C01.tif\n",
      "/data2/varun/HiTIPS_paper_data/fig_5/kpnb1/exp2/AssayPlate_PerkinElmer_CellCarrier-384 Ultra_F11_T0213F003L01A01Z01C01.tif\n",
      "/data2/varun/HiTIPS_paper_data/fig_5/kpnb1/exp2/AssayPlate_PerkinElmer_CellCarrier-384 Ultra_F11_T0213F006L01A01Z01C01.tif\n",
      "/data2/varun/HiTIPS_paper_data/fig_5/kpnb1/exp2/AssayPlate_PerkinElmer_CellCarrier-384 Ultra_F11_T0213F008L01A01Z01C01.tif\n",
      "/data2/varun/HiTIPS_paper_data/fig_5/kpnb1/exp2/AssayPlate_PerkinElmer_CellCarrier-384 Ultra_F11_T0213F005L01A01Z01C01.tif\n",
      "/data2/varun/HiTIPS_paper_data/fig_5/kpnb1/exp2/AssayPlate_PerkinElmer_CellCarrier-384 Ultra_F11_T0213F007L01A01Z01C01.tif\n",
      "/data2/varun/HiTIPS_paper_data/fig_5/kpnb1/exp2/AssayPlate_PerkinElmer_CellCarrier-384 Ultra_F11_T0214F001L01A01Z01C01.tif\n",
      "/data2/varun/HiTIPS_paper_data/fig_5/kpnb1/exp2/AssayPlate_PerkinElmer_CellCarrier-384 Ultra_F11_T0214F003L01A01Z01C01.tif\n",
      "/data2/varun/HiTIPS_paper_data/fig_5/kpnb1/exp2/AssayPlate_PerkinElmer_CellCarrier-384 Ultra_F11_T0213F009L01A01Z01C01.tif\n",
      "/data2/varun/HiTIPS_paper_data/fig_5/kpnb1/exp2/AssayPlate_PerkinElmer_CellCarrier-384 Ultra_F11_T0214F002L01A01Z01C01.tif\n",
      "/data2/varun/HiTIPS_paper_data/fig_5/kpnb1/exp2/AssayPlate_PerkinElmer_CellCarrier-384 Ultra_F11_T0214F006L01A01Z01C01.tif\n",
      "/data2/varun/HiTIPS_paper_data/fig_5/kpnb1/exp2/AssayPlate_PerkinElmer_CellCarrier-384 Ultra_F11_T0214F004L01A01Z01C01.tif\n",
      "/data2/varun/HiTIPS_paper_data/fig_5/kpnb1/exp2/AssayPlate_PerkinElmer_CellCarrier-384 Ultra_F11_T0214F005L01A01Z01C01.tif\n",
      "/data2/varun/HiTIPS_paper_data/fig_5/kpnb1/exp2/AssayPlate_PerkinElmer_CellCarrier-384 Ultra_F11_T0214F007L01A01Z01C01.tif\n",
      "/data2/varun/HiTIPS_paper_data/fig_5/kpnb1/exp2/AssayPlate_PerkinElmer_CellCarrier-384 Ultra_F11_T0215F002L01A01Z01C01.tif\n",
      "/data2/varun/HiTIPS_paper_data/fig_5/kpnb1/exp2/AssayPlate_PerkinElmer_CellCarrier-384 Ultra_F11_T0214F008L01A01Z01C01.tif\n",
      "/data2/varun/HiTIPS_paper_data/fig_5/kpnb1/exp2/AssayPlate_PerkinElmer_CellCarrier-384 Ultra_F11_T0215F001L01A01Z01C01.tif\n",
      "/data2/varun/HiTIPS_paper_data/fig_5/kpnb1/exp2/AssayPlate_PerkinElmer_CellCarrier-384 Ultra_F11_T0214F009L01A01Z01C01.tif\n",
      "/data2/varun/HiTIPS_paper_data/fig_5/kpnb1/exp2/AssayPlate_PerkinElmer_CellCarrier-384 Ultra_F11_T0215F004L01A01Z01C01.tif\n",
      "/data2/varun/HiTIPS_paper_data/fig_5/kpnb1/exp2/AssayPlate_PerkinElmer_CellCarrier-384 Ultra_F11_T0215F003L01A01Z01C01.tif\n",
      "/data2/varun/HiTIPS_paper_data/fig_5/kpnb1/exp2/AssayPlate_PerkinElmer_CellCarrier-384 Ultra_F11_T0215F005L01A01Z01C01.tif\n",
      "/data2/varun/HiTIPS_paper_data/fig_5/kpnb1/exp2/AssayPlate_PerkinElmer_CellCarrier-384 Ultra_F11_T0215F006L01A01Z01C01.tif\n",
      "/data2/varun/HiTIPS_paper_data/fig_5/kpnb1/exp2/AssayPlate_PerkinElmer_CellCarrier-384 Ultra_F11_T0216F001L01A01Z01C01.tif\n",
      "/data2/varun/HiTIPS_paper_data/fig_5/kpnb1/exp2/AssayPlate_PerkinElmer_CellCarrier-384 Ultra_F11_T0215F008L01A01Z01C01.tif\n",
      "/data2/varun/HiTIPS_paper_data/fig_5/kpnb1/exp2/AssayPlate_PerkinElmer_CellCarrier-384 Ultra_F11_T0215F007L01A01Z01C01.tif\n",
      "/data2/varun/HiTIPS_paper_data/fig_5/kpnb1/exp2/AssayPlate_PerkinElmer_CellCarrier-384 Ultra_F11_T0215F009L01A01Z01C01.tif\n",
      "/data2/varun/HiTIPS_paper_data/fig_5/kpnb1/exp2/AssayPlate_PerkinElmer_CellCarrier-384 Ultra_F11_T0216F003L01A01Z01C01.tif\n",
      "/data2/varun/HiTIPS_paper_data/fig_5/kpnb1/exp2/AssayPlate_PerkinElmer_CellCarrier-384 Ultra_F11_T0216F004L01A01Z01C01.tif\n",
      "/data2/varun/HiTIPS_paper_data/fig_5/kpnb1/exp2/AssayPlate_PerkinElmer_CellCarrier-384 Ultra_F11_T0216F005L01A01Z01C01.tif\n",
      "/data2/varun/HiTIPS_paper_data/fig_5/kpnb1/exp2/AssayPlate_PerkinElmer_CellCarrier-384 Ultra_F11_T0216F002L01A01Z01C01.tif\n",
      "/data2/varun/HiTIPS_paper_data/fig_5/kpnb1/exp2/AssayPlate_PerkinElmer_CellCarrier-384 Ultra_F11_T0216F007L01A01Z01C01.tif\n",
      "/data2/varun/HiTIPS_paper_data/fig_5/kpnb1/exp2/AssayPlate_PerkinElmer_CellCarrier-384 Ultra_F11_T0216F008L01A01Z01C01.tif\n",
      "/data2/varun/HiTIPS_paper_data/fig_5/kpnb1/exp2/AssayPlate_PerkinElmer_CellCarrier-384 Ultra_F11_T0216F006L01A01Z01C01.tif\n",
      "/data2/varun/HiTIPS_paper_data/fig_5/kpnb1/exp2/AssayPlate_PerkinElmer_CellCarrier-384 Ultra_F11_T0216F009L01A01Z01C01.tif\n",
      "/data2/varun/HiTIPS_paper_data/fig_5/kpnb1/exp2/AssayPlate_PerkinElmer_CellCarrier-384 Ultra_F11_T0217F002L01A01Z01C01.tif\n",
      "/data2/varun/HiTIPS_paper_data/fig_5/kpnb1/exp2/AssayPlate_PerkinElmer_CellCarrier-384 Ultra_F11_T0217F004L01A01Z01C01.tif\n",
      "/data2/varun/HiTIPS_paper_data/fig_5/kpnb1/exp2/AssayPlate_PerkinElmer_CellCarrier-384 Ultra_F11_T0217F003L01A01Z01C01.tif\n",
      "/data2/varun/HiTIPS_paper_data/fig_5/kpnb1/exp2/AssayPlate_PerkinElmer_CellCarrier-384 Ultra_F11_T0217F001L01A01Z01C01.tif\n",
      "/data2/varun/HiTIPS_paper_data/fig_5/kpnb1/exp2/AssayPlate_PerkinElmer_CellCarrier-384 Ultra_F11_T0217F006L01A01Z01C01.tif\n",
      "/data2/varun/HiTIPS_paper_data/fig_5/kpnb1/exp2/AssayPlate_PerkinElmer_CellCarrier-384 Ultra_F11_T0217F005L01A01Z01C01.tif\n",
      "/data2/varun/HiTIPS_paper_data/fig_5/kpnb1/exp2/AssayPlate_PerkinElmer_CellCarrier-384 Ultra_F11_T0217F008L01A01Z01C01.tif\n",
      "/data2/varun/HiTIPS_paper_data/fig_5/kpnb1/exp2/AssayPlate_PerkinElmer_CellCarrier-384 Ultra_F11_T0217F007L01A01Z01C01.tif\n",
      "/data2/varun/HiTIPS_paper_data/fig_5/kpnb1/exp2/AssayPlate_PerkinElmer_CellCarrier-384 Ultra_F11_T0218F003L01A01Z01C01.tif\n",
      "/data2/varun/HiTIPS_paper_data/fig_5/kpnb1/exp2/AssayPlate_PerkinElmer_CellCarrier-384 Ultra_F11_T0218F001L01A01Z01C01.tif\n",
      "/data2/varun/HiTIPS_paper_data/fig_5/kpnb1/exp2/AssayPlate_PerkinElmer_CellCarrier-384 Ultra_F11_T0218F002L01A01Z01C01.tif\n",
      "/data2/varun/HiTIPS_paper_data/fig_5/kpnb1/exp2/AssayPlate_PerkinElmer_CellCarrier-384 Ultra_F11_T0217F009L01A01Z01C01.tif\n",
      "/data2/varun/HiTIPS_paper_data/fig_5/kpnb1/exp2/AssayPlate_PerkinElmer_CellCarrier-384 Ultra_F11_T0218F005L01A01Z01C01.tif\n",
      "/data2/varun/HiTIPS_paper_data/fig_5/kpnb1/exp2/AssayPlate_PerkinElmer_CellCarrier-384 Ultra_F11_T0218F004L01A01Z01C01.tif\n",
      "/data2/varun/HiTIPS_paper_data/fig_5/kpnb1/exp2/AssayPlate_PerkinElmer_CellCarrier-384 Ultra_F11_T0218F006L01A01Z01C01.tif\n",
      "/data2/varun/HiTIPS_paper_data/fig_5/kpnb1/exp2/AssayPlate_PerkinElmer_CellCarrier-384 Ultra_F11_T0218F007L01A01Z01C01.tif\n",
      "/data2/varun/HiTIPS_paper_data/fig_5/kpnb1/exp2/AssayPlate_PerkinElmer_CellCarrier-384 Ultra_F11_T0219F001L01A01Z01C01.tif\n",
      "/data2/varun/HiTIPS_paper_data/fig_5/kpnb1/exp2/AssayPlate_PerkinElmer_CellCarrier-384 Ultra_F11_T0218F008L01A01Z01C01.tif\n",
      "/data2/varun/HiTIPS_paper_data/fig_5/kpnb1/exp2/AssayPlate_PerkinElmer_CellCarrier-384 Ultra_F11_T0218F009L01A01Z01C01.tif\n",
      "/data2/varun/HiTIPS_paper_data/fig_5/kpnb1/exp2/AssayPlate_PerkinElmer_CellCarrier-384 Ultra_F11_T0219F002L01A01Z01C01.tif\n",
      "/data2/varun/HiTIPS_paper_data/fig_5/kpnb1/exp2/AssayPlate_PerkinElmer_CellCarrier-384 Ultra_F11_T0219F005L01A01Z01C01.tif\n",
      "/data2/varun/HiTIPS_paper_data/fig_5/kpnb1/exp2/AssayPlate_PerkinElmer_CellCarrier-384 Ultra_F11_T0219F004L01A01Z01C01.tif\n",
      "/data2/varun/HiTIPS_paper_data/fig_5/kpnb1/exp2/AssayPlate_PerkinElmer_CellCarrier-384 Ultra_F11_T0219F003L01A01Z01C01.tif\n",
      "/data2/varun/HiTIPS_paper_data/fig_5/kpnb1/exp2/AssayPlate_PerkinElmer_CellCarrier-384 Ultra_F11_T0219F006L01A01Z01C01.tif\n",
      "/data2/varun/HiTIPS_paper_data/fig_5/kpnb1/exp2/AssayPlate_PerkinElmer_CellCarrier-384 Ultra_F11_T0219F007L01A01Z01C01.tif\n",
      "/data2/varun/HiTIPS_paper_data/fig_5/kpnb1/exp2/AssayPlate_PerkinElmer_CellCarrier-384 Ultra_F11_T0219F008L01A01Z01C01.tif\n",
      "/data2/varun/HiTIPS_paper_data/fig_5/kpnb1/exp2/AssayPlate_PerkinElmer_CellCarrier-384 Ultra_F11_T0219F009L01A01Z01C01.tif\n",
      "/data2/varun/HiTIPS_paper_data/fig_5/kpnb1/exp2/AssayPlate_PerkinElmer_CellCarrier-384 Ultra_F11_T0220F001L01A01Z01C01.tif\n",
      "/data2/varun/HiTIPS_paper_data/fig_5/kpnb1/exp2/AssayPlate_PerkinElmer_CellCarrier-384 Ultra_F11_T0220F002L01A01Z01C01.tif\n",
      "/data2/varun/HiTIPS_paper_data/fig_5/kpnb1/exp2/AssayPlate_PerkinElmer_CellCarrier-384 Ultra_F11_T0220F004L01A01Z01C01.tif\n",
      "/data2/varun/HiTIPS_paper_data/fig_5/kpnb1/exp2/AssayPlate_PerkinElmer_CellCarrier-384 Ultra_F11_T0220F005L01A01Z01C01.tif\n",
      "/data2/varun/HiTIPS_paper_data/fig_5/kpnb1/exp2/AssayPlate_PerkinElmer_CellCarrier-384 Ultra_F11_T0220F003L01A01Z01C01.tif\n",
      "/data2/varun/HiTIPS_paper_data/fig_5/kpnb1/exp2/AssayPlate_PerkinElmer_CellCarrier-384 Ultra_F11_T0220F007L01A01Z01C01.tif\n",
      "/data2/varun/HiTIPS_paper_data/fig_5/kpnb1/exp2/AssayPlate_PerkinElmer_CellCarrier-384 Ultra_F11_T0220F006L01A01Z01C01.tif\n",
      "/data2/varun/HiTIPS_paper_data/fig_5/kpnb1/exp2/AssayPlate_PerkinElmer_CellCarrier-384 Ultra_F11_T0220F008L01A01Z01C01.tif\n",
      "/data2/varun/HiTIPS_paper_data/fig_5/kpnb1/exp2/AssayPlate_PerkinElmer_CellCarrier-384 Ultra_F11_T0220F009L01A01Z01C01.tif\n",
      "/data2/varun/HiTIPS_paper_data/fig_5/kpnb1/exp2/AssayPlate_PerkinElmer_CellCarrier-384 Ultra_F11_T0221F002L01A01Z01C01.tif\n",
      "/data2/varun/HiTIPS_paper_data/fig_5/kpnb1/exp2/AssayPlate_PerkinElmer_CellCarrier-384 Ultra_F11_T0221F003L01A01Z01C01.tif\n",
      "/data2/varun/HiTIPS_paper_data/fig_5/kpnb1/exp2/AssayPlate_PerkinElmer_CellCarrier-384 Ultra_F11_T0221F001L01A01Z01C01.tif\n",
      "/data2/varun/HiTIPS_paper_data/fig_5/kpnb1/exp2/AssayPlate_PerkinElmer_CellCarrier-384 Ultra_F11_T0221F004L01A01Z01C01.tif\n",
      "/data2/varun/HiTIPS_paper_data/fig_5/kpnb1/exp2/AssayPlate_PerkinElmer_CellCarrier-384 Ultra_F11_T0221F006L01A01Z01C01.tif\n",
      "/data2/varun/HiTIPS_paper_data/fig_5/kpnb1/exp2/AssayPlate_PerkinElmer_CellCarrier-384 Ultra_F11_T0221F008L01A01Z01C01.tif\n",
      "/data2/varun/HiTIPS_paper_data/fig_5/kpnb1/exp2/AssayPlate_PerkinElmer_CellCarrier-384 Ultra_F11_T0221F005L01A01Z01C01.tif\n",
      "/data2/varun/HiTIPS_paper_data/fig_5/kpnb1/exp2/AssayPlate_PerkinElmer_CellCarrier-384 Ultra_F11_T0221F007L01A01Z01C01.tif\n",
      "/data2/varun/HiTIPS_paper_data/fig_5/kpnb1/exp2/AssayPlate_PerkinElmer_CellCarrier-384 Ultra_F11_T0222F001L01A01Z01C01.tif\n",
      "/data2/varun/HiTIPS_paper_data/fig_5/kpnb1/exp2/AssayPlate_PerkinElmer_CellCarrier-384 Ultra_F11_T0222F002L01A01Z01C01.tif\n",
      "/data2/varun/HiTIPS_paper_data/fig_5/kpnb1/exp2/AssayPlate_PerkinElmer_CellCarrier-384 Ultra_F11_T0222F003L01A01Z01C01.tif\n",
      "/data2/varun/HiTIPS_paper_data/fig_5/kpnb1/exp2/AssayPlate_PerkinElmer_CellCarrier-384 Ultra_F11_T0221F009L01A01Z01C01.tif\n",
      "/data2/varun/HiTIPS_paper_data/fig_5/kpnb1/exp2/AssayPlate_PerkinElmer_CellCarrier-384 Ultra_F11_T0222F005L01A01Z01C01.tif\n",
      "/data2/varun/HiTIPS_paper_data/fig_5/kpnb1/exp2/AssayPlate_PerkinElmer_CellCarrier-384 Ultra_F11_T0222F004L01A01Z01C01.tif\n",
      "/data2/varun/HiTIPS_paper_data/fig_5/kpnb1/exp2/AssayPlate_PerkinElmer_CellCarrier-384 Ultra_F11_T0222F006L01A01Z01C01.tif\n",
      "/data2/varun/HiTIPS_paper_data/fig_5/kpnb1/exp2/AssayPlate_PerkinElmer_CellCarrier-384 Ultra_F11_T0222F007L01A01Z01C01.tif\n",
      "/data2/varun/HiTIPS_paper_data/fig_5/kpnb1/exp2/AssayPlate_PerkinElmer_CellCarrier-384 Ultra_F11_T0222F009L01A01Z01C01.tif\n",
      "/data2/varun/HiTIPS_paper_data/fig_5/kpnb1/exp2/AssayPlate_PerkinElmer_CellCarrier-384 Ultra_F11_T0223F002L01A01Z01C01.tif\n",
      "/data2/varun/HiTIPS_paper_data/fig_5/kpnb1/exp2/AssayPlate_PerkinElmer_CellCarrier-384 Ultra_F11_T0222F008L01A01Z01C01.tif\n",
      "/data2/varun/HiTIPS_paper_data/fig_5/kpnb1/exp2/AssayPlate_PerkinElmer_CellCarrier-384 Ultra_F11_T0223F001L01A01Z01C01.tif\n",
      "/data2/varun/HiTIPS_paper_data/fig_5/kpnb1/exp2/AssayPlate_PerkinElmer_CellCarrier-384 Ultra_F11_T0223F004L01A01Z01C01.tif\n",
      "/data2/varun/HiTIPS_paper_data/fig_5/kpnb1/exp2/AssayPlate_PerkinElmer_CellCarrier-384 Ultra_F11_T0223F006L01A01Z01C01.tif\n",
      "/data2/varun/HiTIPS_paper_data/fig_5/kpnb1/exp2/AssayPlate_PerkinElmer_CellCarrier-384 Ultra_F11_T0223F005L01A01Z01C01.tif\n",
      "/data2/varun/HiTIPS_paper_data/fig_5/kpnb1/exp2/AssayPlate_PerkinElmer_CellCarrier-384 Ultra_F11_T0223F003L01A01Z01C01.tif\n",
      "/data2/varun/HiTIPS_paper_data/fig_5/kpnb1/exp2/AssayPlate_PerkinElmer_CellCarrier-384 Ultra_F11_T0223F008L01A01Z01C01.tif\n",
      "/data2/varun/HiTIPS_paper_data/fig_5/kpnb1/exp2/AssayPlate_PerkinElmer_CellCarrier-384 Ultra_F11_T0223F009L01A01Z01C01.tif\n",
      "/data2/varun/HiTIPS_paper_data/fig_5/kpnb1/exp2/AssayPlate_PerkinElmer_CellCarrier-384 Ultra_F11_T0223F007L01A01Z01C01.tif\n",
      "/data2/varun/HiTIPS_paper_data/fig_5/kpnb1/exp2/AssayPlate_PerkinElmer_CellCarrier-384 Ultra_F11_T0224F001L01A01Z01C01.tif\n",
      "/data2/varun/HiTIPS_paper_data/fig_5/kpnb1/exp2/AssayPlate_PerkinElmer_CellCarrier-384 Ultra_F11_T0224F004L01A01Z01C01.tif\n",
      "/data2/varun/HiTIPS_paper_data/fig_5/kpnb1/exp2/AssayPlate_PerkinElmer_CellCarrier-384 Ultra_F11_T0224F005L01A01Z01C01.tif\n",
      "/data2/varun/HiTIPS_paper_data/fig_5/kpnb1/exp2/AssayPlate_PerkinElmer_CellCarrier-384 Ultra_F11_T0224F002L01A01Z01C01.tif/data2/varun/HiTIPS_paper_data/fig_5/kpnb1/exp2/AssayPlate_PerkinElmer_CellCarrier-384 Ultra_F11_T0224F003L01A01Z01C01.tif\n",
      "\n",
      "/data2/varun/HiTIPS_paper_data/fig_5/kpnb1/exp2/AssayPlate_PerkinElmer_CellCarrier-384 Ultra_F11_T0224F007L01A01Z01C01.tif\n",
      "/data2/varun/HiTIPS_paper_data/fig_5/kpnb1/exp2/AssayPlate_PerkinElmer_CellCarrier-384 Ultra_F11_T0224F006L01A01Z01C01.tif\n",
      "/data2/varun/HiTIPS_paper_data/fig_5/kpnb1/exp2/AssayPlate_PerkinElmer_CellCarrier-384 Ultra_F11_T0224F008L01A01Z01C01.tif\n",
      "/data2/varun/HiTIPS_paper_data/fig_5/kpnb1/exp2/AssayPlate_PerkinElmer_CellCarrier-384 Ultra_F11_T0224F009L01A01Z01C01.tif\n",
      "/data2/varun/HiTIPS_paper_data/fig_5/kpnb1/exp2/AssayPlate_PerkinElmer_CellCarrier-384 Ultra_F11_T0225F002L01A01Z01C01.tif\n",
      "/data2/varun/HiTIPS_paper_data/fig_5/kpnb1/exp2/AssayPlate_PerkinElmer_CellCarrier-384 Ultra_F11_T0225F003L01A01Z01C01.tif\n",
      "/data2/varun/HiTIPS_paper_data/fig_5/kpnb1/exp2/AssayPlate_PerkinElmer_CellCarrier-384 Ultra_F11_T0225F004L01A01Z01C01.tif\n",
      "/data2/varun/HiTIPS_paper_data/fig_5/kpnb1/exp2/AssayPlate_PerkinElmer_CellCarrier-384 Ultra_F11_T0225F001L01A01Z01C01.tif\n",
      "/data2/varun/HiTIPS_paper_data/fig_5/kpnb1/exp2/AssayPlate_PerkinElmer_CellCarrier-384 Ultra_F11_T0225F006L01A01Z01C01.tif\n",
      "/data2/varun/HiTIPS_paper_data/fig_5/kpnb1/exp2/AssayPlate_PerkinElmer_CellCarrier-384 Ultra_F11_T0225F008L01A01Z01C01.tif\n",
      "/data2/varun/HiTIPS_paper_data/fig_5/kpnb1/exp2/AssayPlate_PerkinElmer_CellCarrier-384 Ultra_F11_T0225F005L01A01Z01C01.tif/data2/varun/HiTIPS_paper_data/fig_5/kpnb1/exp2/AssayPlate_PerkinElmer_CellCarrier-384 Ultra_F11_T0225F007L01A01Z01C01.tif\n",
      "\n",
      "/data2/varun/HiTIPS_paper_data/fig_5/kpnb1/exp2/AssayPlate_PerkinElmer_CellCarrier-384 Ultra_F11_T0226F001L01A01Z01C01.tif\n",
      "/data2/varun/HiTIPS_paper_data/fig_5/kpnb1/exp2/AssayPlate_PerkinElmer_CellCarrier-384 Ultra_F11_T0226F003L01A01Z01C01.tif\n",
      "/data2/varun/HiTIPS_paper_data/fig_5/kpnb1/exp2/AssayPlate_PerkinElmer_CellCarrier-384 Ultra_F11_T0226F002L01A01Z01C01.tif\n",
      "/data2/varun/HiTIPS_paper_data/fig_5/kpnb1/exp2/AssayPlate_PerkinElmer_CellCarrier-384 Ultra_F11_T0225F009L01A01Z01C01.tif\n",
      "/data2/varun/HiTIPS_paper_data/fig_5/kpnb1/exp2/AssayPlate_PerkinElmer_CellCarrier-384 Ultra_F11_T0226F005L01A01Z01C01.tif\n",
      "/data2/varun/HiTIPS_paper_data/fig_5/kpnb1/exp2/AssayPlate_PerkinElmer_CellCarrier-384 Ultra_F11_T0226F007L01A01Z01C01.tif\n",
      "/data2/varun/HiTIPS_paper_data/fig_5/kpnb1/exp2/AssayPlate_PerkinElmer_CellCarrier-384 Ultra_F11_T0226F004L01A01Z01C01.tif\n",
      "/data2/varun/HiTIPS_paper_data/fig_5/kpnb1/exp2/AssayPlate_PerkinElmer_CellCarrier-384 Ultra_F11_T0226F006L01A01Z01C01.tif\n",
      "/data2/varun/HiTIPS_paper_data/fig_5/kpnb1/exp2/AssayPlate_PerkinElmer_CellCarrier-384 Ultra_F11_T0226F009L01A01Z01C01.tif\n",
      "/data2/varun/HiTIPS_paper_data/fig_5/kpnb1/exp2/AssayPlate_PerkinElmer_CellCarrier-384 Ultra_F11_T0227F001L01A01Z01C01.tif\n",
      "/data2/varun/HiTIPS_paper_data/fig_5/kpnb1/exp2/AssayPlate_PerkinElmer_CellCarrier-384 Ultra_F11_T0227F002L01A01Z01C01.tif\n",
      "/data2/varun/HiTIPS_paper_data/fig_5/kpnb1/exp2/AssayPlate_PerkinElmer_CellCarrier-384 Ultra_F11_T0226F008L01A01Z01C01.tif\n",
      "/data2/varun/HiTIPS_paper_data/fig_5/kpnb1/exp2/AssayPlate_PerkinElmer_CellCarrier-384 Ultra_F11_T0227F004L01A01Z01C01.tif\n",
      "/data2/varun/HiTIPS_paper_data/fig_5/kpnb1/exp2/AssayPlate_PerkinElmer_CellCarrier-384 Ultra_F11_T0227F006L01A01Z01C01.tif\n",
      "/data2/varun/HiTIPS_paper_data/fig_5/kpnb1/exp2/AssayPlate_PerkinElmer_CellCarrier-384 Ultra_F11_T0227F003L01A01Z01C01.tif\n",
      "/data2/varun/HiTIPS_paper_data/fig_5/kpnb1/exp2/AssayPlate_PerkinElmer_CellCarrier-384 Ultra_F11_T0227F005L01A01Z01C01.tif\n",
      "/data2/varun/HiTIPS_paper_data/fig_5/kpnb1/exp2/AssayPlate_PerkinElmer_CellCarrier-384 Ultra_F11_T0227F008L01A01Z01C01.tif\n",
      "/data2/varun/HiTIPS_paper_data/fig_5/kpnb1/exp2/AssayPlate_PerkinElmer_CellCarrier-384 Ultra_F11_T0227F009L01A01Z01C01.tif\n",
      "/data2/varun/HiTIPS_paper_data/fig_5/kpnb1/exp2/AssayPlate_PerkinElmer_CellCarrier-384 Ultra_F11_T0227F007L01A01Z01C01.tif\n",
      "/data2/varun/HiTIPS_paper_data/fig_5/kpnb1/exp2/AssayPlate_PerkinElmer_CellCarrier-384 Ultra_F11_T0228F001L01A01Z01C01.tif\n",
      "/data2/varun/HiTIPS_paper_data/fig_5/kpnb1/exp2/AssayPlate_PerkinElmer_CellCarrier-384 Ultra_F11_T0228F003L01A01Z01C01.tif\n",
      "/data2/varun/HiTIPS_paper_data/fig_5/kpnb1/exp2/AssayPlate_PerkinElmer_CellCarrier-384 Ultra_F11_T0228F002L01A01Z01C01.tif\n",
      "/data2/varun/HiTIPS_paper_data/fig_5/kpnb1/exp2/AssayPlate_PerkinElmer_CellCarrier-384 Ultra_F11_T0228F005L01A01Z01C01.tif\n",
      "/data2/varun/HiTIPS_paper_data/fig_5/kpnb1/exp2/AssayPlate_PerkinElmer_CellCarrier-384 Ultra_F11_T0228F004L01A01Z01C01.tif\n",
      "/data2/varun/HiTIPS_paper_data/fig_5/kpnb1/exp2/AssayPlate_PerkinElmer_CellCarrier-384 Ultra_F11_T0228F007L01A01Z01C01.tif\n",
      "/data2/varun/HiTIPS_paper_data/fig_5/kpnb1/exp2/AssayPlate_PerkinElmer_CellCarrier-384 Ultra_F11_T0228F006L01A01Z01C01.tif\n",
      "/data2/varun/HiTIPS_paper_data/fig_5/kpnb1/exp2/AssayPlate_PerkinElmer_CellCarrier-384 Ultra_F11_T0228F008L01A01Z01C01.tif\n",
      "/data2/varun/HiTIPS_paper_data/fig_5/kpnb1/exp2/AssayPlate_PerkinElmer_CellCarrier-384 Ultra_F11_T0228F009L01A01Z01C01.tif\n",
      "/data2/varun/HiTIPS_paper_data/fig_5/kpnb1/exp2/AssayPlate_PerkinElmer_CellCarrier-384 Ultra_F11_T0229F002L01A01Z01C01.tif\n",
      "/data2/varun/HiTIPS_paper_data/fig_5/kpnb1/exp2/AssayPlate_PerkinElmer_CellCarrier-384 Ultra_F11_T0229F001L01A01Z01C01.tif\n",
      "/data2/varun/HiTIPS_paper_data/fig_5/kpnb1/exp2/AssayPlate_PerkinElmer_CellCarrier-384 Ultra_F11_T0229F004L01A01Z01C01.tif\n",
      "/data2/varun/HiTIPS_paper_data/fig_5/kpnb1/exp2/AssayPlate_PerkinElmer_CellCarrier-384 Ultra_F11_T0229F003L01A01Z01C01.tif\n",
      "/data2/varun/HiTIPS_paper_data/fig_5/kpnb1/exp2/AssayPlate_PerkinElmer_CellCarrier-384 Ultra_F11_T0229F006L01A01Z01C01.tif\n",
      "/data2/varun/HiTIPS_paper_data/fig_5/kpnb1/exp2/AssayPlate_PerkinElmer_CellCarrier-384 Ultra_F11_T0229F008L01A01Z01C01.tif\n",
      "/data2/varun/HiTIPS_paper_data/fig_5/kpnb1/exp2/AssayPlate_PerkinElmer_CellCarrier-384 Ultra_F11_T0229F005L01A01Z01C01.tif\n",
      "/data2/varun/HiTIPS_paper_data/fig_5/kpnb1/exp2/AssayPlate_PerkinElmer_CellCarrier-384 Ultra_F11_T0229F007L01A01Z01C01.tif\n",
      "/data2/varun/HiTIPS_paper_data/fig_5/kpnb1/exp2/AssayPlate_PerkinElmer_CellCarrier-384 Ultra_F11_T0230F001L01A01Z01C01.tif\n",
      "/data2/varun/HiTIPS_paper_data/fig_5/kpnb1/exp2/AssayPlate_PerkinElmer_CellCarrier-384 Ultra_F11_T0229F009L01A01Z01C01.tif\n",
      "/data2/varun/HiTIPS_paper_data/fig_5/kpnb1/exp2/AssayPlate_PerkinElmer_CellCarrier-384 Ultra_F11_T0230F002L01A01Z01C01.tif\n",
      "/data2/varun/HiTIPS_paper_data/fig_5/kpnb1/exp2/AssayPlate_PerkinElmer_CellCarrier-384 Ultra_F11_T0230F003L01A01Z01C01.tif\n",
      "/data2/varun/HiTIPS_paper_data/fig_5/kpnb1/exp2/AssayPlate_PerkinElmer_CellCarrier-384 Ultra_F11_T0230F005L01A01Z01C01.tif\n",
      "/data2/varun/HiTIPS_paper_data/fig_5/kpnb1/exp2/AssayPlate_PerkinElmer_CellCarrier-384 Ultra_F11_T0230F004L01A01Z01C01.tif\n",
      "/data2/varun/HiTIPS_paper_data/fig_5/kpnb1/exp2/AssayPlate_PerkinElmer_CellCarrier-384 Ultra_F11_T0230F006L01A01Z01C01.tif\n",
      "/data2/varun/HiTIPS_paper_data/fig_5/kpnb1/exp2/AssayPlate_PerkinElmer_CellCarrier-384 Ultra_F11_T0230F007L01A01Z01C01.tif\n",
      "/data2/varun/HiTIPS_paper_data/fig_5/kpnb1/exp2/AssayPlate_PerkinElmer_CellCarrier-384 Ultra_F11_T0231F001L01A01Z01C01.tif\n",
      "/data2/varun/HiTIPS_paper_data/fig_5/kpnb1/exp2/AssayPlate_PerkinElmer_CellCarrier-384 Ultra_F11_T0230F009L01A01Z01C01.tif\n",
      "/data2/varun/HiTIPS_paper_data/fig_5/kpnb1/exp2/AssayPlate_PerkinElmer_CellCarrier-384 Ultra_F11_T0230F008L01A01Z01C01.tif\n",
      "/data2/varun/HiTIPS_paper_data/fig_5/kpnb1/exp2/AssayPlate_PerkinElmer_CellCarrier-384 Ultra_F11_T0231F002L01A01Z01C01.tif\n",
      "/data2/varun/HiTIPS_paper_data/fig_5/kpnb1/exp2/AssayPlate_PerkinElmer_CellCarrier-384 Ultra_F11_T0231F004L01A01Z01C01.tif\n",
      "/data2/varun/HiTIPS_paper_data/fig_5/kpnb1/exp2/AssayPlate_PerkinElmer_CellCarrier-384 Ultra_F11_T0231F003L01A01Z01C01.tif\n",
      "/data2/varun/HiTIPS_paper_data/fig_5/kpnb1/exp2/AssayPlate_PerkinElmer_CellCarrier-384 Ultra_F11_T0231F006L01A01Z01C01.tif\n",
      "/data2/varun/HiTIPS_paper_data/fig_5/kpnb1/exp2/AssayPlate_PerkinElmer_CellCarrier-384 Ultra_F11_T0231F005L01A01Z01C01.tif\n",
      "/data2/varun/HiTIPS_paper_data/fig_5/kpnb1/exp2/AssayPlate_PerkinElmer_CellCarrier-384 Ultra_F11_T0231F008L01A01Z01C01.tif\n",
      "/data2/varun/HiTIPS_paper_data/fig_5/kpnb1/exp2/AssayPlate_PerkinElmer_CellCarrier-384 Ultra_F11_T0232F001L01A01Z01C01.tif\n",
      "/data2/varun/HiTIPS_paper_data/fig_5/kpnb1/exp2/AssayPlate_PerkinElmer_CellCarrier-384 Ultra_F11_T0231F007L01A01Z01C01.tif\n",
      "/data2/varun/HiTIPS_paper_data/fig_5/kpnb1/exp2/AssayPlate_PerkinElmer_CellCarrier-384 Ultra_F11_T0231F009L01A01Z01C01.tif\n",
      "/data2/varun/HiTIPS_paper_data/fig_5/kpnb1/exp2/AssayPlate_PerkinElmer_CellCarrier-384 Ultra_F11_T0232F003L01A01Z01C01.tif\n",
      "/data2/varun/HiTIPS_paper_data/fig_5/kpnb1/exp2/AssayPlate_PerkinElmer_CellCarrier-384 Ultra_F11_T0232F002L01A01Z01C01.tif\n",
      "/data2/varun/HiTIPS_paper_data/fig_5/kpnb1/exp2/AssayPlate_PerkinElmer_CellCarrier-384 Ultra_F11_T0232F005L01A01Z01C01.tif\n",
      "/data2/varun/HiTIPS_paper_data/fig_5/kpnb1/exp2/AssayPlate_PerkinElmer_CellCarrier-384 Ultra_F11_T0232F004L01A01Z01C01.tif\n",
      "/data2/varun/HiTIPS_paper_data/fig_5/kpnb1/exp2/AssayPlate_PerkinElmer_CellCarrier-384 Ultra_F11_T0232F008L01A01Z01C01.tif\n",
      "/data2/varun/HiTIPS_paper_data/fig_5/kpnb1/exp2/AssayPlate_PerkinElmer_CellCarrier-384 Ultra_F11_T0232F007L01A01Z01C01.tif\n",
      "/data2/varun/HiTIPS_paper_data/fig_5/kpnb1/exp2/AssayPlate_PerkinElmer_CellCarrier-384 Ultra_F11_T0232F009L01A01Z01C01.tif\n",
      "/data2/varun/HiTIPS_paper_data/fig_5/kpnb1/exp2/AssayPlate_PerkinElmer_CellCarrier-384 Ultra_F11_T0232F006L01A01Z01C01.tif\n",
      "/data2/varun/HiTIPS_paper_data/fig_5/kpnb1/exp2/AssayPlate_PerkinElmer_CellCarrier-384 Ultra_F11_T0233F002L01A01Z01C01.tif\n",
      "/data2/varun/HiTIPS_paper_data/fig_5/kpnb1/exp2/AssayPlate_PerkinElmer_CellCarrier-384 Ultra_F11_T0233F004L01A01Z01C01.tif\n",
      "/data2/varun/HiTIPS_paper_data/fig_5/kpnb1/exp2/AssayPlate_PerkinElmer_CellCarrier-384 Ultra_F11_T0233F001L01A01Z01C01.tif\n",
      "/data2/varun/HiTIPS_paper_data/fig_5/kpnb1/exp2/AssayPlate_PerkinElmer_CellCarrier-384 Ultra_F11_T0233F003L01A01Z01C01.tif\n",
      "/data2/varun/HiTIPS_paper_data/fig_5/kpnb1/exp2/AssayPlate_PerkinElmer_CellCarrier-384 Ultra_F11_T0233F008L01A01Z01C01.tif\n",
      "/data2/varun/HiTIPS_paper_data/fig_5/kpnb1/exp2/AssayPlate_PerkinElmer_CellCarrier-384 Ultra_F11_T0233F006L01A01Z01C01.tif\n",
      "/data2/varun/HiTIPS_paper_data/fig_5/kpnb1/exp2/AssayPlate_PerkinElmer_CellCarrier-384 Ultra_F11_T0233F005L01A01Z01C01.tif\n",
      "/data2/varun/HiTIPS_paper_data/fig_5/kpnb1/exp2/AssayPlate_PerkinElmer_CellCarrier-384 Ultra_F11_T0233F007L01A01Z01C01.tif\n",
      "/data2/varun/HiTIPS_paper_data/fig_5/kpnb1/exp2/AssayPlate_PerkinElmer_CellCarrier-384 Ultra_F11_T0234F003L01A01Z01C01.tif\n",
      "/data2/varun/HiTIPS_paper_data/fig_5/kpnb1/exp2/AssayPlate_PerkinElmer_CellCarrier-384 Ultra_F11_T0234F002L01A01Z01C01.tif\n",
      "/data2/varun/HiTIPS_paper_data/fig_5/kpnb1/exp2/AssayPlate_PerkinElmer_CellCarrier-384 Ultra_F11_T0234F001L01A01Z01C01.tif\n",
      "/data2/varun/HiTIPS_paper_data/fig_5/kpnb1/exp2/AssayPlate_PerkinElmer_CellCarrier-384 Ultra_F11_T0233F009L01A01Z01C01.tif\n",
      "/data2/varun/HiTIPS_paper_data/fig_5/kpnb1/exp2/AssayPlate_PerkinElmer_CellCarrier-384 Ultra_F11_T0234F005L01A01Z01C01.tif\n",
      "/data2/varun/HiTIPS_paper_data/fig_5/kpnb1/exp2/AssayPlate_PerkinElmer_CellCarrier-384 Ultra_F11_T0234F006L01A01Z01C01.tif\n",
      "/data2/varun/HiTIPS_paper_data/fig_5/kpnb1/exp2/AssayPlate_PerkinElmer_CellCarrier-384 Ultra_F11_T0234F004L01A01Z01C01.tif\n",
      "/data2/varun/HiTIPS_paper_data/fig_5/kpnb1/exp2/AssayPlate_PerkinElmer_CellCarrier-384 Ultra_F11_T0234F007L01A01Z01C01.tif\n",
      "/data2/varun/HiTIPS_paper_data/fig_5/kpnb1/exp2/AssayPlate_PerkinElmer_CellCarrier-384 Ultra_F11_T0234F009L01A01Z01C01.tif\n",
      "/data2/varun/HiTIPS_paper_data/fig_5/kpnb1/exp2/AssayPlate_PerkinElmer_CellCarrier-384 Ultra_F11_T0235F002L01A01Z01C01.tif\n",
      "/data2/varun/HiTIPS_paper_data/fig_5/kpnb1/exp2/AssayPlate_PerkinElmer_CellCarrier-384 Ultra_F11_T0235F001L01A01Z01C01.tif\n",
      "/data2/varun/HiTIPS_paper_data/fig_5/kpnb1/exp2/AssayPlate_PerkinElmer_CellCarrier-384 Ultra_F11_T0234F008L01A01Z01C01.tif\n",
      "/data2/varun/HiTIPS_paper_data/fig_5/kpnb1/exp2/AssayPlate_PerkinElmer_CellCarrier-384 Ultra_F11_T0235F005L01A01Z01C01.tif\n",
      "/data2/varun/HiTIPS_paper_data/fig_5/kpnb1/exp2/AssayPlate_PerkinElmer_CellCarrier-384 Ultra_F11_T0235F004L01A01Z01C01.tif\n",
      "/data2/varun/HiTIPS_paper_data/fig_5/kpnb1/exp2/AssayPlate_PerkinElmer_CellCarrier-384 Ultra_F11_T0235F006L01A01Z01C01.tif\n",
      "/data2/varun/HiTIPS_paper_data/fig_5/kpnb1/exp2/AssayPlate_PerkinElmer_CellCarrier-384 Ultra_F11_T0235F003L01A01Z01C01.tif\n",
      "/data2/varun/HiTIPS_paper_data/fig_5/kpnb1/exp2/AssayPlate_PerkinElmer_CellCarrier-384 Ultra_F11_T0235F008L01A01Z01C01.tif\n",
      "/data2/varun/HiTIPS_paper_data/fig_5/kpnb1/exp2/AssayPlate_PerkinElmer_CellCarrier-384 Ultra_F11_T0235F009L01A01Z01C01.tif\n",
      "/data2/varun/HiTIPS_paper_data/fig_5/kpnb1/exp2/AssayPlate_PerkinElmer_CellCarrier-384 Ultra_F11_T0235F007L01A01Z01C01.tif\n",
      "/data2/varun/HiTIPS_paper_data/fig_5/kpnb1/exp2/AssayPlate_PerkinElmer_CellCarrier-384 Ultra_F11_T0236F001L01A01Z01C01.tif\n",
      "/data2/varun/HiTIPS_paper_data/fig_5/kpnb1/exp2/AssayPlate_PerkinElmer_CellCarrier-384 Ultra_F11_T0236F003L01A01Z01C01.tif\n",
      "/data2/varun/HiTIPS_paper_data/fig_5/kpnb1/exp2/AssayPlate_PerkinElmer_CellCarrier-384 Ultra_F11_T0236F002L01A01Z01C01.tif\n",
      "/data2/varun/HiTIPS_paper_data/fig_5/kpnb1/exp2/AssayPlate_PerkinElmer_CellCarrier-384 Ultra_F11_T0236F004L01A01Z01C01.tif\n",
      "/data2/varun/HiTIPS_paper_data/fig_5/kpnb1/exp2/AssayPlate_PerkinElmer_CellCarrier-384 Ultra_F11_T0236F005L01A01Z01C01.tif\n",
      "/data2/varun/HiTIPS_paper_data/fig_5/kpnb1/exp2/AssayPlate_PerkinElmer_CellCarrier-384 Ultra_F11_T0236F008L01A01Z01C01.tif\n",
      "/data2/varun/HiTIPS_paper_data/fig_5/kpnb1/exp2/AssayPlate_PerkinElmer_CellCarrier-384 Ultra_F11_T0236F007L01A01Z01C01.tif\n",
      "/data2/varun/HiTIPS_paper_data/fig_5/kpnb1/exp2/AssayPlate_PerkinElmer_CellCarrier-384 Ultra_F11_T0236F006L01A01Z01C01.tif\n",
      "/data2/varun/HiTIPS_paper_data/fig_5/kpnb1/exp2/AssayPlate_PerkinElmer_CellCarrier-384 Ultra_F11_T0236F009L01A01Z01C01.tif\n",
      "/data2/varun/HiTIPS_paper_data/fig_5/kpnb1/exp2/AssayPlate_PerkinElmer_CellCarrier-384 Ultra_F11_T0237F001L01A01Z01C01.tif\n",
      "/data2/varun/HiTIPS_paper_data/fig_5/kpnb1/exp2/AssayPlate_PerkinElmer_CellCarrier-384 Ultra_F11_T0237F002L01A01Z01C01.tif\n",
      "/data2/varun/HiTIPS_paper_data/fig_5/kpnb1/exp2/AssayPlate_PerkinElmer_CellCarrier-384 Ultra_F11_T0237F003L01A01Z01C01.tif\n",
      "/data2/varun/HiTIPS_paper_data/fig_5/kpnb1/exp2/AssayPlate_PerkinElmer_CellCarrier-384 Ultra_F11_T0237F004L01A01Z01C01.tif\n",
      "/data2/varun/HiTIPS_paper_data/fig_5/kpnb1/exp2/AssayPlate_PerkinElmer_CellCarrier-384 Ultra_F11_T0237F006L01A01Z01C01.tif\n",
      "/data2/varun/HiTIPS_paper_data/fig_5/kpnb1/exp2/AssayPlate_PerkinElmer_CellCarrier-384 Ultra_F11_T0237F008L01A01Z01C01.tif\n",
      "/data2/varun/HiTIPS_paper_data/fig_5/kpnb1/exp2/AssayPlate_PerkinElmer_CellCarrier-384 Ultra_F11_T0237F007L01A01Z01C01.tif\n",
      "/data2/varun/HiTIPS_paper_data/fig_5/kpnb1/exp2/AssayPlate_PerkinElmer_CellCarrier-384 Ultra_F11_T0237F005L01A01Z01C01.tif\n",
      "/data2/varun/HiTIPS_paper_data/fig_5/kpnb1/exp2/AssayPlate_PerkinElmer_CellCarrier-384 Ultra_F11_T0238F001L01A01Z01C01.tif\n",
      "/data2/varun/HiTIPS_paper_data/fig_5/kpnb1/exp2/AssayPlate_PerkinElmer_CellCarrier-384 Ultra_F11_T0238F002L01A01Z01C01.tif\n",
      "/data2/varun/HiTIPS_paper_data/fig_5/kpnb1/exp2/AssayPlate_PerkinElmer_CellCarrier-384 Ultra_F11_T0237F009L01A01Z01C01.tif\n",
      "/data2/varun/HiTIPS_paper_data/fig_5/kpnb1/exp2/AssayPlate_PerkinElmer_CellCarrier-384 Ultra_F11_T0238F003L01A01Z01C01.tif\n",
      "/data2/varun/HiTIPS_paper_data/fig_5/kpnb1/exp2/AssayPlate_PerkinElmer_CellCarrier-384 Ultra_F11_T0238F005L01A01Z01C01.tif\n",
      "/data2/varun/HiTIPS_paper_data/fig_5/kpnb1/exp2/AssayPlate_PerkinElmer_CellCarrier-384 Ultra_F11_T0238F007L01A01Z01C01.tif\n",
      "/data2/varun/HiTIPS_paper_data/fig_5/kpnb1/exp2/AssayPlate_PerkinElmer_CellCarrier-384 Ultra_F11_T0238F004L01A01Z01C01.tif\n",
      "/data2/varun/HiTIPS_paper_data/fig_5/kpnb1/exp2/AssayPlate_PerkinElmer_CellCarrier-384 Ultra_F11_T0238F006L01A01Z01C01.tif\n",
      "/data2/varun/HiTIPS_paper_data/fig_5/kpnb1/exp2/AssayPlate_PerkinElmer_CellCarrier-384 Ultra_F11_T0239F002L01A01Z01C01.tif\n",
      "/data2/varun/HiTIPS_paper_data/fig_5/kpnb1/exp2/AssayPlate_PerkinElmer_CellCarrier-384 Ultra_F11_T0238F009L01A01Z01C01.tif\n",
      "/data2/varun/HiTIPS_paper_data/fig_5/kpnb1/exp2/AssayPlate_PerkinElmer_CellCarrier-384 Ultra_F11_T0239F001L01A01Z01C01.tif\n",
      "/data2/varun/HiTIPS_paper_data/fig_5/kpnb1/exp2/AssayPlate_PerkinElmer_CellCarrier-384 Ultra_F11_T0238F008L01A01Z01C01.tif\n",
      "/data2/varun/HiTIPS_paper_data/fig_5/kpnb1/exp2/AssayPlate_PerkinElmer_CellCarrier-384 Ultra_F11_T0239F004L01A01Z01C01.tif\n",
      "/data2/varun/HiTIPS_paper_data/fig_5/kpnb1/exp2/AssayPlate_PerkinElmer_CellCarrier-384 Ultra_F11_T0239F006L01A01Z01C01.tif\n",
      "/data2/varun/HiTIPS_paper_data/fig_5/kpnb1/exp2/AssayPlate_PerkinElmer_CellCarrier-384 Ultra_F11_T0239F005L01A01Z01C01.tif\n",
      "/data2/varun/HiTIPS_paper_data/fig_5/kpnb1/exp2/AssayPlate_PerkinElmer_CellCarrier-384 Ultra_F11_T0239F003L01A01Z01C01.tif\n",
      "/data2/varun/HiTIPS_paper_data/fig_5/kpnb1/exp2/AssayPlate_PerkinElmer_CellCarrier-384 Ultra_F11_T0239F008L01A01Z01C01.tif\n",
      "/data2/varun/HiTIPS_paper_data/fig_5/kpnb1/exp2/AssayPlate_PerkinElmer_CellCarrier-384 Ultra_F11_T0239F009L01A01Z01C01.tif\n",
      "/data2/varun/HiTIPS_paper_data/fig_5/kpnb1/exp2/AssayPlate_PerkinElmer_CellCarrier-384 Ultra_F11_T0240F001L01A01Z01C01.tif\n",
      "/data2/varun/HiTIPS_paper_data/fig_5/kpnb1/exp2/AssayPlate_PerkinElmer_CellCarrier-384 Ultra_F11_T0239F007L01A01Z01C01.tif\n",
      "/data2/varun/HiTIPS_paper_data/fig_5/kpnb1/exp2/AssayPlate_PerkinElmer_CellCarrier-384 Ultra_F11_T0240F005L01A01Z01C01.tif\n",
      "/data2/varun/HiTIPS_paper_data/fig_5/kpnb1/exp2/AssayPlate_PerkinElmer_CellCarrier-384 Ultra_F11_T0240F004L01A01Z01C01.tif\n",
      "/data2/varun/HiTIPS_paper_data/fig_5/kpnb1/exp2/AssayPlate_PerkinElmer_CellCarrier-384 Ultra_F11_T0240F002L01A01Z01C01.tif\n",
      "/data2/varun/HiTIPS_paper_data/fig_5/kpnb1/exp2/AssayPlate_PerkinElmer_CellCarrier-384 Ultra_F11_T0240F003L01A01Z01C01.tif\n",
      "/data2/varun/HiTIPS_paper_data/fig_5/kpnb1/exp2/AssayPlate_PerkinElmer_CellCarrier-384 Ultra_F11_T0240F007L01A01Z01C01.tif\n",
      "/data2/varun/HiTIPS_paper_data/fig_5/kpnb1/exp2/AssayPlate_PerkinElmer_CellCarrier-384 Ultra_F11_T0240F006L01A01Z01C01.tif\n",
      "/data2/varun/HiTIPS_paper_data/fig_5/kpnb1/exp2/AssayPlate_PerkinElmer_CellCarrier-384 Ultra_F11_T0240F008L01A01Z01C01.tif\n",
      "/data2/varun/HiTIPS_paper_data/fig_5/kpnb1/exp2/AssayPlate_PerkinElmer_CellCarrier-384 Ultra_F11_T0240F009L01A01Z01C01.tif\n",
      "/data2/varun/HiTIPS_paper_data/fig_5/kpnb1/exp2/AssayPlate_PerkinElmer_CellCarrier-384 Ultra_F11_T0241F002L01A01Z01C01.tif\n",
      "/data2/varun/HiTIPS_paper_data/fig_5/kpnb1/exp2/AssayPlate_PerkinElmer_CellCarrier-384 Ultra_F11_T0241F004L01A01Z01C01.tif\n",
      "/data2/varun/HiTIPS_paper_data/fig_5/kpnb1/exp2/AssayPlate_PerkinElmer_CellCarrier-384 Ultra_F11_T0241F001L01A01Z01C01.tif\n",
      "/data2/varun/HiTIPS_paper_data/fig_5/kpnb1/exp2/AssayPlate_PerkinElmer_CellCarrier-384 Ultra_F11_T0241F003L01A01Z01C01.tif\n",
      "/data2/varun/HiTIPS_paper_data/fig_5/kpnb1/exp2/AssayPlate_PerkinElmer_CellCarrier-384 Ultra_F11_T0241F006L01A01Z01C01.tif\n",
      "/data2/varun/HiTIPS_paper_data/fig_5/kpnb1/exp2/AssayPlate_PerkinElmer_CellCarrier-384 Ultra_F11_T0241F008L01A01Z01C01.tif\n",
      "/data2/varun/HiTIPS_paper_data/fig_5/kpnb1/exp2/AssayPlate_PerkinElmer_CellCarrier-384 Ultra_F11_T0241F005L01A01Z01C01.tif\n",
      "/data2/varun/HiTIPS_paper_data/fig_5/kpnb1/exp2/AssayPlate_PerkinElmer_CellCarrier-384 Ultra_F11_T0241F007L01A01Z01C01.tif\n",
      "/data2/varun/HiTIPS_paper_data/fig_5/kpnb1/exp2/AssayPlate_PerkinElmer_CellCarrier-384 Ultra_F11_T0242F001L01A01Z01C01.tif\n",
      "/data2/varun/HiTIPS_paper_data/fig_5/kpnb1/exp2/AssayPlate_PerkinElmer_CellCarrier-384 Ultra_F11_T0242F002L01A01Z01C01.tif\n",
      "/data2/varun/HiTIPS_paper_data/fig_5/kpnb1/exp2/AssayPlate_PerkinElmer_CellCarrier-384 Ultra_F11_T0241F009L01A01Z01C01.tif\n",
      "/data2/varun/HiTIPS_paper_data/fig_5/kpnb1/exp2/AssayPlate_PerkinElmer_CellCarrier-384 Ultra_F11_T0242F003L01A01Z01C01.tif\n",
      "/data2/varun/HiTIPS_paper_data/fig_5/kpnb1/exp2/AssayPlate_PerkinElmer_CellCarrier-384 Ultra_F11_T0242F005L01A01Z01C01.tif\n",
      "/data2/varun/HiTIPS_paper_data/fig_5/kpnb1/exp2/AssayPlate_PerkinElmer_CellCarrier-384 Ultra_F11_T0242F006L01A01Z01C01.tif\n",
      "/data2/varun/HiTIPS_paper_data/fig_5/kpnb1/exp2/AssayPlate_PerkinElmer_CellCarrier-384 Ultra_F11_T0242F004L01A01Z01C01.tif\n",
      "/data2/varun/HiTIPS_paper_data/fig_5/kpnb1/exp2/AssayPlate_PerkinElmer_CellCarrier-384 Ultra_F11_T0242F007L01A01Z01C01.tif\n",
      "/data2/varun/HiTIPS_paper_data/fig_5/kpnb1/exp2/AssayPlate_PerkinElmer_CellCarrier-384 Ultra_F11_T0242F009L01A01Z01C01.tif\n",
      "/data2/varun/HiTIPS_paper_data/fig_5/kpnb1/exp2/AssayPlate_PerkinElmer_CellCarrier-384 Ultra_F11_T0243F001L01A01Z01C01.tif\n",
      "/data2/varun/HiTIPS_paper_data/fig_5/kpnb1/exp2/AssayPlate_PerkinElmer_CellCarrier-384 Ultra_F11_T0242F008L01A01Z01C01.tif\n",
      "/data2/varun/HiTIPS_paper_data/fig_5/kpnb1/exp2/AssayPlate_PerkinElmer_CellCarrier-384 Ultra_F11_T0243F002L01A01Z01C01.tif\n",
      "/data2/varun/HiTIPS_paper_data/fig_5/kpnb1/exp2/AssayPlate_PerkinElmer_CellCarrier-384 Ultra_F11_T0243F004L01A01Z01C01.tif\n",
      "/data2/varun/HiTIPS_paper_data/fig_5/kpnb1/exp2/AssayPlate_PerkinElmer_CellCarrier-384 Ultra_F11_T0243F003L01A01Z01C01.tif\n",
      "/data2/varun/HiTIPS_paper_data/fig_5/kpnb1/exp2/AssayPlate_PerkinElmer_CellCarrier-384 Ultra_F11_T0243F006L01A01Z01C01.tif\n",
      "/data2/varun/HiTIPS_paper_data/fig_5/kpnb1/exp2/AssayPlate_PerkinElmer_CellCarrier-384 Ultra_F11_T0243F005L01A01Z01C01.tif\n",
      "/data2/varun/HiTIPS_paper_data/fig_5/kpnb1/exp2/AssayPlate_PerkinElmer_CellCarrier-384 Ultra_F11_T0243F008L01A01Z01C01.tif\n",
      "/data2/varun/HiTIPS_paper_data/fig_5/kpnb1/exp2/AssayPlate_PerkinElmer_CellCarrier-384 Ultra_F11_T0243F007L01A01Z01C01.tif\n",
      "/data2/varun/HiTIPS_paper_data/fig_5/kpnb1/exp2/AssayPlate_PerkinElmer_CellCarrier-384 Ultra_F11_T0243F009L01A01Z01C01.tif\n",
      "/data2/varun/HiTIPS_paper_data/fig_5/kpnb1/exp2/AssayPlate_PerkinElmer_CellCarrier-384 Ultra_F11_T0244F001L01A01Z01C01.tif\n",
      "/data2/varun/HiTIPS_paper_data/fig_5/kpnb1/exp2/AssayPlate_PerkinElmer_CellCarrier-384 Ultra_F11_T0244F003L01A01Z01C01.tif\n",
      "/data2/varun/HiTIPS_paper_data/fig_5/kpnb1/exp2/AssayPlate_PerkinElmer_CellCarrier-384 Ultra_F11_T0244F005L01A01Z01C01.tif\n",
      "/data2/varun/HiTIPS_paper_data/fig_5/kpnb1/exp2/AssayPlate_PerkinElmer_CellCarrier-384 Ultra_F11_T0244F004L01A01Z01C01.tif\n",
      "/data2/varun/HiTIPS_paper_data/fig_5/kpnb1/exp2/AssayPlate_PerkinElmer_CellCarrier-384 Ultra_F11_T0244F002L01A01Z01C01.tif\n",
      "/data2/varun/HiTIPS_paper_data/fig_5/kpnb1/exp2/AssayPlate_PerkinElmer_CellCarrier-384 Ultra_F11_T0244F008L01A01Z01C01.tif\n",
      "/data2/varun/HiTIPS_paper_data/fig_5/kpnb1/exp2/AssayPlate_PerkinElmer_CellCarrier-384 Ultra_F11_T0244F007L01A01Z01C01.tif\n",
      "/data2/varun/HiTIPS_paper_data/fig_5/kpnb1/exp2/AssayPlate_PerkinElmer_CellCarrier-384 Ultra_F11_T0244F009L01A01Z01C01.tif\n",
      "/data2/varun/HiTIPS_paper_data/fig_5/kpnb1/exp2/AssayPlate_PerkinElmer_CellCarrier-384 Ultra_F11_T0244F006L01A01Z01C01.tif\n",
      "/data2/varun/HiTIPS_paper_data/fig_5/kpnb1/exp2/AssayPlate_PerkinElmer_CellCarrier-384 Ultra_F11_T0245F002L01A01Z01C01.tif\n",
      "/data2/varun/HiTIPS_paper_data/fig_5/kpnb1/exp2/AssayPlate_PerkinElmer_CellCarrier-384 Ultra_F11_T0245F001L01A01Z01C01.tif\n",
      "/data2/varun/HiTIPS_paper_data/fig_5/kpnb1/exp2/AssayPlate_PerkinElmer_CellCarrier-384 Ultra_F11_T0245F004L01A01Z01C01.tif\n",
      "/data2/varun/HiTIPS_paper_data/fig_5/kpnb1/exp2/AssayPlate_PerkinElmer_CellCarrier-384 Ultra_F11_T0245F003L01A01Z01C01.tif\n",
      "/data2/varun/HiTIPS_paper_data/fig_5/kpnb1/exp2/AssayPlate_PerkinElmer_CellCarrier-384 Ultra_F11_T0245F006L01A01Z01C01.tif\n",
      "/data2/varun/HiTIPS_paper_data/fig_5/kpnb1/exp2/AssayPlate_PerkinElmer_CellCarrier-384 Ultra_F11_T0245F007L01A01Z01C01.tif\n",
      "/data2/varun/HiTIPS_paper_data/fig_5/kpnb1/exp2/AssayPlate_PerkinElmer_CellCarrier-384 Ultra_F11_T0245F008L01A01Z01C01.tif\n",
      "/data2/varun/HiTIPS_paper_data/fig_5/kpnb1/exp2/AssayPlate_PerkinElmer_CellCarrier-384 Ultra_F11_T0245F005L01A01Z01C01.tif\n",
      "/data2/varun/HiTIPS_paper_data/fig_5/kpnb1/exp2/AssayPlate_PerkinElmer_CellCarrier-384 Ultra_F11_T0246F001L01A01Z01C01.tif\n",
      "/data2/varun/HiTIPS_paper_data/fig_5/kpnb1/exp2/AssayPlate_PerkinElmer_CellCarrier-384 Ultra_F11_T0246F002L01A01Z01C01.tif\n",
      "/data2/varun/HiTIPS_paper_data/fig_5/kpnb1/exp2/AssayPlate_PerkinElmer_CellCarrier-384 Ultra_F11_T0246F003L01A01Z01C01.tif\n",
      "/data2/varun/HiTIPS_paper_data/fig_5/kpnb1/exp2/AssayPlate_PerkinElmer_CellCarrier-384 Ultra_F11_T0245F009L01A01Z01C01.tif\n",
      "/data2/varun/HiTIPS_paper_data/fig_5/kpnb1/exp2/AssayPlate_PerkinElmer_CellCarrier-384 Ultra_F11_T0246F005L01A01Z01C01.tif\n",
      "/data2/varun/HiTIPS_paper_data/fig_5/kpnb1/exp2/AssayPlate_PerkinElmer_CellCarrier-384 Ultra_F11_T0246F007L01A01Z01C01.tif\n",
      "/data2/varun/HiTIPS_paper_data/fig_5/kpnb1/exp2/AssayPlate_PerkinElmer_CellCarrier-384 Ultra_F11_T0246F004L01A01Z01C01.tif\n",
      "/data2/varun/HiTIPS_paper_data/fig_5/kpnb1/exp2/AssayPlate_PerkinElmer_CellCarrier-384 Ultra_F11_T0246F006L01A01Z01C01.tif\n",
      "/data2/varun/HiTIPS_paper_data/fig_5/kpnb1/exp2/AssayPlate_PerkinElmer_CellCarrier-384 Ultra_F11_T0246F009L01A01Z01C01.tif\n",
      "/data2/varun/HiTIPS_paper_data/fig_5/kpnb1/exp2/AssayPlate_PerkinElmer_CellCarrier-384 Ultra_F11_T0246F008L01A01Z01C01.tif\n",
      "/data2/varun/HiTIPS_paper_data/fig_5/kpnb1/exp2/AssayPlate_PerkinElmer_CellCarrier-384 Ultra_F11_T0247F001L01A01Z01C01.tif\n",
      "/data2/varun/HiTIPS_paper_data/fig_5/kpnb1/exp2/AssayPlate_PerkinElmer_CellCarrier-384 Ultra_F11_T0247F002L01A01Z01C01.tif\n",
      "/data2/varun/HiTIPS_paper_data/fig_5/kpnb1/exp2/AssayPlate_PerkinElmer_CellCarrier-384 Ultra_F11_T0247F004L01A01Z01C01.tif\n",
      "/data2/varun/HiTIPS_paper_data/fig_5/kpnb1/exp2/AssayPlate_PerkinElmer_CellCarrier-384 Ultra_F11_T0247F005L01A01Z01C01.tif\n",
      "/data2/varun/HiTIPS_paper_data/fig_5/kpnb1/exp2/AssayPlate_PerkinElmer_CellCarrier-384 Ultra_F11_T0247F003L01A01Z01C01.tif\n",
      "/data2/varun/HiTIPS_paper_data/fig_5/kpnb1/exp2/AssayPlate_PerkinElmer_CellCarrier-384 Ultra_F11_T0247F006L01A01Z01C01.tif\n",
      "/data2/varun/HiTIPS_paper_data/fig_5/kpnb1/exp2/AssayPlate_PerkinElmer_CellCarrier-384 Ultra_F11_T0248F001L01A01Z01C01.tif\n",
      "/data2/varun/HiTIPS_paper_data/fig_5/kpnb1/exp2/AssayPlate_PerkinElmer_CellCarrier-384 Ultra_F11_T0247F008L01A01Z01C01.tif\n",
      "/data2/varun/HiTIPS_paper_data/fig_5/kpnb1/exp2/AssayPlate_PerkinElmer_CellCarrier-384 Ultra_F11_T0247F007L01A01Z01C01.tif\n",
      "/data2/varun/HiTIPS_paper_data/fig_5/kpnb1/exp2/AssayPlate_PerkinElmer_CellCarrier-384 Ultra_F11_T0247F009L01A01Z01C01.tif\n",
      "/data2/varun/HiTIPS_paper_data/fig_5/kpnb1/exp2/AssayPlate_PerkinElmer_CellCarrier-384 Ultra_F11_T0248F003L01A01Z01C01.tif\n",
      "/data2/varun/HiTIPS_paper_data/fig_5/kpnb1/exp2/AssayPlate_PerkinElmer_CellCarrier-384 Ultra_F11_T0248F004L01A01Z01C01.tif\n",
      "/data2/varun/HiTIPS_paper_data/fig_5/kpnb1/exp2/AssayPlate_PerkinElmer_CellCarrier-384 Ultra_F11_T0248F002L01A01Z01C01.tif\n",
      "/data2/varun/HiTIPS_paper_data/fig_5/kpnb1/exp2/AssayPlate_PerkinElmer_CellCarrier-384 Ultra_F11_T0248F005L01A01Z01C01.tif\n",
      "/data2/varun/HiTIPS_paper_data/fig_5/kpnb1/exp2/AssayPlate_PerkinElmer_CellCarrier-384 Ultra_F11_T0248F007L01A01Z01C01.tif\n",
      "/data2/varun/HiTIPS_paper_data/fig_5/kpnb1/exp2/AssayPlate_PerkinElmer_CellCarrier-384 Ultra_F11_T0248F006L01A01Z01C01.tif\n",
      "/data2/varun/HiTIPS_paper_data/fig_5/kpnb1/exp2/AssayPlate_PerkinElmer_CellCarrier-384 Ultra_F11_T0248F008L01A01Z01C01.tif\n",
      "/data2/varun/HiTIPS_paper_data/fig_5/kpnb1/exp2/AssayPlate_PerkinElmer_CellCarrier-384 Ultra_F11_T0248F009L01A01Z01C01.tif\n",
      "/data2/varun/HiTIPS_paper_data/fig_5/kpnb1/exp2/AssayPlate_PerkinElmer_CellCarrier-384 Ultra_F11_T0249F002L01A01Z01C01.tif\n",
      "/data2/varun/HiTIPS_paper_data/fig_5/kpnb1/exp2/AssayPlate_PerkinElmer_CellCarrier-384 Ultra_F11_T0249F004L01A01Z01C01.tif\n",
      "/data2/varun/HiTIPS_paper_data/fig_5/kpnb1/exp2/AssayPlate_PerkinElmer_CellCarrier-384 Ultra_F11_T0249F003L01A01Z01C01.tif\n",
      "/data2/varun/HiTIPS_paper_data/fig_5/kpnb1/exp2/AssayPlate_PerkinElmer_CellCarrier-384 Ultra_F11_T0249F001L01A01Z01C01.tif\n",
      "/data2/varun/HiTIPS_paper_data/fig_5/kpnb1/exp2/AssayPlate_PerkinElmer_CellCarrier-384 Ultra_F11_T0249F006L01A01Z01C01.tif\n",
      "/data2/varun/HiTIPS_paper_data/fig_5/kpnb1/exp2/AssayPlate_PerkinElmer_CellCarrier-384 Ultra_F11_T0249F008L01A01Z01C01.tif\n",
      "/data2/varun/HiTIPS_paper_data/fig_5/kpnb1/exp2/AssayPlate_PerkinElmer_CellCarrier-384 Ultra_F11_T0249F005L01A01Z01C01.tif\n",
      "/data2/varun/HiTIPS_paper_data/fig_5/kpnb1/exp2/AssayPlate_PerkinElmer_CellCarrier-384 Ultra_F11_T0249F007L01A01Z01C01.tif\n",
      "/data2/varun/HiTIPS_paper_data/fig_5/kpnb1/exp2/AssayPlate_PerkinElmer_CellCarrier-384 Ultra_F11_T0250F001L01A01Z01C01.tif\n",
      "/data2/varun/HiTIPS_paper_data/fig_5/kpnb1/exp2/AssayPlate_PerkinElmer_CellCarrier-384 Ultra_F11_T0250F002L01A01Z01C01.tif\n",
      "/data2/varun/HiTIPS_paper_data/fig_5/kpnb1/exp2/AssayPlate_PerkinElmer_CellCarrier-384 Ultra_F11_T0250F003L01A01Z01C01.tif\n",
      "/data2/varun/HiTIPS_paper_data/fig_5/kpnb1/exp2/AssayPlate_PerkinElmer_CellCarrier-384 Ultra_F11_T0249F009L01A01Z01C01.tif\n",
      "/data2/varun/HiTIPS_paper_data/fig_5/kpnb1/exp2/AssayPlate_PerkinElmer_CellCarrier-384 Ultra_F11_T0250F005L01A01Z01C01.tif\n",
      "/data2/varun/HiTIPS_paper_data/fig_5/kpnb1/exp2/AssayPlate_PerkinElmer_CellCarrier-384 Ultra_F11_T0250F004L01A01Z01C01.tif\n",
      "/data2/varun/HiTIPS_paper_data/fig_5/kpnb1/exp2/AssayPlate_PerkinElmer_CellCarrier-384 Ultra_F11_T0250F006L01A01Z01C01.tif\n",
      "/data2/varun/HiTIPS_paper_data/fig_5/kpnb1/exp2/AssayPlate_PerkinElmer_CellCarrier-384 Ultra_F11_T0250F007L01A01Z01C01.tif\n",
      "/data2/varun/HiTIPS_paper_data/fig_5/kpnb1/exp2/AssayPlate_PerkinElmer_CellCarrier-384 Ultra_F11_T0250F008L01A01Z01C01.tif\n",
      "/data2/varun/HiTIPS_paper_data/fig_5/kpnb1/exp2/AssayPlate_PerkinElmer_CellCarrier-384 Ultra_F11_T0250F009L01A01Z01C01.tif\n",
      "/data2/varun/HiTIPS_paper_data/fig_5/kpnb1/exp2/AssayPlate_PerkinElmer_CellCarrier-384 Ultra_F11_T0251F001L01A01Z01C01.tif\n",
      "/data2/varun/HiTIPS_paper_data/fig_5/kpnb1/exp2/AssayPlate_PerkinElmer_CellCarrier-384 Ultra_F11_T0251F002L01A01Z01C01.tif\n",
      "/data2/varun/HiTIPS_paper_data/fig_5/kpnb1/exp2/AssayPlate_PerkinElmer_CellCarrier-384 Ultra_F11_T0251F004L01A01Z01C01.tif\n",
      "/data2/varun/HiTIPS_paper_data/fig_5/kpnb1/exp2/AssayPlate_PerkinElmer_CellCarrier-384 Ultra_F11_T0251F005L01A01Z01C01.tif\n",
      "/data2/varun/HiTIPS_paper_data/fig_5/kpnb1/exp2/AssayPlate_PerkinElmer_CellCarrier-384 Ultra_F11_T0251F003L01A01Z01C01.tif\n",
      "/data2/varun/HiTIPS_paper_data/fig_5/kpnb1/exp2/AssayPlate_PerkinElmer_CellCarrier-384 Ultra_F11_T0251F006L01A01Z01C01.tif\n",
      "/data2/varun/HiTIPS_paper_data/fig_5/kpnb1/exp2/AssayPlate_PerkinElmer_CellCarrier-384 Ultra_F11_T0251F008L01A01Z01C01.tif\n",
      "/data2/varun/HiTIPS_paper_data/fig_5/kpnb1/exp2/AssayPlate_PerkinElmer_CellCarrier-384 Ultra_F11_T0251F009L01A01Z01C01.tif\n",
      "/data2/varun/HiTIPS_paper_data/fig_5/kpnb1/exp2/AssayPlate_PerkinElmer_CellCarrier-384 Ultra_F11_T0251F007L01A01Z01C01.tif\n",
      "/data2/varun/HiTIPS_paper_data/fig_5/kpnb1/exp2/AssayPlate_PerkinElmer_CellCarrier-384 Ultra_F11_T0252F001L01A01Z01C01.tif\n",
      "/data2/varun/HiTIPS_paper_data/fig_5/kpnb1/exp2/AssayPlate_PerkinElmer_CellCarrier-384 Ultra_F11_T0252F003L01A01Z01C01.tif\n",
      "/data2/varun/HiTIPS_paper_data/fig_5/kpnb1/exp2/AssayPlate_PerkinElmer_CellCarrier-384 Ultra_F11_T0252F005L01A01Z01C01.tif\n",
      "/data2/varun/HiTIPS_paper_data/fig_5/kpnb1/exp2/AssayPlate_PerkinElmer_CellCarrier-384 Ultra_F11_T0252F004L01A01Z01C01.tif\n",
      "/data2/varun/HiTIPS_paper_data/fig_5/kpnb1/exp2/AssayPlate_PerkinElmer_CellCarrier-384 Ultra_F11_T0252F002L01A01Z01C01.tif\n",
      "/data2/varun/HiTIPS_paper_data/fig_5/kpnb1/exp2/AssayPlate_PerkinElmer_CellCarrier-384 Ultra_F11_T0252F007L01A01Z01C01.tif\n",
      "/data2/varun/HiTIPS_paper_data/fig_5/kpnb1/exp2/AssayPlate_PerkinElmer_CellCarrier-384 Ultra_F11_T0252F009L01A01Z01C01.tif\n",
      "/data2/varun/HiTIPS_paper_data/fig_5/kpnb1/exp2/AssayPlate_PerkinElmer_CellCarrier-384 Ultra_F11_T0252F008L01A01Z01C01.tif\n",
      "/data2/varun/HiTIPS_paper_data/fig_5/kpnb1/exp2/AssayPlate_PerkinElmer_CellCarrier-384 Ultra_F11_T0252F006L01A01Z01C01.tif\n",
      "/data2/varun/HiTIPS_paper_data/fig_5/kpnb1/exp2/AssayPlate_PerkinElmer_CellCarrier-384 Ultra_F11_T0253F002L01A01Z01C01.tif\n",
      "/data2/varun/HiTIPS_paper_data/fig_5/kpnb1/exp2/AssayPlate_PerkinElmer_CellCarrier-384 Ultra_F11_T0253F003L01A01Z01C01.tif\n",
      "/data2/varun/HiTIPS_paper_data/fig_5/kpnb1/exp2/AssayPlate_PerkinElmer_CellCarrier-384 Ultra_F11_T0253F004L01A01Z01C01.tif\n",
      "/data2/varun/HiTIPS_paper_data/fig_5/kpnb1/exp2/AssayPlate_PerkinElmer_CellCarrier-384 Ultra_F11_T0253F001L01A01Z01C01.tif\n",
      "/data2/varun/HiTIPS_paper_data/fig_5/kpnb1/exp2/AssayPlate_PerkinElmer_CellCarrier-384 Ultra_F11_T0253F006L01A01Z01C01.tif\n",
      "/data2/varun/HiTIPS_paper_data/fig_5/kpnb1/exp2/AssayPlate_PerkinElmer_CellCarrier-384 Ultra_F11_T0253F005L01A01Z01C01.tif\n",
      "/data2/varun/HiTIPS_paper_data/fig_5/kpnb1/exp2/AssayPlate_PerkinElmer_CellCarrier-384 Ultra_F11_T0253F008L01A01Z01C01.tif\n",
      "/data2/varun/HiTIPS_paper_data/fig_5/kpnb1/exp2/AssayPlate_PerkinElmer_CellCarrier-384 Ultra_F11_T0253F007L01A01Z01C01.tif\n",
      "/data2/varun/HiTIPS_paper_data/fig_5/kpnb1/exp2/AssayPlate_PerkinElmer_CellCarrier-384 Ultra_F11_T0254F001L01A01Z01C01.tif\n",
      "/data2/varun/HiTIPS_paper_data/fig_5/kpnb1/exp2/AssayPlate_PerkinElmer_CellCarrier-384 Ultra_F11_T0253F009L01A01Z01C01.tif\n",
      "/data2/varun/HiTIPS_paper_data/fig_5/kpnb1/exp2/AssayPlate_PerkinElmer_CellCarrier-384 Ultra_F11_T0254F003L01A01Z01C01.tif\n",
      "/data2/varun/HiTIPS_paper_data/fig_5/kpnb1/exp2/AssayPlate_PerkinElmer_CellCarrier-384 Ultra_F11_T0254F002L01A01Z01C01.tif\n",
      "/data2/varun/HiTIPS_paper_data/fig_5/kpnb1/exp2/AssayPlate_PerkinElmer_CellCarrier-384 Ultra_F11_T0254F007L01A01Z01C01.tif\n",
      "/data2/varun/HiTIPS_paper_data/fig_5/kpnb1/exp2/AssayPlate_PerkinElmer_CellCarrier-384 Ultra_F11_T0254F005L01A01Z01C01.tif\n",
      "/data2/varun/HiTIPS_paper_data/fig_5/kpnb1/exp2/AssayPlate_PerkinElmer_CellCarrier-384 Ultra_F11_T0254F006L01A01Z01C01.tif\n",
      "/data2/varun/HiTIPS_paper_data/fig_5/kpnb1/exp2/AssayPlate_PerkinElmer_CellCarrier-384 Ultra_F11_T0254F004L01A01Z01C01.tif\n",
      "/data2/varun/HiTIPS_paper_data/fig_5/kpnb1/exp2/AssayPlate_PerkinElmer_CellCarrier-384 Ultra_F11_T0254F009L01A01Z01C01.tif\n",
      "/data2/varun/HiTIPS_paper_data/fig_5/kpnb1/exp2/AssayPlate_PerkinElmer_CellCarrier-384 Ultra_F11_T0254F008L01A01Z01C01.tif\n",
      "/data2/varun/HiTIPS_paper_data/fig_5/kpnb1/exp2/AssayPlate_PerkinElmer_CellCarrier-384 Ultra_F11_T0255F001L01A01Z01C01.tif\n",
      "/data2/varun/HiTIPS_paper_data/fig_5/kpnb1/exp2/AssayPlate_PerkinElmer_CellCarrier-384 Ultra_F11_T0255F002L01A01Z01C01.tif\n",
      "/data2/varun/HiTIPS_paper_data/fig_5/kpnb1/exp2/AssayPlate_PerkinElmer_CellCarrier-384 Ultra_F11_T0255F004L01A01Z01C01.tif\n",
      "/data2/varun/HiTIPS_paper_data/fig_5/kpnb1/exp2/AssayPlate_PerkinElmer_CellCarrier-384 Ultra_F11_T0255F005L01A01Z01C01.tif\n",
      "/data2/varun/HiTIPS_paper_data/fig_5/kpnb1/exp2/AssayPlate_PerkinElmer_CellCarrier-384 Ultra_F11_T0255F003L01A01Z01C01.tif\n",
      "/data2/varun/HiTIPS_paper_data/fig_5/kpnb1/exp2/AssayPlate_PerkinElmer_CellCarrier-384 Ultra_F11_T0255F006L01A01Z01C01.tif\n",
      "/data2/varun/HiTIPS_paper_data/fig_5/kpnb1/exp2/AssayPlate_PerkinElmer_CellCarrier-384 Ultra_F11_T0255F008L01A01Z01C01.tif\n",
      "/data2/varun/HiTIPS_paper_data/fig_5/kpnb1/exp2/AssayPlate_PerkinElmer_CellCarrier-384 Ultra_F11_T0256F001L01A01Z01C01.tif\n",
      "/data2/varun/HiTIPS_paper_data/fig_5/kpnb1/exp2/AssayPlate_PerkinElmer_CellCarrier-384 Ultra_F11_T0255F009L01A01Z01C01.tif\n",
      "/data2/varun/HiTIPS_paper_data/fig_5/kpnb1/exp2/AssayPlate_PerkinElmer_CellCarrier-384 Ultra_F11_T0255F007L01A01Z01C01.tif\n",
      "/data2/varun/HiTIPS_paper_data/fig_5/kpnb1/exp2/AssayPlate_PerkinElmer_CellCarrier-384 Ultra_F11_T0256F003L01A01Z01C01.tif\n",
      "/data2/varun/HiTIPS_paper_data/fig_5/kpnb1/exp2/AssayPlate_PerkinElmer_CellCarrier-384 Ultra_F11_T0256F004L01A01Z01C01.tif\n",
      "/data2/varun/HiTIPS_paper_data/fig_5/kpnb1/exp2/AssayPlate_PerkinElmer_CellCarrier-384 Ultra_F11_T0256F002L01A01Z01C01.tif\n",
      "/data2/varun/HiTIPS_paper_data/fig_5/kpnb1/exp2/AssayPlate_PerkinElmer_CellCarrier-384 Ultra_F11_T0256F005L01A01Z01C01.tif\n",
      "/data2/varun/HiTIPS_paper_data/fig_5/kpnb1/exp2/AssayPlate_PerkinElmer_CellCarrier-384 Ultra_F11_T0256F007L01A01Z01C01.tif\n",
      "/data2/varun/HiTIPS_paper_data/fig_5/kpnb1/exp2/AssayPlate_PerkinElmer_CellCarrier-384 Ultra_F11_T0256F008L01A01Z01C01.tif\n",
      "/data2/varun/HiTIPS_paper_data/fig_5/kpnb1/exp2/AssayPlate_PerkinElmer_CellCarrier-384 Ultra_F11_T0256F009L01A01Z01C01.tif\n",
      "/data2/varun/HiTIPS_paper_data/fig_5/kpnb1/exp2/AssayPlate_PerkinElmer_CellCarrier-384 Ultra_F11_T0256F006L01A01Z01C01.tif\n",
      "/data2/varun/HiTIPS_paper_data/fig_5/kpnb1/exp2/AssayPlate_PerkinElmer_CellCarrier-384 Ultra_F11_T0257F003L01A01Z01C01.tif\n",
      "/data2/varun/HiTIPS_paper_data/fig_5/kpnb1/exp2/AssayPlate_PerkinElmer_CellCarrier-384 Ultra_F11_T0257F002L01A01Z01C01.tif\n",
      "/data2/varun/HiTIPS_paper_data/fig_5/kpnb1/exp2/AssayPlate_PerkinElmer_CellCarrier-384 Ultra_F11_T0257F001L01A01Z01C01.tif\n",
      "/data2/varun/HiTIPS_paper_data/fig_5/kpnb1/exp2/AssayPlate_PerkinElmer_CellCarrier-384 Ultra_F11_T0257F004L01A01Z01C01.tif\n",
      "/data2/varun/HiTIPS_paper_data/fig_5/kpnb1/exp2/AssayPlate_PerkinElmer_CellCarrier-384 Ultra_F11_T0257F006L01A01Z01C01.tif\n",
      "/data2/varun/HiTIPS_paper_data/fig_5/kpnb1/exp2/AssayPlate_PerkinElmer_CellCarrier-384 Ultra_F11_T0257F008L01A01Z01C01.tif\n",
      "/data2/varun/HiTIPS_paper_data/fig_5/kpnb1/exp2/AssayPlate_PerkinElmer_CellCarrier-384 Ultra_F11_T0257F007L01A01Z01C01.tif\n",
      "/data2/varun/HiTIPS_paper_data/fig_5/kpnb1/exp2/AssayPlate_PerkinElmer_CellCarrier-384 Ultra_F11_T0257F005L01A01Z01C01.tif\n",
      "/data2/varun/HiTIPS_paper_data/fig_5/kpnb1/exp2/AssayPlate_PerkinElmer_CellCarrier-384 Ultra_F11_T0258F001L01A01Z01C01.tif\n",
      "/data2/varun/HiTIPS_paper_data/fig_5/kpnb1/exp2/AssayPlate_PerkinElmer_CellCarrier-384 Ultra_F11_T0258F003L01A01Z01C01.tif\n",
      "/data2/varun/HiTIPS_paper_data/fig_5/kpnb1/exp2/AssayPlate_PerkinElmer_CellCarrier-384 Ultra_F11_T0258F002L01A01Z01C01.tif\n",
      "/data2/varun/HiTIPS_paper_data/fig_5/kpnb1/exp2/AssayPlate_PerkinElmer_CellCarrier-384 Ultra_F11_T0257F009L01A01Z01C01.tif\n",
      "/data2/varun/HiTIPS_paper_data/fig_5/kpnb1/exp2/AssayPlate_PerkinElmer_CellCarrier-384 Ultra_F11_T0258F005L01A01Z01C01.tif\n",
      "/data2/varun/HiTIPS_paper_data/fig_5/kpnb1/exp2/AssayPlate_PerkinElmer_CellCarrier-384 Ultra_F11_T0258F004L01A01Z01C01.tif\n",
      "/data2/varun/HiTIPS_paper_data/fig_5/kpnb1/exp2/AssayPlate_PerkinElmer_CellCarrier-384 Ultra_F11_T0258F006L01A01Z01C01.tif\n",
      "/data2/varun/HiTIPS_paper_data/fig_5/kpnb1/exp2/AssayPlate_PerkinElmer_CellCarrier-384 Ultra_F11_T0258F007L01A01Z01C01.tif\n",
      "/data2/varun/HiTIPS_paper_data/fig_5/kpnb1/exp2/AssayPlate_PerkinElmer_CellCarrier-384 Ultra_F11_T0259F001L01A01Z01C01.tif\n",
      "/data2/varun/HiTIPS_paper_data/fig_5/kpnb1/exp2/AssayPlate_PerkinElmer_CellCarrier-384 Ultra_F11_T0258F009L01A01Z01C01.tif\n",
      "/data2/varun/HiTIPS_paper_data/fig_5/kpnb1/exp2/AssayPlate_PerkinElmer_CellCarrier-384 Ultra_F11_T0258F008L01A01Z01C01.tif\n",
      "/data2/varun/HiTIPS_paper_data/fig_5/kpnb1/exp2/AssayPlate_PerkinElmer_CellCarrier-384 Ultra_F11_T0259F002L01A01Z01C01.tif\n",
      "/data2/varun/HiTIPS_paper_data/fig_5/kpnb1/exp2/AssayPlate_PerkinElmer_CellCarrier-384 Ultra_F11_T0259F003L01A01Z01C01.tif\n",
      "/data2/varun/HiTIPS_paper_data/fig_5/kpnb1/exp2/AssayPlate_PerkinElmer_CellCarrier-384 Ultra_F11_T0259F004L01A01Z01C01.tif\n",
      "/data2/varun/HiTIPS_paper_data/fig_5/kpnb1/exp2/AssayPlate_PerkinElmer_CellCarrier-384 Ultra_F11_T0259F006L01A01Z01C01.tif\n",
      "/data2/varun/HiTIPS_paper_data/fig_5/kpnb1/exp2/AssayPlate_PerkinElmer_CellCarrier-384 Ultra_F11_T0259F005L01A01Z01C01.tif\n",
      "/data2/varun/HiTIPS_paper_data/fig_5/kpnb1/exp2/AssayPlate_PerkinElmer_CellCarrier-384 Ultra_F11_T0259F008L01A01Z01C01.tif\n",
      "/data2/varun/HiTIPS_paper_data/fig_5/kpnb1/exp2/AssayPlate_PerkinElmer_CellCarrier-384 Ultra_F11_T0259F007L01A01Z01C01.tif\n",
      "/data2/varun/HiTIPS_paper_data/fig_5/kpnb1/exp2/AssayPlate_PerkinElmer_CellCarrier-384 Ultra_F11_T0260F001L01A01Z01C01.tif\n",
      "/data2/varun/HiTIPS_paper_data/fig_5/kpnb1/exp2/AssayPlate_PerkinElmer_CellCarrier-384 Ultra_F11_T0259F009L01A01Z01C01.tif\n",
      "/data2/varun/HiTIPS_paper_data/fig_5/kpnb1/exp2/AssayPlate_PerkinElmer_CellCarrier-384 Ultra_F11_T0260F003L01A01Z01C01.tif\n",
      "/data2/varun/HiTIPS_paper_data/fig_5/kpnb1/exp2/AssayPlate_PerkinElmer_CellCarrier-384 Ultra_F11_T0260F004L01A01Z01C01.tif\n",
      "/data2/varun/HiTIPS_paper_data/fig_5/kpnb1/exp2/AssayPlate_PerkinElmer_CellCarrier-384 Ultra_F11_T0260F005L01A01Z01C01.tif\n",
      "/data2/varun/HiTIPS_paper_data/fig_5/kpnb1/exp2/AssayPlate_PerkinElmer_CellCarrier-384 Ultra_F11_T0260F002L01A01Z01C01.tif\n",
      "/data2/varun/HiTIPS_paper_data/fig_5/kpnb1/exp2/AssayPlate_PerkinElmer_CellCarrier-384 Ultra_F11_T0260F007L01A01Z01C01.tif\n",
      "/data2/varun/HiTIPS_paper_data/fig_5/kpnb1/exp2/AssayPlate_PerkinElmer_CellCarrier-384 Ultra_F11_T0260F006L01A01Z01C01.tif\n",
      "/data2/varun/HiTIPS_paper_data/fig_5/kpnb1/exp2/AssayPlate_PerkinElmer_CellCarrier-384 Ultra_F11_T0260F008L01A01Z01C01.tif\n",
      "/data2/varun/HiTIPS_paper_data/fig_5/kpnb1/exp2/AssayPlate_PerkinElmer_CellCarrier-384 Ultra_F11_T0260F009L01A01Z01C01.tif\n",
      "/data2/varun/HiTIPS_paper_data/fig_5/kpnb1/exp2/AssayPlate_PerkinElmer_CellCarrier-384 Ultra_F11_T0261F001L01A01Z01C01.tif\n",
      "/data2/varun/HiTIPS_paper_data/fig_5/kpnb1/exp2/AssayPlate_PerkinElmer_CellCarrier-384 Ultra_F11_T0261F002L01A01Z01C01.tif\n",
      "/data2/varun/HiTIPS_paper_data/fig_5/kpnb1/exp2/AssayPlate_PerkinElmer_CellCarrier-384 Ultra_F11_T0261F004L01A01Z01C01.tif\n",
      "/data2/varun/HiTIPS_paper_data/fig_5/kpnb1/exp2/AssayPlate_PerkinElmer_CellCarrier-384 Ultra_F11_T0261F003L01A01Z01C01.tif\n",
      "/data2/varun/HiTIPS_paper_data/fig_5/kpnb1/exp2/AssayPlate_PerkinElmer_CellCarrier-384 Ultra_F11_T0261F006L01A01Z01C01.tif\n",
      "/data2/varun/HiTIPS_paper_data/fig_5/kpnb1/exp2/AssayPlate_PerkinElmer_CellCarrier-384 Ultra_F11_T0261F008L01A01Z01C01.tif\n",
      "/data2/varun/HiTIPS_paper_data/fig_5/kpnb1/exp2/AssayPlate_PerkinElmer_CellCarrier-384 Ultra_F11_T0261F007L01A01Z01C01.tif\n",
      "/data2/varun/HiTIPS_paper_data/fig_5/kpnb1/exp2/AssayPlate_PerkinElmer_CellCarrier-384 Ultra_F11_T0261F005L01A01Z01C01.tif\n",
      "/data2/varun/HiTIPS_paper_data/fig_5/kpnb1/exp2/AssayPlate_PerkinElmer_CellCarrier-384 Ultra_F11_T0262F001L01A01Z01C01.tif\n",
      "/data2/varun/HiTIPS_paper_data/fig_5/kpnb1/exp2/AssayPlate_PerkinElmer_CellCarrier-384 Ultra_F11_T0262F002L01A01Z01C01.tif\n",
      "/data2/varun/HiTIPS_paper_data/fig_5/kpnb1/exp2/AssayPlate_PerkinElmer_CellCarrier-384 Ultra_F11_T0262F003L01A01Z01C01.tif\n",
      "/data2/varun/HiTIPS_paper_data/fig_5/kpnb1/exp2/AssayPlate_PerkinElmer_CellCarrier-384 Ultra_F11_T0261F009L01A01Z01C01.tif\n",
      "/data2/varun/HiTIPS_paper_data/fig_5/kpnb1/exp2/AssayPlate_PerkinElmer_CellCarrier-384 Ultra_F11_T0262F005L01A01Z01C01.tif\n",
      "/data2/varun/HiTIPS_paper_data/fig_5/kpnb1/exp2/AssayPlate_PerkinElmer_CellCarrier-384 Ultra_F11_T0262F006L01A01Z01C01.tif\n",
      "/data2/varun/HiTIPS_paper_data/fig_5/kpnb1/exp2/AssayPlate_PerkinElmer_CellCarrier-384 Ultra_F11_T0262F004L01A01Z01C01.tif\n",
      "/data2/varun/HiTIPS_paper_data/fig_5/kpnb1/exp2/AssayPlate_PerkinElmer_CellCarrier-384 Ultra_F11_T0262F007L01A01Z01C01.tif\n",
      "/data2/varun/HiTIPS_paper_data/fig_5/kpnb1/exp2/AssayPlate_PerkinElmer_CellCarrier-384 Ultra_F11_T0262F009L01A01Z01C01.tif\n",
      "/data2/varun/HiTIPS_paper_data/fig_5/kpnb1/exp2/AssayPlate_PerkinElmer_CellCarrier-384 Ultra_F11_T0262F008L01A01Z01C01.tif\n",
      "/data2/varun/HiTIPS_paper_data/fig_5/kpnb1/exp2/AssayPlate_PerkinElmer_CellCarrier-384 Ultra_F11_T0263F002L01A01Z01C01.tif\n",
      "/data2/varun/HiTIPS_paper_data/fig_5/kpnb1/exp2/AssayPlate_PerkinElmer_CellCarrier-384 Ultra_F11_T0263F001L01A01Z01C01.tif\n",
      "/data2/varun/HiTIPS_paper_data/fig_5/kpnb1/exp2/AssayPlate_PerkinElmer_CellCarrier-384 Ultra_F11_T0263F004L01A01Z01C01.tif\n",
      "/data2/varun/HiTIPS_paper_data/fig_5/kpnb1/exp2/AssayPlate_PerkinElmer_CellCarrier-384 Ultra_F11_T0263F005L01A01Z01C01.tif\n",
      "/data2/varun/HiTIPS_paper_data/fig_5/kpnb1/exp2/AssayPlate_PerkinElmer_CellCarrier-384 Ultra_F11_T0263F003L01A01Z01C01.tif\n",
      "/data2/varun/HiTIPS_paper_data/fig_5/kpnb1/exp2/AssayPlate_PerkinElmer_CellCarrier-384 Ultra_F11_T0263F006L01A01Z01C01.tif\n",
      "/data2/varun/HiTIPS_paper_data/fig_5/kpnb1/exp2/AssayPlate_PerkinElmer_CellCarrier-384 Ultra_F11_T0263F008L01A01Z01C01.tif\n",
      "/data2/varun/HiTIPS_paper_data/fig_5/kpnb1/exp2/AssayPlate_PerkinElmer_CellCarrier-384 Ultra_F11_T0263F009L01A01Z01C01.tif\n",
      "/data2/varun/HiTIPS_paper_data/fig_5/kpnb1/exp2/AssayPlate_PerkinElmer_CellCarrier-384 Ultra_F11_T0264F001L01A01Z01C01.tif\n",
      "/data2/varun/HiTIPS_paper_data/fig_5/kpnb1/exp2/AssayPlate_PerkinElmer_CellCarrier-384 Ultra_F11_T0263F007L01A01Z01C01.tif\n",
      "/data2/varun/HiTIPS_paper_data/fig_5/kpnb1/exp2/AssayPlate_PerkinElmer_CellCarrier-384 Ultra_F11_T0264F003L01A01Z01C01.tif\n",
      "/data2/varun/HiTIPS_paper_data/fig_5/kpnb1/exp2/AssayPlate_PerkinElmer_CellCarrier-384 Ultra_F11_T0264F005L01A01Z01C01.tif\n",
      "/data2/varun/HiTIPS_paper_data/fig_5/kpnb1/exp2/AssayPlate_PerkinElmer_CellCarrier-384 Ultra_F11_T0264F004L01A01Z01C01.tif\n",
      "/data2/varun/HiTIPS_paper_data/fig_5/kpnb1/exp2/AssayPlate_PerkinElmer_CellCarrier-384 Ultra_F11_T0264F002L01A01Z01C01.tif\n",
      "/data2/varun/HiTIPS_paper_data/fig_5/kpnb1/exp2/AssayPlate_PerkinElmer_CellCarrier-384 Ultra_F11_T0264F007L01A01Z01C01.tif\n",
      "/data2/varun/HiTIPS_paper_data/fig_5/kpnb1/exp2/AssayPlate_PerkinElmer_CellCarrier-384 Ultra_F11_T0264F006L01A01Z01C01.tif\n",
      "/data2/varun/HiTIPS_paper_data/fig_5/kpnb1/exp2/AssayPlate_PerkinElmer_CellCarrier-384 Ultra_F11_T0264F009L01A01Z01C01.tif\n",
      "/data2/varun/HiTIPS_paper_data/fig_5/kpnb1/exp2/AssayPlate_PerkinElmer_CellCarrier-384 Ultra_F11_T0264F008L01A01Z01C01.tif\n",
      "/data2/varun/HiTIPS_paper_data/fig_5/kpnb1/exp2/AssayPlate_PerkinElmer_CellCarrier-384 Ultra_F11_T0265F002L01A01Z01C01.tif\n",
      "/data2/varun/HiTIPS_paper_data/fig_5/kpnb1/exp2/AssayPlate_PerkinElmer_CellCarrier-384 Ultra_F11_T0265F001L01A01Z01C01.tif\n",
      "/data2/varun/HiTIPS_paper_data/fig_5/kpnb1/exp2/AssayPlate_PerkinElmer_CellCarrier-384 Ultra_F11_T0265F004L01A01Z01C01.tif\n",
      "/data2/varun/HiTIPS_paper_data/fig_5/kpnb1/exp2/AssayPlate_PerkinElmer_CellCarrier-384 Ultra_F11_T0265F003L01A01Z01C01.tif\n",
      "/data2/varun/HiTIPS_paper_data/fig_5/kpnb1/exp2/AssayPlate_PerkinElmer_CellCarrier-384 Ultra_F11_T0265F006L01A01Z01C01.tif\n",
      "/data2/varun/HiTIPS_paper_data/fig_5/kpnb1/exp2/AssayPlate_PerkinElmer_CellCarrier-384 Ultra_F11_T0265F007L01A01Z01C01.tif\n",
      "/data2/varun/HiTIPS_paper_data/fig_5/kpnb1/exp2/AssayPlate_PerkinElmer_CellCarrier-384 Ultra_F11_T0265F005L01A01Z01C01.tif\n",
      "/data2/varun/HiTIPS_paper_data/fig_5/kpnb1/exp2/AssayPlate_PerkinElmer_CellCarrier-384 Ultra_F11_T0265F008L01A01Z01C01.tif\n",
      "/data2/varun/HiTIPS_paper_data/fig_5/kpnb1/exp2/AssayPlate_PerkinElmer_CellCarrier-384 Ultra_F11_T0266F001L01A01Z01C01.tif\n",
      "/data2/varun/HiTIPS_paper_data/fig_5/kpnb1/exp2/AssayPlate_PerkinElmer_CellCarrier-384 Ultra_F11_T0266F002L01A01Z01C01.tif\n",
      "/data2/varun/HiTIPS_paper_data/fig_5/kpnb1/exp2/AssayPlate_PerkinElmer_CellCarrier-384 Ultra_F11_T0265F009L01A01Z01C01.tif\n",
      "/data2/varun/HiTIPS_paper_data/fig_5/kpnb1/exp2/AssayPlate_PerkinElmer_CellCarrier-384 Ultra_F11_T0266F003L01A01Z01C01.tif\n",
      "/data2/varun/HiTIPS_paper_data/fig_5/kpnb1/exp2/AssayPlate_PerkinElmer_CellCarrier-384 Ultra_F11_T0266F005L01A01Z01C01.tif\n",
      "/data2/varun/HiTIPS_paper_data/fig_5/kpnb1/exp2/AssayPlate_PerkinElmer_CellCarrier-384 Ultra_F11_T0266F006L01A01Z01C01.tif\n",
      "/data2/varun/HiTIPS_paper_data/fig_5/kpnb1/exp2/AssayPlate_PerkinElmer_CellCarrier-384 Ultra_F11_T0266F004L01A01Z01C01.tif\n",
      "/data2/varun/HiTIPS_paper_data/fig_5/kpnb1/exp2/AssayPlate_PerkinElmer_CellCarrier-384 Ultra_F11_T0266F007L01A01Z01C01.tif\n",
      "/data2/varun/HiTIPS_paper_data/fig_5/kpnb1/exp2/AssayPlate_PerkinElmer_CellCarrier-384 Ultra_F11_T0266F009L01A01Z01C01.tif\n",
      "/data2/varun/HiTIPS_paper_data/fig_5/kpnb1/exp2/AssayPlate_PerkinElmer_CellCarrier-384 Ultra_F11_T0266F008L01A01Z01C01.tif\n",
      "/data2/varun/HiTIPS_paper_data/fig_5/kpnb1/exp2/AssayPlate_PerkinElmer_CellCarrier-384 Ultra_F11_T0267F002L01A01Z01C01.tif\n",
      "/data2/varun/HiTIPS_paper_data/fig_5/kpnb1/exp2/AssayPlate_PerkinElmer_CellCarrier-384 Ultra_F11_T0267F001L01A01Z01C01.tif\n",
      "/data2/varun/HiTIPS_paper_data/fig_5/kpnb1/exp2/AssayPlate_PerkinElmer_CellCarrier-384 Ultra_F11_T0267F004L01A01Z01C01.tif\n",
      "/data2/varun/HiTIPS_paper_data/fig_5/kpnb1/exp2/AssayPlate_PerkinElmer_CellCarrier-384 Ultra_F11_T0267F005L01A01Z01C01.tif\n",
      "/data2/varun/HiTIPS_paper_data/fig_5/kpnb1/exp2/AssayPlate_PerkinElmer_CellCarrier-384 Ultra_F11_T0267F003L01A01Z01C01.tif\n",
      "/data2/varun/HiTIPS_paper_data/fig_5/kpnb1/exp2/AssayPlate_PerkinElmer_CellCarrier-384 Ultra_F11_T0267F006L01A01Z01C01.tif\n",
      "/data2/varun/HiTIPS_paper_data/fig_5/kpnb1/exp2/AssayPlate_PerkinElmer_CellCarrier-384 Ultra_F11_T0267F008L01A01Z01C01.tif\n",
      "/data2/varun/HiTIPS_paper_data/fig_5/kpnb1/exp2/AssayPlate_PerkinElmer_CellCarrier-384 Ultra_F11_T0268F001L01A01Z01C01.tif\n",
      "/data2/varun/HiTIPS_paper_data/fig_5/kpnb1/exp2/AssayPlate_PerkinElmer_CellCarrier-384 Ultra_F11_T0267F007L01A01Z01C01.tif\n",
      "/data2/varun/HiTIPS_paper_data/fig_5/kpnb1/exp2/AssayPlate_PerkinElmer_CellCarrier-384 Ultra_F11_T0267F009L01A01Z01C01.tif\n",
      "/data2/varun/HiTIPS_paper_data/fig_5/kpnb1/exp2/AssayPlate_PerkinElmer_CellCarrier-384 Ultra_F11_T0268F003L01A01Z01C01.tif\n",
      "/data2/varun/HiTIPS_paper_data/fig_5/kpnb1/exp2/AssayPlate_PerkinElmer_CellCarrier-384 Ultra_F11_T0268F002L01A01Z01C01.tif\n",
      "/data2/varun/HiTIPS_paper_data/fig_5/kpnb1/exp2/AssayPlate_PerkinElmer_CellCarrier-384 Ultra_F11_T0268F005L01A01Z01C01.tif\n",
      "/data2/varun/HiTIPS_paper_data/fig_5/kpnb1/exp2/AssayPlate_PerkinElmer_CellCarrier-384 Ultra_F11_T0268F004L01A01Z01C01.tif\n",
      "/data2/varun/HiTIPS_paper_data/fig_5/kpnb1/exp2/AssayPlate_PerkinElmer_CellCarrier-384 Ultra_F11_T0268F007L01A01Z01C01.tif\n",
      "/data2/varun/HiTIPS_paper_data/fig_5/kpnb1/exp2/AssayPlate_PerkinElmer_CellCarrier-384 Ultra_F11_T0268F006L01A01Z01C01.tif\n",
      "/data2/varun/HiTIPS_paper_data/fig_5/kpnb1/exp2/AssayPlate_PerkinElmer_CellCarrier-384 Ultra_F11_T0268F008L01A01Z01C01.tif\n",
      "/data2/varun/HiTIPS_paper_data/fig_5/kpnb1/exp2/AssayPlate_PerkinElmer_CellCarrier-384 Ultra_F11_T0268F009L01A01Z01C01.tif\n",
      "/data2/varun/HiTIPS_paper_data/fig_5/kpnb1/exp2/AssayPlate_PerkinElmer_CellCarrier-384 Ultra_F11_T0269F002L01A01Z01C01.tif\n",
      "/data2/varun/HiTIPS_paper_data/fig_5/kpnb1/exp2/AssayPlate_PerkinElmer_CellCarrier-384 Ultra_F11_T0269F004L01A01Z01C01.tif\n",
      "/data2/varun/HiTIPS_paper_data/fig_5/kpnb1/exp2/AssayPlate_PerkinElmer_CellCarrier-384 Ultra_F11_T0269F003L01A01Z01C01.tif\n",
      "/data2/varun/HiTIPS_paper_data/fig_5/kpnb1/exp2/AssayPlate_PerkinElmer_CellCarrier-384 Ultra_F11_T0269F001L01A01Z01C01.tif\n",
      "/data2/varun/HiTIPS_paper_data/fig_5/kpnb1/exp2/AssayPlate_PerkinElmer_CellCarrier-384 Ultra_F11_T0269F006L01A01Z01C01.tif\n",
      "/data2/varun/HiTIPS_paper_data/fig_5/kpnb1/exp2/AssayPlate_PerkinElmer_CellCarrier-384 Ultra_F11_T0269F008L01A01Z01C01.tif\n",
      "/data2/varun/HiTIPS_paper_data/fig_5/kpnb1/exp2/AssayPlate_PerkinElmer_CellCarrier-384 Ultra_F11_T0269F005L01A01Z01C01.tif\n",
      "/data2/varun/HiTIPS_paper_data/fig_5/kpnb1/exp2/AssayPlate_PerkinElmer_CellCarrier-384 Ultra_F11_T0269F007L01A01Z01C01.tif\n",
      "/data2/varun/HiTIPS_paper_data/fig_5/kpnb1/exp2/AssayPlate_PerkinElmer_CellCarrier-384 Ultra_F11_T0270F001L01A01Z01C01.tif\n",
      "/data2/varun/HiTIPS_paper_data/fig_5/kpnb1/exp2/AssayPlate_PerkinElmer_CellCarrier-384 Ultra_F11_T0270F003L01A01Z01C01.tif\n",
      "/data2/varun/HiTIPS_paper_data/fig_5/kpnb1/exp2/AssayPlate_PerkinElmer_CellCarrier-384 Ultra_F11_T0269F009L01A01Z01C01.tif\n",
      "/data2/varun/HiTIPS_paper_data/fig_5/kpnb1/exp2/AssayPlate_PerkinElmer_CellCarrier-384 Ultra_F11_T0270F002L01A01Z01C01.tif\n",
      "/data2/varun/HiTIPS_paper_data/fig_5/kpnb1/exp2/AssayPlate_PerkinElmer_CellCarrier-384 Ultra_F11_T0270F005L01A01Z01C01.tif\n",
      "/data2/varun/HiTIPS_paper_data/fig_5/kpnb1/exp2/AssayPlate_PerkinElmer_CellCarrier-384 Ultra_F11_T0270F004L01A01Z01C01.tif\n",
      "/data2/varun/HiTIPS_paper_data/fig_5/kpnb1/exp2/AssayPlate_PerkinElmer_CellCarrier-384 Ultra_F11_T0270F006L01A01Z01C01.tif\n",
      "/data2/varun/HiTIPS_paper_data/fig_5/kpnb1/exp2/AssayPlate_PerkinElmer_CellCarrier-384 Ultra_F11_T0270F007L01A01Z01C01.tif\n",
      "/data2/varun/HiTIPS_paper_data/fig_5/kpnb1/exp2/AssayPlate_PerkinElmer_CellCarrier-384 Ultra_F11_T0270F009L01A01Z01C01.tif\n",
      "/data2/varun/HiTIPS_paper_data/fig_5/kpnb1/exp2/AssayPlate_PerkinElmer_CellCarrier-384 Ultra_F11_T0271F001L01A01Z01C01.tif\n",
      "/data2/varun/HiTIPS_paper_data/fig_5/kpnb1/exp2/AssayPlate_PerkinElmer_CellCarrier-384 Ultra_F11_T0271F002L01A01Z01C01.tif\n",
      "/data2/varun/HiTIPS_paper_data/fig_5/kpnb1/exp2/AssayPlate_PerkinElmer_CellCarrier-384 Ultra_F11_T0270F008L01A01Z01C01.tif\n",
      "/data2/varun/HiTIPS_paper_data/fig_5/kpnb1/exp2/AssayPlate_PerkinElmer_CellCarrier-384 Ultra_F11_T0271F004L01A01Z01C01.tif\n",
      "/data2/varun/HiTIPS_paper_data/fig_5/kpnb1/exp2/AssayPlate_PerkinElmer_CellCarrier-384 Ultra_F11_T0271F005L01A01Z01C01.tif\n",
      "/data2/varun/HiTIPS_paper_data/fig_5/kpnb1/exp2/AssayPlate_PerkinElmer_CellCarrier-384 Ultra_F11_T0271F003L01A01Z01C01.tif\n",
      "/data2/varun/HiTIPS_paper_data/fig_5/kpnb1/exp2/AssayPlate_PerkinElmer_CellCarrier-384 Ultra_F11_T0271F006L01A01Z01C01.tif\n",
      "/data2/varun/HiTIPS_paper_data/fig_5/kpnb1/exp2/AssayPlate_PerkinElmer_CellCarrier-384 Ultra_F11_T0271F009L01A01Z01C01.tif\n",
      "/data2/varun/HiTIPS_paper_data/fig_5/kpnb1/exp2/AssayPlate_PerkinElmer_CellCarrier-384 Ultra_F11_T0271F008L01A01Z01C01.tif\n",
      "/data2/varun/HiTIPS_paper_data/fig_5/kpnb1/exp2/AssayPlate_PerkinElmer_CellCarrier-384 Ultra_F11_T0272F001L01A01Z01C01.tif\n",
      "/data2/varun/HiTIPS_paper_data/fig_5/kpnb1/exp2/AssayPlate_PerkinElmer_CellCarrier-384 Ultra_F11_T0271F007L01A01Z01C01.tif\n",
      "/data2/varun/HiTIPS_paper_data/fig_5/kpnb1/exp2/AssayPlate_PerkinElmer_CellCarrier-384 Ultra_F11_T0272F003L01A01Z01C01.tif\n",
      "/data2/varun/HiTIPS_paper_data/fig_5/kpnb1/exp2/AssayPlate_PerkinElmer_CellCarrier-384 Ultra_F11_T0272F002L01A01Z01C01.tif\n",
      "/data2/varun/HiTIPS_paper_data/fig_5/kpnb1/exp2/AssayPlate_PerkinElmer_CellCarrier-384 Ultra_F11_T0272F005L01A01Z01C01.tif\n",
      "/data2/varun/HiTIPS_paper_data/fig_5/kpnb1/exp2/AssayPlate_PerkinElmer_CellCarrier-384 Ultra_F11_T0272F004L01A01Z01C01.tif\n",
      "/data2/varun/HiTIPS_paper_data/fig_5/kpnb1/exp2/AssayPlate_PerkinElmer_CellCarrier-384 Ultra_F11_T0272F007L01A01Z01C01.tif\n",
      "/data2/varun/HiTIPS_paper_data/fig_5/kpnb1/exp2/AssayPlate_PerkinElmer_CellCarrier-384 Ultra_F11_T0272F006L01A01Z01C01.tif\n",
      "/data2/varun/HiTIPS_paper_data/fig_5/kpnb1/exp2/AssayPlate_PerkinElmer_CellCarrier-384 Ultra_F11_T0272F008L01A01Z01C01.tif\n",
      "/data2/varun/HiTIPS_paper_data/fig_5/kpnb1/exp2/AssayPlate_PerkinElmer_CellCarrier-384 Ultra_F11_T0272F009L01A01Z01C01.tif\n",
      "/data2/varun/HiTIPS_paper_data/fig_5/kpnb1/exp2/AssayPlate_PerkinElmer_CellCarrier-384 Ultra_F11_T0273F002L01A01Z01C01.tif\n",
      "/data2/varun/HiTIPS_paper_data/fig_5/kpnb1/exp2/AssayPlate_PerkinElmer_CellCarrier-384 Ultra_F11_T0273F003L01A01Z01C01.tif\n",
      "/data2/varun/HiTIPS_paper_data/fig_5/kpnb1/exp2/AssayPlate_PerkinElmer_CellCarrier-384 Ultra_F11_T0273F004L01A01Z01C01.tif\n",
      "/data2/varun/HiTIPS_paper_data/fig_5/kpnb1/exp2/AssayPlate_PerkinElmer_CellCarrier-384 Ultra_F11_T0273F001L01A01Z01C01.tif\n",
      "/data2/varun/HiTIPS_paper_data/fig_5/kpnb1/exp2/AssayPlate_PerkinElmer_CellCarrier-384 Ultra_F11_T0273F006L01A01Z01C01.tif\n",
      "/data2/varun/HiTIPS_paper_data/fig_5/kpnb1/exp2/AssayPlate_PerkinElmer_CellCarrier-384 Ultra_F11_T0273F005L01A01Z01C01.tif\n",
      "/data2/varun/HiTIPS_paper_data/fig_5/kpnb1/exp2/AssayPlate_PerkinElmer_CellCarrier-384 Ultra_F11_T0273F008L01A01Z01C01.tif\n",
      "/data2/varun/HiTIPS_paper_data/fig_5/kpnb1/exp2/AssayPlate_PerkinElmer_CellCarrier-384 Ultra_F11_T0273F007L01A01Z01C01.tif\n",
      "/data2/varun/HiTIPS_paper_data/fig_5/kpnb1/exp2/AssayPlate_PerkinElmer_CellCarrier-384 Ultra_F11_T0274F001L01A01Z01C01.tif\n",
      "/data2/varun/HiTIPS_paper_data/fig_5/kpnb1/exp2/AssayPlate_PerkinElmer_CellCarrier-384 Ultra_F11_T0274F003L01A01Z01C01.tif\n",
      "/data2/varun/HiTIPS_paper_data/fig_5/kpnb1/exp2/AssayPlate_PerkinElmer_CellCarrier-384 Ultra_F11_T0274F002L01A01Z01C01.tif\n",
      "/data2/varun/HiTIPS_paper_data/fig_5/kpnb1/exp2/AssayPlate_PerkinElmer_CellCarrier-384 Ultra_F11_T0273F009L01A01Z01C01.tif\n",
      "/data2/varun/HiTIPS_paper_data/fig_5/kpnb1/exp2/AssayPlate_PerkinElmer_CellCarrier-384 Ultra_F11_T0274F004L01A01Z01C01.tif\n",
      "/data2/varun/HiTIPS_paper_data/fig_5/kpnb1/exp2/AssayPlate_PerkinElmer_CellCarrier-384 Ultra_F11_T0274F006L01A01Z01C01.tif\n",
      "/data2/varun/HiTIPS_paper_data/fig_5/kpnb1/exp2/AssayPlate_PerkinElmer_CellCarrier-384 Ultra_F11_T0274F007L01A01Z01C01.tif\n",
      "/data2/varun/HiTIPS_paper_data/fig_5/kpnb1/exp2/AssayPlate_PerkinElmer_CellCarrier-384 Ultra_F11_T0274F005L01A01Z01C01.tif\n",
      "/data2/varun/HiTIPS_paper_data/fig_5/kpnb1/exp2/AssayPlate_PerkinElmer_CellCarrier-384 Ultra_F11_T0274F009L01A01Z01C01.tif\n",
      "/data2/varun/HiTIPS_paper_data/fig_5/kpnb1/exp2/AssayPlate_PerkinElmer_CellCarrier-384 Ultra_F11_T0274F008L01A01Z01C01.tif\n",
      "/data2/varun/HiTIPS_paper_data/fig_5/kpnb1/exp2/AssayPlate_PerkinElmer_CellCarrier-384 Ultra_F11_T0275F001L01A01Z01C01.tif\n",
      "/data2/varun/HiTIPS_paper_data/fig_5/kpnb1/exp2/AssayPlate_PerkinElmer_CellCarrier-384 Ultra_F11_T0275F002L01A01Z01C01.tif\n",
      "/data2/varun/HiTIPS_paper_data/fig_5/kpnb1/exp2/AssayPlate_PerkinElmer_CellCarrier-384 Ultra_F11_T0275F004L01A01Z01C01.tif\n",
      "/data2/varun/HiTIPS_paper_data/fig_5/kpnb1/exp2/AssayPlate_PerkinElmer_CellCarrier-384 Ultra_F11_T0275F006L01A01Z01C01.tif\n",
      "/data2/varun/HiTIPS_paper_data/fig_5/kpnb1/exp2/AssayPlate_PerkinElmer_CellCarrier-384 Ultra_F11_T0275F003L01A01Z01C01.tif\n",
      "/data2/varun/HiTIPS_paper_data/fig_5/kpnb1/exp2/AssayPlate_PerkinElmer_CellCarrier-384 Ultra_F11_T0275F005L01A01Z01C01.tif\n",
      "/data2/varun/HiTIPS_paper_data/fig_5/kpnb1/exp2/AssayPlate_PerkinElmer_CellCarrier-384 Ultra_F11_T0276F001L01A01Z01C01.tif\n",
      "/data2/varun/HiTIPS_paper_data/fig_5/kpnb1/exp2/AssayPlate_PerkinElmer_CellCarrier-384 Ultra_F11_T0275F008L01A01Z01C01.tif\n",
      "/data2/varun/HiTIPS_paper_data/fig_5/kpnb1/exp2/AssayPlate_PerkinElmer_CellCarrier-384 Ultra_F11_T0275F009L01A01Z01C01.tif\n",
      "/data2/varun/HiTIPS_paper_data/fig_5/kpnb1/exp2/AssayPlate_PerkinElmer_CellCarrier-384 Ultra_F11_T0275F007L01A01Z01C01.tif\n",
      "/data2/varun/HiTIPS_paper_data/fig_5/kpnb1/exp2/AssayPlate_PerkinElmer_CellCarrier-384 Ultra_F11_T0276F003L01A01Z01C01.tif\n",
      "/data2/varun/HiTIPS_paper_data/fig_5/kpnb1/exp2/AssayPlate_PerkinElmer_CellCarrier-384 Ultra_F11_T0276F002L01A01Z01C01.tif\n",
      "/data2/varun/HiTIPS_paper_data/fig_5/kpnb1/exp2/AssayPlate_PerkinElmer_CellCarrier-384 Ultra_F11_T0276F004L01A01Z01C01.tif\n",
      "/data2/varun/HiTIPS_paper_data/fig_5/kpnb1/exp2/AssayPlate_PerkinElmer_CellCarrier-384 Ultra_F11_T0276F005L01A01Z01C01.tif\n",
      "/data2/varun/HiTIPS_paper_data/fig_5/kpnb1/exp2/AssayPlate_PerkinElmer_CellCarrier-384 Ultra_F11_T0276F007L01A01Z01C01.tif\n",
      "/data2/varun/HiTIPS_paper_data/fig_5/kpnb1/exp2/AssayPlate_PerkinElmer_CellCarrier-384 Ultra_F11_T0276F006L01A01Z01C01.tif\n",
      "/data2/varun/HiTIPS_paper_data/fig_5/kpnb1/exp2/AssayPlate_PerkinElmer_CellCarrier-384 Ultra_F11_T0276F008L01A01Z01C01.tif\n",
      "/data2/varun/HiTIPS_paper_data/fig_5/kpnb1/exp2/AssayPlate_PerkinElmer_CellCarrier-384 Ultra_F11_T0276F009L01A01Z01C01.tif\n",
      "/data2/varun/HiTIPS_paper_data/fig_5/kpnb1/exp2/AssayPlate_PerkinElmer_CellCarrier-384 Ultra_F11_T0277F002L01A01Z01C01.tif\n",
      "/data2/varun/HiTIPS_paper_data/fig_5/kpnb1/exp2/AssayPlate_PerkinElmer_CellCarrier-384 Ultra_F11_T0277F003L01A01Z01C01.tif\n",
      "/data2/varun/HiTIPS_paper_data/fig_5/kpnb1/exp2/AssayPlate_PerkinElmer_CellCarrier-384 Ultra_F11_T0277F004L01A01Z01C01.tif\n",
      "/data2/varun/HiTIPS_paper_data/fig_5/kpnb1/exp2/AssayPlate_PerkinElmer_CellCarrier-384 Ultra_F11_T0277F001L01A01Z01C01.tif\n",
      "/data2/varun/HiTIPS_paper_data/fig_5/kpnb1/exp2/AssayPlate_PerkinElmer_CellCarrier-384 Ultra_F11_T0277F006L01A01Z01C01.tif\n",
      "/data2/varun/HiTIPS_paper_data/fig_5/kpnb1/exp2/AssayPlate_PerkinElmer_CellCarrier-384 Ultra_F11_T0277F007L01A01Z01C01.tif\n",
      "/data2/varun/HiTIPS_paper_data/fig_5/kpnb1/exp2/AssayPlate_PerkinElmer_CellCarrier-384 Ultra_F11_T0277F008L01A01Z01C01.tif\n",
      "/data2/varun/HiTIPS_paper_data/fig_5/kpnb1/exp2/AssayPlate_PerkinElmer_CellCarrier-384 Ultra_F11_T0277F005L01A01Z01C01.tif\n",
      "/data2/varun/HiTIPS_paper_data/fig_5/kpnb1/exp2/AssayPlate_PerkinElmer_CellCarrier-384 Ultra_F11_T0278F001L01A01Z01C01.tif\n",
      "/data2/varun/HiTIPS_paper_data/fig_5/kpnb1/exp2/AssayPlate_PerkinElmer_CellCarrier-384 Ultra_F11_T0278F003L01A01Z01C01.tif\n",
      "/data2/varun/HiTIPS_paper_data/fig_5/kpnb1/exp2/AssayPlate_PerkinElmer_CellCarrier-384 Ultra_F11_T0278F002L01A01Z01C01.tif\n",
      "/data2/varun/HiTIPS_paper_data/fig_5/kpnb1/exp2/AssayPlate_PerkinElmer_CellCarrier-384 Ultra_F11_T0277F009L01A01Z01C01.tif\n",
      "/data2/varun/HiTIPS_paper_data/fig_5/kpnb1/exp2/AssayPlate_PerkinElmer_CellCarrier-384 Ultra_F11_T0278F005L01A01Z01C01.tif\n",
      "/data2/varun/HiTIPS_paper_data/fig_5/kpnb1/exp2/AssayPlate_PerkinElmer_CellCarrier-384 Ultra_F11_T0278F007L01A01Z01C01.tif\n",
      "/data2/varun/HiTIPS_paper_data/fig_5/kpnb1/exp2/AssayPlate_PerkinElmer_CellCarrier-384 Ultra_F11_T0278F006L01A01Z01C01.tif\n",
      "/data2/varun/HiTIPS_paper_data/fig_5/kpnb1/exp2/AssayPlate_PerkinElmer_CellCarrier-384 Ultra_F11_T0278F004L01A01Z01C01.tif\n",
      "/data2/varun/HiTIPS_paper_data/fig_5/kpnb1/exp2/AssayPlate_PerkinElmer_CellCarrier-384 Ultra_F11_T0278F009L01A01Z01C01.tif\n",
      "/data2/varun/HiTIPS_paper_data/fig_5/kpnb1/exp2/AssayPlate_PerkinElmer_CellCarrier-384 Ultra_F11_T0278F008L01A01Z01C01.tif\n",
      "/data2/varun/HiTIPS_paper_data/fig_5/kpnb1/exp2/AssayPlate_PerkinElmer_CellCarrier-384 Ultra_F11_T0279F002L01A01Z01C01.tif\n",
      "/data2/varun/HiTIPS_paper_data/fig_5/kpnb1/exp2/AssayPlate_PerkinElmer_CellCarrier-384 Ultra_F11_T0279F001L01A01Z01C01.tif\n",
      "/data2/varun/HiTIPS_paper_data/fig_5/kpnb1/exp2/AssayPlate_PerkinElmer_CellCarrier-384 Ultra_F11_T0279F004L01A01Z01C01.tif\n",
      "/data2/varun/HiTIPS_paper_data/fig_5/kpnb1/exp2/AssayPlate_PerkinElmer_CellCarrier-384 Ultra_F11_T0279F005L01A01Z01C01.tif\n",
      "/data2/varun/HiTIPS_paper_data/fig_5/kpnb1/exp2/AssayPlate_PerkinElmer_CellCarrier-384 Ultra_F11_T0279F003L01A01Z01C01.tif\n",
      "/data2/varun/HiTIPS_paper_data/fig_5/kpnb1/exp2/AssayPlate_PerkinElmer_CellCarrier-384 Ultra_F11_T0279F006L01A01Z01C01.tif\n",
      "/data2/varun/HiTIPS_paper_data/fig_5/kpnb1/exp2/AssayPlate_PerkinElmer_CellCarrier-384 Ultra_F11_T0279F008L01A01Z01C01.tif\n",
      "/data2/varun/HiTIPS_paper_data/fig_5/kpnb1/exp2/AssayPlate_PerkinElmer_CellCarrier-384 Ultra_F11_T0279F007L01A01Z01C01.tif\n",
      "/data2/varun/HiTIPS_paper_data/fig_5/kpnb1/exp2/AssayPlate_PerkinElmer_CellCarrier-384 Ultra_F11_T0280F001L01A01Z01C01.tif\n",
      "/data2/varun/HiTIPS_paper_data/fig_5/kpnb1/exp2/AssayPlate_PerkinElmer_CellCarrier-384 Ultra_F11_T0279F009L01A01Z01C01.tif\n",
      "/data2/varun/HiTIPS_paper_data/fig_5/kpnb1/exp2/AssayPlate_PerkinElmer_CellCarrier-384 Ultra_F11_T0280F003L01A01Z01C01.tif\n",
      "/data2/varun/HiTIPS_paper_data/fig_5/kpnb1/exp2/AssayPlate_PerkinElmer_CellCarrier-384 Ultra_F11_T0280F004L01A01Z01C01.tif\n",
      "/data2/varun/HiTIPS_paper_data/fig_5/kpnb1/exp2/AssayPlate_PerkinElmer_CellCarrier-384 Ultra_F11_T0280F002L01A01Z01C01.tif\n",
      "/data2/varun/HiTIPS_paper_data/fig_5/kpnb1/exp2/AssayPlate_PerkinElmer_CellCarrier-384 Ultra_F11_T0280F005L01A01Z01C01.tif\n",
      "/data2/varun/HiTIPS_paper_data/fig_5/kpnb1/exp2/AssayPlate_PerkinElmer_CellCarrier-384 Ultra_F11_T0280F007L01A01Z01C01.tif\n",
      "/data2/varun/HiTIPS_paper_data/fig_5/kpnb1/exp2/AssayPlate_PerkinElmer_CellCarrier-384 Ultra_F11_T0280F006L01A01Z01C01.tif\n",
      "/data2/varun/HiTIPS_paper_data/fig_5/kpnb1/exp2/AssayPlate_PerkinElmer_CellCarrier-384 Ultra_F11_T0280F009L01A01Z01C01.tif\n",
      "/data2/varun/HiTIPS_paper_data/fig_5/kpnb1/exp2/AssayPlate_PerkinElmer_CellCarrier-384 Ultra_F11_T0280F008L01A01Z01C01.tif\n",
      "/data2/varun/HiTIPS_paper_data/fig_5/kpnb1/exp2/AssayPlate_PerkinElmer_CellCarrier-384 Ultra_F11_T0281F002L01A01Z01C01.tif\n",
      "/data2/varun/HiTIPS_paper_data/fig_5/kpnb1/exp2/AssayPlate_PerkinElmer_CellCarrier-384 Ultra_F11_T0281F001L01A01Z01C01.tif\n",
      "/data2/varun/HiTIPS_paper_data/fig_5/kpnb1/exp2/AssayPlate_PerkinElmer_CellCarrier-384 Ultra_F11_T0281F004L01A01Z01C01.tif\n",
      "/data2/varun/HiTIPS_paper_data/fig_5/kpnb1/exp2/AssayPlate_PerkinElmer_CellCarrier-384 Ultra_F11_T0281F003L01A01Z01C01.tif\n",
      "/data2/varun/HiTIPS_paper_data/fig_5/kpnb1/exp2/AssayPlate_PerkinElmer_CellCarrier-384 Ultra_F11_T0281F006L01A01Z01C01.tif\n",
      "/data2/varun/HiTIPS_paper_data/fig_5/kpnb1/exp2/AssayPlate_PerkinElmer_CellCarrier-384 Ultra_F11_T0281F008L01A01Z01C01.tif\n",
      "/data2/varun/HiTIPS_paper_data/fig_5/kpnb1/exp2/AssayPlate_PerkinElmer_CellCarrier-384 Ultra_F11_T0281F005L01A01Z01C01.tif\n",
      "/data2/varun/HiTIPS_paper_data/fig_5/kpnb1/exp2/AssayPlate_PerkinElmer_CellCarrier-384 Ultra_F11_T0281F007L01A01Z01C01.tif\n",
      "/data2/varun/HiTIPS_paper_data/fig_5/kpnb1/exp2/AssayPlate_PerkinElmer_CellCarrier-384 Ultra_F11_T0282F001L01A01Z01C01.tif\n",
      "/data2/varun/HiTIPS_paper_data/fig_5/kpnb1/exp2/AssayPlate_PerkinElmer_CellCarrier-384 Ultra_F11_T0282F003L01A01Z01C01.tif\n",
      "/data2/varun/HiTIPS_paper_data/fig_5/kpnb1/exp2/AssayPlate_PerkinElmer_CellCarrier-384 Ultra_F11_T0281F009L01A01Z01C01.tif\n",
      "/data2/varun/HiTIPS_paper_data/fig_5/kpnb1/exp2/AssayPlate_PerkinElmer_CellCarrier-384 Ultra_F11_T0282F002L01A01Z01C01.tif\n",
      "/data2/varun/HiTIPS_paper_data/fig_5/kpnb1/exp2/AssayPlate_PerkinElmer_CellCarrier-384 Ultra_F11_T0282F005L01A01Z01C01.tif\n",
      "/data2/varun/HiTIPS_paper_data/fig_5/kpnb1/exp2/AssayPlate_PerkinElmer_CellCarrier-384 Ultra_F11_T0282F004L01A01Z01C01.tif\n",
      "/data2/varun/HiTIPS_paper_data/fig_5/kpnb1/exp2/AssayPlate_PerkinElmer_CellCarrier-384 Ultra_F11_T0282F006L01A01Z01C01.tif\n",
      "/data2/varun/HiTIPS_paper_data/fig_5/kpnb1/exp2/AssayPlate_PerkinElmer_CellCarrier-384 Ultra_F11_T0282F007L01A01Z01C01.tif\n",
      "/data2/varun/HiTIPS_paper_data/fig_5/kpnb1/exp2/AssayPlate_PerkinElmer_CellCarrier-384 Ultra_F11_T0282F009L01A01Z01C01.tif\n",
      "/data2/varun/HiTIPS_paper_data/fig_5/kpnb1/exp2/AssayPlate_PerkinElmer_CellCarrier-384 Ultra_F11_T0282F008L01A01Z01C01.tif\n",
      "/data2/varun/HiTIPS_paper_data/fig_5/kpnb1/exp2/AssayPlate_PerkinElmer_CellCarrier-384 Ultra_F11_T0283F001L01A01Z01C01.tif\n",
      "/data2/varun/HiTIPS_paper_data/fig_5/kpnb1/exp2/AssayPlate_PerkinElmer_CellCarrier-384 Ultra_F11_T0283F002L01A01Z01C01.tif\n",
      "/data2/varun/HiTIPS_paper_data/fig_5/kpnb1/exp2/AssayPlate_PerkinElmer_CellCarrier-384 Ultra_F11_T0283F003L01A01Z01C01.tif\n",
      "/data2/varun/HiTIPS_paper_data/fig_5/kpnb1/exp2/AssayPlate_PerkinElmer_CellCarrier-384 Ultra_F11_T0283F004L01A01Z01C01.tif\n",
      "/data2/varun/HiTIPS_paper_data/fig_5/kpnb1/exp2/AssayPlate_PerkinElmer_CellCarrier-384 Ultra_F11_T0283F005L01A01Z01C01.tif\n",
      "/data2/varun/HiTIPS_paper_data/fig_5/kpnb1/exp2/AssayPlate_PerkinElmer_CellCarrier-384 Ultra_F11_T0283F006L01A01Z01C01.tif\n",
      "/data2/varun/HiTIPS_paper_data/fig_5/kpnb1/exp2/AssayPlate_PerkinElmer_CellCarrier-384 Ultra_F11_T0283F008L01A01Z01C01.tif\n",
      "/data2/varun/HiTIPS_paper_data/fig_5/kpnb1/exp2/AssayPlate_PerkinElmer_CellCarrier-384 Ultra_F11_T0284F001L01A01Z01C01.tif\n",
      "/data2/varun/HiTIPS_paper_data/fig_5/kpnb1/exp2/AssayPlate_PerkinElmer_CellCarrier-384 Ultra_F11_T0283F009L01A01Z01C01.tif\n",
      "/data2/varun/HiTIPS_paper_data/fig_5/kpnb1/exp2/AssayPlate_PerkinElmer_CellCarrier-384 Ultra_F11_T0283F007L01A01Z01C01.tif\n",
      "/data2/varun/HiTIPS_paper_data/fig_5/kpnb1/exp2/AssayPlate_PerkinElmer_CellCarrier-384 Ultra_F11_T0284F005L01A01Z01C01.tif\n",
      "/data2/varun/HiTIPS_paper_data/fig_5/kpnb1/exp2/AssayPlate_PerkinElmer_CellCarrier-384 Ultra_F11_T0284F004L01A01Z01C01.tif\n",
      "/data2/varun/HiTIPS_paper_data/fig_5/kpnb1/exp2/AssayPlate_PerkinElmer_CellCarrier-384 Ultra_F11_T0284F003L01A01Z01C01.tif\n",
      "/data2/varun/HiTIPS_paper_data/fig_5/kpnb1/exp2/AssayPlate_PerkinElmer_CellCarrier-384 Ultra_F11_T0284F002L01A01Z01C01.tif\n",
      "/data2/varun/HiTIPS_paper_data/fig_5/kpnb1/exp2/AssayPlate_PerkinElmer_CellCarrier-384 Ultra_F11_T0284F007L01A01Z01C01.tif\n",
      "/data2/varun/HiTIPS_paper_data/fig_5/kpnb1/exp2/AssayPlate_PerkinElmer_CellCarrier-384 Ultra_F11_T0284F006L01A01Z01C01.tif\n",
      "/data2/varun/HiTIPS_paper_data/fig_5/kpnb1/exp2/AssayPlate_PerkinElmer_CellCarrier-384 Ultra_F11_T0284F008L01A01Z01C01.tif\n",
      "/data2/varun/HiTIPS_paper_data/fig_5/kpnb1/exp2/AssayPlate_PerkinElmer_CellCarrier-384 Ultra_F11_T0284F009L01A01Z01C01.tif\n",
      "/data2/varun/HiTIPS_paper_data/fig_5/kpnb1/exp2/AssayPlate_PerkinElmer_CellCarrier-384 Ultra_F11_T0285F002L01A01Z01C01.tif\n",
      "/data2/varun/HiTIPS_paper_data/fig_5/kpnb1/exp2/AssayPlate_PerkinElmer_CellCarrier-384 Ultra_F11_T0285F001L01A01Z01C01.tif\n",
      "/data2/varun/HiTIPS_paper_data/fig_5/kpnb1/exp2/AssayPlate_PerkinElmer_CellCarrier-384 Ultra_F11_T0285F004L01A01Z01C01.tif\n",
      "/data2/varun/HiTIPS_paper_data/fig_5/kpnb1/exp2/AssayPlate_PerkinElmer_CellCarrier-384 Ultra_F11_T0285F003L01A01Z01C01.tif\n",
      "/data2/varun/HiTIPS_paper_data/fig_5/kpnb1/exp2/AssayPlate_PerkinElmer_CellCarrier-384 Ultra_F11_T0285F005L01A01Z01C01.tif\n",
      "/data2/varun/HiTIPS_paper_data/fig_5/kpnb1/exp2/AssayPlate_PerkinElmer_CellCarrier-384 Ultra_F11_T0285F006L01A01Z01C01.tif\n",
      "/data2/varun/HiTIPS_paper_data/fig_5/kpnb1/exp2/AssayPlate_PerkinElmer_CellCarrier-384 Ultra_F11_T0285F008L01A01Z01C01.tif\n",
      "/data2/varun/HiTIPS_paper_data/fig_5/kpnb1/exp2/AssayPlate_PerkinElmer_CellCarrier-384 Ultra_F11_T0285F007L01A01Z01C01.tif\n",
      "/data2/varun/HiTIPS_paper_data/fig_5/kpnb1/exp2/AssayPlate_PerkinElmer_CellCarrier-384 Ultra_F11_T0286F001L01A01Z01C01.tif\n",
      "/data2/varun/HiTIPS_paper_data/fig_5/kpnb1/exp2/AssayPlate_PerkinElmer_CellCarrier-384 Ultra_F11_T0285F009L01A01Z01C01.tif\n",
      "/data2/varun/HiTIPS_paper_data/fig_5/kpnb1/exp2/AssayPlate_PerkinElmer_CellCarrier-384 Ultra_F11_T0286F002L01A01Z01C01.tif\n",
      "/data2/varun/HiTIPS_paper_data/fig_5/kpnb1/exp2/AssayPlate_PerkinElmer_CellCarrier-384 Ultra_F11_T0286F003L01A01Z01C01.tif\n",
      "/data2/varun/HiTIPS_paper_data/fig_5/kpnb1/exp2/AssayPlate_PerkinElmer_CellCarrier-384 Ultra_F11_T0286F005L01A01Z01C01.tif\n",
      "/data2/varun/HiTIPS_paper_data/fig_5/kpnb1/exp2/AssayPlate_PerkinElmer_CellCarrier-384 Ultra_F11_T0286F007L01A01Z01C01.tif\n",
      "/data2/varun/HiTIPS_paper_data/fig_5/kpnb1/exp2/AssayPlate_PerkinElmer_CellCarrier-384 Ultra_F11_T0286F004L01A01Z01C01.tif\n",
      "/data2/varun/HiTIPS_paper_data/fig_5/kpnb1/exp2/AssayPlate_PerkinElmer_CellCarrier-384 Ultra_F11_T0286F006L01A01Z01C01.tif\n",
      "/data2/varun/HiTIPS_paper_data/fig_5/kpnb1/exp2/AssayPlate_PerkinElmer_CellCarrier-384 Ultra_F11_T0286F008L01A01Z01C01.tif\n",
      "/data2/varun/HiTIPS_paper_data/fig_5/kpnb1/exp2/AssayPlate_PerkinElmer_CellCarrier-384 Ultra_F11_T0286F009L01A01Z01C01.tif\n",
      "/data2/varun/HiTIPS_paper_data/fig_5/kpnb1/exp2/AssayPlate_PerkinElmer_CellCarrier-384 Ultra_F11_T0287F001L01A01Z01C01.tif\n",
      "/data2/varun/HiTIPS_paper_data/fig_5/kpnb1/exp2/AssayPlate_PerkinElmer_CellCarrier-384 Ultra_F11_T0287F002L01A01Z01C01.tif\n",
      "/data2/varun/HiTIPS_paper_data/fig_5/kpnb1/exp2/AssayPlate_PerkinElmer_CellCarrier-384 Ultra_F11_T0287F004L01A01Z01C01.tif\n",
      "/data2/varun/HiTIPS_paper_data/fig_5/kpnb1/exp2/AssayPlate_PerkinElmer_CellCarrier-384 Ultra_F11_T0287F005L01A01Z01C01.tif\n",
      "/data2/varun/HiTIPS_paper_data/fig_5/kpnb1/exp2/AssayPlate_PerkinElmer_CellCarrier-384 Ultra_F11_T0287F006L01A01Z01C01.tif\n",
      "/data2/varun/HiTIPS_paper_data/fig_5/kpnb1/exp2/AssayPlate_PerkinElmer_CellCarrier-384 Ultra_F11_T0287F003L01A01Z01C01.tif\n",
      "/data2/varun/HiTIPS_paper_data/fig_5/kpnb1/exp2/AssayPlate_PerkinElmer_CellCarrier-384 Ultra_F11_T0288F001L01A01Z01C01.tif\n",
      "/data2/varun/HiTIPS_paper_data/fig_5/kpnb1/exp2/AssayPlate_PerkinElmer_CellCarrier-384 Ultra_F11_T0287F008L01A01Z01C01.tif\n",
      "/data2/varun/HiTIPS_paper_data/fig_5/kpnb1/exp2/AssayPlate_PerkinElmer_CellCarrier-384 Ultra_F11_T0287F009L01A01Z01C01.tif\n",
      "/data2/varun/HiTIPS_paper_data/fig_5/kpnb1/exp2/AssayPlate_PerkinElmer_CellCarrier-384 Ultra_F11_T0287F007L01A01Z01C01.tif\n",
      "/data2/varun/HiTIPS_paper_data/fig_5/kpnb1/exp2/AssayPlate_PerkinElmer_CellCarrier-384 Ultra_F11_T0288F003L01A01Z01C01.tif\n",
      "/data2/varun/HiTIPS_paper_data/fig_5/kpnb1/exp2/AssayPlate_PerkinElmer_CellCarrier-384 Ultra_F11_T0288F005L01A01Z01C01.tif\n",
      "/data2/varun/HiTIPS_paper_data/fig_5/kpnb1/exp2/AssayPlate_PerkinElmer_CellCarrier-384 Ultra_F11_T0288F004L01A01Z01C01.tif\n",
      "/data2/varun/HiTIPS_paper_data/fig_5/kpnb1/exp2/AssayPlate_PerkinElmer_CellCarrier-384 Ultra_F11_T0288F002L01A01Z01C01.tif\n",
      "/data2/varun/HiTIPS_paper_data/fig_5/kpnb1/exp2/AssayPlate_PerkinElmer_CellCarrier-384 Ultra_F11_T0288F007L01A01Z01C01.tif\n",
      "/data2/varun/HiTIPS_paper_data/fig_5/kpnb1/exp2/AssayPlate_PerkinElmer_CellCarrier-384 Ultra_F11_T0288F006L01A01Z01C01.tif\n",
      "/data2/varun/HiTIPS_paper_data/fig_5/kpnb1/exp2/AssayPlate_PerkinElmer_CellCarrier-384 Ultra_F11_T0288F008L01A01Z01C01.tif\n",
      "/data2/varun/HiTIPS_paper_data/fig_5/kpnb1/exp2/AssayPlate_PerkinElmer_CellCarrier-384 Ultra_F11_T0288F009L01A01Z01C01.tif\n",
      "/data2/varun/HiTIPS_paper_data/fig_5/kpnb1/exp2/AssayPlate_PerkinElmer_CellCarrier-384 Ultra_F11_T0289F003L01A01Z01C01.tif\n",
      "/data2/varun/HiTIPS_paper_data/fig_5/kpnb1/exp2/AssayPlate_PerkinElmer_CellCarrier-384 Ultra_F11_T0289F002L01A01Z01C01.tif\n",
      "/data2/varun/HiTIPS_paper_data/fig_5/kpnb1/exp2/AssayPlate_PerkinElmer_CellCarrier-384 Ultra_F11_T0289F001L01A01Z01C01.tif\n",
      "/data2/varun/HiTIPS_paper_data/fig_5/kpnb1/exp2/AssayPlate_PerkinElmer_CellCarrier-384 Ultra_F11_T0289F004L01A01Z01C01.tif\n",
      "/data2/varun/HiTIPS_paper_data/fig_5/kpnb1/exp2/AssayPlate_PerkinElmer_CellCarrier-384 Ultra_F11_T0289F006L01A01Z01C01.tif\n",
      "/data2/varun/HiTIPS_paper_data/fig_5/kpnb1/exp2/AssayPlate_PerkinElmer_CellCarrier-384 Ultra_F11_T0289F008L01A01Z01C01.tif\n",
      "/data2/varun/HiTIPS_paper_data/fig_5/kpnb1/exp2/AssayPlate_PerkinElmer_CellCarrier-384 Ultra_F11_T0289F007L01A01Z01C01.tif\n",
      "/data2/varun/HiTIPS_paper_data/fig_5/kpnb1/exp2/AssayPlate_PerkinElmer_CellCarrier-384 Ultra_F11_T0289F005L01A01Z01C01.tif\n",
      "/data2/varun/HiTIPS_paper_data/fig_5/kpnb1/exp2/AssayPlate_PerkinElmer_CellCarrier-384 Ultra_F11_T0290F001L01A01Z01C01.tif\n",
      "/data2/varun/HiTIPS_paper_data/fig_5/kpnb1/exp2/AssayPlate_PerkinElmer_CellCarrier-384 Ultra_F11_T0290F003L01A01Z01C01.tif\n",
      "/data2/varun/HiTIPS_paper_data/fig_5/kpnb1/exp2/AssayPlate_PerkinElmer_CellCarrier-384 Ultra_F11_T0290F002L01A01Z01C01.tif\n",
      "/data2/varun/HiTIPS_paper_data/fig_5/kpnb1/exp2/AssayPlate_PerkinElmer_CellCarrier-384 Ultra_F11_T0289F009L01A01Z01C01.tif\n",
      "/data2/varun/HiTIPS_paper_data/fig_5/kpnb1/exp2/AssayPlate_PerkinElmer_CellCarrier-384 Ultra_F11_T0290F005L01A01Z01C01.tif\n",
      "/data2/varun/HiTIPS_paper_data/fig_5/kpnb1/exp2/AssayPlate_PerkinElmer_CellCarrier-384 Ultra_F11_T0290F004L01A01Z01C01.tif\n",
      "/data2/varun/HiTIPS_paper_data/fig_5/kpnb1/exp2/AssayPlate_PerkinElmer_CellCarrier-384 Ultra_F11_T0290F007L01A01Z01C01.tif\n",
      "/data2/varun/HiTIPS_paper_data/fig_5/kpnb1/exp2/AssayPlate_PerkinElmer_CellCarrier-384 Ultra_F11_T0290F006L01A01Z01C01.tif\n",
      "/data2/varun/HiTIPS_paper_data/fig_5/kpnb1/exp2/AssayPlate_PerkinElmer_CellCarrier-384 Ultra_F11_T0291F001L01A01Z01C01.tif\n",
      "/data2/varun/HiTIPS_paper_data/fig_5/kpnb1/exp2/AssayPlate_PerkinElmer_CellCarrier-384 Ultra_F11_T0290F009L01A01Z01C01.tif\n",
      "/data2/varun/HiTIPS_paper_data/fig_5/kpnb1/exp2/AssayPlate_PerkinElmer_CellCarrier-384 Ultra_F11_T0290F008L01A01Z01C01.tif\n",
      "/data2/varun/HiTIPS_paper_data/fig_5/kpnb1/exp2/AssayPlate_PerkinElmer_CellCarrier-384 Ultra_F11_T0291F002L01A01Z01C01.tif\n",
      "/data2/varun/HiTIPS_paper_data/fig_5/kpnb1/exp2/AssayPlate_PerkinElmer_CellCarrier-384 Ultra_F11_T0291F004L01A01Z01C01.tif\n",
      "/data2/varun/HiTIPS_paper_data/fig_5/kpnb1/exp2/AssayPlate_PerkinElmer_CellCarrier-384 Ultra_F11_T0291F006L01A01Z01C01.tif\n",
      "/data2/varun/HiTIPS_paper_data/fig_5/kpnb1/exp2/AssayPlate_PerkinElmer_CellCarrier-384 Ultra_F11_T0291F005L01A01Z01C01.tif\n",
      "/data2/varun/HiTIPS_paper_data/fig_5/kpnb1/exp2/AssayPlate_PerkinElmer_CellCarrier-384 Ultra_F11_T0291F003L01A01Z01C01.tif\n",
      "/data2/varun/HiTIPS_paper_data/fig_5/kpnb1/exp2/AssayPlate_PerkinElmer_CellCarrier-384 Ultra_F11_T0292F001L01A01Z01C01.tif\n",
      "/data2/varun/HiTIPS_paper_data/fig_5/kpnb1/exp2/AssayPlate_PerkinElmer_CellCarrier-384 Ultra_F11_T0291F008L01A01Z01C01.tif\n",
      "/data2/varun/HiTIPS_paper_data/fig_5/kpnb1/exp2/AssayPlate_PerkinElmer_CellCarrier-384 Ultra_F11_T0291F009L01A01Z01C01.tif\n",
      "/data2/varun/HiTIPS_paper_data/fig_5/kpnb1/exp2/AssayPlate_PerkinElmer_CellCarrier-384 Ultra_F11_T0291F007L01A01Z01C01.tif\n",
      "/data2/varun/HiTIPS_paper_data/fig_5/kpnb1/exp2/AssayPlate_PerkinElmer_CellCarrier-384 Ultra_F11_T0292F005L01A01Z01C01.tif\n",
      "/data2/varun/HiTIPS_paper_data/fig_5/kpnb1/exp2/AssayPlate_PerkinElmer_CellCarrier-384 Ultra_F11_T0292F003L01A01Z01C01.tif\n",
      "/data2/varun/HiTIPS_paper_data/fig_5/kpnb1/exp2/AssayPlate_PerkinElmer_CellCarrier-384 Ultra_F11_T0292F004L01A01Z01C01.tif\n",
      "/data2/varun/HiTIPS_paper_data/fig_5/kpnb1/exp2/AssayPlate_PerkinElmer_CellCarrier-384 Ultra_F11_T0292F002L01A01Z01C01.tif\n",
      "/data2/varun/HiTIPS_paper_data/fig_5/kpnb1/exp2/AssayPlate_PerkinElmer_CellCarrier-384 Ultra_F11_T0292F007L01A01Z01C01.tif\n",
      "/data2/varun/HiTIPS_paper_data/fig_5/kpnb1/exp2/AssayPlate_PerkinElmer_CellCarrier-384 Ultra_F11_T0292F008L01A01Z01C01.tif\n",
      "/data2/varun/HiTIPS_paper_data/fig_5/kpnb1/exp2/AssayPlate_PerkinElmer_CellCarrier-384 Ultra_F11_T0292F006L01A01Z01C01.tif\n",
      "/data2/varun/HiTIPS_paper_data/fig_5/kpnb1/exp2/AssayPlate_PerkinElmer_CellCarrier-384 Ultra_F11_T0292F009L01A01Z01C01.tif\n",
      "/data2/varun/HiTIPS_paper_data/fig_5/kpnb1/exp2/AssayPlate_PerkinElmer_CellCarrier-384 Ultra_F11_T0293F002L01A01Z01C01.tif\n",
      "/data2/varun/HiTIPS_paper_data/fig_5/kpnb1/exp2/AssayPlate_PerkinElmer_CellCarrier-384 Ultra_F11_T0293F004L01A01Z01C01.tif\n",
      "/data2/varun/HiTIPS_paper_data/fig_5/kpnb1/exp2/AssayPlate_PerkinElmer_CellCarrier-384 Ultra_F11_T0293F003L01A01Z01C01.tif\n",
      "/data2/varun/HiTIPS_paper_data/fig_5/kpnb1/exp2/AssayPlate_PerkinElmer_CellCarrier-384 Ultra_F11_T0293F001L01A01Z01C01.tif\n",
      "/data2/varun/HiTIPS_paper_data/fig_5/kpnb1/exp2/AssayPlate_PerkinElmer_CellCarrier-384 Ultra_F11_T0293F006L01A01Z01C01.tif\n",
      "/data2/varun/HiTIPS_paper_data/fig_5/kpnb1/exp2/AssayPlate_PerkinElmer_CellCarrier-384 Ultra_F11_T0293F007L01A01Z01C01.tif\n",
      "/data2/varun/HiTIPS_paper_data/fig_5/kpnb1/exp2/AssayPlate_PerkinElmer_CellCarrier-384 Ultra_F11_T0293F005L01A01Z01C01.tif\n",
      "/data2/varun/HiTIPS_paper_data/fig_5/kpnb1/exp2/AssayPlate_PerkinElmer_CellCarrier-384 Ultra_F11_T0293F008L01A01Z01C01.tif\n",
      "/data2/varun/HiTIPS_paper_data/fig_5/kpnb1/exp2/AssayPlate_PerkinElmer_CellCarrier-384 Ultra_F11_T0294F001L01A01Z01C01.tif\n",
      "/data2/varun/HiTIPS_paper_data/fig_5/kpnb1/exp2/AssayPlate_PerkinElmer_CellCarrier-384 Ultra_F11_T0294F003L01A01Z01C01.tif\n",
      "/data2/varun/HiTIPS_paper_data/fig_5/kpnb1/exp2/AssayPlate_PerkinElmer_CellCarrier-384 Ultra_F11_T0294F002L01A01Z01C01.tif\n",
      "/data2/varun/HiTIPS_paper_data/fig_5/kpnb1/exp2/AssayPlate_PerkinElmer_CellCarrier-384 Ultra_F11_T0293F009L01A01Z01C01.tif\n",
      "/data2/varun/HiTIPS_paper_data/fig_5/kpnb1/exp2/AssayPlate_PerkinElmer_CellCarrier-384 Ultra_F11_T0294F005L01A01Z01C01.tif\n",
      "/data2/varun/HiTIPS_paper_data/fig_5/kpnb1/exp2/AssayPlate_PerkinElmer_CellCarrier-384 Ultra_F11_T0294F006L01A01Z01C01.tif\n",
      "/data2/varun/HiTIPS_paper_data/fig_5/kpnb1/exp2/AssayPlate_PerkinElmer_CellCarrier-384 Ultra_F11_T0294F007L01A01Z01C01.tif\n",
      "/data2/varun/HiTIPS_paper_data/fig_5/kpnb1/exp2/AssayPlate_PerkinElmer_CellCarrier-384 Ultra_F11_T0294F004L01A01Z01C01.tif\n",
      "/data2/varun/HiTIPS_paper_data/fig_5/kpnb1/exp2/AssayPlate_PerkinElmer_CellCarrier-384 Ultra_F11_T0294F009L01A01Z01C01.tif\n",
      "/data2/varun/HiTIPS_paper_data/fig_5/kpnb1/exp2/AssayPlate_PerkinElmer_CellCarrier-384 Ultra_F11_T0294F008L01A01Z01C01.tif\n",
      "/data2/varun/HiTIPS_paper_data/fig_5/kpnb1/exp2/AssayPlate_PerkinElmer_CellCarrier-384 Ultra_F11_T0295F002L01A01Z01C01.tif\n",
      "/data2/varun/HiTIPS_paper_data/fig_5/kpnb1/exp2/AssayPlate_PerkinElmer_CellCarrier-384 Ultra_F11_T0295F001L01A01Z01C01.tif\n",
      "/data2/varun/HiTIPS_paper_data/fig_5/kpnb1/exp2/AssayPlate_PerkinElmer_CellCarrier-384 Ultra_F11_T0295F004L01A01Z01C01.tif\n",
      "/data2/varun/HiTIPS_paper_data/fig_5/kpnb1/exp2/AssayPlate_PerkinElmer_CellCarrier-384 Ultra_F11_T0295F005L01A01Z01C01.tif\n",
      "/data2/varun/HiTIPS_paper_data/fig_5/kpnb1/exp2/AssayPlate_PerkinElmer_CellCarrier-384 Ultra_F11_T0295F006L01A01Z01C01.tif\n",
      "/data2/varun/HiTIPS_paper_data/fig_5/kpnb1/exp2/AssayPlate_PerkinElmer_CellCarrier-384 Ultra_F11_T0295F003L01A01Z01C01.tif\n",
      "/data2/varun/HiTIPS_paper_data/fig_5/kpnb1/exp2/AssayPlate_PerkinElmer_CellCarrier-384 Ultra_F11_T0295F008L01A01Z01C01.tif\n",
      "/data2/varun/HiTIPS_paper_data/fig_5/kpnb1/exp2/AssayPlate_PerkinElmer_CellCarrier-384 Ultra_F11_T0295F009L01A01Z01C01.tif\n",
      "/data2/varun/HiTIPS_paper_data/fig_5/kpnb1/exp2/AssayPlate_PerkinElmer_CellCarrier-384 Ultra_F11_T0296F001L01A01Z01C01.tif\n",
      "/data2/varun/HiTIPS_paper_data/fig_5/kpnb1/exp2/AssayPlate_PerkinElmer_CellCarrier-384 Ultra_F11_T0295F007L01A01Z01C01.tif\n",
      "/data2/varun/HiTIPS_paper_data/fig_5/kpnb1/exp2/AssayPlate_PerkinElmer_CellCarrier-384 Ultra_F11_T0296F002L01A01Z01C01.tif\n",
      "/data2/varun/HiTIPS_paper_data/fig_5/kpnb1/exp2/AssayPlate_PerkinElmer_CellCarrier-384 Ultra_F11_T0296F003L01A01Z01C01.tif\n",
      "/data2/varun/HiTIPS_paper_data/fig_5/kpnb1/exp2/AssayPlate_PerkinElmer_CellCarrier-384 Ultra_F11_T0296F005L01A01Z01C01.tif\n",
      "/data2/varun/HiTIPS_paper_data/fig_5/kpnb1/exp2/AssayPlate_PerkinElmer_CellCarrier-384 Ultra_F11_T0296F004L01A01Z01C01.tif\n",
      "/data2/varun/HiTIPS_paper_data/fig_5/kpnb1/exp2/AssayPlate_PerkinElmer_CellCarrier-384 Ultra_F11_T0296F007L01A01Z01C01.tif\n",
      "/data2/varun/HiTIPS_paper_data/fig_5/kpnb1/exp2/AssayPlate_PerkinElmer_CellCarrier-384 Ultra_F11_T0296F008L01A01Z01C01.tif\n",
      "/data2/varun/HiTIPS_paper_data/fig_5/kpnb1/exp2/AssayPlate_PerkinElmer_CellCarrier-384 Ultra_F11_T0296F006L01A01Z01C01.tif\n",
      "/data2/varun/HiTIPS_paper_data/fig_5/kpnb1/exp2/AssayPlate_PerkinElmer_CellCarrier-384 Ultra_F11_T0296F009L01A01Z01C01.tif\n",
      "/data2/varun/HiTIPS_paper_data/fig_5/kpnb1/exp2/AssayPlate_PerkinElmer_CellCarrier-384 Ultra_F11_T0297F002L01A01Z01C01.tif\n",
      "/data2/varun/HiTIPS_paper_data/fig_5/kpnb1/exp2/AssayPlate_PerkinElmer_CellCarrier-384 Ultra_F11_T0297F003L01A01Z01C01.tif\n",
      "/data2/varun/HiTIPS_paper_data/fig_5/kpnb1/exp2/AssayPlate_PerkinElmer_CellCarrier-384 Ultra_F11_T0297F004L01A01Z01C01.tif\n",
      "/data2/varun/HiTIPS_paper_data/fig_5/kpnb1/exp2/AssayPlate_PerkinElmer_CellCarrier-384 Ultra_F11_T0297F001L01A01Z01C01.tif\n",
      "/data2/varun/HiTIPS_paper_data/fig_5/kpnb1/exp2/AssayPlate_PerkinElmer_CellCarrier-384 Ultra_F11_T0297F007L01A01Z01C01.tif\n",
      "/data2/varun/HiTIPS_paper_data/fig_5/kpnb1/exp2/AssayPlate_PerkinElmer_CellCarrier-384 Ultra_F11_T0297F006L01A01Z01C01.tif\n",
      "/data2/varun/HiTIPS_paper_data/fig_5/kpnb1/exp2/AssayPlate_PerkinElmer_CellCarrier-384 Ultra_F11_T0297F008L01A01Z01C01.tif\n",
      "/data2/varun/HiTIPS_paper_data/fig_5/kpnb1/exp2/AssayPlate_PerkinElmer_CellCarrier-384 Ultra_F11_T0297F005L01A01Z01C01.tif\n",
      "/data2/varun/HiTIPS_paper_data/fig_5/kpnb1/exp2/AssayPlate_PerkinElmer_CellCarrier-384 Ultra_F11_T0298F001L01A01Z01C01.tif\n",
      "/data2/varun/HiTIPS_paper_data/fig_5/kpnb1/exp2/AssayPlate_PerkinElmer_CellCarrier-384 Ultra_F11_T0298F003L01A01Z01C01.tif\n",
      "/data2/varun/HiTIPS_paper_data/fig_5/kpnb1/exp2/AssayPlate_PerkinElmer_CellCarrier-384 Ultra_F11_T0297F009L01A01Z01C01.tif\n",
      "/data2/varun/HiTIPS_paper_data/fig_5/kpnb1/exp2/AssayPlate_PerkinElmer_CellCarrier-384 Ultra_F11_T0298F002L01A01Z01C01.tif\n",
      "/data2/varun/HiTIPS_paper_data/fig_5/kpnb1/exp2/AssayPlate_PerkinElmer_CellCarrier-384 Ultra_F11_T0298F005L01A01Z01C01.tif\n",
      "/data2/varun/HiTIPS_paper_data/fig_5/kpnb1/exp2/AssayPlate_PerkinElmer_CellCarrier-384 Ultra_F11_T0298F006L01A01Z01C01.tif\n",
      "/data2/varun/HiTIPS_paper_data/fig_5/kpnb1/exp2/AssayPlate_PerkinElmer_CellCarrier-384 Ultra_F11_T0298F004L01A01Z01C01.tif\n",
      "/data2/varun/HiTIPS_paper_data/fig_5/kpnb1/exp2/AssayPlate_PerkinElmer_CellCarrier-384 Ultra_F11_T0298F007L01A01Z01C01.tif\n",
      "/data2/varun/HiTIPS_paper_data/fig_5/kpnb1/exp2/AssayPlate_PerkinElmer_CellCarrier-384 Ultra_F11_T0299F001L01A01Z01C01.tif\n",
      "/data2/varun/HiTIPS_paper_data/fig_5/kpnb1/exp2/AssayPlate_PerkinElmer_CellCarrier-384 Ultra_F11_T0298F009L01A01Z01C01.tif\n",
      "/data2/varun/HiTIPS_paper_data/fig_5/kpnb1/exp2/AssayPlate_PerkinElmer_CellCarrier-384 Ultra_F11_T0299F002L01A01Z01C01.tif\n",
      "/data2/varun/HiTIPS_paper_data/fig_5/kpnb1/exp2/AssayPlate_PerkinElmer_CellCarrier-384 Ultra_F11_T0298F008L01A01Z01C01.tif\n",
      "/data2/varun/HiTIPS_paper_data/fig_5/kpnb1/exp2/AssayPlate_PerkinElmer_CellCarrier-384 Ultra_F11_T0299F004L01A01Z01C01.tif\n",
      "/data2/varun/HiTIPS_paper_data/fig_5/kpnb1/exp2/AssayPlate_PerkinElmer_CellCarrier-384 Ultra_F11_T0299F005L01A01Z01C01.tif\n",
      "/data2/varun/HiTIPS_paper_data/fig_5/kpnb1/exp2/AssayPlate_PerkinElmer_CellCarrier-384 Ultra_F11_T0299F006L01A01Z01C01.tif\n",
      "/data2/varun/HiTIPS_paper_data/fig_5/kpnb1/exp2/AssayPlate_PerkinElmer_CellCarrier-384 Ultra_F11_T0299F003L01A01Z01C01.tif\n",
      "/data2/varun/HiTIPS_paper_data/fig_5/kpnb1/exp2/AssayPlate_PerkinElmer_CellCarrier-384 Ultra_F11_T0299F008L01A01Z01C01.tif\n",
      "/data2/varun/HiTIPS_paper_data/fig_5/kpnb1/exp2/AssayPlate_PerkinElmer_CellCarrier-384 Ultra_F11_T0299F009L01A01Z01C01.tif\n",
      "/data2/varun/HiTIPS_paper_data/fig_5/kpnb1/exp2/AssayPlate_PerkinElmer_CellCarrier-384 Ultra_F11_T0300F001L01A01Z01C01.tif\n",
      "/data2/varun/HiTIPS_paper_data/fig_5/kpnb1/exp2/AssayPlate_PerkinElmer_CellCarrier-384 Ultra_F11_T0299F007L01A01Z01C01.tif\n",
      "/data2/varun/HiTIPS_paper_data/fig_5/kpnb1/exp2/AssayPlate_PerkinElmer_CellCarrier-384 Ultra_F11_T0300F005L01A01Z01C01.tif\n",
      "/data2/varun/HiTIPS_paper_data/fig_5/kpnb1/exp2/AssayPlate_PerkinElmer_CellCarrier-384 Ultra_F11_T0300F003L01A01Z01C01.tif\n",
      "/data2/varun/HiTIPS_paper_data/fig_5/kpnb1/exp2/AssayPlate_PerkinElmer_CellCarrier-384 Ultra_F11_T0300F004L01A01Z01C01.tif\n",
      "/data2/varun/HiTIPS_paper_data/fig_5/kpnb1/exp2/AssayPlate_PerkinElmer_CellCarrier-384 Ultra_F11_T0300F002L01A01Z01C01.tif\n",
      "/data2/varun/HiTIPS_paper_data/fig_5/kpnb1/exp2/AssayPlate_PerkinElmer_CellCarrier-384 Ultra_F11_T0300F007L01A01Z01C01.tif\n",
      "/data2/varun/HiTIPS_paper_data/fig_5/kpnb1/exp2/AssayPlate_PerkinElmer_CellCarrier-384 Ultra_F11_T0300F009L01A01Z01C01.tif\n",
      "/data2/varun/HiTIPS_paper_data/fig_5/kpnb1/exp2/AssayPlate_PerkinElmer_CellCarrier-384 Ultra_F11_T0300F006L01A01Z01C01.tif\n",
      "/data2/varun/HiTIPS_paper_data/fig_5/kpnb1/exp2/AssayPlate_PerkinElmer_CellCarrier-384 Ultra_F11_T0300F008L01A01Z01C01.tif\n",
      "/data2/varun/HiTIPS_paper_data/fig_5/kpnb1/exp2/AssayPlate_PerkinElmer_CellCarrier-384 Ultra_F11_T0301F002L01A01Z01C01.tif\n",
      "/data2/varun/HiTIPS_paper_data/fig_5/kpnb1/exp2/AssayPlate_PerkinElmer_CellCarrier-384 Ultra_F11_T0301F003L01A01Z01C01.tif\n",
      "/data2/varun/HiTIPS_paper_data/fig_5/kpnb1/exp2/AssayPlate_PerkinElmer_CellCarrier-384 Ultra_F11_T0301F004L01A01Z01C01.tif\n",
      "/data2/varun/HiTIPS_paper_data/fig_5/kpnb1/exp2/AssayPlate_PerkinElmer_CellCarrier-384 Ultra_F11_T0301F001L01A01Z01C01.tif\n",
      "/data2/varun/HiTIPS_paper_data/fig_5/kpnb1/exp2/AssayPlate_PerkinElmer_CellCarrier-384 Ultra_F11_T0301F006L01A01Z01C01.tif\n",
      "/data2/varun/HiTIPS_paper_data/fig_5/kpnb1/exp2/AssayPlate_PerkinElmer_CellCarrier-384 Ultra_F11_T0301F007L01A01Z01C01.tif\n",
      "/data2/varun/HiTIPS_paper_data/fig_5/kpnb1/exp2/AssayPlate_PerkinElmer_CellCarrier-384 Ultra_F11_T0301F008L01A01Z01C01.tif\n",
      "/data2/varun/HiTIPS_paper_data/fig_5/kpnb1/exp2/AssayPlate_PerkinElmer_CellCarrier-384 Ultra_F11_T0301F005L01A01Z01C01.tif\n",
      "/data2/varun/HiTIPS_paper_data/fig_5/kpnb1/exp2/AssayPlate_PerkinElmer_CellCarrier-384 Ultra_F11_T0302F003L01A01Z01C01.tif\n",
      "/data2/varun/HiTIPS_paper_data/fig_5/kpnb1/exp2/AssayPlate_PerkinElmer_CellCarrier-384 Ultra_F11_T0302F001L01A01Z01C01.tif\n",
      "/data2/varun/HiTIPS_paper_data/fig_5/kpnb1/exp2/AssayPlate_PerkinElmer_CellCarrier-384 Ultra_F11_T0301F009L01A01Z01C01.tif\n",
      "/data2/varun/HiTIPS_paper_data/fig_5/kpnb1/exp2/AssayPlate_PerkinElmer_CellCarrier-384 Ultra_F11_T0302F002L01A01Z01C01.tif\n",
      "/data2/varun/HiTIPS_paper_data/fig_5/kpnb1/exp2/AssayPlate_PerkinElmer_CellCarrier-384 Ultra_F11_T0302F005L01A01Z01C01.tif\n",
      "/data2/varun/HiTIPS_paper_data/fig_5/kpnb1/exp2/AssayPlate_PerkinElmer_CellCarrier-384 Ultra_F11_T0302F004L01A01Z01C01.tif\n",
      "/data2/varun/HiTIPS_paper_data/fig_5/kpnb1/exp2/AssayPlate_PerkinElmer_CellCarrier-384 Ultra_F11_T0302F006L01A01Z01C01.tif\n",
      "/data2/varun/HiTIPS_paper_data/fig_5/kpnb1/exp2/AssayPlate_PerkinElmer_CellCarrier-384 Ultra_F11_T0302F007L01A01Z01C01.tif\n",
      "/data2/varun/HiTIPS_paper_data/fig_5/kpnb1/exp2/AssayPlate_PerkinElmer_CellCarrier-384 Ultra_F11_T0302F009L01A01Z01C01.tif\n",
      "/data2/varun/HiTIPS_paper_data/fig_5/kpnb1/exp2/AssayPlate_PerkinElmer_CellCarrier-384 Ultra_F11_T0303F002L01A01Z01C01.tif\n",
      "/data2/varun/HiTIPS_paper_data/fig_5/kpnb1/exp2/AssayPlate_PerkinElmer_CellCarrier-384 Ultra_F11_T0302F008L01A01Z01C01.tif\n",
      "/data2/varun/HiTIPS_paper_data/fig_5/kpnb1/exp2/AssayPlate_PerkinElmer_CellCarrier-384 Ultra_F11_T0303F001L01A01Z01C01.tif\n",
      "/data2/varun/HiTIPS_paper_data/fig_5/kpnb1/exp2/AssayPlate_PerkinElmer_CellCarrier-384 Ultra_F11_T0303F005L01A01Z01C01.tif\n",
      "/data2/varun/HiTIPS_paper_data/fig_5/kpnb1/exp2/AssayPlate_PerkinElmer_CellCarrier-384 Ultra_F11_T0303F004L01A01Z01C01.tif\n",
      "/data2/varun/HiTIPS_paper_data/fig_5/kpnb1/exp2/AssayPlate_PerkinElmer_CellCarrier-384 Ultra_F11_T0303F006L01A01Z01C01.tif\n",
      "/data2/varun/HiTIPS_paper_data/fig_5/kpnb1/exp2/AssayPlate_PerkinElmer_CellCarrier-384 Ultra_F11_T0303F003L01A01Z01C01.tif\n",
      "/data2/varun/HiTIPS_paper_data/fig_5/kpnb1/exp2/AssayPlate_PerkinElmer_CellCarrier-384 Ultra_F11_T0303F008L01A01Z01C01.tif\n",
      "/data2/varun/HiTIPS_paper_data/fig_5/kpnb1/exp2/AssayPlate_PerkinElmer_CellCarrier-384 Ultra_F11_T0303F007L01A01Z01C01.tif\n",
      "/data2/varun/HiTIPS_paper_data/fig_5/kpnb1/exp2/AssayPlate_PerkinElmer_CellCarrier-384 Ultra_F11_T0303F009L01A01Z01C01.tif\n",
      "/data2/varun/HiTIPS_paper_data/fig_5/kpnb1/exp2/AssayPlate_PerkinElmer_CellCarrier-384 Ultra_F11_T0304F001L01A01Z01C01.tif\n",
      "/data2/varun/HiTIPS_paper_data/fig_5/kpnb1/exp2/AssayPlate_PerkinElmer_CellCarrier-384 Ultra_F11_T0304F004L01A01Z01C01.tif\n",
      "/data2/varun/HiTIPS_paper_data/fig_5/kpnb1/exp2/AssayPlate_PerkinElmer_CellCarrier-384 Ultra_F11_T0304F003L01A01Z01C01.tif\n",
      "/data2/varun/HiTIPS_paper_data/fig_5/kpnb1/exp2/AssayPlate_PerkinElmer_CellCarrier-384 Ultra_F11_T0304F005L01A01Z01C01.tif\n",
      "/data2/varun/HiTIPS_paper_data/fig_5/kpnb1/exp2/AssayPlate_PerkinElmer_CellCarrier-384 Ultra_F11_T0304F002L01A01Z01C01.tif\n",
      "/data2/varun/HiTIPS_paper_data/fig_5/kpnb1/exp2/AssayPlate_PerkinElmer_CellCarrier-384 Ultra_F11_T0304F007L01A01Z01C01.tif\n",
      "/data2/varun/HiTIPS_paper_data/fig_5/kpnb1/exp2/AssayPlate_PerkinElmer_CellCarrier-384 Ultra_F11_T0304F008L01A01Z01C01.tif\n",
      "/data2/varun/HiTIPS_paper_data/fig_5/kpnb1/exp2/AssayPlate_PerkinElmer_CellCarrier-384 Ultra_F11_T0304F009L01A01Z01C01.tif\n",
      "/data2/varun/HiTIPS_paper_data/fig_5/kpnb1/exp2/AssayPlate_PerkinElmer_CellCarrier-384 Ultra_F11_T0304F006L01A01Z01C01.tif\n",
      "/data2/varun/HiTIPS_paper_data/fig_5/kpnb1/exp2/AssayPlate_PerkinElmer_CellCarrier-384 Ultra_F11_T0305F002L01A01Z01C01.tif\n",
      "/data2/varun/HiTIPS_paper_data/fig_5/kpnb1/exp2/AssayPlate_PerkinElmer_CellCarrier-384 Ultra_F11_T0305F001L01A01Z01C01.tif\n",
      "/data2/varun/HiTIPS_paper_data/fig_5/kpnb1/exp2/AssayPlate_PerkinElmer_CellCarrier-384 Ultra_F11_T0305F004L01A01Z01C01.tif\n",
      "/data2/varun/HiTIPS_paper_data/fig_5/kpnb1/exp2/AssayPlate_PerkinElmer_CellCarrier-384 Ultra_F11_T0305F003L01A01Z01C01.tif\n",
      "/data2/varun/HiTIPS_paper_data/fig_5/kpnb1/exp2/AssayPlate_PerkinElmer_CellCarrier-384 Ultra_F11_T0305F006L01A01Z01C01.tif\n",
      "/data2/varun/HiTIPS_paper_data/fig_5/kpnb1/exp2/AssayPlate_PerkinElmer_CellCarrier-384 Ultra_F11_T0305F005L01A01Z01C01.tif\n",
      "/data2/varun/HiTIPS_paper_data/fig_5/kpnb1/exp2/AssayPlate_PerkinElmer_CellCarrier-384 Ultra_F11_T0305F007L01A01Z01C01.tif\n",
      "/data2/varun/HiTIPS_paper_data/fig_5/kpnb1/exp2/AssayPlate_PerkinElmer_CellCarrier-384 Ultra_F11_T0305F008L01A01Z01C01.tif\n",
      "/data2/varun/HiTIPS_paper_data/fig_5/kpnb1/exp2/AssayPlate_PerkinElmer_CellCarrier-384 Ultra_F11_T0306F001L01A01Z01C01.tif\n",
      "/data2/varun/HiTIPS_paper_data/fig_5/kpnb1/exp2/AssayPlate_PerkinElmer_CellCarrier-384 Ultra_F11_T0306F002L01A01Z01C01.tif\n",
      "/data2/varun/HiTIPS_paper_data/fig_5/kpnb1/exp2/AssayPlate_PerkinElmer_CellCarrier-384 Ultra_F11_T0306F003L01A01Z01C01.tif\n",
      "/data2/varun/HiTIPS_paper_data/fig_5/kpnb1/exp2/AssayPlate_PerkinElmer_CellCarrier-384 Ultra_F11_T0305F009L01A01Z01C01.tif\n",
      "/data2/varun/HiTIPS_paper_data/fig_5/kpnb1/exp2/AssayPlate_PerkinElmer_CellCarrier-384 Ultra_F11_T0306F005L01A01Z01C01.tif\n",
      "/data2/varun/HiTIPS_paper_data/fig_5/kpnb1/exp2/AssayPlate_PerkinElmer_CellCarrier-384 Ultra_F11_T0306F007L01A01Z01C01.tif\n",
      "/data2/varun/HiTIPS_paper_data/fig_5/kpnb1/exp2/AssayPlate_PerkinElmer_CellCarrier-384 Ultra_F11_T0306F004L01A01Z01C01.tif\n",
      "/data2/varun/HiTIPS_paper_data/fig_5/kpnb1/exp2/AssayPlate_PerkinElmer_CellCarrier-384 Ultra_F11_T0306F006L01A01Z01C01.tif\n",
      "/data2/varun/HiTIPS_paper_data/fig_5/kpnb1/exp2/AssayPlate_PerkinElmer_CellCarrier-384 Ultra_F11_T0306F009L01A01Z01C01.tif\n",
      "/data2/varun/HiTIPS_paper_data/fig_5/kpnb1/exp2/AssayPlate_PerkinElmer_CellCarrier-384 Ultra_F11_T0306F008L01A01Z01C01.tif\n",
      "/data2/varun/HiTIPS_paper_data/fig_5/kpnb1/exp2/AssayPlate_PerkinElmer_CellCarrier-384 Ultra_F11_T0307F001L01A01Z01C01.tif\n",
      "/data2/varun/HiTIPS_paper_data/fig_5/kpnb1/exp2/AssayPlate_PerkinElmer_CellCarrier-384 Ultra_F11_T0307F002L01A01Z01C01.tif\n",
      "/data2/varun/HiTIPS_paper_data/fig_5/kpnb1/exp2/AssayPlate_PerkinElmer_CellCarrier-384 Ultra_F11_T0307F004L01A01Z01C01.tif\n",
      "/data2/varun/HiTIPS_paper_data/fig_5/kpnb1/exp2/AssayPlate_PerkinElmer_CellCarrier-384 Ultra_F11_T0307F003L01A01Z01C01.tif\n",
      "/data2/varun/HiTIPS_paper_data/fig_5/kpnb1/exp2/AssayPlate_PerkinElmer_CellCarrier-384 Ultra_F11_T0307F005L01A01Z01C01.tif\n",
      "/data2/varun/HiTIPS_paper_data/fig_5/kpnb1/exp2/AssayPlate_PerkinElmer_CellCarrier-384 Ultra_F11_T0307F006L01A01Z01C01.tif\n",
      "/data2/varun/HiTIPS_paper_data/fig_5/kpnb1/exp2/AssayPlate_PerkinElmer_CellCarrier-384 Ultra_F11_T0307F008L01A01Z01C01.tif\n",
      "/data2/varun/HiTIPS_paper_data/fig_5/kpnb1/exp2/AssayPlate_PerkinElmer_CellCarrier-384 Ultra_F11_T0307F009L01A01Z01C01.tif\n",
      "/data2/varun/HiTIPS_paper_data/fig_5/kpnb1/exp2/AssayPlate_PerkinElmer_CellCarrier-384 Ultra_F11_T0308F001L01A01Z01C01.tif\n",
      "/data2/varun/HiTIPS_paper_data/fig_5/kpnb1/exp2/AssayPlate_PerkinElmer_CellCarrier-384 Ultra_F11_T0307F007L01A01Z01C01.tif\n",
      "/data2/varun/HiTIPS_paper_data/fig_5/kpnb1/exp2/AssayPlate_PerkinElmer_CellCarrier-384 Ultra_F11_T0308F005L01A01Z01C01.tif\n",
      "/data2/varun/HiTIPS_paper_data/fig_5/kpnb1/exp2/AssayPlate_PerkinElmer_CellCarrier-384 Ultra_F11_T0308F003L01A01Z01C01.tif\n",
      "/data2/varun/HiTIPS_paper_data/fig_5/kpnb1/exp2/AssayPlate_PerkinElmer_CellCarrier-384 Ultra_F11_T0308F004L01A01Z01C01.tif\n",
      "/data2/varun/HiTIPS_paper_data/fig_5/kpnb1/exp2/AssayPlate_PerkinElmer_CellCarrier-384 Ultra_F11_T0308F002L01A01Z01C01.tif\n",
      "/data2/varun/HiTIPS_paper_data/fig_5/kpnb1/exp2/AssayPlate_PerkinElmer_CellCarrier-384 Ultra_F11_T0308F007L01A01Z01C01.tif\n",
      "/data2/varun/HiTIPS_paper_data/fig_5/kpnb1/exp2/AssayPlate_PerkinElmer_CellCarrier-384 Ultra_F11_T0308F006L01A01Z01C01.tif\n",
      "/data2/varun/HiTIPS_paper_data/fig_5/kpnb1/exp2/AssayPlate_PerkinElmer_CellCarrier-384 Ultra_F11_T0308F008L01A01Z01C01.tif\n",
      "/data2/varun/HiTIPS_paper_data/fig_5/kpnb1/exp2/AssayPlate_PerkinElmer_CellCarrier-384 Ultra_F11_T0308F009L01A01Z01C01.tif\n",
      "/data2/varun/HiTIPS_paper_data/fig_5/kpnb1/exp2/AssayPlate_PerkinElmer_CellCarrier-384 Ultra_F11_T0309F002L01A01Z01C01.tif\n",
      "/data2/varun/HiTIPS_paper_data/fig_5/kpnb1/exp2/AssayPlate_PerkinElmer_CellCarrier-384 Ultra_F11_T0309F003L01A01Z01C01.tif/data2/varun/HiTIPS_paper_data/fig_5/kpnb1/exp2/AssayPlate_PerkinElmer_CellCarrier-384 Ultra_F11_T0309F004L01A01Z01C01.tif\n",
      "\n",
      "/data2/varun/HiTIPS_paper_data/fig_5/kpnb1/exp2/AssayPlate_PerkinElmer_CellCarrier-384 Ultra_F11_T0309F001L01A01Z01C01.tif\n",
      "/data2/varun/HiTIPS_paper_data/fig_5/kpnb1/exp2/AssayPlate_PerkinElmer_CellCarrier-384 Ultra_F11_T0309F005L01A01Z01C01.tif\n",
      "/data2/varun/HiTIPS_paper_data/fig_5/kpnb1/exp2/AssayPlate_PerkinElmer_CellCarrier-384 Ultra_F11_T0309F006L01A01Z01C01.tif\n",
      "/data2/varun/HiTIPS_paper_data/fig_5/kpnb1/exp2/AssayPlate_PerkinElmer_CellCarrier-384 Ultra_F11_T0309F008L01A01Z01C01.tif\n",
      "/data2/varun/HiTIPS_paper_data/fig_5/kpnb1/exp2/AssayPlate_PerkinElmer_CellCarrier-384 Ultra_F11_T0309F007L01A01Z01C01.tif\n",
      "/data2/varun/HiTIPS_paper_data/fig_5/kpnb1/exp2/AssayPlate_PerkinElmer_CellCarrier-384 Ultra_F11_T0310F001L01A01Z01C01.tif\n",
      "/data2/varun/HiTIPS_paper_data/fig_5/kpnb1/exp2/AssayPlate_PerkinElmer_CellCarrier-384 Ultra_F11_T0310F002L01A01Z01C01.tif\n",
      "/data2/varun/HiTIPS_paper_data/fig_5/kpnb1/exp2/AssayPlate_PerkinElmer_CellCarrier-384 Ultra_F11_T0310F003L01A01Z01C01.tif\n",
      "/data2/varun/HiTIPS_paper_data/fig_5/kpnb1/exp2/AssayPlate_PerkinElmer_CellCarrier-384 Ultra_F11_T0309F009L01A01Z01C01.tif\n",
      "/data2/varun/HiTIPS_paper_data/fig_5/kpnb1/exp2/AssayPlate_PerkinElmer_CellCarrier-384 Ultra_F11_T0310F005L01A01Z01C01.tif\n",
      "/data2/varun/HiTIPS_paper_data/fig_5/kpnb1/exp2/AssayPlate_PerkinElmer_CellCarrier-384 Ultra_F11_T0310F007L01A01Z01C01.tif\n",
      "/data2/varun/HiTIPS_paper_data/fig_5/kpnb1/exp2/AssayPlate_PerkinElmer_CellCarrier-384 Ultra_F11_T0310F006L01A01Z01C01.tif\n",
      "/data2/varun/HiTIPS_paper_data/fig_5/kpnb1/exp2/AssayPlate_PerkinElmer_CellCarrier-384 Ultra_F11_T0310F004L01A01Z01C01.tif\n",
      "/data2/varun/HiTIPS_paper_data/fig_5/kpnb1/exp2/AssayPlate_PerkinElmer_CellCarrier-384 Ultra_F11_T0311F002L01A01Z01C01.tif\n",
      "/data2/varun/HiTIPS_paper_data/fig_5/kpnb1/exp2/AssayPlate_PerkinElmer_CellCarrier-384 Ultra_F11_T0310F009L01A01Z01C01.tif\n",
      "/data2/varun/HiTIPS_paper_data/fig_5/kpnb1/exp2/AssayPlate_PerkinElmer_CellCarrier-384 Ultra_F11_T0310F008L01A01Z01C01.tif\n",
      "/data2/varun/HiTIPS_paper_data/fig_5/kpnb1/exp2/AssayPlate_PerkinElmer_CellCarrier-384 Ultra_F11_T0311F001L01A01Z01C01.tif\n",
      "/data2/varun/HiTIPS_paper_data/fig_5/kpnb1/exp2/AssayPlate_PerkinElmer_CellCarrier-384 Ultra_F11_T0311F004L01A01Z01C01.tif\n",
      "/data2/varun/HiTIPS_paper_data/fig_5/kpnb1/exp2/AssayPlate_PerkinElmer_CellCarrier-384 Ultra_F11_T0311F005L01A01Z01C01.tif\n",
      "/data2/varun/HiTIPS_paper_data/fig_5/kpnb1/exp2/AssayPlate_PerkinElmer_CellCarrier-384 Ultra_F11_T0311F003L01A01Z01C01.tif\n",
      "/data2/varun/HiTIPS_paper_data/fig_5/kpnb1/exp2/AssayPlate_PerkinElmer_CellCarrier-384 Ultra_F11_T0311F006L01A01Z01C01.tif\n",
      "/data2/varun/HiTIPS_paper_data/fig_5/kpnb1/exp2/AssayPlate_PerkinElmer_CellCarrier-384 Ultra_F11_T0311F008L01A01Z01C01.tif\n",
      "/data2/varun/HiTIPS_paper_data/fig_5/kpnb1/exp2/AssayPlate_PerkinElmer_CellCarrier-384 Ultra_F11_T0312F001L01A01Z01C01.tif\n",
      "/data2/varun/HiTIPS_paper_data/fig_5/kpnb1/exp2/AssayPlate_PerkinElmer_CellCarrier-384 Ultra_F11_T0311F007L01A01Z01C01.tif\n",
      "/data2/varun/HiTIPS_paper_data/fig_5/kpnb1/exp2/AssayPlate_PerkinElmer_CellCarrier-384 Ultra_F11_T0311F009L01A01Z01C01.tif\n",
      "/data2/varun/HiTIPS_paper_data/fig_5/kpnb1/exp2/AssayPlate_PerkinElmer_CellCarrier-384 Ultra_F11_T0312F003L01A01Z01C01.tif\n",
      "/data2/varun/HiTIPS_paper_data/fig_5/kpnb1/exp2/AssayPlate_PerkinElmer_CellCarrier-384 Ultra_F11_T0312F005L01A01Z01C01.tif\n",
      "/data2/varun/HiTIPS_paper_data/fig_5/kpnb1/exp2/AssayPlate_PerkinElmer_CellCarrier-384 Ultra_F11_T0312F002L01A01Z01C01.tif\n",
      "/data2/varun/HiTIPS_paper_data/fig_5/kpnb1/exp2/AssayPlate_PerkinElmer_CellCarrier-384 Ultra_F11_T0312F004L01A01Z01C01.tif\n",
      "/data2/varun/HiTIPS_paper_data/fig_5/kpnb1/exp2/AssayPlate_PerkinElmer_CellCarrier-384 Ultra_F11_T0312F006L01A01Z01C01.tif\n",
      "/data2/varun/HiTIPS_paper_data/fig_5/kpnb1/exp2/AssayPlate_PerkinElmer_CellCarrier-384 Ultra_F11_T0312F009L01A01Z01C01.tif\n",
      "/data2/varun/HiTIPS_paper_data/fig_5/kpnb1/exp2/AssayPlate_PerkinElmer_CellCarrier-384 Ultra_F11_T0312F008L01A01Z01C01.tif\n",
      "/data2/varun/HiTIPS_paper_data/fig_5/kpnb1/exp2/AssayPlate_PerkinElmer_CellCarrier-384 Ultra_F11_T0312F007L01A01Z01C01.tif\n",
      "/data2/varun/HiTIPS_paper_data/fig_5/kpnb1/exp2/AssayPlate_PerkinElmer_CellCarrier-384 Ultra_F11_T0313F002L01A01Z01C01.tif\n",
      "/data2/varun/HiTIPS_paper_data/fig_5/kpnb1/exp2/AssayPlate_PerkinElmer_CellCarrier-384 Ultra_F11_T0313F001L01A01Z01C01.tif\n",
      "/data2/varun/HiTIPS_paper_data/fig_5/kpnb1/exp2/AssayPlate_PerkinElmer_CellCarrier-384 Ultra_F11_T0313F004L01A01Z01C01.tif\n",
      "/data2/varun/HiTIPS_paper_data/fig_5/kpnb1/exp2/AssayPlate_PerkinElmer_CellCarrier-384 Ultra_F11_T0313F003L01A01Z01C01.tif\n",
      "/data2/varun/HiTIPS_paper_data/fig_5/kpnb1/exp2/AssayPlate_PerkinElmer_CellCarrier-384 Ultra_F11_T0313F006L01A01Z01C01.tif\n",
      "/data2/varun/HiTIPS_paper_data/fig_5/kpnb1/exp2/AssayPlate_PerkinElmer_CellCarrier-384 Ultra_F11_T0313F005L01A01Z01C01.tif\n",
      "/data2/varun/HiTIPS_paper_data/fig_5/kpnb1/exp2/AssayPlate_PerkinElmer_CellCarrier-384 Ultra_F11_T0313F008L01A01Z01C01.tif\n",
      "/data2/varun/HiTIPS_paper_data/fig_5/kpnb1/exp2/AssayPlate_PerkinElmer_CellCarrier-384 Ultra_F11_T0313F007L01A01Z01C01.tif\n",
      "/data2/varun/HiTIPS_paper_data/fig_5/kpnb1/exp2/AssayPlate_PerkinElmer_CellCarrier-384 Ultra_F11_T0314F001L01A01Z01C01.tif\n",
      "/data2/varun/HiTIPS_paper_data/fig_5/kpnb1/exp2/AssayPlate_PerkinElmer_CellCarrier-384 Ultra_F11_T0313F009L01A01Z01C01.tif\n",
      "/data2/varun/HiTIPS_paper_data/fig_5/kpnb1/exp2/AssayPlate_PerkinElmer_CellCarrier-384 Ultra_F11_T0314F002L01A01Z01C01.tif\n",
      "/data2/varun/HiTIPS_paper_data/fig_5/kpnb1/exp2/AssayPlate_PerkinElmer_CellCarrier-384 Ultra_F11_T0314F003L01A01Z01C01.tif\n",
      "/data2/varun/HiTIPS_paper_data/fig_5/kpnb1/exp2/AssayPlate_PerkinElmer_CellCarrier-384 Ultra_F11_T0314F005L01A01Z01C01.tif\n",
      "/data2/varun/HiTIPS_paper_data/fig_5/kpnb1/exp2/AssayPlate_PerkinElmer_CellCarrier-384 Ultra_F11_T0314F006L01A01Z01C01.tif\n",
      "/data2/varun/HiTIPS_paper_data/fig_5/kpnb1/exp2/AssayPlate_PerkinElmer_CellCarrier-384 Ultra_F11_T0314F004L01A01Z01C01.tif\n",
      "/data2/varun/HiTIPS_paper_data/fig_5/kpnb1/exp2/AssayPlate_PerkinElmer_CellCarrier-384 Ultra_F11_T0314F007L01A01Z01C01.tif\n",
      "/data2/varun/HiTIPS_paper_data/fig_5/kpnb1/exp2/AssayPlate_PerkinElmer_CellCarrier-384 Ultra_F11_T0314F009L01A01Z01C01.tif\n",
      "/data2/varun/HiTIPS_paper_data/fig_5/kpnb1/exp2/AssayPlate_PerkinElmer_CellCarrier-384 Ultra_F11_T0315F001L01A01Z01C01.tif\n",
      "/data2/varun/HiTIPS_paper_data/fig_5/kpnb1/exp2/AssayPlate_PerkinElmer_CellCarrier-384 Ultra_F11_T0315F002L01A01Z01C01.tif\n",
      "/data2/varun/HiTIPS_paper_data/fig_5/kpnb1/exp2/AssayPlate_PerkinElmer_CellCarrier-384 Ultra_F11_T0314F008L01A01Z01C01.tif\n",
      "/data2/varun/HiTIPS_paper_data/fig_5/kpnb1/exp2/AssayPlate_PerkinElmer_CellCarrier-384 Ultra_F11_T0315F003L01A01Z01C01.tif\n",
      "/data2/varun/HiTIPS_paper_data/fig_5/kpnb1/exp2/AssayPlate_PerkinElmer_CellCarrier-384 Ultra_F11_T0315F005L01A01Z01C01.tif\n",
      "/data2/varun/HiTIPS_paper_data/fig_5/kpnb1/exp2/AssayPlate_PerkinElmer_CellCarrier-384 Ultra_F11_T0315F006L01A01Z01C01.tif\n",
      "/data2/varun/HiTIPS_paper_data/fig_5/kpnb1/exp2/AssayPlate_PerkinElmer_CellCarrier-384 Ultra_F11_T0315F004L01A01Z01C01.tif\n",
      "/data2/varun/HiTIPS_paper_data/fig_5/kpnb1/exp2/AssayPlate_PerkinElmer_CellCarrier-384 Ultra_F11_T0315F007L01A01Z01C01.tif\n",
      "/data2/varun/HiTIPS_paper_data/fig_5/kpnb1/exp2/AssayPlate_PerkinElmer_CellCarrier-384 Ultra_F11_T0316F001L01A01Z01C01.tif\n",
      "/data2/varun/HiTIPS_paper_data/fig_5/kpnb1/exp2/AssayPlate_PerkinElmer_CellCarrier-384 Ultra_F11_T0315F008L01A01Z01C01.tif\n",
      "/data2/varun/HiTIPS_paper_data/fig_5/kpnb1/exp2/AssayPlate_PerkinElmer_CellCarrier-384 Ultra_F11_T0315F009L01A01Z01C01.tif\n",
      "/data2/varun/HiTIPS_paper_data/fig_5/kpnb1/exp2/AssayPlate_PerkinElmer_CellCarrier-384 Ultra_F11_T0316F005L01A01Z01C01.tif\n",
      "/data2/varun/HiTIPS_paper_data/fig_5/kpnb1/exp2/AssayPlate_PerkinElmer_CellCarrier-384 Ultra_F11_T0316F003L01A01Z01C01.tif\n",
      "/data2/varun/HiTIPS_paper_data/fig_5/kpnb1/exp2/AssayPlate_PerkinElmer_CellCarrier-384 Ultra_F11_T0316F002L01A01Z01C01.tif\n",
      "/data2/varun/HiTIPS_paper_data/fig_5/kpnb1/exp2/AssayPlate_PerkinElmer_CellCarrier-384 Ultra_F11_T0316F004L01A01Z01C01.tif\n",
      "/data2/varun/HiTIPS_paper_data/fig_5/kpnb1/exp2/AssayPlate_PerkinElmer_CellCarrier-384 Ultra_F11_T0316F007L01A01Z01C01.tif\n",
      "/data2/varun/HiTIPS_paper_data/fig_5/kpnb1/exp2/AssayPlate_PerkinElmer_CellCarrier-384 Ultra_F11_T0316F008L01A01Z01C01.tif\n",
      "/data2/varun/HiTIPS_paper_data/fig_5/kpnb1/exp2/AssayPlate_PerkinElmer_CellCarrier-384 Ultra_F11_T0316F009L01A01Z01C01.tif\n",
      "/data2/varun/HiTIPS_paper_data/fig_5/kpnb1/exp2/AssayPlate_PerkinElmer_CellCarrier-384 Ultra_F11_T0316F006L01A01Z01C01.tif\n",
      "/data2/varun/HiTIPS_paper_data/fig_5/kpnb1/exp2/AssayPlate_PerkinElmer_CellCarrier-384 Ultra_F11_T0317F002L01A01Z01C01.tif\n",
      "/data2/varun/HiTIPS_paper_data/fig_5/kpnb1/exp2/AssayPlate_PerkinElmer_CellCarrier-384 Ultra_F11_T0317F001L01A01Z01C01.tif\n",
      "/data2/varun/HiTIPS_paper_data/fig_5/kpnb1/exp2/AssayPlate_PerkinElmer_CellCarrier-384 Ultra_F11_T0317F003L01A01Z01C01.tif\n",
      "/data2/varun/HiTIPS_paper_data/fig_5/kpnb1/exp2/AssayPlate_PerkinElmer_CellCarrier-384 Ultra_F11_T0317F004L01A01Z01C01.tif\n",
      "/data2/varun/HiTIPS_paper_data/fig_5/kpnb1/exp2/AssayPlate_PerkinElmer_CellCarrier-384 Ultra_F11_T0317F006L01A01Z01C01.tif\n",
      "/data2/varun/HiTIPS_paper_data/fig_5/kpnb1/exp2/AssayPlate_PerkinElmer_CellCarrier-384 Ultra_F11_T0317F007L01A01Z01C01.tif\n",
      "/data2/varun/HiTIPS_paper_data/fig_5/kpnb1/exp2/AssayPlate_PerkinElmer_CellCarrier-384 Ultra_F11_T0317F005L01A01Z01C01.tif\n",
      "/data2/varun/HiTIPS_paper_data/fig_5/kpnb1/exp2/AssayPlate_PerkinElmer_CellCarrier-384 Ultra_F11_T0317F008L01A01Z01C01.tif\n",
      "/data2/varun/HiTIPS_paper_data/fig_5/kpnb1/exp2/AssayPlate_PerkinElmer_CellCarrier-384 Ultra_F11_T0318F001L01A01Z01C01.tif\n",
      "/data2/varun/HiTIPS_paper_data/fig_5/kpnb1/exp2/AssayPlate_PerkinElmer_CellCarrier-384 Ultra_F11_T0317F009L01A01Z01C01.tif\n",
      "/data2/varun/HiTIPS_paper_data/fig_5/kpnb1/exp2/AssayPlate_PerkinElmer_CellCarrier-384 Ultra_F11_T0318F002L01A01Z01C01.tif\n",
      "/data2/varun/HiTIPS_paper_data/fig_5/kpnb1/exp2/AssayPlate_PerkinElmer_CellCarrier-384 Ultra_F11_T0318F003L01A01Z01C01.tif\n",
      "/data2/varun/HiTIPS_paper_data/fig_5/kpnb1/exp2/AssayPlate_PerkinElmer_CellCarrier-384 Ultra_F11_T0318F005L01A01Z01C01.tif\n",
      "/data2/varun/HiTIPS_paper_data/fig_5/kpnb1/exp2/AssayPlate_PerkinElmer_CellCarrier-384 Ultra_F11_T0318F006L01A01Z01C01.tif\n",
      "/data2/varun/HiTIPS_paper_data/fig_5/kpnb1/exp2/AssayPlate_PerkinElmer_CellCarrier-384 Ultra_F11_T0318F004L01A01Z01C01.tif\n",
      "/data2/varun/HiTIPS_paper_data/fig_5/kpnb1/exp2/AssayPlate_PerkinElmer_CellCarrier-384 Ultra_F11_T0318F007L01A01Z01C01.tif\n",
      "/data2/varun/HiTIPS_paper_data/fig_5/kpnb1/exp2/AssayPlate_PerkinElmer_CellCarrier-384 Ultra_F11_T0318F009L01A01Z01C01.tif\n",
      "/data2/varun/HiTIPS_paper_data/fig_5/kpnb1/exp2/AssayPlate_PerkinElmer_CellCarrier-384 Ultra_F11_T0319F001L01A01Z01C01.tif\n",
      "/data2/varun/HiTIPS_paper_data/fig_5/kpnb1/exp2/AssayPlate_PerkinElmer_CellCarrier-384 Ultra_F11_T0319F002L01A01Z01C01.tif\n",
      "/data2/varun/HiTIPS_paper_data/fig_5/kpnb1/exp2/AssayPlate_PerkinElmer_CellCarrier-384 Ultra_F11_T0318F008L01A01Z01C01.tif\n",
      "/data2/varun/HiTIPS_paper_data/fig_5/kpnb1/exp2/AssayPlate_PerkinElmer_CellCarrier-384 Ultra_F11_T0319F004L01A01Z01C01.tif\n",
      "/data2/varun/HiTIPS_paper_data/fig_5/kpnb1/exp2/AssayPlate_PerkinElmer_CellCarrier-384 Ultra_F11_T0319F006L01A01Z01C01.tif\n",
      "/data2/varun/HiTIPS_paper_data/fig_5/kpnb1/exp2/AssayPlate_PerkinElmer_CellCarrier-384 Ultra_F11_T0319F005L01A01Z01C01.tif\n",
      "/data2/varun/HiTIPS_paper_data/fig_5/kpnb1/exp2/AssayPlate_PerkinElmer_CellCarrier-384 Ultra_F11_T0319F003L01A01Z01C01.tif\n",
      "/data2/varun/HiTIPS_paper_data/fig_5/kpnb1/exp2/AssayPlate_PerkinElmer_CellCarrier-384 Ultra_F11_T0319F008L01A01Z01C01.tif\n",
      "/data2/varun/HiTIPS_paper_data/fig_5/kpnb1/exp2/AssayPlate_PerkinElmer_CellCarrier-384 Ultra_F11_T0320F001L01A01Z01C01.tif\n",
      "/data2/varun/HiTIPS_paper_data/fig_5/kpnb1/exp2/AssayPlate_PerkinElmer_CellCarrier-384 Ultra_F11_T0319F007L01A01Z01C01.tif\n",
      "/data2/varun/HiTIPS_paper_data/fig_5/kpnb1/exp2/AssayPlate_PerkinElmer_CellCarrier-384 Ultra_F11_T0319F009L01A01Z01C01.tif\n",
      "/data2/varun/HiTIPS_paper_data/fig_5/kpnb1/exp2/AssayPlate_PerkinElmer_CellCarrier-384 Ultra_F11_T0320F003L01A01Z01C01.tif\n",
      "/data2/varun/HiTIPS_paper_data/fig_5/kpnb1/exp2/AssayPlate_PerkinElmer_CellCarrier-384 Ultra_F11_T0320F002L01A01Z01C01.tif\n",
      "/data2/varun/HiTIPS_paper_data/fig_5/kpnb1/exp2/AssayPlate_PerkinElmer_CellCarrier-384 Ultra_F11_T0320F005L01A01Z01C01.tif\n",
      "/data2/varun/HiTIPS_paper_data/fig_5/kpnb1/exp2/AssayPlate_PerkinElmer_CellCarrier-384 Ultra_F11_T0320F004L01A01Z01C01.tif\n",
      "/data2/varun/HiTIPS_paper_data/fig_5/kpnb1/exp2/AssayPlate_PerkinElmer_CellCarrier-384 Ultra_F11_T0320F007L01A01Z01C01.tif\n",
      "/data2/varun/HiTIPS_paper_data/fig_5/kpnb1/exp2/AssayPlate_PerkinElmer_CellCarrier-384 Ultra_F11_T0320F008L01A01Z01C01.tif\n",
      "/data2/varun/HiTIPS_paper_data/fig_5/kpnb1/exp2/AssayPlate_PerkinElmer_CellCarrier-384 Ultra_F11_T0320F006L01A01Z01C01.tif\n",
      "/data2/varun/HiTIPS_paper_data/fig_5/kpnb1/exp2/AssayPlate_PerkinElmer_CellCarrier-384 Ultra_F11_T0320F009L01A01Z01C01.tif\n",
      "/data2/varun/HiTIPS_paper_data/fig_5/kpnb1/exp2/AssayPlate_PerkinElmer_CellCarrier-384 Ultra_F11_T0321F002L01A01Z01C01.tif\n",
      "/data2/varun/HiTIPS_paper_data/fig_5/kpnb1/exp2/AssayPlate_PerkinElmer_CellCarrier-384 Ultra_F11_T0321F001L01A01Z01C01.tif\n",
      "/data2/varun/HiTIPS_paper_data/fig_5/kpnb1/exp2/AssayPlate_PerkinElmer_CellCarrier-384 Ultra_F11_T0321F003L01A01Z01C01.tif\n",
      "/data2/varun/HiTIPS_paper_data/fig_5/kpnb1/exp2/AssayPlate_PerkinElmer_CellCarrier-384 Ultra_F11_T0321F004L01A01Z01C01.tif\n",
      "/data2/varun/HiTIPS_paper_data/fig_5/kpnb1/exp2/AssayPlate_PerkinElmer_CellCarrier-384 Ultra_F11_T0321F006L01A01Z01C01.tif\n",
      "/data2/varun/HiTIPS_paper_data/fig_5/kpnb1/exp2/AssayPlate_PerkinElmer_CellCarrier-384 Ultra_F11_T0321F008L01A01Z01C01.tif\n",
      "/data2/varun/HiTIPS_paper_data/fig_5/kpnb1/exp2/AssayPlate_PerkinElmer_CellCarrier-384 Ultra_F11_T0321F007L01A01Z01C01.tif\n",
      "/data2/varun/HiTIPS_paper_data/fig_5/kpnb1/exp2/AssayPlate_PerkinElmer_CellCarrier-384 Ultra_F11_T0321F005L01A01Z01C01.tif\n",
      "/data2/varun/HiTIPS_paper_data/fig_5/kpnb1/exp2/AssayPlate_PerkinElmer_CellCarrier-384 Ultra_F11_T0322F001L01A01Z01C01.tif\n",
      "/data2/varun/HiTIPS_paper_data/fig_5/kpnb1/exp2/AssayPlate_PerkinElmer_CellCarrier-384 Ultra_F11_T0322F002L01A01Z01C01.tif\n",
      "/data2/varun/HiTIPS_paper_data/fig_5/kpnb1/exp2/AssayPlate_PerkinElmer_CellCarrier-384 Ultra_F11_T0322F003L01A01Z01C01.tif\n",
      "/data2/varun/HiTIPS_paper_data/fig_5/kpnb1/exp2/AssayPlate_PerkinElmer_CellCarrier-384 Ultra_F11_T0321F009L01A01Z01C01.tif\n",
      "/data2/varun/HiTIPS_paper_data/fig_5/kpnb1/exp2/AssayPlate_PerkinElmer_CellCarrier-384 Ultra_F11_T0322F005L01A01Z01C01.tif\n",
      "/data2/varun/HiTIPS_paper_data/fig_5/kpnb1/exp2/AssayPlate_PerkinElmer_CellCarrier-384 Ultra_F11_T0322F004L01A01Z01C01.tif\n",
      "/data2/varun/HiTIPS_paper_data/fig_5/kpnb1/exp2/AssayPlate_PerkinElmer_CellCarrier-384 Ultra_F11_T0322F007L01A01Z01C01.tif\n",
      "/data2/varun/HiTIPS_paper_data/fig_5/kpnb1/exp2/AssayPlate_PerkinElmer_CellCarrier-384 Ultra_F11_T0322F006L01A01Z01C01.tif\n",
      "/data2/varun/HiTIPS_paper_data/fig_5/kpnb1/exp2/AssayPlate_PerkinElmer_CellCarrier-384 Ultra_F11_T0322F009L01A01Z01C01.tif\n",
      "/data2/varun/HiTIPS_paper_data/fig_5/kpnb1/exp2/AssayPlate_PerkinElmer_CellCarrier-384 Ultra_F11_T0322F008L01A01Z01C01.tif\n",
      "/data2/varun/HiTIPS_paper_data/fig_5/kpnb1/exp2/AssayPlate_PerkinElmer_CellCarrier-384 Ultra_F11_T0323F001L01A01Z01C01.tif\n",
      "/data2/varun/HiTIPS_paper_data/fig_5/kpnb1/exp2/AssayPlate_PerkinElmer_CellCarrier-384 Ultra_F11_T0323F002L01A01Z01C01.tif\n",
      "/data2/varun/HiTIPS_paper_data/fig_5/kpnb1/exp2/AssayPlate_PerkinElmer_CellCarrier-384 Ultra_F11_T0323F005L01A01Z01C01.tif\n",
      "/data2/varun/HiTIPS_paper_data/fig_5/kpnb1/exp2/AssayPlate_PerkinElmer_CellCarrier-384 Ultra_F11_T0323F004L01A01Z01C01.tif\n",
      "/data2/varun/HiTIPS_paper_data/fig_5/kpnb1/exp2/AssayPlate_PerkinElmer_CellCarrier-384 Ultra_F11_T0323F006L01A01Z01C01.tif\n",
      "/data2/varun/HiTIPS_paper_data/fig_5/kpnb1/exp2/AssayPlate_PerkinElmer_CellCarrier-384 Ultra_F11_T0323F003L01A01Z01C01.tif\n",
      "/data2/varun/HiTIPS_paper_data/fig_5/kpnb1/exp2/AssayPlate_PerkinElmer_CellCarrier-384 Ultra_F11_T0323F009L01A01Z01C01.tif\n",
      "/data2/varun/HiTIPS_paper_data/fig_5/kpnb1/exp2/AssayPlate_PerkinElmer_CellCarrier-384 Ultra_F11_T0323F008L01A01Z01C01.tif\n",
      "/data2/varun/HiTIPS_paper_data/fig_5/kpnb1/exp2/AssayPlate_PerkinElmer_CellCarrier-384 Ultra_F11_T0324F001L01A01Z01C01.tif\n",
      "/data2/varun/HiTIPS_paper_data/fig_5/kpnb1/exp2/AssayPlate_PerkinElmer_CellCarrier-384 Ultra_F11_T0323F007L01A01Z01C01.tif\n",
      "/data2/varun/HiTIPS_paper_data/fig_5/kpnb1/exp2/AssayPlate_PerkinElmer_CellCarrier-384 Ultra_F11_T0324F003L01A01Z01C01.tif\n",
      "/data2/varun/HiTIPS_paper_data/fig_5/kpnb1/exp2/AssayPlate_PerkinElmer_CellCarrier-384 Ultra_F11_T0324F005L01A01Z01C01.tif\n",
      "/data2/varun/HiTIPS_paper_data/fig_5/kpnb1/exp2/AssayPlate_PerkinElmer_CellCarrier-384 Ultra_F11_T0324F004L01A01Z01C01.tif\n",
      "/data2/varun/HiTIPS_paper_data/fig_5/kpnb1/exp2/AssayPlate_PerkinElmer_CellCarrier-384 Ultra_F11_T0324F002L01A01Z01C01.tif\n",
      "/data2/varun/HiTIPS_paper_data/fig_5/kpnb1/exp2/AssayPlate_PerkinElmer_CellCarrier-384 Ultra_F11_T0324F007L01A01Z01C01.tif\n",
      "/data2/varun/HiTIPS_paper_data/fig_5/kpnb1/exp2/AssayPlate_PerkinElmer_CellCarrier-384 Ultra_F11_T0324F006L01A01Z01C01.tif\n",
      "/data2/varun/HiTIPS_paper_data/fig_5/kpnb1/exp2/AssayPlate_PerkinElmer_CellCarrier-384 Ultra_F11_T0324F008L01A01Z01C01.tif\n",
      "/data2/varun/HiTIPS_paper_data/fig_5/kpnb1/exp2/AssayPlate_PerkinElmer_CellCarrier-384 Ultra_F11_T0324F009L01A01Z01C01.tif\n",
      "/data2/varun/HiTIPS_paper_data/fig_5/kpnb1/exp2/AssayPlate_PerkinElmer_CellCarrier-384 Ultra_F11_T0325F002L01A01Z01C01.tif\n",
      "/data2/varun/HiTIPS_paper_data/fig_5/kpnb1/exp2/AssayPlate_PerkinElmer_CellCarrier-384 Ultra_F11_T0325F004L01A01Z01C01.tif\n",
      "/data2/varun/HiTIPS_paper_data/fig_5/kpnb1/exp2/AssayPlate_PerkinElmer_CellCarrier-384 Ultra_F11_T0325F003L01A01Z01C01.tif\n",
      "/data2/varun/HiTIPS_paper_data/fig_5/kpnb1/exp2/AssayPlate_PerkinElmer_CellCarrier-384 Ultra_F11_T0325F001L01A01Z01C01.tif\n",
      "/data2/varun/HiTIPS_paper_data/fig_5/kpnb1/exp2/AssayPlate_PerkinElmer_CellCarrier-384 Ultra_F11_T0325F005L01A01Z01C01.tif\n",
      "/data2/varun/HiTIPS_paper_data/fig_5/kpnb1/exp2/AssayPlate_PerkinElmer_CellCarrier-384 Ultra_F11_T0325F006L01A01Z01C01.tif\n",
      "/data2/varun/HiTIPS_paper_data/fig_5/kpnb1/exp2/AssayPlate_PerkinElmer_CellCarrier-384 Ultra_F11_T0325F008L01A01Z01C01.tif\n",
      "/data2/varun/HiTIPS_paper_data/fig_5/kpnb1/exp2/AssayPlate_PerkinElmer_CellCarrier-384 Ultra_F11_T0325F007L01A01Z01C01.tif\n",
      "/data2/varun/HiTIPS_paper_data/fig_5/kpnb1/exp2/AssayPlate_PerkinElmer_CellCarrier-384 Ultra_F11_T0326F001L01A01Z01C01.tif\n",
      "/data2/varun/HiTIPS_paper_data/fig_5/kpnb1/exp2/AssayPlate_PerkinElmer_CellCarrier-384 Ultra_F11_T0326F002L01A01Z01C01.tif\n",
      "/data2/varun/HiTIPS_paper_data/fig_5/kpnb1/exp2/AssayPlate_PerkinElmer_CellCarrier-384 Ultra_F11_T0325F009L01A01Z01C01.tif\n",
      "/data2/varun/HiTIPS_paper_data/fig_5/kpnb1/exp2/AssayPlate_PerkinElmer_CellCarrier-384 Ultra_F11_T0326F003L01A01Z01C01.tif\n",
      "/data2/varun/HiTIPS_paper_data/fig_5/kpnb1/exp2/AssayPlate_PerkinElmer_CellCarrier-384 Ultra_F11_T0326F005L01A01Z01C01.tif\n",
      "/data2/varun/HiTIPS_paper_data/fig_5/kpnb1/exp2/AssayPlate_PerkinElmer_CellCarrier-384 Ultra_F11_T0326F004L01A01Z01C01.tif\n",
      "/data2/varun/HiTIPS_paper_data/fig_5/kpnb1/exp2/AssayPlate_PerkinElmer_CellCarrier-384 Ultra_F11_T0326F006L01A01Z01C01.tif\n",
      "/data2/varun/HiTIPS_paper_data/fig_5/kpnb1/exp2/AssayPlate_PerkinElmer_CellCarrier-384 Ultra_F11_T0326F007L01A01Z01C01.tif\n",
      "/data2/varun/HiTIPS_paper_data/fig_5/kpnb1/exp2/AssayPlate_PerkinElmer_CellCarrier-384 Ultra_F11_T0326F009L01A01Z01C01.tif\n",
      "/data2/varun/HiTIPS_paper_data/fig_5/kpnb1/exp2/AssayPlate_PerkinElmer_CellCarrier-384 Ultra_F11_T0327F001L01A01Z01C01.tif\n",
      "/data2/varun/HiTIPS_paper_data/fig_5/kpnb1/exp2/AssayPlate_PerkinElmer_CellCarrier-384 Ultra_F11_T0327F002L01A01Z01C01.tif\n",
      "/data2/varun/HiTIPS_paper_data/fig_5/kpnb1/exp2/AssayPlate_PerkinElmer_CellCarrier-384 Ultra_F11_T0326F008L01A01Z01C01.tif\n",
      "/data2/varun/HiTIPS_paper_data/fig_5/kpnb1/exp2/AssayPlate_PerkinElmer_CellCarrier-384 Ultra_F11_T0327F005L01A01Z01C01.tif\n",
      "/data2/varun/HiTIPS_paper_data/fig_5/kpnb1/exp2/AssayPlate_PerkinElmer_CellCarrier-384 Ultra_F11_T0327F004L01A01Z01C01.tif\n",
      "/data2/varun/HiTIPS_paper_data/fig_5/kpnb1/exp2/AssayPlate_PerkinElmer_CellCarrier-384 Ultra_F11_T0327F003L01A01Z01C01.tif\n",
      "/data2/varun/HiTIPS_paper_data/fig_5/kpnb1/exp2/AssayPlate_PerkinElmer_CellCarrier-384 Ultra_F11_T0327F006L01A01Z01C01.tif\n",
      "/data2/varun/HiTIPS_paper_data/fig_5/kpnb1/exp2/AssayPlate_PerkinElmer_CellCarrier-384 Ultra_F11_T0327F008L01A01Z01C01.tif\n",
      "/data2/varun/HiTIPS_paper_data/fig_5/kpnb1/exp2/AssayPlate_PerkinElmer_CellCarrier-384 Ultra_F11_T0328F001L01A01Z01C01.tif\n",
      "/data2/varun/HiTIPS_paper_data/fig_5/kpnb1/exp2/AssayPlate_PerkinElmer_CellCarrier-384 Ultra_F11_T0327F009L01A01Z01C01.tif\n",
      "/data2/varun/HiTIPS_paper_data/fig_5/kpnb1/exp2/AssayPlate_PerkinElmer_CellCarrier-384 Ultra_F11_T0327F007L01A01Z01C01.tif\n",
      "/data2/varun/HiTIPS_paper_data/fig_5/kpnb1/exp2/AssayPlate_PerkinElmer_CellCarrier-384 Ultra_F11_T0328F003L01A01Z01C01.tif\n",
      "/data2/varun/HiTIPS_paper_data/fig_5/kpnb1/exp2/AssayPlate_PerkinElmer_CellCarrier-384 Ultra_F11_T0328F004L01A01Z01C01.tif\n",
      "/data2/varun/HiTIPS_paper_data/fig_5/kpnb1/exp2/AssayPlate_PerkinElmer_CellCarrier-384 Ultra_F11_T0328F005L01A01Z01C01.tif\n",
      "/data2/varun/HiTIPS_paper_data/fig_5/kpnb1/exp2/AssayPlate_PerkinElmer_CellCarrier-384 Ultra_F11_T0328F002L01A01Z01C01.tif\n",
      "/data2/varun/HiTIPS_paper_data/fig_5/kpnb1/exp2/AssayPlate_PerkinElmer_CellCarrier-384 Ultra_F11_T0328F008L01A01Z01C01.tif\n",
      "/data2/varun/HiTIPS_paper_data/fig_5/kpnb1/exp2/AssayPlate_PerkinElmer_CellCarrier-384 Ultra_F11_T0328F007L01A01Z01C01.tif\n",
      "/data2/varun/HiTIPS_paper_data/fig_5/kpnb1/exp2/AssayPlate_PerkinElmer_CellCarrier-384 Ultra_F11_T0328F006L01A01Z01C01.tif\n",
      "/data2/varun/HiTIPS_paper_data/fig_5/kpnb1/exp2/AssayPlate_PerkinElmer_CellCarrier-384 Ultra_F11_T0328F009L01A01Z01C01.tif\n",
      "/data2/varun/HiTIPS_paper_data/fig_5/kpnb1/exp2/AssayPlate_PerkinElmer_CellCarrier-384 Ultra_F11_T0329F002L01A01Z01C01.tif\n",
      "/data2/varun/HiTIPS_paper_data/fig_5/kpnb1/exp2/AssayPlate_PerkinElmer_CellCarrier-384 Ultra_F11_T0329F003L01A01Z01C01.tif\n",
      "/data2/varun/HiTIPS_paper_data/fig_5/kpnb1/exp2/AssayPlate_PerkinElmer_CellCarrier-384 Ultra_F11_T0329F001L01A01Z01C01.tif\n",
      "/data2/varun/HiTIPS_paper_data/fig_5/kpnb1/exp2/AssayPlate_PerkinElmer_CellCarrier-384 Ultra_F11_T0329F004L01A01Z01C01.tif\n",
      "/data2/varun/HiTIPS_paper_data/fig_5/kpnb1/exp2/AssayPlate_PerkinElmer_CellCarrier-384 Ultra_F11_T0329F006L01A01Z01C01.tif\n",
      "/data2/varun/HiTIPS_paper_data/fig_5/kpnb1/exp2/AssayPlate_PerkinElmer_CellCarrier-384 Ultra_F11_T0329F005L01A01Z01C01.tif\n",
      "/data2/varun/HiTIPS_paper_data/fig_5/kpnb1/exp2/AssayPlate_PerkinElmer_CellCarrier-384 Ultra_F11_T0329F008L01A01Z01C01.tif\n",
      "/data2/varun/HiTIPS_paper_data/fig_5/kpnb1/exp2/AssayPlate_PerkinElmer_CellCarrier-384 Ultra_F11_T0329F007L01A01Z01C01.tif\n",
      "/data2/varun/HiTIPS_paper_data/fig_5/kpnb1/exp2/AssayPlate_PerkinElmer_CellCarrier-384 Ultra_F11_T0330F001L01A01Z01C01.tif\n",
      "/data2/varun/HiTIPS_paper_data/fig_5/kpnb1/exp2/AssayPlate_PerkinElmer_CellCarrier-384 Ultra_F11_T0329F009L01A01Z01C01.tif\n",
      "/data2/varun/HiTIPS_paper_data/fig_5/kpnb1/exp2/AssayPlate_PerkinElmer_CellCarrier-384 Ultra_F11_T0330F002L01A01Z01C01.tif\n",
      "/data2/varun/HiTIPS_paper_data/fig_5/kpnb1/exp2/AssayPlate_PerkinElmer_CellCarrier-384 Ultra_F11_T0330F003L01A01Z01C01.tif\n",
      "/data2/varun/HiTIPS_paper_data/fig_5/kpnb1/exp2/AssayPlate_PerkinElmer_CellCarrier-384 Ultra_F11_T0330F005L01A01Z01C01.tif\n",
      "/data2/varun/HiTIPS_paper_data/fig_5/kpnb1/exp2/AssayPlate_PerkinElmer_CellCarrier-384 Ultra_F11_T0330F004L01A01Z01C01.tif\n",
      "/data2/varun/HiTIPS_paper_data/fig_5/kpnb1/exp2/AssayPlate_PerkinElmer_CellCarrier-384 Ultra_F11_T0330F006L01A01Z01C01.tif\n",
      "/data2/varun/HiTIPS_paper_data/fig_5/kpnb1/exp2/AssayPlate_PerkinElmer_CellCarrier-384 Ultra_F11_T0330F007L01A01Z01C01.tif\n",
      "/data2/varun/HiTIPS_paper_data/fig_5/kpnb1/exp2/AssayPlate_PerkinElmer_CellCarrier-384 Ultra_F11_T0331F002L01A01Z01C01.tif\n",
      "/data2/varun/HiTIPS_paper_data/fig_5/kpnb1/exp2/AssayPlate_PerkinElmer_CellCarrier-384 Ultra_F11_T0330F009L01A01Z01C01.tif\n",
      "/data2/varun/HiTIPS_paper_data/fig_5/kpnb1/exp2/AssayPlate_PerkinElmer_CellCarrier-384 Ultra_F11_T0330F008L01A01Z01C01.tif\n",
      "/data2/varun/HiTIPS_paper_data/fig_5/kpnb1/exp2/AssayPlate_PerkinElmer_CellCarrier-384 Ultra_F11_T0331F001L01A01Z01C01.tif\n",
      "/data2/varun/HiTIPS_paper_data/fig_5/kpnb1/exp2/AssayPlate_PerkinElmer_CellCarrier-384 Ultra_F11_T0331F006L01A01Z01C01.tif\n",
      "/data2/varun/HiTIPS_paper_data/fig_5/kpnb1/exp2/AssayPlate_PerkinElmer_CellCarrier-384 Ultra_F11_T0331F004L01A01Z01C01.tif\n",
      "/data2/varun/HiTIPS_paper_data/fig_5/kpnb1/exp2/AssayPlate_PerkinElmer_CellCarrier-384 Ultra_F11_T0331F005L01A01Z01C01.tif\n",
      "/data2/varun/HiTIPS_paper_data/fig_5/kpnb1/exp2/AssayPlate_PerkinElmer_CellCarrier-384 Ultra_F11_T0331F003L01A01Z01C01.tif\n",
      "/data2/varun/HiTIPS_paper_data/fig_5/kpnb1/exp2/AssayPlate_PerkinElmer_CellCarrier-384 Ultra_F11_T0331F007L01A01Z01C01.tif\n",
      "/data2/varun/HiTIPS_paper_data/fig_5/kpnb1/exp2/AssayPlate_PerkinElmer_CellCarrier-384 Ultra_F11_T0332F001L01A01Z01C01.tif\n",
      "/data2/varun/HiTIPS_paper_data/fig_5/kpnb1/exp2/AssayPlate_PerkinElmer_CellCarrier-384 Ultra_F11_T0331F009L01A01Z01C01.tif\n",
      "/data2/varun/HiTIPS_paper_data/fig_5/kpnb1/exp2/AssayPlate_PerkinElmer_CellCarrier-384 Ultra_F11_T0331F008L01A01Z01C01.tif\n",
      "/data2/varun/HiTIPS_paper_data/fig_5/kpnb1/exp2/AssayPlate_PerkinElmer_CellCarrier-384 Ultra_F11_T0332F003L01A01Z01C01.tif\n",
      "/data2/varun/HiTIPS_paper_data/fig_5/kpnb1/exp2/AssayPlate_PerkinElmer_CellCarrier-384 Ultra_F11_T0332F004L01A01Z01C01.tif\n",
      "/data2/varun/HiTIPS_paper_data/fig_5/kpnb1/exp2/AssayPlate_PerkinElmer_CellCarrier-384 Ultra_F11_T0332F005L01A01Z01C01.tif\n",
      "/data2/varun/HiTIPS_paper_data/fig_5/kpnb1/exp2/AssayPlate_PerkinElmer_CellCarrier-384 Ultra_F11_T0332F002L01A01Z01C01.tif\n",
      "/data2/varun/HiTIPS_paper_data/fig_5/kpnb1/exp2/AssayPlate_PerkinElmer_CellCarrier-384 Ultra_F11_T0332F007L01A01Z01C01.tif\n",
      "/data2/varun/HiTIPS_paper_data/fig_5/kpnb1/exp2/AssayPlate_PerkinElmer_CellCarrier-384 Ultra_F11_T0332F008L01A01Z01C01.tif\n",
      "/data2/varun/HiTIPS_paper_data/fig_5/kpnb1/exp2/AssayPlate_PerkinElmer_CellCarrier-384 Ultra_F11_T0332F006L01A01Z01C01.tif\n",
      "/data2/varun/HiTIPS_paper_data/fig_5/kpnb1/exp2/AssayPlate_PerkinElmer_CellCarrier-384 Ultra_F11_T0332F009L01A01Z01C01.tif\n",
      "/data2/varun/HiTIPS_paper_data/fig_5/kpnb1/exp2/AssayPlate_PerkinElmer_CellCarrier-384 Ultra_F11_T0333F002L01A01Z01C01.tif\n",
      "/data2/varun/HiTIPS_paper_data/fig_5/kpnb1/exp2/AssayPlate_PerkinElmer_CellCarrier-384 Ultra_F11_T0333F003L01A01Z01C01.tif\n",
      "/data2/varun/HiTIPS_paper_data/fig_5/kpnb1/exp2/AssayPlate_PerkinElmer_CellCarrier-384 Ultra_F11_T0333F001L01A01Z01C01.tif\n",
      "/data2/varun/HiTIPS_paper_data/fig_5/kpnb1/exp2/AssayPlate_PerkinElmer_CellCarrier-384 Ultra_F11_T0333F004L01A01Z01C01.tif\n",
      "/data2/varun/HiTIPS_paper_data/fig_5/kpnb1/exp2/AssayPlate_PerkinElmer_CellCarrier-384 Ultra_F11_T0333F006L01A01Z01C01.tif\n",
      "/data2/varun/HiTIPS_paper_data/fig_5/kpnb1/exp2/AssayPlate_PerkinElmer_CellCarrier-384 Ultra_F11_T0333F007L01A01Z01C01.tif\n",
      "/data2/varun/HiTIPS_paper_data/fig_5/kpnb1/exp2/AssayPlate_PerkinElmer_CellCarrier-384 Ultra_F11_T0333F005L01A01Z01C01.tif\n",
      "/data2/varun/HiTIPS_paper_data/fig_5/kpnb1/exp2/AssayPlate_PerkinElmer_CellCarrier-384 Ultra_F11_T0333F008L01A01Z01C01.tif\n",
      "/data2/varun/HiTIPS_paper_data/fig_5/kpnb1/exp2/AssayPlate_PerkinElmer_CellCarrier-384 Ultra_F11_T0334F001L01A01Z01C01.tif\n",
      "/data2/varun/HiTIPS_paper_data/fig_5/kpnb1/exp2/AssayPlate_PerkinElmer_CellCarrier-384 Ultra_F11_T0333F009L01A01Z01C01.tif\n",
      "/data2/varun/HiTIPS_paper_data/fig_5/kpnb1/exp2/AssayPlate_PerkinElmer_CellCarrier-384 Ultra_F11_T0334F003L01A01Z01C01.tif\n",
      "/data2/varun/HiTIPS_paper_data/fig_5/kpnb1/exp2/AssayPlate_PerkinElmer_CellCarrier-384 Ultra_F11_T0334F002L01A01Z01C01.tif\n",
      "/data2/varun/HiTIPS_paper_data/fig_5/kpnb1/exp2/AssayPlate_PerkinElmer_CellCarrier-384 Ultra_F11_T0334F007L01A01Z01C01.tif\n",
      "/data2/varun/HiTIPS_paper_data/fig_5/kpnb1/exp2/AssayPlate_PerkinElmer_CellCarrier-384 Ultra_F11_T0334F004L01A01Z01C01.tif\n",
      "/data2/varun/HiTIPS_paper_data/fig_5/kpnb1/exp2/AssayPlate_PerkinElmer_CellCarrier-384 Ultra_F11_T0334F005L01A01Z01C01.tif\n",
      "/data2/varun/HiTIPS_paper_data/fig_5/kpnb1/exp2/AssayPlate_PerkinElmer_CellCarrier-384 Ultra_F11_T0334F006L01A01Z01C01.tif\n",
      "/data2/varun/HiTIPS_paper_data/fig_5/kpnb1/exp2/AssayPlate_PerkinElmer_CellCarrier-384 Ultra_F11_T0335F001L01A01Z01C01.tif\n",
      "/data2/varun/HiTIPS_paper_data/fig_5/kpnb1/exp2/AssayPlate_PerkinElmer_CellCarrier-384 Ultra_F11_T0335F002L01A01Z01C01.tif\n",
      "/data2/varun/HiTIPS_paper_data/fig_5/kpnb1/exp2/AssayPlate_PerkinElmer_CellCarrier-384 Ultra_F11_T0334F008L01A01Z01C01.tif\n",
      "/data2/varun/HiTIPS_paper_data/fig_5/kpnb1/exp2/AssayPlate_PerkinElmer_CellCarrier-384 Ultra_F11_T0334F009L01A01Z01C01.tif\n",
      "/data2/varun/HiTIPS_paper_data/fig_5/kpnb1/exp2/AssayPlate_PerkinElmer_CellCarrier-384 Ultra_F11_T0335F004L01A01Z01C01.tif\n",
      "/data2/varun/HiTIPS_paper_data/fig_5/kpnb1/exp2/AssayPlate_PerkinElmer_CellCarrier-384 Ultra_F11_T0335F006L01A01Z01C01.tif\n",
      "/data2/varun/HiTIPS_paper_data/fig_5/kpnb1/exp2/AssayPlate_PerkinElmer_CellCarrier-384 Ultra_F11_T0335F003L01A01Z01C01.tif\n",
      "/data2/varun/HiTIPS_paper_data/fig_5/kpnb1/exp2/AssayPlate_PerkinElmer_CellCarrier-384 Ultra_F11_T0335F005L01A01Z01C01.tif\n",
      "/data2/varun/HiTIPS_paper_data/fig_5/kpnb1/exp2/AssayPlate_PerkinElmer_CellCarrier-384 Ultra_F11_T0335F008L01A01Z01C01.tif\n",
      "/data2/varun/HiTIPS_paper_data/fig_5/kpnb1/exp2/AssayPlate_PerkinElmer_CellCarrier-384 Ultra_F11_T0335F009L01A01Z01C01.tif\n",
      "/data2/varun/HiTIPS_paper_data/fig_5/kpnb1/exp2/AssayPlate_PerkinElmer_CellCarrier-384 Ultra_F11_T0335F007L01A01Z01C01.tif\n",
      "/data2/varun/HiTIPS_paper_data/fig_5/kpnb1/exp2/AssayPlate_PerkinElmer_CellCarrier-384 Ultra_F11_T0336F001L01A01Z01C01.tif\n",
      "/data2/varun/HiTIPS_paper_data/fig_5/kpnb1/exp2/AssayPlate_PerkinElmer_CellCarrier-384 Ultra_F11_T0336F005L01A01Z01C01.tif\n",
      "/data2/varun/HiTIPS_paper_data/fig_5/kpnb1/exp2/AssayPlate_PerkinElmer_CellCarrier-384 Ultra_F11_T0336F002L01A01Z01C01.tif\n",
      "/data2/varun/HiTIPS_paper_data/fig_5/kpnb1/exp2/AssayPlate_PerkinElmer_CellCarrier-384 Ultra_F11_T0336F004L01A01Z01C01.tif\n",
      "/data2/varun/HiTIPS_paper_data/fig_5/kpnb1/exp2/AssayPlate_PerkinElmer_CellCarrier-384 Ultra_F11_T0336F003L01A01Z01C01.tif\n",
      "/data2/varun/HiTIPS_paper_data/fig_5/kpnb1/exp2/AssayPlate_PerkinElmer_CellCarrier-384 Ultra_F11_T0336F007L01A01Z01C01.tif\n",
      "/data2/varun/HiTIPS_paper_data/fig_5/kpnb1/exp2/AssayPlate_PerkinElmer_CellCarrier-384 Ultra_F11_T0336F009L01A01Z01C01.tif\n",
      "/data2/varun/HiTIPS_paper_data/fig_5/kpnb1/exp2/AssayPlate_PerkinElmer_CellCarrier-384 Ultra_F11_T0336F008L01A01Z01C01.tif\n",
      "/data2/varun/HiTIPS_paper_data/fig_5/kpnb1/exp2/AssayPlate_PerkinElmer_CellCarrier-384 Ultra_F11_T0336F006L01A01Z01C01.tif\n",
      "/data2/varun/HiTIPS_paper_data/fig_5/kpnb1/exp2/AssayPlate_PerkinElmer_CellCarrier-384 Ultra_F11_T0337F002L01A01Z01C01.tif\n",
      "/data2/varun/HiTIPS_paper_data/fig_5/kpnb1/exp2/AssayPlate_PerkinElmer_CellCarrier-384 Ultra_F11_T0337F003L01A01Z01C01.tif\n",
      "/data2/varun/HiTIPS_paper_data/fig_5/kpnb1/exp2/AssayPlate_PerkinElmer_CellCarrier-384 Ultra_F11_T0337F004L01A01Z01C01.tif\n",
      "/data2/varun/HiTIPS_paper_data/fig_5/kpnb1/exp2/AssayPlate_PerkinElmer_CellCarrier-384 Ultra_F11_T0337F001L01A01Z01C01.tif\n",
      "/data2/varun/HiTIPS_paper_data/fig_5/kpnb1/exp2/AssayPlate_PerkinElmer_CellCarrier-384 Ultra_F11_T0337F006L01A01Z01C01.tif\n",
      "/data2/varun/HiTIPS_paper_data/fig_5/kpnb1/exp2/AssayPlate_PerkinElmer_CellCarrier-384 Ultra_F11_T0337F008L01A01Z01C01.tif\n",
      "/data2/varun/HiTIPS_paper_data/fig_5/kpnb1/exp2/AssayPlate_PerkinElmer_CellCarrier-384 Ultra_F11_T0337F007L01A01Z01C01.tif\n",
      "/data2/varun/HiTIPS_paper_data/fig_5/kpnb1/exp2/AssayPlate_PerkinElmer_CellCarrier-384 Ultra_F11_T0337F005L01A01Z01C01.tif\n",
      "/data2/varun/HiTIPS_paper_data/fig_5/kpnb1/exp2/AssayPlate_PerkinElmer_CellCarrier-384 Ultra_F11_T0338F001L01A01Z01C01.tif\n",
      "/data2/varun/HiTIPS_paper_data/fig_5/kpnb1/exp2/AssayPlate_PerkinElmer_CellCarrier-384 Ultra_F11_T0338F002L01A01Z01C01.tif\n",
      "/data2/varun/HiTIPS_paper_data/fig_5/kpnb1/exp2/AssayPlate_PerkinElmer_CellCarrier-384 Ultra_F11_T0338F003L01A01Z01C01.tif\n",
      "/data2/varun/HiTIPS_paper_data/fig_5/kpnb1/exp2/AssayPlate_PerkinElmer_CellCarrier-384 Ultra_F11_T0337F009L01A01Z01C01.tif\n",
      "/data2/varun/HiTIPS_paper_data/fig_5/kpnb1/exp2/AssayPlate_PerkinElmer_CellCarrier-384 Ultra_F11_T0338F005L01A01Z01C01.tif\n",
      "/data2/varun/HiTIPS_paper_data/fig_5/kpnb1/exp2/AssayPlate_PerkinElmer_CellCarrier-384 Ultra_F11_T0338F004L01A01Z01C01.tif\n",
      "/data2/varun/HiTIPS_paper_data/fig_5/kpnb1/exp2/AssayPlate_PerkinElmer_CellCarrier-384 Ultra_F11_T0338F006L01A01Z01C01.tif\n",
      "/data2/varun/HiTIPS_paper_data/fig_5/kpnb1/exp2/AssayPlate_PerkinElmer_CellCarrier-384 Ultra_F11_T0338F007L01A01Z01C01.tif\n",
      "/data2/varun/HiTIPS_paper_data/fig_5/kpnb1/exp2/AssayPlate_PerkinElmer_CellCarrier-384 Ultra_F11_T0338F009L01A01Z01C01.tif\n",
      "/data2/varun/HiTIPS_paper_data/fig_5/kpnb1/exp2/AssayPlate_PerkinElmer_CellCarrier-384 Ultra_F11_T0339F002L01A01Z01C01.tif\n",
      "/data2/varun/HiTIPS_paper_data/fig_5/kpnb1/exp2/AssayPlate_PerkinElmer_CellCarrier-384 Ultra_F11_T0338F008L01A01Z01C01.tif\n",
      "/data2/varun/HiTIPS_paper_data/fig_5/kpnb1/exp2/AssayPlate_PerkinElmer_CellCarrier-384 Ultra_F11_T0339F001L01A01Z01C01.tif\n",
      "/data2/varun/HiTIPS_paper_data/fig_5/kpnb1/exp2/AssayPlate_PerkinElmer_CellCarrier-384 Ultra_F11_T0339F004L01A01Z01C01.tif\n",
      "/data2/varun/HiTIPS_paper_data/fig_5/kpnb1/exp2/AssayPlate_PerkinElmer_CellCarrier-384 Ultra_F11_T0339F003L01A01Z01C01.tif\n",
      "/data2/varun/HiTIPS_paper_data/fig_5/kpnb1/exp2/AssayPlate_PerkinElmer_CellCarrier-384 Ultra_F11_T0339F006L01A01Z01C01.tif\n",
      "/data2/varun/HiTIPS_paper_data/fig_5/kpnb1/exp2/AssayPlate_PerkinElmer_CellCarrier-384 Ultra_F11_T0339F005L01A01Z01C01.tif\n",
      "/data2/varun/HiTIPS_paper_data/fig_5/kpnb1/exp2/AssayPlate_PerkinElmer_CellCarrier-384 Ultra_F11_T0339F008L01A01Z01C01.tif\n",
      "/data2/varun/HiTIPS_paper_data/fig_5/kpnb1/exp2/AssayPlate_PerkinElmer_CellCarrier-384 Ultra_F11_T0339F009L01A01Z01C01.tif\n",
      "/data2/varun/HiTIPS_paper_data/fig_5/kpnb1/exp2/AssayPlate_PerkinElmer_CellCarrier-384 Ultra_F11_T0340F001L01A01Z01C01.tif\n",
      "/data2/varun/HiTIPS_paper_data/fig_5/kpnb1/exp2/AssayPlate_PerkinElmer_CellCarrier-384 Ultra_F11_T0339F007L01A01Z01C01.tif\n",
      "/data2/varun/HiTIPS_paper_data/fig_5/kpnb1/exp2/AssayPlate_PerkinElmer_CellCarrier-384 Ultra_F11_T0340F003L01A01Z01C01.tif\n",
      "/data2/varun/HiTIPS_paper_data/fig_5/kpnb1/exp2/AssayPlate_PerkinElmer_CellCarrier-384 Ultra_F11_T0340F004L01A01Z01C01.tif\n",
      "/data2/varun/HiTIPS_paper_data/fig_5/kpnb1/exp2/AssayPlate_PerkinElmer_CellCarrier-384 Ultra_F11_T0340F005L01A01Z01C01.tif\n",
      "/data2/varun/HiTIPS_paper_data/fig_5/kpnb1/exp2/AssayPlate_PerkinElmer_CellCarrier-384 Ultra_F11_T0340F002L01A01Z01C01.tif\n",
      "/data2/varun/HiTIPS_paper_data/fig_5/kpnb1/exp2/AssayPlate_PerkinElmer_CellCarrier-384 Ultra_F11_T0340F007L01A01Z01C01.tif\n",
      "/data2/varun/HiTIPS_paper_data/fig_5/kpnb1/exp2/AssayPlate_PerkinElmer_CellCarrier-384 Ultra_F11_T0340F008L01A01Z01C01.tif\n",
      "/data2/varun/HiTIPS_paper_data/fig_5/kpnb1/exp2/AssayPlate_PerkinElmer_CellCarrier-384 Ultra_F11_T0340F006L01A01Z01C01.tif\n",
      "/data2/varun/HiTIPS_paper_data/fig_5/kpnb1/exp2/AssayPlate_PerkinElmer_CellCarrier-384 Ultra_F11_T0340F009L01A01Z01C01.tif\n",
      "/data2/varun/HiTIPS_paper_data/fig_5/kpnb1/exp2/AssayPlate_PerkinElmer_CellCarrier-384 Ultra_F11_T0341F003L01A01Z01C01.tif\n",
      "/data2/varun/HiTIPS_paper_data/fig_5/kpnb1/exp2/AssayPlate_PerkinElmer_CellCarrier-384 Ultra_F11_T0341F002L01A01Z01C01.tif\n",
      "/data2/varun/HiTIPS_paper_data/fig_5/kpnb1/exp2/AssayPlate_PerkinElmer_CellCarrier-384 Ultra_F11_T0341F004L01A01Z01C01.tif\n",
      "/data2/varun/HiTIPS_paper_data/fig_5/kpnb1/exp2/AssayPlate_PerkinElmer_CellCarrier-384 Ultra_F11_T0341F001L01A01Z01C01.tif\n",
      "/data2/varun/HiTIPS_paper_data/fig_5/kpnb1/exp2/AssayPlate_PerkinElmer_CellCarrier-384 Ultra_F11_T0341F006L01A01Z01C01.tif\n",
      "/data2/varun/HiTIPS_paper_data/fig_5/kpnb1/exp2/AssayPlate_PerkinElmer_CellCarrier-384 Ultra_F11_T0341F008L01A01Z01C01.tif\n",
      "/data2/varun/HiTIPS_paper_data/fig_5/kpnb1/exp2/AssayPlate_PerkinElmer_CellCarrier-384 Ultra_F11_T0341F005L01A01Z01C01.tif\n",
      "/data2/varun/HiTIPS_paper_data/fig_5/kpnb1/exp2/AssayPlate_PerkinElmer_CellCarrier-384 Ultra_F11_T0341F007L01A01Z01C01.tif\n",
      "/data2/varun/HiTIPS_paper_data/fig_5/kpnb1/exp2/AssayPlate_PerkinElmer_CellCarrier-384 Ultra_F11_T0342F001L01A01Z01C01.tif\n",
      "/data2/varun/HiTIPS_paper_data/fig_5/kpnb1/exp2/AssayPlate_PerkinElmer_CellCarrier-384 Ultra_F11_T0342F003L01A01Z01C01.tif\n",
      "/data2/varun/HiTIPS_paper_data/fig_5/kpnb1/exp2/AssayPlate_PerkinElmer_CellCarrier-384 Ultra_F11_T0342F002L01A01Z01C01.tif\n",
      "/data2/varun/HiTIPS_paper_data/fig_5/kpnb1/exp2/AssayPlate_PerkinElmer_CellCarrier-384 Ultra_F11_T0341F009L01A01Z01C01.tif\n",
      "/data2/varun/HiTIPS_paper_data/fig_5/kpnb1/exp2/AssayPlate_PerkinElmer_CellCarrier-384 Ultra_F11_T0342F005L01A01Z01C01.tif\n",
      "/data2/varun/HiTIPS_paper_data/fig_5/kpnb1/exp2/AssayPlate_PerkinElmer_CellCarrier-384 Ultra_F11_T0342F004L01A01Z01C01.tif\n",
      "/data2/varun/HiTIPS_paper_data/fig_5/kpnb1/exp2/AssayPlate_PerkinElmer_CellCarrier-384 Ultra_F11_T0342F006L01A01Z01C01.tif\n",
      "/data2/varun/HiTIPS_paper_data/fig_5/kpnb1/exp2/AssayPlate_PerkinElmer_CellCarrier-384 Ultra_F11_T0342F007L01A01Z01C01.tif\n",
      "/data2/varun/HiTIPS_paper_data/fig_5/kpnb1/exp2/AssayPlate_PerkinElmer_CellCarrier-384 Ultra_F11_T0342F009L01A01Z01C01.tif\n",
      "/data2/varun/HiTIPS_paper_data/fig_5/kpnb1/exp2/AssayPlate_PerkinElmer_CellCarrier-384 Ultra_F11_T0343F001L01A01Z01C01.tif\n",
      "/data2/varun/HiTIPS_paper_data/fig_5/kpnb1/exp2/AssayPlate_PerkinElmer_CellCarrier-384 Ultra_F11_T0343F002L01A01Z01C01.tif\n",
      "/data2/varun/HiTIPS_paper_data/fig_5/kpnb1/exp2/AssayPlate_PerkinElmer_CellCarrier-384 Ultra_F11_T0342F008L01A01Z01C01.tif\n",
      "/data2/varun/HiTIPS_paper_data/fig_5/kpnb1/exp2/AssayPlate_PerkinElmer_CellCarrier-384 Ultra_F11_T0343F006L01A01Z01C01.tif\n",
      "/data2/varun/HiTIPS_paper_data/fig_5/kpnb1/exp2/AssayPlate_PerkinElmer_CellCarrier-384 Ultra_F11_T0343F004L01A01Z01C01.tif\n",
      "/data2/varun/HiTIPS_paper_data/fig_5/kpnb1/exp2/AssayPlate_PerkinElmer_CellCarrier-384 Ultra_F11_T0343F005L01A01Z01C01.tif\n",
      "/data2/varun/HiTIPS_paper_data/fig_5/kpnb1/exp2/AssayPlate_PerkinElmer_CellCarrier-384 Ultra_F11_T0343F003L01A01Z01C01.tif\n",
      "/data2/varun/HiTIPS_paper_data/fig_5/kpnb1/exp2/AssayPlate_PerkinElmer_CellCarrier-384 Ultra_F11_T0343F008L01A01Z01C01.tif\n",
      "/data2/varun/HiTIPS_paper_data/fig_5/kpnb1/exp2/AssayPlate_PerkinElmer_CellCarrier-384 Ultra_F11_T0343F007L01A01Z01C01.tif\n",
      "/data2/varun/HiTIPS_paper_data/fig_5/kpnb1/exp2/AssayPlate_PerkinElmer_CellCarrier-384 Ultra_F11_T0344F001L01A01Z01C01.tif\n",
      "/data2/varun/HiTIPS_paper_data/fig_5/kpnb1/exp2/AssayPlate_PerkinElmer_CellCarrier-384 Ultra_F11_T0343F009L01A01Z01C01.tif\n",
      "/data2/varun/HiTIPS_paper_data/fig_5/kpnb1/exp2/AssayPlate_PerkinElmer_CellCarrier-384 Ultra_F11_T0344F005L01A01Z01C01.tif\n",
      "/data2/varun/HiTIPS_paper_data/fig_5/kpnb1/exp2/AssayPlate_PerkinElmer_CellCarrier-384 Ultra_F11_T0344F003L01A01Z01C01.tif\n",
      "/data2/varun/HiTIPS_paper_data/fig_5/kpnb1/exp2/AssayPlate_PerkinElmer_CellCarrier-384 Ultra_F11_T0344F004L01A01Z01C01.tif\n",
      "/data2/varun/HiTIPS_paper_data/fig_5/kpnb1/exp2/AssayPlate_PerkinElmer_CellCarrier-384 Ultra_F11_T0344F002L01A01Z01C01.tif\n",
      "/data2/varun/HiTIPS_paper_data/fig_5/kpnb1/exp2/AssayPlate_PerkinElmer_CellCarrier-384 Ultra_F11_T0344F008L01A01Z01C01.tif\n",
      "/data2/varun/HiTIPS_paper_data/fig_5/kpnb1/exp2/AssayPlate_PerkinElmer_CellCarrier-384 Ultra_F11_T0344F007L01A01Z01C01.tif\n",
      "/data2/varun/HiTIPS_paper_data/fig_5/kpnb1/exp2/AssayPlate_PerkinElmer_CellCarrier-384 Ultra_F11_T0344F006L01A01Z01C01.tif\n",
      "/data2/varun/HiTIPS_paper_data/fig_5/kpnb1/exp2/AssayPlate_PerkinElmer_CellCarrier-384 Ultra_F11_T0344F009L01A01Z01C01.tif\n",
      "/data2/varun/HiTIPS_paper_data/fig_5/kpnb1/exp2/AssayPlate_PerkinElmer_CellCarrier-384 Ultra_F11_T0345F002L01A01Z01C01.tif\n",
      "/data2/varun/HiTIPS_paper_data/fig_5/kpnb1/exp2/AssayPlate_PerkinElmer_CellCarrier-384 Ultra_F11_T0345F004L01A01Z01C01.tif\n",
      "/data2/varun/HiTIPS_paper_data/fig_5/kpnb1/exp2/AssayPlate_PerkinElmer_CellCarrier-384 Ultra_F11_T0345F003L01A01Z01C01.tif\n",
      "/data2/varun/HiTIPS_paper_data/fig_5/kpnb1/exp2/AssayPlate_PerkinElmer_CellCarrier-384 Ultra_F11_T0345F001L01A01Z01C01.tif\n",
      "/data2/varun/HiTIPS_paper_data/fig_5/kpnb1/exp2/AssayPlate_PerkinElmer_CellCarrier-384 Ultra_F11_T0345F006L01A01Z01C01.tif\n",
      "/data2/varun/HiTIPS_paper_data/fig_5/kpnb1/exp2/AssayPlate_PerkinElmer_CellCarrier-384 Ultra_F11_T0345F008L01A01Z01C01.tif\n",
      "/data2/varun/HiTIPS_paper_data/fig_5/kpnb1/exp2/AssayPlate_PerkinElmer_CellCarrier-384 Ultra_F11_T0345F007L01A01Z01C01.tif\n",
      "/data2/varun/HiTIPS_paper_data/fig_5/kpnb1/exp2/AssayPlate_PerkinElmer_CellCarrier-384 Ultra_F11_T0345F005L01A01Z01C01.tif\n",
      "/data2/varun/HiTIPS_paper_data/fig_5/kpnb1/exp2/AssayPlate_PerkinElmer_CellCarrier-384 Ultra_F11_T0346F001L01A01Z01C01.tif\n",
      "/data2/varun/HiTIPS_paper_data/fig_5/kpnb1/exp2/AssayPlate_PerkinElmer_CellCarrier-384 Ultra_F11_T0346F002L01A01Z01C01.tif\n",
      "/data2/varun/HiTIPS_paper_data/fig_5/kpnb1/exp2/AssayPlate_PerkinElmer_CellCarrier-384 Ultra_F11_T0346F003L01A01Z01C01.tif\n",
      "/data2/varun/HiTIPS_paper_data/fig_5/kpnb1/exp2/AssayPlate_PerkinElmer_CellCarrier-384 Ultra_F11_T0345F009L01A01Z01C01.tif\n",
      "/data2/varun/HiTIPS_paper_data/fig_5/kpnb1/exp2/AssayPlate_PerkinElmer_CellCarrier-384 Ultra_F11_T0346F006L01A01Z01C01.tif\n",
      "/data2/varun/HiTIPS_paper_data/fig_5/kpnb1/exp2/AssayPlate_PerkinElmer_CellCarrier-384 Ultra_F11_T0346F007L01A01Z01C01.tif\n",
      "/data2/varun/HiTIPS_paper_data/fig_5/kpnb1/exp2/AssayPlate_PerkinElmer_CellCarrier-384 Ultra_F11_T0346F005L01A01Z01C01.tif\n",
      "/data2/varun/HiTIPS_paper_data/fig_5/kpnb1/exp2/AssayPlate_PerkinElmer_CellCarrier-384 Ultra_F11_T0346F004L01A01Z01C01.tif\n",
      "/data2/varun/HiTIPS_paper_data/fig_5/kpnb1/exp2/AssayPlate_PerkinElmer_CellCarrier-384 Ultra_F11_T0346F008L01A01Z01C01.tif\n",
      "/data2/varun/HiTIPS_paper_data/fig_5/kpnb1/exp2/AssayPlate_PerkinElmer_CellCarrier-384 Ultra_F11_T0347F002L01A01Z01C01.tif\n",
      "/data2/varun/HiTIPS_paper_data/fig_5/kpnb1/exp2/AssayPlate_PerkinElmer_CellCarrier-384 Ultra_F11_T0346F009L01A01Z01C01.tif\n",
      "/data2/varun/HiTIPS_paper_data/fig_5/kpnb1/exp2/AssayPlate_PerkinElmer_CellCarrier-384 Ultra_F11_T0347F001L01A01Z01C01.tif\n",
      "/data2/varun/HiTIPS_paper_data/fig_5/kpnb1/exp2/AssayPlate_PerkinElmer_CellCarrier-384 Ultra_F11_T0347F004L01A01Z01C01.tif\n",
      "/data2/varun/HiTIPS_paper_data/fig_5/kpnb1/exp2/AssayPlate_PerkinElmer_CellCarrier-384 Ultra_F11_T0347F006L01A01Z01C01.tif\n",
      "/data2/varun/HiTIPS_paper_data/fig_5/kpnb1/exp2/AssayPlate_PerkinElmer_CellCarrier-384 Ultra_F11_T0347F005L01A01Z01C01.tif\n",
      "/data2/varun/HiTIPS_paper_data/fig_5/kpnb1/exp2/AssayPlate_PerkinElmer_CellCarrier-384 Ultra_F11_T0347F003L01A01Z01C01.tif\n",
      "/data2/varun/HiTIPS_paper_data/fig_5/kpnb1/exp2/AssayPlate_PerkinElmer_CellCarrier-384 Ultra_F11_T0347F008L01A01Z01C01.tif\n",
      "/data2/varun/HiTIPS_paper_data/fig_5/kpnb1/exp2/AssayPlate_PerkinElmer_CellCarrier-384 Ultra_F11_T0348F001L01A01Z01C01.tif\n",
      "/data2/varun/HiTIPS_paper_data/fig_5/kpnb1/exp2/AssayPlate_PerkinElmer_CellCarrier-384 Ultra_F11_T0347F009L01A01Z01C01.tif\n",
      "/data2/varun/HiTIPS_paper_data/fig_5/kpnb1/exp2/AssayPlate_PerkinElmer_CellCarrier-384 Ultra_F11_T0347F007L01A01Z01C01.tif\n",
      "/data2/varun/HiTIPS_paper_data/fig_5/kpnb1/exp2/AssayPlate_PerkinElmer_CellCarrier-384 Ultra_F11_T0348F003L01A01Z01C01.tif\n",
      "/data2/varun/HiTIPS_paper_data/fig_5/kpnb1/exp2/AssayPlate_PerkinElmer_CellCarrier-384 Ultra_F11_T0348F005L01A01Z01C01.tif\n",
      "/data2/varun/HiTIPS_paper_data/fig_5/kpnb1/exp2/AssayPlate_PerkinElmer_CellCarrier-384 Ultra_F11_T0348F004L01A01Z01C01.tif\n",
      "/data2/varun/HiTIPS_paper_data/fig_5/kpnb1/exp2/AssayPlate_PerkinElmer_CellCarrier-384 Ultra_F11_T0348F002L01A01Z01C01.tif\n",
      "/data2/varun/HiTIPS_paper_data/fig_5/kpnb1/exp2/AssayPlate_PerkinElmer_CellCarrier-384 Ultra_F11_T0348F006L01A01Z01C01.tif\n",
      "/data2/varun/HiTIPS_paper_data/fig_5/kpnb1/exp2/AssayPlate_PerkinElmer_CellCarrier-384 Ultra_F11_T0348F007L01A01Z01C01.tif\n",
      "/data2/varun/HiTIPS_paper_data/fig_5/kpnb1/exp2/AssayPlate_PerkinElmer_CellCarrier-384 Ultra_F11_T0348F008L01A01Z01C01.tif\n",
      "/data2/varun/HiTIPS_paper_data/fig_5/kpnb1/exp2/AssayPlate_PerkinElmer_CellCarrier-384 Ultra_F11_T0348F009L01A01Z01C01.tif\n",
      "/data2/varun/HiTIPS_paper_data/fig_5/kpnb1/exp2/AssayPlate_PerkinElmer_CellCarrier-384 Ultra_F11_T0349F002L01A01Z01C01.tif\n",
      "/data2/varun/HiTIPS_paper_data/fig_5/kpnb1/exp2/AssayPlate_PerkinElmer_CellCarrier-384 Ultra_F11_T0349F003L01A01Z01C01.tif\n",
      "/data2/varun/HiTIPS_paper_data/fig_5/kpnb1/exp2/AssayPlate_PerkinElmer_CellCarrier-384 Ultra_F11_T0349F004L01A01Z01C01.tif\n",
      "/data2/varun/HiTIPS_paper_data/fig_5/kpnb1/exp2/AssayPlate_PerkinElmer_CellCarrier-384 Ultra_F11_T0349F001L01A01Z01C01.tif\n",
      "/data2/varun/HiTIPS_paper_data/fig_5/kpnb1/exp2/AssayPlate_PerkinElmer_CellCarrier-384 Ultra_F11_T0349F006L01A01Z01C01.tif\n",
      "/data2/varun/HiTIPS_paper_data/fig_5/kpnb1/exp2/AssayPlate_PerkinElmer_CellCarrier-384 Ultra_F11_T0349F005L01A01Z01C01.tif\n",
      "/data2/varun/HiTIPS_paper_data/fig_5/kpnb1/exp2/AssayPlate_PerkinElmer_CellCarrier-384 Ultra_F11_T0349F008L01A01Z01C01.tif\n",
      "/data2/varun/HiTIPS_paper_data/fig_5/kpnb1/exp2/AssayPlate_PerkinElmer_CellCarrier-384 Ultra_F11_T0349F007L01A01Z01C01.tif\n",
      "/data2/varun/HiTIPS_paper_data/fig_5/kpnb1/exp2/AssayPlate_PerkinElmer_CellCarrier-384 Ultra_F11_T0350F001L01A01Z01C01.tif\n",
      "/data2/varun/HiTIPS_paper_data/fig_5/kpnb1/exp2/AssayPlate_PerkinElmer_CellCarrier-384 Ultra_F11_T0350F003L01A01Z01C01.tif\n",
      "/data2/varun/HiTIPS_paper_data/fig_5/kpnb1/exp2/AssayPlate_PerkinElmer_CellCarrier-384 Ultra_F11_T0350F002L01A01Z01C01.tif\n",
      "/data2/varun/HiTIPS_paper_data/fig_5/kpnb1/exp2/AssayPlate_PerkinElmer_CellCarrier-384 Ultra_F11_T0349F009L01A01Z01C01.tif\n",
      "/data2/varun/HiTIPS_paper_data/fig_5/kpnb1/exp2/AssayPlate_PerkinElmer_CellCarrier-384 Ultra_F11_T0350F005L01A01Z01C01.tif\n",
      "/data2/varun/HiTIPS_paper_data/fig_5/kpnb1/exp2/AssayPlate_PerkinElmer_CellCarrier-384 Ultra_F11_T0350F004L01A01Z01C01.tif\n",
      "/data2/varun/HiTIPS_paper_data/fig_5/kpnb1/exp2/AssayPlate_PerkinElmer_CellCarrier-384 Ultra_F11_T0350F006L01A01Z01C01.tif\n",
      "/data2/varun/HiTIPS_paper_data/fig_5/kpnb1/exp2/AssayPlate_PerkinElmer_CellCarrier-384 Ultra_F11_T0350F007L01A01Z01C01.tif\n",
      "/data2/varun/HiTIPS_paper_data/fig_5/kpnb1/exp2/AssayPlate_PerkinElmer_CellCarrier-384 Ultra_F11_T0350F008L01A01Z01C01.tif\n",
      "/data2/varun/HiTIPS_paper_data/fig_5/kpnb1/exp2/AssayPlate_PerkinElmer_CellCarrier-384 Ultra_F11_T0350F009L01A01Z01C01.tif\n",
      "/data2/varun/HiTIPS_paper_data/fig_5/kpnb1/exp2/AssayPlate_PerkinElmer_CellCarrier-384 Ultra_F11_T0351F001L01A01Z01C01.tif\n",
      "/data2/varun/HiTIPS_paper_data/fig_5/kpnb1/exp2/AssayPlate_PerkinElmer_CellCarrier-384 Ultra_F11_T0351F002L01A01Z01C01.tif\n",
      "/data2/varun/HiTIPS_paper_data/fig_5/kpnb1/exp2/AssayPlate_PerkinElmer_CellCarrier-384 Ultra_F11_T0351F004L01A01Z01C01.tif\n",
      "/data2/varun/HiTIPS_paper_data/fig_5/kpnb1/exp2/AssayPlate_PerkinElmer_CellCarrier-384 Ultra_F11_T0351F003L01A01Z01C01.tif\n",
      "/data2/varun/HiTIPS_paper_data/fig_5/kpnb1/exp2/AssayPlate_PerkinElmer_CellCarrier-384 Ultra_F11_T0351F005L01A01Z01C01.tif\n",
      "/data2/varun/HiTIPS_paper_data/fig_5/kpnb1/exp2/AssayPlate_PerkinElmer_CellCarrier-384 Ultra_F11_T0351F006L01A01Z01C01.tif\n",
      "/data2/varun/HiTIPS_paper_data/fig_5/kpnb1/exp2/AssayPlate_PerkinElmer_CellCarrier-384 Ultra_F11_T0351F008L01A01Z01C01.tif\n",
      "/data2/varun/HiTIPS_paper_data/fig_5/kpnb1/exp2/AssayPlate_PerkinElmer_CellCarrier-384 Ultra_F11_T0351F007L01A01Z01C01.tif\n",
      "/data2/varun/HiTIPS_paper_data/fig_5/kpnb1/exp2/AssayPlate_PerkinElmer_CellCarrier-384 Ultra_F11_T0352F001L01A01Z01C01.tif\n",
      "/data2/varun/HiTIPS_paper_data/fig_5/kpnb1/exp2/AssayPlate_PerkinElmer_CellCarrier-384 Ultra_F11_T0351F009L01A01Z01C01.tif\n",
      "/data2/varun/HiTIPS_paper_data/fig_5/kpnb1/exp2/AssayPlate_PerkinElmer_CellCarrier-384 Ultra_F11_T0352F003L01A01Z01C01.tif\n",
      "/data2/varun/HiTIPS_paper_data/fig_5/kpnb1/exp2/AssayPlate_PerkinElmer_CellCarrier-384 Ultra_F11_T0352F004L01A01Z01C01.tif\n",
      "/data2/varun/HiTIPS_paper_data/fig_5/kpnb1/exp2/AssayPlate_PerkinElmer_CellCarrier-384 Ultra_F11_T0352F002L01A01Z01C01.tif\n",
      "/data2/varun/HiTIPS_paper_data/fig_5/kpnb1/exp2/AssayPlate_PerkinElmer_CellCarrier-384 Ultra_F11_T0352F005L01A01Z01C01.tif\n",
      "/data2/varun/HiTIPS_paper_data/fig_5/kpnb1/exp2/AssayPlate_PerkinElmer_CellCarrier-384 Ultra_F11_T0352F007L01A01Z01C01.tif\n",
      "/data2/varun/HiTIPS_paper_data/fig_5/kpnb1/exp2/AssayPlate_PerkinElmer_CellCarrier-384 Ultra_F11_T0352F006L01A01Z01C01.tif\n",
      "/data2/varun/HiTIPS_paper_data/fig_5/kpnb1/exp2/AssayPlate_PerkinElmer_CellCarrier-384 Ultra_F11_T0352F009L01A01Z01C01.tif\n",
      "/data2/varun/HiTIPS_paper_data/fig_5/kpnb1/exp2/AssayPlate_PerkinElmer_CellCarrier-384 Ultra_F11_T0352F008L01A01Z01C01.tif\n",
      "/data2/varun/HiTIPS_paper_data/fig_5/kpnb1/exp2/AssayPlate_PerkinElmer_CellCarrier-384 Ultra_F11_T0353F002L01A01Z01C01.tif\n",
      "/data2/varun/HiTIPS_paper_data/fig_5/kpnb1/exp2/AssayPlate_PerkinElmer_CellCarrier-384 Ultra_F11_T0353F001L01A01Z01C01.tif\n",
      "/data2/varun/HiTIPS_paper_data/fig_5/kpnb1/exp2/AssayPlate_PerkinElmer_CellCarrier-384 Ultra_F11_T0353F004L01A01Z01C01.tif\n",
      "/data2/varun/HiTIPS_paper_data/fig_5/kpnb1/exp2/AssayPlate_PerkinElmer_CellCarrier-384 Ultra_F11_T0353F003L01A01Z01C01.tif\n",
      "/data2/varun/HiTIPS_paper_data/fig_5/kpnb1/exp2/AssayPlate_PerkinElmer_CellCarrier-384 Ultra_F11_T0353F005L01A01Z01C01.tif\n",
      "/data2/varun/HiTIPS_paper_data/fig_5/kpnb1/exp2/AssayPlate_PerkinElmer_CellCarrier-384 Ultra_F11_T0353F006L01A01Z01C01.tif\n",
      "/data2/varun/HiTIPS_paper_data/fig_5/kpnb1/exp2/AssayPlate_PerkinElmer_CellCarrier-384 Ultra_F11_T0353F007L01A01Z01C01.tif\n",
      "/data2/varun/HiTIPS_paper_data/fig_5/kpnb1/exp2/AssayPlate_PerkinElmer_CellCarrier-384 Ultra_F11_T0353F008L01A01Z01C01.tif\n",
      "/data2/varun/HiTIPS_paper_data/fig_5/kpnb1/exp2/AssayPlate_PerkinElmer_CellCarrier-384 Ultra_F11_T0354F001L01A01Z01C01.tif\n",
      "/data2/varun/HiTIPS_paper_data/fig_5/kpnb1/exp2/AssayPlate_PerkinElmer_CellCarrier-384 Ultra_F11_T0353F009L01A01Z01C01.tif\n",
      "/data2/varun/HiTIPS_paper_data/fig_5/kpnb1/exp2/AssayPlate_PerkinElmer_CellCarrier-384 Ultra_F11_T0354F003L01A01Z01C01.tif\n",
      "/data2/varun/HiTIPS_paper_data/fig_5/kpnb1/exp2/AssayPlate_PerkinElmer_CellCarrier-384 Ultra_F11_T0354F002L01A01Z01C01.tif\n",
      "/data2/varun/HiTIPS_paper_data/fig_5/kpnb1/exp2/AssayPlate_PerkinElmer_CellCarrier-384 Ultra_F11_T0354F005L01A01Z01C01.tif\n",
      "/data2/varun/HiTIPS_paper_data/fig_5/kpnb1/exp2/AssayPlate_PerkinElmer_CellCarrier-384 Ultra_F11_T0354F007L01A01Z01C01.tif\n",
      "/data2/varun/HiTIPS_paper_data/fig_5/kpnb1/exp2/AssayPlate_PerkinElmer_CellCarrier-384 Ultra_F11_T0354F004L01A01Z01C01.tif\n",
      "/data2/varun/HiTIPS_paper_data/fig_5/kpnb1/exp2/AssayPlate_PerkinElmer_CellCarrier-384 Ultra_F11_T0354F006L01A01Z01C01.tif\n",
      "/data2/varun/HiTIPS_paper_data/fig_5/kpnb1/exp2/AssayPlate_PerkinElmer_CellCarrier-384 Ultra_F11_T0354F008L01A01Z01C01.tif\n",
      "/data2/varun/HiTIPS_paper_data/fig_5/kpnb1/exp2/AssayPlate_PerkinElmer_CellCarrier-384 Ultra_F11_T0354F009L01A01Z01C01.tif\n",
      "/data2/varun/HiTIPS_paper_data/fig_5/kpnb1/exp2/AssayPlate_PerkinElmer_CellCarrier-384 Ultra_F11_T0355F001L01A01Z01C01.tif\n",
      "/data2/varun/HiTIPS_paper_data/fig_5/kpnb1/exp2/AssayPlate_PerkinElmer_CellCarrier-384 Ultra_F11_T0355F002L01A01Z01C01.tif\n",
      "/data2/varun/HiTIPS_paper_data/fig_5/kpnb1/exp2/AssayPlate_PerkinElmer_CellCarrier-384 Ultra_F11_T0355F004L01A01Z01C01.tif\n",
      "/data2/varun/HiTIPS_paper_data/fig_5/kpnb1/exp2/AssayPlate_PerkinElmer_CellCarrier-384 Ultra_F11_T0355F005L01A01Z01C01.tif\n",
      "/data2/varun/HiTIPS_paper_data/fig_5/kpnb1/exp2/AssayPlate_PerkinElmer_CellCarrier-384 Ultra_F11_T0355F006L01A01Z01C01.tif\n",
      "/data2/varun/HiTIPS_paper_data/fig_5/kpnb1/exp2/AssayPlate_PerkinElmer_CellCarrier-384 Ultra_F11_T0355F003L01A01Z01C01.tif\n",
      "/data2/varun/HiTIPS_paper_data/fig_5/kpnb1/exp2/AssayPlate_PerkinElmer_CellCarrier-384 Ultra_F11_T0355F008L01A01Z01C01.tif\n",
      "/data2/varun/HiTIPS_paper_data/fig_5/kpnb1/exp2/AssayPlate_PerkinElmer_CellCarrier-384 Ultra_F11_T0356F001L01A01Z01C01.tif\n",
      "/data2/varun/HiTIPS_paper_data/fig_5/kpnb1/exp2/AssayPlate_PerkinElmer_CellCarrier-384 Ultra_F11_T0355F009L01A01Z01C01.tif\n",
      "/data2/varun/HiTIPS_paper_data/fig_5/kpnb1/exp2/AssayPlate_PerkinElmer_CellCarrier-384 Ultra_F11_T0355F007L01A01Z01C01.tif\n",
      "/data2/varun/HiTIPS_paper_data/fig_5/kpnb1/exp2/AssayPlate_PerkinElmer_CellCarrier-384 Ultra_F11_T0356F003L01A01Z01C01.tif\n",
      "/data2/varun/HiTIPS_paper_data/fig_5/kpnb1/exp2/AssayPlate_PerkinElmer_CellCarrier-384 Ultra_F11_T0356F005L01A01Z01C01.tif\n",
      "/data2/varun/HiTIPS_paper_data/fig_5/kpnb1/exp2/AssayPlate_PerkinElmer_CellCarrier-384 Ultra_F11_T0356F004L01A01Z01C01.tif\n",
      "/data2/varun/HiTIPS_paper_data/fig_5/kpnb1/exp2/AssayPlate_PerkinElmer_CellCarrier-384 Ultra_F11_T0356F002L01A01Z01C01.tif\n",
      "/data2/varun/HiTIPS_paper_data/fig_5/kpnb1/exp2/AssayPlate_PerkinElmer_CellCarrier-384 Ultra_F11_T0356F007L01A01Z01C01.tif\n",
      "/data2/varun/HiTIPS_paper_data/fig_5/kpnb1/exp2/AssayPlate_PerkinElmer_CellCarrier-384 Ultra_F11_T0356F006L01A01Z01C01.tif\n",
      "/data2/varun/HiTIPS_paper_data/fig_5/kpnb1/exp2/AssayPlate_PerkinElmer_CellCarrier-384 Ultra_F11_T0356F008L01A01Z01C01.tif\n",
      "/data2/varun/HiTIPS_paper_data/fig_5/kpnb1/exp2/AssayPlate_PerkinElmer_CellCarrier-384 Ultra_F11_T0356F009L01A01Z01C01.tif\n",
      "/data2/varun/HiTIPS_paper_data/fig_5/kpnb1/exp2/AssayPlate_PerkinElmer_CellCarrier-384 Ultra_F11_T0357F003L01A01Z01C01.tif/data2/varun/HiTIPS_paper_data/fig_5/kpnb1/exp2/AssayPlate_PerkinElmer_CellCarrier-384 Ultra_F11_T0357F001L01A01Z01C01.tif\n",
      "\n",
      "/data2/varun/HiTIPS_paper_data/fig_5/kpnb1/exp2/AssayPlate_PerkinElmer_CellCarrier-384 Ultra_F11_T0357F004L01A01Z01C01.tif\n",
      "/data2/varun/HiTIPS_paper_data/fig_5/kpnb1/exp2/AssayPlate_PerkinElmer_CellCarrier-384 Ultra_F11_T0357F002L01A01Z01C01.tif\n",
      "/data2/varun/HiTIPS_paper_data/fig_5/kpnb1/exp2/AssayPlate_PerkinElmer_CellCarrier-384 Ultra_F11_T0357F006L01A01Z01C01.tif\n",
      "/data2/varun/HiTIPS_paper_data/fig_5/kpnb1/exp2/AssayPlate_PerkinElmer_CellCarrier-384 Ultra_F11_T0357F008L01A01Z01C01.tif\n",
      "/data2/varun/HiTIPS_paper_data/fig_5/kpnb1/exp2/AssayPlate_PerkinElmer_CellCarrier-384 Ultra_F11_T0357F007L01A01Z01C01.tif\n",
      "/data2/varun/HiTIPS_paper_data/fig_5/kpnb1/exp2/AssayPlate_PerkinElmer_CellCarrier-384 Ultra_F11_T0357F005L01A01Z01C01.tif\n",
      "/data2/varun/HiTIPS_paper_data/fig_5/kpnb1/exp2/AssayPlate_PerkinElmer_CellCarrier-384 Ultra_F11_T0358F003L01A01Z01C01.tif\n",
      "/data2/varun/HiTIPS_paper_data/fig_5/kpnb1/exp2/AssayPlate_PerkinElmer_CellCarrier-384 Ultra_F11_T0358F001L01A01Z01C01.tif\n",
      "/data2/varun/HiTIPS_paper_data/fig_5/kpnb1/exp2/AssayPlate_PerkinElmer_CellCarrier-384 Ultra_F11_T0358F002L01A01Z01C01.tif\n",
      "/data2/varun/HiTIPS_paper_data/fig_5/kpnb1/exp2/AssayPlate_PerkinElmer_CellCarrier-384 Ultra_F11_T0357F009L01A01Z01C01.tif\n",
      "/data2/varun/HiTIPS_paper_data/fig_5/kpnb1/exp2/AssayPlate_PerkinElmer_CellCarrier-384 Ultra_F11_T0358F005L01A01Z01C01.tif\n",
      "/data2/varun/HiTIPS_paper_data/fig_5/kpnb1/exp2/AssayPlate_PerkinElmer_CellCarrier-384 Ultra_F11_T0358F004L01A01Z01C01.tif\n",
      "/data2/varun/HiTIPS_paper_data/fig_5/kpnb1/exp2/AssayPlate_PerkinElmer_CellCarrier-384 Ultra_F11_T0358F006L01A01Z01C01.tif\n",
      "/data2/varun/HiTIPS_paper_data/fig_5/kpnb1/exp2/AssayPlate_PerkinElmer_CellCarrier-384 Ultra_F11_T0358F007L01A01Z01C01.tif\n",
      "/data2/varun/HiTIPS_paper_data/fig_5/kpnb1/exp2/AssayPlate_PerkinElmer_CellCarrier-384 Ultra_F11_T0359F001L01A01Z01C01.tif\n",
      "/data2/varun/HiTIPS_paper_data/fig_5/kpnb1/exp2/AssayPlate_PerkinElmer_CellCarrier-384 Ultra_F11_T0359F002L01A01Z01C01.tif\n",
      "/data2/varun/HiTIPS_paper_data/fig_5/kpnb1/exp2/AssayPlate_PerkinElmer_CellCarrier-384 Ultra_F11_T0358F008L01A01Z01C01.tif\n",
      "/data2/varun/HiTIPS_paper_data/fig_5/kpnb1/exp2/AssayPlate_PerkinElmer_CellCarrier-384 Ultra_F11_T0358F009L01A01Z01C01.tif\n",
      "/data2/varun/HiTIPS_paper_data/fig_5/kpnb1/exp2/AssayPlate_PerkinElmer_CellCarrier-384 Ultra_F11_T0359F004L01A01Z01C01.tif\n",
      "/data2/varun/HiTIPS_paper_data/fig_5/kpnb1/exp2/AssayPlate_PerkinElmer_CellCarrier-384 Ultra_F11_T0359F003L01A01Z01C01.tif\n",
      "/data2/varun/HiTIPS_paper_data/fig_5/kpnb1/exp2/AssayPlate_PerkinElmer_CellCarrier-384 Ultra_F11_T0359F005L01A01Z01C01.tif\n",
      "/data2/varun/HiTIPS_paper_data/fig_5/kpnb1/exp2/AssayPlate_PerkinElmer_CellCarrier-384 Ultra_F11_T0359F006L01A01Z01C01.tif\n",
      "/data2/varun/HiTIPS_paper_data/fig_5/kpnb1/exp2/AssayPlate_PerkinElmer_CellCarrier-384 Ultra_F11_T0360F001L01A01Z01C01.tif\n",
      "/data2/varun/HiTIPS_paper_data/fig_5/kpnb1/exp2/AssayPlate_PerkinElmer_CellCarrier-384 Ultra_F11_T0359F008L01A01Z01C01.tif\n",
      "/data2/varun/HiTIPS_paper_data/fig_5/kpnb1/exp2/AssayPlate_PerkinElmer_CellCarrier-384 Ultra_F11_T0359F007L01A01Z01C01.tif\n",
      "/data2/varun/HiTIPS_paper_data/fig_5/kpnb1/exp2/AssayPlate_PerkinElmer_CellCarrier-384 Ultra_F11_T0359F009L01A01Z01C01.tif\n",
      "/data2/varun/HiTIPS_paper_data/fig_5/kpnb1/exp2/AssayPlate_PerkinElmer_CellCarrier-384 Ultra_F11_T0360F003L01A01Z01C01.tif\n",
      "/data2/varun/HiTIPS_paper_data/fig_5/kpnb1/exp2/AssayPlate_PerkinElmer_CellCarrier-384 Ultra_F11_T0360F004L01A01Z01C01.tif\n",
      "/data2/varun/HiTIPS_paper_data/fig_5/kpnb1/exp2/AssayPlate_PerkinElmer_CellCarrier-384 Ultra_F11_T0360F002L01A01Z01C01.tif\n",
      "/data2/varun/HiTIPS_paper_data/fig_5/kpnb1/exp2/AssayPlate_PerkinElmer_CellCarrier-384 Ultra_F11_T0360F005L01A01Z01C01.tif\n",
      "/data2/varun/HiTIPS_paper_data/fig_5/kpnb1/exp2/AssayPlate_PerkinElmer_CellCarrier-384 Ultra_F11_T0360F007L01A01Z01C01.tif\n",
      "/data2/varun/HiTIPS_paper_data/fig_5/kpnb1/exp2/AssayPlate_PerkinElmer_CellCarrier-384 Ultra_F11_T0360F009L01A01Z01C01.tif\n",
      "/data2/varun/HiTIPS_paper_data/fig_5/kpnb1/exp2/AssayPlate_PerkinElmer_CellCarrier-384 Ultra_F11_T0360F008L01A01Z01C01.tif\n",
      "/data2/varun/HiTIPS_paper_data/fig_5/kpnb1/exp2/AssayPlate_PerkinElmer_CellCarrier-384 Ultra_F11_T0360F006L01A01Z01C01.tif\n",
      "/data2/varun/HiTIPS_paper_data/fig_5/kpnb1/exp2/AssayPlate_PerkinElmer_CellCarrier-384 Ultra_F11_T0361F002L01A01Z01C01.tif\n",
      "/data2/varun/HiTIPS_paper_data/fig_5/kpnb1/exp2/AssayPlate_PerkinElmer_CellCarrier-384 Ultra_F11_T0361F004L01A01Z01C01.tif\n",
      "/data2/varun/HiTIPS_paper_data/fig_5/kpnb1/exp2/AssayPlate_PerkinElmer_CellCarrier-384 Ultra_F11_T0361F001L01A01Z01C01.tif/data2/varun/HiTIPS_paper_data/fig_5/kpnb1/exp2/AssayPlate_PerkinElmer_CellCarrier-384 Ultra_F11_T0361F003L01A01Z01C01.tif\n",
      "\n",
      "/data2/varun/HiTIPS_paper_data/fig_5/kpnb1/exp2/AssayPlate_PerkinElmer_CellCarrier-384 Ultra_F11_T0361F006L01A01Z01C01.tif\n",
      "/data2/varun/HiTIPS_paper_data/fig_5/kpnb1/exp2/AssayPlate_PerkinElmer_CellCarrier-384 Ultra_F11_T0361F008L01A01Z01C01.tif\n",
      "/data2/varun/HiTIPS_paper_data/fig_5/kpnb1/exp2/AssayPlate_PerkinElmer_CellCarrier-384 Ultra_F11_T0361F005L01A01Z01C01.tif\n",
      "/data2/varun/HiTIPS_paper_data/fig_5/kpnb1/exp2/AssayPlate_PerkinElmer_CellCarrier-384 Ultra_F11_T0361F007L01A01Z01C01.tif\n",
      "/data2/varun/HiTIPS_paper_data/fig_5/kpnb1/exp2/AssayPlate_PerkinElmer_CellCarrier-384 Ultra_F11_T0362F001L01A01Z01C01.tif\n",
      "/data2/varun/HiTIPS_paper_data/fig_5/kpnb1/exp2/AssayPlate_PerkinElmer_CellCarrier-384 Ultra_F11_T0362F002L01A01Z01C01.tif\n",
      "/data2/varun/HiTIPS_paper_data/fig_5/kpnb1/exp2/AssayPlate_PerkinElmer_CellCarrier-384 Ultra_F11_T0362F003L01A01Z01C01.tif\n",
      "/data2/varun/HiTIPS_paper_data/fig_5/kpnb1/exp2/AssayPlate_PerkinElmer_CellCarrier-384 Ultra_F11_T0361F009L01A01Z01C01.tif\n",
      "/data2/varun/HiTIPS_paper_data/fig_5/kpnb1/exp2/AssayPlate_PerkinElmer_CellCarrier-384 Ultra_F11_T0362F007L01A01Z01C01.tif\n",
      "/data2/varun/HiTIPS_paper_data/fig_5/kpnb1/exp2/AssayPlate_PerkinElmer_CellCarrier-384 Ultra_F11_T0362F005L01A01Z01C01.tif\n",
      "/data2/varun/HiTIPS_paper_data/fig_5/kpnb1/exp2/AssayPlate_PerkinElmer_CellCarrier-384 Ultra_F11_T0362F004L01A01Z01C01.tif\n",
      "/data2/varun/HiTIPS_paper_data/fig_5/kpnb1/exp2/AssayPlate_PerkinElmer_CellCarrier-384 Ultra_F11_T0362F006L01A01Z01C01.tif\n",
      "/data2/varun/HiTIPS_paper_data/fig_5/kpnb1/exp2/AssayPlate_PerkinElmer_CellCarrier-384 Ultra_F11_T0362F009L01A01Z01C01.tif\n",
      "/data2/varun/HiTIPS_paper_data/fig_5/kpnb1/exp2/AssayPlate_PerkinElmer_CellCarrier-384 Ultra_F11_T0363F002L01A01Z01C01.tif\n",
      "/data2/varun/HiTIPS_paper_data/fig_5/kpnb1/exp2/AssayPlate_PerkinElmer_CellCarrier-384 Ultra_F11_T0362F008L01A01Z01C01.tif\n",
      "/data2/varun/HiTIPS_paper_data/fig_5/kpnb1/exp2/AssayPlate_PerkinElmer_CellCarrier-384 Ultra_F11_T0363F001L01A01Z01C01.tif\n",
      "/data2/varun/HiTIPS_paper_data/fig_5/kpnb1/exp2/AssayPlate_PerkinElmer_CellCarrier-384 Ultra_F11_T0363F003L01A01Z01C01.tif\n",
      "/data2/varun/HiTIPS_paper_data/fig_5/kpnb1/exp2/AssayPlate_PerkinElmer_CellCarrier-384 Ultra_F11_T0363F006L01A01Z01C01.tif\n",
      "/data2/varun/HiTIPS_paper_data/fig_5/kpnb1/exp2/AssayPlate_PerkinElmer_CellCarrier-384 Ultra_F11_T0363F004L01A01Z01C01.tif\n",
      "/data2/varun/HiTIPS_paper_data/fig_5/kpnb1/exp2/AssayPlate_PerkinElmer_CellCarrier-384 Ultra_F11_T0363F005L01A01Z01C01.tif\n",
      "/data2/varun/HiTIPS_paper_data/fig_5/kpnb1/exp2/AssayPlate_PerkinElmer_CellCarrier-384 Ultra_F11_T0363F008L01A01Z01C01.tif\n",
      "/data2/varun/HiTIPS_paper_data/fig_5/kpnb1/exp2/AssayPlate_PerkinElmer_CellCarrier-384 Ultra_F11_T0364F001L01A01Z01C01.tif\n",
      "/data2/varun/HiTIPS_paper_data/fig_5/kpnb1/exp2/AssayPlate_PerkinElmer_CellCarrier-384 Ultra_F11_T0363F007L01A01Z01C01.tif\n",
      "/data2/varun/HiTIPS_paper_data/fig_5/kpnb1/exp2/AssayPlate_PerkinElmer_CellCarrier-384 Ultra_F11_T0363F009L01A01Z01C01.tif\n",
      "/data2/varun/HiTIPS_paper_data/fig_5/kpnb1/exp2/AssayPlate_PerkinElmer_CellCarrier-384 Ultra_F11_T0364F003L01A01Z01C01.tif\n",
      "/data2/varun/HiTIPS_paper_data/fig_5/kpnb1/exp2/AssayPlate_PerkinElmer_CellCarrier-384 Ultra_F11_T0364F005L01A01Z01C01.tif\n",
      "/data2/varun/HiTIPS_paper_data/fig_5/kpnb1/exp2/AssayPlate_PerkinElmer_CellCarrier-384 Ultra_F11_T0364F002L01A01Z01C01.tif\n",
      "/data2/varun/HiTIPS_paper_data/fig_5/kpnb1/exp2/AssayPlate_PerkinElmer_CellCarrier-384 Ultra_F11_T0364F004L01A01Z01C01.tif\n",
      "/data2/varun/HiTIPS_paper_data/fig_5/kpnb1/exp2/AssayPlate_PerkinElmer_CellCarrier-384 Ultra_F11_T0364F009L01A01Z01C01.tif\n",
      "/data2/varun/HiTIPS_paper_data/fig_5/kpnb1/exp2/AssayPlate_PerkinElmer_CellCarrier-384 Ultra_F11_T0364F006L01A01Z01C01.tif\n",
      "/data2/varun/HiTIPS_paper_data/fig_5/kpnb1/exp2/AssayPlate_PerkinElmer_CellCarrier-384 Ultra_F11_T0364F008L01A01Z01C01.tif\n",
      "/data2/varun/HiTIPS_paper_data/fig_5/kpnb1/exp2/AssayPlate_PerkinElmer_CellCarrier-384 Ultra_F11_T0364F007L01A01Z01C01.tif\n",
      "/data2/varun/HiTIPS_paper_data/fig_5/kpnb1/exp2/AssayPlate_PerkinElmer_CellCarrier-384 Ultra_F11_T0365F001L01A01Z01C01.tif\n",
      "/data2/varun/HiTIPS_paper_data/fig_5/kpnb1/exp2/AssayPlate_PerkinElmer_CellCarrier-384 Ultra_F11_T0365F002L01A01Z01C01.tif\n",
      "/data2/varun/HiTIPS_paper_data/fig_5/kpnb1/exp2/AssayPlate_PerkinElmer_CellCarrier-384 Ultra_F11_T0365F003L01A01Z01C01.tif\n",
      "/data2/varun/HiTIPS_paper_data/fig_5/kpnb1/exp2/AssayPlate_PerkinElmer_CellCarrier-384 Ultra_F11_T0365F004L01A01Z01C01.tif\n",
      "/data2/varun/HiTIPS_paper_data/fig_5/kpnb1/exp2/AssayPlate_PerkinElmer_CellCarrier-384 Ultra_F11_T0365F006L01A01Z01C01.tif\n",
      "/data2/varun/HiTIPS_paper_data/fig_5/kpnb1/exp2/AssayPlate_PerkinElmer_CellCarrier-384 Ultra_F11_T0365F008L01A01Z01C01.tif\n",
      "/data2/varun/HiTIPS_paper_data/fig_5/kpnb1/exp2/AssayPlate_PerkinElmer_CellCarrier-384 Ultra_F11_T0365F007L01A01Z01C01.tif\n",
      "/data2/varun/HiTIPS_paper_data/fig_5/kpnb1/exp2/AssayPlate_PerkinElmer_CellCarrier-384 Ultra_F11_T0365F005L01A01Z01C01.tif\n",
      "/data2/varun/HiTIPS_paper_data/fig_5/kpnb1/exp2/AssayPlate_PerkinElmer_CellCarrier-384 Ultra_F11_T0366F001L01A01Z01C01.tif\n",
      "/data2/varun/HiTIPS_paper_data/fig_5/kpnb1/exp2/AssayPlate_PerkinElmer_CellCarrier-384 Ultra_F11_T0366F002L01A01Z01C01.tif\n",
      "/data2/varun/HiTIPS_paper_data/fig_5/kpnb1/exp2/AssayPlate_PerkinElmer_CellCarrier-384 Ultra_F11_T0366F003L01A01Z01C01.tif\n",
      "/data2/varun/HiTIPS_paper_data/fig_5/kpnb1/exp2/AssayPlate_PerkinElmer_CellCarrier-384 Ultra_F11_T0365F009L01A01Z01C01.tif\n",
      "/data2/varun/HiTIPS_paper_data/fig_5/kpnb1/exp2/AssayPlate_PerkinElmer_CellCarrier-384 Ultra_F11_T0366F005L01A01Z01C01.tif\n",
      "/data2/varun/HiTIPS_paper_data/fig_5/kpnb1/exp2/AssayPlate_PerkinElmer_CellCarrier-384 Ultra_F11_T0366F007L01A01Z01C01.tif\n",
      "/data2/varun/HiTIPS_paper_data/fig_5/kpnb1/exp2/AssayPlate_PerkinElmer_CellCarrier-384 Ultra_F11_T0366F004L01A01Z01C01.tif\n",
      "/data2/varun/HiTIPS_paper_data/fig_5/kpnb1/exp2/AssayPlate_PerkinElmer_CellCarrier-384 Ultra_F11_T0366F006L01A01Z01C01.tif\n",
      "/data2/varun/HiTIPS_paper_data/fig_5/kpnb1/exp2/AssayPlate_PerkinElmer_CellCarrier-384 Ultra_F11_T0366F008L01A01Z01C01.tif\n",
      "/data2/varun/HiTIPS_paper_data/fig_5/kpnb1/exp2/AssayPlate_PerkinElmer_CellCarrier-384 Ultra_F11_T0366F009L01A01Z01C01.tif\n",
      "/data2/varun/HiTIPS_paper_data/fig_5/kpnb1/exp2/AssayPlate_PerkinElmer_CellCarrier-384 Ultra_F11_T0367F002L01A01Z01C01.tif\n",
      "/data2/varun/HiTIPS_paper_data/fig_5/kpnb1/exp2/AssayPlate_PerkinElmer_CellCarrier-384 Ultra_F11_T0367F001L01A01Z01C01.tif\n",
      "/data2/varun/HiTIPS_paper_data/fig_5/kpnb1/exp2/AssayPlate_PerkinElmer_CellCarrier-384 Ultra_F11_T0367F004L01A01Z01C01.tif\n",
      "/data2/varun/HiTIPS_paper_data/fig_5/kpnb1/exp2/AssayPlate_PerkinElmer_CellCarrier-384 Ultra_F11_T0367F005L01A01Z01C01.tif\n",
      "/data2/varun/HiTIPS_paper_data/fig_5/kpnb1/exp2/AssayPlate_PerkinElmer_CellCarrier-384 Ultra_F11_T0367F003L01A01Z01C01.tif\n",
      "/data2/varun/HiTIPS_paper_data/fig_5/kpnb1/exp2/AssayPlate_PerkinElmer_CellCarrier-384 Ultra_F11_T0367F006L01A01Z01C01.tif\n",
      "/data2/varun/HiTIPS_paper_data/fig_5/kpnb1/exp2/AssayPlate_PerkinElmer_CellCarrier-384 Ultra_F11_T0367F008L01A01Z01C01.tif\n",
      "/data2/varun/HiTIPS_paper_data/fig_5/kpnb1/exp2/AssayPlate_PerkinElmer_CellCarrier-384 Ultra_F11_T0368F001L01A01Z01C01.tif\n",
      "/data2/varun/HiTIPS_paper_data/fig_5/kpnb1/exp2/AssayPlate_PerkinElmer_CellCarrier-384 Ultra_F11_T0367F009L01A01Z01C01.tif\n",
      "/data2/varun/HiTIPS_paper_data/fig_5/kpnb1/exp2/AssayPlate_PerkinElmer_CellCarrier-384 Ultra_F11_T0367F007L01A01Z01C01.tif\n",
      "/data2/varun/HiTIPS_paper_data/fig_5/kpnb1/exp2/AssayPlate_PerkinElmer_CellCarrier-384 Ultra_F11_T0368F003L01A01Z01C01.tif\n",
      "/data2/varun/HiTIPS_paper_data/fig_5/kpnb1/exp2/AssayPlate_PerkinElmer_CellCarrier-384 Ultra_F11_T0368F005L01A01Z01C01.tif\n",
      "/data2/varun/HiTIPS_paper_data/fig_5/kpnb1/exp2/AssayPlate_PerkinElmer_CellCarrier-384 Ultra_F11_T0368F002L01A01Z01C01.tif\n",
      "/data2/varun/HiTIPS_paper_data/fig_5/kpnb1/exp2/AssayPlate_PerkinElmer_CellCarrier-384 Ultra_F11_T0368F004L01A01Z01C01.tif\n",
      "/data2/varun/HiTIPS_paper_data/fig_5/kpnb1/exp2/AssayPlate_PerkinElmer_CellCarrier-384 Ultra_F11_T0368F007L01A01Z01C01.tif\n",
      "/data2/varun/HiTIPS_paper_data/fig_5/kpnb1/exp2/AssayPlate_PerkinElmer_CellCarrier-384 Ultra_F11_T0368F008L01A01Z01C01.tif\n",
      "/data2/varun/HiTIPS_paper_data/fig_5/kpnb1/exp2/AssayPlate_PerkinElmer_CellCarrier-384 Ultra_F11_T0368F006L01A01Z01C01.tif\n",
      "/data2/varun/HiTIPS_paper_data/fig_5/kpnb1/exp2/AssayPlate_PerkinElmer_CellCarrier-384 Ultra_F11_T0368F009L01A01Z01C01.tif\n",
      "/data2/varun/HiTIPS_paper_data/fig_5/kpnb1/exp2/AssayPlate_PerkinElmer_CellCarrier-384 Ultra_F11_T0369F004L01A01Z01C01.tif\n",
      "/data2/varun/HiTIPS_paper_data/fig_5/kpnb1/exp2/AssayPlate_PerkinElmer_CellCarrier-384 Ultra_F11_T0369F003L01A01Z01C01.tif\n",
      "/data2/varun/HiTIPS_paper_data/fig_5/kpnb1/exp2/AssayPlate_PerkinElmer_CellCarrier-384 Ultra_F11_T0369F001L01A01Z01C01.tif\n",
      "/data2/varun/HiTIPS_paper_data/fig_5/kpnb1/exp2/AssayPlate_PerkinElmer_CellCarrier-384 Ultra_F11_T0369F002L01A01Z01C01.tif\n",
      "/data2/varun/HiTIPS_paper_data/fig_5/kpnb1/exp2/AssayPlate_PerkinElmer_CellCarrier-384 Ultra_F11_T0369F008L01A01Z01C01.tif\n",
      "/data2/varun/HiTIPS_paper_data/fig_5/kpnb1/exp2/AssayPlate_PerkinElmer_CellCarrier-384 Ultra_F11_T0369F006L01A01Z01C01.tif\n",
      "/data2/varun/HiTIPS_paper_data/fig_5/kpnb1/exp2/AssayPlate_PerkinElmer_CellCarrier-384 Ultra_F11_T0369F005L01A01Z01C01.tif\n",
      "/data2/varun/HiTIPS_paper_data/fig_5/kpnb1/exp2/AssayPlate_PerkinElmer_CellCarrier-384 Ultra_F11_T0369F007L01A01Z01C01.tif\n",
      "/data2/varun/HiTIPS_paper_data/fig_5/kpnb1/exp2/AssayPlate_PerkinElmer_CellCarrier-384 Ultra_F11_T0370F001L01A01Z01C01.tif\n",
      "/data2/varun/HiTIPS_paper_data/fig_5/kpnb1/exp2/AssayPlate_PerkinElmer_CellCarrier-384 Ultra_F11_T0369F009L01A01Z01C01.tif\n",
      "/data2/varun/HiTIPS_paper_data/fig_5/kpnb1/exp2/AssayPlate_PerkinElmer_CellCarrier-384 Ultra_F11_T0370F002L01A01Z01C01.tif\n",
      "/data2/varun/HiTIPS_paper_data/fig_5/kpnb1/exp2/AssayPlate_PerkinElmer_CellCarrier-384 Ultra_F11_T0370F003L01A01Z01C01.tif\n",
      "/data2/varun/HiTIPS_paper_data/fig_5/kpnb1/exp2/AssayPlate_PerkinElmer_CellCarrier-384 Ultra_F11_T0370F005L01A01Z01C01.tif\n",
      "/data2/varun/HiTIPS_paper_data/fig_5/kpnb1/exp2/AssayPlate_PerkinElmer_CellCarrier-384 Ultra_F11_T0370F007L01A01Z01C01.tif\n",
      "/data2/varun/HiTIPS_paper_data/fig_5/kpnb1/exp2/AssayPlate_PerkinElmer_CellCarrier-384 Ultra_F11_T0370F006L01A01Z01C01.tif\n",
      "/data2/varun/HiTIPS_paper_data/fig_5/kpnb1/exp2/AssayPlate_PerkinElmer_CellCarrier-384 Ultra_F11_T0370F004L01A01Z01C01.tif\n",
      "/data2/varun/HiTIPS_paper_data/fig_5/kpnb1/exp2/AssayPlate_PerkinElmer_CellCarrier-384 Ultra_F11_T0370F009L01A01Z01C01.tif\n",
      "/data2/varun/HiTIPS_paper_data/fig_5/kpnb1/exp2/AssayPlate_PerkinElmer_CellCarrier-384 Ultra_F11_T0371F002L01A01Z01C01.tif\n",
      "/data2/varun/HiTIPS_paper_data/fig_5/kpnb1/exp2/AssayPlate_PerkinElmer_CellCarrier-384 Ultra_F11_T0371F001L01A01Z01C01.tif\n",
      "/data2/varun/HiTIPS_paper_data/fig_5/kpnb1/exp2/AssayPlate_PerkinElmer_CellCarrier-384 Ultra_F11_T0370F008L01A01Z01C01.tif\n",
      "/data2/varun/HiTIPS_paper_data/fig_5/kpnb1/exp2/AssayPlate_PerkinElmer_CellCarrier-384 Ultra_F11_T0371F004L01A01Z01C01.tif\n",
      "/data2/varun/HiTIPS_paper_data/fig_5/kpnb1/exp2/AssayPlate_PerkinElmer_CellCarrier-384 Ultra_F11_T0371F005L01A01Z01C01.tif\n",
      "/data2/varun/HiTIPS_paper_data/fig_5/kpnb1/exp2/AssayPlate_PerkinElmer_CellCarrier-384 Ultra_F11_T0371F006L01A01Z01C01.tif\n",
      "/data2/varun/HiTIPS_paper_data/fig_5/kpnb1/exp2/AssayPlate_PerkinElmer_CellCarrier-384 Ultra_F11_T0371F003L01A01Z01C01.tif\n",
      "/data2/varun/HiTIPS_paper_data/fig_5/kpnb1/exp2/AssayPlate_PerkinElmer_CellCarrier-384 Ultra_F11_T0372F001L01A01Z01C01.tif\n",
      "/data2/varun/HiTIPS_paper_data/fig_5/kpnb1/exp2/AssayPlate_PerkinElmer_CellCarrier-384 Ultra_F11_T0371F008L01A01Z01C01.tif\n",
      "/data2/varun/HiTIPS_paper_data/fig_5/kpnb1/exp2/AssayPlate_PerkinElmer_CellCarrier-384 Ultra_F11_T0371F009L01A01Z01C01.tif\n",
      "/data2/varun/HiTIPS_paper_data/fig_5/kpnb1/exp2/AssayPlate_PerkinElmer_CellCarrier-384 Ultra_F11_T0371F007L01A01Z01C01.tif\n",
      "/data2/varun/HiTIPS_paper_data/fig_5/kpnb1/exp2/AssayPlate_PerkinElmer_CellCarrier-384 Ultra_F11_T0372F003L01A01Z01C01.tif\n",
      "/data2/varun/HiTIPS_paper_data/fig_5/kpnb1/exp2/AssayPlate_PerkinElmer_CellCarrier-384 Ultra_F11_T0372F005L01A01Z01C01.tif\n",
      "/data2/varun/HiTIPS_paper_data/fig_5/kpnb1/exp2/AssayPlate_PerkinElmer_CellCarrier-384 Ultra_F11_T0372F002L01A01Z01C01.tif\n",
      "/data2/varun/HiTIPS_paper_data/fig_5/kpnb1/exp2/AssayPlate_PerkinElmer_CellCarrier-384 Ultra_F11_T0372F004L01A01Z01C01.tif\n",
      "/data2/varun/HiTIPS_paper_data/fig_5/kpnb1/exp2/AssayPlate_PerkinElmer_CellCarrier-384 Ultra_F11_T0372F009L01A01Z01C01.tif\n",
      "/data2/varun/HiTIPS_paper_data/fig_5/kpnb1/exp2/AssayPlate_PerkinElmer_CellCarrier-384 Ultra_F11_T0372F008L01A01Z01C01.tif\n",
      "/data2/varun/HiTIPS_paper_data/fig_5/kpnb1/exp2/AssayPlate_PerkinElmer_CellCarrier-384 Ultra_F11_T0372F006L01A01Z01C01.tif\n",
      "/data2/varun/HiTIPS_paper_data/fig_5/kpnb1/exp2/AssayPlate_PerkinElmer_CellCarrier-384 Ultra_F11_T0372F007L01A01Z01C01.tif\n",
      "/data2/varun/HiTIPS_paper_data/fig_5/kpnb1/exp2/AssayPlate_PerkinElmer_CellCarrier-384 Ultra_F11_T0373F002L01A01Z01C01.tif\n",
      "/data2/varun/HiTIPS_paper_data/fig_5/kpnb1/exp2/AssayPlate_PerkinElmer_CellCarrier-384 Ultra_F11_T0373F003L01A01Z01C01.tif\n",
      "/data2/varun/HiTIPS_paper_data/fig_5/kpnb1/exp2/AssayPlate_PerkinElmer_CellCarrier-384 Ultra_F11_T0373F004L01A01Z01C01.tif\n",
      "/data2/varun/HiTIPS_paper_data/fig_5/kpnb1/exp2/AssayPlate_PerkinElmer_CellCarrier-384 Ultra_F11_T0373F001L01A01Z01C01.tif\n",
      "/data2/varun/HiTIPS_paper_data/fig_5/kpnb1/exp2/AssayPlate_PerkinElmer_CellCarrier-384 Ultra_F11_T0373F006L01A01Z01C01.tif\n",
      "/data2/varun/HiTIPS_paper_data/fig_5/kpnb1/exp2/AssayPlate_PerkinElmer_CellCarrier-384 Ultra_F11_T0373F005L01A01Z01C01.tif\n",
      "/data2/varun/HiTIPS_paper_data/fig_5/kpnb1/exp2/AssayPlate_PerkinElmer_CellCarrier-384 Ultra_F11_T0373F008L01A01Z01C01.tif\n",
      "/data2/varun/HiTIPS_paper_data/fig_5/kpnb1/exp2/AssayPlate_PerkinElmer_CellCarrier-384 Ultra_F11_T0373F007L01A01Z01C01.tif\n",
      "/data2/varun/HiTIPS_paper_data/fig_5/kpnb1/exp2/AssayPlate_PerkinElmer_CellCarrier-384 Ultra_F11_T0374F001L01A01Z01C01.tif\n",
      "/data2/varun/HiTIPS_paper_data/fig_5/kpnb1/exp2/AssayPlate_PerkinElmer_CellCarrier-384 Ultra_F11_T0374F003L01A01Z01C01.tif\n",
      "/data2/varun/HiTIPS_paper_data/fig_5/kpnb1/exp2/AssayPlate_PerkinElmer_CellCarrier-384 Ultra_F11_T0373F009L01A01Z01C01.tif\n",
      "/data2/varun/HiTIPS_paper_data/fig_5/kpnb1/exp2/AssayPlate_PerkinElmer_CellCarrier-384 Ultra_F11_T0374F002L01A01Z01C01.tif\n",
      "/data2/varun/HiTIPS_paper_data/fig_5/kpnb1/exp2/AssayPlate_PerkinElmer_CellCarrier-384 Ultra_F11_T0374F005L01A01Z01C01.tif\n",
      "/data2/varun/HiTIPS_paper_data/fig_5/kpnb1/exp2/AssayPlate_PerkinElmer_CellCarrier-384 Ultra_F11_T0374F006L01A01Z01C01.tif\n",
      "/data2/varun/HiTIPS_paper_data/fig_5/kpnb1/exp2/AssayPlate_PerkinElmer_CellCarrier-384 Ultra_F11_T0374F007L01A01Z01C01.tif\n",
      "/data2/varun/HiTIPS_paper_data/fig_5/kpnb1/exp2/AssayPlate_PerkinElmer_CellCarrier-384 Ultra_F11_T0374F004L01A01Z01C01.tif\n",
      "/data2/varun/HiTIPS_paper_data/fig_5/kpnb1/exp2/AssayPlate_PerkinElmer_CellCarrier-384 Ultra_F11_T0374F009L01A01Z01C01.tif\n",
      "/data2/varun/HiTIPS_paper_data/fig_5/kpnb1/exp2/AssayPlate_PerkinElmer_CellCarrier-384 Ultra_F11_T0375F001L01A01Z01C01.tif\n",
      "/data2/varun/HiTIPS_paper_data/fig_5/kpnb1/exp2/AssayPlate_PerkinElmer_CellCarrier-384 Ultra_F11_T0375F002L01A01Z01C01.tif\n",
      "/data2/varun/HiTIPS_paper_data/fig_5/kpnb1/exp2/AssayPlate_PerkinElmer_CellCarrier-384 Ultra_F11_T0374F008L01A01Z01C01.tif\n",
      "/data2/varun/HiTIPS_paper_data/fig_5/kpnb1/exp2/AssayPlate_PerkinElmer_CellCarrier-384 Ultra_F11_T0375F005L01A01Z01C01.tif\n",
      "/data2/varun/HiTIPS_paper_data/fig_5/kpnb1/exp2/AssayPlate_PerkinElmer_CellCarrier-384 Ultra_F11_T0375F004L01A01Z01C01.tif\n",
      "/data2/varun/HiTIPS_paper_data/fig_5/kpnb1/exp2/AssayPlate_PerkinElmer_CellCarrier-384 Ultra_F11_T0375F003L01A01Z01C01.tif\n",
      "/data2/varun/HiTIPS_paper_data/fig_5/kpnb1/exp2/AssayPlate_PerkinElmer_CellCarrier-384 Ultra_F11_T0375F006L01A01Z01C01.tif\n",
      "/data2/varun/HiTIPS_paper_data/fig_5/kpnb1/exp2/AssayPlate_PerkinElmer_CellCarrier-384 Ultra_F11_T0375F008L01A01Z01C01.tif\n",
      "/data2/varun/HiTIPS_paper_data/fig_5/kpnb1/exp2/AssayPlate_PerkinElmer_CellCarrier-384 Ultra_F11_T0375F009L01A01Z01C01.tif\n",
      "/data2/varun/HiTIPS_paper_data/fig_5/kpnb1/exp2/AssayPlate_PerkinElmer_CellCarrier-384 Ultra_F11_T0376F001L01A01Z01C01.tif\n",
      "/data2/varun/HiTIPS_paper_data/fig_5/kpnb1/exp2/AssayPlate_PerkinElmer_CellCarrier-384 Ultra_F11_T0375F007L01A01Z01C01.tif\n",
      "/data2/varun/HiTIPS_paper_data/fig_5/kpnb1/exp2/AssayPlate_PerkinElmer_CellCarrier-384 Ultra_F11_T0376F003L01A01Z01C01.tif\n",
      "/data2/varun/HiTIPS_paper_data/fig_5/kpnb1/exp2/AssayPlate_PerkinElmer_CellCarrier-384 Ultra_F11_T0376F002L01A01Z01C01.tif\n",
      "/data2/varun/HiTIPS_paper_data/fig_5/kpnb1/exp2/AssayPlate_PerkinElmer_CellCarrier-384 Ultra_F11_T0376F005L01A01Z01C01.tif\n",
      "/data2/varun/HiTIPS_paper_data/fig_5/kpnb1/exp2/AssayPlate_PerkinElmer_CellCarrier-384 Ultra_F11_T0376F004L01A01Z01C01.tif\n",
      "/data2/varun/HiTIPS_paper_data/fig_5/kpnb1/exp2/AssayPlate_PerkinElmer_CellCarrier-384 Ultra_F11_T0376F007L01A01Z01C01.tif\n",
      "/data2/varun/HiTIPS_paper_data/fig_5/kpnb1/exp2/AssayPlate_PerkinElmer_CellCarrier-384 Ultra_F11_T0376F009L01A01Z01C01.tif\n",
      "/data2/varun/HiTIPS_paper_data/fig_5/kpnb1/exp2/AssayPlate_PerkinElmer_CellCarrier-384 Ultra_F11_T0376F006L01A01Z01C01.tif\n",
      "/data2/varun/HiTIPS_paper_data/fig_5/kpnb1/exp2/AssayPlate_PerkinElmer_CellCarrier-384 Ultra_F11_T0376F008L01A01Z01C01.tif\n",
      "/data2/varun/HiTIPS_paper_data/fig_5/kpnb1/exp2/AssayPlate_PerkinElmer_CellCarrier-384 Ultra_F11_T0377F001L01A01Z01C01.tif\n",
      "/data2/varun/HiTIPS_paper_data/fig_5/kpnb1/exp2/AssayPlate_PerkinElmer_CellCarrier-384 Ultra_F11_T0377F002L01A01Z01C01.tif\n",
      "/data2/varun/HiTIPS_paper_data/fig_5/kpnb1/exp2/AssayPlate_PerkinElmer_CellCarrier-384 Ultra_F11_T0377F004L01A01Z01C01.tif\n",
      "/data2/varun/HiTIPS_paper_data/fig_5/kpnb1/exp2/AssayPlate_PerkinElmer_CellCarrier-384 Ultra_F11_T0377F003L01A01Z01C01.tif\n",
      "/data2/varun/HiTIPS_paper_data/fig_5/kpnb1/exp2/AssayPlate_PerkinElmer_CellCarrier-384 Ultra_F11_T0377F006L01A01Z01C01.tif\n",
      "/data2/varun/HiTIPS_paper_data/fig_5/kpnb1/exp2/AssayPlate_PerkinElmer_CellCarrier-384 Ultra_F11_T0377F007L01A01Z01C01.tif\n",
      "/data2/varun/HiTIPS_paper_data/fig_5/kpnb1/exp2/AssayPlate_PerkinElmer_CellCarrier-384 Ultra_F11_T0377F008L01A01Z01C01.tif\n",
      "/data2/varun/HiTIPS_paper_data/fig_5/kpnb1/exp2/AssayPlate_PerkinElmer_CellCarrier-384 Ultra_F11_T0377F005L01A01Z01C01.tif\n",
      "/data2/varun/HiTIPS_paper_data/fig_5/kpnb1/exp2/AssayPlate_PerkinElmer_CellCarrier-384 Ultra_F11_T0377F009L01A01Z01C01.tif\n",
      "/data2/varun/HiTIPS_paper_data/fig_5/kpnb1/exp2/AssayPlate_PerkinElmer_CellCarrier-384 Ultra_F11_T0378F003L01A01Z01C01.tif\n",
      "/data2/varun/HiTIPS_paper_data/fig_5/kpnb1/exp2/AssayPlate_PerkinElmer_CellCarrier-384 Ultra_F11_T0378F001L01A01Z01C01.tif\n",
      "/data2/varun/HiTIPS_paper_data/fig_5/kpnb1/exp2/AssayPlate_PerkinElmer_CellCarrier-384 Ultra_F11_T0378F002L01A01Z01C01.tif\n",
      "/data2/varun/HiTIPS_paper_data/fig_5/kpnb1/exp2/AssayPlate_PerkinElmer_CellCarrier-384 Ultra_F11_T0378F005L01A01Z01C01.tif\n",
      "/data2/varun/HiTIPS_paper_data/fig_5/kpnb1/exp2/AssayPlate_PerkinElmer_CellCarrier-384 Ultra_F11_T0378F007L01A01Z01C01.tif\n",
      "/data2/varun/HiTIPS_paper_data/fig_5/kpnb1/exp2/AssayPlate_PerkinElmer_CellCarrier-384 Ultra_F11_T0378F004L01A01Z01C01.tif\n",
      "/data2/varun/HiTIPS_paper_data/fig_5/kpnb1/exp2/AssayPlate_PerkinElmer_CellCarrier-384 Ultra_F11_T0378F006L01A01Z01C01.tif\n",
      "/data2/varun/HiTIPS_paper_data/fig_5/kpnb1/exp2/AssayPlate_PerkinElmer_CellCarrier-384 Ultra_F11_T0378F009L01A01Z01C01.tif\n",
      "/data2/varun/HiTIPS_paper_data/fig_5/kpnb1/exp2/AssayPlate_PerkinElmer_CellCarrier-384 Ultra_F11_T0379F001L01A01Z01C01.tif\n",
      "/data2/varun/HiTIPS_paper_data/fig_5/kpnb1/exp2/AssayPlate_PerkinElmer_CellCarrier-384 Ultra_F11_T0379F002L01A01Z01C01.tif\n",
      "/data2/varun/HiTIPS_paper_data/fig_5/kpnb1/exp2/AssayPlate_PerkinElmer_CellCarrier-384 Ultra_F11_T0378F008L01A01Z01C01.tif\n",
      "/data2/varun/HiTIPS_paper_data/fig_5/kpnb1/exp2/AssayPlate_PerkinElmer_CellCarrier-384 Ultra_F11_T0379F003L01A01Z01C01.tif\n",
      "/data2/varun/HiTIPS_paper_data/fig_5/kpnb1/exp2/AssayPlate_PerkinElmer_CellCarrier-384 Ultra_F11_T0379F004L01A01Z01C01.tif\n",
      "/data2/varun/HiTIPS_paper_data/fig_5/kpnb1/exp2/AssayPlate_PerkinElmer_CellCarrier-384 Ultra_F11_T0379F006L01A01Z01C01.tif\n",
      "/data2/varun/HiTIPS_paper_data/fig_5/kpnb1/exp2/AssayPlate_PerkinElmer_CellCarrier-384 Ultra_F11_T0379F005L01A01Z01C01.tif\n",
      "/data2/varun/HiTIPS_paper_data/fig_5/kpnb1/exp2/AssayPlate_PerkinElmer_CellCarrier-384 Ultra_F11_T0379F008L01A01Z01C01.tif\n",
      "/data2/varun/HiTIPS_paper_data/fig_5/kpnb1/exp2/AssayPlate_PerkinElmer_CellCarrier-384 Ultra_F11_T0379F007L01A01Z01C01.tif\n",
      "/data2/varun/HiTIPS_paper_data/fig_5/kpnb1/exp2/AssayPlate_PerkinElmer_CellCarrier-384 Ultra_F11_T0379F009L01A01Z01C01.tif\n",
      "/data2/varun/HiTIPS_paper_data/fig_5/kpnb1/exp2/AssayPlate_PerkinElmer_CellCarrier-384 Ultra_F11_T0380F001L01A01Z01C01.tif\n",
      "/data2/varun/HiTIPS_paper_data/fig_5/kpnb1/exp2/AssayPlate_PerkinElmer_CellCarrier-384 Ultra_F11_T0380F003L01A01Z01C01.tif\n",
      "/data2/varun/HiTIPS_paper_data/fig_5/kpnb1/exp2/AssayPlate_PerkinElmer_CellCarrier-384 Ultra_F11_T0380F004L01A01Z01C01.tif\n",
      "/data2/varun/HiTIPS_paper_data/fig_5/kpnb1/exp2/AssayPlate_PerkinElmer_CellCarrier-384 Ultra_F11_T0380F002L01A01Z01C01.tif\n",
      "/data2/varun/HiTIPS_paper_data/fig_5/kpnb1/exp2/AssayPlate_PerkinElmer_CellCarrier-384 Ultra_F11_T0380F005L01A01Z01C01.tif\n",
      "/data2/varun/HiTIPS_paper_data/fig_5/kpnb1/exp2/AssayPlate_PerkinElmer_CellCarrier-384 Ultra_F11_T0380F009L01A01Z01C01.tif\n",
      "/data2/varun/HiTIPS_paper_data/fig_5/kpnb1/exp2/AssayPlate_PerkinElmer_CellCarrier-384 Ultra_F11_T0380F007L01A01Z01C01.tif\n",
      "/data2/varun/HiTIPS_paper_data/fig_5/kpnb1/exp2/AssayPlate_PerkinElmer_CellCarrier-384 Ultra_F11_T0380F008L01A01Z01C01.tif\n",
      "/data2/varun/HiTIPS_paper_data/fig_5/kpnb1/exp2/AssayPlate_PerkinElmer_CellCarrier-384 Ultra_F11_T0380F006L01A01Z01C01.tif\n",
      "/data2/varun/HiTIPS_paper_data/fig_5/kpnb1/exp2/AssayPlate_PerkinElmer_CellCarrier-384 Ultra_F11_T0381F002L01A01Z01C01.tif\n",
      "/data2/varun/HiTIPS_paper_data/fig_5/kpnb1/exp2/AssayPlate_PerkinElmer_CellCarrier-384 Ultra_F11_T0381F001L01A01Z01C01.tif\n",
      "/data2/varun/HiTIPS_paper_data/fig_5/kpnb1/exp2/AssayPlate_PerkinElmer_CellCarrier-384 Ultra_F11_T0381F004L01A01Z01C01.tif\n",
      "/data2/varun/HiTIPS_paper_data/fig_5/kpnb1/exp2/AssayPlate_PerkinElmer_CellCarrier-384 Ultra_F11_T0381F003L01A01Z01C01.tif\n",
      "/data2/varun/HiTIPS_paper_data/fig_5/kpnb1/exp2/AssayPlate_PerkinElmer_CellCarrier-384 Ultra_F11_T0381F006L01A01Z01C01.tif\n",
      "/data2/varun/HiTIPS_paper_data/fig_5/kpnb1/exp2/AssayPlate_PerkinElmer_CellCarrier-384 Ultra_F11_T0381F008L01A01Z01C01.tif\n",
      "/data2/varun/HiTIPS_paper_data/fig_5/kpnb1/exp2/AssayPlate_PerkinElmer_CellCarrier-384 Ultra_F11_T0381F005L01A01Z01C01.tif\n",
      "/data2/varun/HiTIPS_paper_data/fig_5/kpnb1/exp2/AssayPlate_PerkinElmer_CellCarrier-384 Ultra_F11_T0381F007L01A01Z01C01.tif\n",
      "/data2/varun/HiTIPS_paper_data/fig_5/kpnb1/exp2/AssayPlate_PerkinElmer_CellCarrier-384 Ultra_F11_T0382F002L01A01Z01C01.tif\n",
      "/data2/varun/HiTIPS_paper_data/fig_5/kpnb1/exp2/AssayPlate_PerkinElmer_CellCarrier-384 Ultra_F11_T0382F003L01A01Z01C01.tif\n",
      "/data2/varun/HiTIPS_paper_data/fig_5/kpnb1/exp2/AssayPlate_PerkinElmer_CellCarrier-384 Ultra_F11_T0382F001L01A01Z01C01.tif\n",
      "/data2/varun/HiTIPS_paper_data/fig_5/kpnb1/exp2/AssayPlate_PerkinElmer_CellCarrier-384 Ultra_F11_T0381F009L01A01Z01C01.tif\n",
      "/data2/varun/HiTIPS_paper_data/fig_5/kpnb1/exp2/AssayPlate_PerkinElmer_CellCarrier-384 Ultra_F11_T0382F005L01A01Z01C01.tif\n",
      "/data2/varun/HiTIPS_paper_data/fig_5/kpnb1/exp2/AssayPlate_PerkinElmer_CellCarrier-384 Ultra_F11_T0382F004L01A01Z01C01.tif\n",
      "/data2/varun/HiTIPS_paper_data/fig_5/kpnb1/exp2/AssayPlate_PerkinElmer_CellCarrier-384 Ultra_F11_T0382F006L01A01Z01C01.tif\n",
      "/data2/varun/HiTIPS_paper_data/fig_5/kpnb1/exp2/AssayPlate_PerkinElmer_CellCarrier-384 Ultra_F11_T0382F007L01A01Z01C01.tif\n",
      "/data2/varun/HiTIPS_paper_data/fig_5/kpnb1/exp2/AssayPlate_PerkinElmer_CellCarrier-384 Ultra_F11_T0382F009L01A01Z01C01.tif\n",
      "/data2/varun/HiTIPS_paper_data/fig_5/kpnb1/exp2/AssayPlate_PerkinElmer_CellCarrier-384 Ultra_F11_T0383F002L01A01Z01C01.tif\n",
      "/data2/varun/HiTIPS_paper_data/fig_5/kpnb1/exp2/AssayPlate_PerkinElmer_CellCarrier-384 Ultra_F11_T0383F001L01A01Z01C01.tif\n",
      "/data2/varun/HiTIPS_paper_data/fig_5/kpnb1/exp2/AssayPlate_PerkinElmer_CellCarrier-384 Ultra_F11_T0382F008L01A01Z01C01.tif\n",
      "/data2/varun/HiTIPS_paper_data/fig_5/kpnb1/exp2/AssayPlate_PerkinElmer_CellCarrier-384 Ultra_F11_T0383F004L01A01Z01C01.tif\n",
      "/data2/varun/HiTIPS_paper_data/fig_5/kpnb1/exp2/AssayPlate_PerkinElmer_CellCarrier-384 Ultra_F11_T0383F003L01A01Z01C01.tif\n",
      "/data2/varun/HiTIPS_paper_data/fig_5/kpnb1/exp2/AssayPlate_PerkinElmer_CellCarrier-384 Ultra_F11_T0383F006L01A01Z01C01.tif\n",
      "/data2/varun/HiTIPS_paper_data/fig_5/kpnb1/exp2/AssayPlate_PerkinElmer_CellCarrier-384 Ultra_F11_T0383F005L01A01Z01C01.tif\n",
      "/data2/varun/HiTIPS_paper_data/fig_5/kpnb1/exp2/AssayPlate_PerkinElmer_CellCarrier-384 Ultra_F11_T0383F008L01A01Z01C01.tif\n",
      "/data2/varun/HiTIPS_paper_data/fig_5/kpnb1/exp2/AssayPlate_PerkinElmer_CellCarrier-384 Ultra_F11_T0383F009L01A01Z01C01.tif\n",
      "/data2/varun/HiTIPS_paper_data/fig_5/kpnb1/exp2/AssayPlate_PerkinElmer_CellCarrier-384 Ultra_F11_T0384F001L01A01Z01C01.tif/data2/varun/HiTIPS_paper_data/fig_5/kpnb1/exp2/AssayPlate_PerkinElmer_CellCarrier-384 Ultra_F11_T0383F007L01A01Z01C01.tif\n",
      "\n",
      "/data2/varun/HiTIPS_paper_data/fig_5/kpnb1/exp2/AssayPlate_PerkinElmer_CellCarrier-384 Ultra_F11_T0384F002L01A01Z01C01.tif\n",
      "/data2/varun/HiTIPS_paper_data/fig_5/kpnb1/exp2/AssayPlate_PerkinElmer_CellCarrier-384 Ultra_F11_T0384F003L01A01Z01C01.tif\n",
      "/data2/varun/HiTIPS_paper_data/fig_5/kpnb1/exp2/AssayPlate_PerkinElmer_CellCarrier-384 Ultra_F11_T0384F005L01A01Z01C01.tif\n",
      "/data2/varun/HiTIPS_paper_data/fig_5/kpnb1/exp2/AssayPlate_PerkinElmer_CellCarrier-384 Ultra_F11_T0384F004L01A01Z01C01.tif\n",
      "/data2/varun/HiTIPS_paper_data/fig_5/kpnb1/exp2/AssayPlate_PerkinElmer_CellCarrier-384 Ultra_F11_T0384F007L01A01Z01C01.tif\n",
      "/data2/varun/HiTIPS_paper_data/fig_5/kpnb1/exp2/AssayPlate_PerkinElmer_CellCarrier-384 Ultra_F11_T0384F006L01A01Z01C01.tif\n",
      "/data2/varun/HiTIPS_paper_data/fig_5/kpnb1/exp2/AssayPlate_PerkinElmer_CellCarrier-384 Ultra_F11_T0384F008L01A01Z01C01.tif\n",
      "/data2/varun/HiTIPS_paper_data/fig_5/kpnb1/exp2/AssayPlate_PerkinElmer_CellCarrier-384 Ultra_F11_T0384F009L01A01Z01C01.tif\n",
      "/data2/varun/HiTIPS_paper_data/fig_5/kpnb1/exp2/AssayPlate_PerkinElmer_CellCarrier-384 Ultra_F11_T0385F002L01A01Z01C01.tif\n",
      "/data2/varun/HiTIPS_paper_data/fig_5/kpnb1/exp2/AssayPlate_PerkinElmer_CellCarrier-384 Ultra_F11_T0385F003L01A01Z01C01.tif\n",
      "/data2/varun/HiTIPS_paper_data/fig_5/kpnb1/exp2/AssayPlate_PerkinElmer_CellCarrier-384 Ultra_F11_T0385F004L01A01Z01C01.tif\n",
      "/data2/varun/HiTIPS_paper_data/fig_5/kpnb1/exp2/AssayPlate_PerkinElmer_CellCarrier-384 Ultra_F11_T0385F001L01A01Z01C01.tif\n",
      "/data2/varun/HiTIPS_paper_data/fig_5/kpnb1/exp2/AssayPlate_PerkinElmer_CellCarrier-384 Ultra_F11_T0385F006L01A01Z01C01.tif\n",
      "/data2/varun/HiTIPS_paper_data/fig_5/kpnb1/exp2/AssayPlate_PerkinElmer_CellCarrier-384 Ultra_F11_T0385F008L01A01Z01C01.tif\n",
      "/data2/varun/HiTIPS_paper_data/fig_5/kpnb1/exp2/AssayPlate_PerkinElmer_CellCarrier-384 Ultra_F11_T0385F005L01A01Z01C01.tif\n",
      "/data2/varun/HiTIPS_paper_data/fig_5/kpnb1/exp2/AssayPlate_PerkinElmer_CellCarrier-384 Ultra_F11_T0385F007L01A01Z01C01.tif\n",
      "/data2/varun/HiTIPS_paper_data/fig_5/kpnb1/exp2/AssayPlate_PerkinElmer_CellCarrier-384 Ultra_F11_T0386F003L01A01Z01C01.tif\n",
      "/data2/varun/HiTIPS_paper_data/fig_5/kpnb1/exp2/AssayPlate_PerkinElmer_CellCarrier-384 Ultra_F11_T0385F009L01A01Z01C01.tif\n",
      "/data2/varun/HiTIPS_paper_data/fig_5/kpnb1/exp2/AssayPlate_PerkinElmer_CellCarrier-384 Ultra_F11_T0386F001L01A01Z01C01.tif\n",
      "/data2/varun/HiTIPS_paper_data/fig_5/kpnb1/exp2/AssayPlate_PerkinElmer_CellCarrier-384 Ultra_F11_T0386F002L01A01Z01C01.tif\n",
      "/data2/varun/HiTIPS_paper_data/fig_5/kpnb1/exp2/AssayPlate_PerkinElmer_CellCarrier-384 Ultra_F11_T0386F005L01A01Z01C01.tif\n",
      "/data2/varun/HiTIPS_paper_data/fig_5/kpnb1/exp2/AssayPlate_PerkinElmer_CellCarrier-384 Ultra_F11_T0386F004L01A01Z01C01.tif\n",
      "/data2/varun/HiTIPS_paper_data/fig_5/kpnb1/exp2/AssayPlate_PerkinElmer_CellCarrier-384 Ultra_F11_T0386F006L01A01Z01C01.tif\n",
      "/data2/varun/HiTIPS_paper_data/fig_5/kpnb1/exp2/AssayPlate_PerkinElmer_CellCarrier-384 Ultra_F11_T0386F007L01A01Z01C01.tif\n",
      "/data2/varun/HiTIPS_paper_data/fig_5/kpnb1/exp2/AssayPlate_PerkinElmer_CellCarrier-384 Ultra_F11_T0386F008L01A01Z01C01.tif\n",
      "/data2/varun/HiTIPS_paper_data/fig_5/kpnb1/exp2/AssayPlate_PerkinElmer_CellCarrier-384 Ultra_F11_T0386F009L01A01Z01C01.tif\n",
      "/data2/varun/HiTIPS_paper_data/fig_5/kpnb1/exp2/AssayPlate_PerkinElmer_CellCarrier-384 Ultra_F11_T0387F002L01A01Z01C01.tif\n",
      "/data2/varun/HiTIPS_paper_data/fig_5/kpnb1/exp2/AssayPlate_PerkinElmer_CellCarrier-384 Ultra_F11_T0387F001L01A01Z01C01.tif\n",
      "/data2/varun/HiTIPS_paper_data/fig_5/kpnb1/exp2/AssayPlate_PerkinElmer_CellCarrier-384 Ultra_F11_T0387F004L01A01Z01C01.tif\n",
      "/data2/varun/HiTIPS_paper_data/fig_5/kpnb1/exp2/AssayPlate_PerkinElmer_CellCarrier-384 Ultra_F11_T0387F003L01A01Z01C01.tif\n",
      "/data2/varun/HiTIPS_paper_data/fig_5/kpnb1/exp2/AssayPlate_PerkinElmer_CellCarrier-384 Ultra_F11_T0387F005L01A01Z01C01.tif\n",
      "/data2/varun/HiTIPS_paper_data/fig_5/kpnb1/exp2/AssayPlate_PerkinElmer_CellCarrier-384 Ultra_F11_T0387F006L01A01Z01C01.tif\n",
      "/data2/varun/HiTIPS_paper_data/fig_5/kpnb1/exp2/AssayPlate_PerkinElmer_CellCarrier-384 Ultra_F11_T0387F008L01A01Z01C01.tif\n",
      "/data2/varun/HiTIPS_paper_data/fig_5/kpnb1/exp2/AssayPlate_PerkinElmer_CellCarrier-384 Ultra_F11_T0388F001L01A01Z01C01.tif\n",
      "/data2/varun/HiTIPS_paper_data/fig_5/kpnb1/exp2/AssayPlate_PerkinElmer_CellCarrier-384 Ultra_F11_T0387F009L01A01Z01C01.tif\n",
      "/data2/varun/HiTIPS_paper_data/fig_5/kpnb1/exp2/AssayPlate_PerkinElmer_CellCarrier-384 Ultra_F11_T0387F007L01A01Z01C01.tif\n",
      "/data2/varun/HiTIPS_paper_data/fig_5/kpnb1/exp2/AssayPlate_PerkinElmer_CellCarrier-384 Ultra_F11_T0388F003L01A01Z01C01.tif\n",
      "/data2/varun/HiTIPS_paper_data/fig_5/kpnb1/exp2/AssayPlate_PerkinElmer_CellCarrier-384 Ultra_F11_T0388F005L01A01Z01C01.tif\n",
      "/data2/varun/HiTIPS_paper_data/fig_5/kpnb1/exp2/AssayPlate_PerkinElmer_CellCarrier-384 Ultra_F11_T0388F004L01A01Z01C01.tif\n",
      "/data2/varun/HiTIPS_paper_data/fig_5/kpnb1/exp2/AssayPlate_PerkinElmer_CellCarrier-384 Ultra_F11_T0388F002L01A01Z01C01.tif\n",
      "/data2/varun/HiTIPS_paper_data/fig_5/kpnb1/exp2/AssayPlate_PerkinElmer_CellCarrier-384 Ultra_F11_T0388F007L01A01Z01C01.tif\n",
      "/data2/varun/HiTIPS_paper_data/fig_5/kpnb1/exp2/AssayPlate_PerkinElmer_CellCarrier-384 Ultra_F11_T0388F009L01A01Z01C01.tif\n",
      "/data2/varun/HiTIPS_paper_data/fig_5/kpnb1/exp2/AssayPlate_PerkinElmer_CellCarrier-384 Ultra_F11_T0388F008L01A01Z01C01.tif\n",
      "/data2/varun/HiTIPS_paper_data/fig_5/kpnb1/exp2/AssayPlate_PerkinElmer_CellCarrier-384 Ultra_F11_T0388F006L01A01Z01C01.tif\n",
      "/data2/varun/HiTIPS_paper_data/fig_5/kpnb1/exp2/AssayPlate_PerkinElmer_CellCarrier-384 Ultra_F11_T0389F002L01A01Z01C01.tif\n",
      "/data2/varun/HiTIPS_paper_data/fig_5/kpnb1/exp2/AssayPlate_PerkinElmer_CellCarrier-384 Ultra_F11_T0389F001L01A01Z01C01.tif\n",
      "/data2/varun/HiTIPS_paper_data/fig_5/kpnb1/exp2/AssayPlate_PerkinElmer_CellCarrier-384 Ultra_F11_T0389F003L01A01Z01C01.tif\n",
      "/data2/varun/HiTIPS_paper_data/fig_5/kpnb1/exp2/AssayPlate_PerkinElmer_CellCarrier-384 Ultra_F11_T0389F004L01A01Z01C01.tif\n",
      "/data2/varun/HiTIPS_paper_data/fig_5/kpnb1/exp2/AssayPlate_PerkinElmer_CellCarrier-384 Ultra_F11_T0389F006L01A01Z01C01.tif\n",
      "/data2/varun/HiTIPS_paper_data/fig_5/kpnb1/exp2/AssayPlate_PerkinElmer_CellCarrier-384 Ultra_F11_T0389F008L01A01Z01C01.tif\n",
      "/data2/varun/HiTIPS_paper_data/fig_5/kpnb1/exp2/AssayPlate_PerkinElmer_CellCarrier-384 Ultra_F11_T0389F007L01A01Z01C01.tif\n",
      "/data2/varun/HiTIPS_paper_data/fig_5/kpnb1/exp2/AssayPlate_PerkinElmer_CellCarrier-384 Ultra_F11_T0389F005L01A01Z01C01.tif\n",
      "/data2/varun/HiTIPS_paper_data/fig_5/kpnb1/exp2/AssayPlate_PerkinElmer_CellCarrier-384 Ultra_F11_T0390F001L01A01Z01C01.tif\n",
      "/data2/varun/HiTIPS_paper_data/fig_5/kpnb1/exp2/AssayPlate_PerkinElmer_CellCarrier-384 Ultra_F11_T0390F003L01A01Z01C01.tif\n",
      "/data2/varun/HiTIPS_paper_data/fig_5/kpnb1/exp2/AssayPlate_PerkinElmer_CellCarrier-384 Ultra_F11_T0389F009L01A01Z01C01.tif\n",
      "/data2/varun/HiTIPS_paper_data/fig_5/kpnb1/exp2/AssayPlate_PerkinElmer_CellCarrier-384 Ultra_F11_T0390F002L01A01Z01C01.tif\n",
      "/data2/varun/HiTIPS_paper_data/fig_5/kpnb1/exp2/AssayPlate_PerkinElmer_CellCarrier-384 Ultra_F11_T0390F007L01A01Z01C01.tif\n",
      "/data2/varun/HiTIPS_paper_data/fig_5/kpnb1/exp2/AssayPlate_PerkinElmer_CellCarrier-384 Ultra_F11_T0390F005L01A01Z01C01.tif\n",
      "/data2/varun/HiTIPS_paper_data/fig_5/kpnb1/exp2/AssayPlate_PerkinElmer_CellCarrier-384 Ultra_F11_T0390F004L01A01Z01C01.tif\n",
      "/data2/varun/HiTIPS_paper_data/fig_5/kpnb1/exp2/AssayPlate_PerkinElmer_CellCarrier-384 Ultra_F11_T0390F006L01A01Z01C01.tif\n",
      "/data2/varun/HiTIPS_paper_data/fig_5/kpnb1/exp2/AssayPlate_PerkinElmer_CellCarrier-384 Ultra_F11_T0391F001L01A01Z01C01.tif\n",
      "/data2/varun/HiTIPS_paper_data/fig_5/kpnb1/exp2/AssayPlate_PerkinElmer_CellCarrier-384 Ultra_F11_T0390F009L01A01Z01C01.tif\n",
      "/data2/varun/HiTIPS_paper_data/fig_5/kpnb1/exp2/AssayPlate_PerkinElmer_CellCarrier-384 Ultra_F11_T0391F002L01A01Z01C01.tif\n",
      "/data2/varun/HiTIPS_paper_data/fig_5/kpnb1/exp2/AssayPlate_PerkinElmer_CellCarrier-384 Ultra_F11_T0390F008L01A01Z01C01.tif\n",
      "/data2/varun/HiTIPS_paper_data/fig_5/kpnb1/exp2/AssayPlate_PerkinElmer_CellCarrier-384 Ultra_F11_T0391F004L01A01Z01C01.tif\n",
      "/data2/varun/HiTIPS_paper_data/fig_5/kpnb1/exp2/AssayPlate_PerkinElmer_CellCarrier-384 Ultra_F11_T0391F006L01A01Z01C01.tif\n",
      "/data2/varun/HiTIPS_paper_data/fig_5/kpnb1/exp2/AssayPlate_PerkinElmer_CellCarrier-384 Ultra_F11_T0391F005L01A01Z01C01.tif\n",
      "/data2/varun/HiTIPS_paper_data/fig_5/kpnb1/exp2/AssayPlate_PerkinElmer_CellCarrier-384 Ultra_F11_T0391F003L01A01Z01C01.tif\n",
      "/data2/varun/HiTIPS_paper_data/fig_5/kpnb1/exp2/AssayPlate_PerkinElmer_CellCarrier-384 Ultra_F11_T0391F008L01A01Z01C01.tif\n",
      "/data2/varun/HiTIPS_paper_data/fig_5/kpnb1/exp2/AssayPlate_PerkinElmer_CellCarrier-384 Ultra_F11_T0392F001L01A01Z01C01.tif\n",
      "/data2/varun/HiTIPS_paper_data/fig_5/kpnb1/exp2/AssayPlate_PerkinElmer_CellCarrier-384 Ultra_F11_T0391F007L01A01Z01C01.tif\n",
      "/data2/varun/HiTIPS_paper_data/fig_5/kpnb1/exp2/AssayPlate_PerkinElmer_CellCarrier-384 Ultra_F11_T0391F009L01A01Z01C01.tif\n",
      "/data2/varun/HiTIPS_paper_data/fig_5/kpnb1/exp2/AssayPlate_PerkinElmer_CellCarrier-384 Ultra_F11_T0392F003L01A01Z01C01.tif\n",
      "/data2/varun/HiTIPS_paper_data/fig_5/kpnb1/exp2/AssayPlate_PerkinElmer_CellCarrier-384 Ultra_F11_T0392F004L01A01Z01C01.tif\n",
      "/data2/varun/HiTIPS_paper_data/fig_5/kpnb1/exp2/AssayPlate_PerkinElmer_CellCarrier-384 Ultra_F11_T0392F002L01A01Z01C01.tif\n",
      "/data2/varun/HiTIPS_paper_data/fig_5/kpnb1/exp2/AssayPlate_PerkinElmer_CellCarrier-384 Ultra_F11_T0392F005L01A01Z01C01.tif\n",
      "/data2/varun/HiTIPS_paper_data/fig_5/kpnb1/exp2/AssayPlate_PerkinElmer_CellCarrier-384 Ultra_F11_T0392F009L01A01Z01C01.tif\n",
      "/data2/varun/HiTIPS_paper_data/fig_5/kpnb1/exp2/AssayPlate_PerkinElmer_CellCarrier-384 Ultra_F11_T0392F007L01A01Z01C01.tif\n",
      "/data2/varun/HiTIPS_paper_data/fig_5/kpnb1/exp2/AssayPlate_PerkinElmer_CellCarrier-384 Ultra_F11_T0392F006L01A01Z01C01.tif\n",
      "/data2/varun/HiTIPS_paper_data/fig_5/kpnb1/exp2/AssayPlate_PerkinElmer_CellCarrier-384 Ultra_F11_T0392F008L01A01Z01C01.tif\n",
      "/data2/varun/HiTIPS_paper_data/fig_5/kpnb1/exp2/AssayPlate_PerkinElmer_CellCarrier-384 Ultra_F11_T0393F002L01A01Z01C01.tif\n",
      "/data2/varun/HiTIPS_paper_data/fig_5/kpnb1/exp2/AssayPlate_PerkinElmer_CellCarrier-384 Ultra_F11_T0393F004L01A01Z01C01.tif\n",
      "/data2/varun/HiTIPS_paper_data/fig_5/kpnb1/exp2/AssayPlate_PerkinElmer_CellCarrier-384 Ultra_F11_T0393F003L01A01Z01C01.tif\n",
      "/data2/varun/HiTIPS_paper_data/fig_5/kpnb1/exp2/AssayPlate_PerkinElmer_CellCarrier-384 Ultra_F11_T0393F001L01A01Z01C01.tif\n",
      "/data2/varun/HiTIPS_paper_data/fig_5/kpnb1/exp2/AssayPlate_PerkinElmer_CellCarrier-384 Ultra_F11_T0393F006L01A01Z01C01.tif\n",
      "/data2/varun/HiTIPS_paper_data/fig_5/kpnb1/exp2/AssayPlate_PerkinElmer_CellCarrier-384 Ultra_F11_T0393F008L01A01Z01C01.tif\n",
      "/data2/varun/HiTIPS_paper_data/fig_5/kpnb1/exp2/AssayPlate_PerkinElmer_CellCarrier-384 Ultra_F11_T0393F005L01A01Z01C01.tif\n",
      "/data2/varun/HiTIPS_paper_data/fig_5/kpnb1/exp2/AssayPlate_PerkinElmer_CellCarrier-384 Ultra_F11_T0393F007L01A01Z01C01.tif\n",
      "/data2/varun/HiTIPS_paper_data/fig_5/kpnb1/exp2/AssayPlate_PerkinElmer_CellCarrier-384 Ultra_F11_T0394F001L01A01Z01C01.tif\n",
      "/data2/varun/HiTIPS_paper_data/fig_5/kpnb1/exp2/AssayPlate_PerkinElmer_CellCarrier-384 Ultra_F11_T0393F009L01A01Z01C01.tif\n",
      "/data2/varun/HiTIPS_paper_data/fig_5/kpnb1/exp2/AssayPlate_PerkinElmer_CellCarrier-384 Ultra_F11_T0394F002L01A01Z01C01.tif\n",
      "/data2/varun/HiTIPS_paper_data/fig_5/kpnb1/exp2/AssayPlate_PerkinElmer_CellCarrier-384 Ultra_F11_T0394F003L01A01Z01C01.tif\n",
      "/data2/varun/HiTIPS_paper_data/fig_5/kpnb1/exp2/AssayPlate_PerkinElmer_CellCarrier-384 Ultra_F11_T0394F005L01A01Z01C01.tif\n",
      "/data2/varun/HiTIPS_paper_data/fig_5/kpnb1/exp2/AssayPlate_PerkinElmer_CellCarrier-384 Ultra_F11_T0394F004L01A01Z01C01.tif\n",
      "/data2/varun/HiTIPS_paper_data/fig_5/kpnb1/exp2/AssayPlate_PerkinElmer_CellCarrier-384 Ultra_F11_T0394F006L01A01Z01C01.tif\n",
      "/data2/varun/HiTIPS_paper_data/fig_5/kpnb1/exp2/AssayPlate_PerkinElmer_CellCarrier-384 Ultra_F11_T0394F007L01A01Z01C01.tif\n",
      "/data2/varun/HiTIPS_paper_data/fig_5/kpnb1/exp2/AssayPlate_PerkinElmer_CellCarrier-384 Ultra_F11_T0394F008L01A01Z01C01.tif\n",
      "/data2/varun/HiTIPS_paper_data/fig_5/kpnb1/exp2/AssayPlate_PerkinElmer_CellCarrier-384 Ultra_F11_T0394F009L01A01Z01C01.tif\n",
      "/data2/varun/HiTIPS_paper_data/fig_5/kpnb1/exp2/AssayPlate_PerkinElmer_CellCarrier-384 Ultra_F11_T0395F001L01A01Z01C01.tif\n",
      "/data2/varun/HiTIPS_paper_data/fig_5/kpnb1/exp2/AssayPlate_PerkinElmer_CellCarrier-384 Ultra_F11_T0395F002L01A01Z01C01.tif\n",
      "/data2/varun/HiTIPS_paper_data/fig_5/kpnb1/exp2/AssayPlate_PerkinElmer_CellCarrier-384 Ultra_F11_T0395F004L01A01Z01C01.tif\n",
      "/data2/varun/HiTIPS_paper_data/fig_5/kpnb1/exp2/AssayPlate_PerkinElmer_CellCarrier-384 Ultra_F11_T0395F003L01A01Z01C01.tif\n",
      "/data2/varun/HiTIPS_paper_data/fig_5/kpnb1/exp2/AssayPlate_PerkinElmer_CellCarrier-384 Ultra_F11_T0395F005L01A01Z01C01.tif\n",
      "/data2/varun/HiTIPS_paper_data/fig_5/kpnb1/exp2/AssayPlate_PerkinElmer_CellCarrier-384 Ultra_F11_T0395F006L01A01Z01C01.tif\n",
      "/data2/varun/HiTIPS_paper_data/fig_5/kpnb1/exp2/AssayPlate_PerkinElmer_CellCarrier-384 Ultra_F11_T0395F008L01A01Z01C01.tif\n",
      "/data2/varun/HiTIPS_paper_data/fig_5/kpnb1/exp2/AssayPlate_PerkinElmer_CellCarrier-384 Ultra_F11_T0395F007L01A01Z01C01.tif\n",
      "/data2/varun/HiTIPS_paper_data/fig_5/kpnb1/exp2/AssayPlate_PerkinElmer_CellCarrier-384 Ultra_F11_T0396F001L01A01Z01C01.tif\n",
      "/data2/varun/HiTIPS_paper_data/fig_5/kpnb1/exp2/AssayPlate_PerkinElmer_CellCarrier-384 Ultra_F11_T0395F009L01A01Z01C01.tif\n",
      "/data2/varun/HiTIPS_paper_data/fig_5/kpnb1/exp2/AssayPlate_PerkinElmer_CellCarrier-384 Ultra_F11_T0396F002L01A01Z01C01.tif\n",
      "/data2/varun/HiTIPS_paper_data/fig_5/kpnb1/exp2/AssayPlate_PerkinElmer_CellCarrier-384 Ultra_F11_T0396F005L01A01Z01C01.tif\n",
      "/data2/varun/HiTIPS_paper_data/fig_5/kpnb1/exp2/AssayPlate_PerkinElmer_CellCarrier-384 Ultra_F11_T0396F004L01A01Z01C01.tif\n",
      "/data2/varun/HiTIPS_paper_data/fig_5/kpnb1/exp2/AssayPlate_PerkinElmer_CellCarrier-384 Ultra_F11_T0396F003L01A01Z01C01.tif\n",
      "/data2/varun/HiTIPS_paper_data/fig_5/kpnb1/exp2/AssayPlate_PerkinElmer_CellCarrier-384 Ultra_F11_T0396F007L01A01Z01C01.tif\n",
      "/data2/varun/HiTIPS_paper_data/fig_5/kpnb1/exp2/AssayPlate_PerkinElmer_CellCarrier-384 Ultra_F11_T0396F009L01A01Z01C01.tif\n",
      "/data2/varun/HiTIPS_paper_data/fig_5/kpnb1/exp2/AssayPlate_PerkinElmer_CellCarrier-384 Ultra_F11_T0396F008L01A01Z01C01.tif\n",
      "/data2/varun/HiTIPS_paper_data/fig_5/kpnb1/exp2/AssayPlate_PerkinElmer_CellCarrier-384 Ultra_F11_T0396F006L01A01Z01C01.tif\n",
      "/data2/varun/HiTIPS_paper_data/fig_5/kpnb1/exp2/AssayPlate_PerkinElmer_CellCarrier-384 Ultra_F11_T0397F002L01A01Z01C01.tif\n",
      "/data2/varun/HiTIPS_paper_data/fig_5/kpnb1/exp2/AssayPlate_PerkinElmer_CellCarrier-384 Ultra_F11_T0397F001L01A01Z01C01.tif\n",
      "/data2/varun/HiTIPS_paper_data/fig_5/kpnb1/exp2/AssayPlate_PerkinElmer_CellCarrier-384 Ultra_F11_T0397F003L01A01Z01C01.tif\n",
      "/data2/varun/HiTIPS_paper_data/fig_5/kpnb1/exp2/AssayPlate_PerkinElmer_CellCarrier-384 Ultra_F11_T0397F004L01A01Z01C01.tif\n",
      "/data2/varun/HiTIPS_paper_data/fig_5/kpnb1/exp2/AssayPlate_PerkinElmer_CellCarrier-384 Ultra_F11_T0397F006L01A01Z01C01.tif\n",
      "/data2/varun/HiTIPS_paper_data/fig_5/kpnb1/exp2/AssayPlate_PerkinElmer_CellCarrier-384 Ultra_F11_T0397F007L01A01Z01C01.tif\n",
      "/data2/varun/HiTIPS_paper_data/fig_5/kpnb1/exp2/AssayPlate_PerkinElmer_CellCarrier-384 Ultra_F11_T0397F008L01A01Z01C01.tif\n",
      "/data2/varun/HiTIPS_paper_data/fig_5/kpnb1/exp2/AssayPlate_PerkinElmer_CellCarrier-384 Ultra_F11_T0397F005L01A01Z01C01.tif\n",
      "/data2/varun/HiTIPS_paper_data/fig_5/kpnb1/exp2/AssayPlate_PerkinElmer_CellCarrier-384 Ultra_F11_T0398F001L01A01Z01C01.tif\n",
      "/data2/varun/HiTIPS_paper_data/fig_5/kpnb1/exp2/AssayPlate_PerkinElmer_CellCarrier-384 Ultra_F11_T0398F002L01A01Z01C01.tif\n",
      "/data2/varun/HiTIPS_paper_data/fig_5/kpnb1/exp2/AssayPlate_PerkinElmer_CellCarrier-384 Ultra_F11_T0398F003L01A01Z01C01.tif\n",
      "/data2/varun/HiTIPS_paper_data/fig_5/kpnb1/exp2/AssayPlate_PerkinElmer_CellCarrier-384 Ultra_F11_T0397F009L01A01Z01C01.tif\n",
      "/data2/varun/HiTIPS_paper_data/fig_5/kpnb1/exp2/AssayPlate_PerkinElmer_CellCarrier-384 Ultra_F11_T0398F005L01A01Z01C01.tif\n",
      "/data2/varun/HiTIPS_paper_data/fig_5/kpnb1/exp2/AssayPlate_PerkinElmer_CellCarrier-384 Ultra_F11_T0398F004L01A01Z01C01.tif\n",
      "/data2/varun/HiTIPS_paper_data/fig_5/kpnb1/exp2/AssayPlate_PerkinElmer_CellCarrier-384 Ultra_F11_T0398F006L01A01Z01C01.tif\n",
      "/data2/varun/HiTIPS_paper_data/fig_5/kpnb1/exp2/AssayPlate_PerkinElmer_CellCarrier-384 Ultra_F11_T0398F007L01A01Z01C01.tif\n",
      "/data2/varun/HiTIPS_paper_data/fig_5/kpnb1/exp2/AssayPlate_PerkinElmer_CellCarrier-384 Ultra_F11_T0398F008L01A01Z01C01.tif\n",
      "/data2/varun/HiTIPS_paper_data/fig_5/kpnb1/exp2/AssayPlate_PerkinElmer_CellCarrier-384 Ultra_F11_T0398F009L01A01Z01C01.tif\n",
      "/data2/varun/HiTIPS_paper_data/fig_5/kpnb1/exp2/AssayPlate_PerkinElmer_CellCarrier-384 Ultra_F11_T0399F001L01A01Z01C01.tif\n",
      "/data2/varun/HiTIPS_paper_data/fig_5/kpnb1/exp2/AssayPlate_PerkinElmer_CellCarrier-384 Ultra_F11_T0399F002L01A01Z01C01.tif\n",
      "/data2/varun/HiTIPS_paper_data/fig_5/kpnb1/exp2/AssayPlate_PerkinElmer_CellCarrier-384 Ultra_F11_T0399F004L01A01Z01C01.tif\n",
      "/data2/varun/HiTIPS_paper_data/fig_5/kpnb1/exp2/AssayPlate_PerkinElmer_CellCarrier-384 Ultra_F11_T0399F003L01A01Z01C01.tif\n",
      "/data2/varun/HiTIPS_paper_data/fig_5/kpnb1/exp2/AssayPlate_PerkinElmer_CellCarrier-384 Ultra_F11_T0399F005L01A01Z01C01.tif\n",
      "/data2/varun/HiTIPS_paper_data/fig_5/kpnb1/exp2/AssayPlate_PerkinElmer_CellCarrier-384 Ultra_F11_T0399F006L01A01Z01C01.tif\n",
      "/data2/varun/HiTIPS_paper_data/fig_5/kpnb1/exp2/AssayPlate_PerkinElmer_CellCarrier-384 Ultra_F11_T0399F008L01A01Z01C01.tif\n",
      "/data2/varun/HiTIPS_paper_data/fig_5/kpnb1/exp2/AssayPlate_PerkinElmer_CellCarrier-384 Ultra_F11_T0399F007L01A01Z01C01.tif\n",
      "/data2/varun/HiTIPS_paper_data/fig_5/kpnb1/exp2/AssayPlate_PerkinElmer_CellCarrier-384 Ultra_F11_T0400F001L01A01Z01C01.tif\n",
      "/data2/varun/HiTIPS_paper_data/fig_5/kpnb1/exp2/AssayPlate_PerkinElmer_CellCarrier-384 Ultra_F11_T0399F009L01A01Z01C01.tif\n",
      "/data2/varun/HiTIPS_paper_data/fig_5/kpnb1/exp2/AssayPlate_PerkinElmer_CellCarrier-384 Ultra_F11_T0400F003L01A01Z01C01.tif\n",
      "/data2/varun/HiTIPS_paper_data/fig_5/kpnb1/exp2/AssayPlate_PerkinElmer_CellCarrier-384 Ultra_F11_T0400F002L01A01Z01C01.tif\n",
      "/data2/varun/HiTIPS_paper_data/fig_5/kpnb1/exp2/AssayPlate_PerkinElmer_CellCarrier-384 Ultra_F11_T0400F005L01A01Z01C01.tif\n",
      "/data2/varun/HiTIPS_paper_data/fig_5/kpnb1/exp2/AssayPlate_PerkinElmer_CellCarrier-384 Ultra_F11_T0400F004L01A01Z01C01.tif\n",
      "/data2/varun/HiTIPS_paper_data/fig_5/kpnb1/exp2/AssayPlate_PerkinElmer_CellCarrier-384 Ultra_F11_T0400F009L01A01Z01C01.tif\n",
      "/data2/varun/HiTIPS_paper_data/fig_5/kpnb1/exp2/AssayPlate_PerkinElmer_CellCarrier-384 Ultra_F11_T0400F006L01A01Z01C01.tif\n",
      "/data2/varun/HiTIPS_paper_data/fig_5/kpnb1/exp2/AssayPlate_PerkinElmer_CellCarrier-384 Ultra_F11_T0400F008L01A01Z01C01.tif\n",
      "/data2/varun/HiTIPS_paper_data/fig_5/kpnb1/exp2/AssayPlate_PerkinElmer_CellCarrier-384 Ultra_F11_T0400F007L01A01Z01C01.tif\n",
      "/data2/varun/HiTIPS_paper_data/fig_5/kpnb1/exp2/AssayPlate_PerkinElmer_CellCarrier-384 Ultra_F11_T0401F004L01A01Z01C01.tif\n",
      "/data2/varun/HiTIPS_paper_data/fig_5/kpnb1/exp2/AssayPlate_PerkinElmer_CellCarrier-384 Ultra_F11_T0401F001L01A01Z01C01.tif\n",
      "/data2/varun/HiTIPS_paper_data/fig_5/kpnb1/exp2/AssayPlate_PerkinElmer_CellCarrier-384 Ultra_F11_T0401F003L01A01Z01C01.tif/data2/varun/HiTIPS_paper_data/fig_5/kpnb1/exp2/AssayPlate_PerkinElmer_CellCarrier-384 Ultra_F11_T0401F002L01A01Z01C01.tif\n",
      "\n",
      "/data2/varun/HiTIPS_paper_data/fig_5/kpnb1/exp2/AssayPlate_PerkinElmer_CellCarrier-384 Ultra_F11_T0401F006L01A01Z01C01.tif\n",
      "/data2/varun/HiTIPS_paper_data/fig_5/kpnb1/exp2/AssayPlate_PerkinElmer_CellCarrier-384 Ultra_F11_T0401F008L01A01Z01C01.tif\n",
      "/data2/varun/HiTIPS_paper_data/fig_5/kpnb1/exp2/AssayPlate_PerkinElmer_CellCarrier-384 Ultra_F11_T0401F005L01A01Z01C01.tif\n",
      "/data2/varun/HiTIPS_paper_data/fig_5/kpnb1/exp2/AssayPlate_PerkinElmer_CellCarrier-384 Ultra_F11_T0401F007L01A01Z01C01.tif\n",
      "/data2/varun/HiTIPS_paper_data/fig_5/kpnb1/exp2/AssayPlate_PerkinElmer_CellCarrier-384 Ultra_F11_T0402F001L01A01Z01C01.tif\n",
      "/data2/varun/HiTIPS_paper_data/fig_5/kpnb1/exp2/AssayPlate_PerkinElmer_CellCarrier-384 Ultra_F11_T0402F002L01A01Z01C01.tif\n",
      "/data2/varun/HiTIPS_paper_data/fig_5/kpnb1/exp2/AssayPlate_PerkinElmer_CellCarrier-384 Ultra_F11_T0402F003L01A01Z01C01.tif\n",
      "/data2/varun/HiTIPS_paper_data/fig_5/kpnb1/exp2/AssayPlate_PerkinElmer_CellCarrier-384 Ultra_F11_T0401F009L01A01Z01C01.tif\n",
      "/data2/varun/HiTIPS_paper_data/fig_5/kpnb1/exp2/AssayPlate_PerkinElmer_CellCarrier-384 Ultra_F11_T0402F006L01A01Z01C01.tif\n",
      "/data2/varun/HiTIPS_paper_data/fig_5/kpnb1/exp2/AssayPlate_PerkinElmer_CellCarrier-384 Ultra_F11_T0402F007L01A01Z01C01.tif\n",
      "/data2/varun/HiTIPS_paper_data/fig_5/kpnb1/exp2/AssayPlate_PerkinElmer_CellCarrier-384 Ultra_F11_T0402F005L01A01Z01C01.tif\n",
      "/data2/varun/HiTIPS_paper_data/fig_5/kpnb1/exp2/AssayPlate_PerkinElmer_CellCarrier-384 Ultra_F11_T0402F004L01A01Z01C01.tif\n",
      "/data2/varun/HiTIPS_paper_data/fig_5/kpnb1/exp2/AssayPlate_PerkinElmer_CellCarrier-384 Ultra_F11_T0402F009L01A01Z01C01.tif\n",
      "/data2/varun/HiTIPS_paper_data/fig_5/kpnb1/exp2/AssayPlate_PerkinElmer_CellCarrier-384 Ultra_F11_T0402F008L01A01Z01C01.tif/data2/varun/HiTIPS_paper_data/fig_5/kpnb1/exp2/AssayPlate_PerkinElmer_CellCarrier-384 Ultra_F11_T0403F002L01A01Z01C01.tif\n",
      "\n",
      "/data2/varun/HiTIPS_paper_data/fig_5/kpnb1/exp2/AssayPlate_PerkinElmer_CellCarrier-384 Ultra_F11_T0403F001L01A01Z01C01.tif\n",
      "/data2/varun/HiTIPS_paper_data/fig_5/kpnb1/exp2/AssayPlate_PerkinElmer_CellCarrier-384 Ultra_F11_T0403F003L01A01Z01C01.tif\n",
      "/data2/varun/HiTIPS_paper_data/fig_5/kpnb1/exp2/AssayPlate_PerkinElmer_CellCarrier-384 Ultra_F11_T0403F005L01A01Z01C01.tif\n",
      "/data2/varun/HiTIPS_paper_data/fig_5/kpnb1/exp2/AssayPlate_PerkinElmer_CellCarrier-384 Ultra_F11_T0403F006L01A01Z01C01.tif\n",
      "/data2/varun/HiTIPS_paper_data/fig_5/kpnb1/exp2/AssayPlate_PerkinElmer_CellCarrier-384 Ultra_F11_T0403F004L01A01Z01C01.tif\n",
      "/data2/varun/HiTIPS_paper_data/fig_5/kpnb1/exp2/AssayPlate_PerkinElmer_CellCarrier-384 Ultra_F11_T0403F008L01A01Z01C01.tif\n",
      "/data2/varun/HiTIPS_paper_data/fig_5/kpnb1/exp2/AssayPlate_PerkinElmer_CellCarrier-384 Ultra_F11_T0403F007L01A01Z01C01.tif\n",
      "/data2/varun/HiTIPS_paper_data/fig_5/kpnb1/exp2/AssayPlate_PerkinElmer_CellCarrier-384 Ultra_F11_T0403F009L01A01Z01C01.tif\n",
      "/data2/varun/HiTIPS_paper_data/fig_5/kpnb1/exp2/AssayPlate_PerkinElmer_CellCarrier-384 Ultra_F11_T0404F001L01A01Z01C01.tif\n",
      "/data2/varun/HiTIPS_paper_data/fig_5/kpnb1/exp2/AssayPlate_PerkinElmer_CellCarrier-384 Ultra_F11_T0404F003L01A01Z01C01.tif\n",
      "/data2/varun/HiTIPS_paper_data/fig_5/kpnb1/exp2/AssayPlate_PerkinElmer_CellCarrier-384 Ultra_F11_T0404F002L01A01Z01C01.tif\n",
      "/data2/varun/HiTIPS_paper_data/fig_5/kpnb1/exp2/AssayPlate_PerkinElmer_CellCarrier-384 Ultra_F11_T0404F004L01A01Z01C01.tif\n",
      "/data2/varun/HiTIPS_paper_data/fig_5/kpnb1/exp2/AssayPlate_PerkinElmer_CellCarrier-384 Ultra_F11_T0404F005L01A01Z01C01.tif\n",
      "/data2/varun/HiTIPS_paper_data/fig_5/kpnb1/exp2/AssayPlate_PerkinElmer_CellCarrier-384 Ultra_F11_T0404F007L01A01Z01C01.tif\n",
      "/data2/varun/HiTIPS_paper_data/fig_5/kpnb1/exp2/AssayPlate_PerkinElmer_CellCarrier-384 Ultra_F11_T0404F006L01A01Z01C01.tif\n",
      "/data2/varun/HiTIPS_paper_data/fig_5/kpnb1/exp2/AssayPlate_PerkinElmer_CellCarrier-384 Ultra_F11_T0404F008L01A01Z01C01.tif\n",
      "/data2/varun/HiTIPS_paper_data/fig_5/kpnb1/exp2/AssayPlate_PerkinElmer_CellCarrier-384 Ultra_F11_T0404F009L01A01Z01C01.tif\n",
      "/data2/varun/HiTIPS_paper_data/fig_5/kpnb1/exp2/AssayPlate_PerkinElmer_CellCarrier-384 Ultra_F11_T0405F003L01A01Z01C01.tif\n",
      "/data2/varun/HiTIPS_paper_data/fig_5/kpnb1/exp2/AssayPlate_PerkinElmer_CellCarrier-384 Ultra_F11_T0405F004L01A01Z01C01.tif\n",
      "/data2/varun/HiTIPS_paper_data/fig_5/kpnb1/exp2/AssayPlate_PerkinElmer_CellCarrier-384 Ultra_F11_T0405F001L01A01Z01C01.tif\n",
      "/data2/varun/HiTIPS_paper_data/fig_5/kpnb1/exp2/AssayPlate_PerkinElmer_CellCarrier-384 Ultra_F11_T0405F002L01A01Z01C01.tif\n",
      "/data2/varun/HiTIPS_paper_data/fig_5/kpnb1/exp2/AssayPlate_PerkinElmer_CellCarrier-384 Ultra_F11_T0405F006L01A01Z01C01.tif\n",
      "/data2/varun/HiTIPS_paper_data/fig_5/kpnb1/exp2/AssayPlate_PerkinElmer_CellCarrier-384 Ultra_F11_T0405F005L01A01Z01C01.tif\n",
      "/data2/varun/HiTIPS_paper_data/fig_5/kpnb1/exp2/AssayPlate_PerkinElmer_CellCarrier-384 Ultra_F11_T0405F008L01A01Z01C01.tif\n",
      "/data2/varun/HiTIPS_paper_data/fig_5/kpnb1/exp2/AssayPlate_PerkinElmer_CellCarrier-384 Ultra_F11_T0405F007L01A01Z01C01.tif\n",
      "/data2/varun/HiTIPS_paper_data/fig_5/kpnb1/exp2/AssayPlate_PerkinElmer_CellCarrier-384 Ultra_F11_T0406F003L01A01Z01C01.tif/data2/varun/HiTIPS_paper_data/fig_5/kpnb1/exp2/AssayPlate_PerkinElmer_CellCarrier-384 Ultra_F11_T0406F001L01A01Z01C01.tif\n",
      "\n",
      "/data2/varun/HiTIPS_paper_data/fig_5/kpnb1/exp2/AssayPlate_PerkinElmer_CellCarrier-384 Ultra_F11_T0406F002L01A01Z01C01.tif\n",
      "/data2/varun/HiTIPS_paper_data/fig_5/kpnb1/exp2/AssayPlate_PerkinElmer_CellCarrier-384 Ultra_F11_T0405F009L01A01Z01C01.tif\n",
      "/data2/varun/HiTIPS_paper_data/fig_5/kpnb1/exp2/AssayPlate_PerkinElmer_CellCarrier-384 Ultra_F11_T0406F004L01A01Z01C01.tif\n",
      "/data2/varun/HiTIPS_paper_data/fig_5/kpnb1/exp2/AssayPlate_PerkinElmer_CellCarrier-384 Ultra_F11_T0406F005L01A01Z01C01.tif\n",
      "/data2/varun/HiTIPS_paper_data/fig_5/kpnb1/exp2/AssayPlate_PerkinElmer_CellCarrier-384 Ultra_F11_T0406F007L01A01Z01C01.tif\n",
      "/data2/varun/HiTIPS_paper_data/fig_5/kpnb1/exp2/AssayPlate_PerkinElmer_CellCarrier-384 Ultra_F11_T0406F006L01A01Z01C01.tif\n",
      "/data2/varun/HiTIPS_paper_data/fig_5/kpnb1/exp2/AssayPlate_PerkinElmer_CellCarrier-384 Ultra_F11_T0406F009L01A01Z01C01.tif\n",
      "/data2/varun/HiTIPS_paper_data/fig_5/kpnb1/exp2/AssayPlate_PerkinElmer_CellCarrier-384 Ultra_F11_T0407F001L01A01Z01C01.tif\n",
      "/data2/varun/HiTIPS_paper_data/fig_5/kpnb1/exp2/AssayPlate_PerkinElmer_CellCarrier-384 Ultra_F11_T0407F002L01A01Z01C01.tif\n",
      "/data2/varun/HiTIPS_paper_data/fig_5/kpnb1/exp2/AssayPlate_PerkinElmer_CellCarrier-384 Ultra_F11_T0406F008L01A01Z01C01.tif\n",
      "/data2/varun/HiTIPS_paper_data/fig_5/kpnb1/exp2/AssayPlate_PerkinElmer_CellCarrier-384 Ultra_F11_T0407F004L01A01Z01C01.tif\n",
      "/data2/varun/HiTIPS_paper_data/fig_5/kpnb1/exp2/AssayPlate_PerkinElmer_CellCarrier-384 Ultra_F11_T0407F003L01A01Z01C01.tif\n",
      "/data2/varun/HiTIPS_paper_data/fig_5/kpnb1/exp2/AssayPlate_PerkinElmer_CellCarrier-384 Ultra_F11_T0407F005L01A01Z01C01.tif\n",
      "/data2/varun/HiTIPS_paper_data/fig_5/kpnb1/exp2/AssayPlate_PerkinElmer_CellCarrier-384 Ultra_F11_T0407F006L01A01Z01C01.tif\n",
      "/data2/varun/HiTIPS_paper_data/fig_5/kpnb1/exp2/AssayPlate_PerkinElmer_CellCarrier-384 Ultra_F11_T0407F008L01A01Z01C01.tif\n",
      "/data2/varun/HiTIPS_paper_data/fig_5/kpnb1/exp2/AssayPlate_PerkinElmer_CellCarrier-384 Ultra_F11_T0408F001L01A01Z01C01.tif\n",
      "/data2/varun/HiTIPS_paper_data/fig_5/kpnb1/exp2/AssayPlate_PerkinElmer_CellCarrier-384 Ultra_F11_T0407F007L01A01Z01C01.tif\n",
      "/data2/varun/HiTIPS_paper_data/fig_5/kpnb1/exp2/AssayPlate_PerkinElmer_CellCarrier-384 Ultra_F11_T0407F009L01A01Z01C01.tif\n",
      "/data2/varun/HiTIPS_paper_data/fig_5/kpnb1/exp2/AssayPlate_PerkinElmer_CellCarrier-384 Ultra_F11_T0408F003L01A01Z01C01.tif\n",
      "/data2/varun/HiTIPS_paper_data/fig_5/kpnb1/exp2/AssayPlate_PerkinElmer_CellCarrier-384 Ultra_F11_T0408F005L01A01Z01C01.tif\n",
      "/data2/varun/HiTIPS_paper_data/fig_5/kpnb1/exp2/AssayPlate_PerkinElmer_CellCarrier-384 Ultra_F11_T0408F002L01A01Z01C01.tif\n",
      "/data2/varun/HiTIPS_paper_data/fig_5/kpnb1/exp2/AssayPlate_PerkinElmer_CellCarrier-384 Ultra_F11_T0408F004L01A01Z01C01.tif\n",
      "/data2/varun/HiTIPS_paper_data/fig_5/kpnb1/exp2/AssayPlate_PerkinElmer_CellCarrier-384 Ultra_F11_T0408F007L01A01Z01C01.tif\n",
      "/data2/varun/HiTIPS_paper_data/fig_5/kpnb1/exp2/AssayPlate_PerkinElmer_CellCarrier-384 Ultra_F11_T0408F008L01A01Z01C01.tif\n",
      "/data2/varun/HiTIPS_paper_data/fig_5/kpnb1/exp2/AssayPlate_PerkinElmer_CellCarrier-384 Ultra_F11_T0408F009L01A01Z01C01.tif\n",
      "/data2/varun/HiTIPS_paper_data/fig_5/kpnb1/exp2/AssayPlate_PerkinElmer_CellCarrier-384 Ultra_F11_T0408F006L01A01Z01C01.tif\n",
      "/data2/varun/HiTIPS_paper_data/fig_5/kpnb1/exp2/AssayPlate_PerkinElmer_CellCarrier-384 Ultra_F11_T0409F002L01A01Z01C01.tif\n",
      "/data2/varun/HiTIPS_paper_data/fig_5/kpnb1/exp2/AssayPlate_PerkinElmer_CellCarrier-384 Ultra_F11_T0409F004L01A01Z01C01.tif\n",
      "/data2/varun/HiTIPS_paper_data/fig_5/kpnb1/exp2/AssayPlate_PerkinElmer_CellCarrier-384 Ultra_F11_T0409F001L01A01Z01C01.tif\n",
      "/data2/varun/HiTIPS_paper_data/fig_5/kpnb1/exp2/AssayPlate_PerkinElmer_CellCarrier-384 Ultra_F11_T0409F003L01A01Z01C01.tif\n",
      "/data2/varun/HiTIPS_paper_data/fig_5/kpnb1/exp2/AssayPlate_PerkinElmer_CellCarrier-384 Ultra_F11_T0409F006L01A01Z01C01.tif\n",
      "/data2/varun/HiTIPS_paper_data/fig_5/kpnb1/exp2/AssayPlate_PerkinElmer_CellCarrier-384 Ultra_F11_T0409F007L01A01Z01C01.tif\n",
      "/data2/varun/HiTIPS_paper_data/fig_5/kpnb1/exp2/AssayPlate_PerkinElmer_CellCarrier-384 Ultra_F11_T0409F005L01A01Z01C01.tif\n",
      "/data2/varun/HiTIPS_paper_data/fig_5/kpnb1/exp2/AssayPlate_PerkinElmer_CellCarrier-384 Ultra_F11_T0409F008L01A01Z01C01.tif\n",
      "/data2/varun/HiTIPS_paper_data/fig_5/kpnb1/exp2/AssayPlate_PerkinElmer_CellCarrier-384 Ultra_F11_T0410F001L01A01Z01C01.tif\n",
      "/data2/varun/HiTIPS_paper_data/fig_5/kpnb1/exp2/AssayPlate_PerkinElmer_CellCarrier-384 Ultra_F11_T0410F003L01A01Z01C01.tif\n",
      "/data2/varun/HiTIPS_paper_data/fig_5/kpnb1/exp2/AssayPlate_PerkinElmer_CellCarrier-384 Ultra_F11_T0409F009L01A01Z01C01.tif\n",
      "/data2/varun/HiTIPS_paper_data/fig_5/kpnb1/exp2/AssayPlate_PerkinElmer_CellCarrier-384 Ultra_F11_T0410F002L01A01Z01C01.tif\n",
      "/data2/varun/HiTIPS_paper_data/fig_5/kpnb1/exp2/AssayPlate_PerkinElmer_CellCarrier-384 Ultra_F11_T0410F005L01A01Z01C01.tif\n",
      "/data2/varun/HiTIPS_paper_data/fig_5/kpnb1/exp2/AssayPlate_PerkinElmer_CellCarrier-384 Ultra_F11_T0410F004L01A01Z01C01.tif\n",
      "/data2/varun/HiTIPS_paper_data/fig_5/kpnb1/exp2/AssayPlate_PerkinElmer_CellCarrier-384 Ultra_F11_T0410F006L01A01Z01C01.tif\n",
      "/data2/varun/HiTIPS_paper_data/fig_5/kpnb1/exp2/AssayPlate_PerkinElmer_CellCarrier-384 Ultra_F11_T0410F007L01A01Z01C01.tif\n",
      "/data2/varun/HiTIPS_paper_data/fig_5/kpnb1/exp2/AssayPlate_PerkinElmer_CellCarrier-384 Ultra_F11_T0410F009L01A01Z01C01.tif\n",
      "/data2/varun/HiTIPS_paper_data/fig_5/kpnb1/exp2/AssayPlate_PerkinElmer_CellCarrier-384 Ultra_F11_T0411F001L01A01Z01C01.tif\n",
      "/data2/varun/HiTIPS_paper_data/fig_5/kpnb1/exp2/AssayPlate_PerkinElmer_CellCarrier-384 Ultra_F11_T0410F008L01A01Z01C01.tif\n",
      "/data2/varun/HiTIPS_paper_data/fig_5/kpnb1/exp2/AssayPlate_PerkinElmer_CellCarrier-384 Ultra_F11_T0411F002L01A01Z01C01.tif\n",
      "/data2/varun/HiTIPS_paper_data/fig_5/kpnb1/exp2/AssayPlate_PerkinElmer_CellCarrier-384 Ultra_F11_T0411F004L01A01Z01C01.tif\n",
      "/data2/varun/HiTIPS_paper_data/fig_5/kpnb1/exp2/AssayPlate_PerkinElmer_CellCarrier-384 Ultra_F11_T0411F003L01A01Z01C01.tif\n",
      "/data2/varun/HiTIPS_paper_data/fig_5/kpnb1/exp2/AssayPlate_PerkinElmer_CellCarrier-384 Ultra_F11_T0411F006L01A01Z01C01.tif\n",
      "/data2/varun/HiTIPS_paper_data/fig_5/kpnb1/exp2/AssayPlate_PerkinElmer_CellCarrier-384 Ultra_F11_T0411F005L01A01Z01C01.tif\n",
      "/data2/varun/HiTIPS_paper_data/fig_5/kpnb1/exp2/AssayPlate_PerkinElmer_CellCarrier-384 Ultra_F11_T0411F008L01A01Z01C01.tif\n",
      "/data2/varun/HiTIPS_paper_data/fig_5/kpnb1/exp2/AssayPlate_PerkinElmer_CellCarrier-384 Ultra_F11_T0412F001L01A01Z01C01.tif\n",
      "/data2/varun/HiTIPS_paper_data/fig_5/kpnb1/exp2/AssayPlate_PerkinElmer_CellCarrier-384 Ultra_F11_T0411F007L01A01Z01C01.tif\n",
      "/data2/varun/HiTIPS_paper_data/fig_5/kpnb1/exp2/AssayPlate_PerkinElmer_CellCarrier-384 Ultra_F11_T0411F009L01A01Z01C01.tif\n",
      "/data2/varun/HiTIPS_paper_data/fig_5/kpnb1/exp2/AssayPlate_PerkinElmer_CellCarrier-384 Ultra_F11_T0412F003L01A01Z01C01.tif\n",
      "/data2/varun/HiTIPS_paper_data/fig_5/kpnb1/exp2/AssayPlate_PerkinElmer_CellCarrier-384 Ultra_F11_T0412F002L01A01Z01C01.tif\n",
      "/data2/varun/HiTIPS_paper_data/fig_5/kpnb1/exp2/AssayPlate_PerkinElmer_CellCarrier-384 Ultra_F11_T0412F004L01A01Z01C01.tif\n",
      "/data2/varun/HiTIPS_paper_data/fig_5/kpnb1/exp2/AssayPlate_PerkinElmer_CellCarrier-384 Ultra_F11_T0412F005L01A01Z01C01.tif\n",
      "/data2/varun/HiTIPS_paper_data/fig_5/kpnb1/exp2/AssayPlate_PerkinElmer_CellCarrier-384 Ultra_F11_T0412F009L01A01Z01C01.tif/data2/varun/HiTIPS_paper_data/fig_5/kpnb1/exp2/AssayPlate_PerkinElmer_CellCarrier-384 Ultra_F11_T0412F006L01A01Z01C01.tif\n",
      "\n",
      "/data2/varun/HiTIPS_paper_data/fig_5/kpnb1/exp2/AssayPlate_PerkinElmer_CellCarrier-384 Ultra_F11_T0412F008L01A01Z01C01.tif\n",
      "/data2/varun/HiTIPS_paper_data/fig_5/kpnb1/exp2/AssayPlate_PerkinElmer_CellCarrier-384 Ultra_F11_T0412F007L01A01Z01C01.tif\n",
      "/data2/varun/HiTIPS_paper_data/fig_5/kpnb1/exp2/AssayPlate_PerkinElmer_CellCarrier-384 Ultra_F11_T0413F002L01A01Z01C01.tif\n",
      "/data2/varun/HiTIPS_paper_data/fig_5/kpnb1/exp2/AssayPlate_PerkinElmer_CellCarrier-384 Ultra_F11_T0413F001L01A01Z01C01.tif\n",
      "/data2/varun/HiTIPS_paper_data/fig_5/kpnb1/exp2/AssayPlate_PerkinElmer_CellCarrier-384 Ultra_F11_T0413F003L01A01Z01C01.tif\n",
      "/data2/varun/HiTIPS_paper_data/fig_5/kpnb1/exp2/AssayPlate_PerkinElmer_CellCarrier-384 Ultra_F11_T0413F004L01A01Z01C01.tif\n",
      "/data2/varun/HiTIPS_paper_data/fig_5/kpnb1/exp2/AssayPlate_PerkinElmer_CellCarrier-384 Ultra_F11_T0413F008L01A01Z01C01.tif\n",
      "/data2/varun/HiTIPS_paper_data/fig_5/kpnb1/exp2/AssayPlate_PerkinElmer_CellCarrier-384 Ultra_F11_T0413F006L01A01Z01C01.tif\n",
      "/data2/varun/HiTIPS_paper_data/fig_5/kpnb1/exp2/AssayPlate_PerkinElmer_CellCarrier-384 Ultra_F11_T0413F005L01A01Z01C01.tif\n",
      "/data2/varun/HiTIPS_paper_data/fig_5/kpnb1/exp2/AssayPlate_PerkinElmer_CellCarrier-384 Ultra_F11_T0413F007L01A01Z01C01.tif\n",
      "/data2/varun/HiTIPS_paper_data/fig_5/kpnb1/exp2/AssayPlate_PerkinElmer_CellCarrier-384 Ultra_F11_T0414F001L01A01Z01C01.tif\n",
      "/data2/varun/HiTIPS_paper_data/fig_5/kpnb1/exp2/AssayPlate_PerkinElmer_CellCarrier-384 Ultra_F11_T0413F009L01A01Z01C01.tif\n",
      "/data2/varun/HiTIPS_paper_data/fig_5/kpnb1/exp2/AssayPlate_PerkinElmer_CellCarrier-384 Ultra_F11_T0414F002L01A01Z01C01.tif\n",
      "/data2/varun/HiTIPS_paper_data/fig_5/kpnb1/exp2/AssayPlate_PerkinElmer_CellCarrier-384 Ultra_F11_T0414F003L01A01Z01C01.tif\n",
      "/data2/varun/HiTIPS_paper_data/fig_5/kpnb1/exp2/AssayPlate_PerkinElmer_CellCarrier-384 Ultra_F11_T0414F005L01A01Z01C01.tif\n",
      "/data2/varun/HiTIPS_paper_data/fig_5/kpnb1/exp2/AssayPlate_PerkinElmer_CellCarrier-384 Ultra_F11_T0414F004L01A01Z01C01.tif\n",
      "/data2/varun/HiTIPS_paper_data/fig_5/kpnb1/exp2/AssayPlate_PerkinElmer_CellCarrier-384 Ultra_F11_T0414F007L01A01Z01C01.tif\n",
      "/data2/varun/HiTIPS_paper_data/fig_5/kpnb1/exp2/AssayPlate_PerkinElmer_CellCarrier-384 Ultra_F11_T0414F006L01A01Z01C01.tif\n",
      "/data2/varun/HiTIPS_paper_data/fig_5/kpnb1/exp2/AssayPlate_PerkinElmer_CellCarrier-384 Ultra_F11_T0414F009L01A01Z01C01.tif\n",
      "/data2/varun/HiTIPS_paper_data/fig_5/kpnb1/exp2/AssayPlate_PerkinElmer_CellCarrier-384 Ultra_F11_T0414F008L01A01Z01C01.tif\n",
      "/data2/varun/HiTIPS_paper_data/fig_5/kpnb1/exp2/AssayPlate_PerkinElmer_CellCarrier-384 Ultra_F11_T0415F002L01A01Z01C01.tif\n",
      "/data2/varun/HiTIPS_paper_data/fig_5/kpnb1/exp2/AssayPlate_PerkinElmer_CellCarrier-384 Ultra_F11_T0415F001L01A01Z01C01.tif\n",
      "/data2/varun/HiTIPS_paper_data/fig_5/kpnb1/exp2/AssayPlate_PerkinElmer_CellCarrier-384 Ultra_F11_T0415F004L01A01Z01C01.tif\n",
      "/data2/varun/HiTIPS_paper_data/fig_5/kpnb1/exp2/AssayPlate_PerkinElmer_CellCarrier-384 Ultra_F11_T0415F003L01A01Z01C01.tif\n",
      "/data2/varun/HiTIPS_paper_data/fig_5/kpnb1/exp2/AssayPlate_PerkinElmer_CellCarrier-384 Ultra_F11_T0415F006L01A01Z01C01.tif\n",
      "/data2/varun/HiTIPS_paper_data/fig_5/kpnb1/exp2/AssayPlate_PerkinElmer_CellCarrier-384 Ultra_F11_T0415F005L01A01Z01C01.tif\n",
      "/data2/varun/HiTIPS_paper_data/fig_5/kpnb1/exp2/AssayPlate_PerkinElmer_CellCarrier-384 Ultra_F11_T0416F001L01A01Z01C01.tif\n",
      "/data2/varun/HiTIPS_paper_data/fig_5/kpnb1/exp2/AssayPlate_PerkinElmer_CellCarrier-384 Ultra_F11_T0415F008L01A01Z01C01.tif\n",
      "/data2/varun/HiTIPS_paper_data/fig_5/kpnb1/exp2/AssayPlate_PerkinElmer_CellCarrier-384 Ultra_F11_T0415F009L01A01Z01C01.tif\n",
      "/data2/varun/HiTIPS_paper_data/fig_5/kpnb1/exp2/AssayPlate_PerkinElmer_CellCarrier-384 Ultra_F11_T0415F007L01A01Z01C01.tif\n",
      "/data2/varun/HiTIPS_paper_data/fig_5/kpnb1/exp2/AssayPlate_PerkinElmer_CellCarrier-384 Ultra_F11_T0416F003L01A01Z01C01.tif\n",
      "/data2/varun/HiTIPS_paper_data/fig_5/kpnb1/exp2/AssayPlate_PerkinElmer_CellCarrier-384 Ultra_F11_T0416F002L01A01Z01C01.tif\n",
      "/data2/varun/HiTIPS_paper_data/fig_5/kpnb1/exp2/AssayPlate_PerkinElmer_CellCarrier-384 Ultra_F11_T0416F005L01A01Z01C01.tif\n",
      "/data2/varun/HiTIPS_paper_data/fig_5/kpnb1/exp2/AssayPlate_PerkinElmer_CellCarrier-384 Ultra_F11_T0416F004L01A01Z01C01.tif\n",
      "/data2/varun/HiTIPS_paper_data/fig_5/kpnb1/exp2/AssayPlate_PerkinElmer_CellCarrier-384 Ultra_F11_T0416F007L01A01Z01C01.tif\n",
      "/data2/varun/HiTIPS_paper_data/fig_5/kpnb1/exp2/AssayPlate_PerkinElmer_CellCarrier-384 Ultra_F11_T0416F008L01A01Z01C01.tif\n",
      "/data2/varun/HiTIPS_paper_data/fig_5/kpnb1/exp2/AssayPlate_PerkinElmer_CellCarrier-384 Ultra_F11_T0416F006L01A01Z01C01.tif\n",
      "/data2/varun/HiTIPS_paper_data/fig_5/kpnb1/exp2/AssayPlate_PerkinElmer_CellCarrier-384 Ultra_F11_T0416F009L01A01Z01C01.tif\n",
      "/data2/varun/HiTIPS_paper_data/fig_5/kpnb1/exp2/AssayPlate_PerkinElmer_CellCarrier-384 Ultra_F11_T0417F002L01A01Z01C01.tif\n",
      "/data2/varun/HiTIPS_paper_data/fig_5/kpnb1/exp2/AssayPlate_PerkinElmer_CellCarrier-384 Ultra_F11_T0417F004L01A01Z01C01.tif\n",
      "/data2/varun/HiTIPS_paper_data/fig_5/kpnb1/exp2/AssayPlate_PerkinElmer_CellCarrier-384 Ultra_F11_T0417F003L01A01Z01C01.tif\n",
      "/data2/varun/HiTIPS_paper_data/fig_5/kpnb1/exp2/AssayPlate_PerkinElmer_CellCarrier-384 Ultra_F11_T0417F001L01A01Z01C01.tif\n",
      "/data2/varun/HiTIPS_paper_data/fig_5/kpnb1/exp2/AssayPlate_PerkinElmer_CellCarrier-384 Ultra_F11_T0417F005L01A01Z01C01.tif\n",
      "/data2/varun/HiTIPS_paper_data/fig_5/kpnb1/exp2/AssayPlate_PerkinElmer_CellCarrier-384 Ultra_F11_T0417F006L01A01Z01C01.tif\n",
      "/data2/varun/HiTIPS_paper_data/fig_5/kpnb1/exp2/AssayPlate_PerkinElmer_CellCarrier-384 Ultra_F11_T0417F008L01A01Z01C01.tif\n",
      "/data2/varun/HiTIPS_paper_data/fig_5/kpnb1/exp2/AssayPlate_PerkinElmer_CellCarrier-384 Ultra_F11_T0417F007L01A01Z01C01.tif\n",
      "/data2/varun/HiTIPS_paper_data/fig_5/kpnb1/exp2/AssayPlate_PerkinElmer_CellCarrier-384 Ultra_F11_T0418F001L01A01Z01C01.tif\n",
      "/data2/varun/HiTIPS_paper_data/fig_5/kpnb1/exp2/AssayPlate_PerkinElmer_CellCarrier-384 Ultra_F11_T0418F003L01A01Z01C01.tif\n",
      "/data2/varun/HiTIPS_paper_data/fig_5/kpnb1/exp2/AssayPlate_PerkinElmer_CellCarrier-384 Ultra_F11_T0418F002L01A01Z01C01.tif\n",
      "/data2/varun/HiTIPS_paper_data/fig_5/kpnb1/exp2/AssayPlate_PerkinElmer_CellCarrier-384 Ultra_F11_T0417F009L01A01Z01C01.tif\n",
      "/data2/varun/HiTIPS_paper_data/fig_5/kpnb1/exp2/AssayPlate_PerkinElmer_CellCarrier-384 Ultra_F11_T0418F006L01A01Z01C01.tif\n",
      "/data2/varun/HiTIPS_paper_data/fig_5/kpnb1/exp2/AssayPlate_PerkinElmer_CellCarrier-384 Ultra_F11_T0418F005L01A01Z01C01.tif\n",
      "/data2/varun/HiTIPS_paper_data/fig_5/kpnb1/exp2/AssayPlate_PerkinElmer_CellCarrier-384 Ultra_F11_T0418F004L01A01Z01C01.tif\n",
      "/data2/varun/HiTIPS_paper_data/fig_5/kpnb1/exp2/AssayPlate_PerkinElmer_CellCarrier-384 Ultra_F11_T0418F007L01A01Z01C01.tif\n",
      "/data2/varun/HiTIPS_paper_data/fig_5/kpnb1/exp2/AssayPlate_PerkinElmer_CellCarrier-384 Ultra_F11_T0418F009L01A01Z01C01.tif\n",
      "/data2/varun/HiTIPS_paper_data/fig_5/kpnb1/exp2/AssayPlate_PerkinElmer_CellCarrier-384 Ultra_F11_T0419F002L01A01Z01C01.tif\n",
      "/data2/varun/HiTIPS_paper_data/fig_5/kpnb1/exp2/AssayPlate_PerkinElmer_CellCarrier-384 Ultra_F11_T0419F001L01A01Z01C01.tif\n",
      "/data2/varun/HiTIPS_paper_data/fig_5/kpnb1/exp2/AssayPlate_PerkinElmer_CellCarrier-384 Ultra_F11_T0418F008L01A01Z01C01.tif\n",
      "/data2/varun/HiTIPS_paper_data/fig_5/kpnb1/exp2/AssayPlate_PerkinElmer_CellCarrier-384 Ultra_F11_T0419F004L01A01Z01C01.tif\n",
      "/data2/varun/HiTIPS_paper_data/fig_5/kpnb1/exp2/AssayPlate_PerkinElmer_CellCarrier-384 Ultra_F11_T0419F006L01A01Z01C01.tif\n",
      "/data2/varun/HiTIPS_paper_data/fig_5/kpnb1/exp2/AssayPlate_PerkinElmer_CellCarrier-384 Ultra_F11_T0419F003L01A01Z01C01.tif\n",
      "/data2/varun/HiTIPS_paper_data/fig_5/kpnb1/exp2/AssayPlate_PerkinElmer_CellCarrier-384 Ultra_F11_T0419F005L01A01Z01C01.tif\n",
      "/data2/varun/HiTIPS_paper_data/fig_5/kpnb1/exp2/AssayPlate_PerkinElmer_CellCarrier-384 Ultra_F11_T0419F008L01A01Z01C01.tif\n",
      "/data2/varun/HiTIPS_paper_data/fig_5/kpnb1/exp2/AssayPlate_PerkinElmer_CellCarrier-384 Ultra_F11_T0419F009L01A01Z01C01.tif\n",
      "/data2/varun/HiTIPS_paper_data/fig_5/kpnb1/exp2/AssayPlate_PerkinElmer_CellCarrier-384 Ultra_F11_T0420F001L01A01Z01C01.tif\n",
      "/data2/varun/HiTIPS_paper_data/fig_5/kpnb1/exp2/AssayPlate_PerkinElmer_CellCarrier-384 Ultra_F11_T0419F007L01A01Z01C01.tif\n",
      "/data2/varun/HiTIPS_paper_data/fig_5/kpnb1/exp2/AssayPlate_PerkinElmer_CellCarrier-384 Ultra_F11_T0420F003L01A01Z01C01.tif\n",
      "/data2/varun/HiTIPS_paper_data/fig_5/kpnb1/exp2/AssayPlate_PerkinElmer_CellCarrier-384 Ultra_F11_T0420F004L01A01Z01C01.tif\n",
      "/data2/varun/HiTIPS_paper_data/fig_5/kpnb1/exp2/AssayPlate_PerkinElmer_CellCarrier-384 Ultra_F11_T0420F005L01A01Z01C01.tif\n",
      "/data2/varun/HiTIPS_paper_data/fig_5/kpnb1/exp2/AssayPlate_PerkinElmer_CellCarrier-384 Ultra_F11_T0420F002L01A01Z01C01.tif\n",
      "/data2/varun/HiTIPS_paper_data/fig_5/kpnb1/exp2/AssayPlate_PerkinElmer_CellCarrier-384 Ultra_F11_T0420F009L01A01Z01C01.tif\n",
      "/data2/varun/HiTIPS_paper_data/fig_5/kpnb1/exp2/AssayPlate_PerkinElmer_CellCarrier-384 Ultra_F11_T0420F008L01A01Z01C01.tif\n",
      "/data2/varun/HiTIPS_paper_data/fig_5/kpnb1/exp2/AssayPlate_PerkinElmer_CellCarrier-384 Ultra_F11_T0420F007L01A01Z01C01.tif\n",
      "/data2/varun/HiTIPS_paper_data/fig_5/kpnb1/exp2/AssayPlate_PerkinElmer_CellCarrier-384 Ultra_F11_T0420F006L01A01Z01C01.tif\n",
      "/data2/varun/HiTIPS_paper_data/fig_5/kpnb1/exp2/AssayPlate_PerkinElmer_CellCarrier-384 Ultra_F11_T0421F001L01A01Z01C01.tif\n",
      "/data2/varun/HiTIPS_paper_data/fig_5/kpnb1/exp2/AssayPlate_PerkinElmer_CellCarrier-384 Ultra_F11_T0421F002L01A01Z01C01.tif\n",
      "/data2/varun/HiTIPS_paper_data/fig_5/kpnb1/exp2/AssayPlate_PerkinElmer_CellCarrier-384 Ultra_F11_T0421F004L01A01Z01C01.tif\n",
      "/data2/varun/HiTIPS_paper_data/fig_5/kpnb1/exp2/AssayPlate_PerkinElmer_CellCarrier-384 Ultra_F11_T0421F003L01A01Z01C01.tif\n",
      "/data2/varun/HiTIPS_paper_data/fig_5/kpnb1/exp2/AssayPlate_PerkinElmer_CellCarrier-384 Ultra_F11_T0421F008L01A01Z01C01.tif\n",
      "/data2/varun/HiTIPS_paper_data/fig_5/kpnb1/exp2/AssayPlate_PerkinElmer_CellCarrier-384 Ultra_F11_T0421F007L01A01Z01C01.tif\n",
      "/data2/varun/HiTIPS_paper_data/fig_5/kpnb1/exp2/AssayPlate_PerkinElmer_CellCarrier-384 Ultra_F11_T0421F005L01A01Z01C01.tif\n",
      "/data2/varun/HiTIPS_paper_data/fig_5/kpnb1/exp2/AssayPlate_PerkinElmer_CellCarrier-384 Ultra_F11_T0421F006L01A01Z01C01.tif\n",
      "/data2/varun/HiTIPS_paper_data/fig_5/kpnb1/exp2/AssayPlate_PerkinElmer_CellCarrier-384 Ultra_F11_T0422F001L01A01Z01C01.tif\n",
      "/data2/varun/HiTIPS_paper_data/fig_5/kpnb1/exp2/AssayPlate_PerkinElmer_CellCarrier-384 Ultra_F11_T0421F009L01A01Z01C01.tif\n",
      "/data2/varun/HiTIPS_paper_data/fig_5/kpnb1/exp2/AssayPlate_PerkinElmer_CellCarrier-384 Ultra_F11_T0422F003L01A01Z01C01.tif\n",
      "/data2/varun/HiTIPS_paper_data/fig_5/kpnb1/exp2/AssayPlate_PerkinElmer_CellCarrier-384 Ultra_F11_T0422F002L01A01Z01C01.tif\n",
      "/data2/varun/HiTIPS_paper_data/fig_5/kpnb1/exp2/AssayPlate_PerkinElmer_CellCarrier-384 Ultra_F11_T0422F006L01A01Z01C01.tif\n",
      "/data2/varun/HiTIPS_paper_data/fig_5/kpnb1/exp2/AssayPlate_PerkinElmer_CellCarrier-384 Ultra_F11_T0422F007L01A01Z01C01.tif\n",
      "/data2/varun/HiTIPS_paper_data/fig_5/kpnb1/exp2/AssayPlate_PerkinElmer_CellCarrier-384 Ultra_F11_T0422F004L01A01Z01C01.tif\n",
      "/data2/varun/HiTIPS_paper_data/fig_5/kpnb1/exp2/AssayPlate_PerkinElmer_CellCarrier-384 Ultra_F11_T0422F005L01A01Z01C01.tif\n",
      "/data2/varun/HiTIPS_paper_data/fig_5/kpnb1/exp2/AssayPlate_PerkinElmer_CellCarrier-384 Ultra_F11_T0422F008L01A01Z01C01.tif\n",
      "/data2/varun/HiTIPS_paper_data/fig_5/kpnb1/exp2/AssayPlate_PerkinElmer_CellCarrier-384 Ultra_F11_T0422F009L01A01Z01C01.tif\n",
      "/data2/varun/HiTIPS_paper_data/fig_5/kpnb1/exp2/AssayPlate_PerkinElmer_CellCarrier-384 Ultra_F11_T0423F001L01A01Z01C01.tif\n",
      "/data2/varun/HiTIPS_paper_data/fig_5/kpnb1/exp2/AssayPlate_PerkinElmer_CellCarrier-384 Ultra_F11_T0423F002L01A01Z01C01.tif\n",
      "/data2/varun/HiTIPS_paper_data/fig_5/kpnb1/exp2/AssayPlate_PerkinElmer_CellCarrier-384 Ultra_F11_T0423F004L01A01Z01C01.tif\n",
      "/data2/varun/HiTIPS_paper_data/fig_5/kpnb1/exp2/AssayPlate_PerkinElmer_CellCarrier-384 Ultra_F11_T0423F006L01A01Z01C01.tif\n",
      "/data2/varun/HiTIPS_paper_data/fig_5/kpnb1/exp2/AssayPlate_PerkinElmer_CellCarrier-384 Ultra_F11_T0423F003L01A01Z01C01.tif\n",
      "/data2/varun/HiTIPS_paper_data/fig_5/kpnb1/exp2/AssayPlate_PerkinElmer_CellCarrier-384 Ultra_F11_T0423F005L01A01Z01C01.tif\n",
      "/data2/varun/HiTIPS_paper_data/fig_5/kpnb1/exp2/AssayPlate_PerkinElmer_CellCarrier-384 Ultra_F11_T0423F008L01A01Z01C01.tif\n",
      "/data2/varun/HiTIPS_paper_data/fig_5/kpnb1/exp2/AssayPlate_PerkinElmer_CellCarrier-384 Ultra_F11_T0423F007L01A01Z01C01.tif\n",
      "/data2/varun/HiTIPS_paper_data/fig_5/kpnb1/exp2/AssayPlate_PerkinElmer_CellCarrier-384 Ultra_F11_T0424F001L01A01Z01C01.tif\n",
      "/data2/varun/HiTIPS_paper_data/fig_5/kpnb1/exp2/AssayPlate_PerkinElmer_CellCarrier-384 Ultra_F11_T0423F009L01A01Z01C01.tif\n",
      "/data2/varun/HiTIPS_paper_data/fig_5/kpnb1/exp2/AssayPlate_PerkinElmer_CellCarrier-384 Ultra_F11_T0424F003L01A01Z01C01.tif\n",
      "/data2/varun/HiTIPS_paper_data/fig_5/kpnb1/exp2/AssayPlate_PerkinElmer_CellCarrier-384 Ultra_F11_T0424F004L01A01Z01C01.tif\n",
      "/data2/varun/HiTIPS_paper_data/fig_5/kpnb1/exp2/AssayPlate_PerkinElmer_CellCarrier-384 Ultra_F11_T0424F005L01A01Z01C01.tif\n",
      "/data2/varun/HiTIPS_paper_data/fig_5/kpnb1/exp2/AssayPlate_PerkinElmer_CellCarrier-384 Ultra_F11_T0424F002L01A01Z01C01.tif\n",
      "/data2/varun/HiTIPS_paper_data/fig_5/kpnb1/exp2/AssayPlate_PerkinElmer_CellCarrier-384 Ultra_F11_T0424F007L01A01Z01C01.tif\n",
      "/data2/varun/HiTIPS_paper_data/fig_5/kpnb1/exp2/AssayPlate_PerkinElmer_CellCarrier-384 Ultra_F11_T0424F006L01A01Z01C01.tif\n",
      "/data2/varun/HiTIPS_paper_data/fig_5/kpnb1/exp2/AssayPlate_PerkinElmer_CellCarrier-384 Ultra_F11_T0424F009L01A01Z01C01.tif\n",
      "/data2/varun/HiTIPS_paper_data/fig_5/kpnb1/exp2/AssayPlate_PerkinElmer_CellCarrier-384 Ultra_F11_T0424F008L01A01Z01C01.tif\n",
      "/data2/varun/HiTIPS_paper_data/fig_5/kpnb1/exp2/AssayPlate_PerkinElmer_CellCarrier-384 Ultra_F11_T0425F002L01A01Z01C01.tif\n",
      "/data2/varun/HiTIPS_paper_data/fig_5/kpnb1/exp2/AssayPlate_PerkinElmer_CellCarrier-384 Ultra_F11_T0425F003L01A01Z01C01.tif\n",
      "/data2/varun/HiTIPS_paper_data/fig_5/kpnb1/exp2/AssayPlate_PerkinElmer_CellCarrier-384 Ultra_F11_T0425F001L01A01Z01C01.tif\n",
      "/data2/varun/HiTIPS_paper_data/fig_5/kpnb1/exp2/AssayPlate_PerkinElmer_CellCarrier-384 Ultra_F11_T0425F004L01A01Z01C01.tif\n",
      "/data2/varun/HiTIPS_paper_data/fig_5/kpnb1/exp2/AssayPlate_PerkinElmer_CellCarrier-384 Ultra_F11_T0425F006L01A01Z01C01.tif\n",
      "/data2/varun/HiTIPS_paper_data/fig_5/kpnb1/exp2/AssayPlate_PerkinElmer_CellCarrier-384 Ultra_F11_T0425F005L01A01Z01C01.tif\n",
      "/data2/varun/HiTIPS_paper_data/fig_5/kpnb1/exp2/AssayPlate_PerkinElmer_CellCarrier-384 Ultra_F11_T0425F008L01A01Z01C01.tif\n",
      "/data2/varun/HiTIPS_paper_data/fig_5/kpnb1/exp2/AssayPlate_PerkinElmer_CellCarrier-384 Ultra_F11_T0425F007L01A01Z01C01.tif\n",
      "/data2/varun/HiTIPS_paper_data/fig_5/kpnb1/exp2/AssayPlate_PerkinElmer_CellCarrier-384 Ultra_F11_T0426F001L01A01Z01C01.tif\n",
      "/data2/varun/HiTIPS_paper_data/fig_5/kpnb1/exp2/AssayPlate_PerkinElmer_CellCarrier-384 Ultra_F11_T0426F003L01A01Z01C01.tif\n",
      "/data2/varun/HiTIPS_paper_data/fig_5/kpnb1/exp2/AssayPlate_PerkinElmer_CellCarrier-384 Ultra_F11_T0425F009L01A01Z01C01.tif\n",
      "/data2/varun/HiTIPS_paper_data/fig_5/kpnb1/exp2/AssayPlate_PerkinElmer_CellCarrier-384 Ultra_F11_T0426F002L01A01Z01C01.tif\n",
      "/data2/varun/HiTIPS_paper_data/fig_5/kpnb1/exp2/AssayPlate_PerkinElmer_CellCarrier-384 Ultra_F11_T0426F005L01A01Z01C01.tif\n",
      "/data2/varun/HiTIPS_paper_data/fig_5/kpnb1/exp2/AssayPlate_PerkinElmer_CellCarrier-384 Ultra_F11_T0426F004L01A01Z01C01.tif\n",
      "/data2/varun/HiTIPS_paper_data/fig_5/kpnb1/exp2/AssayPlate_PerkinElmer_CellCarrier-384 Ultra_F11_T0426F007L01A01Z01C01.tif\n",
      "/data2/varun/HiTIPS_paper_data/fig_5/kpnb1/exp2/AssayPlate_PerkinElmer_CellCarrier-384 Ultra_F11_T0426F006L01A01Z01C01.tif\n",
      "/data2/varun/HiTIPS_paper_data/fig_5/kpnb1/exp2/AssayPlate_PerkinElmer_CellCarrier-384 Ultra_F11_T0426F009L01A01Z01C01.tif\n",
      "/data2/varun/HiTIPS_paper_data/fig_5/kpnb1/exp2/AssayPlate_PerkinElmer_CellCarrier-384 Ultra_F11_T0427F002L01A01Z01C01.tif\n",
      "/data2/varun/HiTIPS_paper_data/fig_5/kpnb1/exp2/AssayPlate_PerkinElmer_CellCarrier-384 Ultra_F11_T0427F001L01A01Z01C01.tif\n",
      "/data2/varun/HiTIPS_paper_data/fig_5/kpnb1/exp2/AssayPlate_PerkinElmer_CellCarrier-384 Ultra_F11_T0426F008L01A01Z01C01.tif\n",
      "/data2/varun/HiTIPS_paper_data/fig_5/kpnb1/exp2/AssayPlate_PerkinElmer_CellCarrier-384 Ultra_F11_T0427F004L01A01Z01C01.tif\n",
      "/data2/varun/HiTIPS_paper_data/fig_5/kpnb1/exp2/AssayPlate_PerkinElmer_CellCarrier-384 Ultra_F11_T0427F003L01A01Z01C01.tif\n",
      "/data2/varun/HiTIPS_paper_data/fig_5/kpnb1/exp2/AssayPlate_PerkinElmer_CellCarrier-384 Ultra_F11_T0427F005L01A01Z01C01.tif\n",
      "/data2/varun/HiTIPS_paper_data/fig_5/kpnb1/exp2/AssayPlate_PerkinElmer_CellCarrier-384 Ultra_F11_T0427F006L01A01Z01C01.tif\n",
      "/data2/varun/HiTIPS_paper_data/fig_5/kpnb1/exp2/AssayPlate_PerkinElmer_CellCarrier-384 Ultra_F11_T0427F008L01A01Z01C01.tif\n",
      "/data2/varun/HiTIPS_paper_data/fig_5/kpnb1/exp2/AssayPlate_PerkinElmer_CellCarrier-384 Ultra_F11_T0428F001L01A01Z01C01.tif\n",
      "/data2/varun/HiTIPS_paper_data/fig_5/kpnb1/exp2/AssayPlate_PerkinElmer_CellCarrier-384 Ultra_F11_T0427F007L01A01Z01C01.tif\n",
      "/data2/varun/HiTIPS_paper_data/fig_5/kpnb1/exp2/AssayPlate_PerkinElmer_CellCarrier-384 Ultra_F11_T0427F009L01A01Z01C01.tif\n",
      "/data2/varun/HiTIPS_paper_data/fig_5/kpnb1/exp2/AssayPlate_PerkinElmer_CellCarrier-384 Ultra_F11_T0428F003L01A01Z01C01.tif\n",
      "/data2/varun/HiTIPS_paper_data/fig_5/kpnb1/exp2/AssayPlate_PerkinElmer_CellCarrier-384 Ultra_F11_T0428F002L01A01Z01C01.tif\n",
      "/data2/varun/HiTIPS_paper_data/fig_5/kpnb1/exp2/AssayPlate_PerkinElmer_CellCarrier-384 Ultra_F11_T0428F004L01A01Z01C01.tif\n",
      "/data2/varun/HiTIPS_paper_data/fig_5/kpnb1/exp2/AssayPlate_PerkinElmer_CellCarrier-384 Ultra_F11_T0428F005L01A01Z01C01.tif\n",
      "/data2/varun/HiTIPS_paper_data/fig_5/kpnb1/exp2/AssayPlate_PerkinElmer_CellCarrier-384 Ultra_F11_T0428F007L01A01Z01C01.tif\n",
      "/data2/varun/HiTIPS_paper_data/fig_5/kpnb1/exp2/AssayPlate_PerkinElmer_CellCarrier-384 Ultra_F11_T0428F006L01A01Z01C01.tif\n",
      "/data2/varun/HiTIPS_paper_data/fig_5/kpnb1/exp2/AssayPlate_PerkinElmer_CellCarrier-384 Ultra_F11_T0428F009L01A01Z01C01.tif\n",
      "/data2/varun/HiTIPS_paper_data/fig_5/kpnb1/exp2/AssayPlate_PerkinElmer_CellCarrier-384 Ultra_F11_T0428F008L01A01Z01C01.tif\n",
      "/data2/varun/HiTIPS_paper_data/fig_5/kpnb1/exp2/AssayPlate_PerkinElmer_CellCarrier-384 Ultra_F11_T0429F002L01A01Z01C01.tif\n",
      "/data2/varun/HiTIPS_paper_data/fig_5/kpnb1/exp2/AssayPlate_PerkinElmer_CellCarrier-384 Ultra_F11_T0429F003L01A01Z01C01.tif\n",
      "/data2/varun/HiTIPS_paper_data/fig_5/kpnb1/exp2/AssayPlate_PerkinElmer_CellCarrier-384 Ultra_F11_T0429F001L01A01Z01C01.tif\n",
      "/data2/varun/HiTIPS_paper_data/fig_5/kpnb1/exp2/AssayPlate_PerkinElmer_CellCarrier-384 Ultra_F11_T0429F004L01A01Z01C01.tif\n",
      "/data2/varun/HiTIPS_paper_data/fig_5/kpnb1/exp2/AssayPlate_PerkinElmer_CellCarrier-384 Ultra_F11_T0429F006L01A01Z01C01.tif\n",
      "/data2/varun/HiTIPS_paper_data/fig_5/kpnb1/exp2/AssayPlate_PerkinElmer_CellCarrier-384 Ultra_F11_T0429F007L01A01Z01C01.tif\n",
      "/data2/varun/HiTIPS_paper_data/fig_5/kpnb1/exp2/AssayPlate_PerkinElmer_CellCarrier-384 Ultra_F11_T0429F005L01A01Z01C01.tif\n",
      "/data2/varun/HiTIPS_paper_data/fig_5/kpnb1/exp2/AssayPlate_PerkinElmer_CellCarrier-384 Ultra_F11_T0429F008L01A01Z01C01.tif\n",
      "/data2/varun/HiTIPS_paper_data/fig_5/kpnb1/exp2/AssayPlate_PerkinElmer_CellCarrier-384 Ultra_F11_T0429F009L01A01Z01C01.tif\n",
      "/data2/varun/HiTIPS_paper_data/fig_5/kpnb1/exp2/AssayPlate_PerkinElmer_CellCarrier-384 Ultra_F11_T0430F002L01A01Z01C01.tif\n",
      "/data2/varun/HiTIPS_paper_data/fig_5/kpnb1/exp2/AssayPlate_PerkinElmer_CellCarrier-384 Ultra_F11_T0430F003L01A01Z01C01.tif\n",
      "/data2/varun/HiTIPS_paper_data/fig_5/kpnb1/exp2/AssayPlate_PerkinElmer_CellCarrier-384 Ultra_F11_T0430F001L01A01Z01C01.tif\n",
      "/data2/varun/HiTIPS_paper_data/fig_5/kpnb1/exp2/AssayPlate_PerkinElmer_CellCarrier-384 Ultra_F11_T0430F005L01A01Z01C01.tif\n",
      "/data2/varun/HiTIPS_paper_data/fig_5/kpnb1/exp2/AssayPlate_PerkinElmer_CellCarrier-384 Ultra_F11_T0430F004L01A01Z01C01.tif\n",
      "/data2/varun/HiTIPS_paper_data/fig_5/kpnb1/exp2/AssayPlate_PerkinElmer_CellCarrier-384 Ultra_F11_T0430F006L01A01Z01C01.tif\n",
      "/data2/varun/HiTIPS_paper_data/fig_5/kpnb1/exp2/AssayPlate_PerkinElmer_CellCarrier-384 Ultra_F11_T0430F007L01A01Z01C01.tif\n",
      "/data2/varun/HiTIPS_paper_data/fig_5/kpnb1/exp2/AssayPlate_PerkinElmer_CellCarrier-384 Ultra_F11_T0430F009L01A01Z01C01.tif\n",
      "/data2/varun/HiTIPS_paper_data/fig_5/kpnb1/exp2/AssayPlate_PerkinElmer_CellCarrier-384 Ultra_F11_T0430F008L01A01Z01C01.tif\n",
      "/data2/varun/HiTIPS_paper_data/fig_5/kpnb1/exp2/AssayPlate_PerkinElmer_CellCarrier-384 Ultra_F11_T0431F001L01A01Z01C01.tif\n",
      "/data2/varun/HiTIPS_paper_data/fig_5/kpnb1/exp2/AssayPlate_PerkinElmer_CellCarrier-384 Ultra_F11_T0431F002L01A01Z01C01.tif\n",
      "/data2/varun/HiTIPS_paper_data/fig_5/kpnb1/exp2/AssayPlate_PerkinElmer_CellCarrier-384 Ultra_F11_T0431F005L01A01Z01C01.tif\n",
      "/data2/varun/HiTIPS_paper_data/fig_5/kpnb1/exp2/AssayPlate_PerkinElmer_CellCarrier-384 Ultra_F11_T0431F004L01A01Z01C01.tif\n",
      "/data2/varun/HiTIPS_paper_data/fig_5/kpnb1/exp2/AssayPlate_PerkinElmer_CellCarrier-384 Ultra_F11_T0431F003L01A01Z01C01.tif\n",
      "/data2/varun/HiTIPS_paper_data/fig_5/kpnb1/exp2/AssayPlate_PerkinElmer_CellCarrier-384 Ultra_F11_T0431F006L01A01Z01C01.tif\n",
      "/data2/varun/HiTIPS_paper_data/fig_5/kpnb1/exp2/AssayPlate_PerkinElmer_CellCarrier-384 Ultra_F11_T0431F009L01A01Z01C01.tif\n",
      "/data2/varun/HiTIPS_paper_data/fig_5/kpnb1/exp2/AssayPlate_PerkinElmer_CellCarrier-384 Ultra_F11_T0431F008L01A01Z01C01.tif\n",
      "/data2/varun/HiTIPS_paper_data/fig_5/kpnb1/exp2/AssayPlate_PerkinElmer_CellCarrier-384 Ultra_F11_T0432F001L01A01Z01C01.tif\n",
      "/data2/varun/HiTIPS_paper_data/fig_5/kpnb1/exp2/AssayPlate_PerkinElmer_CellCarrier-384 Ultra_F11_T0431F007L01A01Z01C01.tif\n",
      "/data2/varun/HiTIPS_paper_data/fig_5/kpnb1/exp2/AssayPlate_PerkinElmer_CellCarrier-384 Ultra_F11_T0432F003L01A01Z01C01.tif\n",
      "/data2/varun/HiTIPS_paper_data/fig_5/kpnb1/exp2/AssayPlate_PerkinElmer_CellCarrier-384 Ultra_F11_T0432F002L01A01Z01C01.tif\n",
      "/data2/varun/HiTIPS_paper_data/fig_5/kpnb1/exp2/AssayPlate_PerkinElmer_CellCarrier-384 Ultra_F11_T0432F004L01A01Z01C01.tif\n",
      "/data2/varun/HiTIPS_paper_data/fig_5/kpnb1/exp2/AssayPlate_PerkinElmer_CellCarrier-384 Ultra_F11_T0432F005L01A01Z01C01.tif\n",
      "/data2/varun/HiTIPS_paper_data/fig_5/kpnb1/exp2/AssayPlate_PerkinElmer_CellCarrier-384 Ultra_F11_T0432F008L01A01Z01C01.tif\n",
      "/data2/varun/HiTIPS_paper_data/fig_5/kpnb1/exp2/AssayPlate_PerkinElmer_CellCarrier-384 Ultra_F11_T0432F007L01A01Z01C01.tif\n",
      "/data2/varun/HiTIPS_paper_data/fig_5/kpnb1/exp2/AssayPlate_PerkinElmer_CellCarrier-384 Ultra_F11_T0432F006L01A01Z01C01.tif\n",
      "/data2/varun/HiTIPS_paper_data/fig_5/kpnb1/exp2/AssayPlate_PerkinElmer_CellCarrier-384 Ultra_F11_T0432F009L01A01Z01C01.tif\n",
      "/data2/varun/HiTIPS_paper_data/fig_5/kpnb1/exp2/AssayPlate_PerkinElmer_CellCarrier-384 Ultra_F11_T0433F002L01A01Z01C01.tif\n",
      "/data2/varun/HiTIPS_paper_data/fig_5/kpnb1/exp2/AssayPlate_PerkinElmer_CellCarrier-384 Ultra_F11_T0433F004L01A01Z01C01.tif\n",
      "/data2/varun/HiTIPS_paper_data/fig_5/kpnb1/exp2/AssayPlate_PerkinElmer_CellCarrier-384 Ultra_F11_T0433F001L01A01Z01C01.tif\n",
      "/data2/varun/HiTIPS_paper_data/fig_5/kpnb1/exp2/AssayPlate_PerkinElmer_CellCarrier-384 Ultra_F11_T0433F003L01A01Z01C01.tif\n",
      "/data2/varun/HiTIPS_paper_data/fig_5/kpnb1/exp2/AssayPlate_PerkinElmer_CellCarrier-384 Ultra_F11_T0433F006L01A01Z01C01.tif\n",
      "/data2/varun/HiTIPS_paper_data/fig_5/kpnb1/exp2/AssayPlate_PerkinElmer_CellCarrier-384 Ultra_F11_T0433F008L01A01Z01C01.tif\n",
      "/data2/varun/HiTIPS_paper_data/fig_5/kpnb1/exp2/AssayPlate_PerkinElmer_CellCarrier-384 Ultra_F11_T0433F005L01A01Z01C01.tif\n",
      "/data2/varun/HiTIPS_paper_data/fig_5/kpnb1/exp2/AssayPlate_PerkinElmer_CellCarrier-384 Ultra_F11_T0433F007L01A01Z01C01.tif\n",
      "/data2/varun/HiTIPS_paper_data/fig_5/kpnb1/exp2/AssayPlate_PerkinElmer_CellCarrier-384 Ultra_F11_T0434F001L01A01Z01C01.tif\n",
      "/data2/varun/HiTIPS_paper_data/fig_5/kpnb1/exp2/AssayPlate_PerkinElmer_CellCarrier-384 Ultra_F11_T0434F002L01A01Z01C01.tif\n",
      "/data2/varun/HiTIPS_paper_data/fig_5/kpnb1/exp2/AssayPlate_PerkinElmer_CellCarrier-384 Ultra_F11_T0433F009L01A01Z01C01.tif\n",
      "/data2/varun/HiTIPS_paper_data/fig_5/kpnb1/exp2/AssayPlate_PerkinElmer_CellCarrier-384 Ultra_F11_T0434F003L01A01Z01C01.tif\n",
      "/data2/varun/HiTIPS_paper_data/fig_5/kpnb1/exp2/AssayPlate_PerkinElmer_CellCarrier-384 Ultra_F11_T0434F004L01A01Z01C01.tif\n",
      "/data2/varun/HiTIPS_paper_data/fig_5/kpnb1/exp2/AssayPlate_PerkinElmer_CellCarrier-384 Ultra_F11_T0434F005L01A01Z01C01.tif\n",
      "/data2/varun/HiTIPS_paper_data/fig_5/kpnb1/exp2/AssayPlate_PerkinElmer_CellCarrier-384 Ultra_F11_T0434F007L01A01Z01C01.tif\n",
      "/data2/varun/HiTIPS_paper_data/fig_5/kpnb1/exp2/AssayPlate_PerkinElmer_CellCarrier-384 Ultra_F11_T0434F006L01A01Z01C01.tif\n",
      "/data2/varun/HiTIPS_paper_data/fig_5/kpnb1/exp2/AssayPlate_PerkinElmer_CellCarrier-384 Ultra_F11_T0434F009L01A01Z01C01.tif\n",
      "/data2/varun/HiTIPS_paper_data/fig_5/kpnb1/exp2/AssayPlate_PerkinElmer_CellCarrier-384 Ultra_F11_T0434F008L01A01Z01C01.tif\n",
      "/data2/varun/HiTIPS_paper_data/fig_5/kpnb1/exp2/AssayPlate_PerkinElmer_CellCarrier-384 Ultra_F11_T0435F001L01A01Z01C01.tif\n",
      "/data2/varun/HiTIPS_paper_data/fig_5/kpnb1/exp2/AssayPlate_PerkinElmer_CellCarrier-384 Ultra_F11_T0435F002L01A01Z01C01.tif\n",
      "/data2/varun/HiTIPS_paper_data/fig_5/kpnb1/exp2/AssayPlate_PerkinElmer_CellCarrier-384 Ultra_F11_T0435F004L01A01Z01C01.tif\n",
      "/data2/varun/HiTIPS_paper_data/fig_5/kpnb1/exp2/AssayPlate_PerkinElmer_CellCarrier-384 Ultra_F11_T0435F005L01A01Z01C01.tif\n",
      "/data2/varun/HiTIPS_paper_data/fig_5/kpnb1/exp2/AssayPlate_PerkinElmer_CellCarrier-384 Ultra_F11_T0435F003L01A01Z01C01.tif\n",
      "/data2/varun/HiTIPS_paper_data/fig_5/kpnb1/exp2/AssayPlate_PerkinElmer_CellCarrier-384 Ultra_F11_T0435F006L01A01Z01C01.tif\n",
      "/data2/varun/HiTIPS_paper_data/fig_5/kpnb1/exp2/AssayPlate_PerkinElmer_CellCarrier-384 Ultra_F11_T0435F007L01A01Z01C01.tif\n",
      "/data2/varun/HiTIPS_paper_data/fig_5/kpnb1/exp2/AssayPlate_PerkinElmer_CellCarrier-384 Ultra_F11_T0436F001L01A01Z01C01.tif\n",
      "/data2/varun/HiTIPS_paper_data/fig_5/kpnb1/exp2/AssayPlate_PerkinElmer_CellCarrier-384 Ultra_F11_T0435F009L01A01Z01C01.tif\n",
      "/data2/varun/HiTIPS_paper_data/fig_5/kpnb1/exp2/AssayPlate_PerkinElmer_CellCarrier-384 Ultra_F11_T0435F008L01A01Z01C01.tif\n",
      "/data2/varun/HiTIPS_paper_data/fig_5/kpnb1/exp2/AssayPlate_PerkinElmer_CellCarrier-384 Ultra_F11_T0436F003L01A01Z01C01.tif\n",
      "/data2/varun/HiTIPS_paper_data/fig_5/kpnb1/exp2/AssayPlate_PerkinElmer_CellCarrier-384 Ultra_F11_T0436F004L01A01Z01C01.tif\n",
      "/data2/varun/HiTIPS_paper_data/fig_5/kpnb1/exp2/AssayPlate_PerkinElmer_CellCarrier-384 Ultra_F11_T0436F002L01A01Z01C01.tif\n",
      "/data2/varun/HiTIPS_paper_data/fig_5/kpnb1/exp2/AssayPlate_PerkinElmer_CellCarrier-384 Ultra_F11_T0436F005L01A01Z01C01.tif\n",
      "/data2/varun/HiTIPS_paper_data/fig_5/kpnb1/exp2/AssayPlate_PerkinElmer_CellCarrier-384 Ultra_F11_T0436F009L01A01Z01C01.tif\n",
      "/data2/varun/HiTIPS_paper_data/fig_5/kpnb1/exp2/AssayPlate_PerkinElmer_CellCarrier-384 Ultra_F11_T0436F008L01A01Z01C01.tif\n",
      "/data2/varun/HiTIPS_paper_data/fig_5/kpnb1/exp2/AssayPlate_PerkinElmer_CellCarrier-384 Ultra_F11_T0436F006L01A01Z01C01.tif\n",
      "/data2/varun/HiTIPS_paper_data/fig_5/kpnb1/exp2/AssayPlate_PerkinElmer_CellCarrier-384 Ultra_F11_T0436F007L01A01Z01C01.tif\n",
      "/data2/varun/HiTIPS_paper_data/fig_5/kpnb1/exp2/AssayPlate_PerkinElmer_CellCarrier-384 Ultra_F11_T0437F002L01A01Z01C01.tif\n",
      "/data2/varun/HiTIPS_paper_data/fig_5/kpnb1/exp2/AssayPlate_PerkinElmer_CellCarrier-384 Ultra_F11_T0437F003L01A01Z01C01.tif\n",
      "/data2/varun/HiTIPS_paper_data/fig_5/kpnb1/exp2/AssayPlate_PerkinElmer_CellCarrier-384 Ultra_F11_T0437F004L01A01Z01C01.tif\n",
      "/data2/varun/HiTIPS_paper_data/fig_5/kpnb1/exp2/AssayPlate_PerkinElmer_CellCarrier-384 Ultra_F11_T0437F001L01A01Z01C01.tif\n",
      "/data2/varun/HiTIPS_paper_data/fig_5/kpnb1/exp2/AssayPlate_PerkinElmer_CellCarrier-384 Ultra_F11_T0437F006L01A01Z01C01.tif\n",
      "/data2/varun/HiTIPS_paper_data/fig_5/kpnb1/exp2/AssayPlate_PerkinElmer_CellCarrier-384 Ultra_F11_T0437F007L01A01Z01C01.tif\n",
      "/data2/varun/HiTIPS_paper_data/fig_5/kpnb1/exp2/AssayPlate_PerkinElmer_CellCarrier-384 Ultra_F11_T0437F008L01A01Z01C01.tif\n",
      "/data2/varun/HiTIPS_paper_data/fig_5/kpnb1/exp2/AssayPlate_PerkinElmer_CellCarrier-384 Ultra_F11_T0437F005L01A01Z01C01.tif\n",
      "/data2/varun/HiTIPS_paper_data/fig_5/kpnb1/exp2/AssayPlate_PerkinElmer_CellCarrier-384 Ultra_F11_T0438F001L01A01Z01C01.tif\n",
      "/data2/varun/HiTIPS_paper_data/fig_5/kpnb1/exp2/AssayPlate_PerkinElmer_CellCarrier-384 Ultra_F11_T0437F009L01A01Z01C01.tif\n",
      "/data2/varun/HiTIPS_paper_data/fig_5/kpnb1/exp2/AssayPlate_PerkinElmer_CellCarrier-384 Ultra_F11_T0438F003L01A01Z01C01.tif\n",
      "/data2/varun/HiTIPS_paper_data/fig_5/kpnb1/exp2/AssayPlate_PerkinElmer_CellCarrier-384 Ultra_F11_T0438F002L01A01Z01C01.tif\n",
      "/data2/varun/HiTIPS_paper_data/fig_5/kpnb1/exp2/AssayPlate_PerkinElmer_CellCarrier-384 Ultra_F11_T0438F004L01A01Z01C01.tif\n",
      "/data2/varun/HiTIPS_paper_data/fig_5/kpnb1/exp2/AssayPlate_PerkinElmer_CellCarrier-384 Ultra_F11_T0438F006L01A01Z01C01.tif\n",
      "/data2/varun/HiTIPS_paper_data/fig_5/kpnb1/exp2/AssayPlate_PerkinElmer_CellCarrier-384 Ultra_F11_T0438F005L01A01Z01C01.tif\n",
      "/data2/varun/HiTIPS_paper_data/fig_5/kpnb1/exp2/AssayPlate_PerkinElmer_CellCarrier-384 Ultra_F11_T0438F007L01A01Z01C01.tif\n",
      "/data2/varun/HiTIPS_paper_data/fig_5/kpnb1/exp2/AssayPlate_PerkinElmer_CellCarrier-384 Ultra_F11_T0438F009L01A01Z01C01.tif\n",
      "/data2/varun/HiTIPS_paper_data/fig_5/kpnb1/exp2/AssayPlate_PerkinElmer_CellCarrier-384 Ultra_F11_T0438F008L01A01Z01C01.tif\n",
      "/data2/varun/HiTIPS_paper_data/fig_5/kpnb1/exp2/AssayPlate_PerkinElmer_CellCarrier-384 Ultra_F11_T0439F001L01A01Z01C01.tif\n",
      "/data2/varun/HiTIPS_paper_data/fig_5/kpnb1/exp2/AssayPlate_PerkinElmer_CellCarrier-384 Ultra_F11_T0439F002L01A01Z01C01.tif\n",
      "/data2/varun/HiTIPS_paper_data/fig_5/kpnb1/exp2/AssayPlate_PerkinElmer_CellCarrier-384 Ultra_F11_T0439F004L01A01Z01C01.tif\n",
      "/data2/varun/HiTIPS_paper_data/fig_5/kpnb1/exp2/AssayPlate_PerkinElmer_CellCarrier-384 Ultra_F11_T0439F006L01A01Z01C01.tif\n",
      "/data2/varun/HiTIPS_paper_data/fig_5/kpnb1/exp2/AssayPlate_PerkinElmer_CellCarrier-384 Ultra_F11_T0439F005L01A01Z01C01.tif\n",
      "/data2/varun/HiTIPS_paper_data/fig_5/kpnb1/exp2/AssayPlate_PerkinElmer_CellCarrier-384 Ultra_F11_T0439F003L01A01Z01C01.tif\n",
      "/data2/varun/HiTIPS_paper_data/fig_5/kpnb1/exp2/AssayPlate_PerkinElmer_CellCarrier-384 Ultra_F11_T0439F008L01A01Z01C01.tif\n",
      "/data2/varun/HiTIPS_paper_data/fig_5/kpnb1/exp2/AssayPlate_PerkinElmer_CellCarrier-384 Ultra_F11_T0440F001L01A01Z01C01.tif\n",
      "/data2/varun/HiTIPS_paper_data/fig_5/kpnb1/exp2/AssayPlate_PerkinElmer_CellCarrier-384 Ultra_F11_T0439F009L01A01Z01C01.tif\n",
      "/data2/varun/HiTIPS_paper_data/fig_5/kpnb1/exp2/AssayPlate_PerkinElmer_CellCarrier-384 Ultra_F11_T0439F007L01A01Z01C01.tif\n",
      "/data2/varun/HiTIPS_paper_data/fig_5/kpnb1/exp2/AssayPlate_PerkinElmer_CellCarrier-384 Ultra_F11_T0440F003L01A01Z01C01.tif\n",
      "/data2/varun/HiTIPS_paper_data/fig_5/kpnb1/exp2/AssayPlate_PerkinElmer_CellCarrier-384 Ultra_F11_T0440F005L01A01Z01C01.tif\n",
      "/data2/varun/HiTIPS_paper_data/fig_5/kpnb1/exp2/AssayPlate_PerkinElmer_CellCarrier-384 Ultra_F11_T0440F004L01A01Z01C01.tif\n",
      "/data2/varun/HiTIPS_paper_data/fig_5/kpnb1/exp2/AssayPlate_PerkinElmer_CellCarrier-384 Ultra_F11_T0440F002L01A01Z01C01.tif\n",
      "/data2/varun/HiTIPS_paper_data/fig_5/kpnb1/exp2/AssayPlate_PerkinElmer_CellCarrier-384 Ultra_F11_T0440F009L01A01Z01C01.tif\n",
      "/data2/varun/HiTIPS_paper_data/fig_5/kpnb1/exp2/AssayPlate_PerkinElmer_CellCarrier-384 Ultra_F11_T0440F007L01A01Z01C01.tif\n",
      "/data2/varun/HiTIPS_paper_data/fig_5/kpnb1/exp2/AssayPlate_PerkinElmer_CellCarrier-384 Ultra_F11_T0440F006L01A01Z01C01.tif\n",
      "/data2/varun/HiTIPS_paper_data/fig_5/kpnb1/exp2/AssayPlate_PerkinElmer_CellCarrier-384 Ultra_F11_T0440F008L01A01Z01C01.tif\n",
      "/data2/varun/HiTIPS_paper_data/fig_5/kpnb1/exp2/AssayPlate_PerkinElmer_CellCarrier-384 Ultra_F11_T0441F003L01A01Z01C01.tif\n",
      "/data2/varun/HiTIPS_paper_data/fig_5/kpnb1/exp2/AssayPlate_PerkinElmer_CellCarrier-384 Ultra_F11_T0441F002L01A01Z01C01.tif\n",
      "/data2/varun/HiTIPS_paper_data/fig_5/kpnb1/exp2/AssayPlate_PerkinElmer_CellCarrier-384 Ultra_F11_T0441F004L01A01Z01C01.tif\n",
      "/data2/varun/HiTIPS_paper_data/fig_5/kpnb1/exp2/AssayPlate_PerkinElmer_CellCarrier-384 Ultra_F11_T0441F001L01A01Z01C01.tif\n",
      "/data2/varun/HiTIPS_paper_data/fig_5/kpnb1/exp2/AssayPlate_PerkinElmer_CellCarrier-384 Ultra_F11_T0441F006L01A01Z01C01.tif\n",
      "/data2/varun/HiTIPS_paper_data/fig_5/kpnb1/exp2/AssayPlate_PerkinElmer_CellCarrier-384 Ultra_F11_T0441F008L01A01Z01C01.tif\n",
      "/data2/varun/HiTIPS_paper_data/fig_5/kpnb1/exp2/AssayPlate_PerkinElmer_CellCarrier-384 Ultra_F11_T0441F005L01A01Z01C01.tif\n",
      "/data2/varun/HiTIPS_paper_data/fig_5/kpnb1/exp2/AssayPlate_PerkinElmer_CellCarrier-384 Ultra_F11_T0441F007L01A01Z01C01.tif\n",
      "/data2/varun/HiTIPS_paper_data/fig_5/kpnb1/exp2/AssayPlate_PerkinElmer_CellCarrier-384 Ultra_F11_T0441F009L01A01Z01C01.tif\n",
      "/data2/varun/HiTIPS_paper_data/fig_5/kpnb1/exp2/AssayPlate_PerkinElmer_CellCarrier-384 Ultra_F11_T0442F001L01A01Z01C01.tif\n",
      "/data2/varun/HiTIPS_paper_data/fig_5/kpnb1/exp2/AssayPlate_PerkinElmer_CellCarrier-384 Ultra_F11_T0442F003L01A01Z01C01.tif\n",
      "/data2/varun/HiTIPS_paper_data/fig_5/kpnb1/exp2/AssayPlate_PerkinElmer_CellCarrier-384 Ultra_F11_T0442F002L01A01Z01C01.tif\n",
      "/data2/varun/HiTIPS_paper_data/fig_5/kpnb1/exp2/AssayPlate_PerkinElmer_CellCarrier-384 Ultra_F11_T0442F005L01A01Z01C01.tif\n",
      "/data2/varun/HiTIPS_paper_data/fig_5/kpnb1/exp2/AssayPlate_PerkinElmer_CellCarrier-384 Ultra_F11_T0442F007L01A01Z01C01.tif\n",
      "/data2/varun/HiTIPS_paper_data/fig_5/kpnb1/exp2/AssayPlate_PerkinElmer_CellCarrier-384 Ultra_F11_T0442F006L01A01Z01C01.tif\n",
      "/data2/varun/HiTIPS_paper_data/fig_5/kpnb1/exp2/AssayPlate_PerkinElmer_CellCarrier-384 Ultra_F11_T0442F004L01A01Z01C01.tif\n",
      "/data2/varun/HiTIPS_paper_data/fig_5/kpnb1/exp2/AssayPlate_PerkinElmer_CellCarrier-384 Ultra_F11_T0442F009L01A01Z01C01.tif\n",
      "/data2/varun/HiTIPS_paper_data/fig_5/kpnb1/exp2/AssayPlate_PerkinElmer_CellCarrier-384 Ultra_F11_T0442F008L01A01Z01C01.tif\n",
      "/data2/varun/HiTIPS_paper_data/fig_5/kpnb1/exp2/AssayPlate_PerkinElmer_CellCarrier-384 Ultra_F11_T0443F001L01A01Z01C01.tif\n",
      "/data2/varun/HiTIPS_paper_data/fig_5/kpnb1/exp2/AssayPlate_PerkinElmer_CellCarrier-384 Ultra_F11_T0443F002L01A01Z01C01.tif\n",
      "/data2/varun/HiTIPS_paper_data/fig_5/kpnb1/exp2/AssayPlate_PerkinElmer_CellCarrier-384 Ultra_F11_T0443F003L01A01Z01C01.tif\n",
      "/data2/varun/HiTIPS_paper_data/fig_5/kpnb1/exp2/AssayPlate_PerkinElmer_CellCarrier-384 Ultra_F11_T0443F005L01A01Z01C01.tif\n",
      "/data2/varun/HiTIPS_paper_data/fig_5/kpnb1/exp2/AssayPlate_PerkinElmer_CellCarrier-384 Ultra_F11_T0443F004L01A01Z01C01.tif\n",
      "/data2/varun/HiTIPS_paper_data/fig_5/kpnb1/exp2/AssayPlate_PerkinElmer_CellCarrier-384 Ultra_F11_T0443F006L01A01Z01C01.tif\n",
      "/data2/varun/HiTIPS_paper_data/fig_5/kpnb1/exp2/AssayPlate_PerkinElmer_CellCarrier-384 Ultra_F11_T0443F008L01A01Z01C01.tif\n",
      "/data2/varun/HiTIPS_paper_data/fig_5/kpnb1/exp2/AssayPlate_PerkinElmer_CellCarrier-384 Ultra_F11_T0444F001L01A01Z01C01.tif\n",
      "/data2/varun/HiTIPS_paper_data/fig_5/kpnb1/exp2/AssayPlate_PerkinElmer_CellCarrier-384 Ultra_F11_T0443F009L01A01Z01C01.tif\n",
      "/data2/varun/HiTIPS_paper_data/fig_5/kpnb1/exp2/AssayPlate_PerkinElmer_CellCarrier-384 Ultra_F11_T0443F007L01A01Z01C01.tif\n",
      "/data2/varun/HiTIPS_paper_data/fig_5/kpnb1/exp2/AssayPlate_PerkinElmer_CellCarrier-384 Ultra_F11_T0444F003L01A01Z01C01.tif\n",
      "/data2/varun/HiTIPS_paper_data/fig_5/kpnb1/exp2/AssayPlate_PerkinElmer_CellCarrier-384 Ultra_F11_T0444F005L01A01Z01C01.tif\n",
      "/data2/varun/HiTIPS_paper_data/fig_5/kpnb1/exp2/AssayPlate_PerkinElmer_CellCarrier-384 Ultra_F11_T0444F002L01A01Z01C01.tif\n",
      "/data2/varun/HiTIPS_paper_data/fig_5/kpnb1/exp2/AssayPlate_PerkinElmer_CellCarrier-384 Ultra_F11_T0444F004L01A01Z01C01.tif\n",
      "/data2/varun/HiTIPS_paper_data/fig_5/kpnb1/exp2/AssayPlate_PerkinElmer_CellCarrier-384 Ultra_F11_T0444F006L01A01Z01C01.tif\n",
      "/data2/varun/HiTIPS_paper_data/fig_5/kpnb1/exp2/AssayPlate_PerkinElmer_CellCarrier-384 Ultra_F11_T0444F008L01A01Z01C01.tif\n",
      "/data2/varun/HiTIPS_paper_data/fig_5/kpnb1/exp2/AssayPlate_PerkinElmer_CellCarrier-384 Ultra_F11_T0444F009L01A01Z01C01.tif\n",
      "/data2/varun/HiTIPS_paper_data/fig_5/kpnb1/exp2/AssayPlate_PerkinElmer_CellCarrier-384 Ultra_F11_T0444F007L01A01Z01C01.tif\n",
      "/data2/varun/HiTIPS_paper_data/fig_5/kpnb1/exp2/AssayPlate_PerkinElmer_CellCarrier-384 Ultra_F11_T0445F003L01A01Z01C01.tif\n",
      "/data2/varun/HiTIPS_paper_data/fig_5/kpnb1/exp2/AssayPlate_PerkinElmer_CellCarrier-384 Ultra_F11_T0445F002L01A01Z01C01.tif\n",
      "/data2/varun/HiTIPS_paper_data/fig_5/kpnb1/exp2/AssayPlate_PerkinElmer_CellCarrier-384 Ultra_F11_T0445F001L01A01Z01C01.tif\n",
      "/data2/varun/HiTIPS_paper_data/fig_5/kpnb1/exp2/AssayPlate_PerkinElmer_CellCarrier-384 Ultra_F11_T0445F004L01A01Z01C01.tif\n",
      "/data2/varun/HiTIPS_paper_data/fig_5/kpnb1/exp2/AssayPlate_PerkinElmer_CellCarrier-384 Ultra_F11_T0445F008L01A01Z01C01.tif\n",
      "/data2/varun/HiTIPS_paper_data/fig_5/kpnb1/exp2/AssayPlate_PerkinElmer_CellCarrier-384 Ultra_F11_T0445F006L01A01Z01C01.tif\n",
      "/data2/varun/HiTIPS_paper_data/fig_5/kpnb1/exp2/AssayPlate_PerkinElmer_CellCarrier-384 Ultra_F11_T0445F007L01A01Z01C01.tif\n",
      "/data2/varun/HiTIPS_paper_data/fig_5/kpnb1/exp2/AssayPlate_PerkinElmer_CellCarrier-384 Ultra_F11_T0445F005L01A01Z01C01.tif\n",
      "/data2/varun/HiTIPS_paper_data/fig_5/kpnb1/exp2/AssayPlate_PerkinElmer_CellCarrier-384 Ultra_F11_T0446F001L01A01Z01C01.tif\n",
      "/data2/varun/HiTIPS_paper_data/fig_5/kpnb1/exp2/AssayPlate_PerkinElmer_CellCarrier-384 Ultra_F11_T0445F009L01A01Z01C01.tif\n",
      "/data2/varun/HiTIPS_paper_data/fig_5/kpnb1/exp2/AssayPlate_PerkinElmer_CellCarrier-384 Ultra_F11_T0446F003L01A01Z01C01.tif\n",
      "/data2/varun/HiTIPS_paper_data/fig_5/kpnb1/exp2/AssayPlate_PerkinElmer_CellCarrier-384 Ultra_F11_T0446F002L01A01Z01C01.tif\n",
      "/data2/varun/HiTIPS_paper_data/fig_5/kpnb1/exp2/AssayPlate_PerkinElmer_CellCarrier-384 Ultra_F11_T0446F005L01A01Z01C01.tif\n",
      "/data2/varun/HiTIPS_paper_data/fig_5/kpnb1/exp2/AssayPlate_PerkinElmer_CellCarrier-384 Ultra_F11_T0446F004L01A01Z01C01.tif\n",
      "/data2/varun/HiTIPS_paper_data/fig_5/kpnb1/exp2/AssayPlate_PerkinElmer_CellCarrier-384 Ultra_F11_T0446F006L01A01Z01C01.tif\n",
      "/data2/varun/HiTIPS_paper_data/fig_5/kpnb1/exp2/AssayPlate_PerkinElmer_CellCarrier-384 Ultra_F11_T0446F007L01A01Z01C01.tif\n",
      "/data2/varun/HiTIPS_paper_data/fig_5/kpnb1/exp2/AssayPlate_PerkinElmer_CellCarrier-384 Ultra_F11_T0446F009L01A01Z01C01.tif\n",
      "/data2/varun/HiTIPS_paper_data/fig_5/kpnb1/exp2/AssayPlate_PerkinElmer_CellCarrier-384 Ultra_F11_T0447F002L01A01Z01C01.tif\n",
      "/data2/varun/HiTIPS_paper_data/fig_5/kpnb1/exp2/AssayPlate_PerkinElmer_CellCarrier-384 Ultra_F11_T0447F001L01A01Z01C01.tif\n",
      "/data2/varun/HiTIPS_paper_data/fig_5/kpnb1/exp2/AssayPlate_PerkinElmer_CellCarrier-384 Ultra_F11_T0446F008L01A01Z01C01.tif\n",
      "/data2/varun/HiTIPS_paper_data/fig_5/kpnb1/exp2/AssayPlate_PerkinElmer_CellCarrier-384 Ultra_F11_T0447F006L01A01Z01C01.tif\n",
      "/data2/varun/HiTIPS_paper_data/fig_5/kpnb1/exp2/AssayPlate_PerkinElmer_CellCarrier-384 Ultra_F11_T0447F003L01A01Z01C01.tif\n",
      "/data2/varun/HiTIPS_paper_data/fig_5/kpnb1/exp2/AssayPlate_PerkinElmer_CellCarrier-384 Ultra_F11_T0447F004L01A01Z01C01.tif\n",
      "/data2/varun/HiTIPS_paper_data/fig_5/kpnb1/exp2/AssayPlate_PerkinElmer_CellCarrier-384 Ultra_F11_T0447F005L01A01Z01C01.tif\n",
      "/data2/varun/HiTIPS_paper_data/fig_5/kpnb1/exp2/AssayPlate_PerkinElmer_CellCarrier-384 Ultra_F11_T0447F008L01A01Z01C01.tif\n",
      "/data2/varun/HiTIPS_paper_data/fig_5/kpnb1/exp2/AssayPlate_PerkinElmer_CellCarrier-384 Ultra_F11_T0447F009L01A01Z01C01.tif\n",
      "/data2/varun/HiTIPS_paper_data/fig_5/kpnb1/exp2/AssayPlate_PerkinElmer_CellCarrier-384 Ultra_F11_T0447F007L01A01Z01C01.tif\n",
      "/data2/varun/HiTIPS_paper_data/fig_5/kpnb1/exp2/AssayPlate_PerkinElmer_CellCarrier-384 Ultra_F11_T0448F001L01A01Z01C01.tif\n",
      "/data2/varun/HiTIPS_paper_data/fig_5/kpnb1/exp2/AssayPlate_PerkinElmer_CellCarrier-384 Ultra_F11_T0448F003L01A01Z01C01.tif\n",
      "/data2/varun/HiTIPS_paper_data/fig_5/kpnb1/exp2/AssayPlate_PerkinElmer_CellCarrier-384 Ultra_F11_T0448F004L01A01Z01C01.tif\n",
      "/data2/varun/HiTIPS_paper_data/fig_5/kpnb1/exp2/AssayPlate_PerkinElmer_CellCarrier-384 Ultra_F11_T0448F005L01A01Z01C01.tif\n",
      "/data2/varun/HiTIPS_paper_data/fig_5/kpnb1/exp2/AssayPlate_PerkinElmer_CellCarrier-384 Ultra_F11_T0448F002L01A01Z01C01.tif\n",
      "/data2/varun/HiTIPS_paper_data/fig_5/kpnb1/exp2/AssayPlate_PerkinElmer_CellCarrier-384 Ultra_F11_T0448F006L01A01Z01C01.tif\n",
      "/data2/varun/HiTIPS_paper_data/fig_5/kpnb1/exp2/AssayPlate_PerkinElmer_CellCarrier-384 Ultra_F11_T0448F007L01A01Z01C01.tif\n",
      "/data2/varun/HiTIPS_paper_data/fig_5/kpnb1/exp2/AssayPlate_PerkinElmer_CellCarrier-384 Ultra_F11_T0448F008L01A01Z01C01.tif\n",
      "/data2/varun/HiTIPS_paper_data/fig_5/kpnb1/exp2/AssayPlate_PerkinElmer_CellCarrier-384 Ultra_F11_T0448F009L01A01Z01C01.tif\n",
      "/data2/varun/HiTIPS_paper_data/fig_5/kpnb1/exp2/AssayPlate_PerkinElmer_CellCarrier-384 Ultra_F11_T0449F002L01A01Z01C01.tif\n",
      "/data2/varun/HiTIPS_paper_data/fig_5/kpnb1/exp2/AssayPlate_PerkinElmer_CellCarrier-384 Ultra_F11_T0449F001L01A01Z01C01.tif\n",
      "/data2/varun/HiTIPS_paper_data/fig_5/kpnb1/exp2/AssayPlate_PerkinElmer_CellCarrier-384 Ultra_F11_T0449F003L01A01Z01C01.tif\n",
      "/data2/varun/HiTIPS_paper_data/fig_5/kpnb1/exp2/AssayPlate_PerkinElmer_CellCarrier-384 Ultra_F11_T0449F004L01A01Z01C01.tif\n",
      "/data2/varun/HiTIPS_paper_data/fig_5/kpnb1/exp2/AssayPlate_PerkinElmer_CellCarrier-384 Ultra_F11_T0449F006L01A01Z01C01.tif\n",
      "/data2/varun/HiTIPS_paper_data/fig_5/kpnb1/exp2/AssayPlate_PerkinElmer_CellCarrier-384 Ultra_F11_T0449F005L01A01Z01C01.tif\n",
      "/data2/varun/HiTIPS_paper_data/fig_5/kpnb1/exp2/AssayPlate_PerkinElmer_CellCarrier-384 Ultra_F11_T0449F008L01A01Z01C01.tif\n",
      "/data2/varun/HiTIPS_paper_data/fig_5/kpnb1/exp2/AssayPlate_PerkinElmer_CellCarrier-384 Ultra_F11_T0449F007L01A01Z01C01.tif\n",
      "/data2/varun/HiTIPS_paper_data/fig_5/kpnb1/exp2/AssayPlate_PerkinElmer_CellCarrier-384 Ultra_F11_T0450F001L01A01Z01C01.tif\n",
      "/data2/varun/HiTIPS_paper_data/fig_5/kpnb1/exp2/AssayPlate_PerkinElmer_CellCarrier-384 Ultra_F11_T0450F002L01A01Z01C01.tif\n",
      "/data2/varun/HiTIPS_paper_data/fig_5/kpnb1/exp2/AssayPlate_PerkinElmer_CellCarrier-384 Ultra_F11_T0449F009L01A01Z01C01.tif\n",
      "/data2/varun/HiTIPS_paper_data/fig_5/kpnb1/exp2/AssayPlate_PerkinElmer_CellCarrier-384 Ultra_F11_T0450F003L01A01Z01C01.tif\n",
      "/data2/varun/HiTIPS_paper_data/fig_5/kpnb1/exp2/AssayPlate_PerkinElmer_CellCarrier-384 Ultra_F11_T0450F005L01A01Z01C01.tif\n",
      "/data2/varun/HiTIPS_paper_data/fig_5/kpnb1/exp2/AssayPlate_PerkinElmer_CellCarrier-384 Ultra_F11_T0450F007L01A01Z01C01.tif\n",
      "/data2/varun/HiTIPS_paper_data/fig_5/kpnb1/exp2/AssayPlate_PerkinElmer_CellCarrier-384 Ultra_F11_T0450F006L01A01Z01C01.tif\n",
      "/data2/varun/HiTIPS_paper_data/fig_5/kpnb1/exp2/AssayPlate_PerkinElmer_CellCarrier-384 Ultra_F11_T0450F004L01A01Z01C01.tif\n",
      "/data2/varun/HiTIPS_paper_data/fig_5/kpnb1/exp2/AssayPlate_PerkinElmer_CellCarrier-384 Ultra_F11_T0450F009L01A01Z01C01.tif\n",
      "/data2/varun/HiTIPS_paper_data/fig_5/kpnb1/exp2/AssayPlate_PerkinElmer_CellCarrier-384 Ultra_F11_T0450F008L01A01Z01C01.tif\n",
      "/data2/varun/HiTIPS_paper_data/fig_5/kpnb1/exp2/AssayPlate_PerkinElmer_CellCarrier-384 Ultra_F11_T0451F002L01A01Z01C01.tif\n",
      "/data2/varun/HiTIPS_paper_data/fig_5/kpnb1/exp2/AssayPlate_PerkinElmer_CellCarrier-384 Ultra_F11_T0451F001L01A01Z01C01.tif\n",
      "/data2/varun/HiTIPS_paper_data/fig_5/kpnb1/exp2/AssayPlate_PerkinElmer_CellCarrier-384 Ultra_F11_T0451F004L01A01Z01C01.tif\n",
      "/data2/varun/HiTIPS_paper_data/fig_5/kpnb1/exp2/AssayPlate_PerkinElmer_CellCarrier-384 Ultra_F11_T0451F003L01A01Z01C01.tif\n",
      "/data2/varun/HiTIPS_paper_data/fig_5/kpnb1/exp2/AssayPlate_PerkinElmer_CellCarrier-384 Ultra_F11_T0451F005L01A01Z01C01.tif\n",
      "/data2/varun/HiTIPS_paper_data/fig_5/kpnb1/exp2/AssayPlate_PerkinElmer_CellCarrier-384 Ultra_F11_T0451F006L01A01Z01C01.tif\n",
      "/data2/varun/HiTIPS_paper_data/fig_5/kpnb1/exp2/AssayPlate_PerkinElmer_CellCarrier-384 Ultra_F11_T0451F008L01A01Z01C01.tif\n",
      "/data2/varun/HiTIPS_paper_data/fig_5/kpnb1/exp2/AssayPlate_PerkinElmer_CellCarrier-384 Ultra_F11_T0451F007L01A01Z01C01.tif\n",
      "/data2/varun/HiTIPS_paper_data/fig_5/kpnb1/exp2/AssayPlate_PerkinElmer_CellCarrier-384 Ultra_F11_T0451F009L01A01Z01C01.tif\n",
      "/data2/varun/HiTIPS_paper_data/fig_5/kpnb1/exp2/AssayPlate_PerkinElmer_CellCarrier-384 Ultra_F11_T0452F001L01A01Z01C01.tif\n",
      "/data2/varun/HiTIPS_paper_data/fig_5/kpnb1/exp2/AssayPlate_PerkinElmer_CellCarrier-384 Ultra_F11_T0452F003L01A01Z01C01.tif\n",
      "/data2/varun/HiTIPS_paper_data/fig_5/kpnb1/exp2/AssayPlate_PerkinElmer_CellCarrier-384 Ultra_F11_T0452F002L01A01Z01C01.tif\n",
      "/data2/varun/HiTIPS_paper_data/fig_5/kpnb1/exp2/AssayPlate_PerkinElmer_CellCarrier-384 Ultra_F11_T0452F005L01A01Z01C01.tif\n",
      "/data2/varun/HiTIPS_paper_data/fig_5/kpnb1/exp2/AssayPlate_PerkinElmer_CellCarrier-384 Ultra_F11_T0452F004L01A01Z01C01.tif\n",
      "/data2/varun/HiTIPS_paper_data/fig_5/kpnb1/exp2/AssayPlate_PerkinElmer_CellCarrier-384 Ultra_F11_T0452F007L01A01Z01C01.tif\n",
      "/data2/varun/HiTIPS_paper_data/fig_5/kpnb1/exp2/AssayPlate_PerkinElmer_CellCarrier-384 Ultra_F11_T0452F008L01A01Z01C01.tif\n",
      "/data2/varun/HiTIPS_paper_data/fig_5/kpnb1/exp2/AssayPlate_PerkinElmer_CellCarrier-384 Ultra_F11_T0452F009L01A01Z01C01.tif\n",
      "/data2/varun/HiTIPS_paper_data/fig_5/kpnb1/exp2/AssayPlate_PerkinElmer_CellCarrier-384 Ultra_F11_T0452F006L01A01Z01C01.tif\n",
      "/data2/varun/HiTIPS_paper_data/fig_5/kpnb1/exp2/AssayPlate_PerkinElmer_CellCarrier-384 Ultra_F11_T0453F003L01A01Z01C01.tif\n",
      "/data2/varun/HiTIPS_paper_data/fig_5/kpnb1/exp2/AssayPlate_PerkinElmer_CellCarrier-384 Ultra_F11_T0453F002L01A01Z01C01.tif\n",
      "/data2/varun/HiTIPS_paper_data/fig_5/kpnb1/exp2/AssayPlate_PerkinElmer_CellCarrier-384 Ultra_F11_T0453F004L01A01Z01C01.tif\n",
      "/data2/varun/HiTIPS_paper_data/fig_5/kpnb1/exp2/AssayPlate_PerkinElmer_CellCarrier-384 Ultra_F11_T0453F001L01A01Z01C01.tif\n",
      "/data2/varun/HiTIPS_paper_data/fig_5/kpnb1/exp2/AssayPlate_PerkinElmer_CellCarrier-384 Ultra_F11_T0453F006L01A01Z01C01.tif\n",
      "/data2/varun/HiTIPS_paper_data/fig_5/kpnb1/exp2/AssayPlate_PerkinElmer_CellCarrier-384 Ultra_F11_T0453F005L01A01Z01C01.tif\n",
      "/data2/varun/HiTIPS_paper_data/fig_5/kpnb1/exp2/AssayPlate_PerkinElmer_CellCarrier-384 Ultra_F11_T0453F008L01A01Z01C01.tif\n",
      "/data2/varun/HiTIPS_paper_data/fig_5/kpnb1/exp2/AssayPlate_PerkinElmer_CellCarrier-384 Ultra_F11_T0453F007L01A01Z01C01.tif\n",
      "/data2/varun/HiTIPS_paper_data/fig_5/kpnb1/exp2/AssayPlate_PerkinElmer_CellCarrier-384 Ultra_F11_T0454F001L01A01Z01C01.tif\n",
      "/data2/varun/HiTIPS_paper_data/fig_5/kpnb1/exp2/AssayPlate_PerkinElmer_CellCarrier-384 Ultra_F11_T0453F009L01A01Z01C01.tif\n",
      "/data2/varun/HiTIPS_paper_data/fig_5/kpnb1/exp2/AssayPlate_PerkinElmer_CellCarrier-384 Ultra_F11_T0454F002L01A01Z01C01.tif\n",
      "/data2/varun/HiTIPS_paper_data/fig_5/kpnb1/exp2/AssayPlate_PerkinElmer_CellCarrier-384 Ultra_F11_T0454F003L01A01Z01C01.tif\n",
      "/data2/varun/HiTIPS_paper_data/fig_5/kpnb1/exp2/AssayPlate_PerkinElmer_CellCarrier-384 Ultra_F11_T0454F004L01A01Z01C01.tif\n",
      "/data2/varun/HiTIPS_paper_data/fig_5/kpnb1/exp2/AssayPlate_PerkinElmer_CellCarrier-384 Ultra_F11_T0454F005L01A01Z01C01.tif\n",
      "/data2/varun/HiTIPS_paper_data/fig_5/kpnb1/exp2/AssayPlate_PerkinElmer_CellCarrier-384 Ultra_F11_T0454F007L01A01Z01C01.tif\n",
      "/data2/varun/HiTIPS_paper_data/fig_5/kpnb1/exp2/AssayPlate_PerkinElmer_CellCarrier-384 Ultra_F11_T0454F006L01A01Z01C01.tif\n",
      "/data2/varun/HiTIPS_paper_data/fig_5/kpnb1/exp2/AssayPlate_PerkinElmer_CellCarrier-384 Ultra_F11_T0454F009L01A01Z01C01.tif\n",
      "/data2/varun/HiTIPS_paper_data/fig_5/kpnb1/exp2/AssayPlate_PerkinElmer_CellCarrier-384 Ultra_F11_T0455F002L01A01Z01C01.tif\n",
      "/data2/varun/HiTIPS_paper_data/fig_5/kpnb1/exp2/AssayPlate_PerkinElmer_CellCarrier-384 Ultra_F11_T0455F001L01A01Z01C01.tif\n",
      "/data2/varun/HiTIPS_paper_data/fig_5/kpnb1/exp2/AssayPlate_PerkinElmer_CellCarrier-384 Ultra_F11_T0454F008L01A01Z01C01.tif\n",
      "/data2/varun/HiTIPS_paper_data/fig_5/kpnb1/exp2/AssayPlate_PerkinElmer_CellCarrier-384 Ultra_F11_T0455F004L01A01Z01C01.tif\n",
      "/data2/varun/HiTIPS_paper_data/fig_5/kpnb1/exp2/AssayPlate_PerkinElmer_CellCarrier-384 Ultra_F11_T0455F006L01A01Z01C01.tif\n",
      "/data2/varun/HiTIPS_paper_data/fig_5/kpnb1/exp2/AssayPlate_PerkinElmer_CellCarrier-384 Ultra_F11_T0455F005L01A01Z01C01.tif\n",
      "/data2/varun/HiTIPS_paper_data/fig_5/kpnb1/exp2/AssayPlate_PerkinElmer_CellCarrier-384 Ultra_F11_T0455F003L01A01Z01C01.tif\n",
      "/data2/varun/HiTIPS_paper_data/fig_5/kpnb1/exp2/AssayPlate_PerkinElmer_CellCarrier-384 Ultra_F11_T0455F009L01A01Z01C01.tif\n",
      "/data2/varun/HiTIPS_paper_data/fig_5/kpnb1/exp2/AssayPlate_PerkinElmer_CellCarrier-384 Ultra_F11_T0456F001L01A01Z01C01.tif\n",
      "/data2/varun/HiTIPS_paper_data/fig_5/kpnb1/exp2/AssayPlate_PerkinElmer_CellCarrier-384 Ultra_F11_T0455F008L01A01Z01C01.tif\n",
      "/data2/varun/HiTIPS_paper_data/fig_5/kpnb1/exp2/AssayPlate_PerkinElmer_CellCarrier-384 Ultra_F11_T0455F007L01A01Z01C01.tif\n",
      "/data2/varun/HiTIPS_paper_data/fig_5/kpnb1/exp2/AssayPlate_PerkinElmer_CellCarrier-384 Ultra_F11_T0456F003L01A01Z01C01.tif\n",
      "/data2/varun/HiTIPS_paper_data/fig_5/kpnb1/exp2/AssayPlate_PerkinElmer_CellCarrier-384 Ultra_F11_T0456F004L01A01Z01C01.tif\n",
      "/data2/varun/HiTIPS_paper_data/fig_5/kpnb1/exp2/AssayPlate_PerkinElmer_CellCarrier-384 Ultra_F11_T0456F002L01A01Z01C01.tif\n",
      "/data2/varun/HiTIPS_paper_data/fig_5/kpnb1/exp2/AssayPlate_PerkinElmer_CellCarrier-384 Ultra_F11_T0456F005L01A01Z01C01.tif\n",
      "/data2/varun/HiTIPS_paper_data/fig_5/kpnb1/exp2/AssayPlate_PerkinElmer_CellCarrier-384 Ultra_F11_T0456F007L01A01Z01C01.tif\n",
      "/data2/varun/HiTIPS_paper_data/fig_5/kpnb1/exp2/AssayPlate_PerkinElmer_CellCarrier-384 Ultra_F11_T0456F006L01A01Z01C01.tif\n",
      "/data2/varun/HiTIPS_paper_data/fig_5/kpnb1/exp2/AssayPlate_PerkinElmer_CellCarrier-384 Ultra_F11_T0456F008L01A01Z01C01.tif\n",
      "/data2/varun/HiTIPS_paper_data/fig_5/kpnb1/exp2/AssayPlate_PerkinElmer_CellCarrier-384 Ultra_F11_T0456F009L01A01Z01C01.tif\n",
      "/data2/varun/HiTIPS_paper_data/fig_5/kpnb1/exp2/AssayPlate_PerkinElmer_CellCarrier-384 Ultra_F11_T0457F004L01A01Z01C01.tif\n",
      "/data2/varun/HiTIPS_paper_data/fig_5/kpnb1/exp2/AssayPlate_PerkinElmer_CellCarrier-384 Ultra_F11_T0457F003L01A01Z01C01.tif\n",
      "/data2/varun/HiTIPS_paper_data/fig_5/kpnb1/exp2/AssayPlate_PerkinElmer_CellCarrier-384 Ultra_F11_T0457F001L01A01Z01C01.tif\n",
      "/data2/varun/HiTIPS_paper_data/fig_5/kpnb1/exp2/AssayPlate_PerkinElmer_CellCarrier-384 Ultra_F11_T0457F002L01A01Z01C01.tif\n",
      "/data2/varun/HiTIPS_paper_data/fig_5/kpnb1/exp2/AssayPlate_PerkinElmer_CellCarrier-384 Ultra_F11_T0457F006L01A01Z01C01.tif\n",
      "/data2/varun/HiTIPS_paper_data/fig_5/kpnb1/exp2/AssayPlate_PerkinElmer_CellCarrier-384 Ultra_F11_T0457F008L01A01Z01C01.tif\n",
      "/data2/varun/HiTIPS_paper_data/fig_5/kpnb1/exp2/AssayPlate_PerkinElmer_CellCarrier-384 Ultra_F11_T0457F007L01A01Z01C01.tif\n",
      "/data2/varun/HiTIPS_paper_data/fig_5/kpnb1/exp2/AssayPlate_PerkinElmer_CellCarrier-384 Ultra_F11_T0457F005L01A01Z01C01.tif\n",
      "/data2/varun/HiTIPS_paper_data/fig_5/kpnb1/exp2/AssayPlate_PerkinElmer_CellCarrier-384 Ultra_F11_T0458F001L01A01Z01C01.tif\n",
      "/data2/varun/HiTIPS_paper_data/fig_5/kpnb1/exp2/AssayPlate_PerkinElmer_CellCarrier-384 Ultra_F11_T0458F003L01A01Z01C01.tif\n",
      "/data2/varun/HiTIPS_paper_data/fig_5/kpnb1/exp2/AssayPlate_PerkinElmer_CellCarrier-384 Ultra_F11_T0457F009L01A01Z01C01.tif\n",
      "/data2/varun/HiTIPS_paper_data/fig_5/kpnb1/exp2/AssayPlate_PerkinElmer_CellCarrier-384 Ultra_F11_T0458F002L01A01Z01C01.tif\n",
      "/data2/varun/HiTIPS_paper_data/fig_5/kpnb1/exp2/AssayPlate_PerkinElmer_CellCarrier-384 Ultra_F11_T0458F005L01A01Z01C01.tif\n",
      "/data2/varun/HiTIPS_paper_data/fig_5/kpnb1/exp2/AssayPlate_PerkinElmer_CellCarrier-384 Ultra_F11_T0458F007L01A01Z01C01.tif\n",
      "/data2/varun/HiTIPS_paper_data/fig_5/kpnb1/exp2/AssayPlate_PerkinElmer_CellCarrier-384 Ultra_F11_T0458F004L01A01Z01C01.tif\n",
      "/data2/varun/HiTIPS_paper_data/fig_5/kpnb1/exp2/AssayPlate_PerkinElmer_CellCarrier-384 Ultra_F11_T0458F006L01A01Z01C01.tif\n",
      "/data2/varun/HiTIPS_paper_data/fig_5/kpnb1/exp2/AssayPlate_PerkinElmer_CellCarrier-384 Ultra_F11_T0458F009L01A01Z01C01.tif\n",
      "/data2/varun/HiTIPS_paper_data/fig_5/kpnb1/exp2/AssayPlate_PerkinElmer_CellCarrier-384 Ultra_F11_T0459F001L01A01Z01C01.tif\n",
      "/data2/varun/HiTIPS_paper_data/fig_5/kpnb1/exp2/AssayPlate_PerkinElmer_CellCarrier-384 Ultra_F11_T0459F002L01A01Z01C01.tif\n",
      "/data2/varun/HiTIPS_paper_data/fig_5/kpnb1/exp2/AssayPlate_PerkinElmer_CellCarrier-384 Ultra_F11_T0458F008L01A01Z01C01.tif\n",
      "/data2/varun/HiTIPS_paper_data/fig_5/kpnb1/exp2/AssayPlate_PerkinElmer_CellCarrier-384 Ultra_F11_T0459F004L01A01Z01C01.tif\n",
      "/data2/varun/HiTIPS_paper_data/fig_5/kpnb1/exp2/AssayPlate_PerkinElmer_CellCarrier-384 Ultra_F11_T0459F005L01A01Z01C01.tif\n",
      "/data2/varun/HiTIPS_paper_data/fig_5/kpnb1/exp2/AssayPlate_PerkinElmer_CellCarrier-384 Ultra_F11_T0459F003L01A01Z01C01.tif\n",
      "/data2/varun/HiTIPS_paper_data/fig_5/kpnb1/exp2/AssayPlate_PerkinElmer_CellCarrier-384 Ultra_F11_T0459F006L01A01Z01C01.tif\n",
      "/data2/varun/HiTIPS_paper_data/fig_5/kpnb1/exp2/AssayPlate_PerkinElmer_CellCarrier-384 Ultra_F11_T0459F009L01A01Z01C01.tif\n",
      "/data2/varun/HiTIPS_paper_data/fig_5/kpnb1/exp2/AssayPlate_PerkinElmer_CellCarrier-384 Ultra_F11_T0459F008L01A01Z01C01.tif\n",
      "/data2/varun/HiTIPS_paper_data/fig_5/kpnb1/exp2/AssayPlate_PerkinElmer_CellCarrier-384 Ultra_F11_T0460F001L01A01Z01C01.tif\n",
      "/data2/varun/HiTIPS_paper_data/fig_5/kpnb1/exp2/AssayPlate_PerkinElmer_CellCarrier-384 Ultra_F11_T0459F007L01A01Z01C01.tif\n",
      "/data2/varun/HiTIPS_paper_data/fig_5/kpnb1/exp2/AssayPlate_PerkinElmer_CellCarrier-384 Ultra_F11_T0460F002L01A01Z01C01.tif\n",
      "/data2/varun/HiTIPS_paper_data/fig_5/kpnb1/exp2/AssayPlate_PerkinElmer_CellCarrier-384 Ultra_F11_T0460F004L01A01Z01C01.tif\n",
      "/data2/varun/HiTIPS_paper_data/fig_5/kpnb1/exp2/AssayPlate_PerkinElmer_CellCarrier-384 Ultra_F11_T0460F003L01A01Z01C01.tif\n",
      "/data2/varun/HiTIPS_paper_data/fig_5/kpnb1/exp2/AssayPlate_PerkinElmer_CellCarrier-384 Ultra_F11_T0460F005L01A01Z01C01.tif\n",
      "/data2/varun/HiTIPS_paper_data/fig_5/kpnb1/exp2/AssayPlate_PerkinElmer_CellCarrier-384 Ultra_F11_T0460F007L01A01Z01C01.tif\n",
      "/data2/varun/HiTIPS_paper_data/fig_5/kpnb1/exp2/AssayPlate_PerkinElmer_CellCarrier-384 Ultra_F11_T0460F006L01A01Z01C01.tif\n",
      "/data2/varun/HiTIPS_paper_data/fig_5/kpnb1/exp2/AssayPlate_PerkinElmer_CellCarrier-384 Ultra_F11_T0460F008L01A01Z01C01.tif\n",
      "/data2/varun/HiTIPS_paper_data/fig_5/kpnb1/exp2/AssayPlate_PerkinElmer_CellCarrier-384 Ultra_F11_T0460F009L01A01Z01C01.tif\n",
      "/data2/varun/HiTIPS_paper_data/fig_5/kpnb1/exp2/AssayPlate_PerkinElmer_CellCarrier-384 Ultra_F11_T0461F002L01A01Z01C01.tif\n",
      "/data2/varun/HiTIPS_paper_data/fig_5/kpnb1/exp2/AssayPlate_PerkinElmer_CellCarrier-384 Ultra_F11_T0461F001L01A01Z01C01.tif\n",
      "/data2/varun/HiTIPS_paper_data/fig_5/kpnb1/exp2/AssayPlate_PerkinElmer_CellCarrier-384 Ultra_F11_T0461F004L01A01Z01C01.tif\n",
      "/data2/varun/HiTIPS_paper_data/fig_5/kpnb1/exp2/AssayPlate_PerkinElmer_CellCarrier-384 Ultra_F11_T0461F003L01A01Z01C01.tif\n",
      "/data2/varun/HiTIPS_paper_data/fig_5/kpnb1/exp2/AssayPlate_PerkinElmer_CellCarrier-384 Ultra_F11_T0461F006L01A01Z01C01.tif\n",
      "/data2/varun/HiTIPS_paper_data/fig_5/kpnb1/exp2/AssayPlate_PerkinElmer_CellCarrier-384 Ultra_F11_T0461F007L01A01Z01C01.tif\n",
      "/data2/varun/HiTIPS_paper_data/fig_5/kpnb1/exp2/AssayPlate_PerkinElmer_CellCarrier-384 Ultra_F11_T0461F005L01A01Z01C01.tif\n",
      "/data2/varun/HiTIPS_paper_data/fig_5/kpnb1/exp2/AssayPlate_PerkinElmer_CellCarrier-384 Ultra_F11_T0461F008L01A01Z01C01.tif\n",
      "/data2/varun/HiTIPS_paper_data/fig_5/kpnb1/exp2/AssayPlate_PerkinElmer_CellCarrier-384 Ultra_F11_T0462F001L01A01Z01C01.tif\n",
      "/data2/varun/HiTIPS_paper_data/fig_5/kpnb1/exp2/AssayPlate_PerkinElmer_CellCarrier-384 Ultra_F11_T0461F009L01A01Z01C01.tif\n",
      "/data2/varun/HiTIPS_paper_data/fig_5/kpnb1/exp2/AssayPlate_PerkinElmer_CellCarrier-384 Ultra_F11_T0462F002L01A01Z01C01.tif\n",
      "/data2/varun/HiTIPS_paper_data/fig_5/kpnb1/exp2/AssayPlate_PerkinElmer_CellCarrier-384 Ultra_F11_T0462F003L01A01Z01C01.tif\n",
      "/data2/varun/HiTIPS_paper_data/fig_5/kpnb1/exp2/AssayPlate_PerkinElmer_CellCarrier-384 Ultra_F11_T0462F005L01A01Z01C01.tif\n",
      "/data2/varun/HiTIPS_paper_data/fig_5/kpnb1/exp2/AssayPlate_PerkinElmer_CellCarrier-384 Ultra_F11_T0462F004L01A01Z01C01.tif\n",
      "/data2/varun/HiTIPS_paper_data/fig_5/kpnb1/exp2/AssayPlate_PerkinElmer_CellCarrier-384 Ultra_F11_T0462F006L01A01Z01C01.tif\n",
      "/data2/varun/HiTIPS_paper_data/fig_5/kpnb1/exp2/AssayPlate_PerkinElmer_CellCarrier-384 Ultra_F11_T0462F007L01A01Z01C01.tif\n",
      "/data2/varun/HiTIPS_paper_data/fig_5/kpnb1/exp2/AssayPlate_PerkinElmer_CellCarrier-384 Ultra_F11_T0462F009L01A01Z01C01.tif\n",
      "/data2/varun/HiTIPS_paper_data/fig_5/kpnb1/exp2/AssayPlate_PerkinElmer_CellCarrier-384 Ultra_F11_T0462F008L01A01Z01C01.tif\n",
      "/data2/varun/HiTIPS_paper_data/fig_5/kpnb1/exp2/AssayPlate_PerkinElmer_CellCarrier-384 Ultra_F11_T0463F001L01A01Z01C01.tif\n",
      "/data2/varun/HiTIPS_paper_data/fig_5/kpnb1/exp2/AssayPlate_PerkinElmer_CellCarrier-384 Ultra_F11_T0463F002L01A01Z01C01.tif\n",
      "/data2/varun/HiTIPS_paper_data/fig_5/kpnb1/exp2/AssayPlate_PerkinElmer_CellCarrier-384 Ultra_F11_T0463F003L01A01Z01C01.tif\n",
      "/data2/varun/HiTIPS_paper_data/fig_5/kpnb1/exp2/AssayPlate_PerkinElmer_CellCarrier-384 Ultra_F11_T0463F004L01A01Z01C01.tif\n",
      "/data2/varun/HiTIPS_paper_data/fig_5/kpnb1/exp2/AssayPlate_PerkinElmer_CellCarrier-384 Ultra_F11_T0463F005L01A01Z01C01.tif\n",
      "/data2/varun/HiTIPS_paper_data/fig_5/kpnb1/exp2/AssayPlate_PerkinElmer_CellCarrier-384 Ultra_F11_T0463F006L01A01Z01C01.tif\n",
      "/data2/varun/HiTIPS_paper_data/fig_5/kpnb1/exp2/AssayPlate_PerkinElmer_CellCarrier-384 Ultra_F11_T0463F008L01A01Z01C01.tif\n",
      "/data2/varun/HiTIPS_paper_data/fig_5/kpnb1/exp2/AssayPlate_PerkinElmer_CellCarrier-384 Ultra_F11_T0464F001L01A01Z01C01.tif\n",
      "/data2/varun/HiTIPS_paper_data/fig_5/kpnb1/exp2/AssayPlate_PerkinElmer_CellCarrier-384 Ultra_F11_T0463F009L01A01Z01C01.tif\n",
      "/data2/varun/HiTIPS_paper_data/fig_5/kpnb1/exp2/AssayPlate_PerkinElmer_CellCarrier-384 Ultra_F11_T0463F007L01A01Z01C01.tif\n",
      "/data2/varun/HiTIPS_paper_data/fig_5/kpnb1/exp2/AssayPlate_PerkinElmer_CellCarrier-384 Ultra_F11_T0464F003L01A01Z01C01.tif\n",
      "/data2/varun/HiTIPS_paper_data/fig_5/kpnb1/exp2/AssayPlate_PerkinElmer_CellCarrier-384 Ultra_F11_T0464F005L01A01Z01C01.tif\n",
      "/data2/varun/HiTIPS_paper_data/fig_5/kpnb1/exp2/AssayPlate_PerkinElmer_CellCarrier-384 Ultra_F11_T0464F004L01A01Z01C01.tif\n",
      "/data2/varun/HiTIPS_paper_data/fig_5/kpnb1/exp2/AssayPlate_PerkinElmer_CellCarrier-384 Ultra_F11_T0464F002L01A01Z01C01.tif\n",
      "/data2/varun/HiTIPS_paper_data/fig_5/kpnb1/exp2/AssayPlate_PerkinElmer_CellCarrier-384 Ultra_F11_T0464F007L01A01Z01C01.tif\n",
      "/data2/varun/HiTIPS_paper_data/fig_5/kpnb1/exp2/AssayPlate_PerkinElmer_CellCarrier-384 Ultra_F11_T0464F008L01A01Z01C01.tif\n",
      "/data2/varun/HiTIPS_paper_data/fig_5/kpnb1/exp2/AssayPlate_PerkinElmer_CellCarrier-384 Ultra_F11_T0464F009L01A01Z01C01.tif\n",
      "/data2/varun/HiTIPS_paper_data/fig_5/kpnb1/exp2/AssayPlate_PerkinElmer_CellCarrier-384 Ultra_F11_T0464F006L01A01Z01C01.tif\n",
      "/data2/varun/HiTIPS_paper_data/fig_5/kpnb1/exp2/AssayPlate_PerkinElmer_CellCarrier-384 Ultra_F11_T0465F002L01A01Z01C01.tif\n",
      "/data2/varun/HiTIPS_paper_data/fig_5/kpnb1/exp2/AssayPlate_PerkinElmer_CellCarrier-384 Ultra_F11_T0465F001L01A01Z01C01.tif\n",
      "/data2/varun/HiTIPS_paper_data/fig_5/kpnb1/exp2/AssayPlate_PerkinElmer_CellCarrier-384 Ultra_F11_T0465F004L01A01Z01C01.tif\n",
      "/data2/varun/HiTIPS_paper_data/fig_5/kpnb1/exp2/AssayPlate_PerkinElmer_CellCarrier-384 Ultra_F11_T0465F003L01A01Z01C01.tif\n",
      "/data2/varun/HiTIPS_paper_data/fig_5/kpnb1/exp2/AssayPlate_PerkinElmer_CellCarrier-384 Ultra_F11_T0465F006L01A01Z01C01.tif\n",
      "/data2/varun/HiTIPS_paper_data/fig_5/kpnb1/exp2/AssayPlate_PerkinElmer_CellCarrier-384 Ultra_F11_T0465F007L01A01Z01C01.tif\n",
      "/data2/varun/HiTIPS_paper_data/fig_5/kpnb1/exp2/AssayPlate_PerkinElmer_CellCarrier-384 Ultra_F11_T0465F005L01A01Z01C01.tif\n",
      "/data2/varun/HiTIPS_paper_data/fig_5/kpnb1/exp2/AssayPlate_PerkinElmer_CellCarrier-384 Ultra_F11_T0465F008L01A01Z01C01.tif\n",
      "/data2/varun/HiTIPS_paper_data/fig_5/kpnb1/exp2/AssayPlate_PerkinElmer_CellCarrier-384 Ultra_F11_T0466F001L01A01Z01C01.tif\n",
      "/data2/varun/HiTIPS_paper_data/fig_5/kpnb1/exp2/AssayPlate_PerkinElmer_CellCarrier-384 Ultra_F11_T0466F003L01A01Z01C01.tif\n",
      "/data2/varun/HiTIPS_paper_data/fig_5/kpnb1/exp2/AssayPlate_PerkinElmer_CellCarrier-384 Ultra_F11_T0466F002L01A01Z01C01.tif\n",
      "/data2/varun/HiTIPS_paper_data/fig_5/kpnb1/exp2/AssayPlate_PerkinElmer_CellCarrier-384 Ultra_F11_T0465F009L01A01Z01C01.tif\n",
      "/data2/varun/HiTIPS_paper_data/fig_5/kpnb1/exp2/AssayPlate_PerkinElmer_CellCarrier-384 Ultra_F11_T0466F005L01A01Z01C01.tif\n",
      "/data2/varun/HiTIPS_paper_data/fig_5/kpnb1/exp2/AssayPlate_PerkinElmer_CellCarrier-384 Ultra_F11_T0466F007L01A01Z01C01.tif\n",
      "/data2/varun/HiTIPS_paper_data/fig_5/kpnb1/exp2/AssayPlate_PerkinElmer_CellCarrier-384 Ultra_F11_T0466F006L01A01Z01C01.tif\n",
      "/data2/varun/HiTIPS_paper_data/fig_5/kpnb1/exp2/AssayPlate_PerkinElmer_CellCarrier-384 Ultra_F11_T0466F004L01A01Z01C01.tif\n",
      "/data2/varun/HiTIPS_paper_data/fig_5/kpnb1/exp2/AssayPlate_PerkinElmer_CellCarrier-384 Ultra_F11_T0466F009L01A01Z01C01.tif\n",
      "/data2/varun/HiTIPS_paper_data/fig_5/kpnb1/exp2/AssayPlate_PerkinElmer_CellCarrier-384 Ultra_F11_T0467F001L01A01Z01C01.tif\n",
      "/data2/varun/HiTIPS_paper_data/fig_5/kpnb1/exp2/AssayPlate_PerkinElmer_CellCarrier-384 Ultra_F11_T0466F008L01A01Z01C01.tif\n",
      "/data2/varun/HiTIPS_paper_data/fig_5/kpnb1/exp2/AssayPlate_PerkinElmer_CellCarrier-384 Ultra_F11_T0467F002L01A01Z01C01.tif\n",
      "/data2/varun/HiTIPS_paper_data/fig_5/kpnb1/exp2/AssayPlate_PerkinElmer_CellCarrier-384 Ultra_F11_T0467F004L01A01Z01C01.tif\n",
      "/data2/varun/HiTIPS_paper_data/fig_5/kpnb1/exp2/AssayPlate_PerkinElmer_CellCarrier-384 Ultra_F11_T0467F003L01A01Z01C01.tif\n",
      "/data2/varun/HiTIPS_paper_data/fig_5/kpnb1/exp2/AssayPlate_PerkinElmer_CellCarrier-384 Ultra_F11_T0467F006L01A01Z01C01.tif\n",
      "/data2/varun/HiTIPS_paper_data/fig_5/kpnb1/exp2/AssayPlate_PerkinElmer_CellCarrier-384 Ultra_F11_T0467F005L01A01Z01C01.tif\n",
      "/data2/varun/HiTIPS_paper_data/fig_5/kpnb1/exp2/AssayPlate_PerkinElmer_CellCarrier-384 Ultra_F11_T0467F008L01A01Z01C01.tif\n",
      "/data2/varun/HiTIPS_paper_data/fig_5/kpnb1/exp2/AssayPlate_PerkinElmer_CellCarrier-384 Ultra_F11_T0467F009L01A01Z01C01.tif\n",
      "/data2/varun/HiTIPS_paper_data/fig_5/kpnb1/exp2/AssayPlate_PerkinElmer_CellCarrier-384 Ultra_F11_T0467F007L01A01Z01C01.tif\n",
      "/data2/varun/HiTIPS_paper_data/fig_5/kpnb1/exp2/AssayPlate_PerkinElmer_CellCarrier-384 Ultra_F11_T0468F001L01A01Z01C01.tif\n",
      "/data2/varun/HiTIPS_paper_data/fig_5/kpnb1/exp2/AssayPlate_PerkinElmer_CellCarrier-384 Ultra_F11_T0468F003L01A01Z01C01.tif\n",
      "/data2/varun/HiTIPS_paper_data/fig_5/kpnb1/exp2/AssayPlate_PerkinElmer_CellCarrier-384 Ultra_F11_T0468F004L01A01Z01C01.tif\n",
      "/data2/varun/HiTIPS_paper_data/fig_5/kpnb1/exp2/AssayPlate_PerkinElmer_CellCarrier-384 Ultra_F11_T0468F002L01A01Z01C01.tif\n",
      "/data2/varun/HiTIPS_paper_data/fig_5/kpnb1/exp2/AssayPlate_PerkinElmer_CellCarrier-384 Ultra_F11_T0468F005L01A01Z01C01.tif\n",
      "/data2/varun/HiTIPS_paper_data/fig_5/kpnb1/exp2/AssayPlate_PerkinElmer_CellCarrier-384 Ultra_F11_T0468F007L01A01Z01C01.tif\n",
      "/data2/varun/HiTIPS_paper_data/fig_5/kpnb1/exp2/AssayPlate_PerkinElmer_CellCarrier-384 Ultra_F11_T0468F009L01A01Z01C01.tif\n",
      "/data2/varun/HiTIPS_paper_data/fig_5/kpnb1/exp2/AssayPlate_PerkinElmer_CellCarrier-384 Ultra_F11_T0468F006L01A01Z01C01.tif\n",
      "/data2/varun/HiTIPS_paper_data/fig_5/kpnb1/exp2/AssayPlate_PerkinElmer_CellCarrier-384 Ultra_F11_T0468F008L01A01Z01C01.tif\n",
      "/data2/varun/HiTIPS_paper_data/fig_5/kpnb1/exp2/AssayPlate_PerkinElmer_CellCarrier-384 Ultra_F11_T0469F001L01A01Z01C01.tif\n",
      "/data2/varun/HiTIPS_paper_data/fig_5/kpnb1/exp2/AssayPlate_PerkinElmer_CellCarrier-384 Ultra_F11_T0469F002L01A01Z01C01.tif\n",
      "/data2/varun/HiTIPS_paper_data/fig_5/kpnb1/exp2/AssayPlate_PerkinElmer_CellCarrier-384 Ultra_F11_T0469F004L01A01Z01C01.tif\n",
      "/data2/varun/HiTIPS_paper_data/fig_5/kpnb1/exp2/AssayPlate_PerkinElmer_CellCarrier-384 Ultra_F11_T0469F003L01A01Z01C01.tif\n",
      "/data2/varun/HiTIPS_paper_data/fig_5/kpnb1/exp2/AssayPlate_PerkinElmer_CellCarrier-384 Ultra_F11_T0469F006L01A01Z01C01.tif\n",
      "/data2/varun/HiTIPS_paper_data/fig_5/kpnb1/exp2/AssayPlate_PerkinElmer_CellCarrier-384 Ultra_F11_T0469F005L01A01Z01C01.tif\n",
      "/data2/varun/HiTIPS_paper_data/fig_5/kpnb1/exp2/AssayPlate_PerkinElmer_CellCarrier-384 Ultra_F11_T0469F008L01A01Z01C01.tif\n",
      "/data2/varun/HiTIPS_paper_data/fig_5/kpnb1/exp2/AssayPlate_PerkinElmer_CellCarrier-384 Ultra_F11_T0469F007L01A01Z01C01.tif\n",
      "/data2/varun/HiTIPS_paper_data/fig_5/kpnb1/exp2/AssayPlate_PerkinElmer_CellCarrier-384 Ultra_F11_T0470F001L01A01Z01C01.tif\n",
      "/data2/varun/HiTIPS_paper_data/fig_5/kpnb1/exp2/AssayPlate_PerkinElmer_CellCarrier-384 Ultra_F11_T0470F003L01A01Z01C01.tif\n",
      "/data2/varun/HiTIPS_paper_data/fig_5/kpnb1/exp2/AssayPlate_PerkinElmer_CellCarrier-384 Ultra_F11_T0469F009L01A01Z01C01.tif\n",
      "/data2/varun/HiTIPS_paper_data/fig_5/kpnb1/exp2/AssayPlate_PerkinElmer_CellCarrier-384 Ultra_F11_T0470F002L01A01Z01C01.tif\n",
      "/data2/varun/HiTIPS_paper_data/fig_5/kpnb1/exp2/AssayPlate_PerkinElmer_CellCarrier-384 Ultra_F11_T0470F005L01A01Z01C01.tif\n",
      "/data2/varun/HiTIPS_paper_data/fig_5/kpnb1/exp2/AssayPlate_PerkinElmer_CellCarrier-384 Ultra_F11_T0470F006L01A01Z01C01.tif\n",
      "/data2/varun/HiTIPS_paper_data/fig_5/kpnb1/exp2/AssayPlate_PerkinElmer_CellCarrier-384 Ultra_F11_T0470F004L01A01Z01C01.tif\n",
      "/data2/varun/HiTIPS_paper_data/fig_5/kpnb1/exp2/AssayPlate_PerkinElmer_CellCarrier-384 Ultra_F11_T0470F007L01A01Z01C01.tif\n",
      "/data2/varun/HiTIPS_paper_data/fig_5/kpnb1/exp2/AssayPlate_PerkinElmer_CellCarrier-384 Ultra_F11_T0470F009L01A01Z01C01.tif\n",
      "/data2/varun/HiTIPS_paper_data/fig_5/kpnb1/exp2/AssayPlate_PerkinElmer_CellCarrier-384 Ultra_F11_T0471F002L01A01Z01C01.tif\n",
      "/data2/varun/HiTIPS_paper_data/fig_5/kpnb1/exp2/AssayPlate_PerkinElmer_CellCarrier-384 Ultra_F11_T0470F008L01A01Z01C01.tif\n",
      "/data2/varun/HiTIPS_paper_data/fig_5/kpnb1/exp2/AssayPlate_PerkinElmer_CellCarrier-384 Ultra_F11_T0471F001L01A01Z01C01.tif\n",
      "/data2/varun/HiTIPS_paper_data/fig_5/kpnb1/exp2/AssayPlate_PerkinElmer_CellCarrier-384 Ultra_F11_T0471F005L01A01Z01C01.tif\n",
      "/data2/varun/HiTIPS_paper_data/fig_5/kpnb1/exp2/AssayPlate_PerkinElmer_CellCarrier-384 Ultra_F11_T0471F003L01A01Z01C01.tif\n",
      "/data2/varun/HiTIPS_paper_data/fig_5/kpnb1/exp2/AssayPlate_PerkinElmer_CellCarrier-384 Ultra_F11_T0471F006L01A01Z01C01.tif\n",
      "/data2/varun/HiTIPS_paper_data/fig_5/kpnb1/exp2/AssayPlate_PerkinElmer_CellCarrier-384 Ultra_F11_T0471F004L01A01Z01C01.tif\n",
      "/data2/varun/HiTIPS_paper_data/fig_5/kpnb1/exp2/AssayPlate_PerkinElmer_CellCarrier-384 Ultra_F11_T0471F008L01A01Z01C01.tif\n",
      "/data2/varun/HiTIPS_paper_data/fig_5/kpnb1/exp2/AssayPlate_PerkinElmer_CellCarrier-384 Ultra_F11_T0471F007L01A01Z01C01.tif\n",
      "/data2/varun/HiTIPS_paper_data/fig_5/kpnb1/exp2/AssayPlate_PerkinElmer_CellCarrier-384 Ultra_F11_T0471F009L01A01Z01C01.tif\n",
      "/data2/varun/HiTIPS_paper_data/fig_5/kpnb1/exp2/AssayPlate_PerkinElmer_CellCarrier-384 Ultra_F11_T0472F001L01A01Z01C01.tif\n",
      "/data2/varun/HiTIPS_paper_data/fig_5/kpnb1/exp2/AssayPlate_PerkinElmer_CellCarrier-384 Ultra_F11_T0472F003L01A01Z01C01.tif\n",
      "/data2/varun/HiTIPS_paper_data/fig_5/kpnb1/exp2/AssayPlate_PerkinElmer_CellCarrier-384 Ultra_F11_T0472F005L01A01Z01C01.tif\n",
      "/data2/varun/HiTIPS_paper_data/fig_5/kpnb1/exp2/AssayPlate_PerkinElmer_CellCarrier-384 Ultra_F11_T0472F002L01A01Z01C01.tif\n",
      "/data2/varun/HiTIPS_paper_data/fig_5/kpnb1/exp2/AssayPlate_PerkinElmer_CellCarrier-384 Ultra_F11_T0472F004L01A01Z01C01.tif\n",
      "/data2/varun/HiTIPS_paper_data/fig_5/kpnb1/exp2/AssayPlate_PerkinElmer_CellCarrier-384 Ultra_F11_T0472F008L01A01Z01C01.tif\n",
      "/data2/varun/HiTIPS_paper_data/fig_5/kpnb1/exp2/AssayPlate_PerkinElmer_CellCarrier-384 Ultra_F11_T0472F007L01A01Z01C01.tif/data2/varun/HiTIPS_paper_data/fig_5/kpnb1/exp2/AssayPlate_PerkinElmer_CellCarrier-384 Ultra_F11_T0472F009L01A01Z01C01.tif\n",
      "\n",
      "/data2/varun/HiTIPS_paper_data/fig_5/kpnb1/exp2/AssayPlate_PerkinElmer_CellCarrier-384 Ultra_F11_T0472F006L01A01Z01C01.tif\n",
      "/data2/varun/HiTIPS_paper_data/fig_5/kpnb1/exp2/AssayPlate_PerkinElmer_CellCarrier-384 Ultra_F11_T0473F002L01A01Z01C01.tif\n",
      "/data2/varun/HiTIPS_paper_data/fig_5/kpnb1/exp2/AssayPlate_PerkinElmer_CellCarrier-384 Ultra_F11_T0473F004L01A01Z01C01.tif\n",
      "/data2/varun/HiTIPS_paper_data/fig_5/kpnb1/exp2/AssayPlate_PerkinElmer_CellCarrier-384 Ultra_F11_T0473F001L01A01Z01C01.tif\n",
      "/data2/varun/HiTIPS_paper_data/fig_5/kpnb1/exp2/AssayPlate_PerkinElmer_CellCarrier-384 Ultra_F11_T0473F003L01A01Z01C01.tif\n",
      "/data2/varun/HiTIPS_paper_data/fig_5/kpnb1/exp2/AssayPlate_PerkinElmer_CellCarrier-384 Ultra_F11_T0473F008L01A01Z01C01.tif\n",
      "/data2/varun/HiTIPS_paper_data/fig_5/kpnb1/exp2/AssayPlate_PerkinElmer_CellCarrier-384 Ultra_F11_T0473F006L01A01Z01C01.tif\n",
      "/data2/varun/HiTIPS_paper_data/fig_5/kpnb1/exp2/AssayPlate_PerkinElmer_CellCarrier-384 Ultra_F11_T0473F005L01A01Z01C01.tif\n",
      "/data2/varun/HiTIPS_paper_data/fig_5/kpnb1/exp2/AssayPlate_PerkinElmer_CellCarrier-384 Ultra_F11_T0473F007L01A01Z01C01.tif\n",
      "/data2/varun/HiTIPS_paper_data/fig_5/kpnb1/exp2/AssayPlate_PerkinElmer_CellCarrier-384 Ultra_F11_T0474F003L01A01Z01C01.tif\n",
      "/data2/varun/HiTIPS_paper_data/fig_5/kpnb1/exp2/AssayPlate_PerkinElmer_CellCarrier-384 Ultra_F11_T0474F002L01A01Z01C01.tif\n",
      "/data2/varun/HiTIPS_paper_data/fig_5/kpnb1/exp2/AssayPlate_PerkinElmer_CellCarrier-384 Ultra_F11_T0473F009L01A01Z01C01.tif\n",
      "/data2/varun/HiTIPS_paper_data/fig_5/kpnb1/exp2/AssayPlate_PerkinElmer_CellCarrier-384 Ultra_F11_T0474F001L01A01Z01C01.tif\n",
      "/data2/varun/HiTIPS_paper_data/fig_5/kpnb1/exp2/AssayPlate_PerkinElmer_CellCarrier-384 Ultra_F11_T0474F006L01A01Z01C01.tif\n",
      "/data2/varun/HiTIPS_paper_data/fig_5/kpnb1/exp2/AssayPlate_PerkinElmer_CellCarrier-384 Ultra_F11_T0474F005L01A01Z01C01.tif\n",
      "/data2/varun/HiTIPS_paper_data/fig_5/kpnb1/exp2/AssayPlate_PerkinElmer_CellCarrier-384 Ultra_F11_T0474F007L01A01Z01C01.tif\n",
      "/data2/varun/HiTIPS_paper_data/fig_5/kpnb1/exp2/AssayPlate_PerkinElmer_CellCarrier-384 Ultra_F11_T0474F004L01A01Z01C01.tif\n",
      "/data2/varun/HiTIPS_paper_data/fig_5/kpnb1/exp2/AssayPlate_PerkinElmer_CellCarrier-384 Ultra_F11_T0474F009L01A01Z01C01.tif\n",
      "/data2/varun/HiTIPS_paper_data/fig_5/kpnb1/exp2/AssayPlate_PerkinElmer_CellCarrier-384 Ultra_F11_T0475F001L01A01Z01C01.tif\n",
      "/data2/varun/HiTIPS_paper_data/fig_5/kpnb1/exp2/AssayPlate_PerkinElmer_CellCarrier-384 Ultra_F11_T0475F002L01A01Z01C01.tif\n",
      "/data2/varun/HiTIPS_paper_data/fig_5/kpnb1/exp2/AssayPlate_PerkinElmer_CellCarrier-384 Ultra_F11_T0474F008L01A01Z01C01.tif\n",
      "/data2/varun/HiTIPS_paper_data/fig_5/kpnb1/exp2/AssayPlate_PerkinElmer_CellCarrier-384 Ultra_F11_T0475F004L01A01Z01C01.tif\n",
      "/data2/varun/HiTIPS_paper_data/fig_5/kpnb1/exp2/AssayPlate_PerkinElmer_CellCarrier-384 Ultra_F11_T0475F005L01A01Z01C01.tif\n",
      "/data2/varun/HiTIPS_paper_data/fig_5/kpnb1/exp2/AssayPlate_PerkinElmer_CellCarrier-384 Ultra_F11_T0475F003L01A01Z01C01.tif\n",
      "/data2/varun/HiTIPS_paper_data/fig_5/kpnb1/exp2/AssayPlate_PerkinElmer_CellCarrier-384 Ultra_F11_T0475F006L01A01Z01C01.tif\n",
      "/data2/varun/HiTIPS_paper_data/fig_5/kpnb1/exp2/AssayPlate_PerkinElmer_CellCarrier-384 Ultra_F11_T0475F008L01A01Z01C01.tif\n",
      "/data2/varun/HiTIPS_paper_data/fig_5/kpnb1/exp2/AssayPlate_PerkinElmer_CellCarrier-384 Ultra_F11_T0475F009L01A01Z01C01.tif\n",
      "/data2/varun/HiTIPS_paper_data/fig_5/kpnb1/exp2/AssayPlate_PerkinElmer_CellCarrier-384 Ultra_F11_T0475F007L01A01Z01C01.tif\n",
      "/data2/varun/HiTIPS_paper_data/fig_5/kpnb1/exp2/AssayPlate_PerkinElmer_CellCarrier-384 Ultra_F11_T0476F001L01A01Z01C01.tif\n",
      "/data2/varun/HiTIPS_paper_data/fig_5/kpnb1/exp2/AssayPlate_PerkinElmer_CellCarrier-384 Ultra_F11_T0476F005L01A01Z01C01.tif\n",
      "/data2/varun/HiTIPS_paper_data/fig_5/kpnb1/exp2/AssayPlate_PerkinElmer_CellCarrier-384 Ultra_F11_T0476F003L01A01Z01C01.tif\n",
      "/data2/varun/HiTIPS_paper_data/fig_5/kpnb1/exp2/AssayPlate_PerkinElmer_CellCarrier-384 Ultra_F11_T0476F004L01A01Z01C01.tif\n",
      "/data2/varun/HiTIPS_paper_data/fig_5/kpnb1/exp2/AssayPlate_PerkinElmer_CellCarrier-384 Ultra_F11_T0476F002L01A01Z01C01.tif\n",
      "/data2/varun/HiTIPS_paper_data/fig_5/kpnb1/exp2/AssayPlate_PerkinElmer_CellCarrier-384 Ultra_F11_T0476F009L01A01Z01C01.tif\n",
      "/data2/varun/HiTIPS_paper_data/fig_5/kpnb1/exp2/AssayPlate_PerkinElmer_CellCarrier-384 Ultra_F11_T0476F008L01A01Z01C01.tif\n",
      "/data2/varun/HiTIPS_paper_data/fig_5/kpnb1/exp2/AssayPlate_PerkinElmer_CellCarrier-384 Ultra_F11_T0476F007L01A01Z01C01.tif\n",
      "/data2/varun/HiTIPS_paper_data/fig_5/kpnb1/exp2/AssayPlate_PerkinElmer_CellCarrier-384 Ultra_F11_T0476F006L01A01Z01C01.tif\n",
      "/data2/varun/HiTIPS_paper_data/fig_5/kpnb1/exp2/AssayPlate_PerkinElmer_CellCarrier-384 Ultra_F11_T0477F002L01A01Z01C01.tif\n",
      "/data2/varun/HiTIPS_paper_data/fig_5/kpnb1/exp2/AssayPlate_PerkinElmer_CellCarrier-384 Ultra_F11_T0477F001L01A01Z01C01.tif\n",
      "/data2/varun/HiTIPS_paper_data/fig_5/kpnb1/exp2/AssayPlate_PerkinElmer_CellCarrier-384 Ultra_F11_T0477F004L01A01Z01C01.tif\n",
      "/data2/varun/HiTIPS_paper_data/fig_5/kpnb1/exp2/AssayPlate_PerkinElmer_CellCarrier-384 Ultra_F11_T0477F003L01A01Z01C01.tif\n",
      "/data2/varun/HiTIPS_paper_data/fig_5/kpnb1/exp2/AssayPlate_PerkinElmer_CellCarrier-384 Ultra_F11_T0477F006L01A01Z01C01.tif\n",
      "/data2/varun/HiTIPS_paper_data/fig_5/kpnb1/exp2/AssayPlate_PerkinElmer_CellCarrier-384 Ultra_F11_T0477F007L01A01Z01C01.tif\n",
      "/data2/varun/HiTIPS_paper_data/fig_5/kpnb1/exp2/AssayPlate_PerkinElmer_CellCarrier-384 Ultra_F11_T0477F005L01A01Z01C01.tif\n",
      "/data2/varun/HiTIPS_paper_data/fig_5/kpnb1/exp2/AssayPlate_PerkinElmer_CellCarrier-384 Ultra_F11_T0477F008L01A01Z01C01.tif\n",
      "/data2/varun/HiTIPS_paper_data/fig_5/kpnb1/exp2/AssayPlate_PerkinElmer_CellCarrier-384 Ultra_F11_T0478F003L01A01Z01C01.tif\n",
      "/data2/varun/HiTIPS_paper_data/fig_5/kpnb1/exp2/AssayPlate_PerkinElmer_CellCarrier-384 Ultra_F11_T0478F001L01A01Z01C01.tif\n",
      "/data2/varun/HiTIPS_paper_data/fig_5/kpnb1/exp2/AssayPlate_PerkinElmer_CellCarrier-384 Ultra_F11_T0477F009L01A01Z01C01.tif\n",
      "/data2/varun/HiTIPS_paper_data/fig_5/kpnb1/exp2/AssayPlate_PerkinElmer_CellCarrier-384 Ultra_F11_T0478F002L01A01Z01C01.tif\n",
      "/data2/varun/HiTIPS_paper_data/fig_5/kpnb1/exp2/AssayPlate_PerkinElmer_CellCarrier-384 Ultra_F11_T0478F005L01A01Z01C01.tif\n",
      "/data2/varun/HiTIPS_paper_data/fig_5/kpnb1/exp2/AssayPlate_PerkinElmer_CellCarrier-384 Ultra_F11_T0478F006L01A01Z01C01.tif\n",
      "/data2/varun/HiTIPS_paper_data/fig_5/kpnb1/exp2/AssayPlate_PerkinElmer_CellCarrier-384 Ultra_F11_T0478F004L01A01Z01C01.tif\n",
      "/data2/varun/HiTIPS_paper_data/fig_5/kpnb1/exp2/AssayPlate_PerkinElmer_CellCarrier-384 Ultra_F11_T0478F007L01A01Z01C01.tif\n",
      "/data2/varun/HiTIPS_paper_data/fig_5/kpnb1/exp2/AssayPlate_PerkinElmer_CellCarrier-384 Ultra_F11_T0478F009L01A01Z01C01.tif\n",
      "/data2/varun/HiTIPS_paper_data/fig_5/kpnb1/exp2/AssayPlate_PerkinElmer_CellCarrier-384 Ultra_F11_T0478F008L01A01Z01C01.tif\n",
      "/data2/varun/HiTIPS_paper_data/fig_5/kpnb1/exp2/AssayPlate_PerkinElmer_CellCarrier-384 Ultra_F11_T0479F001L01A01Z01C01.tif\n",
      "/data2/varun/HiTIPS_paper_data/fig_5/kpnb1/exp2/AssayPlate_PerkinElmer_CellCarrier-384 Ultra_F11_T0479F002L01A01Z01C01.tif\n",
      "/data2/varun/HiTIPS_paper_data/fig_5/kpnb1/exp2/AssayPlate_PerkinElmer_CellCarrier-384 Ultra_F11_T0479F004L01A01Z01C01.tif\n",
      "/data2/varun/HiTIPS_paper_data/fig_5/kpnb1/exp2/AssayPlate_PerkinElmer_CellCarrier-384 Ultra_F11_T0479F006L01A01Z01C01.tif\n",
      "/data2/varun/HiTIPS_paper_data/fig_5/kpnb1/exp2/AssayPlate_PerkinElmer_CellCarrier-384 Ultra_F11_T0479F003L01A01Z01C01.tif\n",
      "/data2/varun/HiTIPS_paper_data/fig_5/kpnb1/exp2/AssayPlate_PerkinElmer_CellCarrier-384 Ultra_F11_T0479F005L01A01Z01C01.tif\n",
      "/data2/varun/HiTIPS_paper_data/fig_5/kpnb1/exp2/AssayPlate_PerkinElmer_CellCarrier-384 Ultra_F11_T0479F008L01A01Z01C01.tif\n",
      "/data2/varun/HiTIPS_paper_data/fig_5/kpnb1/exp2/AssayPlate_PerkinElmer_CellCarrier-384 Ultra_F11_T0479F009L01A01Z01C01.tif\n",
      "/data2/varun/HiTIPS_paper_data/fig_5/kpnb1/exp2/AssayPlate_PerkinElmer_CellCarrier-384 Ultra_F11_T0479F007L01A01Z01C01.tif\n",
      "/data2/varun/HiTIPS_paper_data/fig_5/kpnb1/exp2/AssayPlate_PerkinElmer_CellCarrier-384 Ultra_F11_T0480F001L01A01Z01C01.tif\n",
      "/data2/varun/HiTIPS_paper_data/fig_5/kpnb1/exp2/AssayPlate_PerkinElmer_CellCarrier-384 Ultra_F11_T0480F003L01A01Z01C01.tif\n",
      "/data2/varun/HiTIPS_paper_data/fig_5/kpnb1/exp2/AssayPlate_PerkinElmer_CellCarrier-384 Ultra_F11_T0480F004L01A01Z01C01.tif\n",
      "/data2/varun/HiTIPS_paper_data/fig_5/kpnb1/exp2/AssayPlate_PerkinElmer_CellCarrier-384 Ultra_F11_T0480F005L01A01Z01C01.tif\n",
      "/data2/varun/HiTIPS_paper_data/fig_5/kpnb1/exp2/AssayPlate_PerkinElmer_CellCarrier-384 Ultra_F11_T0480F002L01A01Z01C01.tif\n",
      "/data2/varun/HiTIPS_paper_data/fig_5/kpnb1/exp2/AssayPlate_PerkinElmer_CellCarrier-384 Ultra_F11_T0480F008L01A01Z01C01.tif\n",
      "/data2/varun/HiTIPS_paper_data/fig_5/kpnb1/exp2/AssayPlate_PerkinElmer_CellCarrier-384 Ultra_F11_T0480F007L01A01Z01C01.tif\n",
      "/data2/varun/HiTIPS_paper_data/fig_5/kpnb1/exp2/AssayPlate_PerkinElmer_CellCarrier-384 Ultra_F11_T0480F009L01A01Z01C01.tif\n",
      "/data2/varun/HiTIPS_paper_data/fig_5/kpnb1/exp2/AssayPlate_PerkinElmer_CellCarrier-384 Ultra_F11_T0480F006L01A01Z01C01.tif\n",
      "/data2/varun/HiTIPS_paper_data/fig_5/kpnb1/exp2/AssayPlate_PerkinElmer_CellCarrier-384 Ultra_F11_T0481F002L01A01Z01C01.tif\n",
      "/data2/varun/HiTIPS_paper_data/fig_5/kpnb1/exp2/AssayPlate_PerkinElmer_CellCarrier-384 Ultra_F11_T0481F003L01A01Z01C01.tif\n",
      "/data2/varun/HiTIPS_paper_data/fig_5/kpnb1/exp2/AssayPlate_PerkinElmer_CellCarrier-384 Ultra_F11_T0481F004L01A01Z01C01.tif\n",
      "/data2/varun/HiTIPS_paper_data/fig_5/kpnb1/exp2/AssayPlate_PerkinElmer_CellCarrier-384 Ultra_F11_T0481F001L01A01Z01C01.tif\n",
      "/data2/varun/HiTIPS_paper_data/fig_5/kpnb1/exp2/AssayPlate_PerkinElmer_CellCarrier-384 Ultra_F11_T0481F006L01A01Z01C01.tif\n",
      "/data2/varun/HiTIPS_paper_data/fig_5/kpnb1/exp2/AssayPlate_PerkinElmer_CellCarrier-384 Ultra_F11_T0481F008L01A01Z01C01.tif\n",
      "/data2/varun/HiTIPS_paper_data/fig_5/kpnb1/exp2/AssayPlate_PerkinElmer_CellCarrier-384 Ultra_F11_T0481F005L01A01Z01C01.tif\n",
      "/data2/varun/HiTIPS_paper_data/fig_5/kpnb1/exp2/AssayPlate_PerkinElmer_CellCarrier-384 Ultra_F11_T0481F007L01A01Z01C01.tif\n",
      "/data2/varun/HiTIPS_paper_data/fig_5/kpnb1/exp2/AssayPlate_PerkinElmer_CellCarrier-384 Ultra_F11_T0482F001L01A01Z01C01.tif\n",
      "/data2/varun/HiTIPS_paper_data/fig_5/kpnb1/exp2/AssayPlate_PerkinElmer_CellCarrier-384 Ultra_F11_T0481F009L01A01Z01C01.tif\n",
      "/data2/varun/HiTIPS_paper_data/fig_5/kpnb1/exp2/AssayPlate_PerkinElmer_CellCarrier-384 Ultra_F11_T0482F002L01A01Z01C01.tif\n",
      "/data2/varun/HiTIPS_paper_data/fig_5/kpnb1/exp2/AssayPlate_PerkinElmer_CellCarrier-384 Ultra_F11_T0482F003L01A01Z01C01.tif\n",
      "/data2/varun/HiTIPS_paper_data/fig_5/kpnb1/exp2/AssayPlate_PerkinElmer_CellCarrier-384 Ultra_F11_T0482F005L01A01Z01C01.tif\n",
      "/data2/varun/HiTIPS_paper_data/fig_5/kpnb1/exp2/AssayPlate_PerkinElmer_CellCarrier-384 Ultra_F11_T0482F007L01A01Z01C01.tif\n",
      "/data2/varun/HiTIPS_paper_data/fig_5/kpnb1/exp2/AssayPlate_PerkinElmer_CellCarrier-384 Ultra_F11_T0482F004L01A01Z01C01.tif\n",
      "/data2/varun/HiTIPS_paper_data/fig_5/kpnb1/exp2/AssayPlate_PerkinElmer_CellCarrier-384 Ultra_F11_T0482F006L01A01Z01C01.tif\n",
      "/data2/varun/HiTIPS_paper_data/fig_5/kpnb1/exp2/AssayPlate_PerkinElmer_CellCarrier-384 Ultra_F11_T0482F009L01A01Z01C01.tif\n",
      "/data2/varun/HiTIPS_paper_data/fig_5/kpnb1/exp2/AssayPlate_PerkinElmer_CellCarrier-384 Ultra_F11_T0483F002L01A01Z01C01.tif\n",
      "/data2/varun/HiTIPS_paper_data/fig_5/kpnb1/exp2/AssayPlate_PerkinElmer_CellCarrier-384 Ultra_F11_T0483F001L01A01Z01C01.tif\n",
      "/data2/varun/HiTIPS_paper_data/fig_5/kpnb1/exp2/AssayPlate_PerkinElmer_CellCarrier-384 Ultra_F11_T0482F008L01A01Z01C01.tif\n",
      "/data2/varun/HiTIPS_paper_data/fig_5/kpnb1/exp2/AssayPlate_PerkinElmer_CellCarrier-384 Ultra_F11_T0483F004L01A01Z01C01.tif\n",
      "/data2/varun/HiTIPS_paper_data/fig_5/kpnb1/exp2/AssayPlate_PerkinElmer_CellCarrier-384 Ultra_F11_T0483F005L01A01Z01C01.tif\n",
      "/data2/varun/HiTIPS_paper_data/fig_5/kpnb1/exp2/AssayPlate_PerkinElmer_CellCarrier-384 Ultra_F11_T0483F006L01A01Z01C01.tif\n",
      "/data2/varun/HiTIPS_paper_data/fig_5/kpnb1/exp2/AssayPlate_PerkinElmer_CellCarrier-384 Ultra_F11_T0483F003L01A01Z01C01.tif\n",
      "/data2/varun/HiTIPS_paper_data/fig_5/kpnb1/exp2/AssayPlate_PerkinElmer_CellCarrier-384 Ultra_F11_T0483F008L01A01Z01C01.tif\n",
      "/data2/varun/HiTIPS_paper_data/fig_5/kpnb1/exp2/AssayPlate_PerkinElmer_CellCarrier-384 Ultra_F11_T0483F007L01A01Z01C01.tif\n",
      "/data2/varun/HiTIPS_paper_data/fig_5/kpnb1/exp2/AssayPlate_PerkinElmer_CellCarrier-384 Ultra_F11_T0484F001L01A01Z01C01.tif\n",
      "/data2/varun/HiTIPS_paper_data/fig_5/kpnb1/exp2/AssayPlate_PerkinElmer_CellCarrier-384 Ultra_F11_T0483F009L01A01Z01C01.tif\n",
      "/data2/varun/HiTIPS_paper_data/fig_5/kpnb1/exp2/AssayPlate_PerkinElmer_CellCarrier-384 Ultra_F11_T0484F003L01A01Z01C01.tif\n",
      "/data2/varun/HiTIPS_paper_data/fig_5/kpnb1/exp2/AssayPlate_PerkinElmer_CellCarrier-384 Ultra_F11_T0484F005L01A01Z01C01.tif\n",
      "/data2/varun/HiTIPS_paper_data/fig_5/kpnb1/exp2/AssayPlate_PerkinElmer_CellCarrier-384 Ultra_F11_T0484F004L01A01Z01C01.tif\n",
      "/data2/varun/HiTIPS_paper_data/fig_5/kpnb1/exp2/AssayPlate_PerkinElmer_CellCarrier-384 Ultra_F11_T0484F002L01A01Z01C01.tif\n",
      "/data2/varun/HiTIPS_paper_data/fig_5/kpnb1/exp2/AssayPlate_PerkinElmer_CellCarrier-384 Ultra_F11_T0484F007L01A01Z01C01.tif\n",
      "/data2/varun/HiTIPS_paper_data/fig_5/kpnb1/exp2/AssayPlate_PerkinElmer_CellCarrier-384 Ultra_F11_T0484F006L01A01Z01C01.tif\n",
      "/data2/varun/HiTIPS_paper_data/fig_5/kpnb1/exp2/AssayPlate_PerkinElmer_CellCarrier-384 Ultra_F11_T0484F008L01A01Z01C01.tif\n",
      "/data2/varun/HiTIPS_paper_data/fig_5/kpnb1/exp2/AssayPlate_PerkinElmer_CellCarrier-384 Ultra_F11_T0484F009L01A01Z01C01.tif\n",
      "/data2/varun/HiTIPS_paper_data/fig_5/kpnb1/exp2/AssayPlate_PerkinElmer_CellCarrier-384 Ultra_F11_T0485F002L01A01Z01C01.tif\n",
      "/data2/varun/HiTIPS_paper_data/fig_5/kpnb1/exp2/AssayPlate_PerkinElmer_CellCarrier-384 Ultra_F11_T0485F003L01A01Z01C01.tif\n",
      "/data2/varun/HiTIPS_paper_data/fig_5/kpnb1/exp2/AssayPlate_PerkinElmer_CellCarrier-384 Ultra_F11_T0485F004L01A01Z01C01.tif\n",
      "/data2/varun/HiTIPS_paper_data/fig_5/kpnb1/exp2/AssayPlate_PerkinElmer_CellCarrier-384 Ultra_F11_T0485F001L01A01Z01C01.tif\n",
      "/data2/varun/HiTIPS_paper_data/fig_5/kpnb1/exp2/AssayPlate_PerkinElmer_CellCarrier-384 Ultra_F11_T0485F008L01A01Z01C01.tif\n",
      "/data2/varun/HiTIPS_paper_data/fig_5/kpnb1/exp2/AssayPlate_PerkinElmer_CellCarrier-384 Ultra_F11_T0485F006L01A01Z01C01.tif\n",
      "/data2/varun/HiTIPS_paper_data/fig_5/kpnb1/exp2/AssayPlate_PerkinElmer_CellCarrier-384 Ultra_F11_T0485F007L01A01Z01C01.tif\n",
      "/data2/varun/HiTIPS_paper_data/fig_5/kpnb1/exp2/AssayPlate_PerkinElmer_CellCarrier-384 Ultra_F11_T0485F005L01A01Z01C01.tif\n",
      "/data2/varun/HiTIPS_paper_data/fig_5/kpnb1/exp2/AssayPlate_PerkinElmer_CellCarrier-384 Ultra_F11_T0486F001L01A01Z01C01.tif\n",
      "/data2/varun/HiTIPS_paper_data/fig_5/kpnb1/exp2/AssayPlate_PerkinElmer_CellCarrier-384 Ultra_F11_T0485F009L01A01Z01C01.tif\n",
      "/data2/varun/HiTIPS_paper_data/fig_5/kpnb1/exp2/AssayPlate_PerkinElmer_CellCarrier-384 Ultra_F11_T0486F002L01A01Z01C01.tif\n",
      "/data2/varun/HiTIPS_paper_data/fig_5/kpnb1/exp2/AssayPlate_PerkinElmer_CellCarrier-384 Ultra_F11_T0486F003L01A01Z01C01.tif\n",
      "/data2/varun/HiTIPS_paper_data/fig_5/kpnb1/exp2/AssayPlate_PerkinElmer_CellCarrier-384 Ultra_F11_T0486F005L01A01Z01C01.tif\n",
      "/data2/varun/HiTIPS_paper_data/fig_5/kpnb1/exp2/AssayPlate_PerkinElmer_CellCarrier-384 Ultra_F11_T0486F007L01A01Z01C01.tif\n",
      "/data2/varun/HiTIPS_paper_data/fig_5/kpnb1/exp2/AssayPlate_PerkinElmer_CellCarrier-384 Ultra_F11_T0486F006L01A01Z01C01.tif\n",
      "/data2/varun/HiTIPS_paper_data/fig_5/kpnb1/exp2/AssayPlate_PerkinElmer_CellCarrier-384 Ultra_F11_T0486F004L01A01Z01C01.tif\n",
      "/data2/varun/HiTIPS_paper_data/fig_5/kpnb1/exp2/AssayPlate_PerkinElmer_CellCarrier-384 Ultra_F11_T0486F009L01A01Z01C01.tif\n",
      "/data2/varun/HiTIPS_paper_data/fig_5/kpnb1/exp2/AssayPlate_PerkinElmer_CellCarrier-384 Ultra_F11_T0486F008L01A01Z01C01.tif\n",
      "/data2/varun/HiTIPS_paper_data/fig_5/kpnb1/exp2/AssayPlate_PerkinElmer_CellCarrier-384 Ultra_F11_T0487F001L01A01Z01C01.tif\n",
      "/data2/varun/HiTIPS_paper_data/fig_5/kpnb1/exp2/AssayPlate_PerkinElmer_CellCarrier-384 Ultra_F11_T0487F002L01A01Z01C01.tif\n",
      "/data2/varun/HiTIPS_paper_data/fig_5/kpnb1/exp2/AssayPlate_PerkinElmer_CellCarrier-384 Ultra_F11_T0487F005L01A01Z01C01.tif\n",
      "/data2/varun/HiTIPS_paper_data/fig_5/kpnb1/exp2/AssayPlate_PerkinElmer_CellCarrier-384 Ultra_F11_T0487F004L01A01Z01C01.tif\n",
      "/data2/varun/HiTIPS_paper_data/fig_5/kpnb1/exp2/AssayPlate_PerkinElmer_CellCarrier-384 Ultra_F11_T0487F003L01A01Z01C01.tif\n",
      "/data2/varun/HiTIPS_paper_data/fig_5/kpnb1/exp2/AssayPlate_PerkinElmer_CellCarrier-384 Ultra_F11_T0487F006L01A01Z01C01.tif\n",
      "/data2/varun/HiTIPS_paper_data/fig_5/kpnb1/exp2/AssayPlate_PerkinElmer_CellCarrier-384 Ultra_F11_T0487F009L01A01Z01C01.tif\n",
      "/data2/varun/HiTIPS_paper_data/fig_5/kpnb1/exp2/AssayPlate_PerkinElmer_CellCarrier-384 Ultra_F11_T0487F008L01A01Z01C01.tif\n",
      "/data2/varun/HiTIPS_paper_data/fig_5/kpnb1/exp2/AssayPlate_PerkinElmer_CellCarrier-384 Ultra_F11_T0488F001L01A01Z01C01.tif\n",
      "/data2/varun/HiTIPS_paper_data/fig_5/kpnb1/exp2/AssayPlate_PerkinElmer_CellCarrier-384 Ultra_F11_T0487F007L01A01Z01C01.tif\n",
      "/data2/varun/HiTIPS_paper_data/fig_5/kpnb1/exp2/AssayPlate_PerkinElmer_CellCarrier-384 Ultra_F11_T0488F003L01A01Z01C01.tif\n",
      "/data2/varun/HiTIPS_paper_data/fig_5/kpnb1/exp2/AssayPlate_PerkinElmer_CellCarrier-384 Ultra_F11_T0488F002L01A01Z01C01.tif\n",
      "/data2/varun/HiTIPS_paper_data/fig_5/kpnb1/exp2/AssayPlate_PerkinElmer_CellCarrier-384 Ultra_F11_T0488F005L01A01Z01C01.tif\n",
      "/data2/varun/HiTIPS_paper_data/fig_5/kpnb1/exp2/AssayPlate_PerkinElmer_CellCarrier-384 Ultra_F11_T0488F004L01A01Z01C01.tif\n",
      "/data2/varun/HiTIPS_paper_data/fig_5/kpnb1/exp2/AssayPlate_PerkinElmer_CellCarrier-384 Ultra_F11_T0488F007L01A01Z01C01.tif\n",
      "/data2/varun/HiTIPS_paper_data/fig_5/kpnb1/exp2/AssayPlate_PerkinElmer_CellCarrier-384 Ultra_F11_T0488F006L01A01Z01C01.tif\n",
      "/data2/varun/HiTIPS_paper_data/fig_5/kpnb1/exp2/AssayPlate_PerkinElmer_CellCarrier-384 Ultra_F11_T0488F009L01A01Z01C01.tif\n",
      "/data2/varun/HiTIPS_paper_data/fig_5/kpnb1/exp2/AssayPlate_PerkinElmer_CellCarrier-384 Ultra_F11_T0488F008L01A01Z01C01.tif\n",
      "/data2/varun/HiTIPS_paper_data/fig_5/kpnb1/exp2/AssayPlate_PerkinElmer_CellCarrier-384 Ultra_F11_T0489F002L01A01Z01C01.tif\n",
      "/data2/varun/HiTIPS_paper_data/fig_5/kpnb1/exp2/AssayPlate_PerkinElmer_CellCarrier-384 Ultra_F11_T0489F004L01A01Z01C01.tif\n",
      "/data2/varun/HiTIPS_paper_data/fig_5/kpnb1/exp2/AssayPlate_PerkinElmer_CellCarrier-384 Ultra_F11_T0489F003L01A01Z01C01.tif\n",
      "/data2/varun/HiTIPS_paper_data/fig_5/kpnb1/exp2/AssayPlate_PerkinElmer_CellCarrier-384 Ultra_F11_T0489F001L01A01Z01C01.tif\n",
      "/data2/varun/HiTIPS_paper_data/fig_5/kpnb1/exp2/AssayPlate_PerkinElmer_CellCarrier-384 Ultra_F11_T0489F007L01A01Z01C01.tif\n",
      "/data2/varun/HiTIPS_paper_data/fig_5/kpnb1/exp2/AssayPlate_PerkinElmer_CellCarrier-384 Ultra_F11_T0489F005L01A01Z01C01.tif\n",
      "/data2/varun/HiTIPS_paper_data/fig_5/kpnb1/exp2/AssayPlate_PerkinElmer_CellCarrier-384 Ultra_F11_T0489F006L01A01Z01C01.tif\n",
      "/data2/varun/HiTIPS_paper_data/fig_5/kpnb1/exp2/AssayPlate_PerkinElmer_CellCarrier-384 Ultra_F11_T0489F008L01A01Z01C01.tif\n",
      "/data2/varun/HiTIPS_paper_data/fig_5/kpnb1/exp2/AssayPlate_PerkinElmer_CellCarrier-384 Ultra_F11_T0490F001L01A01Z01C01.tif\n",
      "/data2/varun/HiTIPS_paper_data/fig_5/kpnb1/exp2/AssayPlate_PerkinElmer_CellCarrier-384 Ultra_F11_T0489F009L01A01Z01C01.tif\n",
      "/data2/varun/HiTIPS_paper_data/fig_5/kpnb1/exp2/AssayPlate_PerkinElmer_CellCarrier-384 Ultra_F11_T0490F003L01A01Z01C01.tif\n",
      "/data2/varun/HiTIPS_paper_data/fig_5/kpnb1/exp2/AssayPlate_PerkinElmer_CellCarrier-384 Ultra_F11_T0490F002L01A01Z01C01.tif\n",
      "/data2/varun/HiTIPS_paper_data/fig_5/kpnb1/exp2/AssayPlate_PerkinElmer_CellCarrier-384 Ultra_F11_T0490F005L01A01Z01C01.tif\n",
      "/data2/varun/HiTIPS_paper_data/fig_5/kpnb1/exp2/AssayPlate_PerkinElmer_CellCarrier-384 Ultra_F11_T0490F006L01A01Z01C01.tif\n",
      "/data2/varun/HiTIPS_paper_data/fig_5/kpnb1/exp2/AssayPlate_PerkinElmer_CellCarrier-384 Ultra_F11_T0490F007L01A01Z01C01.tif\n",
      "/data2/varun/HiTIPS_paper_data/fig_5/kpnb1/exp2/AssayPlate_PerkinElmer_CellCarrier-384 Ultra_F11_T0490F004L01A01Z01C01.tif\n",
      "/data2/varun/HiTIPS_paper_data/fig_5/kpnb1/exp2/AssayPlate_PerkinElmer_CellCarrier-384 Ultra_F11_T0490F009L01A01Z01C01.tif\n",
      "/data2/varun/HiTIPS_paper_data/fig_5/kpnb1/exp2/AssayPlate_PerkinElmer_CellCarrier-384 Ultra_F11_T0490F008L01A01Z01C01.tif\n",
      "/data2/varun/HiTIPS_paper_data/fig_5/kpnb1/exp2/AssayPlate_PerkinElmer_CellCarrier-384 Ultra_F11_T0491F001L01A01Z01C01.tif\n",
      "/data2/varun/HiTIPS_paper_data/fig_5/kpnb1/exp2/AssayPlate_PerkinElmer_CellCarrier-384 Ultra_F11_T0491F002L01A01Z01C01.tif\n",
      "/data2/varun/HiTIPS_paper_data/fig_5/kpnb1/exp2/AssayPlate_PerkinElmer_CellCarrier-384 Ultra_F11_T0491F003L01A01Z01C01.tif\n",
      "/data2/varun/HiTIPS_paper_data/fig_5/kpnb1/exp2/AssayPlate_PerkinElmer_CellCarrier-384 Ultra_F11_T0491F005L01A01Z01C01.tif\n",
      "/data2/varun/HiTIPS_paper_data/fig_5/kpnb1/exp2/AssayPlate_PerkinElmer_CellCarrier-384 Ultra_F11_T0491F004L01A01Z01C01.tif\n",
      "/data2/varun/HiTIPS_paper_data/fig_5/kpnb1/exp2/AssayPlate_PerkinElmer_CellCarrier-384 Ultra_F11_T0491F006L01A01Z01C01.tif\n",
      "/data2/varun/HiTIPS_paper_data/fig_5/kpnb1/exp2/AssayPlate_PerkinElmer_CellCarrier-384 Ultra_F11_T0491F008L01A01Z01C01.tif\n",
      "/data2/varun/HiTIPS_paper_data/fig_5/kpnb1/exp2/AssayPlate_PerkinElmer_CellCarrier-384 Ultra_F11_T0491F009L01A01Z01C01.tif\n",
      "/data2/varun/HiTIPS_paper_data/fig_5/kpnb1/exp2/AssayPlate_PerkinElmer_CellCarrier-384 Ultra_F11_T0491F007L01A01Z01C01.tif\n",
      "/data2/varun/HiTIPS_paper_data/fig_5/kpnb1/exp2/AssayPlate_PerkinElmer_CellCarrier-384 Ultra_F11_T0492F001L01A01Z01C01.tif\n",
      "/data2/varun/HiTIPS_paper_data/fig_5/kpnb1/exp2/AssayPlate_PerkinElmer_CellCarrier-384 Ultra_F11_T0492F003L01A01Z01C01.tif\n",
      "/data2/varun/HiTIPS_paper_data/fig_5/kpnb1/exp2/AssayPlate_PerkinElmer_CellCarrier-384 Ultra_F11_T0492F005L01A01Z01C01.tif\n",
      "/data2/varun/HiTIPS_paper_data/fig_5/kpnb1/exp2/AssayPlate_PerkinElmer_CellCarrier-384 Ultra_F11_T0492F004L01A01Z01C01.tif\n",
      "/data2/varun/HiTIPS_paper_data/fig_5/kpnb1/exp2/AssayPlate_PerkinElmer_CellCarrier-384 Ultra_F11_T0492F002L01A01Z01C01.tif\n",
      "/data2/varun/HiTIPS_paper_data/fig_5/kpnb1/exp2/AssayPlate_PerkinElmer_CellCarrier-384 Ultra_F11_T0492F007L01A01Z01C01.tif\n",
      "/data2/varun/HiTIPS_paper_data/fig_5/kpnb1/exp2/AssayPlate_PerkinElmer_CellCarrier-384 Ultra_F11_T0492F006L01A01Z01C01.tif\n",
      "/data2/varun/HiTIPS_paper_data/fig_5/kpnb1/exp2/AssayPlate_PerkinElmer_CellCarrier-384 Ultra_F11_T0492F009L01A01Z01C01.tif\n",
      "/data2/varun/HiTIPS_paper_data/fig_5/kpnb1/exp2/AssayPlate_PerkinElmer_CellCarrier-384 Ultra_F11_T0492F008L01A01Z01C01.tif\n",
      "/data2/varun/HiTIPS_paper_data/fig_5/kpnb1/exp2/AssayPlate_PerkinElmer_CellCarrier-384 Ultra_F11_T0493F002L01A01Z01C01.tif\n",
      "/data2/varun/HiTIPS_paper_data/fig_5/kpnb1/exp2/AssayPlate_PerkinElmer_CellCarrier-384 Ultra_F11_T0493F004L01A01Z01C01.tif\n",
      "/data2/varun/HiTIPS_paper_data/fig_5/kpnb1/exp2/AssayPlate_PerkinElmer_CellCarrier-384 Ultra_F11_T0493F001L01A01Z01C01.tif\n",
      "/data2/varun/HiTIPS_paper_data/fig_5/kpnb1/exp2/AssayPlate_PerkinElmer_CellCarrier-384 Ultra_F11_T0493F003L01A01Z01C01.tif\n",
      "/data2/varun/HiTIPS_paper_data/fig_5/kpnb1/exp2/AssayPlate_PerkinElmer_CellCarrier-384 Ultra_F11_T0493F006L01A01Z01C01.tif\n",
      "/data2/varun/HiTIPS_paper_data/fig_5/kpnb1/exp2/AssayPlate_PerkinElmer_CellCarrier-384 Ultra_F11_T0493F005L01A01Z01C01.tif\n",
      "/data2/varun/HiTIPS_paper_data/fig_5/kpnb1/exp2/AssayPlate_PerkinElmer_CellCarrier-384 Ultra_F11_T0493F008L01A01Z01C01.tif\n",
      "/data2/varun/HiTIPS_paper_data/fig_5/kpnb1/exp2/AssayPlate_PerkinElmer_CellCarrier-384 Ultra_F11_T0493F007L01A01Z01C01.tif\n",
      "/data2/varun/HiTIPS_paper_data/fig_5/kpnb1/exp2/AssayPlate_PerkinElmer_CellCarrier-384 Ultra_F11_T0494F001L01A01Z01C01.tif\n",
      "/data2/varun/HiTIPS_paper_data/fig_5/kpnb1/exp2/AssayPlate_PerkinElmer_CellCarrier-384 Ultra_F11_T0493F009L01A01Z01C01.tif\n",
      "/data2/varun/HiTIPS_paper_data/fig_5/kpnb1/exp2/AssayPlate_PerkinElmer_CellCarrier-384 Ultra_F11_T0494F003L01A01Z01C01.tif\n",
      "/data2/varun/HiTIPS_paper_data/fig_5/kpnb1/exp2/AssayPlate_PerkinElmer_CellCarrier-384 Ultra_F11_T0494F002L01A01Z01C01.tif\n",
      "/data2/varun/HiTIPS_paper_data/fig_5/kpnb1/exp2/AssayPlate_PerkinElmer_CellCarrier-384 Ultra_F11_T0494F005L01A01Z01C01.tif\n",
      "/data2/varun/HiTIPS_paper_data/fig_5/kpnb1/exp2/AssayPlate_PerkinElmer_CellCarrier-384 Ultra_F11_T0494F006L01A01Z01C01.tif\n",
      "/data2/varun/HiTIPS_paper_data/fig_5/kpnb1/exp2/AssayPlate_PerkinElmer_CellCarrier-384 Ultra_F11_T0494F007L01A01Z01C01.tif\n",
      "/data2/varun/HiTIPS_paper_data/fig_5/kpnb1/exp2/AssayPlate_PerkinElmer_CellCarrier-384 Ultra_F11_T0494F004L01A01Z01C01.tif\n",
      "/data2/varun/HiTIPS_paper_data/fig_5/kpnb1/exp2/AssayPlate_PerkinElmer_CellCarrier-384 Ultra_F11_T0494F009L01A01Z01C01.tif\n",
      "/data2/varun/HiTIPS_paper_data/fig_5/kpnb1/exp2/AssayPlate_PerkinElmer_CellCarrier-384 Ultra_F11_T0494F008L01A01Z01C01.tif\n",
      "/data2/varun/HiTIPS_paper_data/fig_5/kpnb1/exp2/AssayPlate_PerkinElmer_CellCarrier-384 Ultra_F11_T0495F002L01A01Z01C01.tif\n",
      "/data2/varun/HiTIPS_paper_data/fig_5/kpnb1/exp2/AssayPlate_PerkinElmer_CellCarrier-384 Ultra_F11_T0495F001L01A01Z01C01.tif\n",
      "/data2/varun/HiTIPS_paper_data/fig_5/kpnb1/exp2/AssayPlate_PerkinElmer_CellCarrier-384 Ultra_F11_T0495F005L01A01Z01C01.tif\n",
      "/data2/varun/HiTIPS_paper_data/fig_5/kpnb1/exp2/AssayPlate_PerkinElmer_CellCarrier-384 Ultra_F11_T0495F004L01A01Z01C01.tif\n",
      "/data2/varun/HiTIPS_paper_data/fig_5/kpnb1/exp2/AssayPlate_PerkinElmer_CellCarrier-384 Ultra_F11_T0495F003L01A01Z01C01.tif\n",
      "/data2/varun/HiTIPS_paper_data/fig_5/kpnb1/exp2/AssayPlate_PerkinElmer_CellCarrier-384 Ultra_F11_T0495F006L01A01Z01C01.tif\n",
      "/data2/varun/HiTIPS_paper_data/fig_5/kpnb1/exp2/AssayPlate_PerkinElmer_CellCarrier-384 Ultra_F11_T0495F008L01A01Z01C01.tif\n",
      "/data2/varun/HiTIPS_paper_data/fig_5/kpnb1/exp2/AssayPlate_PerkinElmer_CellCarrier-384 Ultra_F11_T0495F007L01A01Z01C01.tif\n",
      "/data2/varun/HiTIPS_paper_data/fig_5/kpnb1/exp2/AssayPlate_PerkinElmer_CellCarrier-384 Ultra_F11_T0495F009L01A01Z01C01.tif\n",
      "/data2/varun/HiTIPS_paper_data/fig_5/kpnb1/exp2/AssayPlate_PerkinElmer_CellCarrier-384 Ultra_F11_T0496F001L01A01Z01C01.tif\n",
      "/data2/varun/HiTIPS_paper_data/fig_5/kpnb1/exp2/AssayPlate_PerkinElmer_CellCarrier-384 Ultra_F11_T0496F003L01A01Z01C01.tif\n",
      "/data2/varun/HiTIPS_paper_data/fig_5/kpnb1/exp2/AssayPlate_PerkinElmer_CellCarrier-384 Ultra_F11_T0496F005L01A01Z01C01.tif\n",
      "/data2/varun/HiTIPS_paper_data/fig_5/kpnb1/exp2/AssayPlate_PerkinElmer_CellCarrier-384 Ultra_F11_T0496F004L01A01Z01C01.tif\n",
      "/data2/varun/HiTIPS_paper_data/fig_5/kpnb1/exp2/AssayPlate_PerkinElmer_CellCarrier-384 Ultra_F11_T0496F002L01A01Z01C01.tif\n",
      "/data2/varun/HiTIPS_paper_data/fig_5/kpnb1/exp2/AssayPlate_PerkinElmer_CellCarrier-384 Ultra_F11_T0496F007L01A01Z01C01.tif\n",
      "/data2/varun/HiTIPS_paper_data/fig_5/kpnb1/exp2/AssayPlate_PerkinElmer_CellCarrier-384 Ultra_F11_T0496F009L01A01Z01C01.tif\n",
      "/data2/varun/HiTIPS_paper_data/fig_5/kpnb1/exp2/AssayPlate_PerkinElmer_CellCarrier-384 Ultra_F11_T0496F008L01A01Z01C01.tif\n",
      "/data2/varun/HiTIPS_paper_data/fig_5/kpnb1/exp2/AssayPlate_PerkinElmer_CellCarrier-384 Ultra_F11_T0496F006L01A01Z01C01.tif\n",
      "/data2/varun/HiTIPS_paper_data/fig_5/kpnb1/exp2/AssayPlate_PerkinElmer_CellCarrier-384 Ultra_F11_T0497F002L01A01Z01C01.tif\n",
      "/data2/varun/HiTIPS_paper_data/fig_5/kpnb1/exp2/AssayPlate_PerkinElmer_CellCarrier-384 Ultra_F11_T0497F003L01A01Z01C01.tif\n",
      "/data2/varun/HiTIPS_paper_data/fig_5/kpnb1/exp2/AssayPlate_PerkinElmer_CellCarrier-384 Ultra_F11_T0497F001L01A01Z01C01.tif\n",
      "/data2/varun/HiTIPS_paper_data/fig_5/kpnb1/exp2/AssayPlate_PerkinElmer_CellCarrier-384 Ultra_F11_T0497F004L01A01Z01C01.tif\n",
      "/data2/varun/HiTIPS_paper_data/fig_5/kpnb1/exp2/AssayPlate_PerkinElmer_CellCarrier-384 Ultra_F11_T0497F006L01A01Z01C01.tif\n",
      "/data2/varun/HiTIPS_paper_data/fig_5/kpnb1/exp2/AssayPlate_PerkinElmer_CellCarrier-384 Ultra_F11_T0497F007L01A01Z01C01.tif\n",
      "/data2/varun/HiTIPS_paper_data/fig_5/kpnb1/exp2/AssayPlate_PerkinElmer_CellCarrier-384 Ultra_F11_T0497F008L01A01Z01C01.tif\n",
      "/data2/varun/HiTIPS_paper_data/fig_5/kpnb1/exp2/AssayPlate_PerkinElmer_CellCarrier-384 Ultra_F11_T0497F005L01A01Z01C01.tif\n",
      "/data2/varun/HiTIPS_paper_data/fig_5/kpnb1/exp2/AssayPlate_PerkinElmer_CellCarrier-384 Ultra_F11_T0498F001L01A01Z01C01.tif\n",
      "/data2/varun/HiTIPS_paper_data/fig_5/kpnb1/exp2/AssayPlate_PerkinElmer_CellCarrier-384 Ultra_F11_T0498F003L01A01Z01C01.tif\n",
      "/data2/varun/HiTIPS_paper_data/fig_5/kpnb1/exp2/AssayPlate_PerkinElmer_CellCarrier-384 Ultra_F11_T0498F002L01A01Z01C01.tif\n",
      "/data2/varun/HiTIPS_paper_data/fig_5/kpnb1/exp2/AssayPlate_PerkinElmer_CellCarrier-384 Ultra_F11_T0497F009L01A01Z01C01.tif\n",
      "/data2/varun/HiTIPS_paper_data/fig_5/kpnb1/exp2/AssayPlate_PerkinElmer_CellCarrier-384 Ultra_F11_T0498F005L01A01Z01C01.tif\n",
      "/data2/varun/HiTIPS_paper_data/fig_5/kpnb1/exp2/AssayPlate_PerkinElmer_CellCarrier-384 Ultra_F11_T0498F004L01A01Z01C01.tif\n",
      "/data2/varun/HiTIPS_paper_data/fig_5/kpnb1/exp2/AssayPlate_PerkinElmer_CellCarrier-384 Ultra_F11_T0498F007L01A01Z01C01.tif\n",
      "/data2/varun/HiTIPS_paper_data/fig_5/kpnb1/exp2/AssayPlate_PerkinElmer_CellCarrier-384 Ultra_F11_T0498F006L01A01Z01C01.tif\n",
      "/data2/varun/HiTIPS_paper_data/fig_5/kpnb1/exp2/AssayPlate_PerkinElmer_CellCarrier-384 Ultra_F11_T0498F009L01A01Z01C01.tif\n",
      "/data2/varun/HiTIPS_paper_data/fig_5/kpnb1/exp2/AssayPlate_PerkinElmer_CellCarrier-384 Ultra_F11_T0499F001L01A01Z01C01.tif\n",
      "/data2/varun/HiTIPS_paper_data/fig_5/kpnb1/exp2/AssayPlate_PerkinElmer_CellCarrier-384 Ultra_F11_T0498F008L01A01Z01C01.tif\n",
      "/data2/varun/HiTIPS_paper_data/fig_5/kpnb1/exp2/AssayPlate_PerkinElmer_CellCarrier-384 Ultra_F11_T0499F002L01A01Z01C01.tif\n",
      "/data2/varun/HiTIPS_paper_data/fig_5/kpnb1/exp2/AssayPlate_PerkinElmer_CellCarrier-384 Ultra_F11_T0499F004L01A01Z01C01.tif\n",
      "/data2/varun/HiTIPS_paper_data/fig_5/kpnb1/exp2/AssayPlate_PerkinElmer_CellCarrier-384 Ultra_F11_T0499F003L01A01Z01C01.tif\n",
      "/data2/varun/HiTIPS_paper_data/fig_5/kpnb1/exp2/AssayPlate_PerkinElmer_CellCarrier-384 Ultra_F11_T0499F005L01A01Z01C01.tif\n",
      "/data2/varun/HiTIPS_paper_data/fig_5/kpnb1/exp2/AssayPlate_PerkinElmer_CellCarrier-384 Ultra_F11_T0499F006L01A01Z01C01.tif\n",
      "/data2/varun/HiTIPS_paper_data/fig_5/kpnb1/exp2/AssayPlate_PerkinElmer_CellCarrier-384 Ultra_F11_T0499F008L01A01Z01C01.tif\n",
      "/data2/varun/HiTIPS_paper_data/fig_5/kpnb1/exp2/AssayPlate_PerkinElmer_CellCarrier-384 Ultra_F11_T0500F001L01A01Z01C01.tif\n",
      "/data2/varun/HiTIPS_paper_data/fig_5/kpnb1/exp2/AssayPlate_PerkinElmer_CellCarrier-384 Ultra_F11_T0499F009L01A01Z01C01.tif\n",
      "/data2/varun/HiTIPS_paper_data/fig_5/kpnb1/exp2/AssayPlate_PerkinElmer_CellCarrier-384 Ultra_F11_T0499F007L01A01Z01C01.tif\n",
      "/data2/varun/HiTIPS_paper_data/fig_5/kpnb1/exp2/AssayPlate_PerkinElmer_CellCarrier-384 Ultra_F11_T0500F003L01A01Z01C01.tif\n",
      "/data2/varun/HiTIPS_paper_data/fig_5/kpnb1/exp2/AssayPlate_PerkinElmer_CellCarrier-384 Ultra_F11_T0500F002L01A01Z01C01.tif\n",
      "/data2/varun/HiTIPS_paper_data/fig_5/kpnb1/exp2/AssayPlate_PerkinElmer_CellCarrier-384 Ultra_F11_T0500F005L01A01Z01C01.tif\n",
      "/data2/varun/HiTIPS_paper_data/fig_5/kpnb1/exp2/AssayPlate_PerkinElmer_CellCarrier-384 Ultra_F11_T0500F004L01A01Z01C01.tif\n",
      "/data2/varun/HiTIPS_paper_data/fig_5/kpnb1/exp2/AssayPlate_PerkinElmer_CellCarrier-384 Ultra_F11_T0500F007L01A01Z01C01.tif\n",
      "/data2/varun/HiTIPS_paper_data/fig_5/kpnb1/exp2/AssayPlate_PerkinElmer_CellCarrier-384 Ultra_F11_T0500F008L01A01Z01C01.tif\n",
      "/data2/varun/HiTIPS_paper_data/fig_5/kpnb1/exp2/AssayPlate_PerkinElmer_CellCarrier-384 Ultra_F11_T0500F006L01A01Z01C01.tif\n",
      "/data2/varun/HiTIPS_paper_data/fig_5/kpnb1/exp2/AssayPlate_PerkinElmer_CellCarrier-384 Ultra_F11_T0500F009L01A01Z01C01.tif\n",
      "/data2/varun/HiTIPS_paper_data/fig_5/kpnb1/exp2/AssayPlate_PerkinElmer_CellCarrier-384 Ultra_F11_T0501F002L01A01Z01C01.tif\n",
      "/data2/varun/HiTIPS_paper_data/fig_5/kpnb1/exp2/AssayPlate_PerkinElmer_CellCarrier-384 Ultra_F11_T0501F003L01A01Z01C01.tif\n",
      "/data2/varun/HiTIPS_paper_data/fig_5/kpnb1/exp2/AssayPlate_PerkinElmer_CellCarrier-384 Ultra_F11_T0501F001L01A01Z01C01.tif\n",
      "/data2/varun/HiTIPS_paper_data/fig_5/kpnb1/exp2/AssayPlate_PerkinElmer_CellCarrier-384 Ultra_F11_T0501F004L01A01Z01C01.tif\n",
      "/data2/varun/HiTIPS_paper_data/fig_5/kpnb1/exp2/AssayPlate_PerkinElmer_CellCarrier-384 Ultra_F11_T0501F005L01A01Z01C01.tif\n",
      "/data2/varun/HiTIPS_paper_data/fig_5/kpnb1/exp2/AssayPlate_PerkinElmer_CellCarrier-384 Ultra_F11_T0501F006L01A01Z01C01.tif\n",
      "/data2/varun/HiTIPS_paper_data/fig_5/kpnb1/exp2/AssayPlate_PerkinElmer_CellCarrier-384 Ultra_F11_T0501F007L01A01Z01C01.tif\n",
      "/data2/varun/HiTIPS_paper_data/fig_5/kpnb1/exp2/AssayPlate_PerkinElmer_CellCarrier-384 Ultra_F11_T0501F008L01A01Z01C01.tif\n",
      "/data2/varun/HiTIPS_paper_data/fig_5/kpnb1/exp2/AssayPlate_PerkinElmer_CellCarrier-384 Ultra_F11_T0502F001L01A01Z01C01.tif\n",
      "/data2/varun/HiTIPS_paper_data/fig_5/kpnb1/exp2/AssayPlate_PerkinElmer_CellCarrier-384 Ultra_F11_T0501F009L01A01Z01C01.tif\n",
      "/data2/varun/HiTIPS_paper_data/fig_5/kpnb1/exp2/AssayPlate_PerkinElmer_CellCarrier-384 Ultra_F11_T0502F003L01A01Z01C01.tif\n",
      "/data2/varun/HiTIPS_paper_data/fig_5/kpnb1/exp2/AssayPlate_PerkinElmer_CellCarrier-384 Ultra_F11_T0502F002L01A01Z01C01.tif\n",
      "/data2/varun/HiTIPS_paper_data/fig_5/kpnb1/exp2/AssayPlate_PerkinElmer_CellCarrier-384 Ultra_F11_T0502F005L01A01Z01C01.tif\n",
      "/data2/varun/HiTIPS_paper_data/fig_5/kpnb1/exp2/AssayPlate_PerkinElmer_CellCarrier-384 Ultra_F11_T0502F004L01A01Z01C01.tif\n",
      "/data2/varun/HiTIPS_paper_data/fig_5/kpnb1/exp2/AssayPlate_PerkinElmer_CellCarrier-384 Ultra_F11_T0502F007L01A01Z01C01.tif\n",
      "/data2/varun/HiTIPS_paper_data/fig_5/kpnb1/exp2/AssayPlate_PerkinElmer_CellCarrier-384 Ultra_F11_T0502F006L01A01Z01C01.tif\n",
      "/data2/varun/HiTIPS_paper_data/fig_5/kpnb1/exp2/AssayPlate_PerkinElmer_CellCarrier-384 Ultra_F11_T0502F008L01A01Z01C01.tif\n",
      "/data2/varun/HiTIPS_paper_data/fig_5/kpnb1/exp2/AssayPlate_PerkinElmer_CellCarrier-384 Ultra_F11_T0502F009L01A01Z01C01.tif\n",
      "/data2/varun/HiTIPS_paper_data/fig_5/kpnb1/exp2/AssayPlate_PerkinElmer_CellCarrier-384 Ultra_F11_T0503F001L01A01Z01C01.tif\n",
      "/data2/varun/HiTIPS_paper_data/fig_5/kpnb1/exp2/AssayPlate_PerkinElmer_CellCarrier-384 Ultra_F11_T0503F002L01A01Z01C01.tif\n",
      "/data2/varun/HiTIPS_paper_data/fig_5/kpnb1/exp2/AssayPlate_PerkinElmer_CellCarrier-384 Ultra_F11_T0503F004L01A01Z01C01.tif\n",
      "/data2/varun/HiTIPS_paper_data/fig_5/kpnb1/exp2/AssayPlate_PerkinElmer_CellCarrier-384 Ultra_F11_T0503F006L01A01Z01C01.tif\n",
      "/data2/varun/HiTIPS_paper_data/fig_5/kpnb1/exp2/AssayPlate_PerkinElmer_CellCarrier-384 Ultra_F11_T0503F005L01A01Z01C01.tif\n",
      "/data2/varun/HiTIPS_paper_data/fig_5/kpnb1/exp2/AssayPlate_PerkinElmer_CellCarrier-384 Ultra_F11_T0503F003L01A01Z01C01.tif\n",
      "/data2/varun/HiTIPS_paper_data/fig_5/kpnb1/exp2/AssayPlate_PerkinElmer_CellCarrier-384 Ultra_F11_T0503F009L01A01Z01C01.tif\n",
      "/data2/varun/HiTIPS_paper_data/fig_5/kpnb1/exp2/AssayPlate_PerkinElmer_CellCarrier-384 Ultra_F11_T0503F008L01A01Z01C01.tif\n",
      "/data2/varun/HiTIPS_paper_data/fig_5/kpnb1/exp2/AssayPlate_PerkinElmer_CellCarrier-384 Ultra_F11_T0503F007L01A01Z01C01.tif\n",
      "/data2/varun/HiTIPS_paper_data/fig_5/kpnb1/exp2/AssayPlate_PerkinElmer_CellCarrier-384 Ultra_F11_T0504F001L01A01Z01C01.tif\n",
      "/data2/varun/HiTIPS_paper_data/fig_5/kpnb1/exp2/AssayPlate_PerkinElmer_CellCarrier-384 Ultra_F11_T0504F003L01A01Z01C01.tif\n",
      "/data2/varun/HiTIPS_paper_data/fig_5/kpnb1/exp2/AssayPlate_PerkinElmer_CellCarrier-384 Ultra_F11_T0504F005L01A01Z01C01.tif\n",
      "/data2/varun/HiTIPS_paper_data/fig_5/kpnb1/exp2/AssayPlate_PerkinElmer_CellCarrier-384 Ultra_F11_T0504F002L01A01Z01C01.tif\n",
      "/data2/varun/HiTIPS_paper_data/fig_5/kpnb1/exp2/AssayPlate_PerkinElmer_CellCarrier-384 Ultra_F11_T0504F004L01A01Z01C01.tif\n",
      "/data2/varun/HiTIPS_paper_data/fig_5/kpnb1/exp2/AssayPlate_PerkinElmer_CellCarrier-384 Ultra_F11_T0504F007L01A01Z01C01.tif\n",
      "/data2/varun/HiTIPS_paper_data/fig_5/kpnb1/exp2/AssayPlate_PerkinElmer_CellCarrier-384 Ultra_F11_T0504F009L01A01Z01C01.tif\n",
      "/data2/varun/HiTIPS_paper_data/fig_5/kpnb1/exp2/AssayPlate_PerkinElmer_CellCarrier-384 Ultra_F11_T0504F008L01A01Z01C01.tif\n",
      "/data2/varun/HiTIPS_paper_data/fig_5/kpnb1/exp2/AssayPlate_PerkinElmer_CellCarrier-384 Ultra_F11_T0504F006L01A01Z01C01.tif\n",
      "Nuclei Information Saved....\n"
     ]
    },
    {
     "name": "stderr",
     "output_type": "stream",
     "text": [
      "[INFO][2024/08/18 07:29:30 PM] btrack (v0.4.3) library imported\n",
      "[INFO][2024/08/18 07:29:30 PM] Setting max XYZ search radius to: 100\n",
      "[INFO][2024/08/18 07:29:30 PM] Starting BayesianTracker session\n",
      "[INFO][2024/08/18 07:29:30 PM] btrack (v0.4.3) library imported\n",
      "[INFO][2024/08/18 07:29:30 PM] Setting max XYZ search radius to: 100\n",
      "[INFO][2024/08/18 07:29:30 PM] Loading motion model: cell_motion\n",
      "[INFO][2024/08/18 07:29:30 PM] Setting max XYZ search radius to: 100\n",
      "[INFO][2024/08/18 07:29:30 PM] Starting tracking... \n",
      "[INFO][2024/08/18 07:29:30 PM] Tracking objects in frames 0 to 99 (of 504)...\n",
      "[INFO][2024/08/18 07:29:30 PM] Tracking objects in frames 100 to 199 (of 504)...\n",
      "[INFO][2024/08/18 07:29:30 PM] Tracking objects in frames 200 to 299 (of 504)...\n",
      "[INFO][2024/08/18 07:29:30 PM] Tracking objects in frames 300 to 399 (of 504)...\n",
      "[INFO][2024/08/18 07:29:30 PM] Tracking objects in frames 400 to 499 (of 504)...\n",
      "[INFO][2024/08/18 07:29:30 PM] Tracking objects in frames 500 to 504 (of 504)...\n",
      "[INFO][2024/08/18 07:29:30 PM] SUCCESS.\n",
      "[INFO][2024/08/18 07:29:30 PM]  - Found 1811 tracks in 504 frames (in 0.0s)\n",
      "[INFO][2024/08/18 07:29:30 PM]  - Inserted 433 dummy objects to fill tracking gaps\n",
      "[INFO][2024/08/18 07:29:30 PM] Loading hypothesis model: cell_hypothesis\n",
      "[INFO][2024/08/18 07:29:30 PM] Calculating hypotheses (relax: True)...\n",
      "[INFO][2024/08/18 07:29:31 PM]  - Fates.FALSE_POSITIVE: 489 (of 1811)\n",
      "[INFO][2024/08/18 07:29:31 PM]  - Fates.LINK: 864 (of 1144)\n",
      "[INFO][2024/08/18 07:29:31 PM]  - Fates.DIVIDE: 41 (of 123)\n",
      "[INFO][2024/08/18 07:29:31 PM]  - Fates.INITIALIZE_BORDER: 124 (of 210)\n",
      "[INFO][2024/08/18 07:29:31 PM]  - Fates.INITIALIZE_FRONT: 57 (of 61)\n",
      "[INFO][2024/08/18 07:29:31 PM]  - Fates.INITIALIZE_LAZY: 195 (of 1540)\n",
      "[INFO][2024/08/18 07:29:31 PM]  - Fates.TERMINATE_BORDER: 117 (of 197)\n",
      "[INFO][2024/08/18 07:29:31 PM]  - Fates.TERMINATE_BACK: 84 (of 104)\n",
      "[INFO][2024/08/18 07:29:31 PM]  - Fates.TERMINATE_LAZY: 216 (of 1510)\n",
      "[INFO][2024/08/18 07:29:31 PM]  - TOTAL: 6700 hypotheses\n",
      "[INFO][2024/08/18 07:29:31 PM] Completed optimization with 947 tracks\n",
      "[INFO][2024/08/18 07:29:31 PM] Ending BayesianTracker session\n"
     ]
    },
    {
     "name": "stdout",
     "output_type": "stream",
     "text": [
      "GLPK Integer Optimizer 5.0\n",
      "7244 rows, 6700 columns, 9901 non-zeros\n",
      "6700 integer variables, all of which are binary\n",
      "Preprocessing...\n",
      "3622 rows, 6700 columns, 9901 non-zeros\n",
      "6700 integer variables, all of which are binary\n",
      "Scaling...\n",
      " A: min|aij| =  1.000e+00  max|aij| =  1.000e+00  ratio =  1.000e+00\n",
      "Problem data seem to be well scaled\n",
      "Constructing initial basis...\n",
      "Size of triangular part is 3622\n",
      "Solving LP relaxation...\n",
      "GLPK Simplex Optimizer 5.0\n",
      "3622 rows, 6700 columns, 9901 non-zeros\n",
      "*     0: obj =   2.204810584e+04 inf =   0.000e+00 (2463)\n",
      "Perturbing LP to avoid stalling [1432]...\n",
      "Removing LP perturbation [2453]...\n",
      "*  2453: obj =   6.559041568e+03 inf =   0.000e+00 (0)\n",
      "OPTIMAL LP SOLUTION FOUND\n",
      "Integer optimization begins...\n",
      "Long-step dual simplex will be used\n",
      "+  2453: mip =     not found yet >=              -inf        (1; 0)\n",
      "+  2453: >>>>>   6.559041568e+03 >=   6.559041568e+03   0.0% (1; 0)\n",
      "+  2453: mip =   6.559041568e+03 >=     tree is empty   0.0% (0; 1)\n",
      "INTEGER OPTIMAL SOLUTION FOUND\n",
      "field number:  1\n"
     ]
    },
    {
     "name": "stderr",
     "output_type": "stream",
     "text": [
      "Even though the 'means_' attribute is set, it will be overwritten during initialization because 'init_params' contains 'm'\n",
      "Even though the 'means_' attribute is set, it will be overwritten during initialization because 'init_params' contains 'm'\n"
     ]
    },
    {
     "name": "stdout",
     "output_type": "stream",
     "text": [
      "saved track: col11_row6_field1_cell27\n",
      "saved track: col11_row6_field1_cell30\n"
     ]
    },
    {
     "name": "stderr",
     "output_type": "stream",
     "text": [
      "Even though the 'means_' attribute is set, it will be overwritten during initialization because 'init_params' contains 'm'\n"
     ]
    },
    {
     "name": "stdout",
     "output_type": "stream",
     "text": [
      "saved track: col11_row6_field1_cell31\n"
     ]
    },
    {
     "name": "stderr",
     "output_type": "stream",
     "text": [
      "Even though the 'means_' attribute is set, it will be overwritten during initialization because 'init_params' contains 'm'\n",
      "Even though the 'means_' attribute is set, it will be overwritten during initialization because 'init_params' contains 'm'\n"
     ]
    },
    {
     "name": "stdout",
     "output_type": "stream",
     "text": [
      "saved track: col11_row6_field1_cell32\n"
     ]
    },
    {
     "name": "stderr",
     "output_type": "stream",
     "text": [
      "Even though the 'means_' attribute is set, it will be overwritten during initialization because 'init_params' contains 'm'\n",
      "Even though the 'means_' attribute is set, it will be overwritten during initialization because 'init_params' contains 'm'\n"
     ]
    },
    {
     "name": "stdout",
     "output_type": "stream",
     "text": [
      "saved track: col11_row6_field1_cell33\n",
      "saved track: col11_row6_field1_cell34\n",
      "saved track: col11_row6_field1_cell36\n",
      "saved track: col11_row6_field1_cell2\n",
      "saved track: col11_row6_field1_cell38\n"
     ]
    },
    {
     "name": "stderr",
     "output_type": "stream",
     "text": [
      "Even though the 'means_' attribute is set, it will be overwritten during initialization because 'init_params' contains 'm'\n"
     ]
    },
    {
     "name": "stdout",
     "output_type": "stream",
     "text": [
      "saved track: col11_row6_field1_cell39\n",
      "saved track: col11_row6_field1_cell41\n",
      "saved track: col11_row6_field1_cell43\n"
     ]
    },
    {
     "name": "stderr",
     "output_type": "stream",
     "text": [
      "Even though the 'means_' attribute is set, it will be overwritten during initialization because 'init_params' contains 'm'\n",
      "Even though the 'means_' attribute is set, it will be overwritten during initialization because 'init_params' contains 'm'\n"
     ]
    },
    {
     "name": "stdout",
     "output_type": "stream",
     "text": [
      "saved track: col11_row6_field1_cell44\n"
     ]
    },
    {
     "name": "stderr",
     "output_type": "stream",
     "text": [
      "Even though the 'means_' attribute is set, it will be overwritten during initialization because 'init_params' contains 'm'\n"
     ]
    },
    {
     "name": "stdout",
     "output_type": "stream",
     "text": [
      "saved track: col11_row6_field1_cell45\n",
      "saved track: col11_row6_field1_cell46\n"
     ]
    },
    {
     "name": "stderr",
     "output_type": "stream",
     "text": [
      "Even though the 'means_' attribute is set, it will be overwritten during initialization because 'init_params' contains 'm'\n",
      "Even though the 'means_' attribute is set, it will be overwritten during initialization because 'init_params' contains 'm'\n"
     ]
    },
    {
     "name": "stdout",
     "output_type": "stream",
     "text": [
      "saved track: col11_row6_field1_cell1\n",
      "saved track: col11_row6_field1_cell24\n"
     ]
    },
    {
     "name": "stderr",
     "output_type": "stream",
     "text": [
      "Even though the 'means_' attribute is set, it will be overwritten during initialization because 'init_params' contains 'm'\n",
      "Even though the 'means_' attribute is set, it will be overwritten during initialization because 'init_params' contains 'm'\n"
     ]
    },
    {
     "name": "stdout",
     "output_type": "stream",
     "text": [
      "saved track: col11_row6_field1_cell25\n"
     ]
    },
    {
     "name": "stderr",
     "output_type": "stream",
     "text": [
      "Even though the 'means_' attribute is set, it will be overwritten during initialization because 'init_params' contains 'm'\n",
      "Even though the 'means_' attribute is set, it will be overwritten during initialization because 'init_params' contains 'm'\n"
     ]
    },
    {
     "name": "stdout",
     "output_type": "stream",
     "text": [
      "saved track: col11_row6_field1_cell3\n",
      "saved track: col11_row6_field1_cell4\n",
      "saved track: col11_row6_field1_cell6\n",
      "saved track: col11_row6_field1_cell7\n",
      "saved track: col11_row6_field1_cell8\n",
      "saved track: col11_row6_field1_cell9\n",
      "saved track: col11_row6_field1_cell11\n",
      "saved track: col11_row6_field1_cell12\n",
      "saved track: col11_row6_field1_cell22\n",
      "saved track: col11_row6_field1_cell18\n",
      "saved track: col11_row6_field1_cell19\n",
      "saved track: col11_row6_field1_cell15\n"
     ]
    },
    {
     "name": "stderr",
     "output_type": "stream",
     "text": [
      "Even though the 'means_' attribute is set, it will be overwritten during initialization because 'init_params' contains 'm'\n"
     ]
    },
    {
     "name": "stdout",
     "output_type": "stream",
     "text": [
      "saved track: col11_row6_field1_cell17\n",
      "saved track: col11_row6_field1_cell16\n"
     ]
    },
    {
     "name": "stderr",
     "output_type": "stream",
     "text": [
      "Even though the 'means_' attribute is set, it will be overwritten during initialization because 'init_params' contains 'm'\n"
     ]
    },
    {
     "name": "stdout",
     "output_type": "stream",
     "text": [
      "saved track: col11_row6_field1_cell48\n"
     ]
    },
    {
     "name": "stderr",
     "output_type": "stream",
     "text": [
      "Even though the 'means_' attribute is set, it will be overwritten during initialization because 'init_params' contains 'm'\n",
      "Even though the 'means_' attribute is set, it will be overwritten during initialization because 'init_params' contains 'm'\n"
     ]
    },
    {
     "name": "stdout",
     "output_type": "stream",
     "text": [
      "saved track: col11_row6_field1_cell50\n"
     ]
    },
    {
     "name": "stderr",
     "output_type": "stream",
     "text": [
      "Even though the 'means_' attribute is set, it will be overwritten during initialization because 'init_params' contains 'm'\n",
      "Even though the 'means_' attribute is set, it will be overwritten during initialization because 'init_params' contains 'm'\n"
     ]
    },
    {
     "name": "stdout",
     "output_type": "stream",
     "text": [
      "saved track: col11_row6_field1_cell51\n",
      "saved track: col11_row6_field1_cell52\n",
      "saved track: col11_row6_field1_cell55\n",
      "saved track: col11_row6_field1_cell63\n",
      "saved track: col11_row6_field1_cell73\n",
      "saved track: col11_row6_field1_cell78\n",
      "saved track: col11_row6_field1_cell79\n",
      "saved track: col11_row6_field1_cell98\n"
     ]
    },
    {
     "name": "stderr",
     "output_type": "stream",
     "text": [
      "Even though the 'means_' attribute is set, it will be overwritten during initialization because 'init_params' contains 'm'\n",
      "Even though the 'means_' attribute is set, it will be overwritten during initialization because 'init_params' contains 'm'\n"
     ]
    },
    {
     "name": "stdout",
     "output_type": "stream",
     "text": [
      "saved track: col11_row6_field1_cell107\n",
      "saved track: col11_row6_field1_cell121\n",
      "saved track: col11_row6_field1_cell122\n",
      "saved track: col11_row6_field1_cell125\n",
      "saved track: col11_row6_field1_cell132\n",
      "saved track: col11_row6_field1_cell133\n"
     ]
    },
    {
     "name": "stderr",
     "output_type": "stream",
     "text": [
      "Even though the 'means_' attribute is set, it will be overwritten during initialization because 'init_params' contains 'm'\n",
      "Even though the 'means_' attribute is set, it will be overwritten during initialization because 'init_params' contains 'm'\n"
     ]
    },
    {
     "name": "stdout",
     "output_type": "stream",
     "text": [
      "saved track: col11_row6_field1_cell134\n",
      "saved track: col11_row6_field1_cell145\n",
      "saved track: col11_row6_field1_cell164\n"
     ]
    },
    {
     "name": "stderr",
     "output_type": "stream",
     "text": [
      "Even though the 'means_' attribute is set, it will be overwritten during initialization because 'init_params' contains 'm'\n"
     ]
    },
    {
     "name": "stdout",
     "output_type": "stream",
     "text": [
      "saved track: col11_row6_field1_cell170\n"
     ]
    },
    {
     "name": "stderr",
     "output_type": "stream",
     "text": [
      "Even though the 'means_' attribute is set, it will be overwritten during initialization because 'init_params' contains 'm'\n"
     ]
    },
    {
     "name": "stdout",
     "output_type": "stream",
     "text": [
      "saved track: col11_row6_field1_cell174\n",
      "saved track: col11_row6_field1_cell183\n"
     ]
    },
    {
     "name": "stderr",
     "output_type": "stream",
     "text": [
      "/home/nciadmin/anaconda3/envs/hitips_ims_clone/lib/python3.9/site-packages/scipy/ndimage/_measurements.py:1535: RuntimeWarning: invalid value encountered in double_scalars\n",
      "  results = [sum(input * grids[dir].astype(float), labels, index) / normalizer\n",
      "/home/nciadmin/anaconda3/envs/hitips_ims_clone/lib/python3.9/site-packages/skimage/registration/_phase_cross_correlation.py:104: RuntimeWarning: invalid value encountered in cdouble_scalars\n",
      "  error = 1.0 - cross_correlation_max * cross_correlation_max.conj() /\\\n",
      "/home/nciadmin/anaconda3/envs/hitips_ims_clone/lib/python3.9/site-packages/scipy/ndimage/_measurements.py:1535: RuntimeWarning: invalid value encountered in double_scalars\n",
      "  results = [sum(input * grids[dir].astype(float), labels, index) / normalizer\n",
      "Even though the 'means_' attribute is set, it will be overwritten during initialization because 'init_params' contains 'm'\n",
      "Even though the 'means_' attribute is set, it will be overwritten during initialization because 'init_params' contains 'm'\n"
     ]
    },
    {
     "name": "stdout",
     "output_type": "stream",
     "text": [
      "saved track: col11_row6_field1_cell187\n"
     ]
    },
    {
     "name": "stderr",
     "output_type": "stream",
     "text": [
      "Even though the 'means_' attribute is set, it will be overwritten during initialization because 'init_params' contains 'm'\n"
     ]
    },
    {
     "name": "stdout",
     "output_type": "stream",
     "text": [
      "saved track: col11_row6_field1_cell222\n"
     ]
    },
    {
     "name": "stderr",
     "output_type": "stream",
     "text": [
      "Even though the 'means_' attribute is set, it will be overwritten during initialization because 'init_params' contains 'm'\n"
     ]
    },
    {
     "name": "stdout",
     "output_type": "stream",
     "text": [
      "saved track: col11_row6_field1_cell262\n",
      "saved track: col11_row6_field1_cell279\n"
     ]
    },
    {
     "name": "stderr",
     "output_type": "stream",
     "text": [
      "Even though the 'means_' attribute is set, it will be overwritten during initialization because 'init_params' contains 'm'\n"
     ]
    },
    {
     "name": "stdout",
     "output_type": "stream",
     "text": [
      "saved track: col11_row6_field1_cell299\n"
     ]
    },
    {
     "name": "stderr",
     "output_type": "stream",
     "text": [
      "Even though the 'means_' attribute is set, it will be overwritten during initialization because 'init_params' contains 'm'\n"
     ]
    },
    {
     "name": "stdout",
     "output_type": "stream",
     "text": [
      "saved track: col11_row6_field1_cell311\n"
     ]
    },
    {
     "name": "stderr",
     "output_type": "stream",
     "text": [
      "Even though the 'means_' attribute is set, it will be overwritten during initialization because 'init_params' contains 'm'\n",
      "Even though the 'means_' attribute is set, it will be overwritten during initialization because 'init_params' contains 'm'\n"
     ]
    },
    {
     "name": "stdout",
     "output_type": "stream",
     "text": [
      "saved track: col11_row6_field1_cell325\n"
     ]
    },
    {
     "name": "stderr",
     "output_type": "stream",
     "text": [
      "Even though the 'means_' attribute is set, it will be overwritten during initialization because 'init_params' contains 'm'\n"
     ]
    },
    {
     "name": "stdout",
     "output_type": "stream",
     "text": [
      "saved track: col11_row6_field1_cell345\n"
     ]
    },
    {
     "name": "stderr",
     "output_type": "stream",
     "text": [
      "Even though the 'means_' attribute is set, it will be overwritten during initialization because 'init_params' contains 'm'\n"
     ]
    },
    {
     "name": "stdout",
     "output_type": "stream",
     "text": [
      "saved track: col11_row6_field1_cell358\n"
     ]
    },
    {
     "name": "stderr",
     "output_type": "stream",
     "text": [
      "Even though the 'means_' attribute is set, it will be overwritten during initialization because 'init_params' contains 'm'\n",
      "Even though the 'means_' attribute is set, it will be overwritten during initialization because 'init_params' contains 'm'\n"
     ]
    },
    {
     "name": "stdout",
     "output_type": "stream",
     "text": [
      "saved track: col11_row6_field1_cell377\n"
     ]
    },
    {
     "name": "stderr",
     "output_type": "stream",
     "text": [
      "Even though the 'means_' attribute is set, it will be overwritten during initialization because 'init_params' contains 'm'\n",
      "Even though the 'means_' attribute is set, it will be overwritten during initialization because 'init_params' contains 'm'\n"
     ]
    },
    {
     "name": "stdout",
     "output_type": "stream",
     "text": [
      "saved track: col11_row6_field1_cell411\n"
     ]
    },
    {
     "name": "stderr",
     "output_type": "stream",
     "text": [
      "Even though the 'means_' attribute is set, it will be overwritten during initialization because 'init_params' contains 'm'\n"
     ]
    },
    {
     "name": "stdout",
     "output_type": "stream",
     "text": [
      "saved track: col11_row6_field1_cell425\n"
     ]
    },
    {
     "name": "stderr",
     "output_type": "stream",
     "text": [
      "Even though the 'means_' attribute is set, it will be overwritten during initialization because 'init_params' contains 'm'\n"
     ]
    },
    {
     "name": "stdout",
     "output_type": "stream",
     "text": [
      "saved track: col11_row6_field1_cell447\n"
     ]
    },
    {
     "name": "stderr",
     "output_type": "stream",
     "text": [
      "Even though the 'means_' attribute is set, it will be overwritten during initialization because 'init_params' contains 'm'\n",
      "Even though the 'means_' attribute is set, it will be overwritten during initialization because 'init_params' contains 'm'\n"
     ]
    },
    {
     "name": "stdout",
     "output_type": "stream",
     "text": [
      "saved track: col11_row6_field1_cell450\n"
     ]
    },
    {
     "name": "stderr",
     "output_type": "stream",
     "text": [
      "Even though the 'means_' attribute is set, it will be overwritten during initialization because 'init_params' contains 'm'\n",
      "Even though the 'means_' attribute is set, it will be overwritten during initialization because 'init_params' contains 'm'\n",
      "Even though the 'means_' attribute is set, it will be overwritten during initialization because 'init_params' contains 'm'\n"
     ]
    },
    {
     "name": "stdout",
     "output_type": "stream",
     "text": [
      "saved track: col11_row6_field1_cell500\n"
     ]
    },
    {
     "name": "stderr",
     "output_type": "stream",
     "text": [
      "Even though the 'means_' attribute is set, it will be overwritten during initialization because 'init_params' contains 'm'\n",
      "Even though the 'means_' attribute is set, it will be overwritten during initialization because 'init_params' contains 'm'\n"
     ]
    },
    {
     "name": "stdout",
     "output_type": "stream",
     "text": [
      "saved track: col11_row6_field1_cell496\n"
     ]
    },
    {
     "name": "stderr",
     "output_type": "stream",
     "text": [
      "Even though the 'means_' attribute is set, it will be overwritten during initialization because 'init_params' contains 'm'\n",
      "Even though the 'means_' attribute is set, it will be overwritten during initialization because 'init_params' contains 'm'\n"
     ]
    },
    {
     "name": "stdout",
     "output_type": "stream",
     "text": [
      "saved track: col11_row6_field1_cell504\n"
     ]
    },
    {
     "name": "stderr",
     "output_type": "stream",
     "text": [
      "Even though the 'means_' attribute is set, it will be overwritten during initialization because 'init_params' contains 'm'\n"
     ]
    },
    {
     "name": "stdout",
     "output_type": "stream",
     "text": [
      "saved track: col11_row6_field1_cell512\n",
      "saved track: col11_row6_field1_cell509\n"
     ]
    },
    {
     "name": "stderr",
     "output_type": "stream",
     "text": [
      "Even though the 'means_' attribute is set, it will be overwritten during initialization because 'init_params' contains 'm'\n"
     ]
    },
    {
     "name": "stdout",
     "output_type": "stream",
     "text": [
      "saved track: col11_row6_field1_cell650\n",
      "saved track: col11_row6_field1_cell697\n"
     ]
    },
    {
     "name": "stderr",
     "output_type": "stream",
     "text": [
      "Even though the 'means_' attribute is set, it will be overwritten during initialization because 'init_params' contains 'm'\n"
     ]
    },
    {
     "name": "stdout",
     "output_type": "stream",
     "text": [
      "saved track: col11_row6_field1_cell711\n"
     ]
    },
    {
     "name": "stderr",
     "output_type": "stream",
     "text": [
      "Even though the 'means_' attribute is set, it will be overwritten during initialization because 'init_params' contains 'm'\n"
     ]
    },
    {
     "name": "stdout",
     "output_type": "stream",
     "text": [
      "saved track: col11_row6_field1_cell751\n",
      "saved track: col11_row6_field1_cell756\n",
      "saved track: col11_row6_field1_cell771\n",
      "saved track: col11_row6_field1_cell781\n",
      "saved track: col11_row6_field1_cell895\n",
      "saved track: col11_row6_field1_cell937\n",
      "saved track: col11_row6_field1_cell954\n"
     ]
    },
    {
     "name": "stderr",
     "output_type": "stream",
     "text": [
      "Even though the 'means_' attribute is set, it will be overwritten during initialization because 'init_params' contains 'm'\n"
     ]
    },
    {
     "name": "stdout",
     "output_type": "stream",
     "text": [
      "saved track: col11_row6_field1_cell979\n",
      "saved track: col11_row6_field1_cell1042\n"
     ]
    },
    {
     "name": "stderr",
     "output_type": "stream",
     "text": [
      "Even though the 'means_' attribute is set, it will be overwritten during initialization because 'init_params' contains 'm'\n"
     ]
    },
    {
     "name": "stdout",
     "output_type": "stream",
     "text": [
      "saved track: col11_row6_field1_cell1058\n"
     ]
    },
    {
     "name": "stderr",
     "output_type": "stream",
     "text": [
      "Even though the 'means_' attribute is set, it will be overwritten during initialization because 'init_params' contains 'm'\n",
      "Even though the 'means_' attribute is set, it will be overwritten during initialization because 'init_params' contains 'm'\n"
     ]
    },
    {
     "name": "stdout",
     "output_type": "stream",
     "text": [
      "saved track: col11_row6_field1_cell1074\n"
     ]
    },
    {
     "name": "stderr",
     "output_type": "stream",
     "text": [
      "Even though the 'means_' attribute is set, it will be overwritten during initialization because 'init_params' contains 'm'\n"
     ]
    },
    {
     "name": "stdout",
     "output_type": "stream",
     "text": [
      "saved track: col11_row6_field1_cell1088\n",
      "saved track: col11_row6_field1_cell1110\n"
     ]
    },
    {
     "name": "stderr",
     "output_type": "stream",
     "text": [
      "Even though the 'means_' attribute is set, it will be overwritten during initialization because 'init_params' contains 'm'\n"
     ]
    },
    {
     "name": "stdout",
     "output_type": "stream",
     "text": [
      "saved track: col11_row6_field1_cell1134\n",
      "saved track: col11_row6_field1_cell1140\n",
      "saved track: col11_row6_field1_cell1148\n",
      "saved track: col11_row6_field1_cell1217\n"
     ]
    },
    {
     "name": "stderr",
     "output_type": "stream",
     "text": [
      "Even though the 'means_' attribute is set, it will be overwritten during initialization because 'init_params' contains 'm'\n"
     ]
    },
    {
     "name": "stdout",
     "output_type": "stream",
     "text": [
      "saved track: col11_row6_field1_cell1216\n"
     ]
    },
    {
     "name": "stderr",
     "output_type": "stream",
     "text": [
      "Even though the 'means_' attribute is set, it will be overwritten during initialization because 'init_params' contains 'm'\n"
     ]
    },
    {
     "name": "stdout",
     "output_type": "stream",
     "text": [
      "saved track: col11_row6_field1_cell1215\n",
      "saved track: col11_row6_field1_cell1236\n"
     ]
    },
    {
     "name": "stderr",
     "output_type": "stream",
     "text": [
      "Even though the 'means_' attribute is set, it will be overwritten during initialization because 'init_params' contains 'm'\n"
     ]
    },
    {
     "name": "stdout",
     "output_type": "stream",
     "text": [
      "saved track: col11_row6_field1_cell1257\n",
      "saved track: col11_row6_field1_cell1283\n",
      "saved track: col11_row6_field1_cell1297\n"
     ]
    },
    {
     "name": "stderr",
     "output_type": "stream",
     "text": [
      "Even though the 'means_' attribute is set, it will be overwritten during initialization because 'init_params' contains 'm'\n"
     ]
    },
    {
     "name": "stdout",
     "output_type": "stream",
     "text": [
      "saved track: col11_row6_field1_cell1347\n",
      "saved track: col11_row6_field1_cell1348\n",
      "saved track: col11_row6_field1_cell1363\n",
      "saved track: col11_row6_field1_cell1371\n"
     ]
    },
    {
     "name": "stderr",
     "output_type": "stream",
     "text": [
      "Even though the 'means_' attribute is set, it will be overwritten during initialization because 'init_params' contains 'm'\n"
     ]
    },
    {
     "name": "stdout",
     "output_type": "stream",
     "text": [
      "saved track: col11_row6_field1_cell1374\n",
      "saved track: col11_row6_field1_cell1402\n",
      "saved track: col11_row6_field1_cell1404\n"
     ]
    },
    {
     "name": "stderr",
     "output_type": "stream",
     "text": [
      "Even though the 'means_' attribute is set, it will be overwritten during initialization because 'init_params' contains 'm'\n"
     ]
    },
    {
     "name": "stdout",
     "output_type": "stream",
     "text": [
      "saved track: col11_row6_field1_cell1435\n"
     ]
    },
    {
     "name": "stderr",
     "output_type": "stream",
     "text": [
      "Even though the 'means_' attribute is set, it will be overwritten during initialization because 'init_params' contains 'm'\n",
      "Even though the 'means_' attribute is set, it will be overwritten during initialization because 'init_params' contains 'm'\n"
     ]
    },
    {
     "name": "stdout",
     "output_type": "stream",
     "text": [
      "saved track: col11_row6_field1_cell1437\n"
     ]
    },
    {
     "name": "stderr",
     "output_type": "stream",
     "text": [
      "[INFO][2024/08/18 11:56:25 PM] btrack (v0.4.3) library imported\n",
      "[INFO][2024/08/18 11:56:25 PM] Setting max XYZ search radius to: 100\n",
      "[INFO][2024/08/18 11:56:25 PM] Starting BayesianTracker session\n",
      "[INFO][2024/08/18 11:56:25 PM] btrack (v0.4.3) library imported\n",
      "[INFO][2024/08/18 11:56:25 PM] Setting max XYZ search radius to: 100\n",
      "[INFO][2024/08/18 11:56:25 PM] Loading motion model: cell_motion\n",
      "[INFO][2024/08/18 11:56:25 PM] Setting max XYZ search radius to: 100\n",
      "[INFO][2024/08/18 11:56:25 PM] Starting tracking... \n",
      "[INFO][2024/08/18 11:56:25 PM] Tracking objects in frames 0 to 99 (of 504)...\n",
      "[INFO][2024/08/18 11:56:25 PM] Tracking objects in frames 100 to 199 (of 504)...\n",
      "[INFO][2024/08/18 11:56:25 PM] Tracking objects in frames 200 to 299 (of 504)...\n",
      "[INFO][2024/08/18 11:56:25 PM] Tracking objects in frames 300 to 399 (of 504)...\n",
      "[INFO][2024/08/18 11:56:25 PM] Tracking objects in frames 400 to 499 (of 504)...\n",
      "[INFO][2024/08/18 11:56:25 PM] Tracking objects in frames 500 to 504 (of 504)...\n",
      "[INFO][2024/08/18 11:56:25 PM] SUCCESS.\n",
      "[INFO][2024/08/18 11:56:25 PM]  - Found 1428 tracks in 504 frames (in 0.0s)\n",
      "[INFO][2024/08/18 11:56:25 PM]  - Inserted 359 dummy objects to fill tracking gaps\n",
      "[INFO][2024/08/18 11:56:25 PM] Loading hypothesis model: cell_hypothesis\n",
      "[INFO][2024/08/18 11:56:25 PM] Calculating hypotheses (relax: True)...\n",
      "[INFO][2024/08/18 11:56:25 PM]  - Fates.FALSE_POSITIVE: 448 (of 1428)\n",
      "[INFO][2024/08/18 11:56:25 PM]  - Fates.LINK: 604 (of 827)\n",
      "[INFO][2024/08/18 11:56:25 PM]  - Fates.DIVIDE: 30 (of 100)\n",
      "[INFO][2024/08/18 11:56:25 PM]  - Fates.INITIALIZE_BORDER: 113 (of 183)\n",
      "[INFO][2024/08/18 11:56:25 PM]  - Fates.INITIALIZE_FRONT: 68 (of 76)\n",
      "[INFO][2024/08/18 11:56:25 PM]  - Fates.INITIALIZE_LAZY: 135 (of 1169)\n",
      "[INFO][2024/08/18 11:56:25 PM]  - Fates.TERMINATE_BORDER: 98 (of 167)\n",
      "[INFO][2024/08/18 11:56:25 PM]  - Fates.TERMINATE_BACK: 85 (of 98)\n",
      "[INFO][2024/08/18 11:56:25 PM]  - Fates.TERMINATE_LAZY: 163 (of 1163)\n",
      "[INFO][2024/08/18 11:56:25 PM]  - TOTAL: 5211 hypotheses\n",
      "[INFO][2024/08/18 11:56:26 PM] Completed optimization with 824 tracks\n",
      "[INFO][2024/08/18 11:56:26 PM] Ending BayesianTracker session\n"
     ]
    },
    {
     "name": "stdout",
     "output_type": "stream",
     "text": [
      "GLPK Integer Optimizer 5.0\n",
      "5712 rows, 5211 columns, 7666 non-zeros\n",
      "5211 integer variables, all of which are binary\n",
      "Preprocessing...\n",
      "2856 rows, 5211 columns, 7666 non-zeros\n",
      "5211 integer variables, all of which are binary\n",
      "Scaling...\n",
      " A: min|aij| =  1.000e+00  max|aij| =  1.000e+00  ratio =  1.000e+00\n",
      "Problem data seem to be well scaled\n",
      "Constructing initial basis...\n",
      "Size of triangular part is 2856\n",
      "Solving LP relaxation...\n",
      "GLPK Simplex Optimizer 5.0\n",
      "2856 rows, 5211 columns, 7666 non-zeros\n",
      "*     0: obj =   1.690708341e+04 inf =   0.000e+00 (1853)\n",
      "Perturbing LP to avoid stalling [965]...\n",
      "Removing LP perturbation [1843]...\n",
      "*  1843: obj =   5.287189668e+03 inf =   0.000e+00 (0)\n",
      "OPTIMAL LP SOLUTION FOUND\n",
      "Integer optimization begins...\n",
      "Long-step dual simplex will be used\n",
      "+  1843: mip =     not found yet >=              -inf        (1; 0)\n",
      "+  1845: >>>>>   5.288519744e+03 >=   5.288519744e+03   0.0% (3; 0)\n",
      "+  1845: mip =   5.288519744e+03 >=     tree is empty   0.0% (0; 5)\n",
      "INTEGER OPTIMAL SOLUTION FOUND\n",
      "field number:  2\n"
     ]
    },
    {
     "name": "stderr",
     "output_type": "stream",
     "text": [
      "Even though the 'means_' attribute is set, it will be overwritten during initialization because 'init_params' contains 'm'\n"
     ]
    },
    {
     "name": "stdout",
     "output_type": "stream",
     "text": [
      "saved track: col11_row6_field2_cell52\n",
      "saved track: col11_row6_field2_cell47\n"
     ]
    },
    {
     "name": "stderr",
     "output_type": "stream",
     "text": [
      "Even though the 'means_' attribute is set, it will be overwritten during initialization because 'init_params' contains 'm'\n"
     ]
    },
    {
     "name": "stdout",
     "output_type": "stream",
     "text": [
      "saved track: col11_row6_field2_cell43\n",
      "saved track: col11_row6_field2_cell42\n"
     ]
    },
    {
     "name": "stderr",
     "output_type": "stream",
     "text": [
      "Even though the 'means_' attribute is set, it will be overwritten during initialization because 'init_params' contains 'm'\n"
     ]
    },
    {
     "name": "stdout",
     "output_type": "stream",
     "text": [
      "saved track: col11_row6_field2_cell40\n"
     ]
    },
    {
     "name": "stderr",
     "output_type": "stream",
     "text": [
      "Even though the 'means_' attribute is set, it will be overwritten during initialization because 'init_params' contains 'm'\n"
     ]
    },
    {
     "name": "stdout",
     "output_type": "stream",
     "text": [
      "saved track: col11_row6_field2_cell38\n",
      "saved track: col11_row6_field2_cell1\n"
     ]
    },
    {
     "name": "stderr",
     "output_type": "stream",
     "text": [
      "Even though the 'means_' attribute is set, it will be overwritten during initialization because 'init_params' contains 'm'\n"
     ]
    },
    {
     "name": "stdout",
     "output_type": "stream",
     "text": [
      "saved track: col11_row6_field2_cell67\n"
     ]
    },
    {
     "name": "stderr",
     "output_type": "stream",
     "text": [
      "Even though the 'means_' attribute is set, it will be overwritten during initialization because 'init_params' contains 'm'\n"
     ]
    },
    {
     "name": "stdout",
     "output_type": "stream",
     "text": [
      "saved track: col11_row6_field2_cell65\n"
     ]
    },
    {
     "name": "stderr",
     "output_type": "stream",
     "text": [
      "Even though the 'means_' attribute is set, it will be overwritten during initialization because 'init_params' contains 'm'\n",
      "Even though the 'means_' attribute is set, it will be overwritten during initialization because 'init_params' contains 'm'\n"
     ]
    },
    {
     "name": "stdout",
     "output_type": "stream",
     "text": [
      "saved track: col11_row6_field2_cell64\n"
     ]
    },
    {
     "name": "stderr",
     "output_type": "stream",
     "text": [
      "Even though the 'means_' attribute is set, it will be overwritten during initialization because 'init_params' contains 'm'\n"
     ]
    },
    {
     "name": "stdout",
     "output_type": "stream",
     "text": [
      "saved track: col11_row6_field2_cell63\n"
     ]
    },
    {
     "name": "stderr",
     "output_type": "stream",
     "text": [
      "Even though the 'means_' attribute is set, it will be overwritten during initialization because 'init_params' contains 'm'\n"
     ]
    },
    {
     "name": "stdout",
     "output_type": "stream",
     "text": [
      "saved track: col11_row6_field2_cell62\n"
     ]
    },
    {
     "name": "stderr",
     "output_type": "stream",
     "text": [
      "Even though the 'means_' attribute is set, it will be overwritten during initialization because 'init_params' contains 'm'\n"
     ]
    },
    {
     "name": "stdout",
     "output_type": "stream",
     "text": [
      "saved track: col11_row6_field2_cell2\n"
     ]
    },
    {
     "name": "stderr",
     "output_type": "stream",
     "text": [
      "Even though the 'means_' attribute is set, it will be overwritten during initialization because 'init_params' contains 'm'\n"
     ]
    },
    {
     "name": "stdout",
     "output_type": "stream",
     "text": [
      "saved track: col11_row6_field2_cell60\n",
      "saved track: col11_row6_field2_cell58\n",
      "saved track: col11_row6_field2_cell57\n"
     ]
    },
    {
     "name": "stderr",
     "output_type": "stream",
     "text": [
      "Even though the 'means_' attribute is set, it will be overwritten during initialization because 'init_params' contains 'm'\n"
     ]
    },
    {
     "name": "stdout",
     "output_type": "stream",
     "text": [
      "saved track: col11_row6_field2_cell55\n",
      "saved track: col11_row6_field2_cell54\n"
     ]
    },
    {
     "name": "stderr",
     "output_type": "stream",
     "text": [
      "Even though the 'means_' attribute is set, it will be overwritten during initialization because 'init_params' contains 'm'\n"
     ]
    },
    {
     "name": "stdout",
     "output_type": "stream",
     "text": [
      "saved track: col11_row6_field2_cell9\n"
     ]
    },
    {
     "name": "stderr",
     "output_type": "stream",
     "text": [
      "Even though the 'means_' attribute is set, it will be overwritten during initialization because 'init_params' contains 'm'\n"
     ]
    },
    {
     "name": "stdout",
     "output_type": "stream",
     "text": [
      "saved track: col11_row6_field2_cell16\n",
      "saved track: col11_row6_field2_cell15\n"
     ]
    },
    {
     "name": "stderr",
     "output_type": "stream",
     "text": [
      "Even though the 'means_' attribute is set, it will be overwritten during initialization because 'init_params' contains 'm'\n"
     ]
    },
    {
     "name": "stdout",
     "output_type": "stream",
     "text": [
      "saved track: col11_row6_field2_cell10\n",
      "saved track: col11_row6_field2_cell34\n",
      "saved track: col11_row6_field2_cell8\n"
     ]
    },
    {
     "name": "stderr",
     "output_type": "stream",
     "text": [
      "Even though the 'means_' attribute is set, it will be overwritten during initialization because 'init_params' contains 'm'\n"
     ]
    },
    {
     "name": "stdout",
     "output_type": "stream",
     "text": [
      "saved track: col11_row6_field2_cell7\n",
      "saved track: col11_row6_field2_cell4\n"
     ]
    },
    {
     "name": "stderr",
     "output_type": "stream",
     "text": [
      "Even though the 'means_' attribute is set, it will be overwritten during initialization because 'init_params' contains 'm'\n"
     ]
    },
    {
     "name": "stdout",
     "output_type": "stream",
     "text": [
      "saved track: col11_row6_field2_cell3\n"
     ]
    },
    {
     "name": "stderr",
     "output_type": "stream",
     "text": [
      "Even though the 'means_' attribute is set, it will be overwritten during initialization because 'init_params' contains 'm'\n",
      "Even though the 'means_' attribute is set, it will be overwritten during initialization because 'init_params' contains 'm'\n",
      "Even though the 'means_' attribute is set, it will be overwritten during initialization because 'init_params' contains 'm'\n"
     ]
    },
    {
     "name": "stdout",
     "output_type": "stream",
     "text": [
      "saved track: col11_row6_field2_cell35\n",
      "saved track: col11_row6_field2_cell19\n",
      "saved track: col11_row6_field2_cell33\n",
      "saved track: col11_row6_field2_cell30\n",
      "saved track: col11_row6_field2_cell25\n"
     ]
    },
    {
     "name": "stderr",
     "output_type": "stream",
     "text": [
      "Even though the 'means_' attribute is set, it will be overwritten during initialization because 'init_params' contains 'm'\n"
     ]
    },
    {
     "name": "stdout",
     "output_type": "stream",
     "text": [
      "saved track: col11_row6_field2_cell26\n",
      "saved track: col11_row6_field2_cell75\n"
     ]
    },
    {
     "name": "stderr",
     "output_type": "stream",
     "text": [
      "Even though the 'means_' attribute is set, it will be overwritten during initialization because 'init_params' contains 'm'\n"
     ]
    },
    {
     "name": "stdout",
     "output_type": "stream",
     "text": [
      "saved track: col11_row6_field2_cell79\n"
     ]
    },
    {
     "name": "stderr",
     "output_type": "stream",
     "text": [
      "Even though the 'means_' attribute is set, it will be overwritten during initialization because 'init_params' contains 'm'\n"
     ]
    },
    {
     "name": "stdout",
     "output_type": "stream",
     "text": [
      "saved track: col11_row6_field2_cell81\n"
     ]
    },
    {
     "name": "stderr",
     "output_type": "stream",
     "text": [
      "Even though the 'means_' attribute is set, it will be overwritten during initialization because 'init_params' contains 'm'\n",
      "Even though the 'means_' attribute is set, it will be overwritten during initialization because 'init_params' contains 'm'\n"
     ]
    },
    {
     "name": "stdout",
     "output_type": "stream",
     "text": [
      "saved track: col11_row6_field2_cell97\n"
     ]
    },
    {
     "name": "stderr",
     "output_type": "stream",
     "text": [
      "Even though the 'means_' attribute is set, it will be overwritten during initialization because 'init_params' contains 'm'\n"
     ]
    },
    {
     "name": "stdout",
     "output_type": "stream",
     "text": [
      "saved track: col11_row6_field2_cell100\n",
      "saved track: col11_row6_field2_cell124\n",
      "saved track: col11_row6_field2_cell128\n"
     ]
    },
    {
     "name": "stderr",
     "output_type": "stream",
     "text": [
      "Even though the 'means_' attribute is set, it will be overwritten during initialization because 'init_params' contains 'm'\n",
      "Even though the 'means_' attribute is set, it will be overwritten during initialization because 'init_params' contains 'm'\n"
     ]
    },
    {
     "name": "stdout",
     "output_type": "stream",
     "text": [
      "saved track: col11_row6_field2_cell135\n",
      "saved track: col11_row6_field2_cell141\n"
     ]
    },
    {
     "name": "stderr",
     "output_type": "stream",
     "text": [
      "Even though the 'means_' attribute is set, it will be overwritten during initialization because 'init_params' contains 'm'\n"
     ]
    },
    {
     "name": "stdout",
     "output_type": "stream",
     "text": [
      "saved track: col11_row6_field2_cell149\n"
     ]
    },
    {
     "name": "stderr",
     "output_type": "stream",
     "text": [
      "Even though the 'means_' attribute is set, it will be overwritten during initialization because 'init_params' contains 'm'\n",
      "Even though the 'means_' attribute is set, it will be overwritten during initialization because 'init_params' contains 'm'\n"
     ]
    },
    {
     "name": "stdout",
     "output_type": "stream",
     "text": [
      "saved track: col11_row6_field2_cell152\n"
     ]
    },
    {
     "name": "stderr",
     "output_type": "stream",
     "text": [
      "Even though the 'means_' attribute is set, it will be overwritten during initialization because 'init_params' contains 'm'\n"
     ]
    },
    {
     "name": "stdout",
     "output_type": "stream",
     "text": [
      "saved track: col11_row6_field2_cell175\n"
     ]
    },
    {
     "name": "stderr",
     "output_type": "stream",
     "text": [
      "/home/nciadmin/anaconda3/envs/hitips_ims_clone/lib/python3.9/site-packages/scipy/ndimage/_measurements.py:1535: RuntimeWarning: invalid value encountered in double_scalars\n",
      "  results = [sum(input * grids[dir].astype(float), labels, index) / normalizer\n",
      "/home/nciadmin/anaconda3/envs/hitips_ims_clone/lib/python3.9/site-packages/skimage/registration/_phase_cross_correlation.py:104: RuntimeWarning: invalid value encountered in cdouble_scalars\n",
      "  error = 1.0 - cross_correlation_max * cross_correlation_max.conj() /\\\n",
      "Even though the 'means_' attribute is set, it will be overwritten during initialization because 'init_params' contains 'm'\n"
     ]
    },
    {
     "name": "stdout",
     "output_type": "stream",
     "text": [
      "saved track: col11_row6_field2_cell189\n"
     ]
    },
    {
     "name": "stderr",
     "output_type": "stream",
     "text": [
      "Even though the 'means_' attribute is set, it will be overwritten during initialization because 'init_params' contains 'm'\n",
      "Even though the 'means_' attribute is set, it will be overwritten during initialization because 'init_params' contains 'm'\n"
     ]
    },
    {
     "name": "stdout",
     "output_type": "stream",
     "text": [
      "saved track: col11_row6_field2_cell199\n"
     ]
    },
    {
     "name": "stderr",
     "output_type": "stream",
     "text": [
      "Even though the 'means_' attribute is set, it will be overwritten during initialization because 'init_params' contains 'm'\n"
     ]
    },
    {
     "name": "stdout",
     "output_type": "stream",
     "text": [
      "saved track: col11_row6_field2_cell204\n"
     ]
    },
    {
     "name": "stderr",
     "output_type": "stream",
     "text": [
      "/home/nciadmin/anaconda3/envs/hitips_ims_clone/lib/python3.9/site-packages/scipy/ndimage/_measurements.py:1535: RuntimeWarning: invalid value encountered in double_scalars\n",
      "  results = [sum(input * grids[dir].astype(float), labels, index) / normalizer\n",
      "/home/nciadmin/anaconda3/envs/hitips_ims_clone/lib/python3.9/site-packages/skimage/registration/_phase_cross_correlation.py:104: RuntimeWarning: invalid value encountered in cdouble_scalars\n",
      "  error = 1.0 - cross_correlation_max * cross_correlation_max.conj() /\\\n"
     ]
    },
    {
     "name": "stdout",
     "output_type": "stream",
     "text": [
      "saved track: col11_row6_field2_cell209\n",
      "saved track: col11_row6_field2_cell225\n"
     ]
    },
    {
     "name": "stderr",
     "output_type": "stream",
     "text": [
      "Even though the 'means_' attribute is set, it will be overwritten during initialization because 'init_params' contains 'm'\n"
     ]
    },
    {
     "name": "stdout",
     "output_type": "stream",
     "text": [
      "saved track: col11_row6_field2_cell240\n",
      "saved track: col11_row6_field2_cell241\n"
     ]
    },
    {
     "name": "stderr",
     "output_type": "stream",
     "text": [
      "Even though the 'means_' attribute is set, it will be overwritten during initialization because 'init_params' contains 'm'\n",
      "Even though the 'means_' attribute is set, it will be overwritten during initialization because 'init_params' contains 'm'\n"
     ]
    },
    {
     "name": "stdout",
     "output_type": "stream",
     "text": [
      "saved track: col11_row6_field2_cell266\n",
      "saved track: col11_row6_field2_cell279\n"
     ]
    },
    {
     "name": "stderr",
     "output_type": "stream",
     "text": [
      "Even though the 'means_' attribute is set, it will be overwritten during initialization because 'init_params' contains 'm'\n"
     ]
    },
    {
     "name": "stdout",
     "output_type": "stream",
     "text": [
      "saved track: col11_row6_field2_cell294\n"
     ]
    },
    {
     "name": "stderr",
     "output_type": "stream",
     "text": [
      "Even though the 'means_' attribute is set, it will be overwritten during initialization because 'init_params' contains 'm'\n",
      "Even though the 'means_' attribute is set, it will be overwritten during initialization because 'init_params' contains 'm'\n"
     ]
    },
    {
     "name": "stdout",
     "output_type": "stream",
     "text": [
      "saved track: col11_row6_field2_cell303\n"
     ]
    },
    {
     "name": "stderr",
     "output_type": "stream",
     "text": [
      "Even though the 'means_' attribute is set, it will be overwritten during initialization because 'init_params' contains 'm'\n",
      "Even though the 'means_' attribute is set, it will be overwritten during initialization because 'init_params' contains 'm'\n"
     ]
    },
    {
     "name": "stdout",
     "output_type": "stream",
     "text": [
      "saved track: col11_row6_field2_cell314\n"
     ]
    },
    {
     "name": "stderr",
     "output_type": "stream",
     "text": [
      "Even though the 'means_' attribute is set, it will be overwritten during initialization because 'init_params' contains 'm'\n"
     ]
    },
    {
     "name": "stdout",
     "output_type": "stream",
     "text": [
      "saved track: col11_row6_field2_cell344\n"
     ]
    },
    {
     "name": "stderr",
     "output_type": "stream",
     "text": [
      "Even though the 'means_' attribute is set, it will be overwritten during initialization because 'init_params' contains 'm'\n"
     ]
    },
    {
     "name": "stdout",
     "output_type": "stream",
     "text": [
      "saved track: col11_row6_field2_cell350\n"
     ]
    },
    {
     "name": "stderr",
     "output_type": "stream",
     "text": [
      "Even though the 'means_' attribute is set, it will be overwritten during initialization because 'init_params' contains 'm'\n"
     ]
    },
    {
     "name": "stdout",
     "output_type": "stream",
     "text": [
      "saved track: col11_row6_field2_cell358\n",
      "saved track: col11_row6_field2_cell368\n",
      "saved track: col11_row6_field2_cell385\n",
      "saved track: col11_row6_field2_cell396\n"
     ]
    },
    {
     "name": "stderr",
     "output_type": "stream",
     "text": [
      "Even though the 'means_' attribute is set, it will be overwritten during initialization because 'init_params' contains 'm'\n"
     ]
    },
    {
     "name": "stdout",
     "output_type": "stream",
     "text": [
      "saved track: col11_row6_field2_cell415\n"
     ]
    },
    {
     "name": "stderr",
     "output_type": "stream",
     "text": [
      "Even though the 'means_' attribute is set, it will be overwritten during initialization because 'init_params' contains 'm'\n",
      "Even though the 'means_' attribute is set, it will be overwritten during initialization because 'init_params' contains 'm'\n"
     ]
    },
    {
     "name": "stdout",
     "output_type": "stream",
     "text": [
      "saved track: col11_row6_field2_cell420\n"
     ]
    },
    {
     "name": "stderr",
     "output_type": "stream",
     "text": [
      "Even though the 'means_' attribute is set, it will be overwritten during initialization because 'init_params' contains 'm'\n",
      "Even though the 'means_' attribute is set, it will be overwritten during initialization because 'init_params' contains 'm'\n",
      "Even though the 'means_' attribute is set, it will be overwritten during initialization because 'init_params' contains 'm'\n"
     ]
    },
    {
     "name": "stdout",
     "output_type": "stream",
     "text": [
      "saved track: col11_row6_field2_cell440\n",
      "saved track: col11_row6_field2_cell449\n"
     ]
    },
    {
     "name": "stderr",
     "output_type": "stream",
     "text": [
      "Even though the 'means_' attribute is set, it will be overwritten during initialization because 'init_params' contains 'm'\n"
     ]
    },
    {
     "name": "stdout",
     "output_type": "stream",
     "text": [
      "saved track: col11_row6_field2_cell489\n"
     ]
    },
    {
     "name": "stderr",
     "output_type": "stream",
     "text": [
      "Even though the 'means_' attribute is set, it will be overwritten during initialization because 'init_params' contains 'm'\n"
     ]
    },
    {
     "name": "stdout",
     "output_type": "stream",
     "text": [
      "saved track: col11_row6_field2_cell510\n",
      "saved track: col11_row6_field2_cell517\n",
      "saved track: col11_row6_field2_cell532\n"
     ]
    },
    {
     "name": "stderr",
     "output_type": "stream",
     "text": [
      "/home/nciadmin/anaconda3/envs/hitips_ims_clone/lib/python3.9/site-packages/scipy/ndimage/_measurements.py:1535: RuntimeWarning: invalid value encountered in double_scalars\n",
      "  results = [sum(input * grids[dir].astype(float), labels, index) / normalizer\n",
      "/home/nciadmin/anaconda3/envs/hitips_ims_clone/lib/python3.9/site-packages/skimage/registration/_phase_cross_correlation.py:104: RuntimeWarning: invalid value encountered in cdouble_scalars\n",
      "  error = 1.0 - cross_correlation_max * cross_correlation_max.conj() /\\\n",
      "/home/nciadmin/anaconda3/envs/hitips_ims_clone/lib/python3.9/site-packages/scipy/ndimage/_measurements.py:1535: RuntimeWarning: invalid value encountered in double_scalars\n",
      "  results = [sum(input * grids[dir].astype(float), labels, index) / normalizer\n",
      "/home/nciadmin/anaconda3/envs/hitips_ims_clone/lib/python3.9/site-packages/skimage/registration/_phase_cross_correlation.py:104: RuntimeWarning: invalid value encountered in cdouble_scalars\n",
      "  error = 1.0 - cross_correlation_max * cross_correlation_max.conj() /\\\n"
     ]
    },
    {
     "name": "stdout",
     "output_type": "stream",
     "text": [
      "saved track: col11_row6_field2_cell533\n"
     ]
    },
    {
     "name": "stderr",
     "output_type": "stream",
     "text": [
      "Even though the 'means_' attribute is set, it will be overwritten during initialization because 'init_params' contains 'm'\n"
     ]
    },
    {
     "name": "stdout",
     "output_type": "stream",
     "text": [
      "saved track: col11_row6_field2_cell538\n",
      "saved track: col11_row6_field2_cell595\n"
     ]
    },
    {
     "name": "stderr",
     "output_type": "stream",
     "text": [
      "Even though the 'means_' attribute is set, it will be overwritten during initialization because 'init_params' contains 'm'\n",
      "Even though the 'means_' attribute is set, it will be overwritten during initialization because 'init_params' contains 'm'\n"
     ]
    },
    {
     "name": "stdout",
     "output_type": "stream",
     "text": [
      "saved track: col11_row6_field2_cell615\n",
      "saved track: col11_row6_field2_cell662\n"
     ]
    },
    {
     "name": "stderr",
     "output_type": "stream",
     "text": [
      "/home/nciadmin/anaconda3/envs/hitips_ims_clone/lib/python3.9/site-packages/scipy/ndimage/_measurements.py:1535: RuntimeWarning: invalid value encountered in double_scalars\n",
      "  results = [sum(input * grids[dir].astype(float), labels, index) / normalizer\n",
      "/home/nciadmin/anaconda3/envs/hitips_ims_clone/lib/python3.9/site-packages/skimage/registration/_phase_cross_correlation.py:104: RuntimeWarning: invalid value encountered in cdouble_scalars\n",
      "  error = 1.0 - cross_correlation_max * cross_correlation_max.conj() /\\\n"
     ]
    },
    {
     "name": "stdout",
     "output_type": "stream",
     "text": [
      "saved track: col11_row6_field2_cell668\n",
      "saved track: col11_row6_field2_cell686\n"
     ]
    },
    {
     "name": "stderr",
     "output_type": "stream",
     "text": [
      "Even though the 'means_' attribute is set, it will be overwritten during initialization because 'init_params' contains 'm'\n"
     ]
    },
    {
     "name": "stdout",
     "output_type": "stream",
     "text": [
      "saved track: col11_row6_field2_cell774\n",
      "saved track: col11_row6_field2_cell788\n",
      "saved track: col11_row6_field2_cell791\n",
      "saved track: col11_row6_field2_cell805\n",
      "saved track: col11_row6_field2_cell811\n"
     ]
    },
    {
     "name": "stderr",
     "output_type": "stream",
     "text": [
      "/home/nciadmin/anaconda3/envs/hitips_ims_clone/lib/python3.9/site-packages/scipy/ndimage/_measurements.py:1535: RuntimeWarning: invalid value encountered in double_scalars\n",
      "  results = [sum(input * grids[dir].astype(float), labels, index) / normalizer\n",
      "/home/nciadmin/anaconda3/envs/hitips_ims_clone/lib/python3.9/site-packages/skimage/registration/_phase_cross_correlation.py:104: RuntimeWarning: invalid value encountered in cdouble_scalars\n",
      "  error = 1.0 - cross_correlation_max * cross_correlation_max.conj() /\\\n",
      "/home/nciadmin/anaconda3/envs/hitips_ims_clone/lib/python3.9/site-packages/scipy/ndimage/_measurements.py:1535: RuntimeWarning: invalid value encountered in double_scalars\n",
      "  results = [sum(input * grids[dir].astype(float), labels, index) / normalizer\n",
      "/home/nciadmin/anaconda3/envs/hitips_ims_clone/lib/python3.9/site-packages/skimage/registration/_phase_cross_correlation.py:104: RuntimeWarning: invalid value encountered in cdouble_scalars\n",
      "  error = 1.0 - cross_correlation_max * cross_correlation_max.conj() /\\\n"
     ]
    },
    {
     "name": "stdout",
     "output_type": "stream",
     "text": [
      "saved track: col11_row6_field2_cell844\n"
     ]
    },
    {
     "name": "stderr",
     "output_type": "stream",
     "text": [
      "Even though the 'means_' attribute is set, it will be overwritten during initialization because 'init_params' contains 'm'\n",
      "Even though the 'means_' attribute is set, it will be overwritten during initialization because 'init_params' contains 'm'\n"
     ]
    },
    {
     "name": "stdout",
     "output_type": "stream",
     "text": [
      "saved track: col11_row6_field2_cell867\n"
     ]
    },
    {
     "name": "stderr",
     "output_type": "stream",
     "text": [
      "Even though the 'means_' attribute is set, it will be overwritten during initialization because 'init_params' contains 'm'\n"
     ]
    },
    {
     "name": "stdout",
     "output_type": "stream",
     "text": [
      "saved track: col11_row6_field2_cell881\n",
      "saved track: col11_row6_field2_cell879\n",
      "saved track: col11_row6_field2_cell876\n"
     ]
    },
    {
     "name": "stderr",
     "output_type": "stream",
     "text": [
      "Even though the 'means_' attribute is set, it will be overwritten during initialization because 'init_params' contains 'm'\n"
     ]
    },
    {
     "name": "stdout",
     "output_type": "stream",
     "text": [
      "saved track: col11_row6_field2_cell908\n"
     ]
    },
    {
     "name": "stderr",
     "output_type": "stream",
     "text": [
      "Even though the 'means_' attribute is set, it will be overwritten during initialization because 'init_params' contains 'm'\n",
      "Even though the 'means_' attribute is set, it will be overwritten during initialization because 'init_params' contains 'm'\n"
     ]
    },
    {
     "name": "stdout",
     "output_type": "stream",
     "text": [
      "saved track: col11_row6_field2_cell936\n",
      "saved track: col11_row6_field2_cell950\n"
     ]
    },
    {
     "name": "stderr",
     "output_type": "stream",
     "text": [
      "Even though the 'means_' attribute is set, it will be overwritten during initialization because 'init_params' contains 'm'\n",
      "Even though the 'means_' attribute is set, it will be overwritten during initialization because 'init_params' contains 'm'\n"
     ]
    },
    {
     "name": "stdout",
     "output_type": "stream",
     "text": [
      "saved track: col11_row6_field2_cell971\n"
     ]
    },
    {
     "name": "stderr",
     "output_type": "stream",
     "text": [
      "Even though the 'means_' attribute is set, it will be overwritten during initialization because 'init_params' contains 'm'\n",
      "Even though the 'means_' attribute is set, it will be overwritten during initialization because 'init_params' contains 'm'\n"
     ]
    },
    {
     "name": "stdout",
     "output_type": "stream",
     "text": [
      "saved track: col11_row6_field2_cell995\n",
      "saved track: col11_row6_field2_cell1000\n",
      "saved track: col11_row6_field2_cell1012\n",
      "saved track: col11_row6_field2_cell1028\n"
     ]
    },
    {
     "name": "stderr",
     "output_type": "stream",
     "text": [
      "Even though the 'means_' attribute is set, it will be overwritten during initialization because 'init_params' contains 'm'\n"
     ]
    },
    {
     "name": "stdout",
     "output_type": "stream",
     "text": [
      "saved track: col11_row6_field2_cell1031\n"
     ]
    },
    {
     "name": "stderr",
     "output_type": "stream",
     "text": [
      "[INFO][2024/08/19 03:55:35 AM] btrack (v0.4.3) library imported\n",
      "[INFO][2024/08/19 03:55:35 AM] Setting max XYZ search radius to: 100\n",
      "[INFO][2024/08/19 03:55:35 AM] Starting BayesianTracker session\n",
      "[INFO][2024/08/19 03:55:35 AM] btrack (v0.4.3) library imported\n",
      "[INFO][2024/08/19 03:55:35 AM] Setting max XYZ search radius to: 100\n",
      "[INFO][2024/08/19 03:55:35 AM] Loading motion model: cell_motion\n",
      "[INFO][2024/08/19 03:55:35 AM] Setting max XYZ search radius to: 100\n",
      "[INFO][2024/08/19 03:55:35 AM] Starting tracking... \n",
      "[INFO][2024/08/19 03:55:35 AM] Tracking objects in frames 0 to 99 (of 504)...\n",
      "[INFO][2024/08/19 03:55:35 AM] Tracking objects in frames 100 to 199 (of 504)...\n",
      "[INFO][2024/08/19 03:55:35 AM] Tracking objects in frames 200 to 299 (of 504)...\n",
      "[INFO][2024/08/19 03:55:36 AM] Tracking objects in frames 300 to 399 (of 504)...\n",
      "[INFO][2024/08/19 03:55:36 AM] Tracking objects in frames 400 to 499 (of 504)...\n",
      "[INFO][2024/08/19 03:55:36 AM] Tracking objects in frames 500 to 504 (of 504)...\n",
      "[INFO][2024/08/19 03:55:36 AM] SUCCESS.\n",
      "[INFO][2024/08/19 03:55:36 AM]  - Found 1832 tracks in 504 frames (in 0.0s)\n",
      "[INFO][2024/08/19 03:55:36 AM]  - Inserted 418 dummy objects to fill tracking gaps\n",
      "[INFO][2024/08/19 03:55:36 AM] Loading hypothesis model: cell_hypothesis\n",
      "[INFO][2024/08/19 03:55:36 AM] Calculating hypotheses (relax: True)...\n",
      "[INFO][2024/08/19 03:55:36 AM]  - Fates.FALSE_POSITIVE: 452 (of 1832)\n",
      "[INFO][2024/08/19 03:55:36 AM]  - Fates.LINK: 951 (of 1169)\n",
      "[INFO][2024/08/19 03:55:36 AM]  - Fates.DIVIDE: 23 (of 96)\n",
      "[INFO][2024/08/19 03:55:36 AM]  - Fates.INITIALIZE_BORDER: 94 (of 201)\n",
      "[INFO][2024/08/19 03:55:36 AM]  - Fates.INITIALIZE_FRONT: 105 (of 107)\n",
      "[INFO][2024/08/19 03:55:36 AM]  - Fates.INITIALIZE_LAZY: 184 (of 1524)\n",
      "[INFO][2024/08/19 03:55:36 AM]  - Fates.TERMINATE_BORDER: 114 (of 216)\n",
      "[INFO][2024/08/19 03:55:36 AM]  - Fates.TERMINATE_BACK: 79 (of 96)\n",
      "[INFO][2024/08/19 03:55:36 AM]  - Fates.TERMINATE_LAZY: 213 (of 1520)\n",
      "[INFO][2024/08/19 03:55:36 AM]  - TOTAL: 6761 hypotheses\n",
      "[INFO][2024/08/19 03:55:36 AM] Completed optimization with 881 tracks\n",
      "[INFO][2024/08/19 03:55:36 AM] Ending BayesianTracker session\n"
     ]
    },
    {
     "name": "stdout",
     "output_type": "stream",
     "text": [
      "GLPK Integer Optimizer 5.0\n",
      "7328 rows, 6761 columns, 9954 non-zeros\n",
      "6761 integer variables, all of which are binary\n",
      "Preprocessing...\n",
      "3664 rows, 6761 columns, 9954 non-zeros\n",
      "6761 integer variables, all of which are binary\n",
      "Scaling...\n",
      " A: min|aij| =  1.000e+00  max|aij| =  1.000e+00  ratio =  1.000e+00\n",
      "Problem data seem to be well scaled\n",
      "Constructing initial basis...\n",
      "Size of triangular part is 3664\n",
      "Solving LP relaxation...\n",
      "GLPK Simplex Optimizer 5.0\n",
      "3664 rows, 6761 columns, 9954 non-zeros\n",
      "*     0: obj =   2.185286689e+04 inf =   0.000e+00 (2426)\n",
      "Perturbing LP to avoid stalling [1290]...\n",
      "Removing LP perturbation [2454]...\n",
      "*  2454: obj =   6.177424241e+03 inf =   0.000e+00 (0)\n",
      "OPTIMAL LP SOLUTION FOUND\n",
      "Integer optimization begins...\n",
      "Long-step dual simplex will be used\n",
      "+  2454: mip =     not found yet >=              -inf        (1; 0)\n",
      "+  2454: >>>>>   6.177424241e+03 >=   6.177424241e+03   0.0% (1; 0)\n",
      "+  2454: mip =   6.177424241e+03 >=     tree is empty   0.0% (0; 1)\n",
      "INTEGER OPTIMAL SOLUTION FOUND\n",
      "field number:  3\n"
     ]
    },
    {
     "name": "stderr",
     "output_type": "stream",
     "text": [
      "/home/nciadmin/anaconda3/envs/hitips_ims_clone/lib/python3.9/site-packages/scipy/ndimage/_measurements.py:1535: RuntimeWarning: invalid value encountered in double_scalars\n",
      "  results = [sum(input * grids[dir].astype(float), labels, index) / normalizer\n",
      "/home/nciadmin/anaconda3/envs/hitips_ims_clone/lib/python3.9/site-packages/skimage/registration/_phase_cross_correlation.py:104: RuntimeWarning: invalid value encountered in cdouble_scalars\n",
      "  error = 1.0 - cross_correlation_max * cross_correlation_max.conj() /\\\n",
      "Even though the 'means_' attribute is set, it will be overwritten during initialization because 'init_params' contains 'm'\n",
      "Even though the 'means_' attribute is set, it will be overwritten during initialization because 'init_params' contains 'm'\n"
     ]
    },
    {
     "name": "stdout",
     "output_type": "stream",
     "text": [
      "saved track: col11_row6_field3_cell65\n",
      "saved track: col11_row6_field3_cell76\n",
      "saved track: col11_row6_field3_cell71\n"
     ]
    },
    {
     "name": "stderr",
     "output_type": "stream",
     "text": [
      "Even though the 'means_' attribute is set, it will be overwritten during initialization because 'init_params' contains 'm'\n",
      "Even though the 'means_' attribute is set, it will be overwritten during initialization because 'init_params' contains 'm'\n"
     ]
    },
    {
     "name": "stdout",
     "output_type": "stream",
     "text": [
      "saved track: col11_row6_field3_cell67\n"
     ]
    },
    {
     "name": "stderr",
     "output_type": "stream",
     "text": [
      "Even though the 'means_' attribute is set, it will be overwritten during initialization because 'init_params' contains 'm'\n"
     ]
    },
    {
     "name": "stdout",
     "output_type": "stream",
     "text": [
      "saved track: col11_row6_field3_cell63\n"
     ]
    },
    {
     "name": "stderr",
     "output_type": "stream",
     "text": [
      "Even though the 'means_' attribute is set, it will be overwritten during initialization because 'init_params' contains 'm'\n"
     ]
    },
    {
     "name": "stdout",
     "output_type": "stream",
     "text": [
      "saved track: col11_row6_field3_cell61\n",
      "saved track: col11_row6_field3_cell60\n"
     ]
    },
    {
     "name": "stderr",
     "output_type": "stream",
     "text": [
      "Even though the 'means_' attribute is set, it will be overwritten during initialization because 'init_params' contains 'm'\n"
     ]
    },
    {
     "name": "stdout",
     "output_type": "stream",
     "text": [
      "saved track: col11_row6_field3_cell59\n"
     ]
    },
    {
     "name": "stderr",
     "output_type": "stream",
     "text": [
      "Even though the 'means_' attribute is set, it will be overwritten during initialization because 'init_params' contains 'm'\n",
      "Even though the 'means_' attribute is set, it will be overwritten during initialization because 'init_params' contains 'm'\n",
      "Even though the 'means_' attribute is set, it will be overwritten during initialization because 'init_params' contains 'm'\n"
     ]
    },
    {
     "name": "stdout",
     "output_type": "stream",
     "text": [
      "saved track: col11_row6_field3_cell58\n",
      "saved track: col11_row6_field3_cell54\n"
     ]
    },
    {
     "name": "stderr",
     "output_type": "stream",
     "text": [
      "Even though the 'means_' attribute is set, it will be overwritten during initialization because 'init_params' contains 'm'\n",
      "Even though the 'means_' attribute is set, it will be overwritten during initialization because 'init_params' contains 'm'\n"
     ]
    },
    {
     "name": "stdout",
     "output_type": "stream",
     "text": [
      "saved track: col11_row6_field3_cell90\n"
     ]
    },
    {
     "name": "stderr",
     "output_type": "stream",
     "text": [
      "Even though the 'means_' attribute is set, it will be overwritten during initialization because 'init_params' contains 'm'\n"
     ]
    },
    {
     "name": "stdout",
     "output_type": "stream",
     "text": [
      "saved track: col11_row6_field3_cell99\n",
      "saved track: col11_row6_field3_cell97\n"
     ]
    },
    {
     "name": "stderr",
     "output_type": "stream",
     "text": [
      "Even though the 'means_' attribute is set, it will be overwritten during initialization because 'init_params' contains 'm'\n"
     ]
    },
    {
     "name": "stdout",
     "output_type": "stream",
     "text": [
      "saved track: col11_row6_field3_cell96\n",
      "saved track: col11_row6_field3_cell95\n"
     ]
    },
    {
     "name": "stderr",
     "output_type": "stream",
     "text": [
      "Even though the 'means_' attribute is set, it will be overwritten during initialization because 'init_params' contains 'm'\n"
     ]
    },
    {
     "name": "stdout",
     "output_type": "stream",
     "text": [
      "saved track: col11_row6_field3_cell94\n",
      "saved track: col11_row6_field3_cell91\n",
      "saved track: col11_row6_field3_cell88\n",
      "saved track: col11_row6_field3_cell86\n"
     ]
    },
    {
     "name": "stderr",
     "output_type": "stream",
     "text": [
      "Even though the 'means_' attribute is set, it will be overwritten during initialization because 'init_params' contains 'm'\n"
     ]
    },
    {
     "name": "stdout",
     "output_type": "stream",
     "text": [
      "saved track: col11_row6_field3_cell82\n",
      "saved track: col11_row6_field3_cell80\n",
      "saved track: col11_row6_field3_cell14\n",
      "saved track: col11_row6_field3_cell25\n",
      "saved track: col11_row6_field3_cell51\n"
     ]
    },
    {
     "name": "stderr",
     "output_type": "stream",
     "text": [
      "Even though the 'means_' attribute is set, it will be overwritten during initialization because 'init_params' contains 'm'\n"
     ]
    },
    {
     "name": "stdout",
     "output_type": "stream",
     "text": [
      "saved track: col11_row6_field3_cell21\n",
      "saved track: col11_row6_field3_cell20\n",
      "saved track: col11_row6_field3_cell18\n"
     ]
    },
    {
     "name": "stderr",
     "output_type": "stream",
     "text": [
      "Even though the 'means_' attribute is set, it will be overwritten during initialization because 'init_params' contains 'm'\n",
      "Even though the 'means_' attribute is set, it will be overwritten during initialization because 'init_params' contains 'm'\n"
     ]
    },
    {
     "name": "stdout",
     "output_type": "stream",
     "text": [
      "saved track: col11_row6_field3_cell17\n",
      "saved track: col11_row6_field3_cell15\n",
      "saved track: col11_row6_field3_cell13\n"
     ]
    },
    {
     "name": "stderr",
     "output_type": "stream",
     "text": [
      "Even though the 'means_' attribute is set, it will be overwritten during initialization because 'init_params' contains 'm'\n",
      "Even though the 'means_' attribute is set, it will be overwritten during initialization because 'init_params' contains 'm'\n"
     ]
    },
    {
     "name": "stdout",
     "output_type": "stream",
     "text": [
      "saved track: col11_row6_field3_cell12\n"
     ]
    },
    {
     "name": "stderr",
     "output_type": "stream",
     "text": [
      "Even though the 'means_' attribute is set, it will be overwritten during initialization because 'init_params' contains 'm'\n",
      "Even though the 'means_' attribute is set, it will be overwritten during initialization because 'init_params' contains 'm'\n"
     ]
    },
    {
     "name": "stdout",
     "output_type": "stream",
     "text": [
      "saved track: col11_row6_field3_cell7\n",
      "saved track: col11_row6_field3_cell5\n"
     ]
    },
    {
     "name": "stderr",
     "output_type": "stream",
     "text": [
      "Even though the 'means_' attribute is set, it will be overwritten during initialization because 'init_params' contains 'm'\n"
     ]
    },
    {
     "name": "stdout",
     "output_type": "stream",
     "text": [
      "saved track: col11_row6_field3_cell3\n"
     ]
    },
    {
     "name": "stderr",
     "output_type": "stream",
     "text": [
      "Even though the 'means_' attribute is set, it will be overwritten during initialization because 'init_params' contains 'm'\n"
     ]
    },
    {
     "name": "stdout",
     "output_type": "stream",
     "text": [
      "saved track: col11_row6_field3_cell49\n"
     ]
    },
    {
     "name": "stderr",
     "output_type": "stream",
     "text": [
      "Even though the 'means_' attribute is set, it will be overwritten during initialization because 'init_params' contains 'm'\n"
     ]
    },
    {
     "name": "stdout",
     "output_type": "stream",
     "text": [
      "saved track: col11_row6_field3_cell48\n"
     ]
    },
    {
     "name": "stderr",
     "output_type": "stream",
     "text": [
      "Even though the 'means_' attribute is set, it will be overwritten during initialization because 'init_params' contains 'm'\n"
     ]
    },
    {
     "name": "stdout",
     "output_type": "stream",
     "text": [
      "saved track: col11_row6_field3_cell47\n"
     ]
    },
    {
     "name": "stderr",
     "output_type": "stream",
     "text": [
      "Even though the 'means_' attribute is set, it will be overwritten during initialization because 'init_params' contains 'm'\n"
     ]
    },
    {
     "name": "stdout",
     "output_type": "stream",
     "text": [
      "saved track: col11_row6_field3_cell46\n"
     ]
    },
    {
     "name": "stderr",
     "output_type": "stream",
     "text": [
      "Even though the 'means_' attribute is set, it will be overwritten during initialization because 'init_params' contains 'm'\n",
      "Even though the 'means_' attribute is set, it will be overwritten during initialization because 'init_params' contains 'm'\n",
      "Even though the 'means_' attribute is set, it will be overwritten during initialization because 'init_params' contains 'm'\n"
     ]
    },
    {
     "name": "stdout",
     "output_type": "stream",
     "text": [
      "saved track: col11_row6_field3_cell45\n"
     ]
    },
    {
     "name": "stderr",
     "output_type": "stream",
     "text": [
      "Even though the 'means_' attribute is set, it will be overwritten during initialization because 'init_params' contains 'm'\n",
      "Even though the 'means_' attribute is set, it will be overwritten during initialization because 'init_params' contains 'm'\n"
     ]
    },
    {
     "name": "stdout",
     "output_type": "stream",
     "text": [
      "saved track: col11_row6_field3_cell44\n"
     ]
    },
    {
     "name": "stderr",
     "output_type": "stream",
     "text": [
      "Even though the 'means_' attribute is set, it will be overwritten during initialization because 'init_params' contains 'm'\n",
      "Even though the 'means_' attribute is set, it will be overwritten during initialization because 'init_params' contains 'm'\n"
     ]
    },
    {
     "name": "stdout",
     "output_type": "stream",
     "text": [
      "saved track: col11_row6_field3_cell27\n"
     ]
    },
    {
     "name": "stderr",
     "output_type": "stream",
     "text": [
      "Even though the 'means_' attribute is set, it will be overwritten during initialization because 'init_params' contains 'm'\n"
     ]
    },
    {
     "name": "stdout",
     "output_type": "stream",
     "text": [
      "saved track: col11_row6_field3_cell41\n",
      "saved track: col11_row6_field3_cell35\n",
      "saved track: col11_row6_field3_cell104\n"
     ]
    },
    {
     "name": "stderr",
     "output_type": "stream",
     "text": [
      "Even though the 'means_' attribute is set, it will be overwritten during initialization because 'init_params' contains 'm'\n"
     ]
    },
    {
     "name": "stdout",
     "output_type": "stream",
     "text": [
      "saved track: col11_row6_field3_cell106\n"
     ]
    },
    {
     "name": "stderr",
     "output_type": "stream",
     "text": [
      "Even though the 'means_' attribute is set, it will be overwritten during initialization because 'init_params' contains 'm'\n",
      "Even though the 'means_' attribute is set, it will be overwritten during initialization because 'init_params' contains 'm'\n",
      "Even though the 'means_' attribute is set, it will be overwritten during initialization because 'init_params' contains 'm'\n"
     ]
    },
    {
     "name": "stdout",
     "output_type": "stream",
     "text": [
      "saved track: col11_row6_field3_cell116\n"
     ]
    },
    {
     "name": "stderr",
     "output_type": "stream",
     "text": [
      "Even though the 'means_' attribute is set, it will be overwritten during initialization because 'init_params' contains 'm'\n",
      "Even though the 'means_' attribute is set, it will be overwritten during initialization because 'init_params' contains 'm'\n",
      "Even though the 'means_' attribute is set, it will be overwritten during initialization because 'init_params' contains 'm'\n"
     ]
    },
    {
     "name": "stdout",
     "output_type": "stream",
     "text": [
      "saved track: col11_row6_field3_cell142\n"
     ]
    },
    {
     "name": "stderr",
     "output_type": "stream",
     "text": [
      "Even though the 'means_' attribute is set, it will be overwritten during initialization because 'init_params' contains 'm'\n"
     ]
    },
    {
     "name": "stdout",
     "output_type": "stream",
     "text": [
      "saved track: col11_row6_field3_cell152\n"
     ]
    },
    {
     "name": "stderr",
     "output_type": "stream",
     "text": [
      "Even though the 'means_' attribute is set, it will be overwritten during initialization because 'init_params' contains 'm'\n"
     ]
    },
    {
     "name": "stdout",
     "output_type": "stream",
     "text": [
      "saved track: col11_row6_field3_cell178\n"
     ]
    },
    {
     "name": "stderr",
     "output_type": "stream",
     "text": [
      "Even though the 'means_' attribute is set, it will be overwritten during initialization because 'init_params' contains 'm'\n"
     ]
    },
    {
     "name": "stdout",
     "output_type": "stream",
     "text": [
      "saved track: col11_row6_field3_cell182\n"
     ]
    },
    {
     "name": "stderr",
     "output_type": "stream",
     "text": [
      "Even though the 'means_' attribute is set, it will be overwritten during initialization because 'init_params' contains 'm'\n",
      "Even though the 'means_' attribute is set, it will be overwritten during initialization because 'init_params' contains 'm'\n"
     ]
    },
    {
     "name": "stdout",
     "output_type": "stream",
     "text": [
      "saved track: col11_row6_field3_cell206\n"
     ]
    },
    {
     "name": "stderr",
     "output_type": "stream",
     "text": [
      "Even though the 'means_' attribute is set, it will be overwritten during initialization because 'init_params' contains 'm'\n",
      "Even though the 'means_' attribute is set, it will be overwritten during initialization because 'init_params' contains 'm'\n"
     ]
    },
    {
     "name": "stdout",
     "output_type": "stream",
     "text": [
      "saved track: col11_row6_field3_cell214\n"
     ]
    },
    {
     "name": "stderr",
     "output_type": "stream",
     "text": [
      "Even though the 'means_' attribute is set, it will be overwritten during initialization because 'init_params' contains 'm'\n"
     ]
    },
    {
     "name": "stdout",
     "output_type": "stream",
     "text": [
      "saved track: col11_row6_field3_cell215\n",
      "saved track: col11_row6_field3_cell221\n"
     ]
    },
    {
     "name": "stderr",
     "output_type": "stream",
     "text": [
      "Even though the 'means_' attribute is set, it will be overwritten during initialization because 'init_params' contains 'm'\n"
     ]
    },
    {
     "name": "stdout",
     "output_type": "stream",
     "text": [
      "saved track: col11_row6_field3_cell229\n"
     ]
    },
    {
     "name": "stderr",
     "output_type": "stream",
     "text": [
      "Even though the 'means_' attribute is set, it will be overwritten during initialization because 'init_params' contains 'm'\n"
     ]
    },
    {
     "name": "stdout",
     "output_type": "stream",
     "text": [
      "saved track: col11_row6_field3_cell231\n",
      "saved track: col11_row6_field3_cell309\n"
     ]
    },
    {
     "name": "stderr",
     "output_type": "stream",
     "text": [
      "Even though the 'means_' attribute is set, it will be overwritten during initialization because 'init_params' contains 'm'\n"
     ]
    },
    {
     "name": "stdout",
     "output_type": "stream",
     "text": [
      "saved track: col11_row6_field3_cell318\n"
     ]
    },
    {
     "name": "stderr",
     "output_type": "stream",
     "text": [
      "Even though the 'means_' attribute is set, it will be overwritten during initialization because 'init_params' contains 'm'\n"
     ]
    },
    {
     "name": "stdout",
     "output_type": "stream",
     "text": [
      "saved track: col11_row6_field3_cell322\n"
     ]
    },
    {
     "name": "stderr",
     "output_type": "stream",
     "text": [
      "Even though the 'means_' attribute is set, it will be overwritten during initialization because 'init_params' contains 'm'\n"
     ]
    },
    {
     "name": "stdout",
     "output_type": "stream",
     "text": [
      "saved track: col11_row6_field3_cell363\n"
     ]
    },
    {
     "name": "stderr",
     "output_type": "stream",
     "text": [
      "Even though the 'means_' attribute is set, it will be overwritten during initialization because 'init_params' contains 'm'\n"
     ]
    },
    {
     "name": "stdout",
     "output_type": "stream",
     "text": [
      "saved track: col11_row6_field3_cell361\n",
      "saved track: col11_row6_field3_cell364\n",
      "saved track: col11_row6_field3_cell369\n",
      "saved track: col11_row6_field3_cell376\n"
     ]
    },
    {
     "name": "stderr",
     "output_type": "stream",
     "text": [
      "Even though the 'means_' attribute is set, it will be overwritten during initialization because 'init_params' contains 'm'\n"
     ]
    },
    {
     "name": "stdout",
     "output_type": "stream",
     "text": [
      "saved track: col11_row6_field3_cell377\n"
     ]
    },
    {
     "name": "stderr",
     "output_type": "stream",
     "text": [
      "Even though the 'means_' attribute is set, it will be overwritten during initialization because 'init_params' contains 'm'\n"
     ]
    },
    {
     "name": "stdout",
     "output_type": "stream",
     "text": [
      "saved track: col11_row6_field3_cell378\n",
      "saved track: col11_row6_field3_cell387\n"
     ]
    },
    {
     "name": "stderr",
     "output_type": "stream",
     "text": [
      "Even though the 'means_' attribute is set, it will be overwritten during initialization because 'init_params' contains 'm'\n",
      "Even though the 'means_' attribute is set, it will be overwritten during initialization because 'init_params' contains 'm'\n"
     ]
    },
    {
     "name": "stdout",
     "output_type": "stream",
     "text": [
      "saved track: col11_row6_field3_cell409\n"
     ]
    },
    {
     "name": "stderr",
     "output_type": "stream",
     "text": [
      "Even though the 'means_' attribute is set, it will be overwritten during initialization because 'init_params' contains 'm'\n",
      "Even though the 'means_' attribute is set, it will be overwritten during initialization because 'init_params' contains 'm'\n"
     ]
    },
    {
     "name": "stdout",
     "output_type": "stream",
     "text": [
      "saved track: col11_row6_field3_cell415\n"
     ]
    },
    {
     "name": "stderr",
     "output_type": "stream",
     "text": [
      "Even though the 'means_' attribute is set, it will be overwritten during initialization because 'init_params' contains 'm'\n"
     ]
    },
    {
     "name": "stdout",
     "output_type": "stream",
     "text": [
      "saved track: col11_row6_field3_cell430\n"
     ]
    },
    {
     "name": "stderr",
     "output_type": "stream",
     "text": [
      "Even though the 'means_' attribute is set, it will be overwritten during initialization because 'init_params' contains 'm'\n"
     ]
    },
    {
     "name": "stdout",
     "output_type": "stream",
     "text": [
      "saved track: col11_row6_field3_cell428\n"
     ]
    },
    {
     "name": "stderr",
     "output_type": "stream",
     "text": [
      "/home/nciadmin/anaconda3/envs/hitips_ims_clone/lib/python3.9/site-packages/scipy/ndimage/_measurements.py:1535: RuntimeWarning: invalid value encountered in double_scalars\n",
      "  results = [sum(input * grids[dir].astype(float), labels, index) / normalizer\n",
      "/home/nciadmin/anaconda3/envs/hitips_ims_clone/lib/python3.9/site-packages/skimage/registration/_phase_cross_correlation.py:104: RuntimeWarning: invalid value encountered in cdouble_scalars\n",
      "  error = 1.0 - cross_correlation_max * cross_correlation_max.conj() /\\\n"
     ]
    },
    {
     "name": "stdout",
     "output_type": "stream",
     "text": [
      "saved track: col11_row6_field3_cell458\n"
     ]
    },
    {
     "name": "stderr",
     "output_type": "stream",
     "text": [
      "Even though the 'means_' attribute is set, it will be overwritten during initialization because 'init_params' contains 'm'\n"
     ]
    },
    {
     "name": "stdout",
     "output_type": "stream",
     "text": [
      "saved track: col11_row6_field3_cell456\n"
     ]
    },
    {
     "name": "stderr",
     "output_type": "stream",
     "text": [
      "Even though the 'means_' attribute is set, it will be overwritten during initialization because 'init_params' contains 'm'\n"
     ]
    },
    {
     "name": "stdout",
     "output_type": "stream",
     "text": [
      "saved track: col11_row6_field3_cell470\n"
     ]
    },
    {
     "name": "stderr",
     "output_type": "stream",
     "text": [
      "Even though the 'means_' attribute is set, it will be overwritten during initialization because 'init_params' contains 'm'\n"
     ]
    },
    {
     "name": "stdout",
     "output_type": "stream",
     "text": [
      "saved track: col11_row6_field3_cell512\n"
     ]
    },
    {
     "name": "stderr",
     "output_type": "stream",
     "text": [
      "Even though the 'means_' attribute is set, it will be overwritten during initialization because 'init_params' contains 'm'\n",
      "Even though the 'means_' attribute is set, it will be overwritten during initialization because 'init_params' contains 'm'\n"
     ]
    },
    {
     "name": "stdout",
     "output_type": "stream",
     "text": [
      "saved track: col11_row6_field3_cell518\n"
     ]
    },
    {
     "name": "stderr",
     "output_type": "stream",
     "text": [
      "Even though the 'means_' attribute is set, it will be overwritten during initialization because 'init_params' contains 'm'\n"
     ]
    },
    {
     "name": "stdout",
     "output_type": "stream",
     "text": [
      "saved track: col11_row6_field3_cell536\n"
     ]
    },
    {
     "name": "stderr",
     "output_type": "stream",
     "text": [
      "Even though the 'means_' attribute is set, it will be overwritten during initialization because 'init_params' contains 'm'\n",
      "Even though the 'means_' attribute is set, it will be overwritten during initialization because 'init_params' contains 'm'\n",
      "Even though the 'means_' attribute is set, it will be overwritten during initialization because 'init_params' contains 'm'\n"
     ]
    },
    {
     "name": "stdout",
     "output_type": "stream",
     "text": [
      "saved track: col11_row6_field3_cell544\n"
     ]
    },
    {
     "name": "stderr",
     "output_type": "stream",
     "text": [
      "Even though the 'means_' attribute is set, it will be overwritten during initialization because 'init_params' contains 'm'\n"
     ]
    },
    {
     "name": "stdout",
     "output_type": "stream",
     "text": [
      "saved track: col11_row6_field3_cell546\n"
     ]
    },
    {
     "name": "stderr",
     "output_type": "stream",
     "text": [
      "Even though the 'means_' attribute is set, it will be overwritten during initialization because 'init_params' contains 'm'\n",
      "Even though the 'means_' attribute is set, it will be overwritten during initialization because 'init_params' contains 'm'\n"
     ]
    },
    {
     "name": "stdout",
     "output_type": "stream",
     "text": [
      "saved track: col11_row6_field3_cell550\n",
      "saved track: col11_row6_field3_cell564\n"
     ]
    },
    {
     "name": "stderr",
     "output_type": "stream",
     "text": [
      "Even though the 'means_' attribute is set, it will be overwritten during initialization because 'init_params' contains 'm'\n",
      "Even though the 'means_' attribute is set, it will be overwritten during initialization because 'init_params' contains 'm'\n"
     ]
    },
    {
     "name": "stdout",
     "output_type": "stream",
     "text": [
      "saved track: col11_row6_field3_cell579\n",
      "saved track: col11_row6_field3_cell599\n"
     ]
    },
    {
     "name": "stderr",
     "output_type": "stream",
     "text": [
      "Even though the 'means_' attribute is set, it will be overwritten during initialization because 'init_params' contains 'm'\n",
      "Even though the 'means_' attribute is set, it will be overwritten during initialization because 'init_params' contains 'm'\n"
     ]
    },
    {
     "name": "stdout",
     "output_type": "stream",
     "text": [
      "saved track: col11_row6_field3_cell633\n",
      "saved track: col11_row6_field3_cell635\n",
      "saved track: col11_row6_field3_cell639\n",
      "saved track: col11_row6_field3_cell654\n"
     ]
    },
    {
     "name": "stderr",
     "output_type": "stream",
     "text": [
      "Even though the 'means_' attribute is set, it will be overwritten during initialization because 'init_params' contains 'm'\n",
      "Even though the 'means_' attribute is set, it will be overwritten during initialization because 'init_params' contains 'm'\n",
      "Even though the 'means_' attribute is set, it will be overwritten during initialization because 'init_params' contains 'm'\n",
      "Even though the 'means_' attribute is set, it will be overwritten during initialization because 'init_params' contains 'm'\n"
     ]
    },
    {
     "name": "stdout",
     "output_type": "stream",
     "text": [
      "saved track: col11_row6_field3_cell656\n",
      "saved track: col11_row6_field3_cell755\n"
     ]
    },
    {
     "name": "stderr",
     "output_type": "stream",
     "text": [
      "Even though the 'means_' attribute is set, it will be overwritten during initialization because 'init_params' contains 'm'\n",
      "Even though the 'means_' attribute is set, it will be overwritten during initialization because 'init_params' contains 'm'\n"
     ]
    },
    {
     "name": "stdout",
     "output_type": "stream",
     "text": [
      "saved track: col11_row6_field3_cell775\n"
     ]
    },
    {
     "name": "stderr",
     "output_type": "stream",
     "text": [
      "Even though the 'means_' attribute is set, it will be overwritten during initialization because 'init_params' contains 'm'\n"
     ]
    },
    {
     "name": "stdout",
     "output_type": "stream",
     "text": [
      "saved track: col11_row6_field3_cell812\n"
     ]
    },
    {
     "name": "stderr",
     "output_type": "stream",
     "text": [
      "Even though the 'means_' attribute is set, it will be overwritten during initialization because 'init_params' contains 'm'\n",
      "Even though the 'means_' attribute is set, it will be overwritten during initialization because 'init_params' contains 'm'\n"
     ]
    },
    {
     "name": "stdout",
     "output_type": "stream",
     "text": [
      "saved track: col11_row6_field3_cell848\n"
     ]
    },
    {
     "name": "stderr",
     "output_type": "stream",
     "text": [
      "Even though the 'means_' attribute is set, it will be overwritten during initialization because 'init_params' contains 'm'\n",
      "Even though the 'means_' attribute is set, it will be overwritten during initialization because 'init_params' contains 'm'\n"
     ]
    },
    {
     "name": "stdout",
     "output_type": "stream",
     "text": [
      "saved track: col11_row6_field3_cell870\n"
     ]
    },
    {
     "name": "stderr",
     "output_type": "stream",
     "text": [
      "Even though the 'means_' attribute is set, it will be overwritten during initialization because 'init_params' contains 'm'\n"
     ]
    },
    {
     "name": "stdout",
     "output_type": "stream",
     "text": [
      "saved track: col11_row6_field3_cell883\n",
      "saved track: col11_row6_field3_cell891\n"
     ]
    },
    {
     "name": "stderr",
     "output_type": "stream",
     "text": [
      "Even though the 'means_' attribute is set, it will be overwritten during initialization because 'init_params' contains 'm'\n"
     ]
    },
    {
     "name": "stdout",
     "output_type": "stream",
     "text": [
      "saved track: col11_row6_field3_cell923\n"
     ]
    },
    {
     "name": "stderr",
     "output_type": "stream",
     "text": [
      "Even though the 'means_' attribute is set, it will be overwritten during initialization because 'init_params' contains 'm'\n"
     ]
    },
    {
     "name": "stdout",
     "output_type": "stream",
     "text": [
      "saved track: col11_row6_field3_cell943\n"
     ]
    },
    {
     "name": "stderr",
     "output_type": "stream",
     "text": [
      "Even though the 'means_' attribute is set, it will be overwritten during initialization because 'init_params' contains 'm'\n"
     ]
    },
    {
     "name": "stdout",
     "output_type": "stream",
     "text": [
      "saved track: col11_row6_field3_cell977\n"
     ]
    },
    {
     "name": "stderr",
     "output_type": "stream",
     "text": [
      "Even though the 'means_' attribute is set, it will be overwritten during initialization because 'init_params' contains 'm'\n"
     ]
    },
    {
     "name": "stdout",
     "output_type": "stream",
     "text": [
      "saved track: col11_row6_field3_cell992\n"
     ]
    },
    {
     "name": "stderr",
     "output_type": "stream",
     "text": [
      "Even though the 'means_' attribute is set, it will be overwritten during initialization because 'init_params' contains 'm'\n"
     ]
    },
    {
     "name": "stdout",
     "output_type": "stream",
     "text": [
      "saved track: col11_row6_field3_cell1027\n"
     ]
    },
    {
     "name": "stderr",
     "output_type": "stream",
     "text": [
      "Even though the 'means_' attribute is set, it will be overwritten during initialization because 'init_params' contains 'm'\n"
     ]
    },
    {
     "name": "stdout",
     "output_type": "stream",
     "text": [
      "saved track: col11_row6_field3_cell1077\n"
     ]
    },
    {
     "name": "stderr",
     "output_type": "stream",
     "text": [
      "Even though the 'means_' attribute is set, it will be overwritten during initialization because 'init_params' contains 'm'\n",
      "Even though the 'means_' attribute is set, it will be overwritten during initialization because 'init_params' contains 'm'\n"
     ]
    },
    {
     "name": "stdout",
     "output_type": "stream",
     "text": [
      "saved track: col11_row6_field3_cell1096\n",
      "saved track: col11_row6_field3_cell1135\n",
      "saved track: col11_row6_field3_cell1300\n",
      "saved track: col11_row6_field3_cell1316\n"
     ]
    },
    {
     "name": "stderr",
     "output_type": "stream",
     "text": [
      "Even though the 'means_' attribute is set, it will be overwritten during initialization because 'init_params' contains 'm'\n"
     ]
    },
    {
     "name": "stdout",
     "output_type": "stream",
     "text": [
      "saved track: col11_row6_field3_cell1382\n"
     ]
    },
    {
     "name": "stderr",
     "output_type": "stream",
     "text": [
      "[INFO][2024/08/19 08:46:22 AM] btrack (v0.4.3) library imported\n",
      "[INFO][2024/08/19 08:46:22 AM] Setting max XYZ search radius to: 100\n",
      "[INFO][2024/08/19 08:46:22 AM] Starting BayesianTracker session\n",
      "[INFO][2024/08/19 08:46:22 AM] btrack (v0.4.3) library imported\n",
      "[INFO][2024/08/19 08:46:22 AM] Setting max XYZ search radius to: 100\n",
      "[INFO][2024/08/19 08:46:22 AM] Loading motion model: cell_motion\n",
      "[INFO][2024/08/19 08:46:22 AM] Setting max XYZ search radius to: 100\n",
      "[INFO][2024/08/19 08:46:22 AM] Starting tracking... \n",
      "[INFO][2024/08/19 08:46:22 AM] Tracking objects in frames 0 to 99 (of 504)...\n",
      "[INFO][2024/08/19 08:46:23 AM] Tracking objects in frames 100 to 199 (of 504)...\n",
      "[INFO][2024/08/19 08:46:23 AM] Tracking objects in frames 200 to 299 (of 504)...\n",
      "[INFO][2024/08/19 08:46:23 AM] Tracking objects in frames 300 to 399 (of 504)...\n",
      "[INFO][2024/08/19 08:46:23 AM] Tracking objects in frames 400 to 499 (of 504)...\n",
      "[INFO][2024/08/19 08:46:23 AM] Tracking objects in frames 500 to 504 (of 504)...\n",
      "[INFO][2024/08/19 08:46:23 AM] SUCCESS.\n",
      "[INFO][2024/08/19 08:46:23 AM]  - Found 1601 tracks in 504 frames (in 0.0s)\n",
      "[INFO][2024/08/19 08:46:23 AM]  - Inserted 430 dummy objects to fill tracking gaps\n",
      "[INFO][2024/08/19 08:46:23 AM] Loading hypothesis model: cell_hypothesis\n",
      "[INFO][2024/08/19 08:46:23 AM] Calculating hypotheses (relax: True)...\n",
      "[INFO][2024/08/19 08:46:23 AM]  - Fates.FALSE_POSITIVE: 476 (of 1601)\n",
      "[INFO][2024/08/19 08:46:23 AM]  - Fates.LINK: 745 (of 892)\n",
      "[INFO][2024/08/19 08:46:23 AM]  - Fates.DIVIDE: 8 (of 48)\n",
      "[INFO][2024/08/19 08:46:23 AM]  - Fates.INITIALIZE_BORDER: 101 (of 217)\n",
      "[INFO][2024/08/19 08:46:23 AM]  - Fates.INITIALIZE_FRONT: 84 (of 85)\n",
      "[INFO][2024/08/19 08:46:23 AM]  - Fates.INITIALIZE_LAZY: 179 (of 1299)\n",
      "[INFO][2024/08/19 08:46:23 AM]  - Fates.TERMINATE_BORDER: 110 (of 233)\n",
      "[INFO][2024/08/19 08:46:23 AM]  - Fates.TERMINATE_BACK: 88 (of 105)\n",
      "[INFO][2024/08/19 08:46:23 AM]  - Fates.TERMINATE_LAZY: 174 (of 1263)\n",
      "[INFO][2024/08/19 08:46:23 AM]  - TOTAL: 5743 hypotheses\n",
      "[INFO][2024/08/19 08:46:23 AM] Completed optimization with 856 tracks\n",
      "[INFO][2024/08/19 08:46:23 AM] Ending BayesianTracker session\n"
     ]
    },
    {
     "name": "stdout",
     "output_type": "stream",
     "text": [
      "GLPK Integer Optimizer 5.0\n",
      "6404 rows, 5743 columns, 8332 non-zeros\n",
      "5743 integer variables, all of which are binary\n",
      "Preprocessing...\n",
      "3202 rows, 5743 columns, 8332 non-zeros\n",
      "5743 integer variables, all of which are binary\n",
      "Scaling...\n",
      " A: min|aij| =  1.000e+00  max|aij| =  1.000e+00  ratio =  1.000e+00\n",
      "Problem data seem to be well scaled\n",
      "Constructing initial basis...\n",
      "Size of triangular part is 3202\n",
      "Solving LP relaxation...\n",
      "GLPK Simplex Optimizer 5.0\n",
      "3202 rows, 5743 columns, 8332 non-zeros\n",
      "*     0: obj =   1.882184019e+04 inf =   0.000e+00 (1956)\n",
      "Perturbing LP to avoid stalling [1128]...\n",
      "Removing LP perturbation [2028]...\n",
      "*  2028: obj =   5.744935943e+03 inf =   0.000e+00 (0)\n",
      "OPTIMAL LP SOLUTION FOUND\n",
      "Integer optimization begins...\n",
      "Long-step dual simplex will be used\n",
      "+  2028: mip =     not found yet >=              -inf        (1; 0)\n",
      "+  2028: >>>>>   5.744935943e+03 >=   5.744935943e+03   0.0% (1; 0)\n",
      "+  2028: mip =   5.744935943e+03 >=     tree is empty   0.0% (0; 1)\n",
      "INTEGER OPTIMAL SOLUTION FOUND\n",
      "field number:  4\n"
     ]
    },
    {
     "name": "stderr",
     "output_type": "stream",
     "text": [
      "Even though the 'means_' attribute is set, it will be overwritten during initialization because 'init_params' contains 'm'\n"
     ]
    },
    {
     "name": "stdout",
     "output_type": "stream",
     "text": [
      "saved track: col11_row6_field4_cell62\n"
     ]
    },
    {
     "name": "stderr",
     "output_type": "stream",
     "text": [
      "Even though the 'means_' attribute is set, it will be overwritten during initialization because 'init_params' contains 'm'\n",
      "Even though the 'means_' attribute is set, it will be overwritten during initialization because 'init_params' contains 'm'\n"
     ]
    },
    {
     "name": "stdout",
     "output_type": "stream",
     "text": [
      "saved track: col11_row6_field4_cell60\n"
     ]
    },
    {
     "name": "stderr",
     "output_type": "stream",
     "text": [
      "Even though the 'means_' attribute is set, it will be overwritten during initialization because 'init_params' contains 'm'\n"
     ]
    },
    {
     "name": "stdout",
     "output_type": "stream",
     "text": [
      "saved track: col11_row6_field4_cell53\n"
     ]
    },
    {
     "name": "stderr",
     "output_type": "stream",
     "text": [
      "Even though the 'means_' attribute is set, it will be overwritten during initialization because 'init_params' contains 'm'\n"
     ]
    },
    {
     "name": "stdout",
     "output_type": "stream",
     "text": [
      "saved track: col11_row6_field4_cell63\n"
     ]
    },
    {
     "name": "stderr",
     "output_type": "stream",
     "text": [
      "Even though the 'means_' attribute is set, it will be overwritten during initialization because 'init_params' contains 'm'\n",
      "Even though the 'means_' attribute is set, it will be overwritten during initialization because 'init_params' contains 'm'\n"
     ]
    },
    {
     "name": "stdout",
     "output_type": "stream",
     "text": [
      "saved track: col11_row6_field4_cell48\n"
     ]
    },
    {
     "name": "stderr",
     "output_type": "stream",
     "text": [
      "Even though the 'means_' attribute is set, it will be overwritten during initialization because 'init_params' contains 'm'\n"
     ]
    },
    {
     "name": "stdout",
     "output_type": "stream",
     "text": [
      "saved track: col11_row6_field4_cell47\n"
     ]
    },
    {
     "name": "stderr",
     "output_type": "stream",
     "text": [
      "Even though the 'means_' attribute is set, it will be overwritten during initialization because 'init_params' contains 'm'\n",
      "Even though the 'means_' attribute is set, it will be overwritten during initialization because 'init_params' contains 'm'\n",
      "Even though the 'means_' attribute is set, it will be overwritten during initialization because 'init_params' contains 'm'\n"
     ]
    },
    {
     "name": "stdout",
     "output_type": "stream",
     "text": [
      "saved track: col11_row6_field4_cell43\n"
     ]
    },
    {
     "name": "stderr",
     "output_type": "stream",
     "text": [
      "Even though the 'means_' attribute is set, it will be overwritten during initialization because 'init_params' contains 'm'\n",
      "Even though the 'means_' attribute is set, it will be overwritten during initialization because 'init_params' contains 'm'\n"
     ]
    },
    {
     "name": "stdout",
     "output_type": "stream",
     "text": [
      "saved track: col11_row6_field4_cell1\n"
     ]
    },
    {
     "name": "stderr",
     "output_type": "stream",
     "text": [
      "Even though the 'means_' attribute is set, it will be overwritten during initialization because 'init_params' contains 'm'\n"
     ]
    },
    {
     "name": "stdout",
     "output_type": "stream",
     "text": [
      "saved track: col11_row6_field4_cell79\n"
     ]
    },
    {
     "name": "stderr",
     "output_type": "stream",
     "text": [
      "Even though the 'means_' attribute is set, it will be overwritten during initialization because 'init_params' contains 'm'\n"
     ]
    },
    {
     "name": "stdout",
     "output_type": "stream",
     "text": [
      "saved track: col11_row6_field4_cell78\n"
     ]
    },
    {
     "name": "stderr",
     "output_type": "stream",
     "text": [
      "Even though the 'means_' attribute is set, it will be overwritten during initialization because 'init_params' contains 'm'\n"
     ]
    },
    {
     "name": "stdout",
     "output_type": "stream",
     "text": [
      "saved track: col11_row6_field4_cell76\n"
     ]
    },
    {
     "name": "stderr",
     "output_type": "stream",
     "text": [
      "/home/nciadmin/anaconda3/envs/hitips_ims_clone/lib/python3.9/site-packages/scipy/ndimage/_measurements.py:1535: RuntimeWarning: invalid value encountered in double_scalars\n",
      "  results = [sum(input * grids[dir].astype(float), labels, index) / normalizer\n",
      "/home/nciadmin/anaconda3/envs/hitips_ims_clone/lib/python3.9/site-packages/skimage/registration/_phase_cross_correlation.py:104: RuntimeWarning: invalid value encountered in cdouble_scalars\n",
      "  error = 1.0 - cross_correlation_max * cross_correlation_max.conj() /\\\n",
      "Even though the 'means_' attribute is set, it will be overwritten during initialization because 'init_params' contains 'm'\n",
      "Even though the 'means_' attribute is set, it will be overwritten during initialization because 'init_params' contains 'm'\n",
      "Even though the 'means_' attribute is set, it will be overwritten during initialization because 'init_params' contains 'm'\n",
      "Even though the 'means_' attribute is set, it will be overwritten during initialization because 'init_params' contains 'm'\n"
     ]
    },
    {
     "name": "stdout",
     "output_type": "stream",
     "text": [
      "saved track: col11_row6_field4_cell75\n"
     ]
    },
    {
     "name": "stderr",
     "output_type": "stream",
     "text": [
      "Even though the 'means_' attribute is set, it will be overwritten during initialization because 'init_params' contains 'm'\n",
      "Even though the 'means_' attribute is set, it will be overwritten during initialization because 'init_params' contains 'm'\n"
     ]
    },
    {
     "name": "stdout",
     "output_type": "stream",
     "text": [
      "saved track: col11_row6_field4_cell74\n"
     ]
    }
   ],
   "source": [
    "batch_analyzer.ON_APPLYBUTTON(meta_data_df)"
   ]
  },
  {
   "cell_type": "code",
   "execution_count": null,
   "id": "95a81c88-826e-43d7-bc90-01a54712e592",
   "metadata": {},
   "outputs": [],
   "source": []
  }
 ],
 "metadata": {
  "kernelspec": {
   "display_name": "Python 3 (ipykernel)",
   "language": "python",
   "name": "python3"
  },
  "language_info": {
   "codemirror_mode": {
    "name": "ipython",
    "version": 3
   },
   "file_extension": ".py",
   "mimetype": "text/x-python",
   "name": "python",
   "nbconvert_exporter": "python",
   "pygments_lexer": "ipython3",
   "version": "3.9.12"
  }
 },
 "nbformat": 4,
 "nbformat_minor": 5
}
