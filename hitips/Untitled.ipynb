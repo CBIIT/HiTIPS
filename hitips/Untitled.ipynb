{
 "cells": [
  {
   "cell_type": "code",
   "execution_count": 1,
   "id": "96333df8-bf5e-4a64-a92c-dc09d07be464",
   "metadata": {},
   "outputs": [
    {
     "ename": "ModuleNotFoundError",
     "evalue": "No module named 'GPUtil'",
     "output_type": "error",
     "traceback": [
      "\u001b[0;31m---------------------------------------------------------------------------\u001b[0m",
      "\u001b[0;31mModuleNotFoundError\u001b[0m                       Traceback (most recent call last)",
      "Cell \u001b[0;32mIn[1], line 1\u001b[0m\n\u001b[0;32m----> 1\u001b[0m \u001b[38;5;28;01mimport\u001b[39;00m \u001b[38;5;21;01mGPUtil\u001b[39;00m\n\u001b[1;32m      2\u001b[0m \u001b[38;5;28;01mimport\u001b[39;00m \u001b[38;5;21;01mpsutil\u001b[39;00m\n\u001b[1;32m      4\u001b[0m \u001b[38;5;28;01mdef\u001b[39;00m \u001b[38;5;21mget_gpu_info\u001b[39m():\n",
      "\u001b[0;31mModuleNotFoundError\u001b[0m: No module named 'GPUtil'"
     ]
    }
   ],
   "source": [
    "import GPUtil\n",
    "import psutil\n",
    "\n",
    "def get_gpu_info():\n",
    "    gpus = GPUtil.getGPUs()\n",
    "    return [{'GPU Name': gpu.name, 'GPU Total Memory': gpu.memoryTotal} for gpu in gpus]\n",
    "\n",
    "def get_ram_info():\n",
    "    ram = psutil.virtual_memory()\n",
    "    return {'Total RAM': ram.total}\n",
    "\n",
    "# Example usage\n",
    "gpu_info = get_gpu_info()\n",
    "ram_info = get_ram_info()\n",
    "\n",
    "print(\"GPU Information:\", gpu_info)\n",
    "print(\"RAM Information:\", ram_info)\n"
   ]
  },
  {
   "cell_type": "code",
   "execution_count": 2,
   "id": "825ca3d1-1ee3-4973-9bff-6a2dc00164db",
   "metadata": {
    "collapsed": true,
    "jupyter": {
     "outputs_hidden": true
    }
   },
   "outputs": [
    {
     "name": "stdout",
     "output_type": "stream",
     "text": [
      "Operating System: Darwin\n",
      "OS Version: Darwin Kernel Version 23.3.0: Wed Dec 20 21:28:58 PST 2023; root:xnu-10002.81.5~7/RELEASE_X86_64\n",
      "Processor: i386\n"
     ]
    }
   ],
   "source": [
    "import platform\n",
    "\n",
    "def get_basic_system_info():\n",
    "    os_type = platform.system()\n",
    "    os_version = platform.version()\n",
    "    processor = platform.processor()\n",
    "\n",
    "    return {\n",
    "        \"Operating System\": os_type,\n",
    "        \"OS Version\": os_version,\n",
    "        \"Processor\": processor\n",
    "    }\n",
    "\n",
    "# Call the function\n",
    "info = get_basic_system_info()\n",
    "for key, value in info.items():\n",
    "    print(f\"{key}: {value}\")"
   ]
  },
  {
   "cell_type": "code",
   "execution_count": 3,
   "id": "904028c7-b013-4b58-b97b-0c31d3fb47af",
   "metadata": {},
   "outputs": [
    {
     "ename": "SyntaxError",
     "evalue": "unexpected EOF while parsing (4068672485.py, line 1)",
     "output_type": "error",
     "traceback": [
      "\u001b[0;36m  Cell \u001b[0;32mIn[3], line 1\u001b[0;36m\u001b[0m\n\u001b[0;31m    if os.name == 'nt':\u001b[0m\n\u001b[0m                       ^\u001b[0m\n\u001b[0;31mSyntaxError\u001b[0m\u001b[0;31m:\u001b[0m unexpected EOF while parsing\n"
     ]
    }
   ],
   "source": [
    "if os.name == 'nt':"
   ]
  },
  {
   "cell_type": "code",
   "execution_count": 4,
   "id": "e5f4b679-da20-463b-950a-a02eca95fa75",
   "metadata": {},
   "outputs": [
    {
     "data": {
      "text/plain": [
       "'posix'"
      ]
     },
     "execution_count": 4,
     "metadata": {},
     "output_type": "execute_result"
    }
   ],
   "source": [
    "import os\n",
    "os.name"
   ]
  },
  {
   "cell_type": "code",
   "execution_count": 5,
   "id": "0880254c-7494-4c0d-86db-0a2348e591b3",
   "metadata": {},
   "outputs": [
    {
     "name": "stdout",
     "output_type": "stream",
     "text": [
      "yes\n"
     ]
    }
   ],
   "source": [
    "if (os.name == 'nt')|(os.name == 'posix'):\n",
    "    print('yes')"
   ]
  },
  {
   "cell_type": "code",
   "execution_count": 1,
   "id": "39b85c23-0105-4f38-818f-b700f60f3832",
   "metadata": {},
   "outputs": [],
   "source": [
    "import shutil\n"
   ]
  },
  {
   "cell_type": "code",
   "execution_count": 2,
   "id": "8ee7b664-aa12-42c2-aa0d-6d5c78266d13",
   "metadata": {},
   "outputs": [
    {
     "ename": "NameError",
     "evalue": "name 'remove_readonly' is not defined",
     "output_type": "error",
     "traceback": [
      "\u001b[0;31m---------------------------------------------------------------------------\u001b[0m",
      "\u001b[0;31mNameError\u001b[0m                                 Traceback (most recent call last)",
      "Cell \u001b[0;32mIn[2], line 1\u001b[0m\n\u001b[0;32m----> 1\u001b[0m shutil\u001b[38;5;241m.\u001b[39mrmtree(\u001b[38;5;124m\"\u001b[39m\u001b[38;5;124m/Users/keikhosravia2/Desktop/new_results1/200830-FSA-PLATE1-EXP081720_20200830_202053/temp\u001b[39m\u001b[38;5;124m\"\u001b[39m, onerror\u001b[38;5;241m=\u001b[39m\u001b[43mremove_readonly\u001b[49m)\n",
      "\u001b[0;31mNameError\u001b[0m: name 'remove_readonly' is not defined"
     ]
    }
   ],
   "source": [
    "shutil.rmtree(\"/Users/keikhosravia2/Desktop/new_results1/200830-FSA-PLATE1-EXP081720_20200830_202053/temp\", onerror=remove_readonly)"
   ]
  },
  {
   "cell_type": "code",
   "execution_count": null,
   "id": "f7477669-0d48-43cb-b682-df6ced85977c",
   "metadata": {},
   "outputs": [],
   "source": []
  }
 ],
 "metadata": {
  "kernelspec": {
   "display_name": "Python 3 (ipykernel)",
   "language": "python",
   "name": "python3"
  },
  "language_info": {
   "codemirror_mode": {
    "name": "ipython",
    "version": 3
   },
   "file_extension": ".py",
   "mimetype": "text/x-python",
   "name": "python",
   "nbconvert_exporter": "python",
   "pygments_lexer": "ipython3",
   "version": "3.8.18"
  }
 },
 "nbformat": 4,
 "nbformat_minor": 5
}
