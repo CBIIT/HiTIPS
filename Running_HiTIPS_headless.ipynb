{
 "cells": [
  {
   "cell_type": "code",
   "execution_count": null,
   "id": "2afeaccc-df58-4f4b-9df7-66ebd7ffc34f",
   "metadata": {
    "tags": []
   },
   "outputs": [],
   "source": [
    "import hitips.Analysis as analysis\n",
    "import hitips.BatchAnalyzer as batch_process\n",
    "import hitips.Cell_Spot_Tracker as cell_tracker\n",
    "import hitips.GUI_parameters as params\n",
    "import hitips.HiTIPS\n",
    "import hitips.MetaData_Reader as MDR\n",
    "import pandas as pd\n",
    "from headless_configs import headless_config_loader"
   ]
  },
  {
   "cell_type": "markdown",
   "id": "617b29d7-ce89-4c98-b875-5527a420bd0f",
   "metadata": {},
   "source": [
    "## Read the MetaData"
   ]
  },
  {
   "cell_type": "code",
   "execution_count": null,
   "id": "52f72530-6556-49c3-9339-e35ce515e03c",
   "metadata": {
    "tags": []
   },
   "outputs": [],
   "source": [
    "image_reader = MDR.ImageReader()\n",
    "meta_data_df = image_reader.READ_FROM_METADATA(\"/PATH/TO/YOUR/MeasurementData.mlf\")"
   ]
  },
  {
   "cell_type": "markdown",
   "id": "9c1ec33b-2c97-4c79-b4cc-7d9d282efe4e",
   "metadata": {},
   "source": [
    "## Read the Configuratrion file"
   ]
  },
  {
   "cell_type": "code",
   "execution_count": null,
   "id": "7f8958cc-26d5-4e66-9195-abb1c816b57f",
   "metadata": {
    "tags": []
   },
   "outputs": [],
   "source": [
    "batch_analyzer = batch_process.BatchAnalysis()\n",
    "config_file = \"/PATH/TO/YOUR/CONFIGURATION_FILE.csv\"\n",
    "batch_analyzer.params_dict = headless_config_loader(config_file)"
   ]
  },
  {
   "cell_type": "markdown",
   "id": "e84b5c2b-8885-4843-9537-7a09ab7a894b",
   "metadata": {},
   "source": [
    "## Set output directory"
   ]
  },
  {
   "cell_type": "code",
   "execution_count": null,
   "id": "54ccfc2d-d0a7-4d2a-82f3-6944b574aac0",
   "metadata": {},
   "outputs": [],
   "source": [
    "output_path = '/PATH/TO/OUTPUT'\n",
    "batch_analyzer.output_folder = output_path\n",
    "batch_analyzer.params_dict['Output_dir'] = output_path"
   ]
  },
  {
   "cell_type": "markdown",
   "id": "d65fc167-17d9-42f3-84ff-3920377c5c8d",
   "metadata": {},
   "source": [
    "## Run the analysis"
   ]
  },
  {
   "cell_type": "code",
   "execution_count": null,
   "id": "65377ba6-93c9-4994-9dda-d0a421d161b4",
   "metadata": {
    "tags": []
   },
   "outputs": [],
   "source": [
    "batch_analyzer.ON_APPLYBUTTON(meta_data_df)"
   ]
  },
  {
   "cell_type": "code",
   "execution_count": null,
   "id": "95a81c88-826e-43d7-bc90-01a54712e592",
   "metadata": {},
   "outputs": [],
   "source": []
  }
 ],
 "metadata": {
  "kernelspec": {
   "display_name": "Python 3 (ipykernel)",
   "language": "python",
   "name": "python3"
  },
  "language_info": {
   "codemirror_mode": {
    "name": "ipython",
    "version": 3
   },
   "file_extension": ".py",
   "mimetype": "text/x-python",
   "name": "python",
   "nbconvert_exporter": "python",
   "pygments_lexer": "ipython3",
   "version": "3.9.12"
  }
 },
 "nbformat": 4,
 "nbformat_minor": 5
}
